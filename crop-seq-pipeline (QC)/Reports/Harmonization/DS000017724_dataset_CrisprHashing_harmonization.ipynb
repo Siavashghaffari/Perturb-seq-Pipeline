{
 "cells": [
  {
   "cell_type": "code",
   "execution_count": 1,
   "id": "3d95a7d2",
   "metadata": {
    "execution": {
     "iopub.execute_input": "2024-07-03T16:08:07.524259Z",
     "iopub.status.busy": "2024-07-03T16:08:07.523609Z",
     "iopub.status.idle": "2024-07-03T16:08:07.530349Z",
     "shell.execute_reply": "2024-07-03T16:08:07.529869Z"
    },
    "papermill": {
     "duration": 0.013769,
     "end_time": "2024-07-03T16:08:07.531601",
     "exception": false,
     "start_time": "2024-07-03T16:08:07.517832",
     "status": "completed"
    },
    "tags": [
     "injected-parameters"
    ]
   },
   "outputs": [],
   "source": [
    "# Parameters\n",
    "DatasetID = \"DS000017724\"\n",
    "DEV = False\n",
    "test_DatasetID = \"\"\n",
    "DS_test = False\n",
    "title = \"Recursion DLD1 Library3- Screen2 (NGS5888)\"\n",
    "description = \"Production scale screen in DLD-1 cells with 1/4 of the genome-wide CRISPR library (sub-lib-3, ~22K guides). 1 time point: Day-5. We performed 24 rxns of 10x 3' HT kit with an estimated loading of 52K cells. We performed a pilot study to test the library quality before the production-level sequencing. We will submit 72 libraries (24 GEX, 24 HTO and 24 sgRNA) We request 600M reads for GEX, 20M for HTO and 40M for sgRNA, after finishing QC sequencing of NGS5887. NGS has built the GEX and sgRNA libraries using automation, we will provide manually constructed HTO libraries.\"\n",
    "name_space = [{\"id\": \"GRCh38\", \"type\": \"genome\"}]\n",
    "organism = \"human\"\n",
    "sources = [{\"id\": \"Siavash-1234\", \"name\": \"Geo-ID\"}]\n",
    "tech_name = \"scRNA-seq\"\n",
    "author = \"SG\"\n",
    "your_experiment = \"main\"\n"
   ]
  },
  {
   "cell_type": "markdown",
   "id": "4b92a28f",
   "metadata": {
    "papermill": {
     "duration": 0.0051,
     "end_time": "2024-07-03T16:08:07.542612",
     "exception": false,
     "start_time": "2024-07-03T16:08:07.537512",
     "status": "completed"
    },
    "tags": []
   },
   "source": [
    "# Dataset Crispr Hashing Harmonization: This Notebook retrieves a dataset, creates a new experiment for cripr and hashing information comnied together and then updates the dataset with new experiment of cripr and hashing harmonized "
   ]
  },
  {
   "cell_type": "markdown",
   "id": "39e6a275",
   "metadata": {
    "papermill": {
     "duration": 0.004276,
     "end_time": "2024-07-03T16:08:07.551678",
     "exception": false,
     "start_time": "2024-07-03T16:08:07.547402",
     "status": "completed"
    },
    "tags": []
   },
   "source": [
    "## 1. A little bit of set-up"
   ]
  },
  {
   "cell_type": "markdown",
   "id": "7aa5f3a3",
   "metadata": {
    "papermill": {
     "duration": 0.004058,
     "end_time": "2024-07-03T16:08:07.559856",
     "exception": false,
     "start_time": "2024-07-03T16:08:07.555798",
     "status": "completed"
    },
    "tags": []
   },
   "source": [
    "#### Please insert your inputs"
   ]
  },
  {
   "cell_type": "code",
   "execution_count": 2,
   "id": "1790187c",
   "metadata": {
    "execution": {
     "iopub.execute_input": "2024-07-03T16:08:07.569309Z",
     "iopub.status.busy": "2024-07-03T16:08:07.568719Z",
     "iopub.status.idle": "2024-07-03T16:08:07.572125Z",
     "shell.execute_reply": "2024-07-03T16:08:07.571641Z"
    },
    "papermill": {
     "duration": 0.009432,
     "end_time": "2024-07-03T16:08:07.573352",
     "exception": false,
     "start_time": "2024-07-03T16:08:07.563920",
     "status": "completed"
    },
    "tags": []
   },
   "outputs": [],
   "source": [
    "DSID = DatasetID\n",
    "Version = '3'   # the version of your dataset\n",
    "Version2 = '2' \n",
    "New_experiment = \"crispr_hashing_harmonized\" # A string that is a key known for the updated data saved by that that name"
   ]
  },
  {
   "cell_type": "code",
   "execution_count": 3,
   "id": "ba0cc105",
   "metadata": {
    "execution": {
     "iopub.execute_input": "2024-07-03T16:08:07.583202Z",
     "iopub.status.busy": "2024-07-03T16:08:07.583023Z",
     "iopub.status.idle": "2024-07-03T16:08:14.006054Z",
     "shell.execute_reply": "2024-07-03T16:08:14.004815Z"
    },
    "papermill": {
     "duration": 6.43017,
     "end_time": "2024-07-03T16:08:14.008134",
     "exception": false,
     "start_time": "2024-07-03T16:08:07.577964",
     "status": "completed"
    },
    "tags": []
   },
   "outputs": [],
   "source": [
    "import sys\n",
    "sys.path.append(\"..\")\n",
    "import Templates.tools.DatasetDB as DB\n",
    "import Templates.tools.scHarmony as Hproc"
   ]
  },
  {
   "cell_type": "markdown",
   "id": "9f3815c9",
   "metadata": {
    "papermill": {
     "duration": 0.004969,
     "end_time": "2024-07-03T16:08:14.019548",
     "exception": false,
     "start_time": "2024-07-03T16:08:14.014579",
     "status": "completed"
    },
    "tags": []
   },
   "source": [
    "## Instantiate a dataset object given our dataset info"
   ]
  },
  {
   "cell_type": "code",
   "execution_count": 4,
   "id": "f73e0229",
   "metadata": {
    "execution": {
     "iopub.execute_input": "2024-07-03T16:08:14.032214Z",
     "iopub.status.busy": "2024-07-03T16:08:14.031303Z",
     "iopub.status.idle": "2024-07-03T16:08:14.036292Z",
     "shell.execute_reply": "2024-07-03T16:08:14.035766Z"
    },
    "papermill": {
     "duration": 0.011281,
     "end_time": "2024-07-03T16:08:14.037352",
     "exception": false,
     "start_time": "2024-07-03T16:08:14.026071",
     "status": "completed"
    },
    "tags": []
   },
   "outputs": [],
   "source": [
    "DS = DB.DATASET(DSID, DEV, title=title, description=description, name_space=name_space, organism=organism,\n",
    "                       sources=sources, tech_name=tech_name, author=author)"
   ]
  },
  {
   "cell_type": "markdown",
   "id": "8b0cef9e",
   "metadata": {
    "papermill": {
     "duration": 0.004132,
     "end_time": "2024-07-03T16:08:14.045841",
     "exception": false,
     "start_time": "2024-07-03T16:08:14.041709",
     "status": "completed"
    },
    "tags": []
   },
   "source": [
    "## 2. Access and collect Dataset"
   ]
  },
  {
   "cell_type": "code",
   "execution_count": 5,
   "id": "c0efa0c9",
   "metadata": {
    "execution": {
     "iopub.execute_input": "2024-07-03T16:08:14.055221Z",
     "iopub.status.busy": "2024-07-03T16:08:14.054743Z",
     "iopub.status.idle": "2024-07-03T16:08:18.922428Z",
     "shell.execute_reply": "2024-07-03T16:08:18.921808Z"
    },
    "papermill": {
     "duration": 4.874618,
     "end_time": "2024-07-03T16:08:18.924549",
     "exception": false,
     "start_time": "2024-07-03T16:08:14.049931",
     "status": "completed"
    },
    "tags": []
   },
   "outputs": [
    {
     "name": "stdout",
     "output_type": "stream",
     "text": [
      "\n",
      "09:08:14 -> Collating dataset: 'DS000017724' metadata.\n",
      "09:08:14 -> Retrieving all project: 'DS000017724@3' metadata.\n",
      "\n",
      "09:08:14 -> Reading: 'DS000017724'.\n",
      "\n",
      "09:08:14 -> Reading: 'DS000017724 -> Experiment: main'.\n",
      "\n",
      "09:08:14 -> Reading: 'DS000017724 -> Experiment: main -> Alt. Exp.: crispr'.\n",
      "\n",
      "09:08:15 -> Reading: 'DS000017724 -> Experiment: main -> Alt. Exp.: hashing'.\n"
     ]
    }
   ],
   "source": [
    "adata, adatas = DS.load_dataset(Version, your_experiment, Corr=True)"
   ]
  },
  {
   "cell_type": "code",
   "execution_count": 6,
   "id": "4485c07c",
   "metadata": {
    "execution": {
     "iopub.execute_input": "2024-07-03T16:08:18.936914Z",
     "iopub.status.busy": "2024-07-03T16:08:18.936621Z",
     "iopub.status.idle": "2024-07-03T16:08:18.942484Z",
     "shell.execute_reply": "2024-07-03T16:08:18.942043Z"
    },
    "papermill": {
     "duration": 0.012701,
     "end_time": "2024-07-03T16:08:18.943758",
     "exception": false,
     "start_time": "2024-07-03T16:08:18.931057",
     "status": "completed"
    },
    "tags": []
   },
   "outputs": [
    {
     "data": {
      "text/plain": [
       "AnnData object with n_obs × n_vars = 108700 × 36603\n",
       "    obs: 'Sample', 'Barcode', 'demux_type', 'assignment', 'cellline', 'timepoint', 'HTO', 'NGS_ID', 'Biological_replicate', 'sublibrary', 'gRNA_library_MOI', 'demux_type_v2', 'assignment_v2', 'gene_symbol', 'class'\n",
       "    var: 'ID', 'Symbol', 'Type'\n",
       "    uns: 'genome', 'modality', 'uns_dict', 'uid', 'adt_summary', '.internal'\n",
       "    layers: 'counts'"
      ]
     },
     "execution_count": 6,
     "metadata": {},
     "output_type": "execute_result"
    }
   ],
   "source": [
    "adata"
   ]
  },
  {
   "cell_type": "code",
   "execution_count": 7,
   "id": "8b2e1260",
   "metadata": {
    "execution": {
     "iopub.execute_input": "2024-07-03T16:08:18.953668Z",
     "iopub.status.busy": "2024-07-03T16:08:18.953440Z",
     "iopub.status.idle": "2024-07-03T16:08:18.957020Z",
     "shell.execute_reply": "2024-07-03T16:08:18.956563Z"
    },
    "papermill": {
     "duration": 0.009915,
     "end_time": "2024-07-03T16:08:18.958336",
     "exception": false,
     "start_time": "2024-07-03T16:08:18.948421",
     "status": "completed"
    },
    "tags": []
   },
   "outputs": [
    {
     "data": {
      "text/plain": [
       "{'crispr': AnnData object with n_obs × n_vars = 108700 × 20345\n",
       "     uns: '.internal'\n",
       "     layers: 'counts',\n",
       " 'hashing': AnnData object with n_obs × n_vars = 108700 × 19\n",
       "     uns: '.internal'\n",
       "     layers: 'counts'}"
      ]
     },
     "execution_count": 7,
     "metadata": {},
     "output_type": "execute_result"
    }
   ],
   "source": [
    "adatas"
   ]
  },
  {
   "cell_type": "markdown",
   "id": "8b0b8d48",
   "metadata": {
    "papermill": {
     "duration": 0.004421,
     "end_time": "2024-07-03T16:08:18.967314",
     "exception": false,
     "start_time": "2024-07-03T16:08:18.962893",
     "status": "completed"
    },
    "tags": []
   },
   "source": [
    "### Checking the dataset"
   ]
  },
  {
   "cell_type": "code",
   "execution_count": 8,
   "id": "c1c09edb",
   "metadata": {
    "execution": {
     "iopub.execute_input": "2024-07-03T16:08:18.977176Z",
     "iopub.status.busy": "2024-07-03T16:08:18.976813Z",
     "iopub.status.idle": "2024-07-03T16:08:18.995135Z",
     "shell.execute_reply": "2024-07-03T16:08:18.994709Z"
    },
    "papermill": {
     "duration": 0.026928,
     "end_time": "2024-07-03T16:08:18.998694",
     "exception": false,
     "start_time": "2024-07-03T16:08:18.971766",
     "status": "completed"
    },
    "tags": []
   },
   "outputs": [
    {
     "data": {
      "text/html": [
       "<div>\n",
       "<style scoped>\n",
       "    .dataframe tbody tr th:only-of-type {\n",
       "        vertical-align: middle;\n",
       "    }\n",
       "\n",
       "    .dataframe tbody tr th {\n",
       "        vertical-align: top;\n",
       "    }\n",
       "\n",
       "    .dataframe thead th {\n",
       "        text-align: right;\n",
       "    }\n",
       "</style>\n",
       "<table border=\"1\" class=\"dataframe\">\n",
       "  <thead>\n",
       "    <tr style=\"text-align: right;\">\n",
       "      <th></th>\n",
       "      <th>Sample</th>\n",
       "      <th>Barcode</th>\n",
       "      <th>demux_type</th>\n",
       "      <th>assignment</th>\n",
       "      <th>cellline</th>\n",
       "      <th>timepoint</th>\n",
       "      <th>HTO</th>\n",
       "      <th>NGS_ID</th>\n",
       "      <th>Biological_replicate</th>\n",
       "      <th>sublibrary</th>\n",
       "      <th>gRNA_library_MOI</th>\n",
       "      <th>demux_type_v2</th>\n",
       "      <th>assignment_v2</th>\n",
       "      <th>gene_symbol</th>\n",
       "      <th>class</th>\n",
       "    </tr>\n",
       "  </thead>\n",
       "  <tbody>\n",
       "    <tr>\n",
       "      <th>SAM24456643_rep5-AAACCCAAGAGGTCAC</th>\n",
       "      <td>SAM24456643_rep5</td>\n",
       "      <td>AAACCCAAGAGGTCAC</td>\n",
       "      <td>doublet</td>\n",
       "      <td>ENSG00000176171_3,ENSG00000243811_3</td>\n",
       "      <td>DLD1</td>\n",
       "      <td>day5</td>\n",
       "      <td>HTO-14</td>\n",
       "      <td>NGS5888</td>\n",
       "      <td>SAM24439044</td>\n",
       "      <td>GMTY210:cropseq.crisprko.cas9.human.lib3.conce...</td>\n",
       "      <td>0.5</td>\n",
       "      <td>singlet</td>\n",
       "      <td>SAM24439044</td>\n",
       "      <td>ENSG00000176171_3,ENSG00000243811_3</td>\n",
       "      <td>ENSG00000176171_3,ENSG00000243811_3</td>\n",
       "    </tr>\n",
       "    <tr>\n",
       "      <th>SAM24456643_rep5-AAACCCAAGCCTGCCA</th>\n",
       "      <td>SAM24456643_rep5</td>\n",
       "      <td>AAACCCAAGCCTGCCA</td>\n",
       "      <td>singlet</td>\n",
       "      <td>ENSG00000134313_4</td>\n",
       "      <td>DLD1</td>\n",
       "      <td>day5</td>\n",
       "      <td>HTO-1</td>\n",
       "      <td>NGS5888</td>\n",
       "      <td>SAM24439043</td>\n",
       "      <td>GMTY210:cropseq.crisprko.cas9.human.lib3.conce...</td>\n",
       "      <td>0.5</td>\n",
       "      <td>singlet</td>\n",
       "      <td>SAM24439043</td>\n",
       "      <td>KIDINS220</td>\n",
       "      <td>target</td>\n",
       "    </tr>\n",
       "    <tr>\n",
       "      <th>SAM24456643_rep5-AAACCCAAGCTGTCCG</th>\n",
       "      <td>SAM24456643_rep5</td>\n",
       "      <td>AAACCCAAGCTGTCCG</td>\n",
       "      <td>unknown</td>\n",
       "      <td>unknown</td>\n",
       "      <td>DLD1</td>\n",
       "      <td>day5</td>\n",
       "      <td>HTO-8</td>\n",
       "      <td>NGS5888</td>\n",
       "      <td>SAM24439045</td>\n",
       "      <td>GMTY210:cropseq.crisprko.cas9.human.lib3.conce...</td>\n",
       "      <td>0.5</td>\n",
       "      <td>singlet</td>\n",
       "      <td>SAM24439045</td>\n",
       "      <td>unknown</td>\n",
       "      <td>unknown</td>\n",
       "    </tr>\n",
       "    <tr>\n",
       "      <th>SAM24456643_rep5-AAACCCAAGGTTCACT</th>\n",
       "      <td>SAM24456643_rep5</td>\n",
       "      <td>AAACCCAAGGTTCACT</td>\n",
       "      <td>singlet</td>\n",
       "      <td>ENSG00000206538_3</td>\n",
       "      <td>DLD1</td>\n",
       "      <td>day5</td>\n",
       "      <td>HTO-5</td>\n",
       "      <td>NGS5888</td>\n",
       "      <td>SAM24439044</td>\n",
       "      <td>GMTY210:cropseq.crisprko.cas9.human.lib3.conce...</td>\n",
       "      <td>0.5</td>\n",
       "      <td>singlet</td>\n",
       "      <td>SAM24439044</td>\n",
       "      <td>VGLL3</td>\n",
       "      <td>target</td>\n",
       "    </tr>\n",
       "    <tr>\n",
       "      <th>SAM24456643_rep5-AAACCCAAGGTTGGAC</th>\n",
       "      <td>SAM24456643_rep5</td>\n",
       "      <td>AAACCCAAGGTTGGAC</td>\n",
       "      <td>doublet</td>\n",
       "      <td>ENSG00000223611_1,ENSG00000142549_4</td>\n",
       "      <td>DLD1</td>\n",
       "      <td>day5</td>\n",
       "      <td>HTO-2</td>\n",
       "      <td>NGS5888</td>\n",
       "      <td>SAM24439043</td>\n",
       "      <td>GMTY210:cropseq.crisprko.cas9.human.lib3.conce...</td>\n",
       "      <td>0.5</td>\n",
       "      <td>singlet</td>\n",
       "      <td>SAM24439043</td>\n",
       "      <td>ENSG00000223611_1,ENSG00000142549_4</td>\n",
       "      <td>ENSG00000223611_1,ENSG00000142549_4</td>\n",
       "    </tr>\n",
       "    <tr>\n",
       "      <th>...</th>\n",
       "      <td>...</td>\n",
       "      <td>...</td>\n",
       "      <td>...</td>\n",
       "      <td>...</td>\n",
       "      <td>...</td>\n",
       "      <td>...</td>\n",
       "      <td>...</td>\n",
       "      <td>...</td>\n",
       "      <td>...</td>\n",
       "      <td>...</td>\n",
       "      <td>...</td>\n",
       "      <td>...</td>\n",
       "      <td>...</td>\n",
       "      <td>...</td>\n",
       "      <td>...</td>\n",
       "    </tr>\n",
       "    <tr>\n",
       "      <th>SAM24456643_rep8-TTTGTTGTCAGGGATG</th>\n",
       "      <td>SAM24456643_rep8</td>\n",
       "      <td>TTTGTTGTCAGGGATG</td>\n",
       "      <td>unknown</td>\n",
       "      <td>unknown</td>\n",
       "      <td>unknown</td>\n",
       "      <td>unknown</td>\n",
       "      <td>unknown</td>\n",
       "      <td>unknown</td>\n",
       "      <td>unknown</td>\n",
       "      <td>unknown</td>\n",
       "      <td>unknown</td>\n",
       "      <td>unknown</td>\n",
       "      <td>unknown</td>\n",
       "      <td>unknown</td>\n",
       "      <td>unknown</td>\n",
       "    </tr>\n",
       "    <tr>\n",
       "      <th>SAM24456643_rep8-TTTGTTGTCCATCGTC</th>\n",
       "      <td>SAM24456643_rep8</td>\n",
       "      <td>TTTGTTGTCCATCGTC</td>\n",
       "      <td>singlet</td>\n",
       "      <td>ENSG00000136273_2</td>\n",
       "      <td>DLD1</td>\n",
       "      <td>day5</td>\n",
       "      <td>HTO-6</td>\n",
       "      <td>NGS5888</td>\n",
       "      <td>SAM24439044</td>\n",
       "      <td>GMTY210:cropseq.crisprko.cas9.human.lib3.conce...</td>\n",
       "      <td>0.5</td>\n",
       "      <td>singlet</td>\n",
       "      <td>SAM24439044</td>\n",
       "      <td>HUS1</td>\n",
       "      <td>target</td>\n",
       "    </tr>\n",
       "    <tr>\n",
       "      <th>SAM24456643_rep8-TTTGTTGTCGATCCAA</th>\n",
       "      <td>SAM24456643_rep8</td>\n",
       "      <td>TTTGTTGTCGATCCAA</td>\n",
       "      <td>doublet</td>\n",
       "      <td>ENSG00000198108_1,ENSG00000178187_3,ENSG000001...</td>\n",
       "      <td>DLD1</td>\n",
       "      <td>day5</td>\n",
       "      <td>HTO-13</td>\n",
       "      <td>NGS5888</td>\n",
       "      <td>SAM24439044</td>\n",
       "      <td>GMTY210:cropseq.crisprko.cas9.human.lib3.conce...</td>\n",
       "      <td>0.5</td>\n",
       "      <td>singlet</td>\n",
       "      <td>SAM24439044</td>\n",
       "      <td>ENSG00000198108_1,ENSG00000178187_3,ENSG000001...</td>\n",
       "      <td>ENSG00000198108_1,ENSG00000178187_3,ENSG000001...</td>\n",
       "    </tr>\n",
       "    <tr>\n",
       "      <th>SAM24456643_rep8-TTTGTTGTCGCGGACT</th>\n",
       "      <td>SAM24456643_rep8</td>\n",
       "      <td>TTTGTTGTCGCGGACT</td>\n",
       "      <td>doublet</td>\n",
       "      <td>ENSG00000276405_1,ENSG00000128891_1</td>\n",
       "      <td>DLD1</td>\n",
       "      <td>day5</td>\n",
       "      <td>HTO-1</td>\n",
       "      <td>NGS5888</td>\n",
       "      <td>SAM24439043</td>\n",
       "      <td>GMTY210:cropseq.crisprko.cas9.human.lib3.conce...</td>\n",
       "      <td>0.5</td>\n",
       "      <td>singlet</td>\n",
       "      <td>SAM24439043</td>\n",
       "      <td>ENSG00000276405_1,ENSG00000128891_1</td>\n",
       "      <td>ENSG00000276405_1,ENSG00000128891_1</td>\n",
       "    </tr>\n",
       "    <tr>\n",
       "      <th>SAM24456643_rep8-TTTGTTGTCTAGGCAT</th>\n",
       "      <td>SAM24456643_rep8</td>\n",
       "      <td>TTTGTTGTCTAGGCAT</td>\n",
       "      <td>unknown</td>\n",
       "      <td>unknown</td>\n",
       "      <td>unknown</td>\n",
       "      <td>unknown</td>\n",
       "      <td>unknown</td>\n",
       "      <td>unknown</td>\n",
       "      <td>unknown</td>\n",
       "      <td>unknown</td>\n",
       "      <td>unknown</td>\n",
       "      <td>unknown</td>\n",
       "      <td>unknown</td>\n",
       "      <td>unknown</td>\n",
       "      <td>unknown</td>\n",
       "    </tr>\n",
       "  </tbody>\n",
       "</table>\n",
       "<p>108700 rows × 15 columns</p>\n",
       "</div>"
      ],
      "text/plain": [
       "                                             Sample           Barcode  \\\n",
       "SAM24456643_rep5-AAACCCAAGAGGTCAC  SAM24456643_rep5  AAACCCAAGAGGTCAC   \n",
       "SAM24456643_rep5-AAACCCAAGCCTGCCA  SAM24456643_rep5  AAACCCAAGCCTGCCA   \n",
       "SAM24456643_rep5-AAACCCAAGCTGTCCG  SAM24456643_rep5  AAACCCAAGCTGTCCG   \n",
       "SAM24456643_rep5-AAACCCAAGGTTCACT  SAM24456643_rep5  AAACCCAAGGTTCACT   \n",
       "SAM24456643_rep5-AAACCCAAGGTTGGAC  SAM24456643_rep5  AAACCCAAGGTTGGAC   \n",
       "...                                             ...               ...   \n",
       "SAM24456643_rep8-TTTGTTGTCAGGGATG  SAM24456643_rep8  TTTGTTGTCAGGGATG   \n",
       "SAM24456643_rep8-TTTGTTGTCCATCGTC  SAM24456643_rep8  TTTGTTGTCCATCGTC   \n",
       "SAM24456643_rep8-TTTGTTGTCGATCCAA  SAM24456643_rep8  TTTGTTGTCGATCCAA   \n",
       "SAM24456643_rep8-TTTGTTGTCGCGGACT  SAM24456643_rep8  TTTGTTGTCGCGGACT   \n",
       "SAM24456643_rep8-TTTGTTGTCTAGGCAT  SAM24456643_rep8  TTTGTTGTCTAGGCAT   \n",
       "\n",
       "                                  demux_type  \\\n",
       "SAM24456643_rep5-AAACCCAAGAGGTCAC    doublet   \n",
       "SAM24456643_rep5-AAACCCAAGCCTGCCA    singlet   \n",
       "SAM24456643_rep5-AAACCCAAGCTGTCCG    unknown   \n",
       "SAM24456643_rep5-AAACCCAAGGTTCACT    singlet   \n",
       "SAM24456643_rep5-AAACCCAAGGTTGGAC    doublet   \n",
       "...                                      ...   \n",
       "SAM24456643_rep8-TTTGTTGTCAGGGATG    unknown   \n",
       "SAM24456643_rep8-TTTGTTGTCCATCGTC    singlet   \n",
       "SAM24456643_rep8-TTTGTTGTCGATCCAA    doublet   \n",
       "SAM24456643_rep8-TTTGTTGTCGCGGACT    doublet   \n",
       "SAM24456643_rep8-TTTGTTGTCTAGGCAT    unknown   \n",
       "\n",
       "                                                                          assignment  \\\n",
       "SAM24456643_rep5-AAACCCAAGAGGTCAC                ENSG00000176171_3,ENSG00000243811_3   \n",
       "SAM24456643_rep5-AAACCCAAGCCTGCCA                                  ENSG00000134313_4   \n",
       "SAM24456643_rep5-AAACCCAAGCTGTCCG                                            unknown   \n",
       "SAM24456643_rep5-AAACCCAAGGTTCACT                                  ENSG00000206538_3   \n",
       "SAM24456643_rep5-AAACCCAAGGTTGGAC                ENSG00000223611_1,ENSG00000142549_4   \n",
       "...                                                                              ...   \n",
       "SAM24456643_rep8-TTTGTTGTCAGGGATG                                            unknown   \n",
       "SAM24456643_rep8-TTTGTTGTCCATCGTC                                  ENSG00000136273_2   \n",
       "SAM24456643_rep8-TTTGTTGTCGATCCAA  ENSG00000198108_1,ENSG00000178187_3,ENSG000001...   \n",
       "SAM24456643_rep8-TTTGTTGTCGCGGACT                ENSG00000276405_1,ENSG00000128891_1   \n",
       "SAM24456643_rep8-TTTGTTGTCTAGGCAT                                            unknown   \n",
       "\n",
       "                                  cellline timepoint      HTO   NGS_ID  \\\n",
       "SAM24456643_rep5-AAACCCAAGAGGTCAC     DLD1      day5   HTO-14  NGS5888   \n",
       "SAM24456643_rep5-AAACCCAAGCCTGCCA     DLD1      day5    HTO-1  NGS5888   \n",
       "SAM24456643_rep5-AAACCCAAGCTGTCCG     DLD1      day5    HTO-8  NGS5888   \n",
       "SAM24456643_rep5-AAACCCAAGGTTCACT     DLD1      day5    HTO-5  NGS5888   \n",
       "SAM24456643_rep5-AAACCCAAGGTTGGAC     DLD1      day5    HTO-2  NGS5888   \n",
       "...                                    ...       ...      ...      ...   \n",
       "SAM24456643_rep8-TTTGTTGTCAGGGATG  unknown   unknown  unknown  unknown   \n",
       "SAM24456643_rep8-TTTGTTGTCCATCGTC     DLD1      day5    HTO-6  NGS5888   \n",
       "SAM24456643_rep8-TTTGTTGTCGATCCAA     DLD1      day5   HTO-13  NGS5888   \n",
       "SAM24456643_rep8-TTTGTTGTCGCGGACT     DLD1      day5    HTO-1  NGS5888   \n",
       "SAM24456643_rep8-TTTGTTGTCTAGGCAT  unknown   unknown  unknown  unknown   \n",
       "\n",
       "                                  Biological_replicate  \\\n",
       "SAM24456643_rep5-AAACCCAAGAGGTCAC          SAM24439044   \n",
       "SAM24456643_rep5-AAACCCAAGCCTGCCA          SAM24439043   \n",
       "SAM24456643_rep5-AAACCCAAGCTGTCCG          SAM24439045   \n",
       "SAM24456643_rep5-AAACCCAAGGTTCACT          SAM24439044   \n",
       "SAM24456643_rep5-AAACCCAAGGTTGGAC          SAM24439043   \n",
       "...                                                ...   \n",
       "SAM24456643_rep8-TTTGTTGTCAGGGATG              unknown   \n",
       "SAM24456643_rep8-TTTGTTGTCCATCGTC          SAM24439044   \n",
       "SAM24456643_rep8-TTTGTTGTCGATCCAA          SAM24439044   \n",
       "SAM24456643_rep8-TTTGTTGTCGCGGACT          SAM24439043   \n",
       "SAM24456643_rep8-TTTGTTGTCTAGGCAT              unknown   \n",
       "\n",
       "                                                                          sublibrary  \\\n",
       "SAM24456643_rep5-AAACCCAAGAGGTCAC  GMTY210:cropseq.crisprko.cas9.human.lib3.conce...   \n",
       "SAM24456643_rep5-AAACCCAAGCCTGCCA  GMTY210:cropseq.crisprko.cas9.human.lib3.conce...   \n",
       "SAM24456643_rep5-AAACCCAAGCTGTCCG  GMTY210:cropseq.crisprko.cas9.human.lib3.conce...   \n",
       "SAM24456643_rep5-AAACCCAAGGTTCACT  GMTY210:cropseq.crisprko.cas9.human.lib3.conce...   \n",
       "SAM24456643_rep5-AAACCCAAGGTTGGAC  GMTY210:cropseq.crisprko.cas9.human.lib3.conce...   \n",
       "...                                                                              ...   \n",
       "SAM24456643_rep8-TTTGTTGTCAGGGATG                                            unknown   \n",
       "SAM24456643_rep8-TTTGTTGTCCATCGTC  GMTY210:cropseq.crisprko.cas9.human.lib3.conce...   \n",
       "SAM24456643_rep8-TTTGTTGTCGATCCAA  GMTY210:cropseq.crisprko.cas9.human.lib3.conce...   \n",
       "SAM24456643_rep8-TTTGTTGTCGCGGACT  GMTY210:cropseq.crisprko.cas9.human.lib3.conce...   \n",
       "SAM24456643_rep8-TTTGTTGTCTAGGCAT                                            unknown   \n",
       "\n",
       "                                  gRNA_library_MOI demux_type_v2  \\\n",
       "SAM24456643_rep5-AAACCCAAGAGGTCAC              0.5       singlet   \n",
       "SAM24456643_rep5-AAACCCAAGCCTGCCA              0.5       singlet   \n",
       "SAM24456643_rep5-AAACCCAAGCTGTCCG              0.5       singlet   \n",
       "SAM24456643_rep5-AAACCCAAGGTTCACT              0.5       singlet   \n",
       "SAM24456643_rep5-AAACCCAAGGTTGGAC              0.5       singlet   \n",
       "...                                            ...           ...   \n",
       "SAM24456643_rep8-TTTGTTGTCAGGGATG          unknown       unknown   \n",
       "SAM24456643_rep8-TTTGTTGTCCATCGTC              0.5       singlet   \n",
       "SAM24456643_rep8-TTTGTTGTCGATCCAA              0.5       singlet   \n",
       "SAM24456643_rep8-TTTGTTGTCGCGGACT              0.5       singlet   \n",
       "SAM24456643_rep8-TTTGTTGTCTAGGCAT          unknown       unknown   \n",
       "\n",
       "                                  assignment_v2  \\\n",
       "SAM24456643_rep5-AAACCCAAGAGGTCAC   SAM24439044   \n",
       "SAM24456643_rep5-AAACCCAAGCCTGCCA   SAM24439043   \n",
       "SAM24456643_rep5-AAACCCAAGCTGTCCG   SAM24439045   \n",
       "SAM24456643_rep5-AAACCCAAGGTTCACT   SAM24439044   \n",
       "SAM24456643_rep5-AAACCCAAGGTTGGAC   SAM24439043   \n",
       "...                                         ...   \n",
       "SAM24456643_rep8-TTTGTTGTCAGGGATG       unknown   \n",
       "SAM24456643_rep8-TTTGTTGTCCATCGTC   SAM24439044   \n",
       "SAM24456643_rep8-TTTGTTGTCGATCCAA   SAM24439044   \n",
       "SAM24456643_rep8-TTTGTTGTCGCGGACT   SAM24439043   \n",
       "SAM24456643_rep8-TTTGTTGTCTAGGCAT       unknown   \n",
       "\n",
       "                                                                         gene_symbol  \\\n",
       "SAM24456643_rep5-AAACCCAAGAGGTCAC                ENSG00000176171_3,ENSG00000243811_3   \n",
       "SAM24456643_rep5-AAACCCAAGCCTGCCA                                          KIDINS220   \n",
       "SAM24456643_rep5-AAACCCAAGCTGTCCG                                            unknown   \n",
       "SAM24456643_rep5-AAACCCAAGGTTCACT                                              VGLL3   \n",
       "SAM24456643_rep5-AAACCCAAGGTTGGAC                ENSG00000223611_1,ENSG00000142549_4   \n",
       "...                                                                              ...   \n",
       "SAM24456643_rep8-TTTGTTGTCAGGGATG                                            unknown   \n",
       "SAM24456643_rep8-TTTGTTGTCCATCGTC                                               HUS1   \n",
       "SAM24456643_rep8-TTTGTTGTCGATCCAA  ENSG00000198108_1,ENSG00000178187_3,ENSG000001...   \n",
       "SAM24456643_rep8-TTTGTTGTCGCGGACT                ENSG00000276405_1,ENSG00000128891_1   \n",
       "SAM24456643_rep8-TTTGTTGTCTAGGCAT                                            unknown   \n",
       "\n",
       "                                                                               class  \n",
       "SAM24456643_rep5-AAACCCAAGAGGTCAC                ENSG00000176171_3,ENSG00000243811_3  \n",
       "SAM24456643_rep5-AAACCCAAGCCTGCCA                                             target  \n",
       "SAM24456643_rep5-AAACCCAAGCTGTCCG                                            unknown  \n",
       "SAM24456643_rep5-AAACCCAAGGTTCACT                                             target  \n",
       "SAM24456643_rep5-AAACCCAAGGTTGGAC                ENSG00000223611_1,ENSG00000142549_4  \n",
       "...                                                                              ...  \n",
       "SAM24456643_rep8-TTTGTTGTCAGGGATG                                            unknown  \n",
       "SAM24456643_rep8-TTTGTTGTCCATCGTC                                             target  \n",
       "SAM24456643_rep8-TTTGTTGTCGATCCAA  ENSG00000198108_1,ENSG00000178187_3,ENSG000001...  \n",
       "SAM24456643_rep8-TTTGTTGTCGCGGACT                ENSG00000276405_1,ENSG00000128891_1  \n",
       "SAM24456643_rep8-TTTGTTGTCTAGGCAT                                            unknown  \n",
       "\n",
       "[108700 rows x 15 columns]"
      ]
     },
     "execution_count": 8,
     "metadata": {},
     "output_type": "execute_result"
    }
   ],
   "source": [
    "adata.obs"
   ]
  },
  {
   "cell_type": "code",
   "execution_count": 9,
   "id": "d88e0d82",
   "metadata": {
    "execution": {
     "iopub.execute_input": "2024-07-03T16:08:19.010588Z",
     "iopub.status.busy": "2024-07-03T16:08:19.010374Z",
     "iopub.status.idle": "2024-07-03T16:08:19.014277Z",
     "shell.execute_reply": "2024-07-03T16:08:19.013855Z"
    },
    "papermill": {
     "duration": 0.011123,
     "end_time": "2024-07-03T16:08:19.015487",
     "exception": false,
     "start_time": "2024-07-03T16:08:19.004364",
     "status": "completed"
    },
    "tags": []
   },
   "outputs": [
    {
     "data": {
      "text/plain": [
       "Index(['3xLinker_3xLinker', 'GRCh38-2020-A_ENSG00000243485',\n",
       "       'GRCh38-2020-A_ENSG00000237613', 'GRCh38-2020-A_ENSG00000186092',\n",
       "       'GRCh38-2020-A_ENSG00000238009', 'GRCh38-2020-A_ENSG00000239945',\n",
       "       'GRCh38-2020-A_ENSG00000239906', 'GRCh38-2020-A_ENSG00000241860',\n",
       "       'GRCh38-2020-A_ENSG00000241599', 'GRCh38-2020-A_ENSG00000286448',\n",
       "       ...\n",
       "       'GRCh38-2020-A_ENSG00000275869', 'GRCh38-2020-A_ENSG00000273554',\n",
       "       'GRCh38-2020-A_ENSG00000278782', 'GRCh38-2020-A_ENSG00000277761',\n",
       "       'GRCh38-2020-A_ENSG00000277836', 'GRCh38-2020-A_ENSG00000278633',\n",
       "       'GRCh38-2020-A_ENSG00000276017', 'GRCh38-2020-A_ENSG00000278817',\n",
       "       'GRCh38-2020-A_ENSG00000277196', 'TurboGFP_TurboGFP'],\n",
       "      dtype='object', length=36603)"
      ]
     },
     "execution_count": 9,
     "metadata": {},
     "output_type": "execute_result"
    }
   ],
   "source": [
    "adata.var_names"
   ]
  },
  {
   "cell_type": "code",
   "execution_count": 10,
   "id": "bdae76d3",
   "metadata": {
    "execution": {
     "iopub.execute_input": "2024-07-03T16:08:19.026477Z",
     "iopub.status.busy": "2024-07-03T16:08:19.026263Z",
     "iopub.status.idle": "2024-07-03T16:08:19.031776Z",
     "shell.execute_reply": "2024-07-03T16:08:19.031356Z"
    },
    "papermill": {
     "duration": 0.012821,
     "end_time": "2024-07-03T16:08:19.033398",
     "exception": false,
     "start_time": "2024-07-03T16:08:19.020577",
     "status": "completed"
    },
    "tags": []
   },
   "outputs": [
    {
     "data": {
      "text/html": [
       "<div>\n",
       "<style scoped>\n",
       "    .dataframe tbody tr th:only-of-type {\n",
       "        vertical-align: middle;\n",
       "    }\n",
       "\n",
       "    .dataframe tbody tr th {\n",
       "        vertical-align: top;\n",
       "    }\n",
       "\n",
       "    .dataframe thead th {\n",
       "        text-align: right;\n",
       "    }\n",
       "</style>\n",
       "<table border=\"1\" class=\"dataframe\">\n",
       "  <thead>\n",
       "    <tr style=\"text-align: right;\">\n",
       "      <th></th>\n",
       "      <th>ID</th>\n",
       "      <th>Symbol</th>\n",
       "      <th>Type</th>\n",
       "    </tr>\n",
       "  </thead>\n",
       "  <tbody>\n",
       "    <tr>\n",
       "      <th>3xLinker_3xLinker</th>\n",
       "      <td>3xLinker_3xLinker</td>\n",
       "      <td>3xLinker_3xLinker</td>\n",
       "      <td>Gene Expression</td>\n",
       "    </tr>\n",
       "    <tr>\n",
       "      <th>GRCh38-2020-A_ENSG00000243485</th>\n",
       "      <td>GRCh38-2020-A_ENSG00000243485</td>\n",
       "      <td>GRCh38-2020-A_MIR1302-2HG</td>\n",
       "      <td>Gene Expression</td>\n",
       "    </tr>\n",
       "    <tr>\n",
       "      <th>GRCh38-2020-A_ENSG00000237613</th>\n",
       "      <td>GRCh38-2020-A_ENSG00000237613</td>\n",
       "      <td>GRCh38-2020-A_FAM138A</td>\n",
       "      <td>Gene Expression</td>\n",
       "    </tr>\n",
       "    <tr>\n",
       "      <th>GRCh38-2020-A_ENSG00000186092</th>\n",
       "      <td>GRCh38-2020-A_ENSG00000186092</td>\n",
       "      <td>GRCh38-2020-A_OR4F5</td>\n",
       "      <td>Gene Expression</td>\n",
       "    </tr>\n",
       "    <tr>\n",
       "      <th>GRCh38-2020-A_ENSG00000238009</th>\n",
       "      <td>GRCh38-2020-A_ENSG00000238009</td>\n",
       "      <td>GRCh38-2020-A_AL627309.1</td>\n",
       "      <td>Gene Expression</td>\n",
       "    </tr>\n",
       "  </tbody>\n",
       "</table>\n",
       "</div>"
      ],
      "text/plain": [
       "                                                          ID  \\\n",
       "3xLinker_3xLinker                          3xLinker_3xLinker   \n",
       "GRCh38-2020-A_ENSG00000243485  GRCh38-2020-A_ENSG00000243485   \n",
       "GRCh38-2020-A_ENSG00000237613  GRCh38-2020-A_ENSG00000237613   \n",
       "GRCh38-2020-A_ENSG00000186092  GRCh38-2020-A_ENSG00000186092   \n",
       "GRCh38-2020-A_ENSG00000238009  GRCh38-2020-A_ENSG00000238009   \n",
       "\n",
       "                                                  Symbol             Type  \n",
       "3xLinker_3xLinker                      3xLinker_3xLinker  Gene Expression  \n",
       "GRCh38-2020-A_ENSG00000243485  GRCh38-2020-A_MIR1302-2HG  Gene Expression  \n",
       "GRCh38-2020-A_ENSG00000237613      GRCh38-2020-A_FAM138A  Gene Expression  \n",
       "GRCh38-2020-A_ENSG00000186092        GRCh38-2020-A_OR4F5  Gene Expression  \n",
       "GRCh38-2020-A_ENSG00000238009   GRCh38-2020-A_AL627309.1  Gene Expression  "
      ]
     },
     "execution_count": 10,
     "metadata": {},
     "output_type": "execute_result"
    }
   ],
   "source": [
    "adata.var.head()"
   ]
  },
  {
   "cell_type": "code",
   "execution_count": 11,
   "id": "17d58450",
   "metadata": {
    "execution": {
     "iopub.execute_input": "2024-07-03T16:08:19.047003Z",
     "iopub.status.busy": "2024-07-03T16:08:19.046767Z",
     "iopub.status.idle": "2024-07-03T16:08:19.050029Z",
     "shell.execute_reply": "2024-07-03T16:08:19.049623Z"
    },
    "papermill": {
     "duration": 0.011788,
     "end_time": "2024-07-03T16:08:19.051413",
     "exception": false,
     "start_time": "2024-07-03T16:08:19.039625",
     "status": "completed"
    },
    "tags": []
   },
   "outputs": [
    {
     "data": {
      "text/plain": [
       "<108700x36603 sparse matrix of type '<class 'numpy.int32'>'\n",
       "\twith 431358218 stored elements in Compressed Sparse Row format>"
      ]
     },
     "execution_count": 11,
     "metadata": {},
     "output_type": "execute_result"
    }
   ],
   "source": [
    "adata.X"
   ]
  },
  {
   "cell_type": "markdown",
   "id": "80bed5df",
   "metadata": {
    "papermill": {
     "duration": 0.005192,
     "end_time": "2024-07-03T16:08:19.061929",
     "exception": false,
     "start_time": "2024-07-03T16:08:19.056737",
     "status": "completed"
    },
    "tags": []
   },
   "source": [
    "## 3. Modify the anndata using a function (any operations you want)"
   ]
  },
  {
   "cell_type": "code",
   "execution_count": 12,
   "id": "eeba95e6",
   "metadata": {
    "execution": {
     "iopub.execute_input": "2024-07-03T16:08:19.072926Z",
     "iopub.status.busy": "2024-07-03T16:08:19.072711Z",
     "iopub.status.idle": "2024-07-03T16:08:19.107015Z",
     "shell.execute_reply": "2024-07-03T16:08:19.106414Z"
    },
    "papermill": {
     "duration": 0.041647,
     "end_time": "2024-07-03T16:08:19.108685",
     "exception": false,
     "start_time": "2024-07-03T16:08:19.067038",
     "status": "completed"
    },
    "tags": []
   },
   "outputs": [],
   "source": [
    "tmp = adata.obs.copy()"
   ]
  },
  {
   "cell_type": "code",
   "execution_count": 13,
   "id": "a4b4a6b3",
   "metadata": {
    "execution": {
     "iopub.execute_input": "2024-07-03T16:08:19.121026Z",
     "iopub.status.busy": "2024-07-03T16:08:19.120748Z",
     "iopub.status.idle": "2024-07-03T16:08:19.133823Z",
     "shell.execute_reply": "2024-07-03T16:08:19.133383Z"
    },
    "papermill": {
     "duration": 0.021431,
     "end_time": "2024-07-03T16:08:19.135808",
     "exception": false,
     "start_time": "2024-07-03T16:08:19.114377",
     "status": "completed"
    },
    "tags": []
   },
   "outputs": [
    {
     "data": {
      "text/html": [
       "<div>\n",
       "<style scoped>\n",
       "    .dataframe tbody tr th:only-of-type {\n",
       "        vertical-align: middle;\n",
       "    }\n",
       "\n",
       "    .dataframe tbody tr th {\n",
       "        vertical-align: top;\n",
       "    }\n",
       "\n",
       "    .dataframe thead th {\n",
       "        text-align: right;\n",
       "    }\n",
       "</style>\n",
       "<table border=\"1\" class=\"dataframe\">\n",
       "  <thead>\n",
       "    <tr style=\"text-align: right;\">\n",
       "      <th></th>\n",
       "      <th>Sample</th>\n",
       "      <th>Barcode</th>\n",
       "      <th>demux_type</th>\n",
       "      <th>assignment</th>\n",
       "      <th>cellline</th>\n",
       "      <th>timepoint</th>\n",
       "      <th>HTO</th>\n",
       "      <th>NGS_ID</th>\n",
       "      <th>Biological_replicate</th>\n",
       "      <th>sublibrary</th>\n",
       "      <th>gRNA_library_MOI</th>\n",
       "      <th>demux_type_v2</th>\n",
       "      <th>assignment_v2</th>\n",
       "      <th>gene_symbol</th>\n",
       "      <th>class</th>\n",
       "    </tr>\n",
       "  </thead>\n",
       "  <tbody>\n",
       "    <tr>\n",
       "      <th>SAM24456643_rep5-AAACCCAAGAGGTCAC</th>\n",
       "      <td>SAM24456643_rep5</td>\n",
       "      <td>AAACCCAAGAGGTCAC</td>\n",
       "      <td>doublet</td>\n",
       "      <td>ENSG00000176171_3,ENSG00000243811_3</td>\n",
       "      <td>DLD1</td>\n",
       "      <td>day5</td>\n",
       "      <td>HTO-14</td>\n",
       "      <td>NGS5888</td>\n",
       "      <td>SAM24439044</td>\n",
       "      <td>GMTY210:cropseq.crisprko.cas9.human.lib3.conce...</td>\n",
       "      <td>0.5</td>\n",
       "      <td>singlet</td>\n",
       "      <td>SAM24439044</td>\n",
       "      <td>ENSG00000176171_3,ENSG00000243811_3</td>\n",
       "      <td>ENSG00000176171_3,ENSG00000243811_3</td>\n",
       "    </tr>\n",
       "    <tr>\n",
       "      <th>SAM24456643_rep5-AAACCCAAGCCTGCCA</th>\n",
       "      <td>SAM24456643_rep5</td>\n",
       "      <td>AAACCCAAGCCTGCCA</td>\n",
       "      <td>singlet</td>\n",
       "      <td>ENSG00000134313_4</td>\n",
       "      <td>DLD1</td>\n",
       "      <td>day5</td>\n",
       "      <td>HTO-1</td>\n",
       "      <td>NGS5888</td>\n",
       "      <td>SAM24439043</td>\n",
       "      <td>GMTY210:cropseq.crisprko.cas9.human.lib3.conce...</td>\n",
       "      <td>0.5</td>\n",
       "      <td>singlet</td>\n",
       "      <td>SAM24439043</td>\n",
       "      <td>KIDINS220</td>\n",
       "      <td>target</td>\n",
       "    </tr>\n",
       "    <tr>\n",
       "      <th>SAM24456643_rep5-AAACCCAAGCTGTCCG</th>\n",
       "      <td>SAM24456643_rep5</td>\n",
       "      <td>AAACCCAAGCTGTCCG</td>\n",
       "      <td>unknown</td>\n",
       "      <td>unknown</td>\n",
       "      <td>DLD1</td>\n",
       "      <td>day5</td>\n",
       "      <td>HTO-8</td>\n",
       "      <td>NGS5888</td>\n",
       "      <td>SAM24439045</td>\n",
       "      <td>GMTY210:cropseq.crisprko.cas9.human.lib3.conce...</td>\n",
       "      <td>0.5</td>\n",
       "      <td>singlet</td>\n",
       "      <td>SAM24439045</td>\n",
       "      <td>unknown</td>\n",
       "      <td>unknown</td>\n",
       "    </tr>\n",
       "    <tr>\n",
       "      <th>SAM24456643_rep5-AAACCCAAGGTTCACT</th>\n",
       "      <td>SAM24456643_rep5</td>\n",
       "      <td>AAACCCAAGGTTCACT</td>\n",
       "      <td>singlet</td>\n",
       "      <td>ENSG00000206538_3</td>\n",
       "      <td>DLD1</td>\n",
       "      <td>day5</td>\n",
       "      <td>HTO-5</td>\n",
       "      <td>NGS5888</td>\n",
       "      <td>SAM24439044</td>\n",
       "      <td>GMTY210:cropseq.crisprko.cas9.human.lib3.conce...</td>\n",
       "      <td>0.5</td>\n",
       "      <td>singlet</td>\n",
       "      <td>SAM24439044</td>\n",
       "      <td>VGLL3</td>\n",
       "      <td>target</td>\n",
       "    </tr>\n",
       "    <tr>\n",
       "      <th>SAM24456643_rep5-AAACCCAAGGTTGGAC</th>\n",
       "      <td>SAM24456643_rep5</td>\n",
       "      <td>AAACCCAAGGTTGGAC</td>\n",
       "      <td>doublet</td>\n",
       "      <td>ENSG00000223611_1,ENSG00000142549_4</td>\n",
       "      <td>DLD1</td>\n",
       "      <td>day5</td>\n",
       "      <td>HTO-2</td>\n",
       "      <td>NGS5888</td>\n",
       "      <td>SAM24439043</td>\n",
       "      <td>GMTY210:cropseq.crisprko.cas9.human.lib3.conce...</td>\n",
       "      <td>0.5</td>\n",
       "      <td>singlet</td>\n",
       "      <td>SAM24439043</td>\n",
       "      <td>ENSG00000223611_1,ENSG00000142549_4</td>\n",
       "      <td>ENSG00000223611_1,ENSG00000142549_4</td>\n",
       "    </tr>\n",
       "    <tr>\n",
       "      <th>...</th>\n",
       "      <td>...</td>\n",
       "      <td>...</td>\n",
       "      <td>...</td>\n",
       "      <td>...</td>\n",
       "      <td>...</td>\n",
       "      <td>...</td>\n",
       "      <td>...</td>\n",
       "      <td>...</td>\n",
       "      <td>...</td>\n",
       "      <td>...</td>\n",
       "      <td>...</td>\n",
       "      <td>...</td>\n",
       "      <td>...</td>\n",
       "      <td>...</td>\n",
       "      <td>...</td>\n",
       "    </tr>\n",
       "    <tr>\n",
       "      <th>SAM24456643_rep8-TTTGTTGTCAGGGATG</th>\n",
       "      <td>SAM24456643_rep8</td>\n",
       "      <td>TTTGTTGTCAGGGATG</td>\n",
       "      <td>unknown</td>\n",
       "      <td>unknown</td>\n",
       "      <td>unknown</td>\n",
       "      <td>unknown</td>\n",
       "      <td>unknown</td>\n",
       "      <td>unknown</td>\n",
       "      <td>unknown</td>\n",
       "      <td>unknown</td>\n",
       "      <td>unknown</td>\n",
       "      <td>unknown</td>\n",
       "      <td>unknown</td>\n",
       "      <td>unknown</td>\n",
       "      <td>unknown</td>\n",
       "    </tr>\n",
       "    <tr>\n",
       "      <th>SAM24456643_rep8-TTTGTTGTCCATCGTC</th>\n",
       "      <td>SAM24456643_rep8</td>\n",
       "      <td>TTTGTTGTCCATCGTC</td>\n",
       "      <td>singlet</td>\n",
       "      <td>ENSG00000136273_2</td>\n",
       "      <td>DLD1</td>\n",
       "      <td>day5</td>\n",
       "      <td>HTO-6</td>\n",
       "      <td>NGS5888</td>\n",
       "      <td>SAM24439044</td>\n",
       "      <td>GMTY210:cropseq.crisprko.cas9.human.lib3.conce...</td>\n",
       "      <td>0.5</td>\n",
       "      <td>singlet</td>\n",
       "      <td>SAM24439044</td>\n",
       "      <td>HUS1</td>\n",
       "      <td>target</td>\n",
       "    </tr>\n",
       "    <tr>\n",
       "      <th>SAM24456643_rep8-TTTGTTGTCGATCCAA</th>\n",
       "      <td>SAM24456643_rep8</td>\n",
       "      <td>TTTGTTGTCGATCCAA</td>\n",
       "      <td>doublet</td>\n",
       "      <td>ENSG00000198108_1,ENSG00000178187_3,ENSG000001...</td>\n",
       "      <td>DLD1</td>\n",
       "      <td>day5</td>\n",
       "      <td>HTO-13</td>\n",
       "      <td>NGS5888</td>\n",
       "      <td>SAM24439044</td>\n",
       "      <td>GMTY210:cropseq.crisprko.cas9.human.lib3.conce...</td>\n",
       "      <td>0.5</td>\n",
       "      <td>singlet</td>\n",
       "      <td>SAM24439044</td>\n",
       "      <td>ENSG00000198108_1,ENSG00000178187_3,ENSG000001...</td>\n",
       "      <td>ENSG00000198108_1,ENSG00000178187_3,ENSG000001...</td>\n",
       "    </tr>\n",
       "    <tr>\n",
       "      <th>SAM24456643_rep8-TTTGTTGTCGCGGACT</th>\n",
       "      <td>SAM24456643_rep8</td>\n",
       "      <td>TTTGTTGTCGCGGACT</td>\n",
       "      <td>doublet</td>\n",
       "      <td>ENSG00000276405_1,ENSG00000128891_1</td>\n",
       "      <td>DLD1</td>\n",
       "      <td>day5</td>\n",
       "      <td>HTO-1</td>\n",
       "      <td>NGS5888</td>\n",
       "      <td>SAM24439043</td>\n",
       "      <td>GMTY210:cropseq.crisprko.cas9.human.lib3.conce...</td>\n",
       "      <td>0.5</td>\n",
       "      <td>singlet</td>\n",
       "      <td>SAM24439043</td>\n",
       "      <td>ENSG00000276405_1,ENSG00000128891_1</td>\n",
       "      <td>ENSG00000276405_1,ENSG00000128891_1</td>\n",
       "    </tr>\n",
       "    <tr>\n",
       "      <th>SAM24456643_rep8-TTTGTTGTCTAGGCAT</th>\n",
       "      <td>SAM24456643_rep8</td>\n",
       "      <td>TTTGTTGTCTAGGCAT</td>\n",
       "      <td>unknown</td>\n",
       "      <td>unknown</td>\n",
       "      <td>unknown</td>\n",
       "      <td>unknown</td>\n",
       "      <td>unknown</td>\n",
       "      <td>unknown</td>\n",
       "      <td>unknown</td>\n",
       "      <td>unknown</td>\n",
       "      <td>unknown</td>\n",
       "      <td>unknown</td>\n",
       "      <td>unknown</td>\n",
       "      <td>unknown</td>\n",
       "      <td>unknown</td>\n",
       "    </tr>\n",
       "  </tbody>\n",
       "</table>\n",
       "<p>108700 rows × 15 columns</p>\n",
       "</div>"
      ],
      "text/plain": [
       "                                             Sample           Barcode  \\\n",
       "SAM24456643_rep5-AAACCCAAGAGGTCAC  SAM24456643_rep5  AAACCCAAGAGGTCAC   \n",
       "SAM24456643_rep5-AAACCCAAGCCTGCCA  SAM24456643_rep5  AAACCCAAGCCTGCCA   \n",
       "SAM24456643_rep5-AAACCCAAGCTGTCCG  SAM24456643_rep5  AAACCCAAGCTGTCCG   \n",
       "SAM24456643_rep5-AAACCCAAGGTTCACT  SAM24456643_rep5  AAACCCAAGGTTCACT   \n",
       "SAM24456643_rep5-AAACCCAAGGTTGGAC  SAM24456643_rep5  AAACCCAAGGTTGGAC   \n",
       "...                                             ...               ...   \n",
       "SAM24456643_rep8-TTTGTTGTCAGGGATG  SAM24456643_rep8  TTTGTTGTCAGGGATG   \n",
       "SAM24456643_rep8-TTTGTTGTCCATCGTC  SAM24456643_rep8  TTTGTTGTCCATCGTC   \n",
       "SAM24456643_rep8-TTTGTTGTCGATCCAA  SAM24456643_rep8  TTTGTTGTCGATCCAA   \n",
       "SAM24456643_rep8-TTTGTTGTCGCGGACT  SAM24456643_rep8  TTTGTTGTCGCGGACT   \n",
       "SAM24456643_rep8-TTTGTTGTCTAGGCAT  SAM24456643_rep8  TTTGTTGTCTAGGCAT   \n",
       "\n",
       "                                  demux_type  \\\n",
       "SAM24456643_rep5-AAACCCAAGAGGTCAC    doublet   \n",
       "SAM24456643_rep5-AAACCCAAGCCTGCCA    singlet   \n",
       "SAM24456643_rep5-AAACCCAAGCTGTCCG    unknown   \n",
       "SAM24456643_rep5-AAACCCAAGGTTCACT    singlet   \n",
       "SAM24456643_rep5-AAACCCAAGGTTGGAC    doublet   \n",
       "...                                      ...   \n",
       "SAM24456643_rep8-TTTGTTGTCAGGGATG    unknown   \n",
       "SAM24456643_rep8-TTTGTTGTCCATCGTC    singlet   \n",
       "SAM24456643_rep8-TTTGTTGTCGATCCAA    doublet   \n",
       "SAM24456643_rep8-TTTGTTGTCGCGGACT    doublet   \n",
       "SAM24456643_rep8-TTTGTTGTCTAGGCAT    unknown   \n",
       "\n",
       "                                                                          assignment  \\\n",
       "SAM24456643_rep5-AAACCCAAGAGGTCAC                ENSG00000176171_3,ENSG00000243811_3   \n",
       "SAM24456643_rep5-AAACCCAAGCCTGCCA                                  ENSG00000134313_4   \n",
       "SAM24456643_rep5-AAACCCAAGCTGTCCG                                            unknown   \n",
       "SAM24456643_rep5-AAACCCAAGGTTCACT                                  ENSG00000206538_3   \n",
       "SAM24456643_rep5-AAACCCAAGGTTGGAC                ENSG00000223611_1,ENSG00000142549_4   \n",
       "...                                                                              ...   \n",
       "SAM24456643_rep8-TTTGTTGTCAGGGATG                                            unknown   \n",
       "SAM24456643_rep8-TTTGTTGTCCATCGTC                                  ENSG00000136273_2   \n",
       "SAM24456643_rep8-TTTGTTGTCGATCCAA  ENSG00000198108_1,ENSG00000178187_3,ENSG000001...   \n",
       "SAM24456643_rep8-TTTGTTGTCGCGGACT                ENSG00000276405_1,ENSG00000128891_1   \n",
       "SAM24456643_rep8-TTTGTTGTCTAGGCAT                                            unknown   \n",
       "\n",
       "                                  cellline timepoint      HTO   NGS_ID  \\\n",
       "SAM24456643_rep5-AAACCCAAGAGGTCAC     DLD1      day5   HTO-14  NGS5888   \n",
       "SAM24456643_rep5-AAACCCAAGCCTGCCA     DLD1      day5    HTO-1  NGS5888   \n",
       "SAM24456643_rep5-AAACCCAAGCTGTCCG     DLD1      day5    HTO-8  NGS5888   \n",
       "SAM24456643_rep5-AAACCCAAGGTTCACT     DLD1      day5    HTO-5  NGS5888   \n",
       "SAM24456643_rep5-AAACCCAAGGTTGGAC     DLD1      day5    HTO-2  NGS5888   \n",
       "...                                    ...       ...      ...      ...   \n",
       "SAM24456643_rep8-TTTGTTGTCAGGGATG  unknown   unknown  unknown  unknown   \n",
       "SAM24456643_rep8-TTTGTTGTCCATCGTC     DLD1      day5    HTO-6  NGS5888   \n",
       "SAM24456643_rep8-TTTGTTGTCGATCCAA     DLD1      day5   HTO-13  NGS5888   \n",
       "SAM24456643_rep8-TTTGTTGTCGCGGACT     DLD1      day5    HTO-1  NGS5888   \n",
       "SAM24456643_rep8-TTTGTTGTCTAGGCAT  unknown   unknown  unknown  unknown   \n",
       "\n",
       "                                  Biological_replicate  \\\n",
       "SAM24456643_rep5-AAACCCAAGAGGTCAC          SAM24439044   \n",
       "SAM24456643_rep5-AAACCCAAGCCTGCCA          SAM24439043   \n",
       "SAM24456643_rep5-AAACCCAAGCTGTCCG          SAM24439045   \n",
       "SAM24456643_rep5-AAACCCAAGGTTCACT          SAM24439044   \n",
       "SAM24456643_rep5-AAACCCAAGGTTGGAC          SAM24439043   \n",
       "...                                                ...   \n",
       "SAM24456643_rep8-TTTGTTGTCAGGGATG              unknown   \n",
       "SAM24456643_rep8-TTTGTTGTCCATCGTC          SAM24439044   \n",
       "SAM24456643_rep8-TTTGTTGTCGATCCAA          SAM24439044   \n",
       "SAM24456643_rep8-TTTGTTGTCGCGGACT          SAM24439043   \n",
       "SAM24456643_rep8-TTTGTTGTCTAGGCAT              unknown   \n",
       "\n",
       "                                                                          sublibrary  \\\n",
       "SAM24456643_rep5-AAACCCAAGAGGTCAC  GMTY210:cropseq.crisprko.cas9.human.lib3.conce...   \n",
       "SAM24456643_rep5-AAACCCAAGCCTGCCA  GMTY210:cropseq.crisprko.cas9.human.lib3.conce...   \n",
       "SAM24456643_rep5-AAACCCAAGCTGTCCG  GMTY210:cropseq.crisprko.cas9.human.lib3.conce...   \n",
       "SAM24456643_rep5-AAACCCAAGGTTCACT  GMTY210:cropseq.crisprko.cas9.human.lib3.conce...   \n",
       "SAM24456643_rep5-AAACCCAAGGTTGGAC  GMTY210:cropseq.crisprko.cas9.human.lib3.conce...   \n",
       "...                                                                              ...   \n",
       "SAM24456643_rep8-TTTGTTGTCAGGGATG                                            unknown   \n",
       "SAM24456643_rep8-TTTGTTGTCCATCGTC  GMTY210:cropseq.crisprko.cas9.human.lib3.conce...   \n",
       "SAM24456643_rep8-TTTGTTGTCGATCCAA  GMTY210:cropseq.crisprko.cas9.human.lib3.conce...   \n",
       "SAM24456643_rep8-TTTGTTGTCGCGGACT  GMTY210:cropseq.crisprko.cas9.human.lib3.conce...   \n",
       "SAM24456643_rep8-TTTGTTGTCTAGGCAT                                            unknown   \n",
       "\n",
       "                                  gRNA_library_MOI demux_type_v2  \\\n",
       "SAM24456643_rep5-AAACCCAAGAGGTCAC              0.5       singlet   \n",
       "SAM24456643_rep5-AAACCCAAGCCTGCCA              0.5       singlet   \n",
       "SAM24456643_rep5-AAACCCAAGCTGTCCG              0.5       singlet   \n",
       "SAM24456643_rep5-AAACCCAAGGTTCACT              0.5       singlet   \n",
       "SAM24456643_rep5-AAACCCAAGGTTGGAC              0.5       singlet   \n",
       "...                                            ...           ...   \n",
       "SAM24456643_rep8-TTTGTTGTCAGGGATG          unknown       unknown   \n",
       "SAM24456643_rep8-TTTGTTGTCCATCGTC              0.5       singlet   \n",
       "SAM24456643_rep8-TTTGTTGTCGATCCAA              0.5       singlet   \n",
       "SAM24456643_rep8-TTTGTTGTCGCGGACT              0.5       singlet   \n",
       "SAM24456643_rep8-TTTGTTGTCTAGGCAT          unknown       unknown   \n",
       "\n",
       "                                  assignment_v2  \\\n",
       "SAM24456643_rep5-AAACCCAAGAGGTCAC   SAM24439044   \n",
       "SAM24456643_rep5-AAACCCAAGCCTGCCA   SAM24439043   \n",
       "SAM24456643_rep5-AAACCCAAGCTGTCCG   SAM24439045   \n",
       "SAM24456643_rep5-AAACCCAAGGTTCACT   SAM24439044   \n",
       "SAM24456643_rep5-AAACCCAAGGTTGGAC   SAM24439043   \n",
       "...                                         ...   \n",
       "SAM24456643_rep8-TTTGTTGTCAGGGATG       unknown   \n",
       "SAM24456643_rep8-TTTGTTGTCCATCGTC   SAM24439044   \n",
       "SAM24456643_rep8-TTTGTTGTCGATCCAA   SAM24439044   \n",
       "SAM24456643_rep8-TTTGTTGTCGCGGACT   SAM24439043   \n",
       "SAM24456643_rep8-TTTGTTGTCTAGGCAT       unknown   \n",
       "\n",
       "                                                                         gene_symbol  \\\n",
       "SAM24456643_rep5-AAACCCAAGAGGTCAC                ENSG00000176171_3,ENSG00000243811_3   \n",
       "SAM24456643_rep5-AAACCCAAGCCTGCCA                                          KIDINS220   \n",
       "SAM24456643_rep5-AAACCCAAGCTGTCCG                                            unknown   \n",
       "SAM24456643_rep5-AAACCCAAGGTTCACT                                              VGLL3   \n",
       "SAM24456643_rep5-AAACCCAAGGTTGGAC                ENSG00000223611_1,ENSG00000142549_4   \n",
       "...                                                                              ...   \n",
       "SAM24456643_rep8-TTTGTTGTCAGGGATG                                            unknown   \n",
       "SAM24456643_rep8-TTTGTTGTCCATCGTC                                               HUS1   \n",
       "SAM24456643_rep8-TTTGTTGTCGATCCAA  ENSG00000198108_1,ENSG00000178187_3,ENSG000001...   \n",
       "SAM24456643_rep8-TTTGTTGTCGCGGACT                ENSG00000276405_1,ENSG00000128891_1   \n",
       "SAM24456643_rep8-TTTGTTGTCTAGGCAT                                            unknown   \n",
       "\n",
       "                                                                               class  \n",
       "SAM24456643_rep5-AAACCCAAGAGGTCAC                ENSG00000176171_3,ENSG00000243811_3  \n",
       "SAM24456643_rep5-AAACCCAAGCCTGCCA                                             target  \n",
       "SAM24456643_rep5-AAACCCAAGCTGTCCG                                            unknown  \n",
       "SAM24456643_rep5-AAACCCAAGGTTCACT                                             target  \n",
       "SAM24456643_rep5-AAACCCAAGGTTGGAC                ENSG00000223611_1,ENSG00000142549_4  \n",
       "...                                                                              ...  \n",
       "SAM24456643_rep8-TTTGTTGTCAGGGATG                                            unknown  \n",
       "SAM24456643_rep8-TTTGTTGTCCATCGTC                                             target  \n",
       "SAM24456643_rep8-TTTGTTGTCGATCCAA  ENSG00000198108_1,ENSG00000178187_3,ENSG000001...  \n",
       "SAM24456643_rep8-TTTGTTGTCGCGGACT                ENSG00000276405_1,ENSG00000128891_1  \n",
       "SAM24456643_rep8-TTTGTTGTCTAGGCAT                                            unknown  \n",
       "\n",
       "[108700 rows x 15 columns]"
      ]
     },
     "execution_count": 13,
     "metadata": {},
     "output_type": "execute_result"
    }
   ],
   "source": [
    "tmp"
   ]
  },
  {
   "cell_type": "code",
   "execution_count": 14,
   "id": "dbd407e6",
   "metadata": {
    "execution": {
     "iopub.execute_input": "2024-07-03T16:08:19.149714Z",
     "iopub.status.busy": "2024-07-03T16:08:19.149490Z",
     "iopub.status.idle": "2024-07-03T16:08:19.158697Z",
     "shell.execute_reply": "2024-07-03T16:08:19.157767Z"
    },
    "papermill": {
     "duration": 0.018119,
     "end_time": "2024-07-03T16:08:19.160127",
     "exception": false,
     "start_time": "2024-07-03T16:08:19.142008",
     "status": "completed"
    },
    "tags": []
   },
   "outputs": [],
   "source": [
    "tmp = tmp.rename(columns={\"demux_type\":\"DemuxType_crispr\",\"assignment\":\"DemuxAssignment_crispr\",\n",
    "                          \"demux_type_v2\":\"DemuxType_hashing\",\"assignment_v2\":\"DemuxAssignment_hashing\"})"
   ]
  },
  {
   "cell_type": "code",
   "execution_count": 15,
   "id": "200a89b5",
   "metadata": {
    "execution": {
     "iopub.execute_input": "2024-07-03T16:08:19.172397Z",
     "iopub.status.busy": "2024-07-03T16:08:19.172153Z",
     "iopub.status.idle": "2024-07-03T16:08:19.478613Z",
     "shell.execute_reply": "2024-07-03T16:08:19.478108Z"
    },
    "papermill": {
     "duration": 0.31499,
     "end_time": "2024-07-03T16:08:19.480799",
     "exception": false,
     "start_time": "2024-07-03T16:08:19.165809",
     "status": "completed"
    },
    "tags": []
   },
   "outputs": [],
   "source": [
    "tmp[\"10Xrun\"] = tmp [\"Sample\"].str.split('_').str[1]\n",
    "tmp[\"10Xrun\"] = tmp [\"10Xrun\"].str.extract('(\\d+)')"
   ]
  },
  {
   "cell_type": "code",
   "execution_count": 16,
   "id": "3d11f64d",
   "metadata": {
    "execution": {
     "iopub.execute_input": "2024-07-03T16:08:19.494654Z",
     "iopub.status.busy": "2024-07-03T16:08:19.494427Z",
     "iopub.status.idle": "2024-07-03T16:08:19.534468Z",
     "shell.execute_reply": "2024-07-03T16:08:19.534038Z"
    },
    "papermill": {
     "duration": 0.04811,
     "end_time": "2024-07-03T16:08:19.535768",
     "exception": false,
     "start_time": "2024-07-03T16:08:19.487658",
     "status": "completed"
    },
    "tags": []
   },
   "outputs": [],
   "source": [
    "tmp[\"Sample\"] = tmp [\"Sample\"].str.split('_').str[0]"
   ]
  },
  {
   "cell_type": "code",
   "execution_count": 17,
   "id": "b45afe80",
   "metadata": {
    "execution": {
     "iopub.execute_input": "2024-07-03T16:08:19.548761Z",
     "iopub.status.busy": "2024-07-03T16:08:19.548397Z",
     "iopub.status.idle": "2024-07-03T16:08:19.588615Z",
     "shell.execute_reply": "2024-07-03T16:08:19.588019Z"
    },
    "papermill": {
     "duration": 0.047841,
     "end_time": "2024-07-03T16:08:19.589885",
     "exception": false,
     "start_time": "2024-07-03T16:08:19.542044",
     "status": "completed"
    },
    "tags": []
   },
   "outputs": [],
   "source": [
    "tmp = tmp[['Sample', 'Barcode', 'DemuxType_crispr', 'DemuxAssignment_crispr',\n",
    "       'DemuxType_hashing', 'DemuxAssignment_hashing', 'cellline', 'timepoint','HTO', 'NGS_ID',\n",
    "       'Biological_replicate', '10Xrun', 'sublibrary', 'gRNA_library_MOI',\n",
    "       'gene_symbol', 'class']]"
   ]
  },
  {
   "cell_type": "code",
   "execution_count": 18,
   "id": "e15fc4af",
   "metadata": {
    "execution": {
     "iopub.execute_input": "2024-07-03T16:08:19.602270Z",
     "iopub.status.busy": "2024-07-03T16:08:19.601979Z",
     "iopub.status.idle": "2024-07-03T16:08:19.615069Z",
     "shell.execute_reply": "2024-07-03T16:08:19.614608Z"
    },
    "papermill": {
     "duration": 0.021056,
     "end_time": "2024-07-03T16:08:19.616657",
     "exception": false,
     "start_time": "2024-07-03T16:08:19.595601",
     "status": "completed"
    },
    "tags": []
   },
   "outputs": [
    {
     "data": {
      "text/html": [
       "<div>\n",
       "<style scoped>\n",
       "    .dataframe tbody tr th:only-of-type {\n",
       "        vertical-align: middle;\n",
       "    }\n",
       "\n",
       "    .dataframe tbody tr th {\n",
       "        vertical-align: top;\n",
       "    }\n",
       "\n",
       "    .dataframe thead th {\n",
       "        text-align: right;\n",
       "    }\n",
       "</style>\n",
       "<table border=\"1\" class=\"dataframe\">\n",
       "  <thead>\n",
       "    <tr style=\"text-align: right;\">\n",
       "      <th></th>\n",
       "      <th>Sample</th>\n",
       "      <th>Barcode</th>\n",
       "      <th>DemuxType_crispr</th>\n",
       "      <th>DemuxAssignment_crispr</th>\n",
       "      <th>DemuxType_hashing</th>\n",
       "      <th>DemuxAssignment_hashing</th>\n",
       "      <th>cellline</th>\n",
       "      <th>timepoint</th>\n",
       "      <th>HTO</th>\n",
       "      <th>NGS_ID</th>\n",
       "      <th>Biological_replicate</th>\n",
       "      <th>10Xrun</th>\n",
       "      <th>sublibrary</th>\n",
       "      <th>gRNA_library_MOI</th>\n",
       "      <th>gene_symbol</th>\n",
       "      <th>class</th>\n",
       "    </tr>\n",
       "  </thead>\n",
       "  <tbody>\n",
       "    <tr>\n",
       "      <th>SAM24456643_rep5-AAACCCAAGAGGTCAC</th>\n",
       "      <td>SAM24456643</td>\n",
       "      <td>AAACCCAAGAGGTCAC</td>\n",
       "      <td>doublet</td>\n",
       "      <td>ENSG00000176171_3,ENSG00000243811_3</td>\n",
       "      <td>singlet</td>\n",
       "      <td>SAM24439044</td>\n",
       "      <td>DLD1</td>\n",
       "      <td>day5</td>\n",
       "      <td>HTO-14</td>\n",
       "      <td>NGS5888</td>\n",
       "      <td>SAM24439044</td>\n",
       "      <td>5</td>\n",
       "      <td>GMTY210:cropseq.crisprko.cas9.human.lib3.conce...</td>\n",
       "      <td>0.5</td>\n",
       "      <td>ENSG00000176171_3,ENSG00000243811_3</td>\n",
       "      <td>ENSG00000176171_3,ENSG00000243811_3</td>\n",
       "    </tr>\n",
       "    <tr>\n",
       "      <th>SAM24456643_rep5-AAACCCAAGCCTGCCA</th>\n",
       "      <td>SAM24456643</td>\n",
       "      <td>AAACCCAAGCCTGCCA</td>\n",
       "      <td>singlet</td>\n",
       "      <td>ENSG00000134313_4</td>\n",
       "      <td>singlet</td>\n",
       "      <td>SAM24439043</td>\n",
       "      <td>DLD1</td>\n",
       "      <td>day5</td>\n",
       "      <td>HTO-1</td>\n",
       "      <td>NGS5888</td>\n",
       "      <td>SAM24439043</td>\n",
       "      <td>5</td>\n",
       "      <td>GMTY210:cropseq.crisprko.cas9.human.lib3.conce...</td>\n",
       "      <td>0.5</td>\n",
       "      <td>KIDINS220</td>\n",
       "      <td>target</td>\n",
       "    </tr>\n",
       "    <tr>\n",
       "      <th>SAM24456643_rep5-AAACCCAAGCTGTCCG</th>\n",
       "      <td>SAM24456643</td>\n",
       "      <td>AAACCCAAGCTGTCCG</td>\n",
       "      <td>unknown</td>\n",
       "      <td>unknown</td>\n",
       "      <td>singlet</td>\n",
       "      <td>SAM24439045</td>\n",
       "      <td>DLD1</td>\n",
       "      <td>day5</td>\n",
       "      <td>HTO-8</td>\n",
       "      <td>NGS5888</td>\n",
       "      <td>SAM24439045</td>\n",
       "      <td>5</td>\n",
       "      <td>GMTY210:cropseq.crisprko.cas9.human.lib3.conce...</td>\n",
       "      <td>0.5</td>\n",
       "      <td>unknown</td>\n",
       "      <td>unknown</td>\n",
       "    </tr>\n",
       "    <tr>\n",
       "      <th>SAM24456643_rep5-AAACCCAAGGTTCACT</th>\n",
       "      <td>SAM24456643</td>\n",
       "      <td>AAACCCAAGGTTCACT</td>\n",
       "      <td>singlet</td>\n",
       "      <td>ENSG00000206538_3</td>\n",
       "      <td>singlet</td>\n",
       "      <td>SAM24439044</td>\n",
       "      <td>DLD1</td>\n",
       "      <td>day5</td>\n",
       "      <td>HTO-5</td>\n",
       "      <td>NGS5888</td>\n",
       "      <td>SAM24439044</td>\n",
       "      <td>5</td>\n",
       "      <td>GMTY210:cropseq.crisprko.cas9.human.lib3.conce...</td>\n",
       "      <td>0.5</td>\n",
       "      <td>VGLL3</td>\n",
       "      <td>target</td>\n",
       "    </tr>\n",
       "    <tr>\n",
       "      <th>SAM24456643_rep5-AAACCCAAGGTTGGAC</th>\n",
       "      <td>SAM24456643</td>\n",
       "      <td>AAACCCAAGGTTGGAC</td>\n",
       "      <td>doublet</td>\n",
       "      <td>ENSG00000223611_1,ENSG00000142549_4</td>\n",
       "      <td>singlet</td>\n",
       "      <td>SAM24439043</td>\n",
       "      <td>DLD1</td>\n",
       "      <td>day5</td>\n",
       "      <td>HTO-2</td>\n",
       "      <td>NGS5888</td>\n",
       "      <td>SAM24439043</td>\n",
       "      <td>5</td>\n",
       "      <td>GMTY210:cropseq.crisprko.cas9.human.lib3.conce...</td>\n",
       "      <td>0.5</td>\n",
       "      <td>ENSG00000223611_1,ENSG00000142549_4</td>\n",
       "      <td>ENSG00000223611_1,ENSG00000142549_4</td>\n",
       "    </tr>\n",
       "    <tr>\n",
       "      <th>...</th>\n",
       "      <td>...</td>\n",
       "      <td>...</td>\n",
       "      <td>...</td>\n",
       "      <td>...</td>\n",
       "      <td>...</td>\n",
       "      <td>...</td>\n",
       "      <td>...</td>\n",
       "      <td>...</td>\n",
       "      <td>...</td>\n",
       "      <td>...</td>\n",
       "      <td>...</td>\n",
       "      <td>...</td>\n",
       "      <td>...</td>\n",
       "      <td>...</td>\n",
       "      <td>...</td>\n",
       "      <td>...</td>\n",
       "    </tr>\n",
       "    <tr>\n",
       "      <th>SAM24456643_rep8-TTTGTTGTCAGGGATG</th>\n",
       "      <td>SAM24456643</td>\n",
       "      <td>TTTGTTGTCAGGGATG</td>\n",
       "      <td>unknown</td>\n",
       "      <td>unknown</td>\n",
       "      <td>unknown</td>\n",
       "      <td>unknown</td>\n",
       "      <td>unknown</td>\n",
       "      <td>unknown</td>\n",
       "      <td>unknown</td>\n",
       "      <td>unknown</td>\n",
       "      <td>unknown</td>\n",
       "      <td>8</td>\n",
       "      <td>unknown</td>\n",
       "      <td>unknown</td>\n",
       "      <td>unknown</td>\n",
       "      <td>unknown</td>\n",
       "    </tr>\n",
       "    <tr>\n",
       "      <th>SAM24456643_rep8-TTTGTTGTCCATCGTC</th>\n",
       "      <td>SAM24456643</td>\n",
       "      <td>TTTGTTGTCCATCGTC</td>\n",
       "      <td>singlet</td>\n",
       "      <td>ENSG00000136273_2</td>\n",
       "      <td>singlet</td>\n",
       "      <td>SAM24439044</td>\n",
       "      <td>DLD1</td>\n",
       "      <td>day5</td>\n",
       "      <td>HTO-6</td>\n",
       "      <td>NGS5888</td>\n",
       "      <td>SAM24439044</td>\n",
       "      <td>8</td>\n",
       "      <td>GMTY210:cropseq.crisprko.cas9.human.lib3.conce...</td>\n",
       "      <td>0.5</td>\n",
       "      <td>HUS1</td>\n",
       "      <td>target</td>\n",
       "    </tr>\n",
       "    <tr>\n",
       "      <th>SAM24456643_rep8-TTTGTTGTCGATCCAA</th>\n",
       "      <td>SAM24456643</td>\n",
       "      <td>TTTGTTGTCGATCCAA</td>\n",
       "      <td>doublet</td>\n",
       "      <td>ENSG00000198108_1,ENSG00000178187_3,ENSG000001...</td>\n",
       "      <td>singlet</td>\n",
       "      <td>SAM24439044</td>\n",
       "      <td>DLD1</td>\n",
       "      <td>day5</td>\n",
       "      <td>HTO-13</td>\n",
       "      <td>NGS5888</td>\n",
       "      <td>SAM24439044</td>\n",
       "      <td>8</td>\n",
       "      <td>GMTY210:cropseq.crisprko.cas9.human.lib3.conce...</td>\n",
       "      <td>0.5</td>\n",
       "      <td>ENSG00000198108_1,ENSG00000178187_3,ENSG000001...</td>\n",
       "      <td>ENSG00000198108_1,ENSG00000178187_3,ENSG000001...</td>\n",
       "    </tr>\n",
       "    <tr>\n",
       "      <th>SAM24456643_rep8-TTTGTTGTCGCGGACT</th>\n",
       "      <td>SAM24456643</td>\n",
       "      <td>TTTGTTGTCGCGGACT</td>\n",
       "      <td>doublet</td>\n",
       "      <td>ENSG00000276405_1,ENSG00000128891_1</td>\n",
       "      <td>singlet</td>\n",
       "      <td>SAM24439043</td>\n",
       "      <td>DLD1</td>\n",
       "      <td>day5</td>\n",
       "      <td>HTO-1</td>\n",
       "      <td>NGS5888</td>\n",
       "      <td>SAM24439043</td>\n",
       "      <td>8</td>\n",
       "      <td>GMTY210:cropseq.crisprko.cas9.human.lib3.conce...</td>\n",
       "      <td>0.5</td>\n",
       "      <td>ENSG00000276405_1,ENSG00000128891_1</td>\n",
       "      <td>ENSG00000276405_1,ENSG00000128891_1</td>\n",
       "    </tr>\n",
       "    <tr>\n",
       "      <th>SAM24456643_rep8-TTTGTTGTCTAGGCAT</th>\n",
       "      <td>SAM24456643</td>\n",
       "      <td>TTTGTTGTCTAGGCAT</td>\n",
       "      <td>unknown</td>\n",
       "      <td>unknown</td>\n",
       "      <td>unknown</td>\n",
       "      <td>unknown</td>\n",
       "      <td>unknown</td>\n",
       "      <td>unknown</td>\n",
       "      <td>unknown</td>\n",
       "      <td>unknown</td>\n",
       "      <td>unknown</td>\n",
       "      <td>8</td>\n",
       "      <td>unknown</td>\n",
       "      <td>unknown</td>\n",
       "      <td>unknown</td>\n",
       "      <td>unknown</td>\n",
       "    </tr>\n",
       "  </tbody>\n",
       "</table>\n",
       "<p>108700 rows × 16 columns</p>\n",
       "</div>"
      ],
      "text/plain": [
       "                                        Sample           Barcode  \\\n",
       "SAM24456643_rep5-AAACCCAAGAGGTCAC  SAM24456643  AAACCCAAGAGGTCAC   \n",
       "SAM24456643_rep5-AAACCCAAGCCTGCCA  SAM24456643  AAACCCAAGCCTGCCA   \n",
       "SAM24456643_rep5-AAACCCAAGCTGTCCG  SAM24456643  AAACCCAAGCTGTCCG   \n",
       "SAM24456643_rep5-AAACCCAAGGTTCACT  SAM24456643  AAACCCAAGGTTCACT   \n",
       "SAM24456643_rep5-AAACCCAAGGTTGGAC  SAM24456643  AAACCCAAGGTTGGAC   \n",
       "...                                        ...               ...   \n",
       "SAM24456643_rep8-TTTGTTGTCAGGGATG  SAM24456643  TTTGTTGTCAGGGATG   \n",
       "SAM24456643_rep8-TTTGTTGTCCATCGTC  SAM24456643  TTTGTTGTCCATCGTC   \n",
       "SAM24456643_rep8-TTTGTTGTCGATCCAA  SAM24456643  TTTGTTGTCGATCCAA   \n",
       "SAM24456643_rep8-TTTGTTGTCGCGGACT  SAM24456643  TTTGTTGTCGCGGACT   \n",
       "SAM24456643_rep8-TTTGTTGTCTAGGCAT  SAM24456643  TTTGTTGTCTAGGCAT   \n",
       "\n",
       "                                  DemuxType_crispr  \\\n",
       "SAM24456643_rep5-AAACCCAAGAGGTCAC          doublet   \n",
       "SAM24456643_rep5-AAACCCAAGCCTGCCA          singlet   \n",
       "SAM24456643_rep5-AAACCCAAGCTGTCCG          unknown   \n",
       "SAM24456643_rep5-AAACCCAAGGTTCACT          singlet   \n",
       "SAM24456643_rep5-AAACCCAAGGTTGGAC          doublet   \n",
       "...                                            ...   \n",
       "SAM24456643_rep8-TTTGTTGTCAGGGATG          unknown   \n",
       "SAM24456643_rep8-TTTGTTGTCCATCGTC          singlet   \n",
       "SAM24456643_rep8-TTTGTTGTCGATCCAA          doublet   \n",
       "SAM24456643_rep8-TTTGTTGTCGCGGACT          doublet   \n",
       "SAM24456643_rep8-TTTGTTGTCTAGGCAT          unknown   \n",
       "\n",
       "                                                              DemuxAssignment_crispr  \\\n",
       "SAM24456643_rep5-AAACCCAAGAGGTCAC                ENSG00000176171_3,ENSG00000243811_3   \n",
       "SAM24456643_rep5-AAACCCAAGCCTGCCA                                  ENSG00000134313_4   \n",
       "SAM24456643_rep5-AAACCCAAGCTGTCCG                                            unknown   \n",
       "SAM24456643_rep5-AAACCCAAGGTTCACT                                  ENSG00000206538_3   \n",
       "SAM24456643_rep5-AAACCCAAGGTTGGAC                ENSG00000223611_1,ENSG00000142549_4   \n",
       "...                                                                              ...   \n",
       "SAM24456643_rep8-TTTGTTGTCAGGGATG                                            unknown   \n",
       "SAM24456643_rep8-TTTGTTGTCCATCGTC                                  ENSG00000136273_2   \n",
       "SAM24456643_rep8-TTTGTTGTCGATCCAA  ENSG00000198108_1,ENSG00000178187_3,ENSG000001...   \n",
       "SAM24456643_rep8-TTTGTTGTCGCGGACT                ENSG00000276405_1,ENSG00000128891_1   \n",
       "SAM24456643_rep8-TTTGTTGTCTAGGCAT                                            unknown   \n",
       "\n",
       "                                  DemuxType_hashing DemuxAssignment_hashing  \\\n",
       "SAM24456643_rep5-AAACCCAAGAGGTCAC           singlet             SAM24439044   \n",
       "SAM24456643_rep5-AAACCCAAGCCTGCCA           singlet             SAM24439043   \n",
       "SAM24456643_rep5-AAACCCAAGCTGTCCG           singlet             SAM24439045   \n",
       "SAM24456643_rep5-AAACCCAAGGTTCACT           singlet             SAM24439044   \n",
       "SAM24456643_rep5-AAACCCAAGGTTGGAC           singlet             SAM24439043   \n",
       "...                                             ...                     ...   \n",
       "SAM24456643_rep8-TTTGTTGTCAGGGATG           unknown                 unknown   \n",
       "SAM24456643_rep8-TTTGTTGTCCATCGTC           singlet             SAM24439044   \n",
       "SAM24456643_rep8-TTTGTTGTCGATCCAA           singlet             SAM24439044   \n",
       "SAM24456643_rep8-TTTGTTGTCGCGGACT           singlet             SAM24439043   \n",
       "SAM24456643_rep8-TTTGTTGTCTAGGCAT           unknown                 unknown   \n",
       "\n",
       "                                  cellline timepoint      HTO   NGS_ID  \\\n",
       "SAM24456643_rep5-AAACCCAAGAGGTCAC     DLD1      day5   HTO-14  NGS5888   \n",
       "SAM24456643_rep5-AAACCCAAGCCTGCCA     DLD1      day5    HTO-1  NGS5888   \n",
       "SAM24456643_rep5-AAACCCAAGCTGTCCG     DLD1      day5    HTO-8  NGS5888   \n",
       "SAM24456643_rep5-AAACCCAAGGTTCACT     DLD1      day5    HTO-5  NGS5888   \n",
       "SAM24456643_rep5-AAACCCAAGGTTGGAC     DLD1      day5    HTO-2  NGS5888   \n",
       "...                                    ...       ...      ...      ...   \n",
       "SAM24456643_rep8-TTTGTTGTCAGGGATG  unknown   unknown  unknown  unknown   \n",
       "SAM24456643_rep8-TTTGTTGTCCATCGTC     DLD1      day5    HTO-6  NGS5888   \n",
       "SAM24456643_rep8-TTTGTTGTCGATCCAA     DLD1      day5   HTO-13  NGS5888   \n",
       "SAM24456643_rep8-TTTGTTGTCGCGGACT     DLD1      day5    HTO-1  NGS5888   \n",
       "SAM24456643_rep8-TTTGTTGTCTAGGCAT  unknown   unknown  unknown  unknown   \n",
       "\n",
       "                                  Biological_replicate 10Xrun  \\\n",
       "SAM24456643_rep5-AAACCCAAGAGGTCAC          SAM24439044      5   \n",
       "SAM24456643_rep5-AAACCCAAGCCTGCCA          SAM24439043      5   \n",
       "SAM24456643_rep5-AAACCCAAGCTGTCCG          SAM24439045      5   \n",
       "SAM24456643_rep5-AAACCCAAGGTTCACT          SAM24439044      5   \n",
       "SAM24456643_rep5-AAACCCAAGGTTGGAC          SAM24439043      5   \n",
       "...                                                ...    ...   \n",
       "SAM24456643_rep8-TTTGTTGTCAGGGATG              unknown      8   \n",
       "SAM24456643_rep8-TTTGTTGTCCATCGTC          SAM24439044      8   \n",
       "SAM24456643_rep8-TTTGTTGTCGATCCAA          SAM24439044      8   \n",
       "SAM24456643_rep8-TTTGTTGTCGCGGACT          SAM24439043      8   \n",
       "SAM24456643_rep8-TTTGTTGTCTAGGCAT              unknown      8   \n",
       "\n",
       "                                                                          sublibrary  \\\n",
       "SAM24456643_rep5-AAACCCAAGAGGTCAC  GMTY210:cropseq.crisprko.cas9.human.lib3.conce...   \n",
       "SAM24456643_rep5-AAACCCAAGCCTGCCA  GMTY210:cropseq.crisprko.cas9.human.lib3.conce...   \n",
       "SAM24456643_rep5-AAACCCAAGCTGTCCG  GMTY210:cropseq.crisprko.cas9.human.lib3.conce...   \n",
       "SAM24456643_rep5-AAACCCAAGGTTCACT  GMTY210:cropseq.crisprko.cas9.human.lib3.conce...   \n",
       "SAM24456643_rep5-AAACCCAAGGTTGGAC  GMTY210:cropseq.crisprko.cas9.human.lib3.conce...   \n",
       "...                                                                              ...   \n",
       "SAM24456643_rep8-TTTGTTGTCAGGGATG                                            unknown   \n",
       "SAM24456643_rep8-TTTGTTGTCCATCGTC  GMTY210:cropseq.crisprko.cas9.human.lib3.conce...   \n",
       "SAM24456643_rep8-TTTGTTGTCGATCCAA  GMTY210:cropseq.crisprko.cas9.human.lib3.conce...   \n",
       "SAM24456643_rep8-TTTGTTGTCGCGGACT  GMTY210:cropseq.crisprko.cas9.human.lib3.conce...   \n",
       "SAM24456643_rep8-TTTGTTGTCTAGGCAT                                            unknown   \n",
       "\n",
       "                                  gRNA_library_MOI  \\\n",
       "SAM24456643_rep5-AAACCCAAGAGGTCAC              0.5   \n",
       "SAM24456643_rep5-AAACCCAAGCCTGCCA              0.5   \n",
       "SAM24456643_rep5-AAACCCAAGCTGTCCG              0.5   \n",
       "SAM24456643_rep5-AAACCCAAGGTTCACT              0.5   \n",
       "SAM24456643_rep5-AAACCCAAGGTTGGAC              0.5   \n",
       "...                                            ...   \n",
       "SAM24456643_rep8-TTTGTTGTCAGGGATG          unknown   \n",
       "SAM24456643_rep8-TTTGTTGTCCATCGTC              0.5   \n",
       "SAM24456643_rep8-TTTGTTGTCGATCCAA              0.5   \n",
       "SAM24456643_rep8-TTTGTTGTCGCGGACT              0.5   \n",
       "SAM24456643_rep8-TTTGTTGTCTAGGCAT          unknown   \n",
       "\n",
       "                                                                         gene_symbol  \\\n",
       "SAM24456643_rep5-AAACCCAAGAGGTCAC                ENSG00000176171_3,ENSG00000243811_3   \n",
       "SAM24456643_rep5-AAACCCAAGCCTGCCA                                          KIDINS220   \n",
       "SAM24456643_rep5-AAACCCAAGCTGTCCG                                            unknown   \n",
       "SAM24456643_rep5-AAACCCAAGGTTCACT                                              VGLL3   \n",
       "SAM24456643_rep5-AAACCCAAGGTTGGAC                ENSG00000223611_1,ENSG00000142549_4   \n",
       "...                                                                              ...   \n",
       "SAM24456643_rep8-TTTGTTGTCAGGGATG                                            unknown   \n",
       "SAM24456643_rep8-TTTGTTGTCCATCGTC                                               HUS1   \n",
       "SAM24456643_rep8-TTTGTTGTCGATCCAA  ENSG00000198108_1,ENSG00000178187_3,ENSG000001...   \n",
       "SAM24456643_rep8-TTTGTTGTCGCGGACT                ENSG00000276405_1,ENSG00000128891_1   \n",
       "SAM24456643_rep8-TTTGTTGTCTAGGCAT                                            unknown   \n",
       "\n",
       "                                                                               class  \n",
       "SAM24456643_rep5-AAACCCAAGAGGTCAC                ENSG00000176171_3,ENSG00000243811_3  \n",
       "SAM24456643_rep5-AAACCCAAGCCTGCCA                                             target  \n",
       "SAM24456643_rep5-AAACCCAAGCTGTCCG                                            unknown  \n",
       "SAM24456643_rep5-AAACCCAAGGTTCACT                                             target  \n",
       "SAM24456643_rep5-AAACCCAAGGTTGGAC                ENSG00000223611_1,ENSG00000142549_4  \n",
       "...                                                                              ...  \n",
       "SAM24456643_rep8-TTTGTTGTCAGGGATG                                            unknown  \n",
       "SAM24456643_rep8-TTTGTTGTCCATCGTC                                             target  \n",
       "SAM24456643_rep8-TTTGTTGTCGATCCAA  ENSG00000198108_1,ENSG00000178187_3,ENSG000001...  \n",
       "SAM24456643_rep8-TTTGTTGTCGCGGACT                ENSG00000276405_1,ENSG00000128891_1  \n",
       "SAM24456643_rep8-TTTGTTGTCTAGGCAT                                            unknown  \n",
       "\n",
       "[108700 rows x 16 columns]"
      ]
     },
     "execution_count": 18,
     "metadata": {},
     "output_type": "execute_result"
    }
   ],
   "source": [
    "tmp"
   ]
  },
  {
   "cell_type": "code",
   "execution_count": 19,
   "id": "a1977571",
   "metadata": {
    "execution": {
     "iopub.execute_input": "2024-07-03T16:08:19.630188Z",
     "iopub.status.busy": "2024-07-03T16:08:19.629783Z",
     "iopub.status.idle": "2024-07-03T16:08:23.462814Z",
     "shell.execute_reply": "2024-07-03T16:08:23.461497Z"
    },
    "papermill": {
     "duration": 3.841582,
     "end_time": "2024-07-03T16:08:23.464507",
     "exception": false,
     "start_time": "2024-07-03T16:08:19.622925",
     "status": "completed"
    },
    "tags": []
   },
   "outputs": [],
   "source": [
    "adata_updated = adata.copy()\n",
    "adatas_updated = adatas.copy()"
   ]
  },
  {
   "cell_type": "code",
   "execution_count": 20,
   "id": "4d2729a7",
   "metadata": {
    "execution": {
     "iopub.execute_input": "2024-07-03T16:08:23.481915Z",
     "iopub.status.busy": "2024-07-03T16:08:23.481642Z",
     "iopub.status.idle": "2024-07-03T16:08:23.485834Z",
     "shell.execute_reply": "2024-07-03T16:08:23.485374Z"
    },
    "papermill": {
     "duration": 0.0137,
     "end_time": "2024-07-03T16:08:23.486969",
     "exception": false,
     "start_time": "2024-07-03T16:08:23.473269",
     "status": "completed"
    },
    "tags": []
   },
   "outputs": [
    {
     "data": {
      "text/plain": [
       "AnnData object with n_obs × n_vars = 108700 × 36603\n",
       "    obs: 'Sample', 'Barcode', 'demux_type', 'assignment', 'cellline', 'timepoint', 'HTO', 'NGS_ID', 'Biological_replicate', 'sublibrary', 'gRNA_library_MOI', 'demux_type_v2', 'assignment_v2', 'gene_symbol', 'class'\n",
       "    var: 'ID', 'Symbol', 'Type'\n",
       "    uns: 'genome', 'modality', 'uns_dict', 'uid', 'adt_summary', '.internal'\n",
       "    layers: 'counts'"
      ]
     },
     "execution_count": 20,
     "metadata": {},
     "output_type": "execute_result"
    }
   ],
   "source": [
    "adata_updated"
   ]
  },
  {
   "cell_type": "code",
   "execution_count": 21,
   "id": "a151a1d0",
   "metadata": {
    "execution": {
     "iopub.execute_input": "2024-07-03T16:08:23.501267Z",
     "iopub.status.busy": "2024-07-03T16:08:23.500797Z",
     "iopub.status.idle": "2024-07-03T16:08:23.504550Z",
     "shell.execute_reply": "2024-07-03T16:08:23.504102Z"
    },
    "papermill": {
     "duration": 0.012081,
     "end_time": "2024-07-03T16:08:23.505709",
     "exception": false,
     "start_time": "2024-07-03T16:08:23.493628",
     "status": "completed"
    },
    "tags": []
   },
   "outputs": [
    {
     "data": {
      "text/plain": [
       "{'crispr': AnnData object with n_obs × n_vars = 108700 × 20345\n",
       "     uns: '.internal'\n",
       "     layers: 'counts',\n",
       " 'hashing': AnnData object with n_obs × n_vars = 108700 × 19\n",
       "     uns: '.internal'\n",
       "     layers: 'counts'}"
      ]
     },
     "execution_count": 21,
     "metadata": {},
     "output_type": "execute_result"
    }
   ],
   "source": [
    "adatas_updated"
   ]
  },
  {
   "cell_type": "code",
   "execution_count": 22,
   "id": "3d48fd6b",
   "metadata": {
    "execution": {
     "iopub.execute_input": "2024-07-03T16:08:23.520160Z",
     "iopub.status.busy": "2024-07-03T16:08:23.519817Z",
     "iopub.status.idle": "2024-07-03T16:08:23.544734Z",
     "shell.execute_reply": "2024-07-03T16:08:23.544164Z"
    },
    "papermill": {
     "duration": 0.033936,
     "end_time": "2024-07-03T16:08:23.546373",
     "exception": false,
     "start_time": "2024-07-03T16:08:23.512437",
     "status": "completed"
    },
    "tags": []
   },
   "outputs": [],
   "source": [
    "adata_updated.obs = tmp.copy()"
   ]
  },
  {
   "cell_type": "code",
   "execution_count": 23,
   "id": "34e44d45",
   "metadata": {
    "execution": {
     "iopub.execute_input": "2024-07-03T16:08:23.561865Z",
     "iopub.status.busy": "2024-07-03T16:08:23.561601Z",
     "iopub.status.idle": "2024-07-03T16:08:23.565410Z",
     "shell.execute_reply": "2024-07-03T16:08:23.564994Z"
    },
    "papermill": {
     "duration": 0.012844,
     "end_time": "2024-07-03T16:08:23.566628",
     "exception": false,
     "start_time": "2024-07-03T16:08:23.553784",
     "status": "completed"
    },
    "tags": []
   },
   "outputs": [
    {
     "data": {
      "text/plain": [
       "AnnData object with n_obs × n_vars = 108700 × 36603\n",
       "    obs: 'Sample', 'Barcode', 'DemuxType_crispr', 'DemuxAssignment_crispr', 'DemuxType_hashing', 'DemuxAssignment_hashing', 'cellline', 'timepoint', 'HTO', 'NGS_ID', 'Biological_replicate', '10Xrun', 'sublibrary', 'gRNA_library_MOI', 'gene_symbol', 'class'\n",
       "    var: 'ID', 'Symbol', 'Type'\n",
       "    uns: 'genome', 'modality', 'uns_dict', 'uid', 'adt_summary', '.internal'\n",
       "    layers: 'counts'"
      ]
     },
     "execution_count": 23,
     "metadata": {},
     "output_type": "execute_result"
    }
   ],
   "source": [
    "adata_updated"
   ]
  },
  {
   "cell_type": "code",
   "execution_count": 24,
   "id": "579afbb6",
   "metadata": {
    "execution": {
     "iopub.execute_input": "2024-07-03T16:08:23.582544Z",
     "iopub.status.busy": "2024-07-03T16:08:23.582225Z",
     "iopub.status.idle": "2024-07-03T16:08:23.585620Z",
     "shell.execute_reply": "2024-07-03T16:08:23.585228Z"
    },
    "papermill": {
     "duration": 0.012151,
     "end_time": "2024-07-03T16:08:23.586772",
     "exception": false,
     "start_time": "2024-07-03T16:08:23.574621",
     "status": "completed"
    },
    "tags": []
   },
   "outputs": [
    {
     "data": {
      "text/plain": [
       "{'crispr': AnnData object with n_obs × n_vars = 108700 × 20345\n",
       "     uns: '.internal'\n",
       "     layers: 'counts',\n",
       " 'hashing': AnnData object with n_obs × n_vars = 108700 × 19\n",
       "     uns: '.internal'\n",
       "     layers: 'counts'}"
      ]
     },
     "execution_count": 24,
     "metadata": {},
     "output_type": "execute_result"
    }
   ],
   "source": [
    "adatas_updated"
   ]
  },
  {
   "cell_type": "markdown",
   "id": "ab0b8db1",
   "metadata": {
    "papermill": {
     "duration": 0.006498,
     "end_time": "2024-07-03T16:08:23.599959",
     "exception": false,
     "start_time": "2024-07-03T16:08:23.593461",
     "status": "completed"
    },
    "tags": []
   },
   "source": [
    "## 4. Upload"
   ]
  },
  {
   "cell_type": "code",
   "execution_count": 25,
   "id": "b1487be5",
   "metadata": {
    "execution": {
     "iopub.execute_input": "2024-07-03T16:08:23.613880Z",
     "iopub.status.busy": "2024-07-03T16:08:23.613663Z",
     "iopub.status.idle": "2024-07-03T16:12:17.215427Z",
     "shell.execute_reply": "2024-07-03T16:12:17.214876Z"
    },
    "papermill": {
     "duration": 233.610277,
     "end_time": "2024-07-03T16:12:17.216747",
     "exception": false,
     "start_time": "2024-07-03T16:08:23.606470",
     "status": "completed"
    },
    "tags": []
   },
   "outputs": [
    {
     "name": "stdout",
     "output_type": "stream",
     "text": [
      "\n",
      "09:08:23 -> Collating dataset: 'DS000017724' metadata.\n",
      "09:08:23 -> Retrieving all project: 'DS000017724@1' metadata.\n",
      "\n",
      "09:08:23 -> Reading: 'DS000017724'.\n",
      "\n",
      "09:08:23 -> Reading: 'DS000017724 -> Experiment: main'.\n",
      "\n",
      "09:08:23 -> Reading: 'DS000017724 -> Experiment: main -> Alt. Exp.: crispr'.\n",
      "\n",
      "09:08:24 -> Reading: 'DS000017724 -> Experiment: main -> Alt. Exp.: hashing'.\n"
     ]
    },
    {
     "name": "stderr",
     "output_type": "stream",
     "text": [
      "\n",
      "PYDSDB:INFO: Experiment already contained metadata, overwriting.\n",
      "\n",
      "PYDSDB:INFO: Experiment already contained metadata, overwriting.\n",
      "\n",
      "PYDSDB:INFO: Experiment already contained metadata, overwriting.\n"
     ]
    },
    {
     "name": "stdout",
     "output_type": "stream",
     "text": [
      "Retrieving cached token data.\n",
      "Successfully authenticated.\n",
      "09:09:40 -> Retrieving all project: 'DS000017724@latest' metadata.\n",
      "09:09:41 -> Collating and validating project resources.\n",
      "09:09:41 -> Attempting upload.\n"
     ]
    },
    {
     "name": "stderr",
     "output_type": "stream",
     "text": [
      "100%|████████████████████████████████████████| 49/49 [02:09<00:00,  2.63s/file]\n"
     ]
    },
    {
     "name": "stdout",
     "output_type": "stream",
     "text": [
      "Clearing upload info.\n",
      "09:12:01 -> Upload completed.\n",
      "Processing...\n",
      "Processing...\n",
      "Processing...\n",
      "Upload successful, your DSID is 'DS000017724' and version is: '4'. Also written to 'upload_info.json' in staging dir.\n"
     ]
    }
   ],
   "source": [
    "if DS_test==False:\n",
    "    dsid, version = DS.update_dataset(New_experiment, adata_updated, adatas_updated, test=False)\n",
    "else:    \n",
    "    dsid, version = DS.update_another_dataset(test_DatasetID, True, 1, New_experiment, adata_updated, adatas_updated, test=True)"
   ]
  },
  {
   "cell_type": "code",
   "execution_count": 26,
   "id": "d97b69e7",
   "metadata": {
    "execution": {
     "iopub.execute_input": "2024-07-03T16:12:17.246722Z",
     "iopub.status.busy": "2024-07-03T16:12:17.246525Z",
     "iopub.status.idle": "2024-07-03T16:12:17.251604Z",
     "shell.execute_reply": "2024-07-03T16:12:17.251188Z"
    },
    "papermill": {
     "duration": 0.018751,
     "end_time": "2024-07-03T16:12:17.252758",
     "exception": false,
     "start_time": "2024-07-03T16:12:17.234007",
     "status": "completed"
    },
    "tags": []
   },
   "outputs": [
    {
     "data": {
      "text/plain": [
       "('DS000017724', '4')"
      ]
     },
     "execution_count": 26,
     "metadata": {},
     "output_type": "execute_result"
    }
   ],
   "source": [
    "dsid, version"
   ]
  },
  {
   "cell_type": "markdown",
   "id": "ad436ba2",
   "metadata": {
    "papermill": {
     "duration": 0.008092,
     "end_time": "2024-07-03T16:12:17.270508",
     "exception": false,
     "start_time": "2024-07-03T16:12:17.262416",
     "status": "completed"
    },
    "tags": []
   },
   "source": [
    "## 6. Retrieve back the dataset for checking purpose"
   ]
  },
  {
   "cell_type": "code",
   "execution_count": 27,
   "id": "30eee907",
   "metadata": {
    "execution": {
     "iopub.execute_input": "2024-07-03T16:12:17.287884Z",
     "iopub.status.busy": "2024-07-03T16:12:17.287459Z",
     "iopub.status.idle": "2024-07-03T16:12:17.289999Z",
     "shell.execute_reply": "2024-07-03T16:12:17.289592Z"
    },
    "papermill": {
     "duration": 0.012468,
     "end_time": "2024-07-03T16:12:17.291104",
     "exception": false,
     "start_time": "2024-07-03T16:12:17.278636",
     "status": "completed"
    },
    "tags": []
   },
   "outputs": [],
   "source": [
    "import pydsdb"
   ]
  },
  {
   "cell_type": "code",
   "execution_count": 28,
   "id": "265b143a",
   "metadata": {
    "execution": {
     "iopub.execute_input": "2024-07-03T16:12:17.308334Z",
     "iopub.status.busy": "2024-07-03T16:12:17.308163Z",
     "iopub.status.idle": "2024-07-03T16:19:03.368005Z",
     "shell.execute_reply": "2024-07-03T16:19:03.367145Z"
    },
    "papermill": {
     "duration": 406.070366,
     "end_time": "2024-07-03T16:19:03.369818",
     "exception": false,
     "start_time": "2024-07-03T16:12:17.299452",
     "status": "completed"
    },
    "tags": []
   },
   "outputs": [
    {
     "name": "stdout",
     "output_type": "stream",
     "text": [
      "\n",
      "09:12:17 -> Collating dataset: 'DS000017724' metadata.\n",
      "09:12:17 -> Retrieving all project: 'DS000017724@4' metadata.\n",
      "\n",
      "09:12:17 -> Reading: 'DS000017724'.\n",
      "\n",
      "09:12:17 -> Reading: 'DS000017724 -> Experiment: main'.\n",
      "\n",
      "09:12:17 -> Reading: 'DS000017724 -> Experiment: main -> Alt. Exp.: crispr'.\n"
     ]
    },
    {
     "name": "stderr",
     "output_type": "stream",
     "text": [
      "DS000017724 -> Experiment: main -> Alt. Exp.: crispr -> Reduced Dimensions -> NDArrays: 100%|████████████████████████████████████████| 800/800 [00:00<00:00, 752kB/s]\n",
      "DS000017724 -> Experiment: main -> Alt. Exp.: crispr -> Assay: counts -> Sparse Matrix: 100%|████████████████████████████████████████| 22.3M/22.3M [00:04<00:00, 4.99MB/s]\n",
      "DS000017724 -> Experiment: main -> Alt. Exp.: crispr -> Column Data -> Data Frame: 100%|████████████████████████████████████████| 461k/461k [00:00<00:00, 57.2MB/s]\n",
      "DS000017724 -> Experiment: main -> Alt. Exp.: crispr -> Row Data -> Data Frame: 100%|████████████████████████████████████████| 50.1k/50.1k [00:00<00:00, 39.8MB/s]\n"
     ]
    },
    {
     "name": "stdout",
     "output_type": "stream",
     "text": [
      "\n",
      "09:12:23 -> Reading: 'DS000017724 -> Experiment: main -> Alt. Exp.: hashing'.\n"
     ]
    },
    {
     "name": "stderr",
     "output_type": "stream",
     "text": [
      "DS000017724 -> Experiment: main -> Alt. Exp.: hashing -> Reduced Dimensions -> NDArrays: 100%|████████████████████████████████████████| 800/800 [00:00<00:00, 951kB/s]\n",
      "DS000017724 -> Experiment: main -> Alt. Exp.: hashing -> Assay: counts -> Sparse Matrix: 100%|████████████████████████████████████████| 8.95M/8.95M [00:03<00:00, 2.79MB/s]\n",
      "DS000017724 -> Experiment: main -> Alt. Exp.: hashing -> Column Data -> Data Frame: 100%|████████████████████████████████████████| 461k/461k [00:01<00:00, 413kB/s] \n",
      "DS000017724 -> Experiment: main -> Alt. Exp.: hashing -> Row Data -> Data Frame: 100%|████████████████████████████████████████| 90.0/90.0 [00:00<00:00, 100kB/s]\n",
      "DS000017724 -> Experiment: main -> Reduced Dimensions -> NDArrays: 100%|████████████████████████████████████████| 800/800 [00:00<00:00, 1.01MB/s]\n",
      "DS000017724 -> Experiment: main -> Assay: counts -> Sparse Matrix: 100%|████████████████████████████████████████| 2.59G/2.59G [03:12<00:00, 13.5MB/s]\n",
      "DS000017724 -> Experiment: main -> Column Data -> Data Frame -> Column: 'Sample' -> Data Frame: 100%|████████████████████████████████████████| 57.0/57.0 [00:00<00:00, 62.7kB/s]\n",
      "DS000017724 -> Experiment: main -> Column Data -> Data Frame: 100%|████████████████████████████████████████| 731k/731k [00:00<00:00, 6.87MB/s]\n",
      "DS000017724 -> Experiment: main -> Other Data -> Basic List: 100%|████████████████████████████████████████| 1.01k/1.01k [00:00<00:00, 1.08MB/s]\n",
      "DS000017724 -> Experiment: main -> Row Data -> Data Frame: 100%|████████████████████████████████████████| 408k/408k [00:00<00:00, 9.43MB/s]\n"
     ]
    },
    {
     "name": "stdout",
     "output_type": "stream",
     "text": [
      "\n",
      "09:15:49 -> Reading: 'DS000017724 -> Experiment: crispr_hashing_harmonized'.\n",
      "\n",
      "09:15:49 -> Reading: 'DS000017724 -> Experiment: crispr_hashing_harmonized -> Alt. Exp.: crispr'.\n"
     ]
    },
    {
     "name": "stderr",
     "output_type": "stream",
     "text": [
      "DS000017724 -> Experiment: crispr_hashing_harmonized -> Alt. Exp.: crispr -> Reduced Dimensions -> NDArrays: 100%|████████████████████████████████████████| 800/800 [00:00<00:00, 912kB/s]\n",
      "DS000017724 -> Experiment: crispr_hashing_harmonized -> Alt. Exp.: crispr -> Assay: counts -> Sparse Matrix: 100%|████████████████████████████████████████| 22.3M/22.3M [00:12<00:00, 1.80MB/s]\n",
      "DS000017724 -> Experiment: crispr_hashing_harmonized -> Alt. Exp.: crispr -> Column Data -> Data Frame: 100%|████████████████████████████████████████| 461k/461k [00:00<00:00, 5.83MB/s]\n",
      "DS000017724 -> Experiment: crispr_hashing_harmonized -> Alt. Exp.: crispr -> Row Data -> Data Frame: 100%|████████████████████████████████████████| 50.1k/50.1k [00:00<00:00, 28.3MB/s]\n"
     ]
    },
    {
     "name": "stdout",
     "output_type": "stream",
     "text": [
      "\n",
      "09:16:02 -> Reading: 'DS000017724 -> Experiment: crispr_hashing_harmonized -> Alt. Exp.: hashing'.\n"
     ]
    },
    {
     "name": "stderr",
     "output_type": "stream",
     "text": [
      "DS000017724 -> Experiment: crispr_hashing_harmonized -> Alt. Exp.: hashing -> Reduced Dimensions -> NDArrays: 100%|████████████████████████████████████████| 800/800 [00:00<00:00, 1.08MB/s]\n",
      "DS000017724 -> Experiment: crispr_hashing_harmonized -> Alt. Exp.: hashing -> Assay: counts -> Sparse Matrix: 100%|████████████████████████████████████████| 8.95M/8.95M [00:03<00:00, 2.48MB/s]\n",
      "DS000017724 -> Experiment: crispr_hashing_harmonized -> Alt. Exp.: hashing -> Column Data -> Data Frame: 100%|████████████████████████████████████████| 461k/461k [00:00<00:00, 4.67MB/s]\n",
      "DS000017724 -> Experiment: crispr_hashing_harmonized -> Alt. Exp.: hashing -> Row Data -> Data Frame: 100%|████████████████████████████████████████| 90.0/90.0 [00:00<00:00, 104kB/s]\n",
      "DS000017724 -> Experiment: crispr_hashing_harmonized -> Reduced Dimensions -> NDArrays: 100%|████████████████████████████████████████| 800/800 [00:00<00:00, 1.08MB/s]\n",
      "DS000017724 -> Experiment: crispr_hashing_harmonized -> Assay: counts -> Sparse Matrix: 100%|████████████████████████████████████████| 2.59G/2.59G [02:45<00:00, 15.7MB/s]\n",
      "DS000017724 -> Experiment: crispr_hashing_harmonized -> Column Data -> Data Frame: 100%|████████████████████████████████████████| 2.30M/2.30M [00:00<00:00, 6.66MB/s]\n",
      "DS000017724 -> Experiment: crispr_hashing_harmonized -> Row Data -> Data Frame: 100%|████████████████████████████████████████| 408k/408k [00:00<00:00, 1.39MB/s]\n",
      "DS000017724 -> Column Data -> Data Frame: 100%|████████████████████████████████████████| 119/119 [00:00<00:00, 141kB/s]\n",
      "DS000017724 -> Sample Mapping: 100%|████████████████████████████████████████| 1.54M/1.54M [00:00<00:00, 1.93MB/s]\n"
     ]
    }
   ],
   "source": [
    "dss = pydsdb.get_dataset(dsid, dev=DEV, version=version)"
   ]
  },
  {
   "cell_type": "code",
   "execution_count": 29,
   "id": "1ba16484",
   "metadata": {
    "execution": {
     "iopub.execute_input": "2024-07-03T16:19:03.555679Z",
     "iopub.status.busy": "2024-07-03T16:19:03.555464Z",
     "iopub.status.idle": "2024-07-03T16:19:03.564979Z",
     "shell.execute_reply": "2024-07-03T16:19:03.564450Z"
    },
    "papermill": {
     "duration": 0.100454,
     "end_time": "2024-07-03T16:19:03.566195",
     "exception": false,
     "start_time": "2024-07-03T16:19:03.465741",
     "status": "completed"
    },
    "tags": []
   },
   "outputs": [
    {
     "data": {
      "text/plain": [
       "{'.internal': {'metadata': '{\"dataset\": {\"authors\": [\"melocars\", \"ghaffars\", \"borozani\"], \"column_data\": {\"resource\": {\"path\": \"sample_data/simple.csv.gz\", \"type\": \"local\"}}, \"creation_date\": \"2024-07-02T20:09:14+00:00\", \"description\": \"Production scale screen in DLD-1 cells with 1/4 of the genome-wide CRISPR library (sub-lib-3, ~22K guides). 1 time point: Day-5. We performed 24 rxns of 10x 3\\' HT kit with an estimated loading of 52K cells. We performed a pilot study to test the library quality before the production-level sequencing. We will submit 72 libraries (24 GEX, 24 HTO and 24 sgRNA) We request 600M reads for GEX, 20M for HTO and 40M for sgRNA, after finishing QC sequencing of NGS5887. NGS has built the GEX and sgRNA libraries using automation, we will provide manually constructed HTO libraries.\", \"experiments\": [{\"resource\": {\"path\": \"experiment-1/experiment.json\", \"type\": \"local\"}, \"name\": \"main\"}, {\"resource\": {\"path\": \"experiment-2/experiment.json\", \"type\": \"local\"}, \"name\": \"crispr_hashing_harmonized\"}], \"sample_mapping\": {\"resource\": {\"path\": \"sample_mapping/simple.csv.gz\", \"type\": \"local\"}}, \"title\": \"Recursion DLD1 Library3- Screen2 (NGS5888)\"}, \"is_child\": false, \"path\": \"dataset.json\", \"$schema\": \"dataset/v2.json\"}',\n",
       "  'paths': ['dataset.json',\n",
       "   'sample_data/simple.csv.gz',\n",
       "   'sample_mapping/simple.csv.gz'],\n",
       "  'column_data':                                           has.crispr  has.hashing\n",
       "  unknown_sample_crispr_hashing_harmonized        True         True\n",
       "  SAM24456643_rep6                                True         True\n",
       "  SAM24456643_rep8                                True         True\n",
       "  SAM24456643_rep7                                True         True\n",
       "  SAM24456643_rep5                                True         True,\n",
       "  'sample_mapping':                                                        assay  \\\n",
       "  0                                  crispr_hashing_harmonized   \n",
       "  1                                  crispr_hashing_harmonized   \n",
       "  2                                  crispr_hashing_harmonized   \n",
       "  3                                  crispr_hashing_harmonized   \n",
       "  4                                  crispr_hashing_harmonized   \n",
       "  ...                                                      ...   \n",
       "  SAM24456643_rep8-TTTGTTGTCAGGGATG                       main   \n",
       "  SAM24456643_rep8-TTTGTTGTCCATCGTC                       main   \n",
       "  SAM24456643_rep8-TTTGTTGTCGATCCAA                       main   \n",
       "  SAM24456643_rep8-TTTGTTGTCGCGGACT                       main   \n",
       "  SAM24456643_rep8-TTTGTTGTCTAGGCAT                       main   \n",
       "  \n",
       "                                                                      primary  \\\n",
       "  0                                  unknown_sample_crispr_hashing_harmonized   \n",
       "  1                                  unknown_sample_crispr_hashing_harmonized   \n",
       "  2                                  unknown_sample_crispr_hashing_harmonized   \n",
       "  3                                  unknown_sample_crispr_hashing_harmonized   \n",
       "  4                                  unknown_sample_crispr_hashing_harmonized   \n",
       "  ...                                                                     ...   \n",
       "  SAM24456643_rep8-TTTGTTGTCAGGGATG                          SAM24456643_rep8   \n",
       "  SAM24456643_rep8-TTTGTTGTCCATCGTC                          SAM24456643_rep8   \n",
       "  SAM24456643_rep8-TTTGTTGTCGATCCAA                          SAM24456643_rep8   \n",
       "  SAM24456643_rep8-TTTGTTGTCGCGGACT                          SAM24456643_rep8   \n",
       "  SAM24456643_rep8-TTTGTTGTCTAGGCAT                          SAM24456643_rep8   \n",
       "  \n",
       "                                                               colname  \n",
       "  0                                  SAM24456643_rep5-AAACCCAAGAGGTCAC  \n",
       "  1                                  SAM24456643_rep5-AAACCCAAGCCTGCCA  \n",
       "  2                                  SAM24456643_rep5-AAACCCAAGCTGTCCG  \n",
       "  3                                  SAM24456643_rep5-AAACCCAAGGTTCACT  \n",
       "  4                                  SAM24456643_rep5-AAACCCAAGGTTGGAC  \n",
       "  ...                                                              ...  \n",
       "  SAM24456643_rep8-TTTGTTGTCAGGGATG  SAM24456643_rep8-TTTGTTGTCAGGGATG  \n",
       "  SAM24456643_rep8-TTTGTTGTCCATCGTC  SAM24456643_rep8-TTTGTTGTCCATCGTC  \n",
       "  SAM24456643_rep8-TTTGTTGTCGATCCAA  SAM24456643_rep8-TTTGTTGTCGATCCAA  \n",
       "  SAM24456643_rep8-TTTGTTGTCGCGGACT  SAM24456643_rep8-TTTGTTGTCGCGGACT  \n",
       "  SAM24456643_rep8-TTTGTTGTCTAGGCAT  SAM24456643_rep8-TTTGTTGTCTAGGCAT  \n",
       "  \n",
       "  [217400 rows x 3 columns],\n",
       "  'exp_nums': {'main': 1, 'crispr_hashing_harmonized': 2},\n",
       "  'permissions_info': {'owners': ['melocars', 'ghaffars', 'borozani'],\n",
       "   'read_access': 'public',\n",
       "   'scope': 'project',\n",
       "   'write_access': 'owners'},\n",
       "  'update_ready': True}}"
      ]
     },
     "execution_count": 29,
     "metadata": {},
     "output_type": "execute_result"
    }
   ],
   "source": [
    "dss.metadata"
   ]
  },
  {
   "cell_type": "code",
   "execution_count": 30,
   "id": "e1791b0a",
   "metadata": {
    "execution": {
     "iopub.execute_input": "2024-07-03T16:19:03.751257Z",
     "iopub.status.busy": "2024-07-03T16:19:03.750951Z",
     "iopub.status.idle": "2024-07-03T16:19:03.755416Z",
     "shell.execute_reply": "2024-07-03T16:19:03.754866Z"
    },
    "papermill": {
     "duration": 0.099158,
     "end_time": "2024-07-03T16:19:03.756612",
     "exception": false,
     "start_time": "2024-07-03T16:19:03.657454",
     "status": "completed"
    },
    "tags": []
   },
   "outputs": [
    {
     "name": "stdout",
     "output_type": "stream",
     "text": [
      "Class MultiAssayExperiment with 2 experiments and 5 samples \n",
      "  experiments:  \n",
      "    main: Class SingleCellExperiment with 36603 features and 108700 cells \n",
      "  mainExperimentName: None \n",
      "  assays: ['counts'] \n",
      "  features: Index(['ID', 'Symbol', 'Type'], dtype='object') \n",
      "  cell annotations: Index(['Sample', 'Barcode'], dtype='object') \n",
      "  reduced dimensions: [] \n",
      "  alternative experiments: ['crispr', 'hashing'] \n",
      "    crispr_hashing_harmonized: Class SingleCellExperiment with 36603 features and 108700 cells \n",
      "  mainExperimentName: None \n",
      "  assays: ['counts'] \n",
      "  features: Index(['ID', 'Symbol', 'Type'], dtype='object') \n",
      "  cell annotations: Index(['Sample', 'Barcode', 'DemuxType_crispr', 'DemuxAssignment_crispr',\n",
      "       'DemuxType_hashing', 'DemuxAssignment_hashing', 'cellline', 'timepoint',\n",
      "       'HTO', 'NGS_ID', 'Biological_replicate', '10Xrun', 'sublibrary',\n",
      "       'gRNA_library_MOI', 'gene_symbol', 'class'],\n",
      "      dtype='object') \n",
      "  reduced dimensions: [] \n",
      "  alternative experiments: ['crispr', 'hashing']\n"
     ]
    }
   ],
   "source": [
    "print(dss)"
   ]
  },
  {
   "cell_type": "code",
   "execution_count": 31,
   "id": "e0f3cf25",
   "metadata": {
    "execution": {
     "iopub.execute_input": "2024-07-03T16:19:03.937756Z",
     "iopub.status.busy": "2024-07-03T16:19:03.937492Z",
     "iopub.status.idle": "2024-07-03T16:19:03.999090Z",
     "shell.execute_reply": "2024-07-03T16:19:03.998450Z"
    },
    "papermill": {
     "duration": 0.153447,
     "end_time": "2024-07-03T16:19:04.000252",
     "exception": false,
     "start_time": "2024-07-03T16:19:03.846805",
     "status": "completed"
    },
    "tags": []
   },
   "outputs": [],
   "source": [
    "adata_2, adatas_2 = dss.experiments[\"main\"].toAnnData(alts=True)"
   ]
  },
  {
   "cell_type": "code",
   "execution_count": 32,
   "id": "f2f1c3d9",
   "metadata": {
    "execution": {
     "iopub.execute_input": "2024-07-03T16:19:04.186347Z",
     "iopub.status.busy": "2024-07-03T16:19:04.186015Z",
     "iopub.status.idle": "2024-07-03T16:19:04.190841Z",
     "shell.execute_reply": "2024-07-03T16:19:04.190349Z"
    },
    "papermill": {
     "duration": 0.09715,
     "end_time": "2024-07-03T16:19:04.192040",
     "exception": false,
     "start_time": "2024-07-03T16:19:04.094890",
     "status": "completed"
    },
    "tags": []
   },
   "outputs": [
    {
     "data": {
      "text/plain": [
       "AnnData object with n_obs × n_vars = 108700 × 36603\n",
       "    obs: 'Sample', 'Barcode'\n",
       "    var: 'ID', 'Symbol', 'Type'\n",
       "    uns: 'genome', 'modality', 'uns_dict', 'uid', 'adt_summary', '.internal'\n",
       "    layers: 'counts'"
      ]
     },
     "execution_count": 32,
     "metadata": {},
     "output_type": "execute_result"
    }
   ],
   "source": [
    "adata_2"
   ]
  },
  {
   "cell_type": "code",
   "execution_count": 33,
   "id": "8097a474",
   "metadata": {
    "execution": {
     "iopub.execute_input": "2024-07-03T16:19:04.376441Z",
     "iopub.status.busy": "2024-07-03T16:19:04.376105Z",
     "iopub.status.idle": "2024-07-03T16:19:04.380381Z",
     "shell.execute_reply": "2024-07-03T16:19:04.379889Z"
    },
    "papermill": {
     "duration": 0.097243,
     "end_time": "2024-07-03T16:19:04.381599",
     "exception": false,
     "start_time": "2024-07-03T16:19:04.284356",
     "status": "completed"
    },
    "tags": []
   },
   "outputs": [
    {
     "data": {
      "text/plain": [
       "{'crispr': AnnData object with n_obs × n_vars = 108700 × 20345\n",
       "     uns: '.internal'\n",
       "     layers: 'counts',\n",
       " 'hashing': AnnData object with n_obs × n_vars = 108700 × 19\n",
       "     uns: '.internal'\n",
       "     layers: 'counts'}"
      ]
     },
     "execution_count": 33,
     "metadata": {},
     "output_type": "execute_result"
    }
   ],
   "source": [
    "adatas_2"
   ]
  },
  {
   "cell_type": "code",
   "execution_count": 34,
   "id": "fd697007",
   "metadata": {
    "execution": {
     "iopub.execute_input": "2024-07-03T16:19:04.561745Z",
     "iopub.status.busy": "2024-07-03T16:19:04.561469Z",
     "iopub.status.idle": "2024-07-03T16:19:04.621214Z",
     "shell.execute_reply": "2024-07-03T16:19:04.620082Z"
    },
    "papermill": {
     "duration": 0.150575,
     "end_time": "2024-07-03T16:19:04.622768",
     "exception": false,
     "start_time": "2024-07-03T16:19:04.472193",
     "status": "completed"
    },
    "tags": []
   },
   "outputs": [],
   "source": [
    "adata_3, adatas_3 = dss.experiments[\"crispr_hashing_harmonized\"].toAnnData(alts=True)"
   ]
  },
  {
   "cell_type": "code",
   "execution_count": 35,
   "id": "38fb0bb2",
   "metadata": {
    "execution": {
     "iopub.execute_input": "2024-07-03T16:19:04.806810Z",
     "iopub.status.busy": "2024-07-03T16:19:04.806430Z",
     "iopub.status.idle": "2024-07-03T16:19:04.811174Z",
     "shell.execute_reply": "2024-07-03T16:19:04.810683Z"
    },
    "papermill": {
     "duration": 0.096997,
     "end_time": "2024-07-03T16:19:04.812369",
     "exception": false,
     "start_time": "2024-07-03T16:19:04.715372",
     "status": "completed"
    },
    "tags": []
   },
   "outputs": [
    {
     "data": {
      "text/plain": [
       "AnnData object with n_obs × n_vars = 108700 × 36603\n",
       "    obs: 'Sample', 'Barcode', 'DemuxType_crispr', 'DemuxAssignment_crispr', 'DemuxType_hashing', 'DemuxAssignment_hashing', 'cellline', 'timepoint', 'HTO', 'NGS_ID', 'Biological_replicate', '10Xrun', 'sublibrary', 'gRNA_library_MOI', 'gene_symbol', 'class'\n",
       "    var: 'ID', 'Symbol', 'Type'\n",
       "    uns: '.internal'\n",
       "    layers: 'counts'"
      ]
     },
     "execution_count": 35,
     "metadata": {},
     "output_type": "execute_result"
    }
   ],
   "source": [
    "adata_3"
   ]
  },
  {
   "cell_type": "code",
   "execution_count": 36,
   "id": "2c238c52",
   "metadata": {
    "execution": {
     "iopub.execute_input": "2024-07-03T16:19:04.993728Z",
     "iopub.status.busy": "2024-07-03T16:19:04.993443Z",
     "iopub.status.idle": "2024-07-03T16:19:04.998346Z",
     "shell.execute_reply": "2024-07-03T16:19:04.997850Z"
    },
    "papermill": {
     "duration": 0.095796,
     "end_time": "2024-07-03T16:19:04.999483",
     "exception": false,
     "start_time": "2024-07-03T16:19:04.903687",
     "status": "completed"
    },
    "tags": []
   },
   "outputs": [
    {
     "data": {
      "text/plain": [
       "{'crispr': AnnData object with n_obs × n_vars = 108700 × 20345\n",
       "     uns: '.internal'\n",
       "     layers: 'counts',\n",
       " 'hashing': AnnData object with n_obs × n_vars = 108700 × 19\n",
       "     uns: '.internal'\n",
       "     layers: 'counts'}"
      ]
     },
     "execution_count": 36,
     "metadata": {},
     "output_type": "execute_result"
    }
   ],
   "source": [
    "adatas_3"
   ]
  }
 ],
 "metadata": {
  "kernelspec": {
   "display_name": "gpydev39",
   "language": "python",
   "name": "gpydev39"
  },
  "language_info": {
   "codemirror_mode": {
    "name": "ipython",
    "version": 3
   },
   "file_extension": ".py",
   "mimetype": "text/x-python",
   "name": "python",
   "nbconvert_exporter": "python",
   "pygments_lexer": "ipython3",
   "version": "3.9.15"
  },
  "papermill": {
   "default_parameters": {},
   "duration": 663.745017,
   "end_time": "2024-07-03T16:19:08.326070",
   "environment_variables": {},
   "exception": null,
   "input_path": "./Templates/DatasetCrisprHashing_harmonization.ipynb",
   "output_path": "/gstore/home/ghaffars/Cumulus/crc_ngs5888/crop-seq-pipeline/Reports/DS000017724_dataset_CrisprHashing_harmonization.ipynb",
   "parameters": {
    "DEV": false,
    "DS_test": false,
    "DatasetID": "DS000017724",
    "author": "SG",
    "description": "Production scale screen in DLD-1 cells with 1/4 of the genome-wide CRISPR library (sub-lib-3, ~22K guides). 1 time point: Day-5. We performed 24 rxns of 10x 3' HT kit with an estimated loading of 52K cells. We performed a pilot study to test the library quality before the production-level sequencing. We will submit 72 libraries (24 GEX, 24 HTO and 24 sgRNA) We request 600M reads for GEX, 20M for HTO and 40M for sgRNA, after finishing QC sequencing of NGS5887. NGS has built the GEX and sgRNA libraries using automation, we will provide manually constructed HTO libraries.",
    "name_space": [
     {
      "id": "GRCh38",
      "type": "genome"
     }
    ],
    "organism": "human",
    "sources": [
     {
      "id": "Siavash-1234",
      "name": "Geo-ID"
     }
    ],
    "tech_name": "scRNA-seq",
    "test_DatasetID": "",
    "title": "Recursion DLD1 Library3- Screen2 (NGS5888)",
    "your_experiment": "main"
   },
   "start_time": "2024-07-03T16:08:04.581053",
   "version": "2.6.0"
  },
  "widgets": {
   "application/vnd.jupyter.widget-state+json": {
    "state": {},
    "version_major": 2,
    "version_minor": 0
   }
  }
 },
 "nbformat": 4,
 "nbformat_minor": 5
}
