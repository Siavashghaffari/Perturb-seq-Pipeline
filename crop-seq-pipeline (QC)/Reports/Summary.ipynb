{
 "cells": [
  {
   "cell_type": "markdown",
   "metadata": {},
   "source": [
    "# Summary of NGS5704 Analysis based on different splits of Cumulus runs"
   ]
  },
  {
   "cell_type": "markdown",
   "metadata": {},
   "source": [
    "A bit of set-up"
   ]
  },
  {
   "cell_type": "code",
   "execution_count": 2,
   "metadata": {},
   "outputs": [],
   "source": [
    "import os\n",
    "import anndata as ad \n",
    "import pandas as pd\n",
    "import numpy as np\n",
    "import scanpy as sc"
   ]
  },
  {
   "cell_type": "markdown",
   "metadata": {},
   "source": [
    "- First, we splitted our dataset into 6 batches to be able to run on the Cumulus and registered each of them separately on the DSDB You can see the summary here"
   ]
  },
  {
   "cell_type": "code",
   "execution_count": 1,
   "metadata": {},
   "outputs": [],
   "source": [
    "N_splits = 4\n",
    "SAM_ID = 'SAM24449114'\n",
    "experiment_name=\"NGS5704\""
   ]
  },
  {
   "cell_type": "code",
   "execution_count": 12,
   "metadata": {},
   "outputs": [],
   "source": [
    "Dataset_HOME = f'/gstore/scratch/u/ghaffars/Dataset/crc_{experiment_name}/' # the directory that contains all AnnData files stored on the disk"
   ]
  },
  {
   "cell_type": "markdown",
   "metadata": {},
   "source": [
    "### Dataset Info"
   ]
  },
  {
   "cell_type": "code",
   "execution_count": 5,
   "metadata": {},
   "outputs": [],
   "source": [
    "dsdbs = ['DS000016632', 'DS000016634', 'DS000016633', 'DS000016631']"
   ]
  },
  {
   "cell_type": "code",
   "execution_count": 8,
   "metadata": {},
   "outputs": [],
   "source": [
    "SAM_IDs = [f'{SAM_ID}_{i+1}' for i in range(N_splits)]"
   ]
  },
  {
   "cell_type": "code",
   "execution_count": 10,
   "metadata": {},
   "outputs": [],
   "source": [
    "cell_counts=[]\n",
    "cell_filtered=[]"
   ]
  },
  {
   "cell_type": "code",
   "execution_count": 13,
   "metadata": {},
   "outputs": [],
   "source": [
    "for i in dsdbs:\n",
    "    DSID = i\n",
    "    path = f'{Dataset_HOME}/{DSID}'\n",
    "    file = os.path.abspath(os.path.join(path ,\"raw_qc.h5ad\"))\n",
    "    adata = sc.read_h5ad(file)\n",
    "    cell_counts.append(len(adata.obs))\n",
    "    bdata = adata[adata.obs[\"qc_pass\"]==True].copy()\n",
    "    cell_filtered.append(len(bdata.obs))\n",
    "    "
   ]
  },
  {
   "cell_type": "code",
   "execution_count": 14,
   "metadata": {},
   "outputs": [],
   "source": [
    "data = {'DSDB_ID':dsdbs,\n",
    "        'SAM_ID':SAM_IDs,\n",
    "        '#Cells' : cell_counts,\n",
    "        '#Cells after filtering' :cell_filtered}"
   ]
  },
  {
   "cell_type": "code",
   "execution_count": 15,
   "metadata": {},
   "outputs": [],
   "source": [
    "df=pd.DataFrame(data)"
   ]
  },
  {
   "cell_type": "code",
   "execution_count": 16,
   "metadata": {},
   "outputs": [],
   "source": [
    "sum_row = {'DSDB_ID':'Total', 'SAM_ID':'', '#Cells':df['#Cells'].sum(), '#Cells after filtering':df['#Cells after filtering'].sum()}"
   ]
  },
  {
   "cell_type": "code",
   "execution_count": 17,
   "metadata": {},
   "outputs": [
    {
     "name": "stderr",
     "output_type": "stream",
     "text": [
      "/local/28017864/ipykernel_7512/2041542741.py:1: FutureWarning: The frame.append method is deprecated and will be removed from pandas in a future version. Use pandas.concat instead.\n",
      "  df = df.append(sum_row, ignore_index=True)\n"
     ]
    }
   ],
   "source": [
    "df = df.append(sum_row, ignore_index=True)"
   ]
  },
  {
   "cell_type": "code",
   "execution_count": 18,
   "metadata": {},
   "outputs": [],
   "source": [
    "df = df.set_index('DSDB_ID')"
   ]
  },
  {
   "cell_type": "code",
   "execution_count": 19,
   "metadata": {},
   "outputs": [
    {
     "data": {
      "text/html": [
       "<div>\n",
       "<style scoped>\n",
       "    .dataframe tbody tr th:only-of-type {\n",
       "        vertical-align: middle;\n",
       "    }\n",
       "\n",
       "    .dataframe tbody tr th {\n",
       "        vertical-align: top;\n",
       "    }\n",
       "\n",
       "    .dataframe thead th {\n",
       "        text-align: right;\n",
       "    }\n",
       "</style>\n",
       "<table border=\"1\" class=\"dataframe\">\n",
       "  <thead>\n",
       "    <tr style=\"text-align: right;\">\n",
       "      <th></th>\n",
       "      <th>SAM_ID</th>\n",
       "      <th>#Cells</th>\n",
       "      <th>#Cells after filtering</th>\n",
       "    </tr>\n",
       "    <tr>\n",
       "      <th>DSDB_ID</th>\n",
       "      <th></th>\n",
       "      <th></th>\n",
       "      <th></th>\n",
       "    </tr>\n",
       "  </thead>\n",
       "  <tbody>\n",
       "    <tr>\n",
       "      <th>DS000016632</th>\n",
       "      <td>SAM24449114_1</td>\n",
       "      <td>133055</td>\n",
       "      <td>39583</td>\n",
       "    </tr>\n",
       "    <tr>\n",
       "      <th>DS000016634</th>\n",
       "      <td>SAM24449114_2</td>\n",
       "      <td>126765</td>\n",
       "      <td>35847</td>\n",
       "    </tr>\n",
       "    <tr>\n",
       "      <th>DS000016633</th>\n",
       "      <td>SAM24449114_3</td>\n",
       "      <td>129641</td>\n",
       "      <td>39026</td>\n",
       "    </tr>\n",
       "    <tr>\n",
       "      <th>DS000016631</th>\n",
       "      <td>SAM24449114_4</td>\n",
       "      <td>138283</td>\n",
       "      <td>33460</td>\n",
       "    </tr>\n",
       "    <tr>\n",
       "      <th>Total</th>\n",
       "      <td></td>\n",
       "      <td>527744</td>\n",
       "      <td>147916</td>\n",
       "    </tr>\n",
       "  </tbody>\n",
       "</table>\n",
       "</div>"
      ],
      "text/plain": [
       "                    SAM_ID  #Cells  #Cells after filtering\n",
       "DSDB_ID                                                   \n",
       "DS000016632  SAM24449114_1  133055                   39583\n",
       "DS000016634  SAM24449114_2  126765                   35847\n",
       "DS000016633  SAM24449114_3  129641                   39026\n",
       "DS000016631  SAM24449114_4  138283                   33460\n",
       "Total                       527744                  147916"
      ]
     },
     "execution_count": 19,
     "metadata": {},
     "output_type": "execute_result"
    }
   ],
   "source": [
    "df"
   ]
  },
  {
   "cell_type": "code",
   "execution_count": null,
   "metadata": {},
   "outputs": [],
   "source": []
  }
 ],
 "metadata": {
  "kernelspec": {
   "display_name": "gpuy310",
   "language": "python",
   "name": "gpuy310"
  },
  "language_info": {
   "codemirror_mode": {
    "name": "ipython",
    "version": 3
   },
   "file_extension": ".py",
   "mimetype": "text/x-python",
   "name": "python",
   "nbconvert_exporter": "python",
   "pygments_lexer": "ipython3",
   "version": "3.10.8"
  },
  "widgets": {
   "application/vnd.jupyter.widget-state+json": {
    "state": {},
    "version_major": 2,
    "version_minor": 0
   }
  }
 },
 "nbformat": 4,
 "nbformat_minor": 4
}
