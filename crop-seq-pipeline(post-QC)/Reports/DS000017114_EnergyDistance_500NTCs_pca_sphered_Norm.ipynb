{
 "cells": [
  {
   "cell_type": "code",
   "execution_count": 1,
   "id": "951b4c91",
   "metadata": {
    "execution": {
     "iopub.execute_input": "2024-08-11T09:52:55.063285Z",
     "iopub.status.busy": "2024-08-11T09:52:55.062845Z",
     "iopub.status.idle": "2024-08-11T09:52:55.069185Z",
     "shell.execute_reply": "2024-08-11T09:52:55.068763Z"
    },
    "papermill": {
     "duration": 0.016873,
     "end_time": "2024-08-11T09:52:55.070402",
     "exception": false,
     "start_time": "2024-08-11T09:52:55.053529",
     "status": "completed"
    },
    "tags": [
     "injected-parameters"
    ]
   },
   "outputs": [],
   "source": [
    "# Parameters\n",
    "DatasetID = \"DS000017114\"\n",
    "DEV = False\n",
    "test_DatasetID = \"\"\n",
    "DS_test = False\n",
    "title = \"Recursion DLD1 Library1 Screen Day 5- combination of NGS 5774 and NGS 5702\"\n",
    "description = \"Production scale screen in DLD-1 cells with 1/4 of the genome-wide CRISPR library (sub-lib-1, ~22K guides). 1 time point: Day-5. We performed 24 rxns of 10x 3' HT kit with an estimated loading of 52K cells. We performed a pilot study to test the library quality before the production-level sequencing. We will submit 72 libraries (24 GEX, 24 HTO and 24 sgRNA) We estimate need 600M for GEX, 30M for HTO and 50M for sgRNA. This is a repeat run to correct chip loading.\"\n",
    "name_space = [{\"id\": \"GRCh38\", \"type\": \"genome\"}]\n",
    "sources = [{\"id\": \"Siavash-1234\", \"name\": \"Geo-ID\"}]\n",
    "tech_name = \"scRNA-seq\"\n",
    "author = \"SG\"\n",
    "organism = \"human\"\n",
    "pVAL = 0.05\n",
    "n = 500\n",
    "embeddings_key = \"X_pca_sphered_Norm\"\n",
    "i = 10\n",
    "ED_file = \"/gstore/project/crc_recursion_gw/DLD1_Sublib1_bdev//DS000017114/Energy_Distance/e_dist_all.h5ad\"\n",
    "key_uns = \"perGene_pca_sphered_Norm_10\"\n",
    "out_csv = \"/gstore/project/crc_recursion_gw/DLD1_Sublib1_bdev//DS000017114/Energy_Distance/e_dist_500NTCs_pca_sphered_Norm_10.csv\"\n"
   ]
  },
  {
   "cell_type": "markdown",
   "id": "bb530fe7-c5ba-4ec4-b436-7f717b909ce0",
   "metadata": {
    "papermill": {
     "duration": 0.007008,
     "end_time": "2024-08-11T09:52:55.084616",
     "exception": false,
     "start_time": "2024-08-11T09:52:55.077608",
     "status": "completed"
    },
    "tags": []
   },
   "source": [
    "# EnergyDistance: "
   ]
  },
  {
   "cell_type": "code",
   "execution_count": 2,
   "id": "cdd59412-0a04-4bea-8c11-fd04e79b2a25",
   "metadata": {
    "execution": {
     "iopub.execute_input": "2024-08-11T09:52:55.098721Z",
     "iopub.status.busy": "2024-08-11T09:52:55.098408Z",
     "iopub.status.idle": "2024-08-11T09:53:00.900591Z",
     "shell.execute_reply": "2024-08-11T09:53:00.899504Z"
    },
    "papermill": {
     "duration": 5.811048,
     "end_time": "2024-08-11T09:53:00.902233",
     "exception": false,
     "start_time": "2024-08-11T09:52:55.091185",
     "status": "completed"
    },
    "tags": []
   },
   "outputs": [],
   "source": [
    "import scanpy as sc\n",
    "import numpy as np\n",
    "import pandas as pd\n",
    "from tqdm import tqdm\n",
    "import os\n",
    "#plotting\n",
    "import matplotlib\n",
    "from matplotlib import pyplot as plt\n",
    "import seaborn as sns\n",
    "from dask.distributed import Client\n",
    "import sklearn"
   ]
  },
  {
   "cell_type": "code",
   "execution_count": 3,
   "id": "73f8c9aa-f309-468a-ae92-379a64133079",
   "metadata": {
    "execution": {
     "iopub.execute_input": "2024-08-11T09:53:00.919006Z",
     "iopub.status.busy": "2024-08-11T09:53:00.918751Z",
     "iopub.status.idle": "2024-08-11T09:53:00.965194Z",
     "shell.execute_reply": "2024-08-11T09:53:00.964762Z"
    },
    "papermill": {
     "duration": 0.055981,
     "end_time": "2024-08-11T09:53:00.966527",
     "exception": false,
     "start_time": "2024-08-11T09:53:00.910546",
     "status": "completed"
    },
    "tags": []
   },
   "outputs": [],
   "source": [
    "# Please note that if we import the whole folder using __init__.py we would be running into ba Dask CanceledError due to different \n",
    "# imported Dask conflict, so we have to import only scEnergy script\n",
    "import sys\n",
    "sys.path.append(\"..\")\n",
    "import Templates.tools.scEnergy as eng "
   ]
  },
  {
   "cell_type": "code",
   "execution_count": 4,
   "id": "98e328a0-104a-414c-8c17-dbcf574bb808",
   "metadata": {
    "execution": {
     "iopub.execute_input": "2024-08-11T09:53:00.981832Z",
     "iopub.status.busy": "2024-08-11T09:53:00.981606Z",
     "iopub.status.idle": "2024-08-11T09:53:01.066355Z",
     "shell.execute_reply": "2024-08-11T09:53:01.065954Z"
    },
    "papermill": {
     "duration": 0.093892,
     "end_time": "2024-08-11T09:53:01.067646",
     "exception": false,
     "start_time": "2024-08-11T09:53:00.973754",
     "status": "completed"
    },
    "tags": []
   },
   "outputs": [],
   "source": [
    "%load_ext autoreload\n",
    "%autoreload 2"
   ]
  },
  {
   "cell_type": "code",
   "execution_count": 5,
   "id": "f83219c0-b2aa-462b-90f0-6127a96c6446",
   "metadata": {
    "execution": {
     "iopub.execute_input": "2024-08-11T09:53:01.083398Z",
     "iopub.status.busy": "2024-08-11T09:53:01.083176Z",
     "iopub.status.idle": "2024-08-11T09:54:07.132119Z",
     "shell.execute_reply": "2024-08-11T09:54:07.131573Z"
    },
    "papermill": {
     "duration": 66.058443,
     "end_time": "2024-08-11T09:54:07.133809",
     "exception": false,
     "start_time": "2024-08-11T09:53:01.075366",
     "status": "completed"
    },
    "tags": []
   },
   "outputs": [],
   "source": [
    "adata = sc.read_h5ad(ED_file)"
   ]
  },
  {
   "cell_type": "code",
   "execution_count": 6,
   "id": "87a513ff-f091-4057-8356-3cbbe0180222",
   "metadata": {
    "execution": {
     "iopub.execute_input": "2024-08-11T09:54:07.156068Z",
     "iopub.status.busy": "2024-08-11T09:54:07.155689Z",
     "iopub.status.idle": "2024-08-11T09:54:07.921997Z",
     "shell.execute_reply": "2024-08-11T09:54:07.921564Z"
    },
    "papermill": {
     "duration": 0.775365,
     "end_time": "2024-08-11T09:54:07.923152",
     "exception": false,
     "start_time": "2024-08-11T09:54:07.147787",
     "status": "completed"
    },
    "tags": []
   },
   "outputs": [
    {
     "data": {
      "text/plain": [
       "AnnData object with n_obs × n_vars = 595603 × 36603\n",
       "    obs: 'Sample', 'Barcode', 'DemuxType_crispr', 'DemuxAssignment_crispr', 'DemuxType_hashing', 'DemuxAssignment_hashing', 'cellline', 'timepoint', 'HTO', 'NGS_ID', 'Biological_replicate', '10Xrun', 'sublibrary', 'gRNA_library_MOI', 'gene_symbol', 'class', 'n_genes_by_counts', 'total_counts', 'total_counts_mt', 'pct_counts_mt', 'total_counts_ribo', 'pct_counts_ribo', 'qc_pass', 'S_score', 'G2M_score', 'phase', 'SCN_class', 'gem'\n",
       "    var: 'Symbol'\n",
       "    uns: 'DemuxAssignment_hashing_colors', 'Sample_colors', '_scvi_manager_uuid', '_scvi_uuid', 'energy_distance', 'leiden_colors', 'neighbors', 'umap'\n",
       "    obsm: 'X_pca', 'X_pca_centered', 'X_pca_sphered', 'X_pca_sphered_Norm', 'X_scVI', 'X_scVI_centered', 'X_umap'\n",
       "    layers: 'counts'\n",
       "    obsp: 'connectivities', 'distances'"
      ]
     },
     "execution_count": 6,
     "metadata": {},
     "output_type": "execute_result"
    }
   ],
   "source": [
    "adata"
   ]
  },
  {
   "cell_type": "code",
   "execution_count": 7,
   "id": "c67bb790-7856-4a60-8b97-6ea3d32bb43a",
   "metadata": {
    "execution": {
     "iopub.execute_input": "2024-08-11T09:54:07.939243Z",
     "iopub.status.busy": "2024-08-11T09:54:07.939015Z",
     "iopub.status.idle": "2024-08-11T09:54:08.021286Z",
     "shell.execute_reply": "2024-08-11T09:54:08.020846Z"
    },
    "papermill": {
     "duration": 0.091717,
     "end_time": "2024-08-11T09:54:08.022548",
     "exception": false,
     "start_time": "2024-08-11T09:54:07.930831",
     "status": "completed"
    },
    "tags": []
   },
   "outputs": [],
   "source": [
    "#adata.obs_names_make_unique()"
   ]
  },
  {
   "cell_type": "markdown",
   "id": "4427038c-fecc-4ab5-a09f-4a61f659721a",
   "metadata": {
    "papermill": {
     "duration": 0.007433,
     "end_time": "2024-08-11T09:54:08.037521",
     "exception": false,
     "start_time": "2024-08-11T09:54:08.030088",
     "status": "completed"
    },
    "tags": []
   },
   "source": [
    "## Filter adata"
   ]
  },
  {
   "cell_type": "code",
   "execution_count": 8,
   "id": "e14087aa-e751-4823-a0f6-e799da210f1b",
   "metadata": {
    "execution": {
     "iopub.execute_input": "2024-08-11T09:54:08.053155Z",
     "iopub.status.busy": "2024-08-11T09:54:08.052923Z",
     "iopub.status.idle": "2024-08-11T09:54:08.131706Z",
     "shell.execute_reply": "2024-08-11T09:54:08.131276Z"
    },
    "papermill": {
     "duration": 0.088015,
     "end_time": "2024-08-11T09:54:08.132973",
     "exception": false,
     "start_time": "2024-08-11T09:54:08.044958",
     "status": "completed"
    },
    "tags": []
   },
   "outputs": [],
   "source": [
    "#adata = adata[adata.obs[\"DemuxAssignment_hashing\"]!=\"POSITIVE_CONTROL\"].copy()"
   ]
  },
  {
   "cell_type": "code",
   "execution_count": 9,
   "id": "6ecaf0d6-5860-40a6-a1c7-b795c3d9c18f",
   "metadata": {
    "execution": {
     "iopub.execute_input": "2024-08-11T09:54:08.148372Z",
     "iopub.status.busy": "2024-08-11T09:54:08.148152Z",
     "iopub.status.idle": "2024-08-11T09:54:08.223971Z",
     "shell.execute_reply": "2024-08-11T09:54:08.223557Z"
    },
    "papermill": {
     "duration": 0.08498,
     "end_time": "2024-08-11T09:54:08.225246",
     "exception": false,
     "start_time": "2024-08-11T09:54:08.140266",
     "status": "completed"
    },
    "tags": []
   },
   "outputs": [],
   "source": [
    "#adata= adata[~adata.obs.index.duplicated(keep='first')].copy()"
   ]
  },
  {
   "cell_type": "markdown",
   "id": "344df700-9fe1-4f58-ad3c-76836012def9",
   "metadata": {
    "papermill": {
     "duration": 0.007378,
     "end_time": "2024-08-11T09:54:08.240102",
     "exception": false,
     "start_time": "2024-08-11T09:54:08.232724",
     "status": "completed"
    },
    "tags": []
   },
   "source": [
    "## correct gene_symbol for ENSGIDs"
   ]
  },
  {
   "cell_type": "code",
   "execution_count": 10,
   "id": "a21588c8-85d8-4f30-a214-c3537bdf6558",
   "metadata": {
    "execution": {
     "iopub.execute_input": "2024-08-11T09:54:08.255801Z",
     "iopub.status.busy": "2024-08-11T09:54:08.255536Z",
     "iopub.status.idle": "2024-08-11T09:54:08.334786Z",
     "shell.execute_reply": "2024-08-11T09:54:08.334358Z"
    },
    "papermill": {
     "duration": 0.088606,
     "end_time": "2024-08-11T09:54:08.335982",
     "exception": false,
     "start_time": "2024-08-11T09:54:08.247376",
     "status": "completed"
    },
    "tags": []
   },
   "outputs": [],
   "source": [
    "adata.obs['gene_symbol'] = adata.obs['gene_symbol'].apply(lambda x:x.split('_')[0])"
   ]
  },
  {
   "cell_type": "markdown",
   "id": "823dd9da-f1fb-4794-80fd-007220b51666",
   "metadata": {
    "papermill": {
     "duration": 0.007602,
     "end_time": "2024-08-11T09:54:08.351292",
     "exception": false,
     "start_time": "2024-08-11T09:54:08.343690",
     "status": "completed"
    },
    "tags": []
   },
   "source": [
    "## Subsampling NTCs"
   ]
  },
  {
   "cell_type": "code",
   "execution_count": 11,
   "id": "d5b3bbf6-912f-404d-8e7b-7f72fac2743d",
   "metadata": {
    "execution": {
     "iopub.execute_input": "2024-08-11T09:54:08.366861Z",
     "iopub.status.busy": "2024-08-11T09:54:08.366555Z",
     "iopub.status.idle": "2024-08-11T09:54:11.825804Z",
     "shell.execute_reply": "2024-08-11T09:54:11.825042Z"
    },
    "papermill": {
     "duration": 3.468959,
     "end_time": "2024-08-11T09:54:11.827538",
     "exception": false,
     "start_time": "2024-08-11T09:54:08.358579",
     "status": "completed"
    },
    "tags": []
   },
   "outputs": [],
   "source": [
    "NTC = adata[adata.obs[\"gene_symbol\"]==\"NTC\"].copy()"
   ]
  },
  {
   "cell_type": "code",
   "execution_count": 12,
   "id": "ef732a35-c6b1-40d4-a481-957f13c0df20",
   "metadata": {
    "execution": {
     "iopub.execute_input": "2024-08-11T09:54:11.845063Z",
     "iopub.status.busy": "2024-08-11T09:54:11.844807Z",
     "iopub.status.idle": "2024-08-11T09:54:12.677923Z",
     "shell.execute_reply": "2024-08-11T09:54:12.677389Z"
    },
    "papermill": {
     "duration": 0.843158,
     "end_time": "2024-08-11T09:54:12.679652",
     "exception": false,
     "start_time": "2024-08-11T09:54:11.836494",
     "status": "completed"
    },
    "tags": []
   },
   "outputs": [],
   "source": [
    "if n is not None:\n",
    "    NTC = NTC[NTC.obs.sample(n = n).index.copy()].copy()"
   ]
  },
  {
   "cell_type": "code",
   "execution_count": 13,
   "id": "ddfbd238-d92c-4dd3-a784-75a47ddb0b39",
   "metadata": {
    "execution": {
     "iopub.execute_input": "2024-08-11T09:54:12.696561Z",
     "iopub.status.busy": "2024-08-11T09:54:12.696305Z",
     "iopub.status.idle": "2024-08-11T09:54:12.776880Z",
     "shell.execute_reply": "2024-08-11T09:54:12.776462Z"
    },
    "papermill": {
     "duration": 0.090116,
     "end_time": "2024-08-11T09:54:12.777962",
     "exception": false,
     "start_time": "2024-08-11T09:54:12.687846",
     "status": "completed"
    },
    "tags": []
   },
   "outputs": [
    {
     "data": {
      "text/plain": [
       "AnnData object with n_obs × n_vars = 500 × 36603\n",
       "    obs: 'Sample', 'Barcode', 'DemuxType_crispr', 'DemuxAssignment_crispr', 'DemuxType_hashing', 'DemuxAssignment_hashing', 'cellline', 'timepoint', 'HTO', 'NGS_ID', 'Biological_replicate', '10Xrun', 'sublibrary', 'gRNA_library_MOI', 'gene_symbol', 'class', 'n_genes_by_counts', 'total_counts', 'total_counts_mt', 'pct_counts_mt', 'total_counts_ribo', 'pct_counts_ribo', 'qc_pass', 'S_score', 'G2M_score', 'phase', 'SCN_class', 'gem'\n",
       "    var: 'Symbol'\n",
       "    uns: 'DemuxAssignment_hashing_colors', 'Sample_colors', '_scvi_manager_uuid', '_scvi_uuid', 'energy_distance', 'leiden_colors', 'neighbors', 'umap'\n",
       "    obsm: 'X_pca', 'X_pca_centered', 'X_pca_sphered', 'X_pca_sphered_Norm', 'X_scVI', 'X_scVI_centered', 'X_umap'\n",
       "    layers: 'counts'\n",
       "    obsp: 'connectivities', 'distances'"
      ]
     },
     "execution_count": 13,
     "metadata": {},
     "output_type": "execute_result"
    }
   ],
   "source": [
    "NTC"
   ]
  },
  {
   "cell_type": "markdown",
   "id": "e852bb55-4b55-4a7f-9606-dca138c9eacd",
   "metadata": {
    "papermill": {
     "duration": 0.007746,
     "end_time": "2024-08-11T09:54:12.793501",
     "exception": false,
     "start_time": "2024-08-11T09:54:12.785755",
     "status": "completed"
    },
    "tags": []
   },
   "source": [
    "## Create only genes dataframe"
   ]
  },
  {
   "cell_type": "code",
   "execution_count": 14,
   "id": "e4e81638-99fe-42ff-b3fc-e3ffaced7a8d",
   "metadata": {
    "execution": {
     "iopub.execute_input": "2024-08-11T09:54:12.809748Z",
     "iopub.status.busy": "2024-08-11T09:54:12.809470Z",
     "iopub.status.idle": "2024-08-11T09:54:12.890254Z",
     "shell.execute_reply": "2024-08-11T09:54:12.889839Z"
    },
    "papermill": {
     "duration": 0.090316,
     "end_time": "2024-08-11T09:54:12.891641",
     "exception": false,
     "start_time": "2024-08-11T09:54:12.801325",
     "status": "completed"
    },
    "tags": []
   },
   "outputs": [],
   "source": [
    "genes = [el for el in adata.obs['gene_symbol'].unique()]"
   ]
  },
  {
   "cell_type": "code",
   "execution_count": 15,
   "id": "9ea9319e-fa7e-4127-b095-6a687b35a6fd",
   "metadata": {
    "execution": {
     "iopub.execute_input": "2024-08-11T09:54:12.907504Z",
     "iopub.status.busy": "2024-08-11T09:54:12.907282Z",
     "iopub.status.idle": "2024-08-11T09:54:12.980962Z",
     "shell.execute_reply": "2024-08-11T09:54:12.980545Z"
    },
    "papermill": {
     "duration": 0.083019,
     "end_time": "2024-08-11T09:54:12.982232",
     "exception": false,
     "start_time": "2024-08-11T09:54:12.899213",
     "status": "completed"
    },
    "tags": []
   },
   "outputs": [],
   "source": [
    "genes.remove(\"NTC\")"
   ]
  },
  {
   "cell_type": "code",
   "execution_count": 16,
   "id": "f66f0905-2d92-42b8-9cea-8f4098b74630",
   "metadata": {
    "execution": {
     "iopub.execute_input": "2024-08-11T09:54:12.998436Z",
     "iopub.status.busy": "2024-08-11T09:54:12.998159Z",
     "iopub.status.idle": "2024-08-11T09:56:04.863727Z",
     "shell.execute_reply": "2024-08-11T09:56:04.863196Z"
    },
    "papermill": {
     "duration": 111.875514,
     "end_time": "2024-08-11T09:56:04.865433",
     "exception": false,
     "start_time": "2024-08-11T09:54:12.989919",
     "status": "completed"
    },
    "tags": []
   },
   "outputs": [],
   "source": [
    "GENE = adata[adata.obs[\"gene_symbol\"].isin(genes)].copy()"
   ]
  },
  {
   "cell_type": "code",
   "execution_count": 17,
   "id": "14f660d5-34d2-42ff-92b8-fb62a38f4f52",
   "metadata": {
    "execution": {
     "iopub.execute_input": "2024-08-11T09:56:04.884062Z",
     "iopub.status.busy": "2024-08-11T09:56:04.883792Z",
     "iopub.status.idle": "2024-08-11T09:56:05.534925Z",
     "shell.execute_reply": "2024-08-11T09:56:05.534496Z"
    },
    "papermill": {
     "duration": 0.660947,
     "end_time": "2024-08-11T09:56:05.536099",
     "exception": false,
     "start_time": "2024-08-11T09:56:04.875152",
     "status": "completed"
    },
    "tags": []
   },
   "outputs": [
    {
     "data": {
      "text/plain": [
       "AnnData object with n_obs × n_vars = 580627 × 36603\n",
       "    obs: 'Sample', 'Barcode', 'DemuxType_crispr', 'DemuxAssignment_crispr', 'DemuxType_hashing', 'DemuxAssignment_hashing', 'cellline', 'timepoint', 'HTO', 'NGS_ID', 'Biological_replicate', '10Xrun', 'sublibrary', 'gRNA_library_MOI', 'gene_symbol', 'class', 'n_genes_by_counts', 'total_counts', 'total_counts_mt', 'pct_counts_mt', 'total_counts_ribo', 'pct_counts_ribo', 'qc_pass', 'S_score', 'G2M_score', 'phase', 'SCN_class', 'gem'\n",
       "    var: 'Symbol'\n",
       "    uns: 'DemuxAssignment_hashing_colors', 'Sample_colors', '_scvi_manager_uuid', '_scvi_uuid', 'energy_distance', 'leiden_colors', 'neighbors', 'umap'\n",
       "    obsm: 'X_pca', 'X_pca_centered', 'X_pca_sphered', 'X_pca_sphered_Norm', 'X_scVI', 'X_scVI_centered', 'X_umap'\n",
       "    layers: 'counts'\n",
       "    obsp: 'connectivities', 'distances'"
      ]
     },
     "execution_count": 17,
     "metadata": {},
     "output_type": "execute_result"
    }
   ],
   "source": [
    "GENE"
   ]
  },
  {
   "cell_type": "markdown",
   "id": "1620e1f8-a3cb-405d-bffa-a0393fce64d0",
   "metadata": {
    "papermill": {
     "duration": 0.008059,
     "end_time": "2024-08-11T09:56:05.552134",
     "exception": false,
     "start_time": "2024-08-11T09:56:05.544075",
     "status": "completed"
    },
    "tags": []
   },
   "source": [
    "## Concatenate dataframes"
   ]
  },
  {
   "cell_type": "code",
   "execution_count": 18,
   "id": "8c9f52b8-f524-4795-b8c7-0d642608d0b3",
   "metadata": {
    "execution": {
     "iopub.execute_input": "2024-08-11T09:56:05.568794Z",
     "iopub.status.busy": "2024-08-11T09:56:05.568567Z",
     "iopub.status.idle": "2024-08-11T09:57:13.401259Z",
     "shell.execute_reply": "2024-08-11T09:57:13.400714Z"
    },
    "papermill": {
     "duration": 67.843089,
     "end_time": "2024-08-11T09:57:13.403009",
     "exception": false,
     "start_time": "2024-08-11T09:56:05.559920",
     "status": "completed"
    },
    "tags": []
   },
   "outputs": [
    {
     "name": "stderr",
     "output_type": "stream",
     "text": [
      "/apps/user/gpy/envs/dev/GPUy310pascal/lib/python3.10/site-packages/anndata/_core/anndata.py:1805: FutureWarning: The AnnData.concatenate method is deprecated in favour of the anndata.concat function. Please use anndata.concat instead.\n",
      "\n",
      "See the tutorial for concat at: https://anndata.readthedocs.io/en/latest/concatenation.html\n",
      "  warnings.warn(\n"
     ]
    }
   ],
   "source": [
    "c = NTC.concatenate(GENE)"
   ]
  },
  {
   "cell_type": "code",
   "execution_count": 19,
   "id": "8cdbf30e-97ad-459d-99b6-14863644eaaf",
   "metadata": {
    "execution": {
     "iopub.execute_input": "2024-08-11T09:57:13.422975Z",
     "iopub.status.busy": "2024-08-11T09:57:13.422723Z",
     "iopub.status.idle": "2024-08-11T09:57:14.161427Z",
     "shell.execute_reply": "2024-08-11T09:57:14.161004Z"
    },
    "papermill": {
     "duration": 0.748618,
     "end_time": "2024-08-11T09:57:14.162597",
     "exception": false,
     "start_time": "2024-08-11T09:57:13.413979",
     "status": "completed"
    },
    "tags": []
   },
   "outputs": [
    {
     "data": {
      "text/plain": [
       "AnnData object with n_obs × n_vars = 581127 × 36603\n",
       "    obs: 'Sample', 'Barcode', 'DemuxType_crispr', 'DemuxAssignment_crispr', 'DemuxType_hashing', 'DemuxAssignment_hashing', 'cellline', 'timepoint', 'HTO', 'NGS_ID', 'Biological_replicate', '10Xrun', 'sublibrary', 'gRNA_library_MOI', 'gene_symbol', 'class', 'n_genes_by_counts', 'total_counts', 'total_counts_mt', 'pct_counts_mt', 'total_counts_ribo', 'pct_counts_ribo', 'qc_pass', 'S_score', 'G2M_score', 'phase', 'SCN_class', 'gem', 'batch'\n",
       "    var: 'Symbol'\n",
       "    obsm: 'X_pca', 'X_pca_centered', 'X_pca_sphered', 'X_pca_sphered_Norm', 'X_scVI', 'X_scVI_centered', 'X_umap'\n",
       "    layers: 'counts'"
      ]
     },
     "execution_count": 19,
     "metadata": {},
     "output_type": "execute_result"
    }
   ],
   "source": [
    "c"
   ]
  },
  {
   "cell_type": "markdown",
   "id": "3db08d9b-28f8-430a-ad74-56547d569cc6",
   "metadata": {
    "papermill": {
     "duration": 0.008159,
     "end_time": "2024-08-11T09:57:14.178979",
     "exception": false,
     "start_time": "2024-08-11T09:57:14.170820",
     "status": "completed"
    },
    "tags": []
   },
   "source": [
    "## Create dictionary with NTCs. Pool them first"
   ]
  },
  {
   "cell_type": "markdown",
   "id": "3d007d11-9219-4c2b-8e0e-2ba51654666c",
   "metadata": {
    "papermill": {
     "duration": 0.00792,
     "end_time": "2024-08-11T09:57:14.195017",
     "exception": false,
     "start_time": "2024-08-11T09:57:14.187097",
     "status": "completed"
    },
    "tags": []
   },
   "source": [
    "### This is to calculate consistency among NTCs"
   ]
  },
  {
   "cell_type": "code",
   "execution_count": 20,
   "id": "759879c3-9623-418f-a374-184854b075f7",
   "metadata": {
    "execution": {
     "iopub.execute_input": "2024-08-11T09:57:14.211879Z",
     "iopub.status.busy": "2024-08-11T09:57:14.211481Z",
     "iopub.status.idle": "2024-08-11T09:57:14.292435Z",
     "shell.execute_reply": "2024-08-11T09:57:14.291999Z"
    },
    "papermill": {
     "duration": 0.090825,
     "end_time": "2024-08-11T09:57:14.293735",
     "exception": false,
     "start_time": "2024-08-11T09:57:14.202910",
     "status": "completed"
    },
    "tags": []
   },
   "outputs": [],
   "source": [
    "ntcs_perturbations = [el for el in NTC.obs['DemuxAssignment_crispr'].unique()]"
   ]
  },
  {
   "cell_type": "markdown",
   "id": "4f2fe9be-a67e-4bd0-8833-013a6ae94b65",
   "metadata": {
    "papermill": {
     "duration": 0.008142,
     "end_time": "2024-08-11T09:57:14.310134",
     "exception": false,
     "start_time": "2024-08-11T09:57:14.301992",
     "status": "completed"
    },
    "tags": []
   },
   "source": [
    "### Separate NTCs"
   ]
  },
  {
   "cell_type": "code",
   "execution_count": 21,
   "id": "1b9d701c-728b-4049-bbdf-67e86c9ce513",
   "metadata": {
    "execution": {
     "iopub.execute_input": "2024-08-11T09:57:14.327489Z",
     "iopub.status.busy": "2024-08-11T09:57:14.327185Z",
     "iopub.status.idle": "2024-08-11T09:57:15.616801Z",
     "shell.execute_reply": "2024-08-11T09:57:15.616294Z"
    },
    "papermill": {
     "duration": 1.299964,
     "end_time": "2024-08-11T09:57:15.618292",
     "exception": false,
     "start_time": "2024-08-11T09:57:14.318328",
     "status": "completed"
    },
    "tags": []
   },
   "outputs": [],
   "source": [
    "ntcs = {}\n",
    "\n",
    "for el in ntcs_perturbations:\n",
    "    v = eng.get_values_umap(c, 'DemuxAssignment_crispr', el)\n",
    "    ntcs[el] = c[v].obsm[embeddings_key]"
   ]
  },
  {
   "cell_type": "code",
   "execution_count": 22,
   "id": "08e0b604-fb1b-44a7-925b-ad08fbd328c3",
   "metadata": {
    "execution": {
     "iopub.execute_input": "2024-08-11T09:57:15.636408Z",
     "iopub.status.busy": "2024-08-11T09:57:15.636030Z",
     "iopub.status.idle": "2024-08-11T09:57:37.474614Z",
     "shell.execute_reply": "2024-08-11T09:57:37.473813Z"
    },
    "papermill": {
     "duration": 21.84893,
     "end_time": "2024-08-11T09:57:37.476148",
     "exception": false,
     "start_time": "2024-08-11T09:57:15.627218",
     "status": "completed"
    },
    "tags": []
   },
   "outputs": [],
   "source": [
    "pert = {}\n",
    "\n",
    "for el in genes:\n",
    "    v = eng.get_values_umap(c, 'gene_symbol', el)\n",
    "    pert[el] = c[v].obsm[embeddings_key]"
   ]
  },
  {
   "cell_type": "code",
   "execution_count": 23,
   "id": "a639287c-e287-4cff-949c-990293ea24ab",
   "metadata": {
    "execution": {
     "iopub.execute_input": "2024-08-11T09:57:37.495300Z",
     "iopub.status.busy": "2024-08-11T09:57:37.494902Z",
     "iopub.status.idle": "2024-08-11T09:57:37.583132Z",
     "shell.execute_reply": "2024-08-11T09:57:37.582686Z"
    },
    "papermill": {
     "duration": 0.098714,
     "end_time": "2024-08-11T09:57:37.584435",
     "exception": false,
     "start_time": "2024-08-11T09:57:37.485721",
     "status": "completed"
    },
    "tags": []
   },
   "outputs": [],
   "source": [
    "ntcs_pool = {}\n",
    "W = eng.get_values_umap(c, 'gene_symbol', \"NTC\")\n",
    "ntcs_pool['pool'] = c[W].obsm[embeddings_key]"
   ]
  },
  {
   "cell_type": "markdown",
   "id": "e8298243-b82b-4b30-b9a3-1f619c0e9eb9",
   "metadata": {
    "papermill": {
     "duration": 0.008167,
     "end_time": "2024-08-11T09:57:37.600869",
     "exception": false,
     "start_time": "2024-08-11T09:57:37.592702",
     "status": "completed"
    },
    "tags": []
   },
   "source": [
    "## Run energy distance on individual NTCs to find inconsitent NTCs"
   ]
  },
  {
   "cell_type": "code",
   "execution_count": 24,
   "id": "f313f006-4df3-49fe-8058-8234ceb17586",
   "metadata": {
    "execution": {
     "iopub.execute_input": "2024-08-11T09:57:37.618070Z",
     "iopub.status.busy": "2024-08-11T09:57:37.617833Z",
     "iopub.status.idle": "2024-08-11T10:00:32.841749Z",
     "shell.execute_reply": "2024-08-11T10:00:32.841089Z"
    },
    "papermill": {
     "duration": 175.234542,
     "end_time": "2024-08-11T10:00:32.843455",
     "exception": false,
     "start_time": "2024-08-11T09:57:37.608913",
     "status": "completed"
    },
    "tags": []
   },
   "outputs": [],
   "source": [
    "ntc_consistency = eng.run(\n",
    "    client = Client(processes=True, n_workers=32),\n",
    "    perturbations = ntcs, \n",
    "    controls = ntcs_pool,\n",
    "    pool = 'No'\n",
    ")"
   ]
  },
  {
   "cell_type": "code",
   "execution_count": 25,
   "id": "75c65362-7a85-415f-b419-577dd8f1ea9c",
   "metadata": {
    "execution": {
     "iopub.execute_input": "2024-08-11T10:00:32.864837Z",
     "iopub.status.busy": "2024-08-11T10:00:32.864569Z",
     "iopub.status.idle": "2024-08-11T10:00:33.761205Z",
     "shell.execute_reply": "2024-08-11T10:00:33.760280Z"
    },
    "papermill": {
     "duration": 0.907315,
     "end_time": "2024-08-11T10:00:33.762666",
     "exception": false,
     "start_time": "2024-08-11T10:00:32.855351",
     "status": "completed"
    },
    "tags": []
   },
   "outputs": [],
   "source": [
    "ntc_consistency = pd.DataFrame(ntc_consistency).T"
   ]
  },
  {
   "cell_type": "code",
   "execution_count": 26,
   "id": "a741ab8d-effb-4f24-8b79-11495bf6bda8",
   "metadata": {
    "execution": {
     "iopub.execute_input": "2024-08-11T10:00:33.781327Z",
     "iopub.status.busy": "2024-08-11T10:00:33.780828Z",
     "iopub.status.idle": "2024-08-11T10:00:33.910943Z",
     "shell.execute_reply": "2024-08-11T10:00:33.910471Z"
    },
    "papermill": {
     "duration": 0.140445,
     "end_time": "2024-08-11T10:00:33.912105",
     "exception": false,
     "start_time": "2024-08-11T10:00:33.771660",
     "status": "completed"
    },
    "tags": []
   },
   "outputs": [
    {
     "data": {
      "text/html": [
       "<div>\n",
       "<style scoped>\n",
       "    .dataframe tbody tr th:only-of-type {\n",
       "        vertical-align: middle;\n",
       "    }\n",
       "\n",
       "    .dataframe tbody tr th {\n",
       "        vertical-align: top;\n",
       "    }\n",
       "\n",
       "    .dataframe thead th {\n",
       "        text-align: right;\n",
       "    }\n",
       "</style>\n",
       "<table border=\"1\" class=\"dataframe\">\n",
       "  <thead>\n",
       "    <tr style=\"text-align: right;\">\n",
       "      <th></th>\n",
       "      <th>pvalue</th>\n",
       "      <th>statistic</th>\n",
       "      <th>control_key</th>\n",
       "    </tr>\n",
       "  </thead>\n",
       "  <tbody>\n",
       "    <tr>\n",
       "      <th>NTC_88</th>\n",
       "      <td>0.292</td>\n",
       "      <td>1.263085</td>\n",
       "      <td>pool</td>\n",
       "    </tr>\n",
       "    <tr>\n",
       "      <th>NTC_440</th>\n",
       "      <td>0.427</td>\n",
       "      <td>4.578071</td>\n",
       "      <td>pool</td>\n",
       "    </tr>\n",
       "    <tr>\n",
       "      <th>NTC_395</th>\n",
       "      <td>0.23</td>\n",
       "      <td>5.196235</td>\n",
       "      <td>pool</td>\n",
       "    </tr>\n",
       "    <tr>\n",
       "      <th>NTC_298</th>\n",
       "      <td>0.304</td>\n",
       "      <td>2.488048</td>\n",
       "      <td>pool</td>\n",
       "    </tr>\n",
       "    <tr>\n",
       "      <th>NTC_251</th>\n",
       "      <td>0.464</td>\n",
       "      <td>2.30767</td>\n",
       "      <td>pool</td>\n",
       "    </tr>\n",
       "    <tr>\n",
       "      <th>...</th>\n",
       "      <td>...</td>\n",
       "      <td>...</td>\n",
       "      <td>...</td>\n",
       "    </tr>\n",
       "    <tr>\n",
       "      <th>NTC_474</th>\n",
       "      <td>0.263</td>\n",
       "      <td>5.132319</td>\n",
       "      <td>pool</td>\n",
       "    </tr>\n",
       "    <tr>\n",
       "      <th>NTC_299</th>\n",
       "      <td>0.969</td>\n",
       "      <td>3.315314</td>\n",
       "      <td>pool</td>\n",
       "    </tr>\n",
       "    <tr>\n",
       "      <th>NTC_475</th>\n",
       "      <td>0.283</td>\n",
       "      <td>4.96869</td>\n",
       "      <td>pool</td>\n",
       "    </tr>\n",
       "    <tr>\n",
       "      <th>NTC_121</th>\n",
       "      <td>0.988</td>\n",
       "      <td>3.102823</td>\n",
       "      <td>pool</td>\n",
       "    </tr>\n",
       "    <tr>\n",
       "      <th>NTC_442</th>\n",
       "      <td>0.242</td>\n",
       "      <td>5.263862</td>\n",
       "      <td>pool</td>\n",
       "    </tr>\n",
       "  </tbody>\n",
       "</table>\n",
       "<p>306 rows × 3 columns</p>\n",
       "</div>"
      ],
      "text/plain": [
       "        pvalue statistic control_key\n",
       "NTC_88   0.292  1.263085        pool\n",
       "NTC_440  0.427  4.578071        pool\n",
       "NTC_395   0.23  5.196235        pool\n",
       "NTC_298  0.304  2.488048        pool\n",
       "NTC_251  0.464   2.30767        pool\n",
       "...        ...       ...         ...\n",
       "NTC_474  0.263  5.132319        pool\n",
       "NTC_299  0.969  3.315314        pool\n",
       "NTC_475  0.283   4.96869        pool\n",
       "NTC_121  0.988  3.102823        pool\n",
       "NTC_442  0.242  5.263862        pool\n",
       "\n",
       "[306 rows x 3 columns]"
      ]
     },
     "execution_count": 26,
     "metadata": {},
     "output_type": "execute_result"
    }
   ],
   "source": [
    "ntc_consistency"
   ]
  },
  {
   "cell_type": "markdown",
   "id": "4b985905-981d-41e2-b609-440fe5f4aa1d",
   "metadata": {
    "papermill": {
     "duration": 0.008448,
     "end_time": "2024-08-11T10:00:33.930299",
     "exception": false,
     "start_time": "2024-08-11T10:00:33.921851",
     "status": "completed"
    },
    "tags": []
   },
   "source": [
    "### Show only inconsistent NTCs with pVAL lower than the defined cut-off"
   ]
  },
  {
   "cell_type": "code",
   "execution_count": 27,
   "id": "a2d36f5b-094c-4297-ad11-d1d17efc4317",
   "metadata": {
    "execution": {
     "iopub.execute_input": "2024-08-11T10:00:33.948415Z",
     "iopub.status.busy": "2024-08-11T10:00:33.948071Z",
     "iopub.status.idle": "2024-08-11T10:00:34.046526Z",
     "shell.execute_reply": "2024-08-11T10:00:34.046072Z"
    },
    "papermill": {
     "duration": 0.108788,
     "end_time": "2024-08-11T10:00:34.047627",
     "exception": false,
     "start_time": "2024-08-11T10:00:33.938839",
     "status": "completed"
    },
    "tags": []
   },
   "outputs": [
    {
     "data": {
      "text/html": [
       "<div>\n",
       "<style scoped>\n",
       "    .dataframe tbody tr th:only-of-type {\n",
       "        vertical-align: middle;\n",
       "    }\n",
       "\n",
       "    .dataframe tbody tr th {\n",
       "        vertical-align: top;\n",
       "    }\n",
       "\n",
       "    .dataframe thead th {\n",
       "        text-align: right;\n",
       "    }\n",
       "</style>\n",
       "<table border=\"1\" class=\"dataframe\">\n",
       "  <thead>\n",
       "    <tr style=\"text-align: right;\">\n",
       "      <th></th>\n",
       "      <th>pvalue</th>\n",
       "      <th>statistic</th>\n",
       "      <th>control_key</th>\n",
       "    </tr>\n",
       "  </thead>\n",
       "  <tbody>\n",
       "    <tr>\n",
       "      <th>NTC_495</th>\n",
       "      <td>0.028</td>\n",
       "      <td>2.427811</td>\n",
       "      <td>pool</td>\n",
       "    </tr>\n",
       "    <tr>\n",
       "      <th>NTC_203</th>\n",
       "      <td>0.045</td>\n",
       "      <td>8.155847</td>\n",
       "      <td>pool</td>\n",
       "    </tr>\n",
       "    <tr>\n",
       "      <th>NTC_341</th>\n",
       "      <td>0.022</td>\n",
       "      <td>3.874169</td>\n",
       "      <td>pool</td>\n",
       "    </tr>\n",
       "    <tr>\n",
       "      <th>NTC_103</th>\n",
       "      <td>0.039</td>\n",
       "      <td>8.406335</td>\n",
       "      <td>pool</td>\n",
       "    </tr>\n",
       "    <tr>\n",
       "      <th>NTC_258</th>\n",
       "      <td>0.004</td>\n",
       "      <td>5.635226</td>\n",
       "      <td>pool</td>\n",
       "    </tr>\n",
       "    <tr>\n",
       "      <th>NTC_262</th>\n",
       "      <td>0.031</td>\n",
       "      <td>8.537051</td>\n",
       "      <td>pool</td>\n",
       "    </tr>\n",
       "    <tr>\n",
       "      <th>NTC_424</th>\n",
       "      <td>0.035</td>\n",
       "      <td>2.340734</td>\n",
       "      <td>pool</td>\n",
       "    </tr>\n",
       "    <tr>\n",
       "      <th>NTC_236</th>\n",
       "      <td>0.048</td>\n",
       "      <td>7.637158</td>\n",
       "      <td>pool</td>\n",
       "    </tr>\n",
       "    <tr>\n",
       "      <th>NTC_162</th>\n",
       "      <td>0.034</td>\n",
       "      <td>3.663835</td>\n",
       "      <td>pool</td>\n",
       "    </tr>\n",
       "    <tr>\n",
       "      <th>NTC_76</th>\n",
       "      <td>0.031</td>\n",
       "      <td>3.78221</td>\n",
       "      <td>pool</td>\n",
       "    </tr>\n",
       "    <tr>\n",
       "      <th>NTC_392</th>\n",
       "      <td>0.042</td>\n",
       "      <td>3.462878</td>\n",
       "      <td>pool</td>\n",
       "    </tr>\n",
       "    <tr>\n",
       "      <th>NTC_344</th>\n",
       "      <td>0.02</td>\n",
       "      <td>4.261973</td>\n",
       "      <td>pool</td>\n",
       "    </tr>\n",
       "    <tr>\n",
       "      <th>NTC_464</th>\n",
       "      <td>0.01</td>\n",
       "      <td>12.660395</td>\n",
       "      <td>pool</td>\n",
       "    </tr>\n",
       "    <tr>\n",
       "      <th>NTC_445</th>\n",
       "      <td>0.036</td>\n",
       "      <td>8.238667</td>\n",
       "      <td>pool</td>\n",
       "    </tr>\n",
       "    <tr>\n",
       "      <th>NTC_231</th>\n",
       "      <td>0.009</td>\n",
       "      <td>4.502595</td>\n",
       "      <td>pool</td>\n",
       "    </tr>\n",
       "    <tr>\n",
       "      <th>NTC_486</th>\n",
       "      <td>0.013</td>\n",
       "      <td>10.075589</td>\n",
       "      <td>pool</td>\n",
       "    </tr>\n",
       "  </tbody>\n",
       "</table>\n",
       "</div>"
      ],
      "text/plain": [
       "        pvalue  statistic control_key\n",
       "NTC_495  0.028   2.427811        pool\n",
       "NTC_203  0.045   8.155847        pool\n",
       "NTC_341  0.022   3.874169        pool\n",
       "NTC_103  0.039   8.406335        pool\n",
       "NTC_258  0.004   5.635226        pool\n",
       "NTC_262  0.031   8.537051        pool\n",
       "NTC_424  0.035   2.340734        pool\n",
       "NTC_236  0.048   7.637158        pool\n",
       "NTC_162  0.034   3.663835        pool\n",
       "NTC_76   0.031    3.78221        pool\n",
       "NTC_392  0.042   3.462878        pool\n",
       "NTC_344   0.02   4.261973        pool\n",
       "NTC_464   0.01  12.660395        pool\n",
       "NTC_445  0.036   8.238667        pool\n",
       "NTC_231  0.009   4.502595        pool\n",
       "NTC_486  0.013  10.075589        pool"
      ]
     },
     "execution_count": 27,
     "metadata": {},
     "output_type": "execute_result"
    }
   ],
   "source": [
    "ntc_consistency[ntc_consistency['pvalue']<=pVAL]"
   ]
  },
  {
   "cell_type": "code",
   "execution_count": 28,
   "id": "89370a8b-d948-42f8-854a-c7943ded3292",
   "metadata": {
    "execution": {
     "iopub.execute_input": "2024-08-11T10:00:34.066515Z",
     "iopub.status.busy": "2024-08-11T10:00:34.066116Z",
     "iopub.status.idle": "2024-08-11T10:00:34.162501Z",
     "shell.execute_reply": "2024-08-11T10:00:34.161849Z"
    },
    "papermill": {
     "duration": 0.107108,
     "end_time": "2024-08-11T10:00:34.163599",
     "exception": false,
     "start_time": "2024-08-11T10:00:34.056491",
     "status": "completed"
    },
    "tags": []
   },
   "outputs": [
    {
     "data": {
      "text/plain": [
       "['NTC_258', 'NTC_464', 'NTC_231']"
      ]
     },
     "execution_count": 28,
     "metadata": {},
     "output_type": "execute_result"
    }
   ],
   "source": [
    "rm_ntcs = ntc_consistency[ntc_consistency['pvalue']<=0.01].index.tolist()\n",
    "rm_ntcs"
   ]
  },
  {
   "cell_type": "code",
   "execution_count": 29,
   "id": "c32216d2-0ecb-459b-8faf-62811c707201",
   "metadata": {
    "execution": {
     "iopub.execute_input": "2024-08-11T10:00:34.182468Z",
     "iopub.status.busy": "2024-08-11T10:00:34.181913Z",
     "iopub.status.idle": "2024-08-11T10:00:34.290032Z",
     "shell.execute_reply": "2024-08-11T10:00:34.289421Z"
    },
    "papermill": {
     "duration": 0.118979,
     "end_time": "2024-08-11T10:00:34.291528",
     "exception": false,
     "start_time": "2024-08-11T10:00:34.172549",
     "status": "completed"
    },
    "tags": []
   },
   "outputs": [],
   "source": [
    "c.obs['rm_ntc'] = 'No'\n",
    "c.obs.loc[c.obs['DemuxAssignment_crispr'].isin(rm_ntcs), 'rm_ntc'] = 'Yes'"
   ]
  },
  {
   "cell_type": "code",
   "execution_count": 30,
   "id": "f4e9a6c3-986b-4f23-9501-eb7fe38fe33b",
   "metadata": {
    "execution": {
     "iopub.execute_input": "2024-08-11T10:00:34.311033Z",
     "iopub.status.busy": "2024-08-11T10:00:34.310763Z",
     "iopub.status.idle": "2024-08-11T10:00:34.970679Z",
     "shell.execute_reply": "2024-08-11T10:00:34.970175Z"
    },
    "papermill": {
     "duration": 0.67088,
     "end_time": "2024-08-11T10:00:34.971843",
     "exception": false,
     "start_time": "2024-08-11T10:00:34.300963",
     "status": "completed"
    },
    "tags": []
   },
   "outputs": [
    {
     "data": {
      "text/plain": [
       "View of AnnData object with n_obs × n_vars = 581122 × 36603\n",
       "    obs: 'Sample', 'Barcode', 'DemuxType_crispr', 'DemuxAssignment_crispr', 'DemuxType_hashing', 'DemuxAssignment_hashing', 'cellline', 'timepoint', 'HTO', 'NGS_ID', 'Biological_replicate', '10Xrun', 'sublibrary', 'gRNA_library_MOI', 'gene_symbol', 'class', 'n_genes_by_counts', 'total_counts', 'total_counts_mt', 'pct_counts_mt', 'total_counts_ribo', 'pct_counts_ribo', 'qc_pass', 'S_score', 'G2M_score', 'phase', 'SCN_class', 'gem', 'batch', 'rm_ntc'\n",
       "    var: 'Symbol'\n",
       "    obsm: 'X_pca', 'X_pca_centered', 'X_pca_sphered', 'X_pca_sphered_Norm', 'X_scVI', 'X_scVI_centered', 'X_umap'\n",
       "    layers: 'counts'"
      ]
     },
     "execution_count": 30,
     "metadata": {},
     "output_type": "execute_result"
    }
   ],
   "source": [
    "c = c[c.obs['rm_ntc']=='No']\n",
    "c"
   ]
  },
  {
   "cell_type": "markdown",
   "id": "d898b8e3-daf4-4ef0-8603-d7ad905dd295",
   "metadata": {
    "papermill": {
     "duration": 0.009094,
     "end_time": "2024-08-11T10:00:34.990822",
     "exception": false,
     "start_time": "2024-08-11T10:00:34.981728",
     "status": "completed"
    },
    "tags": []
   },
   "source": [
    "### Update NTCs"
   ]
  },
  {
   "cell_type": "code",
   "execution_count": 31,
   "id": "0406f3af-84bb-4ec8-9dd3-405ad1576d16",
   "metadata": {
    "execution": {
     "iopub.execute_input": "2024-08-11T10:00:35.010656Z",
     "iopub.status.busy": "2024-08-11T10:00:35.010190Z",
     "iopub.status.idle": "2024-08-11T10:00:35.112389Z",
     "shell.execute_reply": "2024-08-11T10:00:35.111853Z"
    },
    "papermill": {
     "duration": 0.113646,
     "end_time": "2024-08-11T10:00:35.113712",
     "exception": false,
     "start_time": "2024-08-11T10:00:35.000066",
     "status": "completed"
    },
    "tags": []
   },
   "outputs": [],
   "source": [
    "ntcs_pool = {}\n",
    "W = eng.get_values_umap(c, 'gene_symbol', \"NTC\")\n",
    "ntcs_pool['pool'] = c[W].obsm[embeddings_key]"
   ]
  },
  {
   "cell_type": "markdown",
   "id": "6803e411-891f-43f9-a4a7-a3d260e2f7ba",
   "metadata": {
    "papermill": {
     "duration": 0.00899,
     "end_time": "2024-08-11T10:00:35.131852",
     "exception": false,
     "start_time": "2024-08-11T10:00:35.122862",
     "status": "completed"
    },
    "tags": []
   },
   "source": [
    "## Calculate actual EnergyDistance as ed"
   ]
  },
  {
   "cell_type": "code",
   "execution_count": 32,
   "id": "b96d7aa1-6b2a-4a9c-8121-4687091ea46c",
   "metadata": {
    "execution": {
     "iopub.execute_input": "2024-08-11T10:00:35.151703Z",
     "iopub.status.busy": "2024-08-11T10:00:35.151306Z",
     "iopub.status.idle": "2024-08-11T11:01:27.908173Z",
     "shell.execute_reply": "2024-08-11T11:01:27.907315Z"
    },
    "papermill": {
     "duration": 3652.768801,
     "end_time": "2024-08-11T11:01:27.909803",
     "exception": false,
     "start_time": "2024-08-11T10:00:35.141002",
     "status": "completed"
    },
    "tags": []
   },
   "outputs": [
    {
     "name": "stderr",
     "output_type": "stream",
     "text": [
      "/apps/user/gpy/envs/dev/GPUy310pascal/lib/python3.10/site-packages/distributed/node.py:182: UserWarning: Port 8787 is already in use.\n",
      "Perhaps you already have a cluster running?\n",
      "Hosting the HTTP server on port 41589 instead\n",
      "  warnings.warn(\n"
     ]
    }
   ],
   "source": [
    "ed = eng.run(\n",
    "    client = Client(processes=True, n_workers=32),\n",
    "    perturbations = pert, \n",
    "    controls = ntcs_pool,\n",
    "    pool = 'Yes'\n",
    ")"
   ]
  },
  {
   "cell_type": "markdown",
   "id": "e4ddeef4-8e83-4c14-b77c-6363890d3271",
   "metadata": {
    "papermill": {
     "duration": 0.009574,
     "end_time": "2024-08-11T11:01:30.123195",
     "exception": false,
     "start_time": "2024-08-11T11:01:30.113621",
     "status": "completed"
    },
    "tags": []
   },
   "source": [
    "### Restart the client before new Computations with the refreshed client"
   ]
  },
  {
   "cell_type": "code",
   "execution_count": 33,
   "id": "b21629f5-2e79-4b56-a581-177a7e4d26b6",
   "metadata": {
    "execution": {
     "iopub.execute_input": "2024-08-11T11:01:30.142780Z",
     "iopub.status.busy": "2024-08-11T11:01:30.142446Z",
     "iopub.status.idle": "2024-08-11T11:01:31.236474Z",
     "shell.execute_reply": "2024-08-11T11:01:31.235772Z"
    },
    "papermill": {
     "duration": 1.105747,
     "end_time": "2024-08-11T11:01:31.237991",
     "exception": false,
     "start_time": "2024-08-11T11:01:30.132244",
     "status": "completed"
    },
    "tags": []
   },
   "outputs": [],
   "source": [
    "#client = Client()\n",
    "#client.restart()"
   ]
  },
  {
   "cell_type": "code",
   "execution_count": 34,
   "id": "5c73b148-ed58-4dcd-8355-2b8a1cbdf9f2",
   "metadata": {
    "execution": {
     "iopub.execute_input": "2024-08-11T11:01:31.258515Z",
     "iopub.status.busy": "2024-08-11T11:01:31.257867Z",
     "iopub.status.idle": "2024-08-11T11:01:31.513260Z",
     "shell.execute_reply": "2024-08-11T11:01:31.512359Z"
    },
    "papermill": {
     "duration": 0.26667,
     "end_time": "2024-08-11T11:01:31.514444",
     "exception": false,
     "start_time": "2024-08-11T11:01:31.247774",
     "status": "completed"
    },
    "tags": []
   },
   "outputs": [
    {
     "data": {
      "text/html": [
       "<div>\n",
       "<style scoped>\n",
       "    .dataframe tbody tr th:only-of-type {\n",
       "        vertical-align: middle;\n",
       "    }\n",
       "\n",
       "    .dataframe tbody tr th {\n",
       "        vertical-align: top;\n",
       "    }\n",
       "\n",
       "    .dataframe thead th {\n",
       "        text-align: right;\n",
       "    }\n",
       "</style>\n",
       "<table border=\"1\" class=\"dataframe\">\n",
       "  <thead>\n",
       "    <tr style=\"text-align: right;\">\n",
       "      <th></th>\n",
       "      <th>pvalue</th>\n",
       "      <th>statistic</th>\n",
       "      <th>control_key</th>\n",
       "    </tr>\n",
       "  </thead>\n",
       "  <tbody>\n",
       "    <tr>\n",
       "      <th>ARL6IP6</th>\n",
       "      <td>0.0</td>\n",
       "      <td>0.161776</td>\n",
       "      <td>pool</td>\n",
       "    </tr>\n",
       "    <tr>\n",
       "      <th>MOSPD3</th>\n",
       "      <td>0.0</td>\n",
       "      <td>0.063049</td>\n",
       "      <td>pool</td>\n",
       "    </tr>\n",
       "    <tr>\n",
       "      <th>PRPF4B</th>\n",
       "      <td>0.0</td>\n",
       "      <td>0.178312</td>\n",
       "      <td>pool</td>\n",
       "    </tr>\n",
       "    <tr>\n",
       "      <th>RNF220</th>\n",
       "      <td>0.0</td>\n",
       "      <td>0.091917</td>\n",
       "      <td>pool</td>\n",
       "    </tr>\n",
       "    <tr>\n",
       "      <th>LRP2</th>\n",
       "      <td>0.0</td>\n",
       "      <td>0.05746</td>\n",
       "      <td>pool</td>\n",
       "    </tr>\n",
       "    <tr>\n",
       "      <th>...</th>\n",
       "      <td>...</td>\n",
       "      <td>...</td>\n",
       "      <td>...</td>\n",
       "    </tr>\n",
       "    <tr>\n",
       "      <th>ENSG00000261459</th>\n",
       "      <td>0.986</td>\n",
       "      <td>0.317238</td>\n",
       "      <td>pool</td>\n",
       "    </tr>\n",
       "    <tr>\n",
       "      <th>MCCC1</th>\n",
       "      <td>0.988</td>\n",
       "      <td>0.033716</td>\n",
       "      <td>pool</td>\n",
       "    </tr>\n",
       "    <tr>\n",
       "      <th>STK32A</th>\n",
       "      <td>0.99</td>\n",
       "      <td>0.042916</td>\n",
       "      <td>pool</td>\n",
       "    </tr>\n",
       "    <tr>\n",
       "      <th>HDGFL1</th>\n",
       "      <td>0.99</td>\n",
       "      <td>0.045659</td>\n",
       "      <td>pool</td>\n",
       "    </tr>\n",
       "    <tr>\n",
       "      <th>LEP</th>\n",
       "      <td>0.996</td>\n",
       "      <td>0.037314</td>\n",
       "      <td>pool</td>\n",
       "    </tr>\n",
       "  </tbody>\n",
       "</table>\n",
       "<p>4974 rows × 3 columns</p>\n",
       "</div>"
      ],
      "text/plain": [
       "                pvalue statistic control_key\n",
       "ARL6IP6            0.0  0.161776        pool\n",
       "MOSPD3             0.0  0.063049        pool\n",
       "PRPF4B             0.0  0.178312        pool\n",
       "RNF220             0.0  0.091917        pool\n",
       "LRP2               0.0   0.05746        pool\n",
       "...                ...       ...         ...\n",
       "ENSG00000261459  0.986  0.317238        pool\n",
       "MCCC1            0.988  0.033716        pool\n",
       "STK32A            0.99  0.042916        pool\n",
       "HDGFL1            0.99  0.045659        pool\n",
       "LEP              0.996  0.037314        pool\n",
       "\n",
       "[4974 rows x 3 columns]"
      ]
     },
     "execution_count": 34,
     "metadata": {},
     "output_type": "execute_result"
    }
   ],
   "source": [
    "PVAL = pd.DataFrame(ed).T.sort_values(by='pvalue')\n",
    "PVAL"
   ]
  },
  {
   "cell_type": "markdown",
   "id": "32a897ae-b020-4f4c-9fb6-b98b19ab43f6",
   "metadata": {
    "papermill": {
     "duration": 0.009229,
     "end_time": "2024-08-11T11:01:31.533733",
     "exception": false,
     "start_time": "2024-08-11T11:01:31.524504",
     "status": "completed"
    },
    "tags": []
   },
   "source": [
    "#### p-value should be 1/1000 at minimum (for 1000 permutations)"
   ]
  },
  {
   "cell_type": "code",
   "execution_count": 35,
   "id": "34898054-e1cf-4bb8-9105-c7e6c86d8520",
   "metadata": {
    "execution": {
     "iopub.execute_input": "2024-08-11T11:01:31.553052Z",
     "iopub.status.busy": "2024-08-11T11:01:31.552765Z",
     "iopub.status.idle": "2024-08-11T11:01:31.849664Z",
     "shell.execute_reply": "2024-08-11T11:01:31.848878Z"
    },
    "papermill": {
     "duration": 0.308334,
     "end_time": "2024-08-11T11:01:31.851186",
     "exception": false,
     "start_time": "2024-08-11T11:01:31.542852",
     "status": "completed"
    },
    "tags": []
   },
   "outputs": [],
   "source": [
    "PVAL['pvalue'] = PVAL['pvalue'].replace(0,0.001)"
   ]
  },
  {
   "cell_type": "code",
   "execution_count": 36,
   "id": "7288550e-99de-47eb-8025-256728eb7136",
   "metadata": {
    "execution": {
     "iopub.execute_input": "2024-08-11T11:01:31.871669Z",
     "iopub.status.busy": "2024-08-11T11:01:31.871368Z",
     "iopub.status.idle": "2024-08-11T11:01:32.327455Z",
     "shell.execute_reply": "2024-08-11T11:01:32.326632Z"
    },
    "papermill": {
     "duration": 0.467756,
     "end_time": "2024-08-11T11:01:32.328956",
     "exception": false,
     "start_time": "2024-08-11T11:01:31.861200",
     "status": "completed"
    },
    "tags": []
   },
   "outputs": [],
   "source": [
    "PVAL['gene_symbol'] = PVAL.index\n",
    "PVAL.to_csv(out_csv)"
   ]
  },
  {
   "cell_type": "markdown",
   "id": "f66e387d-decd-4193-b455-b69f64132c96",
   "metadata": {
    "papermill": {
     "duration": 0.009322,
     "end_time": "2024-08-11T11:01:32.348349",
     "exception": false,
     "start_time": "2024-08-11T11:01:32.339027",
     "status": "completed"
    },
    "tags": []
   },
   "source": [
    "### Add the energy distance info to adata"
   ]
  },
  {
   "cell_type": "code",
   "execution_count": 37,
   "id": "d44dfcd6-3f10-4689-a3db-d1b628be65fb",
   "metadata": {
    "execution": {
     "iopub.execute_input": "2024-08-11T11:01:32.368045Z",
     "iopub.status.busy": "2024-08-11T11:01:32.367538Z",
     "iopub.status.idle": "2024-08-11T11:01:32.578347Z",
     "shell.execute_reply": "2024-08-11T11:01:32.577460Z"
    },
    "papermill": {
     "duration": 0.222389,
     "end_time": "2024-08-11T11:01:32.579934",
     "exception": false,
     "start_time": "2024-08-11T11:01:32.357545",
     "status": "completed"
    },
    "tags": []
   },
   "outputs": [],
   "source": [
    "ed_df = pd.DataFrame(ed).T.copy()"
   ]
  },
  {
   "cell_type": "code",
   "execution_count": 38,
   "id": "2b688711-ccd5-487e-9ce3-8fb98837375d",
   "metadata": {
    "execution": {
     "iopub.execute_input": "2024-08-11T11:01:32.600684Z",
     "iopub.status.busy": "2024-08-11T11:01:32.600046Z",
     "iopub.status.idle": "2024-08-11T11:01:32.715113Z",
     "shell.execute_reply": "2024-08-11T11:01:32.714349Z"
    },
    "papermill": {
     "duration": 0.126781,
     "end_time": "2024-08-11T11:01:32.716691",
     "exception": false,
     "start_time": "2024-08-11T11:01:32.589910",
     "status": "completed"
    },
    "tags": []
   },
   "outputs": [],
   "source": [
    "ed_df['gene_symbol'] = ed_df.index\n",
    "ed_df=ed_df.reset_index(drop=True)"
   ]
  },
  {
   "cell_type": "code",
   "execution_count": 39,
   "id": "7de3cfb1-65e5-4db0-bccc-d1ea78f480ad",
   "metadata": {
    "execution": {
     "iopub.execute_input": "2024-08-11T11:01:32.737364Z",
     "iopub.status.busy": "2024-08-11T11:01:32.737116Z",
     "iopub.status.idle": "2024-08-11T11:01:32.898712Z",
     "shell.execute_reply": "2024-08-11T11:01:32.898152Z"
    },
    "papermill": {
     "duration": 0.173605,
     "end_time": "2024-08-11T11:01:32.900275",
     "exception": false,
     "start_time": "2024-08-11T11:01:32.726670",
     "status": "completed"
    },
    "tags": []
   },
   "outputs": [],
   "source": [
    "ed_df['pvalue'] = ed_df['pvalue'].replace(0,0.001)"
   ]
  },
  {
   "cell_type": "code",
   "execution_count": 40,
   "id": "7524de3d-fd55-4380-9353-8cb96e1ff450",
   "metadata": {
    "execution": {
     "iopub.execute_input": "2024-08-11T11:01:32.920906Z",
     "iopub.status.busy": "2024-08-11T11:01:32.920609Z",
     "iopub.status.idle": "2024-08-11T11:01:33.030288Z",
     "shell.execute_reply": "2024-08-11T11:01:33.029724Z"
    },
    "papermill": {
     "duration": 0.121453,
     "end_time": "2024-08-11T11:01:33.031698",
     "exception": false,
     "start_time": "2024-08-11T11:01:32.910245",
     "status": "completed"
    },
    "tags": []
   },
   "outputs": [],
   "source": [
    "ed_df = ed_df.rename(columns={\"pvalue\":\"energy_distance_pvalue\",\"statistic\":\"energy_distance_statistic\",\"control_key\":\"energy_distance_control_key\"})"
   ]
  },
  {
   "cell_type": "code",
   "execution_count": 41,
   "id": "dbea9031-c414-4d91-be7d-9db02adcb594",
   "metadata": {
    "execution": {
     "iopub.execute_input": "2024-08-11T11:01:33.052332Z",
     "iopub.status.busy": "2024-08-11T11:01:33.051886Z",
     "iopub.status.idle": "2024-08-11T11:01:33.726009Z",
     "shell.execute_reply": "2024-08-11T11:01:33.725065Z"
    },
    "papermill": {
     "duration": 0.685968,
     "end_time": "2024-08-11T11:01:33.727641",
     "exception": false,
     "start_time": "2024-08-11T11:01:33.041673",
     "status": "completed"
    },
    "tags": []
   },
   "outputs": [],
   "source": [
    "df_uns = adata.obs.reset_index().merge(ed_df, on=\"gene_symbol\", how=\"left\").set_index('index')\n",
    "df_uns.index.name = None"
   ]
  },
  {
   "cell_type": "code",
   "execution_count": 42,
   "id": "87b169e3-c899-4559-a3d8-9b451c8e5e12",
   "metadata": {
    "execution": {
     "iopub.execute_input": "2024-08-11T11:01:33.748707Z",
     "iopub.status.busy": "2024-08-11T11:01:33.748337Z",
     "iopub.status.idle": "2024-08-11T11:01:33.926763Z",
     "shell.execute_reply": "2024-08-11T11:01:33.926172Z"
    },
    "papermill": {
     "duration": 0.190424,
     "end_time": "2024-08-11T11:01:33.928242",
     "exception": false,
     "start_time": "2024-08-11T11:01:33.737818",
     "status": "completed"
    },
    "tags": []
   },
   "outputs": [],
   "source": [
    "b=['energy_distance_pvalue','energy_distance_statistic']#,'energy_distance_control_key','phenotype']\n",
    "\n",
    "for el in b:\n",
    "    df_uns[el] = df_uns[el].astype(float)"
   ]
  },
  {
   "cell_type": "code",
   "execution_count": 43,
   "id": "160be9c6-f069-4877-b59d-c8c4ec942553",
   "metadata": {
    "execution": {
     "iopub.execute_input": "2024-08-11T11:01:33.949420Z",
     "iopub.status.busy": "2024-08-11T11:01:33.949141Z",
     "iopub.status.idle": "2024-08-11T11:01:34.073843Z",
     "shell.execute_reply": "2024-08-11T11:01:34.073314Z"
    },
    "papermill": {
     "duration": 0.136671,
     "end_time": "2024-08-11T11:01:34.075122",
     "exception": false,
     "start_time": "2024-08-11T11:01:33.938451",
     "status": "completed"
    },
    "tags": []
   },
   "outputs": [
    {
     "data": {
      "text/html": [
       "<div>\n",
       "<style scoped>\n",
       "    .dataframe tbody tr th:only-of-type {\n",
       "        vertical-align: middle;\n",
       "    }\n",
       "\n",
       "    .dataframe tbody tr th {\n",
       "        vertical-align: top;\n",
       "    }\n",
       "\n",
       "    .dataframe thead th {\n",
       "        text-align: right;\n",
       "    }\n",
       "</style>\n",
       "<table border=\"1\" class=\"dataframe\">\n",
       "  <thead>\n",
       "    <tr style=\"text-align: right;\">\n",
       "      <th></th>\n",
       "      <th>Sample</th>\n",
       "      <th>Barcode</th>\n",
       "      <th>DemuxType_crispr</th>\n",
       "      <th>DemuxAssignment_crispr</th>\n",
       "      <th>DemuxType_hashing</th>\n",
       "      <th>DemuxAssignment_hashing</th>\n",
       "      <th>cellline</th>\n",
       "      <th>timepoint</th>\n",
       "      <th>HTO</th>\n",
       "      <th>NGS_ID</th>\n",
       "      <th>...</th>\n",
       "      <th>pct_counts_ribo</th>\n",
       "      <th>qc_pass</th>\n",
       "      <th>S_score</th>\n",
       "      <th>G2M_score</th>\n",
       "      <th>phase</th>\n",
       "      <th>SCN_class</th>\n",
       "      <th>gem</th>\n",
       "      <th>energy_distance_pvalue</th>\n",
       "      <th>energy_distance_statistic</th>\n",
       "      <th>energy_distance_control_key</th>\n",
       "    </tr>\n",
       "  </thead>\n",
       "  <tbody>\n",
       "    <tr>\n",
       "      <th>SAM24451293_rep1-AAACCCAAGAAATCCA</th>\n",
       "      <td>SAM24451293</td>\n",
       "      <td>AAACCCAAGAAATCCA</td>\n",
       "      <td>singlet</td>\n",
       "      <td>ENSG00000154124_2</td>\n",
       "      <td>singlet</td>\n",
       "      <td>SAM24439044</td>\n",
       "      <td>DLD1</td>\n",
       "      <td>day5</td>\n",
       "      <td>HTO-14</td>\n",
       "      <td>NGS5774</td>\n",
       "      <td>...</td>\n",
       "      <td>19.529837</td>\n",
       "      <td>True</td>\n",
       "      <td>-0.734884</td>\n",
       "      <td>-0.491440</td>\n",
       "      <td>G1</td>\n",
       "      <td>Untreatedclus_DLD1</td>\n",
       "      <td>NGS5774-1</td>\n",
       "      <td>0.288</td>\n",
       "      <td>0.050495</td>\n",
       "      <td>pool</td>\n",
       "    </tr>\n",
       "    <tr>\n",
       "      <th>SAM24451293_rep1-AAACCCAAGACAGTCG</th>\n",
       "      <td>SAM24451293</td>\n",
       "      <td>AAACCCAAGACAGTCG</td>\n",
       "      <td>singlet</td>\n",
       "      <td>ENSG00000171017_3</td>\n",
       "      <td>singlet</td>\n",
       "      <td>SAM24439045</td>\n",
       "      <td>DLD1</td>\n",
       "      <td>day5</td>\n",
       "      <td>HTO-18</td>\n",
       "      <td>NGS5774</td>\n",
       "      <td>...</td>\n",
       "      <td>22.065006</td>\n",
       "      <td>True</td>\n",
       "      <td>-0.493023</td>\n",
       "      <td>0.231481</td>\n",
       "      <td>G2M</td>\n",
       "      <td>Untreatedclus_DLD1</td>\n",
       "      <td>NGS5774-1</td>\n",
       "      <td>0.005</td>\n",
       "      <td>0.070252</td>\n",
       "      <td>pool</td>\n",
       "    </tr>\n",
       "    <tr>\n",
       "      <th>SAM24451293_rep1-AAACCCACAGACCCGT</th>\n",
       "      <td>SAM24451293</td>\n",
       "      <td>AAACCCACAGACCCGT</td>\n",
       "      <td>singlet</td>\n",
       "      <td>ENSG00000140057_1</td>\n",
       "      <td>singlet</td>\n",
       "      <td>SAM24439043</td>\n",
       "      <td>DLD1</td>\n",
       "      <td>day5</td>\n",
       "      <td>HTO-10</td>\n",
       "      <td>NGS5774</td>\n",
       "      <td>...</td>\n",
       "      <td>14.875622</td>\n",
       "      <td>True</td>\n",
       "      <td>-0.158140</td>\n",
       "      <td>-0.564640</td>\n",
       "      <td>G1</td>\n",
       "      <td>Untreatedclus_DLD1</td>\n",
       "      <td>NGS5774-1</td>\n",
       "      <td>0.372</td>\n",
       "      <td>0.048006</td>\n",
       "      <td>pool</td>\n",
       "    </tr>\n",
       "    <tr>\n",
       "      <th>SAM24451293_rep1-AAACCCAGTAACGATA</th>\n",
       "      <td>SAM24451293</td>\n",
       "      <td>AAACCCAGTAACGATA</td>\n",
       "      <td>singlet</td>\n",
       "      <td>ENSG00000188611_3</td>\n",
       "      <td>singlet</td>\n",
       "      <td>POSITIVE_CONTROL</td>\n",
       "      <td>DLD1</td>\n",
       "      <td>day5</td>\n",
       "      <td>HTO-19</td>\n",
       "      <td>NGS5774</td>\n",
       "      <td>...</td>\n",
       "      <td>25.018056</td>\n",
       "      <td>True</td>\n",
       "      <td>-0.520930</td>\n",
       "      <td>-0.385045</td>\n",
       "      <td>G1</td>\n",
       "      <td>Untreatedclus_DLD1</td>\n",
       "      <td>NGS5774-1</td>\n",
       "      <td>0.612</td>\n",
       "      <td>0.039244</td>\n",
       "      <td>pool</td>\n",
       "    </tr>\n",
       "    <tr>\n",
       "      <th>SAM24451293_rep1-AAACCCAGTACGACAG</th>\n",
       "      <td>SAM24451293</td>\n",
       "      <td>AAACCCAGTACGACAG</td>\n",
       "      <td>singlet</td>\n",
       "      <td>ENSG00000166664_2</td>\n",
       "      <td>singlet</td>\n",
       "      <td>SAM24439043</td>\n",
       "      <td>DLD1</td>\n",
       "      <td>day5</td>\n",
       "      <td>HTO-1</td>\n",
       "      <td>NGS5774</td>\n",
       "      <td>...</td>\n",
       "      <td>17.613996</td>\n",
       "      <td>True</td>\n",
       "      <td>0.334884</td>\n",
       "      <td>-0.072851</td>\n",
       "      <td>S</td>\n",
       "      <td>Untreatedclus_DLD1</td>\n",
       "      <td>NGS5774-1</td>\n",
       "      <td>0.062</td>\n",
       "      <td>0.048439</td>\n",
       "      <td>pool</td>\n",
       "    </tr>\n",
       "  </tbody>\n",
       "</table>\n",
       "<p>5 rows × 31 columns</p>\n",
       "</div>"
      ],
      "text/plain": [
       "                                        Sample           Barcode  \\\n",
       "SAM24451293_rep1-AAACCCAAGAAATCCA  SAM24451293  AAACCCAAGAAATCCA   \n",
       "SAM24451293_rep1-AAACCCAAGACAGTCG  SAM24451293  AAACCCAAGACAGTCG   \n",
       "SAM24451293_rep1-AAACCCACAGACCCGT  SAM24451293  AAACCCACAGACCCGT   \n",
       "SAM24451293_rep1-AAACCCAGTAACGATA  SAM24451293  AAACCCAGTAACGATA   \n",
       "SAM24451293_rep1-AAACCCAGTACGACAG  SAM24451293  AAACCCAGTACGACAG   \n",
       "\n",
       "                                  DemuxType_crispr DemuxAssignment_crispr  \\\n",
       "SAM24451293_rep1-AAACCCAAGAAATCCA          singlet      ENSG00000154124_2   \n",
       "SAM24451293_rep1-AAACCCAAGACAGTCG          singlet      ENSG00000171017_3   \n",
       "SAM24451293_rep1-AAACCCACAGACCCGT          singlet      ENSG00000140057_1   \n",
       "SAM24451293_rep1-AAACCCAGTAACGATA          singlet      ENSG00000188611_3   \n",
       "SAM24451293_rep1-AAACCCAGTACGACAG          singlet      ENSG00000166664_2   \n",
       "\n",
       "                                  DemuxType_hashing DemuxAssignment_hashing  \\\n",
       "SAM24451293_rep1-AAACCCAAGAAATCCA           singlet             SAM24439044   \n",
       "SAM24451293_rep1-AAACCCAAGACAGTCG           singlet             SAM24439045   \n",
       "SAM24451293_rep1-AAACCCACAGACCCGT           singlet             SAM24439043   \n",
       "SAM24451293_rep1-AAACCCAGTAACGATA           singlet        POSITIVE_CONTROL   \n",
       "SAM24451293_rep1-AAACCCAGTACGACAG           singlet             SAM24439043   \n",
       "\n",
       "                                  cellline timepoint     HTO   NGS_ID  ...  \\\n",
       "SAM24451293_rep1-AAACCCAAGAAATCCA     DLD1      day5  HTO-14  NGS5774  ...   \n",
       "SAM24451293_rep1-AAACCCAAGACAGTCG     DLD1      day5  HTO-18  NGS5774  ...   \n",
       "SAM24451293_rep1-AAACCCACAGACCCGT     DLD1      day5  HTO-10  NGS5774  ...   \n",
       "SAM24451293_rep1-AAACCCAGTAACGATA     DLD1      day5  HTO-19  NGS5774  ...   \n",
       "SAM24451293_rep1-AAACCCAGTACGACAG     DLD1      day5   HTO-1  NGS5774  ...   \n",
       "\n",
       "                                  pct_counts_ribo qc_pass   S_score G2M_score  \\\n",
       "SAM24451293_rep1-AAACCCAAGAAATCCA       19.529837    True -0.734884 -0.491440   \n",
       "SAM24451293_rep1-AAACCCAAGACAGTCG       22.065006    True -0.493023  0.231481   \n",
       "SAM24451293_rep1-AAACCCACAGACCCGT       14.875622    True -0.158140 -0.564640   \n",
       "SAM24451293_rep1-AAACCCAGTAACGATA       25.018056    True -0.520930 -0.385045   \n",
       "SAM24451293_rep1-AAACCCAGTACGACAG       17.613996    True  0.334884 -0.072851   \n",
       "\n",
       "                                  phase           SCN_class        gem  \\\n",
       "SAM24451293_rep1-AAACCCAAGAAATCCA    G1  Untreatedclus_DLD1  NGS5774-1   \n",
       "SAM24451293_rep1-AAACCCAAGACAGTCG   G2M  Untreatedclus_DLD1  NGS5774-1   \n",
       "SAM24451293_rep1-AAACCCACAGACCCGT    G1  Untreatedclus_DLD1  NGS5774-1   \n",
       "SAM24451293_rep1-AAACCCAGTAACGATA    G1  Untreatedclus_DLD1  NGS5774-1   \n",
       "SAM24451293_rep1-AAACCCAGTACGACAG     S  Untreatedclus_DLD1  NGS5774-1   \n",
       "\n",
       "                                   energy_distance_pvalue  \\\n",
       "SAM24451293_rep1-AAACCCAAGAAATCCA                   0.288   \n",
       "SAM24451293_rep1-AAACCCAAGACAGTCG                   0.005   \n",
       "SAM24451293_rep1-AAACCCACAGACCCGT                   0.372   \n",
       "SAM24451293_rep1-AAACCCAGTAACGATA                   0.612   \n",
       "SAM24451293_rep1-AAACCCAGTACGACAG                   0.062   \n",
       "\n",
       "                                   energy_distance_statistic  \\\n",
       "SAM24451293_rep1-AAACCCAAGAAATCCA                   0.050495   \n",
       "SAM24451293_rep1-AAACCCAAGACAGTCG                   0.070252   \n",
       "SAM24451293_rep1-AAACCCACAGACCCGT                   0.048006   \n",
       "SAM24451293_rep1-AAACCCAGTAACGATA                   0.039244   \n",
       "SAM24451293_rep1-AAACCCAGTACGACAG                   0.048439   \n",
       "\n",
       "                                   energy_distance_control_key  \n",
       "SAM24451293_rep1-AAACCCAAGAAATCCA                         pool  \n",
       "SAM24451293_rep1-AAACCCAAGACAGTCG                         pool  \n",
       "SAM24451293_rep1-AAACCCACAGACCCGT                         pool  \n",
       "SAM24451293_rep1-AAACCCAGTAACGATA                         pool  \n",
       "SAM24451293_rep1-AAACCCAGTACGACAG                         pool  \n",
       "\n",
       "[5 rows x 31 columns]"
      ]
     },
     "execution_count": 43,
     "metadata": {},
     "output_type": "execute_result"
    }
   ],
   "source": [
    "df_uns.head()"
   ]
  },
  {
   "cell_type": "code",
   "execution_count": 44,
   "id": "8a128914-749a-45e3-9d07-f4056b0449e2",
   "metadata": {
    "execution": {
     "iopub.execute_input": "2024-08-11T11:01:34.096981Z",
     "iopub.status.busy": "2024-08-11T11:01:34.096703Z",
     "iopub.status.idle": "2024-08-11T11:01:34.209652Z",
     "shell.execute_reply": "2024-08-11T11:01:34.208838Z"
    },
    "papermill": {
     "duration": 0.124891,
     "end_time": "2024-08-11T11:01:34.211120",
     "exception": false,
     "start_time": "2024-08-11T11:01:34.086229",
     "status": "completed"
    },
    "tags": []
   },
   "outputs": [],
   "source": [
    "#df_uns.index = df_uns.index.astype(str)"
   ]
  },
  {
   "cell_type": "code",
   "execution_count": 45,
   "id": "af7b1be8-d644-4330-9583-f1c6ed76a553",
   "metadata": {
    "execution": {
     "iopub.execute_input": "2024-08-11T11:01:34.232466Z",
     "iopub.status.busy": "2024-08-11T11:01:34.232165Z",
     "iopub.status.idle": "2024-08-11T11:01:34.420512Z",
     "shell.execute_reply": "2024-08-11T11:01:34.419871Z"
    },
    "papermill": {
     "duration": 0.200661,
     "end_time": "2024-08-11T11:01:34.422163",
     "exception": false,
     "start_time": "2024-08-11T11:01:34.221502",
     "status": "completed"
    },
    "tags": []
   },
   "outputs": [],
   "source": [
    "df_uns = df_uns.drop(columns='energy_distance_control_key')"
   ]
  },
  {
   "cell_type": "code",
   "execution_count": 46,
   "id": "3069e8b2-8e6c-49d3-8da8-21978d35197c",
   "metadata": {
    "execution": {
     "iopub.execute_input": "2024-08-11T11:01:34.443674Z",
     "iopub.status.busy": "2024-08-11T11:01:34.443207Z",
     "iopub.status.idle": "2024-08-11T11:01:34.573502Z",
     "shell.execute_reply": "2024-08-11T11:01:34.572925Z"
    },
    "papermill": {
     "duration": 0.142258,
     "end_time": "2024-08-11T11:01:34.574964",
     "exception": false,
     "start_time": "2024-08-11T11:01:34.432706",
     "status": "completed"
    },
    "tags": []
   },
   "outputs": [],
   "source": [
    "df_uns['phenotype'] = 'No'\n",
    "df_uns.loc[df_uns['energy_distance_pvalue']<=pVAL, 'phenotype'] = 'Yes'"
   ]
  },
  {
   "cell_type": "code",
   "execution_count": 47,
   "id": "36ab0df3-09a7-44e5-a271-6c435008735c",
   "metadata": {
    "execution": {
     "iopub.execute_input": "2024-08-11T11:01:34.596976Z",
     "iopub.status.busy": "2024-08-11T11:01:34.596629Z",
     "iopub.status.idle": "2024-08-11T11:01:34.845712Z",
     "shell.execute_reply": "2024-08-11T11:01:34.845067Z"
    },
    "papermill": {
     "duration": 0.261448,
     "end_time": "2024-08-11T11:01:34.847048",
     "exception": false,
     "start_time": "2024-08-11T11:01:34.585600",
     "status": "completed"
    },
    "tags": []
   },
   "outputs": [
    {
     "data": {
      "text/plain": [
       "2511"
      ]
     },
     "execution_count": 47,
     "metadata": {},
     "output_type": "execute_result"
    }
   ],
   "source": [
    "PHENO = df_uns[df_uns['phenotype']=='Yes'].copy()\n",
    "PHENO['gene_symbol'].nunique()"
   ]
  },
  {
   "cell_type": "markdown",
   "id": "79d8b13c-41a8-4557-a592-842f0cfb9a6d",
   "metadata": {
    "papermill": {
     "duration": 0.010014,
     "end_time": "2024-08-11T11:01:34.867792",
     "exception": false,
     "start_time": "2024-08-11T11:01:34.857778",
     "status": "completed"
    },
    "tags": []
   },
   "source": [
    "## Update the annadata object and write out the output"
   ]
  },
  {
   "cell_type": "code",
   "execution_count": 48,
   "id": "45121276-0370-43d6-bcb9-26fcb8d3c474",
   "metadata": {
    "execution": {
     "iopub.execute_input": "2024-08-11T11:01:34.888678Z",
     "iopub.status.busy": "2024-08-11T11:01:34.888324Z",
     "iopub.status.idle": "2024-08-11T11:01:35.030513Z",
     "shell.execute_reply": "2024-08-11T11:01:35.029929Z"
    },
    "papermill": {
     "duration": 0.15436,
     "end_time": "2024-08-11T11:01:35.032025",
     "exception": false,
     "start_time": "2024-08-11T11:01:34.877665",
     "status": "completed"
    },
    "tags": []
   },
   "outputs": [],
   "source": [
    "df_uns_ED = df_uns[['energy_distance_pvalue','energy_distance_statistic','phenotype']].copy()\n",
    "df_uns_ED = df_uns_ED.rename(columns={'phenotype': 'phenotype_@0.05'})"
   ]
  },
  {
   "cell_type": "code",
   "execution_count": 49,
   "id": "c7b5e19f-3075-4451-8e3f-37ac6fbb7667",
   "metadata": {
    "execution": {
     "iopub.execute_input": "2024-08-11T11:01:35.054707Z",
     "iopub.status.busy": "2024-08-11T11:01:35.053531Z",
     "iopub.status.idle": "2024-08-11T11:01:35.165509Z",
     "shell.execute_reply": "2024-08-11T11:01:35.164766Z"
    },
    "papermill": {
     "duration": 0.124125,
     "end_time": "2024-08-11T11:01:35.166910",
     "exception": false,
     "start_time": "2024-08-11T11:01:35.042785",
     "status": "completed"
    },
    "tags": []
   },
   "outputs": [],
   "source": [
    "if 'energy_distance' not in adata.uns:\n",
    "    adata.uns[\"energy_distance\"]={}"
   ]
  },
  {
   "cell_type": "code",
   "execution_count": 50,
   "id": "232ff50d-93c3-43de-bc61-58a777f63978",
   "metadata": {
    "execution": {
     "iopub.execute_input": "2024-08-11T11:01:35.189171Z",
     "iopub.status.busy": "2024-08-11T11:01:35.188742Z",
     "iopub.status.idle": "2024-08-11T11:01:35.325676Z",
     "shell.execute_reply": "2024-08-11T11:01:35.324883Z"
    },
    "papermill": {
     "duration": 0.149293,
     "end_time": "2024-08-11T11:01:35.327240",
     "exception": false,
     "start_time": "2024-08-11T11:01:35.177947",
     "status": "completed"
    },
    "tags": []
   },
   "outputs": [],
   "source": [
    "adata.uns[\"energy_distance\"][key_uns]=df_uns_ED"
   ]
  },
  {
   "cell_type": "code",
   "execution_count": 51,
   "id": "7ea8e887-a312-4e0b-a095-7331c08a6c27",
   "metadata": {
    "execution": {
     "iopub.execute_input": "2024-08-11T11:01:35.349393Z",
     "iopub.status.busy": "2024-08-11T11:01:35.349036Z",
     "iopub.status.idle": "2024-08-11T11:03:00.283383Z",
     "shell.execute_reply": "2024-08-11T11:03:00.282528Z"
    },
    "papermill": {
     "duration": 84.947238,
     "end_time": "2024-08-11T11:03:00.285156",
     "exception": false,
     "start_time": "2024-08-11T11:01:35.337918",
     "status": "completed"
    },
    "tags": []
   },
   "outputs": [],
   "source": [
    "adata.write(ED_file)"
   ]
  },
  {
   "cell_type": "markdown",
   "id": "cf54ed93-8ed8-49df-ac4e-0036135f09d2",
   "metadata": {
    "papermill": {
     "duration": 0.010365,
     "end_time": "2024-08-11T11:03:00.310295",
     "exception": false,
     "start_time": "2024-08-11T11:03:00.299930",
     "status": "completed"
    },
    "tags": []
   },
   "source": [
    "## Data Tabulation"
   ]
  },
  {
   "cell_type": "code",
   "execution_count": 52,
   "id": "ec3eb58c-cb70-4c93-bfbf-7d11abcbaddd",
   "metadata": {
    "execution": {
     "iopub.execute_input": "2024-08-11T11:03:00.331830Z",
     "iopub.status.busy": "2024-08-11T11:03:00.331522Z",
     "iopub.status.idle": "2024-08-11T11:03:01.386178Z",
     "shell.execute_reply": "2024-08-11T11:03:01.385285Z"
    },
    "papermill": {
     "duration": 1.066981,
     "end_time": "2024-08-11T11:03:01.387434",
     "exception": false,
     "start_time": "2024-08-11T11:03:00.320453",
     "status": "completed"
    },
    "tags": []
   },
   "outputs": [
    {
     "data": {
      "text/plain": [
       "SCN_class             phenotype\n",
       "DOXclus_CL34          No               91\n",
       "                      Yes              98\n",
       "DOXclus_DLD1          No            30911\n",
       "                      Yes           32905\n",
       "DOXclus_HCA7          No                6\n",
       "                      Yes              13\n",
       "DOXclus_HT55          No                1\n",
       "                      Yes               0\n",
       "DOXclus_MDST8         No               38\n",
       "                      Yes              48\n",
       "DOXclus_SW480         No                1\n",
       "                      Yes               2\n",
       "DOXclus_SW620         No                1\n",
       "                      Yes               0\n",
       "DOXclus_SW1463        No              452\n",
       "                      Yes             545\n",
       "Untreatedclus_CL34    No                4\n",
       "                      Yes               4\n",
       "Untreatedclus_DLD1    No           281766\n",
       "                      Yes          245535\n",
       "Untreatedclus_HT55    No                0\n",
       "                      Yes               1\n",
       "Untreatedclus_RCM1    No              670\n",
       "                      Yes             940\n",
       "Untreatedclus_SKCO1   No               21\n",
       "                      Yes              41\n",
       "Untreatedclus_SW403   No                0\n",
       "                      Yes               3\n",
       "Untreatedclus_SW620   No              114\n",
       "                      Yes             149\n",
       "Untreatedclus_SW837   No               17\n",
       "                      Yes              28\n",
       "Untreatedclus_SW948   No                1\n",
       "                      Yes               1\n",
       "Untreatedclus_SW1417  No               35\n",
       "                      Yes              36\n",
       "Untreatedclus_SW1463  No               72\n",
       "                      Yes             118\n",
       "Untreatedclus_T84     No              134\n",
       "                      Yes             182\n",
       "rand                  No              268\n",
       "                      Yes             351\n",
       "Name: gene_symbol, dtype: int64"
      ]
     },
     "execution_count": 52,
     "metadata": {},
     "output_type": "execute_result"
    }
   ],
   "source": [
    "df_uns.groupby(['SCN_class', 'phenotype'])['gene_symbol'].size()"
   ]
  },
  {
   "cell_type": "code",
   "execution_count": 53,
   "id": "9fd44015-b144-450d-964a-1d196a326fe7",
   "metadata": {
    "execution": {
     "iopub.execute_input": "2024-08-11T11:03:01.410694Z",
     "iopub.status.busy": "2024-08-11T11:03:01.410421Z",
     "iopub.status.idle": "2024-08-11T11:03:01.625461Z",
     "shell.execute_reply": "2024-08-11T11:03:01.623943Z"
    },
    "papermill": {
     "duration": 0.227593,
     "end_time": "2024-08-11T11:03:01.626769",
     "exception": false,
     "start_time": "2024-08-11T11:03:01.399176",
     "status": "completed"
    },
    "tags": []
   },
   "outputs": [
    {
     "data": {
      "text/html": [
       "<div>\n",
       "<style scoped>\n",
       "    .dataframe tbody tr th:only-of-type {\n",
       "        vertical-align: middle;\n",
       "    }\n",
       "\n",
       "    .dataframe tbody tr th {\n",
       "        vertical-align: top;\n",
       "    }\n",
       "\n",
       "    .dataframe thead th {\n",
       "        text-align: right;\n",
       "    }\n",
       "</style>\n",
       "<table border=\"1\" class=\"dataframe\">\n",
       "  <thead>\n",
       "    <tr style=\"text-align: right;\">\n",
       "      <th></th>\n",
       "      <th>gene_symbol</th>\n",
       "      <th>cnt</th>\n",
       "    </tr>\n",
       "  </thead>\n",
       "  <tbody>\n",
       "    <tr>\n",
       "      <th>2149</th>\n",
       "      <td>TCF7L2</td>\n",
       "      <td>118</td>\n",
       "    </tr>\n",
       "    <tr>\n",
       "      <th>447</th>\n",
       "      <td>CTNNB1</td>\n",
       "      <td>78</td>\n",
       "    </tr>\n",
       "    <tr>\n",
       "      <th>1347</th>\n",
       "      <td>MYC</td>\n",
       "      <td>65</td>\n",
       "    </tr>\n",
       "    <tr>\n",
       "      <th>1386</th>\n",
       "      <td>NELFB</td>\n",
       "      <td>47</td>\n",
       "    </tr>\n",
       "    <tr>\n",
       "      <th>1387</th>\n",
       "      <td>NELFCD</td>\n",
       "      <td>43</td>\n",
       "    </tr>\n",
       "    <tr>\n",
       "      <th>...</th>\n",
       "      <td>...</td>\n",
       "      <td>...</td>\n",
       "    </tr>\n",
       "    <tr>\n",
       "      <th>556</th>\n",
       "      <td>ECD</td>\n",
       "      <td>1</td>\n",
       "    </tr>\n",
       "    <tr>\n",
       "      <th>1646</th>\n",
       "      <td>POLR2J2</td>\n",
       "      <td>1</td>\n",
       "    </tr>\n",
       "    <tr>\n",
       "      <th>1224</th>\n",
       "      <td>MAGOH</td>\n",
       "      <td>1</td>\n",
       "    </tr>\n",
       "    <tr>\n",
       "      <th>2028</th>\n",
       "      <td>SNIP1</td>\n",
       "      <td>1</td>\n",
       "    </tr>\n",
       "    <tr>\n",
       "      <th>1184</th>\n",
       "      <td>LRR1</td>\n",
       "      <td>1</td>\n",
       "    </tr>\n",
       "  </tbody>\n",
       "</table>\n",
       "<p>2506 rows × 2 columns</p>\n",
       "</div>"
      ],
      "text/plain": [
       "     gene_symbol  cnt\n",
       "2149      TCF7L2  118\n",
       "447       CTNNB1   78\n",
       "1347         MYC   65\n",
       "1386       NELFB   47\n",
       "1387      NELFCD   43\n",
       "...          ...  ...\n",
       "556          ECD    1\n",
       "1646     POLR2J2    1\n",
       "1224       MAGOH    1\n",
       "2028       SNIP1    1\n",
       "1184        LRR1    1\n",
       "\n",
       "[2506 rows x 2 columns]"
      ]
     },
     "execution_count": 53,
     "metadata": {},
     "output_type": "execute_result"
    }
   ],
   "source": [
    "df_uns[(df_uns['phenotype']=='Yes')&(df_uns['SCN_class']=='DOXclus_DLD1')].groupby(\n",
    "    ['gene_symbol'])['DemuxAssignment_crispr'].count().reset_index(name='cnt').sort_values(by='cnt', ascending=False)"
   ]
  },
  {
   "cell_type": "code",
   "execution_count": 54,
   "id": "e3c37d1c-f067-48f7-a2a2-a8875b71bdbf",
   "metadata": {
    "execution": {
     "iopub.execute_input": "2024-08-11T11:03:01.650444Z",
     "iopub.status.busy": "2024-08-11T11:03:01.650072Z",
     "iopub.status.idle": "2024-08-11T11:03:01.870609Z",
     "shell.execute_reply": "2024-08-11T11:03:01.869662Z"
    },
    "papermill": {
     "duration": 0.233177,
     "end_time": "2024-08-11T11:03:01.871919",
     "exception": false,
     "start_time": "2024-08-11T11:03:01.638742",
     "status": "completed"
    },
    "tags": []
   },
   "outputs": [
    {
     "data": {
      "text/html": [
       "<div>\n",
       "<style scoped>\n",
       "    .dataframe tbody tr th:only-of-type {\n",
       "        vertical-align: middle;\n",
       "    }\n",
       "\n",
       "    .dataframe tbody tr th {\n",
       "        vertical-align: top;\n",
       "    }\n",
       "\n",
       "    .dataframe thead th {\n",
       "        text-align: right;\n",
       "    }\n",
       "</style>\n",
       "<table border=\"1\" class=\"dataframe\">\n",
       "  <thead>\n",
       "    <tr style=\"text-align: right;\">\n",
       "      <th></th>\n",
       "      <th>gene_symbol</th>\n",
       "      <th>cnt</th>\n",
       "    </tr>\n",
       "  </thead>\n",
       "  <tbody>\n",
       "    <tr>\n",
       "      <th>2154</th>\n",
       "      <td>TCF7L2</td>\n",
       "      <td>362</td>\n",
       "    </tr>\n",
       "    <tr>\n",
       "      <th>83</th>\n",
       "      <td>AOC3</td>\n",
       "      <td>188</td>\n",
       "    </tr>\n",
       "    <tr>\n",
       "      <th>447</th>\n",
       "      <td>CTNNA1</td>\n",
       "      <td>178</td>\n",
       "    </tr>\n",
       "    <tr>\n",
       "      <th>255</th>\n",
       "      <td>CASP2</td>\n",
       "      <td>171</td>\n",
       "    </tr>\n",
       "    <tr>\n",
       "      <th>373</th>\n",
       "      <td>CHST10</td>\n",
       "      <td>169</td>\n",
       "    </tr>\n",
       "    <tr>\n",
       "      <th>...</th>\n",
       "      <td>...</td>\n",
       "      <td>...</td>\n",
       "    </tr>\n",
       "    <tr>\n",
       "      <th>1644</th>\n",
       "      <td>POLR2B</td>\n",
       "      <td>7</td>\n",
       "    </tr>\n",
       "    <tr>\n",
       "      <th>351</th>\n",
       "      <td>CGB5</td>\n",
       "      <td>7</td>\n",
       "    </tr>\n",
       "    <tr>\n",
       "      <th>1631</th>\n",
       "      <td>PLK1</td>\n",
       "      <td>6</td>\n",
       "    </tr>\n",
       "    <tr>\n",
       "      <th>1825</th>\n",
       "      <td>RGPD5</td>\n",
       "      <td>4</td>\n",
       "    </tr>\n",
       "    <tr>\n",
       "      <th>550</th>\n",
       "      <td>DUX4</td>\n",
       "      <td>2</td>\n",
       "    </tr>\n",
       "  </tbody>\n",
       "</table>\n",
       "<p>2511 rows × 2 columns</p>\n",
       "</div>"
      ],
      "text/plain": [
       "     gene_symbol  cnt\n",
       "2154      TCF7L2  362\n",
       "83          AOC3  188\n",
       "447       CTNNA1  178\n",
       "255        CASP2  171\n",
       "373       CHST10  169\n",
       "...          ...  ...\n",
       "1644      POLR2B    7\n",
       "351         CGB5    7\n",
       "1631        PLK1    6\n",
       "1825       RGPD5    4\n",
       "550         DUX4    2\n",
       "\n",
       "[2511 rows x 2 columns]"
      ]
     },
     "execution_count": 54,
     "metadata": {},
     "output_type": "execute_result"
    }
   ],
   "source": [
    "df_uns[(df_uns['phenotype']=='Yes')&(df_uns['SCN_class']=='Untreatedclus_DLD1')].groupby(\n",
    "    ['gene_symbol'])['DemuxAssignment_crispr'].count().reset_index(name='cnt').sort_values(by='cnt', ascending=False)"
   ]
  },
  {
   "cell_type": "code",
   "execution_count": 55,
   "id": "a365181e-bf76-4c91-9bc1-44fc8510f75e",
   "metadata": {
    "execution": {
     "iopub.execute_input": "2024-08-11T11:03:01.895374Z",
     "iopub.status.busy": "2024-08-11T11:03:01.894950Z",
     "iopub.status.idle": "2024-08-11T11:03:02.164436Z",
     "shell.execute_reply": "2024-08-11T11:03:02.163873Z"
    },
    "papermill": {
     "duration": 0.282394,
     "end_time": "2024-08-11T11:03:02.165735",
     "exception": false,
     "start_time": "2024-08-11T11:03:01.883341",
     "status": "completed"
    },
    "tags": []
   },
   "outputs": [
    {
     "data": {
      "text/html": [
       "<div>\n",
       "<style scoped>\n",
       "    .dataframe tbody tr th:only-of-type {\n",
       "        vertical-align: middle;\n",
       "    }\n",
       "\n",
       "    .dataframe tbody tr th {\n",
       "        vertical-align: top;\n",
       "    }\n",
       "\n",
       "    .dataframe thead th {\n",
       "        text-align: right;\n",
       "    }\n",
       "</style>\n",
       "<table border=\"1\" class=\"dataframe\">\n",
       "  <thead>\n",
       "    <tr style=\"text-align: right;\">\n",
       "      <th></th>\n",
       "      <th>gene_symbol</th>\n",
       "      <th>cnt</th>\n",
       "    </tr>\n",
       "  </thead>\n",
       "  <tbody>\n",
       "    <tr>\n",
       "      <th>2154</th>\n",
       "      <td>TCF7L2</td>\n",
       "      <td>484</td>\n",
       "    </tr>\n",
       "    <tr>\n",
       "      <th>83</th>\n",
       "      <td>AOC3</td>\n",
       "      <td>217</td>\n",
       "    </tr>\n",
       "    <tr>\n",
       "      <th>447</th>\n",
       "      <td>CTNNA1</td>\n",
       "      <td>199</td>\n",
       "    </tr>\n",
       "    <tr>\n",
       "      <th>255</th>\n",
       "      <td>CASP2</td>\n",
       "      <td>194</td>\n",
       "    </tr>\n",
       "    <tr>\n",
       "      <th>373</th>\n",
       "      <td>CHST10</td>\n",
       "      <td>189</td>\n",
       "    </tr>\n",
       "    <tr>\n",
       "      <th>866</th>\n",
       "      <td>GPR107</td>\n",
       "      <td>183</td>\n",
       "    </tr>\n",
       "    <tr>\n",
       "      <th>1990</th>\n",
       "      <td>SLC39A9</td>\n",
       "      <td>180</td>\n",
       "    </tr>\n",
       "    <tr>\n",
       "      <th>442</th>\n",
       "      <td>CSPP1</td>\n",
       "      <td>178</td>\n",
       "    </tr>\n",
       "    <tr>\n",
       "      <th>1195</th>\n",
       "      <td>LRRC9</td>\n",
       "      <td>178</td>\n",
       "    </tr>\n",
       "    <tr>\n",
       "      <th>536</th>\n",
       "      <td>DPP4</td>\n",
       "      <td>177</td>\n",
       "    </tr>\n",
       "    <tr>\n",
       "      <th>565</th>\n",
       "      <td>EFCAB13</td>\n",
       "      <td>174</td>\n",
       "    </tr>\n",
       "    <tr>\n",
       "      <th>173</th>\n",
       "      <td>BCO2</td>\n",
       "      <td>174</td>\n",
       "    </tr>\n",
       "    <tr>\n",
       "      <th>1138</th>\n",
       "      <td>KRTAP20-3</td>\n",
       "      <td>173</td>\n",
       "    </tr>\n",
       "    <tr>\n",
       "      <th>1892</th>\n",
       "      <td>RUNX2</td>\n",
       "      <td>173</td>\n",
       "    </tr>\n",
       "    <tr>\n",
       "      <th>113</th>\n",
       "      <td>ARL1</td>\n",
       "      <td>173</td>\n",
       "    </tr>\n",
       "    <tr>\n",
       "      <th>2507</th>\n",
       "      <td>ZNF91</td>\n",
       "      <td>173</td>\n",
       "    </tr>\n",
       "    <tr>\n",
       "      <th>1978</th>\n",
       "      <td>SLC29A4</td>\n",
       "      <td>172</td>\n",
       "    </tr>\n",
       "    <tr>\n",
       "      <th>949</th>\n",
       "      <td>HP1BP3</td>\n",
       "      <td>172</td>\n",
       "    </tr>\n",
       "    <tr>\n",
       "      <th>893</th>\n",
       "      <td>GTF2H5</td>\n",
       "      <td>172</td>\n",
       "    </tr>\n",
       "    <tr>\n",
       "      <th>890</th>\n",
       "      <td>GSTK1</td>\n",
       "      <td>172</td>\n",
       "    </tr>\n",
       "    <tr>\n",
       "      <th>1111</th>\n",
       "      <td>KLHL4</td>\n",
       "      <td>171</td>\n",
       "    </tr>\n",
       "    <tr>\n",
       "      <th>1873</th>\n",
       "      <td>RPS4Y1</td>\n",
       "      <td>171</td>\n",
       "    </tr>\n",
       "    <tr>\n",
       "      <th>2125</th>\n",
       "      <td>SYP</td>\n",
       "      <td>171</td>\n",
       "    </tr>\n",
       "    <tr>\n",
       "      <th>1642</th>\n",
       "      <td>POLK</td>\n",
       "      <td>170</td>\n",
       "    </tr>\n",
       "    <tr>\n",
       "      <th>2451</th>\n",
       "      <td>ZFP91-CNTF</td>\n",
       "      <td>170</td>\n",
       "    </tr>\n",
       "    <tr>\n",
       "      <th>1299</th>\n",
       "      <td>MMP13</td>\n",
       "      <td>170</td>\n",
       "    </tr>\n",
       "    <tr>\n",
       "      <th>714</th>\n",
       "      <td>F11R</td>\n",
       "      <td>170</td>\n",
       "    </tr>\n",
       "    <tr>\n",
       "      <th>247</th>\n",
       "      <td>CALCR</td>\n",
       "      <td>169</td>\n",
       "    </tr>\n",
       "    <tr>\n",
       "      <th>2341</th>\n",
       "      <td>TXNL4B</td>\n",
       "      <td>169</td>\n",
       "    </tr>\n",
       "    <tr>\n",
       "      <th>1559</th>\n",
       "      <td>PAPOLB</td>\n",
       "      <td>169</td>\n",
       "    </tr>\n",
       "  </tbody>\n",
       "</table>\n",
       "</div>"
      ],
      "text/plain": [
       "     gene_symbol  cnt\n",
       "2154      TCF7L2  484\n",
       "83          AOC3  217\n",
       "447       CTNNA1  199\n",
       "255        CASP2  194\n",
       "373       CHST10  189\n",
       "866       GPR107  183\n",
       "1990     SLC39A9  180\n",
       "442        CSPP1  178\n",
       "1195       LRRC9  178\n",
       "536         DPP4  177\n",
       "565      EFCAB13  174\n",
       "173         BCO2  174\n",
       "1138   KRTAP20-3  173\n",
       "1892       RUNX2  173\n",
       "113         ARL1  173\n",
       "2507       ZNF91  173\n",
       "1978     SLC29A4  172\n",
       "949       HP1BP3  172\n",
       "893       GTF2H5  172\n",
       "890        GSTK1  172\n",
       "1111       KLHL4  171\n",
       "1873      RPS4Y1  171\n",
       "2125         SYP  171\n",
       "1642        POLK  170\n",
       "2451  ZFP91-CNTF  170\n",
       "1299       MMP13  170\n",
       "714         F11R  170\n",
       "247        CALCR  169\n",
       "2341      TXNL4B  169\n",
       "1559      PAPOLB  169"
      ]
     },
     "execution_count": 55,
     "metadata": {},
     "output_type": "execute_result"
    }
   ],
   "source": [
    "df_uns[(df_uns['phenotype']=='Yes')].groupby(\n",
    "    ['gene_symbol'])['DemuxAssignment_crispr'].count().reset_index(name='cnt').sort_values(by='cnt', ascending=False)[:30]"
   ]
  },
  {
   "cell_type": "markdown",
   "id": "a2cd6558-ef8d-4396-ad9d-847834d10d6b",
   "metadata": {
    "papermill": {
     "duration": 0.010953,
     "end_time": "2024-08-11T11:03:02.188331",
     "exception": false,
     "start_time": "2024-08-11T11:03:02.177378",
     "status": "completed"
    },
    "tags": []
   },
   "source": [
    "## Data Visulaization"
   ]
  },
  {
   "cell_type": "code",
   "execution_count": 56,
   "id": "8b14c8f2-f789-474b-b7d1-d152098846ab",
   "metadata": {
    "execution": {
     "iopub.execute_input": "2024-08-11T11:03:02.210909Z",
     "iopub.status.busy": "2024-08-11T11:03:02.210619Z",
     "iopub.status.idle": "2024-08-11T11:03:03.136690Z",
     "shell.execute_reply": "2024-08-11T11:03:03.135766Z"
    },
    "papermill": {
     "duration": 0.93887,
     "end_time": "2024-08-11T11:03:03.137889",
     "exception": false,
     "start_time": "2024-08-11T11:03:02.199019",
     "status": "completed"
    },
    "tags": []
   },
   "outputs": [
    {
     "data": {
      "text/plain": [
       "<AxesSubplot: xlabel='energy_distance_pvalue', ylabel='Count'>"
      ]
     },
     "execution_count": 56,
     "metadata": {},
     "output_type": "execute_result"
    },
    {
     "data": {
      "image/png": "[encoded data removed]",
      "text/plain": [
       "<Figure size 640x480 with 1 Axes>"
      ]
     },
     "metadata": {},
     "output_type": "display_data"
    }
   ],
   "source": [
    "sns.histplot(-np.log10(df_uns['energy_distance_pvalue']))"
   ]
  }
 ],
 "metadata": {
  "kernelspec": {
   "display_name": "gpuy310",
   "language": "python",
   "name": "gpuy310"
  },
  "language_info": {
   "codemirror_mode": {
    "name": "ipython",
    "version": 3
   },
   "file_extension": ".py",
   "mimetype": "text/x-python",
   "name": "python",
   "nbconvert_exporter": "python",
   "pygments_lexer": "ipython3",
   "version": "3.10.8"
  },
  "papermill": {
   "default_parameters": {},
   "duration": 4221.148444,
   "end_time": "2024-08-11T11:03:13.988523",
   "environment_variables": {},
   "exception": null,
   "input_path": "./Templates/EnergyDistance.ipynb",
   "output_path": "/gstore/home/ghaffars/Cumulus/crc_dld1_sublib1_bdev/crop-seq-pipeline/Reports/DS000017114_EnergyDistance_500NTCs_pca_sphered_Norm.ipynb",
   "parameters": {
    "DEV": false,
    "DS_test": false,
    "DatasetID": "DS000017114",
    "ED_file": "/gstore/project/crc_recursion_gw/DLD1_Sublib1_bdev//DS000017114/Energy_Distance/e_dist_all.h5ad",
    "author": "SG",
    "description": "Production scale screen in DLD-1 cells with 1/4 of the genome-wide CRISPR library (sub-lib-1, ~22K guides). 1 time point: Day-5. We performed 24 rxns of 10x 3' HT kit with an estimated loading of 52K cells. We performed a pilot study to test the library quality before the production-level sequencing. We will submit 72 libraries (24 GEX, 24 HTO and 24 sgRNA) We estimate need 600M for GEX, 30M for HTO and 50M for sgRNA. This is a repeat run to correct chip loading.",
    "embeddings_key": "X_pca_sphered_Norm",
    "i": 10,
    "key_uns": "perGene_pca_sphered_Norm_10",
    "n": 500,
    "name_space": [
     {
      "id": "GRCh38",
      "type": "genome"
     }
    ],
    "organism": "human",
    "out_csv": "/gstore/project/crc_recursion_gw/DLD1_Sublib1_bdev//DS000017114/Energy_Distance/e_dist_500NTCs_pca_sphered_Norm_10.csv",
    "pVAL": 0.05,
    "sources": [
     {
      "id": "Siavash-1234",
      "name": "Geo-ID"
     }
    ],
    "tech_name": "scRNA-seq",
    "test_DatasetID": "",
    "title": "Recursion DLD1 Library1 Screen Day 5- combination of NGS 5774 and NGS 5702"
   },
   "start_time": "2024-08-11T09:52:52.840079",
   "version": "2.6.0"
  },
  "widgets": {
   "application/vnd.jupyter.widget-state+json": {
    "state": {},
    "version_major": 2,
    "version_minor": 0
   }
  }
 },
 "nbformat": 4,
 "nbformat_minor": 5
}