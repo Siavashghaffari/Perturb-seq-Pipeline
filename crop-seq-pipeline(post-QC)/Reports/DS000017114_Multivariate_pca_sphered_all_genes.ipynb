{
 "cells": [
  {
   "cell_type": "code",
   "execution_count": 1,
   "id": "119cae08",
   "metadata": {
    "execution": {
     "iopub.execute_input": "2024-08-14T18:04:33.768604Z",
     "iopub.status.busy": "2024-08-14T18:04:33.768143Z",
     "iopub.status.idle": "2024-08-14T18:04:33.785505Z",
     "shell.execute_reply": "2024-08-14T18:04:33.784119Z"
    },
    "papermill": {
     "duration": 0.033529,
     "end_time": "2024-08-14T18:04:33.788829",
     "exception": false,
     "start_time": "2024-08-14T18:04:33.755300",
     "status": "completed"
    },
    "tags": [
     "injected-parameters"
    ]
   },
   "outputs": [],
   "source": [
    "# Parameters\n",
    "DatasetID = \"DS000017114\"\n",
    "DEV = False\n",
    "test_DatasetID = \"\"\n",
    "DS_test = False\n",
    "title = \"Recursion DLD1 Library1 Screen Day 5- combination of NGS 5774 and NGS 5702\"\n",
    "description = \"Production scale screen in DLD-1 cells with 1/4 of the genome-wide CRISPR library (sub-lib-1, ~22K guides). 1 time point: Day-5. We performed 24 rxns of 10x 3' HT kit with an estimated loading of 52K cells. We performed a pilot study to test the library quality before the production-level sequencing. We will submit 72 libraries (24 GEX, 24 HTO and 24 sgRNA) We estimate need 600M for GEX, 30M for HTO and 50M for sgRNA. This is a repeat run to correct chip loading.\"\n",
    "name_space = [{\"id\": \"GRCh38\", \"type\": \"genome\"}]\n",
    "sources = [{\"id\": \"Siavash-1234\", \"name\": \"Geo-ID\"}]\n",
    "tech_name = \"scRNA-seq\"\n",
    "author = \"SG\"\n",
    "organism = \"human\"\n",
    "embeddings_key = \"X_pca_sphered\"\n",
    "transcriptoprint = False\n",
    "MV_file = \"/gstore/project/crc_recursion_gw/DLD1_Sublib1_bdev//DS000017114/Energy_Distance/e_dist_all.h5ad\"\n",
    "path = \"/gstore/project/crc_recursion_gw/DLD1_Sublib1_bdev//DS000017114/Energy_Distance\"\n"
   ]
  },
  {
   "cell_type": "code",
   "execution_count": 2,
   "id": "8cbb3b17",
   "metadata": {
    "execution": {
     "iopub.execute_input": "2024-08-14T18:04:33.811517Z",
     "iopub.status.busy": "2024-08-14T18:04:33.811054Z",
     "iopub.status.idle": "2024-08-14T18:04:50.247908Z",
     "shell.execute_reply": "2024-08-14T18:04:50.246666Z"
    },
    "papermill": {
     "duration": 16.452106,
     "end_time": "2024-08-14T18:04:50.251444",
     "exception": false,
     "start_time": "2024-08-14T18:04:33.799338",
     "status": "completed"
    },
    "tags": []
   },
   "outputs": [
    {
     "name": "stderr",
     "output_type": "stream",
     "text": [
      "/apps/user/gpy/envs/dev/GPUy310pascal/lib/python3.10/site-packages/scvi/_settings.py:63: UserWarning: Since v1.0.0, scvi-tools no longer uses a random seed by default. Run `scvi.settings.seed = 0` to reproduce results from previous versions.\n",
      "  self.seed = seed\n",
      "/apps/user/gpy/envs/dev/GPUy310pascal/lib/python3.10/site-packages/scvi/_settings.py:70: UserWarning: Setting `dl_pin_memory_gpu_training` is deprecated in v1.0 and will be removed in v1.1. Please pass in `pin_memory` to the data loaders instead.\n",
      "  self.dl_pin_memory_gpu_training = (\n"
     ]
    }
   ],
   "source": [
    "import sys\n",
    "sys.path.append(\"..\")\n",
    "import Templates.tools.multivariate as mv\n",
    "import seaborn as sns\n",
    "import scanpy as sc\n",
    "import numpy as np\n",
    "import pandas as pd\n",
    "import matplotlib.pyplot as plt"
   ]
  },
  {
   "cell_type": "code",
   "execution_count": 3,
   "id": "88b47f52",
   "metadata": {
    "execution": {
     "iopub.execute_input": "2024-08-14T18:04:50.278833Z",
     "iopub.status.busy": "2024-08-14T18:04:50.278032Z",
     "iopub.status.idle": "2024-08-14T18:06:18.738141Z",
     "shell.execute_reply": "2024-08-14T18:06:18.736796Z"
    },
    "papermill": {
     "duration": 88.475309,
     "end_time": "2024-08-14T18:06:18.741605",
     "exception": false,
     "start_time": "2024-08-14T18:04:50.266296",
     "status": "completed"
    },
    "tags": []
   },
   "outputs": [],
   "source": [
    "adata = sc.read_h5ad(MV_file)"
   ]
  },
  {
   "cell_type": "code",
   "execution_count": 4,
   "id": "7dc3cbb8-549f-411a-837e-d6c162398d42",
   "metadata": {
    "execution": {
     "iopub.execute_input": "2024-08-14T18:06:18.767157Z",
     "iopub.status.busy": "2024-08-14T18:06:18.766898Z",
     "iopub.status.idle": "2024-08-14T18:06:18.777090Z",
     "shell.execute_reply": "2024-08-14T18:06:18.775772Z"
    },
    "papermill": {
     "duration": 0.02492,
     "end_time": "2024-08-14T18:06:18.780090",
     "exception": false,
     "start_time": "2024-08-14T18:06:18.755170",
     "status": "completed"
    },
    "tags": []
   },
   "outputs": [
    {
     "data": {
      "text/plain": [
       "AnnData object with n_obs × n_vars = 595603 × 36603\n",
       "    obs: 'Sample', 'Barcode', 'DemuxType_crispr', 'DemuxAssignment_crispr', 'DemuxType_hashing', 'DemuxAssignment_hashing', 'cellline', 'timepoint', 'HTO', 'NGS_ID', 'Biological_replicate', '10Xrun', 'sublibrary', 'gRNA_library_MOI', 'gene_symbol', 'class', 'n_genes_by_counts', 'total_counts', 'total_counts_mt', 'pct_counts_mt', 'total_counts_ribo', 'pct_counts_ribo', 'qc_pass', 'S_score', 'G2M_score', 'phase', 'SCN_class', 'gem'\n",
       "    var: 'Symbol'\n",
       "    uns: 'DemuxAssignment_hashing_colors', 'Sample_colors', '_scvi_manager_uuid', '_scvi_uuid', 'energy_distance', 'leiden_colors', 'multivariate_report', 'neighbors', 'perturbation_embeddings', 'perturbations', 'umap'\n",
       "    obsm: 'X_pca', 'X_pca_centered', 'X_pca_sphered', 'X_pca_sphered_Norm', 'X_scVI', 'X_scVI_centered', 'X_umap'\n",
       "    layers: 'counts'\n",
       "    obsp: 'connectivities', 'distances'"
      ]
     },
     "execution_count": 4,
     "metadata": {},
     "output_type": "execute_result"
    }
   ],
   "source": [
    "adata"
   ]
  },
  {
   "cell_type": "code",
   "execution_count": 5,
   "id": "c8c2c10b-4867-4241-954c-b657534be256",
   "metadata": {
    "execution": {
     "iopub.execute_input": "2024-08-14T18:06:18.803822Z",
     "iopub.status.busy": "2024-08-14T18:06:18.803317Z",
     "iopub.status.idle": "2024-08-14T18:06:18.809943Z",
     "shell.execute_reply": "2024-08-14T18:06:18.808636Z"
    },
    "papermill": {
     "duration": 0.021912,
     "end_time": "2024-08-14T18:06:18.813064",
     "exception": false,
     "start_time": "2024-08-14T18:06:18.791152",
     "status": "completed"
    },
    "tags": []
   },
   "outputs": [],
   "source": [
    "key_uns = embeddings_key.split(\"_\",1)[-1]"
   ]
  },
  {
   "cell_type": "code",
   "execution_count": 6,
   "id": "834d0e41-6cfd-4f65-81ad-d2fb601489d0",
   "metadata": {
    "execution": {
     "iopub.execute_input": "2024-08-14T18:06:18.836632Z",
     "iopub.status.busy": "2024-08-14T18:06:18.836160Z",
     "iopub.status.idle": "2024-08-14T18:06:18.842573Z",
     "shell.execute_reply": "2024-08-14T18:06:18.841328Z"
    },
    "papermill": {
     "duration": 0.021731,
     "end_time": "2024-08-14T18:06:18.845644",
     "exception": false,
     "start_time": "2024-08-14T18:06:18.823913",
     "status": "completed"
    },
    "tags": []
   },
   "outputs": [],
   "source": [
    "if key_uns in [\"pca_sphered\",\"pca_sphered_Norm\"]:\n",
    "    centering = False\n",
    "else:\n",
    "    centering = True"
   ]
  },
  {
   "cell_type": "code",
   "execution_count": 7,
   "id": "e84f2879-a24f-41f9-8d46-f8921237bdec",
   "metadata": {
    "execution": {
     "iopub.execute_input": "2024-08-14T18:06:18.870252Z",
     "iopub.status.busy": "2024-08-14T18:06:18.869759Z",
     "iopub.status.idle": "2024-08-14T18:07:10.859558Z",
     "shell.execute_reply": "2024-08-14T18:07:10.858423Z"
    },
    "papermill": {
     "duration": 52.005609,
     "end_time": "2024-08-14T18:07:10.863002",
     "exception": false,
     "start_time": "2024-08-14T18:06:18.857393",
     "status": "completed"
    },
    "tags": []
   },
   "outputs": [],
   "source": [
    "if transcriptoprint:\n",
    "    A = list(mv.common_genes(key_uns, path))\n",
    "    A.append(\"NTC\")\n",
    "    bdata = adata[adata.obs[\"gene_symbol\"].isin(A)].copy()\n",
    "else:\n",
    "    bdata = adata.copy()"
   ]
  },
  {
   "cell_type": "code",
   "execution_count": 8,
   "id": "b28dc757",
   "metadata": {
    "execution": {
     "iopub.execute_input": "2024-08-14T18:07:10.890257Z",
     "iopub.status.busy": "2024-08-14T18:07:10.889969Z",
     "iopub.status.idle": "2024-08-14T18:07:10.896391Z",
     "shell.execute_reply": "2024-08-14T18:07:10.895544Z"
    },
    "papermill": {
     "duration": 0.021662,
     "end_time": "2024-08-14T18:07:10.899406",
     "exception": false,
     "start_time": "2024-08-14T18:07:10.877744",
     "status": "completed"
    },
    "tags": []
   },
   "outputs": [
    {
     "data": {
      "text/plain": [
       "AnnData object with n_obs × n_vars = 595603 × 36603\n",
       "    obs: 'Sample', 'Barcode', 'DemuxType_crispr', 'DemuxAssignment_crispr', 'DemuxType_hashing', 'DemuxAssignment_hashing', 'cellline', 'timepoint', 'HTO', 'NGS_ID', 'Biological_replicate', '10Xrun', 'sublibrary', 'gRNA_library_MOI', 'gene_symbol', 'class', 'n_genes_by_counts', 'total_counts', 'total_counts_mt', 'pct_counts_mt', 'total_counts_ribo', 'pct_counts_ribo', 'qc_pass', 'S_score', 'G2M_score', 'phase', 'SCN_class', 'gem'\n",
       "    var: 'Symbol'\n",
       "    uns: 'DemuxAssignment_hashing_colors', 'Sample_colors', '_scvi_manager_uuid', '_scvi_uuid', 'energy_distance', 'leiden_colors', 'multivariate_report', 'neighbors', 'perturbation_embeddings', 'perturbations', 'umap'\n",
       "    obsm: 'X_pca', 'X_pca_centered', 'X_pca_sphered', 'X_pca_sphered_Norm', 'X_scVI', 'X_scVI_centered', 'X_umap'\n",
       "    layers: 'counts'\n",
       "    obsp: 'connectivities', 'distances'"
      ]
     },
     "execution_count": 8,
     "metadata": {},
     "output_type": "execute_result"
    }
   ],
   "source": [
    "bdata"
   ]
  },
  {
   "cell_type": "code",
   "execution_count": 9,
   "id": "3bad59a0-ba07-49c8-928e-8764a8674c43",
   "metadata": {
    "execution": {
     "iopub.execute_input": "2024-08-14T18:07:10.924320Z",
     "iopub.status.busy": "2024-08-14T18:07:10.924088Z",
     "iopub.status.idle": "2024-08-14T18:07:11.276556Z",
     "shell.execute_reply": "2024-08-14T18:07:11.275644Z"
    },
    "papermill": {
     "duration": 0.369316,
     "end_time": "2024-08-14T18:07:11.280282",
     "exception": false,
     "start_time": "2024-08-14T18:07:10.910966",
     "status": "completed"
    },
    "tags": []
   },
   "outputs": [
    {
     "data": {
      "text/html": [
       "<div>\n",
       "<style scoped>\n",
       "    .dataframe tbody tr th:only-of-type {\n",
       "        vertical-align: middle;\n",
       "    }\n",
       "\n",
       "    .dataframe tbody tr th {\n",
       "        vertical-align: top;\n",
       "    }\n",
       "\n",
       "    .dataframe thead th {\n",
       "        text-align: right;\n",
       "    }\n",
       "</style>\n",
       "<table border=\"1\" class=\"dataframe\">\n",
       "  <thead>\n",
       "    <tr style=\"text-align: right;\">\n",
       "      <th></th>\n",
       "      <th>Sample</th>\n",
       "      <th>Barcode</th>\n",
       "      <th>DemuxType_crispr</th>\n",
       "      <th>DemuxAssignment_crispr</th>\n",
       "      <th>DemuxType_hashing</th>\n",
       "      <th>DemuxAssignment_hashing</th>\n",
       "      <th>cellline</th>\n",
       "      <th>timepoint</th>\n",
       "      <th>HTO</th>\n",
       "      <th>NGS_ID</th>\n",
       "      <th>...</th>\n",
       "      <th>total_counts_mt</th>\n",
       "      <th>pct_counts_mt</th>\n",
       "      <th>total_counts_ribo</th>\n",
       "      <th>pct_counts_ribo</th>\n",
       "      <th>qc_pass</th>\n",
       "      <th>S_score</th>\n",
       "      <th>G2M_score</th>\n",
       "      <th>phase</th>\n",
       "      <th>SCN_class</th>\n",
       "      <th>gem</th>\n",
       "    </tr>\n",
       "  </thead>\n",
       "  <tbody>\n",
       "    <tr>\n",
       "      <th>SAM24451293_rep1-AAACCCAAGAAATCCA</th>\n",
       "      <td>SAM24451293</td>\n",
       "      <td>AAACCCAAGAAATCCA</td>\n",
       "      <td>singlet</td>\n",
       "      <td>ENSG00000154124_2</td>\n",
       "      <td>singlet</td>\n",
       "      <td>SAM24439044</td>\n",
       "      <td>DLD1</td>\n",
       "      <td>day5</td>\n",
       "      <td>HTO-14</td>\n",
       "      <td>NGS5774</td>\n",
       "      <td>...</td>\n",
       "      <td>534</td>\n",
       "      <td>3.448721</td>\n",
       "      <td>3024</td>\n",
       "      <td>19.529837</td>\n",
       "      <td>True</td>\n",
       "      <td>-0.734884</td>\n",
       "      <td>-0.491440</td>\n",
       "      <td>G1</td>\n",
       "      <td>Untreatedclus_DLD1</td>\n",
       "      <td>NGS5774-1</td>\n",
       "    </tr>\n",
       "    <tr>\n",
       "      <th>SAM24451293_rep1-AAACCCAAGACAGTCG</th>\n",
       "      <td>SAM24451293</td>\n",
       "      <td>AAACCCAAGACAGTCG</td>\n",
       "      <td>singlet</td>\n",
       "      <td>ENSG00000171017_3</td>\n",
       "      <td>singlet</td>\n",
       "      <td>SAM24439045</td>\n",
       "      <td>DLD1</td>\n",
       "      <td>day5</td>\n",
       "      <td>HTO-18</td>\n",
       "      <td>NGS5774</td>\n",
       "      <td>...</td>\n",
       "      <td>618</td>\n",
       "      <td>6.336512</td>\n",
       "      <td>2152</td>\n",
       "      <td>22.065006</td>\n",
       "      <td>True</td>\n",
       "      <td>-0.493023</td>\n",
       "      <td>0.231481</td>\n",
       "      <td>G2M</td>\n",
       "      <td>Untreatedclus_DLD1</td>\n",
       "      <td>NGS5774-1</td>\n",
       "    </tr>\n",
       "    <tr>\n",
       "      <th>SAM24451293_rep1-AAACCCACAGACCCGT</th>\n",
       "      <td>SAM24451293</td>\n",
       "      <td>AAACCCACAGACCCGT</td>\n",
       "      <td>singlet</td>\n",
       "      <td>ENSG00000140057_1</td>\n",
       "      <td>singlet</td>\n",
       "      <td>SAM24439043</td>\n",
       "      <td>DLD1</td>\n",
       "      <td>day5</td>\n",
       "      <td>HTO-10</td>\n",
       "      <td>NGS5774</td>\n",
       "      <td>...</td>\n",
       "      <td>380</td>\n",
       "      <td>3.150912</td>\n",
       "      <td>1794</td>\n",
       "      <td>14.875622</td>\n",
       "      <td>True</td>\n",
       "      <td>-0.158140</td>\n",
       "      <td>-0.564640</td>\n",
       "      <td>G1</td>\n",
       "      <td>Untreatedclus_DLD1</td>\n",
       "      <td>NGS5774-1</td>\n",
       "    </tr>\n",
       "    <tr>\n",
       "      <th>SAM24451293_rep1-AAACCCAGTAACGATA</th>\n",
       "      <td>SAM24451293</td>\n",
       "      <td>AAACCCAGTAACGATA</td>\n",
       "      <td>singlet</td>\n",
       "      <td>ENSG00000188611_3</td>\n",
       "      <td>singlet</td>\n",
       "      <td>POSITIVE_CONTROL</td>\n",
       "      <td>DLD1</td>\n",
       "      <td>day5</td>\n",
       "      <td>HTO-19</td>\n",
       "      <td>NGS5774</td>\n",
       "      <td>...</td>\n",
       "      <td>316</td>\n",
       "      <td>4.564495</td>\n",
       "      <td>1732</td>\n",
       "      <td>25.018056</td>\n",
       "      <td>True</td>\n",
       "      <td>-0.520930</td>\n",
       "      <td>-0.385045</td>\n",
       "      <td>G1</td>\n",
       "      <td>Untreatedclus_DLD1</td>\n",
       "      <td>NGS5774-1</td>\n",
       "    </tr>\n",
       "    <tr>\n",
       "      <th>SAM24451293_rep1-AAACCCAGTACGACAG</th>\n",
       "      <td>SAM24451293</td>\n",
       "      <td>AAACCCAGTACGACAG</td>\n",
       "      <td>singlet</td>\n",
       "      <td>ENSG00000166664_2</td>\n",
       "      <td>singlet</td>\n",
       "      <td>SAM24439043</td>\n",
       "      <td>DLD1</td>\n",
       "      <td>day5</td>\n",
       "      <td>HTO-1</td>\n",
       "      <td>NGS5774</td>\n",
       "      <td>...</td>\n",
       "      <td>638</td>\n",
       "      <td>4.482541</td>\n",
       "      <td>2507</td>\n",
       "      <td>17.613996</td>\n",
       "      <td>True</td>\n",
       "      <td>0.334884</td>\n",
       "      <td>-0.072851</td>\n",
       "      <td>S</td>\n",
       "      <td>Untreatedclus_DLD1</td>\n",
       "      <td>NGS5774-1</td>\n",
       "    </tr>\n",
       "    <tr>\n",
       "      <th>...</th>\n",
       "      <td>...</td>\n",
       "      <td>...</td>\n",
       "      <td>...</td>\n",
       "      <td>...</td>\n",
       "      <td>...</td>\n",
       "      <td>...</td>\n",
       "      <td>...</td>\n",
       "      <td>...</td>\n",
       "      <td>...</td>\n",
       "      <td>...</td>\n",
       "      <td>...</td>\n",
       "      <td>...</td>\n",
       "      <td>...</td>\n",
       "      <td>...</td>\n",
       "      <td>...</td>\n",
       "      <td>...</td>\n",
       "      <td>...</td>\n",
       "      <td>...</td>\n",
       "      <td>...</td>\n",
       "      <td>...</td>\n",
       "      <td>...</td>\n",
       "    </tr>\n",
       "    <tr>\n",
       "      <th>SAM24449110_rep24-TTTGTTGGTTCTCACC</th>\n",
       "      <td>SAM24449110</td>\n",
       "      <td>TTTGTTGGTTCTCACC</td>\n",
       "      <td>singlet</td>\n",
       "      <td>ENSG00000167699_1</td>\n",
       "      <td>singlet</td>\n",
       "      <td>SAM24439043</td>\n",
       "      <td>DLD1</td>\n",
       "      <td>day5</td>\n",
       "      <td>HTO-10</td>\n",
       "      <td>NGS5702</td>\n",
       "      <td>...</td>\n",
       "      <td>203</td>\n",
       "      <td>2.188207</td>\n",
       "      <td>1635</td>\n",
       "      <td>17.624232</td>\n",
       "      <td>True</td>\n",
       "      <td>0.158009</td>\n",
       "      <td>0.092243</td>\n",
       "      <td>S</td>\n",
       "      <td>Untreatedclus_DLD1</td>\n",
       "      <td>NGS5702-24</td>\n",
       "    </tr>\n",
       "    <tr>\n",
       "      <th>SAM24449110_rep24-TTTGTTGGTTGGCCTG</th>\n",
       "      <td>SAM24449110</td>\n",
       "      <td>TTTGTTGGTTGGCCTG</td>\n",
       "      <td>singlet</td>\n",
       "      <td>ENSG00000054219_3</td>\n",
       "      <td>singlet</td>\n",
       "      <td>SAM24439045</td>\n",
       "      <td>DLD1</td>\n",
       "      <td>day5</td>\n",
       "      <td>HTO-8</td>\n",
       "      <td>NGS5702</td>\n",
       "      <td>...</td>\n",
       "      <td>136</td>\n",
       "      <td>1.119987</td>\n",
       "      <td>1760</td>\n",
       "      <td>14.493947</td>\n",
       "      <td>True</td>\n",
       "      <td>-0.211150</td>\n",
       "      <td>0.567086</td>\n",
       "      <td>G2M</td>\n",
       "      <td>Untreatedclus_DLD1</td>\n",
       "      <td>NGS5702-24</td>\n",
       "    </tr>\n",
       "    <tr>\n",
       "      <th>SAM24449110_rep24-TTTGTTGTCACAAGGG</th>\n",
       "      <td>SAM24449110</td>\n",
       "      <td>TTTGTTGTCACAAGGG</td>\n",
       "      <td>singlet</td>\n",
       "      <td>ENSG00000106302_3</td>\n",
       "      <td>singlet</td>\n",
       "      <td>SAM24439044</td>\n",
       "      <td>DLD1</td>\n",
       "      <td>day5</td>\n",
       "      <td>HTO-15</td>\n",
       "      <td>NGS5702</td>\n",
       "      <td>...</td>\n",
       "      <td>130</td>\n",
       "      <td>2.195204</td>\n",
       "      <td>1339</td>\n",
       "      <td>22.610605</td>\n",
       "      <td>True</td>\n",
       "      <td>-0.045099</td>\n",
       "      <td>0.056429</td>\n",
       "      <td>G2M</td>\n",
       "      <td>Untreatedclus_DLD1</td>\n",
       "      <td>NGS5702-24</td>\n",
       "    </tr>\n",
       "    <tr>\n",
       "      <th>SAM24449110_rep24-TTTGTTGTCGTCGCTT</th>\n",
       "      <td>SAM24449110</td>\n",
       "      <td>TTTGTTGTCGTCGCTT</td>\n",
       "      <td>singlet</td>\n",
       "      <td>ENSG00000010256_1</td>\n",
       "      <td>singlet</td>\n",
       "      <td>SAM24439045</td>\n",
       "      <td>DLD1</td>\n",
       "      <td>day5</td>\n",
       "      <td>HTO-18</td>\n",
       "      <td>NGS5702</td>\n",
       "      <td>...</td>\n",
       "      <td>267</td>\n",
       "      <td>4.862502</td>\n",
       "      <td>900</td>\n",
       "      <td>16.390457</td>\n",
       "      <td>True</td>\n",
       "      <td>-0.333080</td>\n",
       "      <td>-0.025332</td>\n",
       "      <td>G1</td>\n",
       "      <td>Untreatedclus_DLD1</td>\n",
       "      <td>NGS5702-24</td>\n",
       "    </tr>\n",
       "    <tr>\n",
       "      <th>SAM24449110_rep24-TTTGTTGTCTTAGGAC</th>\n",
       "      <td>SAM24449110</td>\n",
       "      <td>TTTGTTGTCTTAGGAC</td>\n",
       "      <td>singlet</td>\n",
       "      <td>ENSG00000286522_3</td>\n",
       "      <td>singlet</td>\n",
       "      <td>SAM24439044</td>\n",
       "      <td>DLD1</td>\n",
       "      <td>day5</td>\n",
       "      <td>HTO-14</td>\n",
       "      <td>NGS5702</td>\n",
       "      <td>...</td>\n",
       "      <td>476</td>\n",
       "      <td>4.554588</td>\n",
       "      <td>2053</td>\n",
       "      <td>19.644053</td>\n",
       "      <td>True</td>\n",
       "      <td>-0.759183</td>\n",
       "      <td>2.264500</td>\n",
       "      <td>G2M</td>\n",
       "      <td>Untreatedclus_DLD1</td>\n",
       "      <td>NGS5702-24</td>\n",
       "    </tr>\n",
       "  </tbody>\n",
       "</table>\n",
       "<p>595603 rows × 28 columns</p>\n",
       "</div>"
      ],
      "text/plain": [
       "                                         Sample           Barcode  \\\n",
       "SAM24451293_rep1-AAACCCAAGAAATCCA   SAM24451293  AAACCCAAGAAATCCA   \n",
       "SAM24451293_rep1-AAACCCAAGACAGTCG   SAM24451293  AAACCCAAGACAGTCG   \n",
       "SAM24451293_rep1-AAACCCACAGACCCGT   SAM24451293  AAACCCACAGACCCGT   \n",
       "SAM24451293_rep1-AAACCCAGTAACGATA   SAM24451293  AAACCCAGTAACGATA   \n",
       "SAM24451293_rep1-AAACCCAGTACGACAG   SAM24451293  AAACCCAGTACGACAG   \n",
       "...                                         ...               ...   \n",
       "SAM24449110_rep24-TTTGTTGGTTCTCACC  SAM24449110  TTTGTTGGTTCTCACC   \n",
       "SAM24449110_rep24-TTTGTTGGTTGGCCTG  SAM24449110  TTTGTTGGTTGGCCTG   \n",
       "SAM24449110_rep24-TTTGTTGTCACAAGGG  SAM24449110  TTTGTTGTCACAAGGG   \n",
       "SAM24449110_rep24-TTTGTTGTCGTCGCTT  SAM24449110  TTTGTTGTCGTCGCTT   \n",
       "SAM24449110_rep24-TTTGTTGTCTTAGGAC  SAM24449110  TTTGTTGTCTTAGGAC   \n",
       "\n",
       "                                   DemuxType_crispr DemuxAssignment_crispr  \\\n",
       "SAM24451293_rep1-AAACCCAAGAAATCCA           singlet      ENSG00000154124_2   \n",
       "SAM24451293_rep1-AAACCCAAGACAGTCG           singlet      ENSG00000171017_3   \n",
       "SAM24451293_rep1-AAACCCACAGACCCGT           singlet      ENSG00000140057_1   \n",
       "SAM24451293_rep1-AAACCCAGTAACGATA           singlet      ENSG00000188611_3   \n",
       "SAM24451293_rep1-AAACCCAGTACGACAG           singlet      ENSG00000166664_2   \n",
       "...                                             ...                    ...   \n",
       "SAM24449110_rep24-TTTGTTGGTTCTCACC          singlet      ENSG00000167699_1   \n",
       "SAM24449110_rep24-TTTGTTGGTTGGCCTG          singlet      ENSG00000054219_3   \n",
       "SAM24449110_rep24-TTTGTTGTCACAAGGG          singlet      ENSG00000106302_3   \n",
       "SAM24449110_rep24-TTTGTTGTCGTCGCTT          singlet      ENSG00000010256_1   \n",
       "SAM24449110_rep24-TTTGTTGTCTTAGGAC          singlet      ENSG00000286522_3   \n",
       "\n",
       "                                   DemuxType_hashing DemuxAssignment_hashing  \\\n",
       "SAM24451293_rep1-AAACCCAAGAAATCCA            singlet             SAM24439044   \n",
       "SAM24451293_rep1-AAACCCAAGACAGTCG            singlet             SAM24439045   \n",
       "SAM24451293_rep1-AAACCCACAGACCCGT            singlet             SAM24439043   \n",
       "SAM24451293_rep1-AAACCCAGTAACGATA            singlet        POSITIVE_CONTROL   \n",
       "SAM24451293_rep1-AAACCCAGTACGACAG            singlet             SAM24439043   \n",
       "...                                              ...                     ...   \n",
       "SAM24449110_rep24-TTTGTTGGTTCTCACC           singlet             SAM24439043   \n",
       "SAM24449110_rep24-TTTGTTGGTTGGCCTG           singlet             SAM24439045   \n",
       "SAM24449110_rep24-TTTGTTGTCACAAGGG           singlet             SAM24439044   \n",
       "SAM24449110_rep24-TTTGTTGTCGTCGCTT           singlet             SAM24439045   \n",
       "SAM24449110_rep24-TTTGTTGTCTTAGGAC           singlet             SAM24439044   \n",
       "\n",
       "                                   cellline timepoint     HTO   NGS_ID  ...  \\\n",
       "SAM24451293_rep1-AAACCCAAGAAATCCA      DLD1      day5  HTO-14  NGS5774  ...   \n",
       "SAM24451293_rep1-AAACCCAAGACAGTCG      DLD1      day5  HTO-18  NGS5774  ...   \n",
       "SAM24451293_rep1-AAACCCACAGACCCGT      DLD1      day5  HTO-10  NGS5774  ...   \n",
       "SAM24451293_rep1-AAACCCAGTAACGATA      DLD1      day5  HTO-19  NGS5774  ...   \n",
       "SAM24451293_rep1-AAACCCAGTACGACAG      DLD1      day5   HTO-1  NGS5774  ...   \n",
       "...                                     ...       ...     ...      ...  ...   \n",
       "SAM24449110_rep24-TTTGTTGGTTCTCACC     DLD1      day5  HTO-10  NGS5702  ...   \n",
       "SAM24449110_rep24-TTTGTTGGTTGGCCTG     DLD1      day5   HTO-8  NGS5702  ...   \n",
       "SAM24449110_rep24-TTTGTTGTCACAAGGG     DLD1      day5  HTO-15  NGS5702  ...   \n",
       "SAM24449110_rep24-TTTGTTGTCGTCGCTT     DLD1      day5  HTO-18  NGS5702  ...   \n",
       "SAM24449110_rep24-TTTGTTGTCTTAGGAC     DLD1      day5  HTO-14  NGS5702  ...   \n",
       "\n",
       "                                   total_counts_mt pct_counts_mt  \\\n",
       "SAM24451293_rep1-AAACCCAAGAAATCCA              534      3.448721   \n",
       "SAM24451293_rep1-AAACCCAAGACAGTCG              618      6.336512   \n",
       "SAM24451293_rep1-AAACCCACAGACCCGT              380      3.150912   \n",
       "SAM24451293_rep1-AAACCCAGTAACGATA              316      4.564495   \n",
       "SAM24451293_rep1-AAACCCAGTACGACAG              638      4.482541   \n",
       "...                                            ...           ...   \n",
       "SAM24449110_rep24-TTTGTTGGTTCTCACC             203      2.188207   \n",
       "SAM24449110_rep24-TTTGTTGGTTGGCCTG             136      1.119987   \n",
       "SAM24449110_rep24-TTTGTTGTCACAAGGG             130      2.195204   \n",
       "SAM24449110_rep24-TTTGTTGTCGTCGCTT             267      4.862502   \n",
       "SAM24449110_rep24-TTTGTTGTCTTAGGAC             476      4.554588   \n",
       "\n",
       "                                   total_counts_ribo pct_counts_ribo qc_pass  \\\n",
       "SAM24451293_rep1-AAACCCAAGAAATCCA               3024       19.529837    True   \n",
       "SAM24451293_rep1-AAACCCAAGACAGTCG               2152       22.065006    True   \n",
       "SAM24451293_rep1-AAACCCACAGACCCGT               1794       14.875622    True   \n",
       "SAM24451293_rep1-AAACCCAGTAACGATA               1732       25.018056    True   \n",
       "SAM24451293_rep1-AAACCCAGTACGACAG               2507       17.613996    True   \n",
       "...                                              ...             ...     ...   \n",
       "SAM24449110_rep24-TTTGTTGGTTCTCACC              1635       17.624232    True   \n",
       "SAM24449110_rep24-TTTGTTGGTTGGCCTG              1760       14.493947    True   \n",
       "SAM24449110_rep24-TTTGTTGTCACAAGGG              1339       22.610605    True   \n",
       "SAM24449110_rep24-TTTGTTGTCGTCGCTT               900       16.390457    True   \n",
       "SAM24449110_rep24-TTTGTTGTCTTAGGAC              2053       19.644053    True   \n",
       "\n",
       "                                     S_score  G2M_score  phase  \\\n",
       "SAM24451293_rep1-AAACCCAAGAAATCCA  -0.734884  -0.491440     G1   \n",
       "SAM24451293_rep1-AAACCCAAGACAGTCG  -0.493023   0.231481    G2M   \n",
       "SAM24451293_rep1-AAACCCACAGACCCGT  -0.158140  -0.564640     G1   \n",
       "SAM24451293_rep1-AAACCCAGTAACGATA  -0.520930  -0.385045     G1   \n",
       "SAM24451293_rep1-AAACCCAGTACGACAG   0.334884  -0.072851      S   \n",
       "...                                      ...        ...    ...   \n",
       "SAM24449110_rep24-TTTGTTGGTTCTCACC  0.158009   0.092243      S   \n",
       "SAM24449110_rep24-TTTGTTGGTTGGCCTG -0.211150   0.567086    G2M   \n",
       "SAM24449110_rep24-TTTGTTGTCACAAGGG -0.045099   0.056429    G2M   \n",
       "SAM24449110_rep24-TTTGTTGTCGTCGCTT -0.333080  -0.025332     G1   \n",
       "SAM24449110_rep24-TTTGTTGTCTTAGGAC -0.759183   2.264500    G2M   \n",
       "\n",
       "                                             SCN_class         gem  \n",
       "SAM24451293_rep1-AAACCCAAGAAATCCA   Untreatedclus_DLD1   NGS5774-1  \n",
       "SAM24451293_rep1-AAACCCAAGACAGTCG   Untreatedclus_DLD1   NGS5774-1  \n",
       "SAM24451293_rep1-AAACCCACAGACCCGT   Untreatedclus_DLD1   NGS5774-1  \n",
       "SAM24451293_rep1-AAACCCAGTAACGATA   Untreatedclus_DLD1   NGS5774-1  \n",
       "SAM24451293_rep1-AAACCCAGTACGACAG   Untreatedclus_DLD1   NGS5774-1  \n",
       "...                                                ...         ...  \n",
       "SAM24449110_rep24-TTTGTTGGTTCTCACC  Untreatedclus_DLD1  NGS5702-24  \n",
       "SAM24449110_rep24-TTTGTTGGTTGGCCTG  Untreatedclus_DLD1  NGS5702-24  \n",
       "SAM24449110_rep24-TTTGTTGTCACAAGGG  Untreatedclus_DLD1  NGS5702-24  \n",
       "SAM24449110_rep24-TTTGTTGTCGTCGCTT  Untreatedclus_DLD1  NGS5702-24  \n",
       "SAM24449110_rep24-TTTGTTGTCTTAGGAC  Untreatedclus_DLD1  NGS5702-24  \n",
       "\n",
       "[595603 rows x 28 columns]"
      ]
     },
     "execution_count": 9,
     "metadata": {},
     "output_type": "execute_result"
    }
   ],
   "source": [
    "bdata.obs"
   ]
  },
  {
   "cell_type": "code",
   "execution_count": 10,
   "id": "b1e488a4",
   "metadata": {
    "execution": {
     "iopub.execute_input": "2024-08-14T18:07:11.307951Z",
     "iopub.status.busy": "2024-08-14T18:07:11.307647Z",
     "iopub.status.idle": "2024-08-14T18:09:07.432115Z",
     "shell.execute_reply": "2024-08-14T18:09:07.431050Z"
    },
    "papermill": {
     "duration": 116.141581,
     "end_time": "2024-08-14T18:09:07.435496",
     "exception": false,
     "start_time": "2024-08-14T18:07:11.293915",
     "status": "completed"
    },
    "tags": []
   },
   "outputs": [],
   "source": [
    "perturbations_key = \"gene_symbol\"\n",
    "gene_graph, gene_sets = mv.enrichr_to_gene_graph(\"./Templates/data/CORUM.txt\", np.array(bdata.obs[perturbations_key].values))"
   ]
  },
  {
   "cell_type": "code",
   "execution_count": 11,
   "id": "85154759",
   "metadata": {
    "execution": {
     "iopub.execute_input": "2024-08-14T18:09:07.466808Z",
     "iopub.status.busy": "2024-08-14T18:09:07.466554Z",
     "iopub.status.idle": "2024-08-14T18:09:32.039455Z",
     "shell.execute_reply": "2024-08-14T18:09:32.038307Z"
    },
    "papermill": {
     "duration": 24.590148,
     "end_time": "2024-08-14T18:09:32.042938",
     "exception": false,
     "start_time": "2024-08-14T18:09:07.452790",
     "status": "completed"
    },
    "tags": []
   },
   "outputs": [],
   "source": [
    "embeddings_obj = mv.AnnDataEmbeddings(bdata, embeddings_key, perturbations_key, \"Sample\", \"NTC\")\n",
    "perturbation_embeddings = embeddings_obj.get_embeddings_from_list(list(gene_graph), agg=True, centering = centering)"
   ]
  },
  {
   "cell_type": "code",
   "execution_count": 12,
   "id": "38d38100",
   "metadata": {
    "execution": {
     "iopub.execute_input": "2024-08-14T18:09:32.073542Z",
     "iopub.status.busy": "2024-08-14T18:09:32.073299Z",
     "iopub.status.idle": "2024-08-14T18:09:32.079887Z",
     "shell.execute_reply": "2024-08-14T18:09:32.078776Z"
    },
    "papermill": {
     "duration": 0.02369,
     "end_time": "2024-08-14T18:09:32.083176",
     "exception": false,
     "start_time": "2024-08-14T18:09:32.059486",
     "status": "completed"
    },
    "tags": []
   },
   "outputs": [
    {
     "data": {
      "text/plain": [
       "(454, 50)"
      ]
     },
     "execution_count": 12,
     "metadata": {},
     "output_type": "execute_result"
    }
   ],
   "source": [
    "perturbation_embeddings.shape"
   ]
  },
  {
   "cell_type": "code",
   "execution_count": 13,
   "id": "7ea5271f",
   "metadata": {
    "execution": {
     "iopub.execute_input": "2024-08-14T18:09:32.110336Z",
     "iopub.status.busy": "2024-08-14T18:09:32.110104Z",
     "iopub.status.idle": "2024-08-14T18:10:55.708856Z",
     "shell.execute_reply": "2024-08-14T18:10:55.707756Z"
    },
    "papermill": {
     "duration": 83.615679,
     "end_time": "2024-08-14T18:10:55.711981",
     "exception": false,
     "start_time": "2024-08-14T18:09:32.096302",
     "status": "completed"
    },
    "tags": []
   },
   "outputs": [
    {
     "name": "stdout",
     "output_type": "stream",
     "text": [
      "Performing Kolmogorov-Smirnov test on gene set cosine similarity..\n"
     ]
    },
    {
     "name": "stdout",
     "output_type": "stream",
     "text": [
      "KS statistic: 0.12407862407862408, p-value: 7.043572718056644e-06\n"
     ]
    },
    {
     "data": {
      "image/png": "[encoded data removed]",
      "text/plain": [
       "<Figure size 640x480 with 1 Axes>"
      ]
     },
     "metadata": {},
     "output_type": "display_data"
    },
    {
     "name": "stdout",
     "output_type": "stream",
     "text": [
      "Computing distance matrix for embeddings..\n",
      "Computing link prediction metrics for cutoff percentile=0%\n"
     ]
    },
    {
     "name": "stdout",
     "output_type": "stream",
     "text": [
      "Computing link prediction metrics for cutoff percentile=1%\n"
     ]
    },
    {
     "name": "stdout",
     "output_type": "stream",
     "text": [
      "Computing link prediction metrics for cutoff percentile=2%\n"
     ]
    },
    {
     "name": "stdout",
     "output_type": "stream",
     "text": [
      "Computing link prediction metrics for cutoff percentile=3%\n"
     ]
    },
    {
     "name": "stdout",
     "output_type": "stream",
     "text": [
      "Computing link prediction metrics for cutoff percentile=4%\n"
     ]
    },
    {
     "name": "stdout",
     "output_type": "stream",
     "text": [
      "Computing link prediction metrics for cutoff percentile=5%\n"
     ]
    },
    {
     "name": "stdout",
     "output_type": "stream",
     "text": [
      "Computing link prediction metrics for cutoff percentile=6%\n"
     ]
    },
    {
     "name": "stdout",
     "output_type": "stream",
     "text": [
      "Computing link prediction metrics for cutoff percentile=7%\n"
     ]
    },
    {
     "name": "stdout",
     "output_type": "stream",
     "text": [
      "Computing link prediction metrics for cutoff percentile=8%\n"
     ]
    },
    {
     "name": "stdout",
     "output_type": "stream",
     "text": [
      "Computing link prediction metrics for cutoff percentile=9%\n"
     ]
    },
    {
     "name": "stdout",
     "output_type": "stream",
     "text": [
      "Computing link prediction metrics for cutoff percentile=10%\n"
     ]
    },
    {
     "name": "stdout",
     "output_type": "stream",
     "text": [
      "Computing link prediction metrics for cutoff percentile=11%\n"
     ]
    },
    {
     "name": "stdout",
     "output_type": "stream",
     "text": [
      "Computing link prediction metrics for cutoff percentile=12%\n"
     ]
    },
    {
     "name": "stdout",
     "output_type": "stream",
     "text": [
      "Computing link prediction metrics for cutoff percentile=13%\n"
     ]
    },
    {
     "name": "stdout",
     "output_type": "stream",
     "text": [
      "Computing link prediction metrics for cutoff percentile=14%\n"
     ]
    },
    {
     "name": "stdout",
     "output_type": "stream",
     "text": [
      "Computing link prediction metrics for cutoff percentile=15%\n"
     ]
    },
    {
     "name": "stdout",
     "output_type": "stream",
     "text": [
      "Computing link prediction metrics for cutoff percentile=16%\n"
     ]
    },
    {
     "name": "stdout",
     "output_type": "stream",
     "text": [
      "Computing link prediction metrics for cutoff percentile=17%\n"
     ]
    },
    {
     "name": "stdout",
     "output_type": "stream",
     "text": [
      "Computing link prediction metrics for cutoff percentile=18%\n"
     ]
    },
    {
     "name": "stdout",
     "output_type": "stream",
     "text": [
      "Computing link prediction metrics for cutoff percentile=19%\n"
     ]
    },
    {
     "name": "stdout",
     "output_type": "stream",
     "text": [
      "Computing link prediction metrics for cutoff percentile=20%\n"
     ]
    },
    {
     "name": "stdout",
     "output_type": "stream",
     "text": [
      "Computing link prediction metrics for cutoff percentile=21%\n"
     ]
    },
    {
     "name": "stdout",
     "output_type": "stream",
     "text": [
      "Computing link prediction metrics for cutoff percentile=22%\n"
     ]
    },
    {
     "name": "stdout",
     "output_type": "stream",
     "text": [
      "Computing link prediction metrics for cutoff percentile=23%\n"
     ]
    },
    {
     "name": "stdout",
     "output_type": "stream",
     "text": [
      "Computing link prediction metrics for cutoff percentile=24%\n"
     ]
    },
    {
     "name": "stdout",
     "output_type": "stream",
     "text": [
      "Computing link prediction metrics for cutoff percentile=25%\n"
     ]
    },
    {
     "name": "stdout",
     "output_type": "stream",
     "text": [
      "Computing link prediction metrics for cutoff percentile=26%\n"
     ]
    },
    {
     "name": "stdout",
     "output_type": "stream",
     "text": [
      "Computing link prediction metrics for cutoff percentile=27%\n"
     ]
    },
    {
     "name": "stdout",
     "output_type": "stream",
     "text": [
      "Computing link prediction metrics for cutoff percentile=28%\n"
     ]
    },
    {
     "name": "stdout",
     "output_type": "stream",
     "text": [
      "Computing link prediction metrics for cutoff percentile=29%\n"
     ]
    },
    {
     "name": "stdout",
     "output_type": "stream",
     "text": [
      "Computing link prediction metrics for cutoff percentile=30%\n"
     ]
    },
    {
     "name": "stdout",
     "output_type": "stream",
     "text": [
      "Computing link prediction metrics for cutoff percentile=31%\n"
     ]
    },
    {
     "name": "stdout",
     "output_type": "stream",
     "text": [
      "Computing link prediction metrics for cutoff percentile=32%\n"
     ]
    },
    {
     "name": "stdout",
     "output_type": "stream",
     "text": [
      "Computing link prediction metrics for cutoff percentile=33%\n"
     ]
    },
    {
     "name": "stdout",
     "output_type": "stream",
     "text": [
      "Computing link prediction metrics for cutoff percentile=34%\n"
     ]
    },
    {
     "name": "stdout",
     "output_type": "stream",
     "text": [
      "Computing link prediction metrics for cutoff percentile=35%\n"
     ]
    },
    {
     "name": "stdout",
     "output_type": "stream",
     "text": [
      "Computing link prediction metrics for cutoff percentile=36%\n"
     ]
    },
    {
     "name": "stdout",
     "output_type": "stream",
     "text": [
      "Computing link prediction metrics for cutoff percentile=37%\n"
     ]
    },
    {
     "name": "stdout",
     "output_type": "stream",
     "text": [
      "Computing link prediction metrics for cutoff percentile=38%\n"
     ]
    },
    {
     "name": "stdout",
     "output_type": "stream",
     "text": [
      "Computing link prediction metrics for cutoff percentile=39%\n"
     ]
    },
    {
     "name": "stdout",
     "output_type": "stream",
     "text": [
      "Computing link prediction metrics for cutoff percentile=40%\n"
     ]
    },
    {
     "name": "stdout",
     "output_type": "stream",
     "text": [
      "Computing link prediction metrics for cutoff percentile=41%\n"
     ]
    },
    {
     "name": "stdout",
     "output_type": "stream",
     "text": [
      "Computing link prediction metrics for cutoff percentile=42%\n"
     ]
    },
    {
     "name": "stdout",
     "output_type": "stream",
     "text": [
      "Computing link prediction metrics for cutoff percentile=43%\n"
     ]
    },
    {
     "name": "stdout",
     "output_type": "stream",
     "text": [
      "Computing link prediction metrics for cutoff percentile=44%\n"
     ]
    },
    {
     "name": "stdout",
     "output_type": "stream",
     "text": [
      "Computing link prediction metrics for cutoff percentile=45%\n"
     ]
    },
    {
     "name": "stdout",
     "output_type": "stream",
     "text": [
      "Computing link prediction metrics for cutoff percentile=46%\n"
     ]
    },
    {
     "name": "stdout",
     "output_type": "stream",
     "text": [
      "Computing link prediction metrics for cutoff percentile=47%\n"
     ]
    },
    {
     "name": "stdout",
     "output_type": "stream",
     "text": [
      "Computing link prediction metrics for cutoff percentile=48%\n"
     ]
    },
    {
     "name": "stdout",
     "output_type": "stream",
     "text": [
      "Computing link prediction metrics for cutoff percentile=49%\n"
     ]
    },
    {
     "name": "stdout",
     "output_type": "stream",
     "text": [
      "Computing link prediction metrics for cutoff percentile=50%\n"
     ]
    },
    {
     "name": "stdout",
     "output_type": "stream",
     "text": [
      "Computing link prediction metrics for cutoff percentile=51%\n"
     ]
    },
    {
     "name": "stdout",
     "output_type": "stream",
     "text": [
      "Computing link prediction metrics for cutoff percentile=52%\n"
     ]
    },
    {
     "name": "stdout",
     "output_type": "stream",
     "text": [
      "Computing link prediction metrics for cutoff percentile=53%\n"
     ]
    },
    {
     "name": "stdout",
     "output_type": "stream",
     "text": [
      "Computing link prediction metrics for cutoff percentile=54%\n"
     ]
    },
    {
     "name": "stdout",
     "output_type": "stream",
     "text": [
      "Computing link prediction metrics for cutoff percentile=55%\n"
     ]
    },
    {
     "name": "stdout",
     "output_type": "stream",
     "text": [
      "Computing link prediction metrics for cutoff percentile=56%\n"
     ]
    },
    {
     "name": "stdout",
     "output_type": "stream",
     "text": [
      "Computing link prediction metrics for cutoff percentile=57%\n"
     ]
    },
    {
     "name": "stdout",
     "output_type": "stream",
     "text": [
      "Computing link prediction metrics for cutoff percentile=58%\n"
     ]
    },
    {
     "name": "stdout",
     "output_type": "stream",
     "text": [
      "Computing link prediction metrics for cutoff percentile=59%\n"
     ]
    },
    {
     "name": "stdout",
     "output_type": "stream",
     "text": [
      "Computing link prediction metrics for cutoff percentile=60%\n"
     ]
    },
    {
     "name": "stdout",
     "output_type": "stream",
     "text": [
      "Computing link prediction metrics for cutoff percentile=61%\n"
     ]
    },
    {
     "name": "stdout",
     "output_type": "stream",
     "text": [
      "Computing link prediction metrics for cutoff percentile=62%\n"
     ]
    },
    {
     "name": "stdout",
     "output_type": "stream",
     "text": [
      "Computing link prediction metrics for cutoff percentile=63%\n"
     ]
    },
    {
     "name": "stdout",
     "output_type": "stream",
     "text": [
      "Computing link prediction metrics for cutoff percentile=64%\n"
     ]
    },
    {
     "name": "stdout",
     "output_type": "stream",
     "text": [
      "Computing link prediction metrics for cutoff percentile=65%\n"
     ]
    },
    {
     "name": "stdout",
     "output_type": "stream",
     "text": [
      "Computing link prediction metrics for cutoff percentile=66%\n"
     ]
    },
    {
     "name": "stdout",
     "output_type": "stream",
     "text": [
      "Computing link prediction metrics for cutoff percentile=67%\n"
     ]
    },
    {
     "name": "stdout",
     "output_type": "stream",
     "text": [
      "Computing link prediction metrics for cutoff percentile=68%\n"
     ]
    },
    {
     "name": "stdout",
     "output_type": "stream",
     "text": [
      "Computing link prediction metrics for cutoff percentile=69%\n"
     ]
    },
    {
     "name": "stdout",
     "output_type": "stream",
     "text": [
      "Computing link prediction metrics for cutoff percentile=70%\n"
     ]
    },
    {
     "name": "stdout",
     "output_type": "stream",
     "text": [
      "Computing link prediction metrics for cutoff percentile=71%\n"
     ]
    },
    {
     "name": "stdout",
     "output_type": "stream",
     "text": [
      "Computing link prediction metrics for cutoff percentile=72%\n"
     ]
    },
    {
     "name": "stdout",
     "output_type": "stream",
     "text": [
      "Computing link prediction metrics for cutoff percentile=73%\n"
     ]
    },
    {
     "name": "stdout",
     "output_type": "stream",
     "text": [
      "Computing link prediction metrics for cutoff percentile=74%\n"
     ]
    },
    {
     "name": "stdout",
     "output_type": "stream",
     "text": [
      "Computing link prediction metrics for cutoff percentile=75%\n"
     ]
    },
    {
     "name": "stdout",
     "output_type": "stream",
     "text": [
      "Computing link prediction metrics for cutoff percentile=76%\n"
     ]
    },
    {
     "name": "stdout",
     "output_type": "stream",
     "text": [
      "Computing link prediction metrics for cutoff percentile=77%\n"
     ]
    },
    {
     "name": "stdout",
     "output_type": "stream",
     "text": [
      "Computing link prediction metrics for cutoff percentile=78%\n"
     ]
    },
    {
     "name": "stdout",
     "output_type": "stream",
     "text": [
      "Computing link prediction metrics for cutoff percentile=79%\n"
     ]
    },
    {
     "name": "stdout",
     "output_type": "stream",
     "text": [
      "Computing link prediction metrics for cutoff percentile=80%\n"
     ]
    },
    {
     "name": "stdout",
     "output_type": "stream",
     "text": [
      "Computing link prediction metrics for cutoff percentile=81%\n"
     ]
    },
    {
     "name": "stdout",
     "output_type": "stream",
     "text": [
      "Computing link prediction metrics for cutoff percentile=82%\n"
     ]
    },
    {
     "name": "stdout",
     "output_type": "stream",
     "text": [
      "Computing link prediction metrics for cutoff percentile=83%\n"
     ]
    },
    {
     "name": "stdout",
     "output_type": "stream",
     "text": [
      "Computing link prediction metrics for cutoff percentile=84%\n"
     ]
    },
    {
     "name": "stdout",
     "output_type": "stream",
     "text": [
      "Computing link prediction metrics for cutoff percentile=85%\n"
     ]
    },
    {
     "name": "stdout",
     "output_type": "stream",
     "text": [
      "Computing link prediction metrics for cutoff percentile=86%\n"
     ]
    },
    {
     "name": "stdout",
     "output_type": "stream",
     "text": [
      "Computing link prediction metrics for cutoff percentile=87%\n"
     ]
    },
    {
     "name": "stdout",
     "output_type": "stream",
     "text": [
      "Computing link prediction metrics for cutoff percentile=88%\n"
     ]
    },
    {
     "name": "stdout",
     "output_type": "stream",
     "text": [
      "Computing link prediction metrics for cutoff percentile=89%\n"
     ]
    },
    {
     "name": "stdout",
     "output_type": "stream",
     "text": [
      "Computing link prediction metrics for cutoff percentile=90%\n"
     ]
    },
    {
     "name": "stdout",
     "output_type": "stream",
     "text": [
      "Computing link prediction metrics for cutoff percentile=91%\n"
     ]
    },
    {
     "name": "stdout",
     "output_type": "stream",
     "text": [
      "Computing link prediction metrics for cutoff percentile=92%\n"
     ]
    },
    {
     "name": "stdout",
     "output_type": "stream",
     "text": [
      "Computing link prediction metrics for cutoff percentile=93%\n"
     ]
    },
    {
     "name": "stdout",
     "output_type": "stream",
     "text": [
      "Computing link prediction metrics for cutoff percentile=94%\n"
     ]
    },
    {
     "name": "stdout",
     "output_type": "stream",
     "text": [
      "Computing link prediction metrics for cutoff percentile=95%\n"
     ]
    },
    {
     "name": "stdout",
     "output_type": "stream",
     "text": [
      "Computing link prediction metrics for cutoff percentile=96%\n"
     ]
    },
    {
     "name": "stdout",
     "output_type": "stream",
     "text": [
      "Computing link prediction metrics for cutoff percentile=97%\n"
     ]
    },
    {
     "name": "stdout",
     "output_type": "stream",
     "text": [
      "Computing link prediction metrics for cutoff percentile=98%\n"
     ]
    },
    {
     "name": "stdout",
     "output_type": "stream",
     "text": [
      "Computing link prediction metrics for cutoff percentile=99%\n"
     ]
    },
    {
     "name": "stdout",
     "output_type": "stream",
     "text": [
      "Finished prediction sweep over percentiles.\n"
     ]
    }
   ],
   "source": [
    "# needs to be cached in embeddings_obj\n",
    "report = mv.evaluate(perturbation_embeddings, gene_graph, gene_sets, percentile_range=[0, 100])"
   ]
  },
  {
   "cell_type": "code",
   "execution_count": 14,
   "id": "27b4b03d",
   "metadata": {
    "execution": {
     "iopub.execute_input": "2024-08-14T18:10:55.767015Z",
     "iopub.status.busy": "2024-08-14T18:10:55.766679Z",
     "iopub.status.idle": "2024-08-14T18:10:55.772872Z",
     "shell.execute_reply": "2024-08-14T18:10:55.771834Z"
    },
    "papermill": {
     "duration": 0.036119,
     "end_time": "2024-08-14T18:10:55.775902",
     "exception": false,
     "start_time": "2024-08-14T18:10:55.739783",
     "status": "completed"
    },
    "tags": []
   },
   "outputs": [],
   "source": [
    "recalls = [report[\"metrics_by_percentile\"][i][\"recall\"] for i in report[\"metrics_by_percentile\"]]\n",
    "precisions = [report[\"metrics_by_percentile\"][i][\"precision\"] for i in report[\"metrics_by_percentile\"]]\n",
    "tprs = [report[\"metrics_by_percentile\"][i][\"TPR\"] for i in report[\"metrics_by_percentile\"]]\n",
    "fprs = [report[\"metrics_by_percentile\"][i][\"FPR\"] for i in report[\"metrics_by_percentile\"]]"
   ]
  },
  {
   "cell_type": "code",
   "execution_count": 15,
   "id": "304d2617-8de2-4250-b689-3815bd375f4f",
   "metadata": {
    "execution": {
     "iopub.execute_input": "2024-08-14T18:10:55.828457Z",
     "iopub.status.busy": "2024-08-14T18:10:55.828215Z",
     "iopub.status.idle": "2024-08-14T18:10:55.834580Z",
     "shell.execute_reply": "2024-08-14T18:10:55.833585Z"
    },
    "papermill": {
     "duration": 0.036261,
     "end_time": "2024-08-14T18:10:55.837793",
     "exception": false,
     "start_time": "2024-08-14T18:10:55.801532",
     "status": "completed"
    },
    "tags": []
   },
   "outputs": [
    {
     "data": {
      "text/plain": [
       "{'recall': 0.42044685172647256,\n",
       " 'precision': 0.06161325528326223,\n",
       " 'f1_score': 0.10747663551401869,\n",
       " 'TPR': 0.42044685172647256,\n",
       " 'FPR': 0.09331649466227288}"
      ]
     },
     "execution_count": 15,
     "metadata": {},
     "output_type": "execute_result"
    }
   ],
   "source": [
    "report[\"metrics_by_percentile\"][95]"
   ]
  },
  {
   "cell_type": "code",
   "execution_count": 16,
   "id": "9741cf68-8040-4fbe-b0e8-151b87fd5a08",
   "metadata": {
    "execution": {
     "iopub.execute_input": "2024-08-14T18:10:55.891141Z",
     "iopub.status.busy": "2024-08-14T18:10:55.890809Z",
     "iopub.status.idle": "2024-08-14T18:10:55.896918Z",
     "shell.execute_reply": "2024-08-14T18:10:55.896031Z"
    },
    "papermill": {
     "duration": 0.036315,
     "end_time": "2024-08-14T18:10:55.900286",
     "exception": false,
     "start_time": "2024-08-14T18:10:55.863971",
     "status": "completed"
    },
    "tags": []
   },
   "outputs": [
    {
     "data": {
      "text/plain": [
       "{'recall': 0.5226811103588355,\n",
       " 'precision': 0.037870983566347806,\n",
       " 'f1_score': 0.07062482846949045,\n",
       " 'TPR': 0.5226811103588355,\n",
       " 'FPR': 0.1935098762752333}"
      ]
     },
     "execution_count": 16,
     "metadata": {},
     "output_type": "execute_result"
    }
   ],
   "source": [
    "report[\"metrics_by_percentile\"][90]"
   ]
  },
  {
   "cell_type": "code",
   "execution_count": 17,
   "id": "da7b6945",
   "metadata": {
    "execution": {
     "iopub.execute_input": "2024-08-14T18:10:55.955080Z",
     "iopub.status.busy": "2024-08-14T18:10:55.954791Z",
     "iopub.status.idle": "2024-08-14T18:10:56.571665Z",
     "shell.execute_reply": "2024-08-14T18:10:56.570686Z"
    },
    "papermill": {
     "duration": 0.647916,
     "end_time": "2024-08-14T18:10:56.575310",
     "exception": false,
     "start_time": "2024-08-14T18:10:55.927394",
     "status": "completed"
    },
    "tags": []
   },
   "outputs": [
    {
     "data": {
      "image/png": "[encoded data removed]",
      "text/plain": [
       "<Figure size 640x480 with 1 Axes>"
      ]
     },
     "metadata": {},
     "output_type": "display_data"
    }
   ],
   "source": [
    "# put plots in a plotting module file\n",
    "# plots should be generated from embeddings_obj or report\n",
    "plt.plot(recalls, precisions)\n",
    "sns.set_color_codes(\"pastel\")\n",
    "sns.set_theme()\n",
    "plt.xlabel(\"Recall\")\n",
    "plt.ylabel(\"Precision\")\n",
    "plt.title(\"Precision-Recall Curve on CORUM using scVI - DLDL1\")\n",
    "plt.show()"
   ]
  },
  {
   "cell_type": "code",
   "execution_count": 18,
   "id": "8eaba8e9",
   "metadata": {
    "execution": {
     "iopub.execute_input": "2024-08-14T18:10:56.632787Z",
     "iopub.status.busy": "2024-08-14T18:10:56.632459Z",
     "iopub.status.idle": "2024-08-14T18:10:56.914022Z",
     "shell.execute_reply": "2024-08-14T18:10:56.913076Z"
    },
    "papermill": {
     "duration": 0.314118,
     "end_time": "2024-08-14T18:10:56.918049",
     "exception": false,
     "start_time": "2024-08-14T18:10:56.603931",
     "status": "completed"
    },
    "tags": []
   },
   "outputs": [
    {
     "data": {
      "image/png": "[encoded data removed]",
      "text/plain": [
       "<Figure size 640x480 with 1 Axes>"
      ]
     },
     "metadata": {},
     "output_type": "display_data"
    }
   ],
   "source": [
    "plt.plot(fprs, tprs)\n",
    "plt.xlabel(\"False Positive Rate\")\n",
    "plt.ylabel(\"True Positive Rate\")\n",
    "plt.title(\"auROC Curve on CORUM using scVI - DLDL1\")\n",
    "plt.show()"
   ]
  },
  {
   "cell_type": "markdown",
   "id": "27c799e7-40bd-4c6a-9c11-eb14a9f17c00",
   "metadata": {
    "papermill": {
     "duration": 0.028384,
     "end_time": "2024-08-14T18:10:56.975087",
     "exception": false,
     "start_time": "2024-08-14T18:10:56.946703",
     "status": "completed"
    },
    "tags": []
   },
   "source": [
    "## Update the annadata object and write out the output"
   ]
  },
  {
   "cell_type": "code",
   "execution_count": 19,
   "id": "6ba7c857-ef85-4321-9e7d-712d3d196bb6",
   "metadata": {
    "execution": {
     "iopub.execute_input": "2024-08-14T18:10:57.033069Z",
     "iopub.status.busy": "2024-08-14T18:10:57.032788Z",
     "iopub.status.idle": "2024-08-14T18:10:57.037918Z",
     "shell.execute_reply": "2024-08-14T18:10:57.036813Z"
    },
    "papermill": {
     "duration": 0.037478,
     "end_time": "2024-08-14T18:10:57.040881",
     "exception": false,
     "start_time": "2024-08-14T18:10:57.003403",
     "status": "completed"
    },
    "tags": []
   },
   "outputs": [],
   "source": [
    "if \"multivariate_report\" not in bdata.uns:\n",
    "    bdata.uns[\"multivariate_report\"]={}"
   ]
  },
  {
   "cell_type": "code",
   "execution_count": 20,
   "id": "51f62080-fee8-49be-9e00-56b11d5221ce",
   "metadata": {
    "execution": {
     "iopub.execute_input": "2024-08-14T18:10:57.105286Z",
     "iopub.status.busy": "2024-08-14T18:10:57.104994Z",
     "iopub.status.idle": "2024-08-14T18:10:57.111543Z",
     "shell.execute_reply": "2024-08-14T18:10:57.110409Z"
    },
    "papermill": {
     "duration": 0.045467,
     "end_time": "2024-08-14T18:10:57.114876",
     "exception": false,
     "start_time": "2024-08-14T18:10:57.069409",
     "status": "completed"
    },
    "tags": []
   },
   "outputs": [],
   "source": [
    "if transcriptoprint==True:\n",
    "    bdata.uns[\"multivariate_report\"][key_uns][\"transcriptoprint\"] = {\"roc_auc\": report[\"roc_auc\"], \"auprc\": report[\"auprc\"], \n",
    "                                    \"95percentile\":report[\"metrics_by_percentile\"][95], \"90percentile\":report[\"metrics_by_percentile\"][90]}\n",
    "else:\n",
    "    bdata.uns[\"multivariate_report\"][key_uns] = {\"roc_auc\": report[\"roc_auc\"], \"auprc\": report[\"auprc\"], \n",
    "                                    \"95percentile\":report[\"metrics_by_percentile\"][95], \"90percentile\":report[\"metrics_by_percentile\"][90]}"
   ]
  },
  {
   "cell_type": "code",
   "execution_count": 21,
   "id": "8609253a-8d80-45ea-95f7-cab05fd32f20",
   "metadata": {
    "execution": {
     "iopub.execute_input": "2024-08-14T18:10:57.174686Z",
     "iopub.status.busy": "2024-08-14T18:10:57.174395Z",
     "iopub.status.idle": "2024-08-14T18:10:57.568370Z",
     "shell.execute_reply": "2024-08-14T18:10:57.566928Z"
    },
    "papermill": {
     "duration": 0.426892,
     "end_time": "2024-08-14T18:10:57.571640",
     "exception": false,
     "start_time": "2024-08-14T18:10:57.144748",
     "status": "completed"
    },
    "tags": []
   },
   "outputs": [],
   "source": [
    "adata.uns = bdata.uns.copy()"
   ]
  },
  {
   "cell_type": "code",
   "execution_count": 22,
   "id": "a97a34df",
   "metadata": {
    "execution": {
     "iopub.execute_input": "2024-08-14T18:10:57.631644Z",
     "iopub.status.busy": "2024-08-14T18:10:57.631319Z",
     "iopub.status.idle": "2024-08-14T18:12:36.671104Z",
     "shell.execute_reply": "2024-08-14T18:12:36.669919Z"
    },
    "papermill": {
     "duration": 99.073052,
     "end_time": "2024-08-14T18:12:36.674591",
     "exception": false,
     "start_time": "2024-08-14T18:10:57.601539",
     "status": "completed"
    },
    "tags": []
   },
   "outputs": [],
   "source": [
    "adata.write_h5ad(MV_file)"
   ]
  },
  {
   "cell_type": "code",
   "execution_count": 23,
   "id": "b5be6b23-cbd7-44b2-94fe-6500f9569b73",
   "metadata": {
    "execution": {
     "iopub.execute_input": "2024-08-14T18:12:36.740052Z",
     "iopub.status.busy": "2024-08-14T18:12:36.739551Z",
     "iopub.status.idle": "2024-08-14T18:12:36.748470Z",
     "shell.execute_reply": "2024-08-14T18:12:36.747640Z"
    },
    "papermill": {
     "duration": 0.042257,
     "end_time": "2024-08-14T18:12:36.751407",
     "exception": false,
     "start_time": "2024-08-14T18:12:36.709150",
     "status": "completed"
    },
    "tags": []
   },
   "outputs": [
    {
     "data": {
      "text/plain": [
       "{'roc_auc': 0.7003786135855922,\n",
       " 'auprc': 0.03783647147357558,\n",
       " '95percentile': {'recall': 0.42044685172647256,\n",
       "  'precision': 0.06161325528326223,\n",
       "  'f1_score': 0.10747663551401869,\n",
       "  'TPR': 0.42044685172647256,\n",
       "  'FPR': 0.09331649466227288},\n",
       " '90percentile': {'recall': 0.5226811103588355,\n",
       "  'precision': 0.037870983566347806,\n",
       "  'f1_score': 0.07062482846949045,\n",
       "  'TPR': 0.5226811103588355,\n",
       "  'FPR': 0.1935098762752333}}"
      ]
     },
     "execution_count": 23,
     "metadata": {},
     "output_type": "execute_result"
    }
   ],
   "source": [
    "adata.uns['multivariate_report'][key_uns]"
   ]
  },
  {
   "cell_type": "markdown",
   "id": "93b17b35-7184-41c2-b142-445af994b1bc",
   "metadata": {
    "papermill": {
     "duration": 0.028912,
     "end_time": "2024-08-14T18:12:36.809683",
     "exception": false,
     "start_time": "2024-08-14T18:12:36.780771",
     "status": "completed"
    },
    "tags": []
   },
   "source": [
    "## Data Tabulation"
   ]
  },
  {
   "cell_type": "code",
   "execution_count": 24,
   "id": "7f089048-6324-423e-a4e4-5916c66d98e1",
   "metadata": {
    "execution": {
     "iopub.execute_input": "2024-08-14T18:12:36.869191Z",
     "iopub.status.busy": "2024-08-14T18:12:36.868957Z",
     "iopub.status.idle": "2024-08-14T18:12:36.874886Z",
     "shell.execute_reply": "2024-08-14T18:12:36.873808Z"
    },
    "papermill": {
     "duration": 0.038896,
     "end_time": "2024-08-14T18:12:36.877864",
     "exception": false,
     "start_time": "2024-08-14T18:12:36.838968",
     "status": "completed"
    },
    "tags": []
   },
   "outputs": [],
   "source": [
    "metrics = pd.DataFrame.from_dict(report[\"metrics_by_percentile\"],orient='index')"
   ]
  },
  {
   "cell_type": "code",
   "execution_count": 25,
   "id": "e5791ed4-9f6d-46e1-a381-dfa800d25881",
   "metadata": {
    "execution": {
     "iopub.execute_input": "2024-08-14T18:12:36.937985Z",
     "iopub.status.busy": "2024-08-14T18:12:36.937685Z",
     "iopub.status.idle": "2024-08-14T18:12:36.943212Z",
     "shell.execute_reply": "2024-08-14T18:12:36.942090Z"
    },
    "papermill": {
     "duration": 0.039426,
     "end_time": "2024-08-14T18:12:36.946107",
     "exception": false,
     "start_time": "2024-08-14T18:12:36.906681",
     "status": "completed"
    },
    "tags": []
   },
   "outputs": [],
   "source": [
    "metrics[\"percentile\"] = metrics.index"
   ]
  },
  {
   "cell_type": "code",
   "execution_count": 26,
   "id": "49c6b6bb-a163-42cb-806b-ec51ddd8f5d5",
   "metadata": {
    "execution": {
     "iopub.execute_input": "2024-08-14T18:12:37.005880Z",
     "iopub.status.busy": "2024-08-14T18:12:37.005482Z",
     "iopub.status.idle": "2024-08-14T18:12:37.020093Z",
     "shell.execute_reply": "2024-08-14T18:12:37.019138Z"
    },
    "papermill": {
     "duration": 0.047833,
     "end_time": "2024-08-14T18:12:37.023208",
     "exception": false,
     "start_time": "2024-08-14T18:12:36.975375",
     "status": "completed"
    },
    "tags": []
   },
   "outputs": [
    {
     "data": {
      "text/html": [
       "<div>\n",
       "<style scoped>\n",
       "    .dataframe tbody tr th:only-of-type {\n",
       "        vertical-align: middle;\n",
       "    }\n",
       "\n",
       "    .dataframe tbody tr th {\n",
       "        vertical-align: top;\n",
       "    }\n",
       "\n",
       "    .dataframe thead th {\n",
       "        text-align: right;\n",
       "    }\n",
       "</style>\n",
       "<table border=\"1\" class=\"dataframe\">\n",
       "  <thead>\n",
       "    <tr style=\"text-align: right;\">\n",
       "      <th></th>\n",
       "      <th>recall</th>\n",
       "      <th>precision</th>\n",
       "      <th>f1_score</th>\n",
       "      <th>TPR</th>\n",
       "      <th>FPR</th>\n",
       "      <th>percentile</th>\n",
       "    </tr>\n",
       "  </thead>\n",
       "  <tbody>\n",
       "    <tr>\n",
       "      <th>90</th>\n",
       "      <td>0.522681</td>\n",
       "      <td>0.037871</td>\n",
       "      <td>0.070625</td>\n",
       "      <td>0.522681</td>\n",
       "      <td>0.193510</td>\n",
       "      <td>90</td>\n",
       "    </tr>\n",
       "    <tr>\n",
       "      <th>91</th>\n",
       "      <td>0.507786</td>\n",
       "      <td>0.040928</td>\n",
       "      <td>0.075750</td>\n",
       "      <td>0.507786</td>\n",
       "      <td>0.173402</td>\n",
       "      <td>91</td>\n",
       "    </tr>\n",
       "    <tr>\n",
       "      <th>92</th>\n",
       "      <td>0.484766</td>\n",
       "      <td>0.044026</td>\n",
       "      <td>0.080722</td>\n",
       "      <td>0.484766</td>\n",
       "      <td>0.153393</td>\n",
       "      <td>92</td>\n",
       "    </tr>\n",
       "    <tr>\n",
       "      <th>93</th>\n",
       "      <td>0.462424</td>\n",
       "      <td>0.048088</td>\n",
       "      <td>0.087117</td>\n",
       "      <td>0.462424</td>\n",
       "      <td>0.133394</td>\n",
       "      <td>93</td>\n",
       "    </tr>\n",
       "    <tr>\n",
       "      <th>94</th>\n",
       "      <td>0.440758</td>\n",
       "      <td>0.053620</td>\n",
       "      <td>0.095609</td>\n",
       "      <td>0.440758</td>\n",
       "      <td>0.113365</td>\n",
       "      <td>94</td>\n",
       "    </tr>\n",
       "    <tr>\n",
       "      <th>95</th>\n",
       "      <td>0.420447</td>\n",
       "      <td>0.061613</td>\n",
       "      <td>0.107477</td>\n",
       "      <td>0.420447</td>\n",
       "      <td>0.093316</td>\n",
       "      <td>95</td>\n",
       "    </tr>\n",
       "    <tr>\n",
       "      <th>96</th>\n",
       "      <td>0.392688</td>\n",
       "      <td>0.072328</td>\n",
       "      <td>0.122157</td>\n",
       "      <td>0.392688</td>\n",
       "      <td>0.073396</td>\n",
       "      <td>96</td>\n",
       "    </tr>\n",
       "    <tr>\n",
       "      <th>97</th>\n",
       "      <td>0.368314</td>\n",
       "      <td>0.091321</td>\n",
       "      <td>0.146355</td>\n",
       "      <td>0.368314</td>\n",
       "      <td>0.053407</td>\n",
       "      <td>97</td>\n",
       "    </tr>\n",
       "    <tr>\n",
       "      <th>98</th>\n",
       "      <td>0.336493</td>\n",
       "      <td>0.127534</td>\n",
       "      <td>0.184965</td>\n",
       "      <td>0.336493</td>\n",
       "      <td>0.033546</td>\n",
       "      <td>98</td>\n",
       "    </tr>\n",
       "    <tr>\n",
       "      <th>99</th>\n",
       "      <td>0.240352</td>\n",
       "      <td>0.193460</td>\n",
       "      <td>0.214372</td>\n",
       "      <td>0.240352</td>\n",
       "      <td>0.014602</td>\n",
       "      <td>99</td>\n",
       "    </tr>\n",
       "  </tbody>\n",
       "</table>\n",
       "</div>"
      ],
      "text/plain": [
       "      recall  precision  f1_score       TPR       FPR  percentile\n",
       "90  0.522681   0.037871  0.070625  0.522681  0.193510          90\n",
       "91  0.507786   0.040928  0.075750  0.507786  0.173402          91\n",
       "92  0.484766   0.044026  0.080722  0.484766  0.153393          92\n",
       "93  0.462424   0.048088  0.087117  0.462424  0.133394          93\n",
       "94  0.440758   0.053620  0.095609  0.440758  0.113365          94\n",
       "95  0.420447   0.061613  0.107477  0.420447  0.093316          95\n",
       "96  0.392688   0.072328  0.122157  0.392688  0.073396          96\n",
       "97  0.368314   0.091321  0.146355  0.368314  0.053407          97\n",
       "98  0.336493   0.127534  0.184965  0.336493  0.033546          98\n",
       "99  0.240352   0.193460  0.214372  0.240352  0.014602          99"
      ]
     },
     "execution_count": 26,
     "metadata": {},
     "output_type": "execute_result"
    }
   ],
   "source": [
    "metrics[metrics.percentile>89]"
   ]
  },
  {
   "cell_type": "code",
   "execution_count": 27,
   "id": "14e5d669-7529-4dbd-b69a-83237abf540f",
   "metadata": {
    "execution": {
     "iopub.execute_input": "2024-08-14T18:12:37.084082Z",
     "iopub.status.busy": "2024-08-14T18:12:37.083796Z",
     "iopub.status.idle": "2024-08-14T18:12:38.096428Z",
     "shell.execute_reply": "2024-08-14T18:12:38.095412Z"
    },
    "papermill": {
     "duration": 1.046362,
     "end_time": "2024-08-14T18:12:38.099358",
     "exception": false,
     "start_time": "2024-08-14T18:12:37.052996",
     "status": "completed"
    },
    "tags": []
   },
   "outputs": [
    {
     "data": {
      "image/png": "[encoded data removed]",
      "text/plain": [
       "<Figure size 900x300 with 3 Axes>"
      ]
     },
     "metadata": {},
     "output_type": "display_data"
    }
   ],
   "source": [
    "_, axs = plt.subplots(1, 3, figsize=np.array([3, 1]) * 3)\n",
    "xy = [(\"percentile\", \"recall\"), (\"percentile\", \"precision\"), (\"recall\", \"precision\")]\n",
    "for (x, y), ax in zip(xy, axs.flat):\n",
    "    ax.plot(metrics[x], metrics[y])\n",
    "    ax.grid()\n",
    "    ax.set_xlabel(x)\n",
    "    ax.set_ylabel(y)\n",
    "plt.tight_layout()"
   ]
  },
  {
   "cell_type": "code",
   "execution_count": null,
   "id": "24f75dc9-5df0-421b-9f00-6f5074792702",
   "metadata": {
    "papermill": {
     "duration": 0.03064,
     "end_time": "2024-08-14T18:12:38.162224",
     "exception": false,
     "start_time": "2024-08-14T18:12:38.131584",
     "status": "completed"
    },
    "tags": []
   },
   "outputs": [],
   "source": []
  }
 ],
 "metadata": {
  "kernelspec": {
   "display_name": "Dev/GPuy310",
   "language": "python",
   "name": "gpuy310-dev"
  },
  "language_info": {
   "codemirror_mode": {
    "name": "ipython",
    "version": 3
   },
   "file_extension": ".py",
   "mimetype": "text/x-python",
   "name": "python",
   "nbconvert_exporter": "python",
   "pygments_lexer": "ipython3",
   "version": "3.10.8"
  },
  "papermill": {
   "default_parameters": {},
   "duration": 502.561451,
   "end_time": "2024-08-14T18:12:48.754042",
   "environment_variables": {},
   "exception": null,
   "input_path": "./Templates/Multivariate_updated.ipynb",
   "output_path": "/gstore/home/ghaffars/Cumulus/crc_dld1_sublib1_bdev/crop-seq-pipeline/Reports/DS000017114_Multivariate_pca_sphered_all_genes.ipynb",
   "parameters": {
    "DEV": false,
    "DS_test": false,
    "DatasetID": "DS000017114",
    "MV_file": "/gstore/project/crc_recursion_gw/DLD1_Sublib1_bdev//DS000017114/Energy_Distance/e_dist_all.h5ad",
    "author": "SG",
    "description": "Production scale screen in DLD-1 cells with 1/4 of the genome-wide CRISPR library (sub-lib-1, ~22K guides). 1 time point: Day-5. We performed 24 rxns of 10x 3' HT kit with an estimated loading of 52K cells. We performed a pilot study to test the library quality before the production-level sequencing. We will submit 72 libraries (24 GEX, 24 HTO and 24 sgRNA) We estimate need 600M for GEX, 30M for HTO and 50M for sgRNA. This is a repeat run to correct chip loading.",
    "embeddings_key": "X_pca_sphered",
    "name_space": [
     {
      "id": "GRCh38",
      "type": "genome"
     }
    ],
    "organism": "human",
    "path": "/gstore/project/crc_recursion_gw/DLD1_Sublib1_bdev//DS000017114/Energy_Distance",
    "sources": [
     {
      "id": "Siavash-1234",
      "name": "Geo-ID"
     }
    ],
    "tech_name": "scRNA-seq",
    "test_DatasetID": "",
    "title": "Recursion DLD1 Library1 Screen Day 5- combination of NGS 5774 and NGS 5702",
    "transcriptoprint": false
   },
   "start_time": "2024-08-14T18:04:26.192591",
   "version": "2.6.0"
  },
  "widgets": {
   "application/vnd.jupyter.widget-state+json": {
    "state": {},
    "version_major": 2,
    "version_minor": 0
   }
  }
 },
 "nbformat": 4,
 "nbformat_minor": 5
}