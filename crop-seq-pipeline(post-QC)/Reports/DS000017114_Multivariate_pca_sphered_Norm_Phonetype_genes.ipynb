{
 "cells": [
  {
   "cell_type": "code",
   "execution_count": 1,
   "id": "e0cbd236",
   "metadata": {
    "execution": {
     "iopub.execute_input": "2024-08-14T18:52:13.009375Z",
     "iopub.status.busy": "2024-08-14T18:52:13.008430Z",
     "iopub.status.idle": "2024-08-14T18:52:13.026108Z",
     "shell.execute_reply": "2024-08-14T18:52:13.024620Z"
    },
    "papermill": {
     "duration": 0.033223,
     "end_time": "2024-08-14T18:52:13.029421",
     "exception": false,
     "start_time": "2024-08-14T18:52:12.996198",
     "status": "completed"
    },
    "tags": [
     "injected-parameters"
    ]
   },
   "outputs": [],
   "source": [
    "# Parameters\n",
    "DatasetID = \"DS000017114\"\n",
    "DEV = False\n",
    "test_DatasetID = \"\"\n",
    "DS_test = False\n",
    "title = \"Recursion DLD1 Library1 Screen Day 5- combination of NGS 5774 and NGS 5702\"\n",
    "description = \"Production scale screen in DLD-1 cells with 1/4 of the genome-wide CRISPR library (sub-lib-1, ~22K guides). 1 time point: Day-5. We performed 24 rxns of 10x 3' HT kit with an estimated loading of 52K cells. We performed a pilot study to test the library quality before the production-level sequencing. We will submit 72 libraries (24 GEX, 24 HTO and 24 sgRNA) We estimate need 600M for GEX, 30M for HTO and 50M for sgRNA. This is a repeat run to correct chip loading.\"\n",
    "name_space = [{\"id\": \"GRCh38\", \"type\": \"genome\"}]\n",
    "sources = [{\"id\": \"Siavash-1234\", \"name\": \"Geo-ID\"}]\n",
    "tech_name = \"scRNA-seq\"\n",
    "author = \"SG\"\n",
    "organism = \"human\"\n",
    "embeddings_key = \"X_pca_sphered_Norm\"\n",
    "transcriptoprint = True\n",
    "MV_file = \"/gstore/project/crc_recursion_gw/DLD1_Sublib1_bdev//DS000017114/Energy_Distance/e_dist_all.h5ad\"\n",
    "path = \"/gstore/project/crc_recursion_gw/DLD1_Sublib1_bdev//DS000017114/Energy_Distance\"\n"
   ]
  },
  {
   "cell_type": "code",
   "execution_count": 2,
   "id": "8cbb3b17",
   "metadata": {
    "execution": {
     "iopub.execute_input": "2024-08-14T18:52:13.052018Z",
     "iopub.status.busy": "2024-08-14T18:52:13.051538Z",
     "iopub.status.idle": "2024-08-14T18:52:31.024531Z",
     "shell.execute_reply": "2024-08-14T18:52:31.023267Z"
    },
    "papermill": {
     "duration": 17.987928,
     "end_time": "2024-08-14T18:52:31.027747",
     "exception": false,
     "start_time": "2024-08-14T18:52:13.039819",
     "status": "completed"
    },
    "tags": []
   },
   "outputs": [
    {
     "name": "stderr",
     "output_type": "stream",
     "text": [
      "/apps/user/gpy/envs/dev/GPUy310pascal/lib/python3.10/site-packages/scvi/_settings.py:63: UserWarning: Since v1.0.0, scvi-tools no longer uses a random seed by default. Run `scvi.settings.seed = 0` to reproduce results from previous versions.\n",
      "  self.seed = seed\n",
      "/apps/user/gpy/envs/dev/GPUy310pascal/lib/python3.10/site-packages/scvi/_settings.py:70: UserWarning: Setting `dl_pin_memory_gpu_training` is deprecated in v1.0 and will be removed in v1.1. Please pass in `pin_memory` to the data loaders instead.\n",
      "  self.dl_pin_memory_gpu_training = (\n"
     ]
    }
   ],
   "source": [
    "import sys\n",
    "sys.path.append(\"..\")\n",
    "import Templates.tools.multivariate as mv\n",
    "import seaborn as sns\n",
    "import scanpy as sc\n",
    "import numpy as np\n",
    "import pandas as pd\n",
    "import matplotlib.pyplot as plt"
   ]
  },
  {
   "cell_type": "code",
   "execution_count": 3,
   "id": "88b47f52",
   "metadata": {
    "execution": {
     "iopub.execute_input": "2024-08-14T18:52:31.057838Z",
     "iopub.status.busy": "2024-08-14T18:52:31.056996Z",
     "iopub.status.idle": "2024-08-14T18:54:03.609176Z",
     "shell.execute_reply": "2024-08-14T18:54:03.607114Z"
    },
    "papermill": {
     "duration": 92.567666,
     "end_time": "2024-08-14T18:54:03.613011",
     "exception": false,
     "start_time": "2024-08-14T18:52:31.045345",
     "status": "completed"
    },
    "tags": []
   },
   "outputs": [],
   "source": [
    "adata = sc.read_h5ad(MV_file)"
   ]
  },
  {
   "cell_type": "code",
   "execution_count": 4,
   "id": "7dc3cbb8-549f-411a-837e-d6c162398d42",
   "metadata": {
    "execution": {
     "iopub.execute_input": "2024-08-14T18:54:03.646808Z",
     "iopub.status.busy": "2024-08-14T18:54:03.645618Z",
     "iopub.status.idle": "2024-08-14T18:54:03.662059Z",
     "shell.execute_reply": "2024-08-14T18:54:03.660743Z"
    },
    "papermill": {
     "duration": 0.032927,
     "end_time": "2024-08-14T18:54:03.665373",
     "exception": false,
     "start_time": "2024-08-14T18:54:03.632446",
     "status": "completed"
    },
    "tags": []
   },
   "outputs": [
    {
     "data": {
      "text/plain": [
       "AnnData object with n_obs × n_vars = 595603 × 36603\n",
       "    obs: 'Sample', 'Barcode', 'DemuxType_crispr', 'DemuxAssignment_crispr', 'DemuxType_hashing', 'DemuxAssignment_hashing', 'cellline', 'timepoint', 'HTO', 'NGS_ID', 'Biological_replicate', '10Xrun', 'sublibrary', 'gRNA_library_MOI', 'gene_symbol', 'class', 'n_genes_by_counts', 'total_counts', 'total_counts_mt', 'pct_counts_mt', 'total_counts_ribo', 'pct_counts_ribo', 'qc_pass', 'S_score', 'G2M_score', 'phase', 'SCN_class', 'gem'\n",
       "    var: 'Symbol'\n",
       "    uns: 'DemuxAssignment_hashing_colors', 'Sample_colors', '_scvi_manager_uuid', '_scvi_uuid', 'energy_distance', 'leiden_colors', 'multivariate_report', 'neighbors', 'perturbation_embeddings', 'perturbations', 'umap'\n",
       "    obsm: 'X_pca', 'X_pca_centered', 'X_pca_sphered', 'X_pca_sphered_Norm', 'X_scVI', 'X_scVI_centered', 'X_umap'\n",
       "    layers: 'counts'\n",
       "    obsp: 'connectivities', 'distances'"
      ]
     },
     "execution_count": 4,
     "metadata": {},
     "output_type": "execute_result"
    }
   ],
   "source": [
    "adata"
   ]
  },
  {
   "cell_type": "code",
   "execution_count": 5,
   "id": "c8c2c10b-4867-4241-954c-b657534be256",
   "metadata": {
    "execution": {
     "iopub.execute_input": "2024-08-14T18:54:03.689380Z",
     "iopub.status.busy": "2024-08-14T18:54:03.688803Z",
     "iopub.status.idle": "2024-08-14T18:54:03.695240Z",
     "shell.execute_reply": "2024-08-14T18:54:03.694027Z"
    },
    "papermill": {
     "duration": 0.021869,
     "end_time": "2024-08-14T18:54:03.698396",
     "exception": false,
     "start_time": "2024-08-14T18:54:03.676527",
     "status": "completed"
    },
    "tags": []
   },
   "outputs": [],
   "source": [
    "key_uns = embeddings_key.split(\"_\",1)[-1]"
   ]
  },
  {
   "cell_type": "code",
   "execution_count": 6,
   "id": "834d0e41-6cfd-4f65-81ad-d2fb601489d0",
   "metadata": {
    "execution": {
     "iopub.execute_input": "2024-08-14T18:54:03.722398Z",
     "iopub.status.busy": "2024-08-14T18:54:03.721506Z",
     "iopub.status.idle": "2024-08-14T18:54:03.728025Z",
     "shell.execute_reply": "2024-08-14T18:54:03.726785Z"
    },
    "papermill": {
     "duration": 0.021856,
     "end_time": "2024-08-14T18:54:03.731159",
     "exception": false,
     "start_time": "2024-08-14T18:54:03.709303",
     "status": "completed"
    },
    "tags": []
   },
   "outputs": [],
   "source": [
    "if key_uns in [\"pca_sphered\",\"pca_sphered_Norm\"]:\n",
    "    centering = False\n",
    "else:\n",
    "    centering = True"
   ]
  },
  {
   "cell_type": "code",
   "execution_count": 7,
   "id": "e84f2879-a24f-41f9-8d46-f8921237bdec",
   "metadata": {
    "execution": {
     "iopub.execute_input": "2024-08-14T18:54:03.755503Z",
     "iopub.status.busy": "2024-08-14T18:54:03.754927Z",
     "iopub.status.idle": "2024-08-14T18:54:36.350157Z",
     "shell.execute_reply": "2024-08-14T18:54:36.348893Z"
    },
    "papermill": {
     "duration": 32.610831,
     "end_time": "2024-08-14T18:54:36.353425",
     "exception": false,
     "start_time": "2024-08-14T18:54:03.742594",
     "status": "completed"
    },
    "tags": []
   },
   "outputs": [],
   "source": [
    "if transcriptoprint:\n",
    "    A = list(mv.common_genes(key_uns, path))\n",
    "    A.append(\"NTC\")\n",
    "    bdata = adata[adata.obs[\"gene_symbol\"].isin(A)].copy()\n",
    "else:\n",
    "    bdata = adata.copy()"
   ]
  },
  {
   "cell_type": "code",
   "execution_count": 8,
   "id": "b28dc757",
   "metadata": {
    "execution": {
     "iopub.execute_input": "2024-08-14T18:54:36.378744Z",
     "iopub.status.busy": "2024-08-14T18:54:36.378395Z",
     "iopub.status.idle": "2024-08-14T18:54:36.384630Z",
     "shell.execute_reply": "2024-08-14T18:54:36.383775Z"
    },
    "papermill": {
     "duration": 0.021619,
     "end_time": "2024-08-14T18:54:36.387794",
     "exception": false,
     "start_time": "2024-08-14T18:54:36.366175",
     "status": "completed"
    },
    "tags": []
   },
   "outputs": [
    {
     "data": {
      "text/plain": [
       "AnnData object with n_obs × n_vars = 192556 × 36603\n",
       "    obs: 'Sample', 'Barcode', 'DemuxType_crispr', 'DemuxAssignment_crispr', 'DemuxType_hashing', 'DemuxAssignment_hashing', 'cellline', 'timepoint', 'HTO', 'NGS_ID', 'Biological_replicate', '10Xrun', 'sublibrary', 'gRNA_library_MOI', 'gene_symbol', 'class', 'n_genes_by_counts', 'total_counts', 'total_counts_mt', 'pct_counts_mt', 'total_counts_ribo', 'pct_counts_ribo', 'qc_pass', 'S_score', 'G2M_score', 'phase', 'SCN_class', 'gem'\n",
       "    var: 'Symbol'\n",
       "    uns: 'DemuxAssignment_hashing_colors', 'Sample_colors', '_scvi_manager_uuid', '_scvi_uuid', 'energy_distance', 'leiden_colors', 'multivariate_report', 'neighbors', 'perturbation_embeddings', 'perturbations', 'umap'\n",
       "    obsm: 'X_pca', 'X_pca_centered', 'X_pca_sphered', 'X_pca_sphered_Norm', 'X_scVI', 'X_scVI_centered', 'X_umap'\n",
       "    layers: 'counts'\n",
       "    obsp: 'connectivities', 'distances'"
      ]
     },
     "execution_count": 8,
     "metadata": {},
     "output_type": "execute_result"
    }
   ],
   "source": [
    "bdata"
   ]
  },
  {
   "cell_type": "code",
   "execution_count": 9,
   "id": "3bad59a0-ba07-49c8-928e-8764a8674c43",
   "metadata": {
    "execution": {
     "iopub.execute_input": "2024-08-14T18:54:36.412216Z",
     "iopub.status.busy": "2024-08-14T18:54:36.411919Z",
     "iopub.status.idle": "2024-08-14T18:54:36.819173Z",
     "shell.execute_reply": "2024-08-14T18:54:36.818129Z"
    },
    "papermill": {
     "duration": 0.422973,
     "end_time": "2024-08-14T18:54:36.822458",
     "exception": false,
     "start_time": "2024-08-14T18:54:36.399485",
     "status": "completed"
    },
    "tags": []
   },
   "outputs": [
    {
     "data": {
      "text/html": [
       "<div>\n",
       "<style scoped>\n",
       "    .dataframe tbody tr th:only-of-type {\n",
       "        vertical-align: middle;\n",
       "    }\n",
       "\n",
       "    .dataframe tbody tr th {\n",
       "        vertical-align: top;\n",
       "    }\n",
       "\n",
       "    .dataframe thead th {\n",
       "        text-align: right;\n",
       "    }\n",
       "</style>\n",
       "<table border=\"1\" class=\"dataframe\">\n",
       "  <thead>\n",
       "    <tr style=\"text-align: right;\">\n",
       "      <th></th>\n",
       "      <th>Sample</th>\n",
       "      <th>Barcode</th>\n",
       "      <th>DemuxType_crispr</th>\n",
       "      <th>DemuxAssignment_crispr</th>\n",
       "      <th>DemuxType_hashing</th>\n",
       "      <th>DemuxAssignment_hashing</th>\n",
       "      <th>cellline</th>\n",
       "      <th>timepoint</th>\n",
       "      <th>HTO</th>\n",
       "      <th>NGS_ID</th>\n",
       "      <th>...</th>\n",
       "      <th>total_counts_mt</th>\n",
       "      <th>pct_counts_mt</th>\n",
       "      <th>total_counts_ribo</th>\n",
       "      <th>pct_counts_ribo</th>\n",
       "      <th>qc_pass</th>\n",
       "      <th>S_score</th>\n",
       "      <th>G2M_score</th>\n",
       "      <th>phase</th>\n",
       "      <th>SCN_class</th>\n",
       "      <th>gem</th>\n",
       "    </tr>\n",
       "  </thead>\n",
       "  <tbody>\n",
       "    <tr>\n",
       "      <th>SAM24451293_rep1-AAACCCAAGACAGTCG</th>\n",
       "      <td>SAM24451293</td>\n",
       "      <td>AAACCCAAGACAGTCG</td>\n",
       "      <td>singlet</td>\n",
       "      <td>ENSG00000171017_3</td>\n",
       "      <td>singlet</td>\n",
       "      <td>SAM24439045</td>\n",
       "      <td>DLD1</td>\n",
       "      <td>day5</td>\n",
       "      <td>HTO-18</td>\n",
       "      <td>NGS5774</td>\n",
       "      <td>...</td>\n",
       "      <td>618</td>\n",
       "      <td>6.336512</td>\n",
       "      <td>2152</td>\n",
       "      <td>22.065006</td>\n",
       "      <td>True</td>\n",
       "      <td>-0.493023</td>\n",
       "      <td>0.231481</td>\n",
       "      <td>G2M</td>\n",
       "      <td>Untreatedclus_DLD1</td>\n",
       "      <td>NGS5774-1</td>\n",
       "    </tr>\n",
       "    <tr>\n",
       "      <th>SAM24451293_rep1-AAACCCATCTGTCGTC</th>\n",
       "      <td>SAM24451293</td>\n",
       "      <td>AAACCCATCTGTCGTC</td>\n",
       "      <td>singlet</td>\n",
       "      <td>ENSG00000087111_4</td>\n",
       "      <td>singlet</td>\n",
       "      <td>SAM24439045</td>\n",
       "      <td>DLD1</td>\n",
       "      <td>day5</td>\n",
       "      <td>HTO-18</td>\n",
       "      <td>NGS5774</td>\n",
       "      <td>...</td>\n",
       "      <td>196</td>\n",
       "      <td>1.763859</td>\n",
       "      <td>2183</td>\n",
       "      <td>19.645428</td>\n",
       "      <td>True</td>\n",
       "      <td>0.246512</td>\n",
       "      <td>-0.306254</td>\n",
       "      <td>S</td>\n",
       "      <td>Untreatedclus_DLD1</td>\n",
       "      <td>NGS5774-1</td>\n",
       "    </tr>\n",
       "    <tr>\n",
       "      <th>SAM24451293_rep1-AAACGAAAGACGTCGA</th>\n",
       "      <td>SAM24451293</td>\n",
       "      <td>AAACGAAAGACGTCGA</td>\n",
       "      <td>singlet</td>\n",
       "      <td>ENSG00000109787_4</td>\n",
       "      <td>singlet</td>\n",
       "      <td>SAM24439044</td>\n",
       "      <td>DLD1</td>\n",
       "      <td>day5</td>\n",
       "      <td>HTO-15</td>\n",
       "      <td>NGS5774</td>\n",
       "      <td>...</td>\n",
       "      <td>486</td>\n",
       "      <td>2.926301</td>\n",
       "      <td>3141</td>\n",
       "      <td>18.912572</td>\n",
       "      <td>True</td>\n",
       "      <td>-0.641860</td>\n",
       "      <td>0.433263</td>\n",
       "      <td>G2M</td>\n",
       "      <td>Untreatedclus_DLD1</td>\n",
       "      <td>NGS5774-1</td>\n",
       "    </tr>\n",
       "    <tr>\n",
       "      <th>SAM24451293_rep1-AAACGAAAGTAGCATA</th>\n",
       "      <td>SAM24451293</td>\n",
       "      <td>AAACGAAAGTAGCATA</td>\n",
       "      <td>singlet</td>\n",
       "      <td>ENSG00000132849_3</td>\n",
       "      <td>singlet</td>\n",
       "      <td>SAM24439045</td>\n",
       "      <td>DLD1</td>\n",
       "      <td>day5</td>\n",
       "      <td>HTO-16</td>\n",
       "      <td>NGS5774</td>\n",
       "      <td>...</td>\n",
       "      <td>587</td>\n",
       "      <td>5.473193</td>\n",
       "      <td>2218</td>\n",
       "      <td>20.680653</td>\n",
       "      <td>True</td>\n",
       "      <td>-0.079070</td>\n",
       "      <td>0.077219</td>\n",
       "      <td>G2M</td>\n",
       "      <td>Untreatedclus_DLD1</td>\n",
       "      <td>NGS5774-1</td>\n",
       "    </tr>\n",
       "    <tr>\n",
       "      <th>SAM24451293_rep1-AAACGAACAGTTTGGT</th>\n",
       "      <td>SAM24451293</td>\n",
       "      <td>AAACGAACAGTTTGGT</td>\n",
       "      <td>singlet</td>\n",
       "      <td>ENSG00000197935_1</td>\n",
       "      <td>singlet</td>\n",
       "      <td>SAM24439043</td>\n",
       "      <td>DLD1</td>\n",
       "      <td>day5</td>\n",
       "      <td>HTO-12</td>\n",
       "      <td>NGS5774</td>\n",
       "      <td>...</td>\n",
       "      <td>417</td>\n",
       "      <td>3.103833</td>\n",
       "      <td>2321</td>\n",
       "      <td>17.275772</td>\n",
       "      <td>True</td>\n",
       "      <td>-0.493023</td>\n",
       "      <td>-0.508211</td>\n",
       "      <td>G1</td>\n",
       "      <td>Untreatedclus_DLD1</td>\n",
       "      <td>NGS5774-1</td>\n",
       "    </tr>\n",
       "    <tr>\n",
       "      <th>...</th>\n",
       "      <td>...</td>\n",
       "      <td>...</td>\n",
       "      <td>...</td>\n",
       "      <td>...</td>\n",
       "      <td>...</td>\n",
       "      <td>...</td>\n",
       "      <td>...</td>\n",
       "      <td>...</td>\n",
       "      <td>...</td>\n",
       "      <td>...</td>\n",
       "      <td>...</td>\n",
       "      <td>...</td>\n",
       "      <td>...</td>\n",
       "      <td>...</td>\n",
       "      <td>...</td>\n",
       "      <td>...</td>\n",
       "      <td>...</td>\n",
       "      <td>...</td>\n",
       "      <td>...</td>\n",
       "      <td>...</td>\n",
       "      <td>...</td>\n",
       "    </tr>\n",
       "    <tr>\n",
       "      <th>SAM24449110_rep24-TTTGTTGCAGCGATTT</th>\n",
       "      <td>SAM24449110</td>\n",
       "      <td>TTTGTTGCAGCGATTT</td>\n",
       "      <td>singlet</td>\n",
       "      <td>NTC_474</td>\n",
       "      <td>singlet</td>\n",
       "      <td>SAM24439043</td>\n",
       "      <td>DLD1</td>\n",
       "      <td>day5</td>\n",
       "      <td>HTO-12</td>\n",
       "      <td>NGS5702</td>\n",
       "      <td>...</td>\n",
       "      <td>133</td>\n",
       "      <td>2.817200</td>\n",
       "      <td>1209</td>\n",
       "      <td>25.608981</td>\n",
       "      <td>True</td>\n",
       "      <td>-0.350793</td>\n",
       "      <td>-0.313417</td>\n",
       "      <td>G1</td>\n",
       "      <td>Untreatedclus_DLD1</td>\n",
       "      <td>NGS5702-24</td>\n",
       "    </tr>\n",
       "    <tr>\n",
       "      <th>SAM24449110_rep24-TTTGTTGGTCACCACG</th>\n",
       "      <td>SAM24449110</td>\n",
       "      <td>TTTGTTGGTCACCACG</td>\n",
       "      <td>singlet</td>\n",
       "      <td>ENSG00000127989_4</td>\n",
       "      <td>singlet</td>\n",
       "      <td>SAM24439044</td>\n",
       "      <td>DLD1</td>\n",
       "      <td>day5</td>\n",
       "      <td>HTO-15</td>\n",
       "      <td>NGS5702</td>\n",
       "      <td>...</td>\n",
       "      <td>423</td>\n",
       "      <td>4.733132</td>\n",
       "      <td>1674</td>\n",
       "      <td>18.731118</td>\n",
       "      <td>True</td>\n",
       "      <td>-0.060422</td>\n",
       "      <td>-0.018519</td>\n",
       "      <td>G1</td>\n",
       "      <td>Untreatedclus_DLD1</td>\n",
       "      <td>NGS5702-24</td>\n",
       "    </tr>\n",
       "    <tr>\n",
       "      <th>SAM24449110_rep24-TTTGTTGGTTCGTACA</th>\n",
       "      <td>SAM24449110</td>\n",
       "      <td>TTTGTTGGTTCGTACA</td>\n",
       "      <td>singlet</td>\n",
       "      <td>ENSG00000211805_3</td>\n",
       "      <td>singlet</td>\n",
       "      <td>SAM24439043</td>\n",
       "      <td>DLD1</td>\n",
       "      <td>day5</td>\n",
       "      <td>HTO-11</td>\n",
       "      <td>NGS5702</td>\n",
       "      <td>...</td>\n",
       "      <td>122</td>\n",
       "      <td>1.446526</td>\n",
       "      <td>1464</td>\n",
       "      <td>17.358312</td>\n",
       "      <td>True</td>\n",
       "      <td>-0.273527</td>\n",
       "      <td>0.614605</td>\n",
       "      <td>G2M</td>\n",
       "      <td>Untreatedclus_DLD1</td>\n",
       "      <td>NGS5702-24</td>\n",
       "    </tr>\n",
       "    <tr>\n",
       "      <th>SAM24449110_rep24-TTTGTTGTCGTCGCTT</th>\n",
       "      <td>SAM24449110</td>\n",
       "      <td>TTTGTTGTCGTCGCTT</td>\n",
       "      <td>singlet</td>\n",
       "      <td>ENSG00000010256_1</td>\n",
       "      <td>singlet</td>\n",
       "      <td>SAM24439045</td>\n",
       "      <td>DLD1</td>\n",
       "      <td>day5</td>\n",
       "      <td>HTO-18</td>\n",
       "      <td>NGS5702</td>\n",
       "      <td>...</td>\n",
       "      <td>267</td>\n",
       "      <td>4.862502</td>\n",
       "      <td>900</td>\n",
       "      <td>16.390457</td>\n",
       "      <td>True</td>\n",
       "      <td>-0.333080</td>\n",
       "      <td>-0.025332</td>\n",
       "      <td>G1</td>\n",
       "      <td>Untreatedclus_DLD1</td>\n",
       "      <td>NGS5702-24</td>\n",
       "    </tr>\n",
       "    <tr>\n",
       "      <th>SAM24449110_rep24-TTTGTTGTCTTAGGAC</th>\n",
       "      <td>SAM24449110</td>\n",
       "      <td>TTTGTTGTCTTAGGAC</td>\n",
       "      <td>singlet</td>\n",
       "      <td>ENSG00000286522_3</td>\n",
       "      <td>singlet</td>\n",
       "      <td>SAM24439044</td>\n",
       "      <td>DLD1</td>\n",
       "      <td>day5</td>\n",
       "      <td>HTO-14</td>\n",
       "      <td>NGS5702</td>\n",
       "      <td>...</td>\n",
       "      <td>476</td>\n",
       "      <td>4.554588</td>\n",
       "      <td>2053</td>\n",
       "      <td>19.644053</td>\n",
       "      <td>True</td>\n",
       "      <td>-0.759183</td>\n",
       "      <td>2.264500</td>\n",
       "      <td>G2M</td>\n",
       "      <td>Untreatedclus_DLD1</td>\n",
       "      <td>NGS5702-24</td>\n",
       "    </tr>\n",
       "  </tbody>\n",
       "</table>\n",
       "<p>192556 rows × 28 columns</p>\n",
       "</div>"
      ],
      "text/plain": [
       "                                         Sample           Barcode  \\\n",
       "SAM24451293_rep1-AAACCCAAGACAGTCG   SAM24451293  AAACCCAAGACAGTCG   \n",
       "SAM24451293_rep1-AAACCCATCTGTCGTC   SAM24451293  AAACCCATCTGTCGTC   \n",
       "SAM24451293_rep1-AAACGAAAGACGTCGA   SAM24451293  AAACGAAAGACGTCGA   \n",
       "SAM24451293_rep1-AAACGAAAGTAGCATA   SAM24451293  AAACGAAAGTAGCATA   \n",
       "SAM24451293_rep1-AAACGAACAGTTTGGT   SAM24451293  AAACGAACAGTTTGGT   \n",
       "...                                         ...               ...   \n",
       "SAM24449110_rep24-TTTGTTGCAGCGATTT  SAM24449110  TTTGTTGCAGCGATTT   \n",
       "SAM24449110_rep24-TTTGTTGGTCACCACG  SAM24449110  TTTGTTGGTCACCACG   \n",
       "SAM24449110_rep24-TTTGTTGGTTCGTACA  SAM24449110  TTTGTTGGTTCGTACA   \n",
       "SAM24449110_rep24-TTTGTTGTCGTCGCTT  SAM24449110  TTTGTTGTCGTCGCTT   \n",
       "SAM24449110_rep24-TTTGTTGTCTTAGGAC  SAM24449110  TTTGTTGTCTTAGGAC   \n",
       "\n",
       "                                   DemuxType_crispr DemuxAssignment_crispr  \\\n",
       "SAM24451293_rep1-AAACCCAAGACAGTCG           singlet      ENSG00000171017_3   \n",
       "SAM24451293_rep1-AAACCCATCTGTCGTC           singlet      ENSG00000087111_4   \n",
       "SAM24451293_rep1-AAACGAAAGACGTCGA           singlet      ENSG00000109787_4   \n",
       "SAM24451293_rep1-AAACGAAAGTAGCATA           singlet      ENSG00000132849_3   \n",
       "SAM24451293_rep1-AAACGAACAGTTTGGT           singlet      ENSG00000197935_1   \n",
       "...                                             ...                    ...   \n",
       "SAM24449110_rep24-TTTGTTGCAGCGATTT          singlet                NTC_474   \n",
       "SAM24449110_rep24-TTTGTTGGTCACCACG          singlet      ENSG00000127989_4   \n",
       "SAM24449110_rep24-TTTGTTGGTTCGTACA          singlet      ENSG00000211805_3   \n",
       "SAM24449110_rep24-TTTGTTGTCGTCGCTT          singlet      ENSG00000010256_1   \n",
       "SAM24449110_rep24-TTTGTTGTCTTAGGAC          singlet      ENSG00000286522_3   \n",
       "\n",
       "                                   DemuxType_hashing DemuxAssignment_hashing  \\\n",
       "SAM24451293_rep1-AAACCCAAGACAGTCG            singlet             SAM24439045   \n",
       "SAM24451293_rep1-AAACCCATCTGTCGTC            singlet             SAM24439045   \n",
       "SAM24451293_rep1-AAACGAAAGACGTCGA            singlet             SAM24439044   \n",
       "SAM24451293_rep1-AAACGAAAGTAGCATA            singlet             SAM24439045   \n",
       "SAM24451293_rep1-AAACGAACAGTTTGGT            singlet             SAM24439043   \n",
       "...                                              ...                     ...   \n",
       "SAM24449110_rep24-TTTGTTGCAGCGATTT           singlet             SAM24439043   \n",
       "SAM24449110_rep24-TTTGTTGGTCACCACG           singlet             SAM24439044   \n",
       "SAM24449110_rep24-TTTGTTGGTTCGTACA           singlet             SAM24439043   \n",
       "SAM24449110_rep24-TTTGTTGTCGTCGCTT           singlet             SAM24439045   \n",
       "SAM24449110_rep24-TTTGTTGTCTTAGGAC           singlet             SAM24439044   \n",
       "\n",
       "                                   cellline timepoint     HTO   NGS_ID  ...  \\\n",
       "SAM24451293_rep1-AAACCCAAGACAGTCG      DLD1      day5  HTO-18  NGS5774  ...   \n",
       "SAM24451293_rep1-AAACCCATCTGTCGTC      DLD1      day5  HTO-18  NGS5774  ...   \n",
       "SAM24451293_rep1-AAACGAAAGACGTCGA      DLD1      day5  HTO-15  NGS5774  ...   \n",
       "SAM24451293_rep1-AAACGAAAGTAGCATA      DLD1      day5  HTO-16  NGS5774  ...   \n",
       "SAM24451293_rep1-AAACGAACAGTTTGGT      DLD1      day5  HTO-12  NGS5774  ...   \n",
       "...                                     ...       ...     ...      ...  ...   \n",
       "SAM24449110_rep24-TTTGTTGCAGCGATTT     DLD1      day5  HTO-12  NGS5702  ...   \n",
       "SAM24449110_rep24-TTTGTTGGTCACCACG     DLD1      day5  HTO-15  NGS5702  ...   \n",
       "SAM24449110_rep24-TTTGTTGGTTCGTACA     DLD1      day5  HTO-11  NGS5702  ...   \n",
       "SAM24449110_rep24-TTTGTTGTCGTCGCTT     DLD1      day5  HTO-18  NGS5702  ...   \n",
       "SAM24449110_rep24-TTTGTTGTCTTAGGAC     DLD1      day5  HTO-14  NGS5702  ...   \n",
       "\n",
       "                                   total_counts_mt pct_counts_mt  \\\n",
       "SAM24451293_rep1-AAACCCAAGACAGTCG              618      6.336512   \n",
       "SAM24451293_rep1-AAACCCATCTGTCGTC              196      1.763859   \n",
       "SAM24451293_rep1-AAACGAAAGACGTCGA              486      2.926301   \n",
       "SAM24451293_rep1-AAACGAAAGTAGCATA              587      5.473193   \n",
       "SAM24451293_rep1-AAACGAACAGTTTGGT              417      3.103833   \n",
       "...                                            ...           ...   \n",
       "SAM24449110_rep24-TTTGTTGCAGCGATTT             133      2.817200   \n",
       "SAM24449110_rep24-TTTGTTGGTCACCACG             423      4.733132   \n",
       "SAM24449110_rep24-TTTGTTGGTTCGTACA             122      1.446526   \n",
       "SAM24449110_rep24-TTTGTTGTCGTCGCTT             267      4.862502   \n",
       "SAM24449110_rep24-TTTGTTGTCTTAGGAC             476      4.554588   \n",
       "\n",
       "                                   total_counts_ribo pct_counts_ribo qc_pass  \\\n",
       "SAM24451293_rep1-AAACCCAAGACAGTCG               2152       22.065006    True   \n",
       "SAM24451293_rep1-AAACCCATCTGTCGTC               2183       19.645428    True   \n",
       "SAM24451293_rep1-AAACGAAAGACGTCGA               3141       18.912572    True   \n",
       "SAM24451293_rep1-AAACGAAAGTAGCATA               2218       20.680653    True   \n",
       "SAM24451293_rep1-AAACGAACAGTTTGGT               2321       17.275772    True   \n",
       "...                                              ...             ...     ...   \n",
       "SAM24449110_rep24-TTTGTTGCAGCGATTT              1209       25.608981    True   \n",
       "SAM24449110_rep24-TTTGTTGGTCACCACG              1674       18.731118    True   \n",
       "SAM24449110_rep24-TTTGTTGGTTCGTACA              1464       17.358312    True   \n",
       "SAM24449110_rep24-TTTGTTGTCGTCGCTT               900       16.390457    True   \n",
       "SAM24449110_rep24-TTTGTTGTCTTAGGAC              2053       19.644053    True   \n",
       "\n",
       "                                     S_score  G2M_score  phase  \\\n",
       "SAM24451293_rep1-AAACCCAAGACAGTCG  -0.493023   0.231481    G2M   \n",
       "SAM24451293_rep1-AAACCCATCTGTCGTC   0.246512  -0.306254      S   \n",
       "SAM24451293_rep1-AAACGAAAGACGTCGA  -0.641860   0.433263    G2M   \n",
       "SAM24451293_rep1-AAACGAAAGTAGCATA  -0.079070   0.077219    G2M   \n",
       "SAM24451293_rep1-AAACGAACAGTTTGGT  -0.493023  -0.508211     G1   \n",
       "...                                      ...        ...    ...   \n",
       "SAM24449110_rep24-TTTGTTGCAGCGATTT -0.350793  -0.313417     G1   \n",
       "SAM24449110_rep24-TTTGTTGGTCACCACG -0.060422  -0.018519     G1   \n",
       "SAM24449110_rep24-TTTGTTGGTTCGTACA -0.273527   0.614605    G2M   \n",
       "SAM24449110_rep24-TTTGTTGTCGTCGCTT -0.333080  -0.025332     G1   \n",
       "SAM24449110_rep24-TTTGTTGTCTTAGGAC -0.759183   2.264500    G2M   \n",
       "\n",
       "                                             SCN_class         gem  \n",
       "SAM24451293_rep1-AAACCCAAGACAGTCG   Untreatedclus_DLD1   NGS5774-1  \n",
       "SAM24451293_rep1-AAACCCATCTGTCGTC   Untreatedclus_DLD1   NGS5774-1  \n",
       "SAM24451293_rep1-AAACGAAAGACGTCGA   Untreatedclus_DLD1   NGS5774-1  \n",
       "SAM24451293_rep1-AAACGAAAGTAGCATA   Untreatedclus_DLD1   NGS5774-1  \n",
       "SAM24451293_rep1-AAACGAACAGTTTGGT   Untreatedclus_DLD1   NGS5774-1  \n",
       "...                                                ...         ...  \n",
       "SAM24449110_rep24-TTTGTTGCAGCGATTT  Untreatedclus_DLD1  NGS5702-24  \n",
       "SAM24449110_rep24-TTTGTTGGTCACCACG  Untreatedclus_DLD1  NGS5702-24  \n",
       "SAM24449110_rep24-TTTGTTGGTTCGTACA  Untreatedclus_DLD1  NGS5702-24  \n",
       "SAM24449110_rep24-TTTGTTGTCGTCGCTT  Untreatedclus_DLD1  NGS5702-24  \n",
       "SAM24449110_rep24-TTTGTTGTCTTAGGAC  Untreatedclus_DLD1  NGS5702-24  \n",
       "\n",
       "[192556 rows x 28 columns]"
      ]
     },
     "execution_count": 9,
     "metadata": {},
     "output_type": "execute_result"
    }
   ],
   "source": [
    "bdata.obs"
   ]
  },
  {
   "cell_type": "code",
   "execution_count": 10,
   "id": "b1e488a4",
   "metadata": {
    "execution": {
     "iopub.execute_input": "2024-08-14T18:54:36.849751Z",
     "iopub.status.busy": "2024-08-14T18:54:36.849242Z",
     "iopub.status.idle": "2024-08-14T18:55:09.158689Z",
     "shell.execute_reply": "2024-08-14T18:55:09.157465Z"
    },
    "papermill": {
     "duration": 32.326724,
     "end_time": "2024-08-14T18:55:09.161986",
     "exception": false,
     "start_time": "2024-08-14T18:54:36.835262",
     "status": "completed"
    },
    "tags": []
   },
   "outputs": [],
   "source": [
    "perturbations_key = \"gene_symbol\"\n",
    "gene_graph, gene_sets = mv.enrichr_to_gene_graph(\"./Templates/data/CORUM.txt\", np.array(bdata.obs[perturbations_key].values))"
   ]
  },
  {
   "cell_type": "code",
   "execution_count": 11,
   "id": "85154759",
   "metadata": {
    "execution": {
     "iopub.execute_input": "2024-08-14T18:55:09.191112Z",
     "iopub.status.busy": "2024-08-14T18:55:09.190875Z",
     "iopub.status.idle": "2024-08-14T18:55:13.644562Z",
     "shell.execute_reply": "2024-08-14T18:55:13.643369Z"
    },
    "papermill": {
     "duration": 4.47088,
     "end_time": "2024-08-14T18:55:13.648057",
     "exception": false,
     "start_time": "2024-08-14T18:55:09.177177",
     "status": "completed"
    },
    "tags": []
   },
   "outputs": [],
   "source": [
    "embeddings_obj = mv.AnnDataEmbeddings(bdata, embeddings_key, perturbations_key, \"Sample\", \"NTC\")\n",
    "perturbation_embeddings = embeddings_obj.get_embeddings_from_list(list(gene_graph), agg=True, centering = centering)"
   ]
  },
  {
   "cell_type": "code",
   "execution_count": 12,
   "id": "38d38100",
   "metadata": {
    "execution": {
     "iopub.execute_input": "2024-08-14T18:55:13.676428Z",
     "iopub.status.busy": "2024-08-14T18:55:13.676212Z",
     "iopub.status.idle": "2024-08-14T18:55:13.682923Z",
     "shell.execute_reply": "2024-08-14T18:55:13.681620Z"
    },
    "papermill": {
     "duration": 0.023694,
     "end_time": "2024-08-14T18:55:13.686026",
     "exception": false,
     "start_time": "2024-08-14T18:55:13.662332",
     "status": "completed"
    },
    "tags": []
   },
   "outputs": [
    {
     "data": {
      "text/plain": [
       "(242, 50)"
      ]
     },
     "execution_count": 12,
     "metadata": {},
     "output_type": "execute_result"
    }
   ],
   "source": [
    "perturbation_embeddings.shape"
   ]
  },
  {
   "cell_type": "code",
   "execution_count": 13,
   "id": "7ea5271f",
   "metadata": {
    "execution": {
     "iopub.execute_input": "2024-08-14T18:55:13.714141Z",
     "iopub.status.busy": "2024-08-14T18:55:13.713649Z",
     "iopub.status.idle": "2024-08-14T18:55:39.853195Z",
     "shell.execute_reply": "2024-08-14T18:55:39.852208Z"
    },
    "papermill": {
     "duration": 26.156899,
     "end_time": "2024-08-14T18:55:39.856230",
     "exception": false,
     "start_time": "2024-08-14T18:55:13.699331",
     "status": "completed"
    },
    "tags": []
   },
   "outputs": [
    {
     "name": "stdout",
     "output_type": "stream",
     "text": [
      "Performing Kolmogorov-Smirnov test on gene set cosine similarity..\n"
     ]
    },
    {
     "name": "stdout",
     "output_type": "stream",
     "text": [
      "KS statistic: 0.20556745182012848, p-value: 4.768903841033701e-09\n"
     ]
    },
    {
     "data": {
      "image/png": "[encoded data removed]",
      "text/plain": [
       "<Figure size 640x480 with 1 Axes>"
      ]
     },
     "metadata": {},
     "output_type": "display_data"
    },
    {
     "name": "stdout",
     "output_type": "stream",
     "text": [
      "Computing distance matrix for embeddings..\n",
      "Computing link prediction metrics for cutoff percentile=0%\n"
     ]
    },
    {
     "name": "stdout",
     "output_type": "stream",
     "text": [
      "Computing link prediction metrics for cutoff percentile=1%\n"
     ]
    },
    {
     "name": "stdout",
     "output_type": "stream",
     "text": [
      "Computing link prediction metrics for cutoff percentile=2%\n"
     ]
    },
    {
     "name": "stdout",
     "output_type": "stream",
     "text": [
      "Computing link prediction metrics for cutoff percentile=3%\n"
     ]
    },
    {
     "name": "stdout",
     "output_type": "stream",
     "text": [
      "Computing link prediction metrics for cutoff percentile=4%\n"
     ]
    },
    {
     "name": "stdout",
     "output_type": "stream",
     "text": [
      "Computing link prediction metrics for cutoff percentile=5%\n"
     ]
    },
    {
     "name": "stdout",
     "output_type": "stream",
     "text": [
      "Computing link prediction metrics for cutoff percentile=6%\n"
     ]
    },
    {
     "name": "stdout",
     "output_type": "stream",
     "text": [
      "Computing link prediction metrics for cutoff percentile=7%\n"
     ]
    },
    {
     "name": "stdout",
     "output_type": "stream",
     "text": [
      "Computing link prediction metrics for cutoff percentile=8%\n"
     ]
    },
    {
     "name": "stdout",
     "output_type": "stream",
     "text": [
      "Computing link prediction metrics for cutoff percentile=9%\n"
     ]
    },
    {
     "name": "stdout",
     "output_type": "stream",
     "text": [
      "Computing link prediction metrics for cutoff percentile=10%\n"
     ]
    },
    {
     "name": "stdout",
     "output_type": "stream",
     "text": [
      "Computing link prediction metrics for cutoff percentile=11%\n"
     ]
    },
    {
     "name": "stdout",
     "output_type": "stream",
     "text": [
      "Computing link prediction metrics for cutoff percentile=12%\n"
     ]
    },
    {
     "name": "stdout",
     "output_type": "stream",
     "text": [
      "Computing link prediction metrics for cutoff percentile=13%\n"
     ]
    },
    {
     "name": "stdout",
     "output_type": "stream",
     "text": [
      "Computing link prediction metrics for cutoff percentile=14%\n"
     ]
    },
    {
     "name": "stdout",
     "output_type": "stream",
     "text": [
      "Computing link prediction metrics for cutoff percentile=15%\n"
     ]
    },
    {
     "name": "stdout",
     "output_type": "stream",
     "text": [
      "Computing link prediction metrics for cutoff percentile=16%\n"
     ]
    },
    {
     "name": "stdout",
     "output_type": "stream",
     "text": [
      "Computing link prediction metrics for cutoff percentile=17%\n"
     ]
    },
    {
     "name": "stdout",
     "output_type": "stream",
     "text": [
      "Computing link prediction metrics for cutoff percentile=18%\n"
     ]
    },
    {
     "name": "stdout",
     "output_type": "stream",
     "text": [
      "Computing link prediction metrics for cutoff percentile=19%\n"
     ]
    },
    {
     "name": "stdout",
     "output_type": "stream",
     "text": [
      "Computing link prediction metrics for cutoff percentile=20%\n"
     ]
    },
    {
     "name": "stdout",
     "output_type": "stream",
     "text": [
      "Computing link prediction metrics for cutoff percentile=21%\n"
     ]
    },
    {
     "name": "stdout",
     "output_type": "stream",
     "text": [
      "Computing link prediction metrics for cutoff percentile=22%\n"
     ]
    },
    {
     "name": "stdout",
     "output_type": "stream",
     "text": [
      "Computing link prediction metrics for cutoff percentile=23%\n"
     ]
    },
    {
     "name": "stdout",
     "output_type": "stream",
     "text": [
      "Computing link prediction metrics for cutoff percentile=24%\n"
     ]
    },
    {
     "name": "stdout",
     "output_type": "stream",
     "text": [
      "Computing link prediction metrics for cutoff percentile=25%\n"
     ]
    },
    {
     "name": "stdout",
     "output_type": "stream",
     "text": [
      "Computing link prediction metrics for cutoff percentile=26%\n"
     ]
    },
    {
     "name": "stdout",
     "output_type": "stream",
     "text": [
      "Computing link prediction metrics for cutoff percentile=27%\n"
     ]
    },
    {
     "name": "stdout",
     "output_type": "stream",
     "text": [
      "Computing link prediction metrics for cutoff percentile=28%\n"
     ]
    },
    {
     "name": "stdout",
     "output_type": "stream",
     "text": [
      "Computing link prediction metrics for cutoff percentile=29%\n"
     ]
    },
    {
     "name": "stdout",
     "output_type": "stream",
     "text": [
      "Computing link prediction metrics for cutoff percentile=30%\n"
     ]
    },
    {
     "name": "stdout",
     "output_type": "stream",
     "text": [
      "Computing link prediction metrics for cutoff percentile=31%\n"
     ]
    },
    {
     "name": "stdout",
     "output_type": "stream",
     "text": [
      "Computing link prediction metrics for cutoff percentile=32%\n"
     ]
    },
    {
     "name": "stdout",
     "output_type": "stream",
     "text": [
      "Computing link prediction metrics for cutoff percentile=33%\n"
     ]
    },
    {
     "name": "stdout",
     "output_type": "stream",
     "text": [
      "Computing link prediction metrics for cutoff percentile=34%\n"
     ]
    },
    {
     "name": "stdout",
     "output_type": "stream",
     "text": [
      "Computing link prediction metrics for cutoff percentile=35%\n"
     ]
    },
    {
     "name": "stdout",
     "output_type": "stream",
     "text": [
      "Computing link prediction metrics for cutoff percentile=36%\n"
     ]
    },
    {
     "name": "stdout",
     "output_type": "stream",
     "text": [
      "Computing link prediction metrics for cutoff percentile=37%\n"
     ]
    },
    {
     "name": "stdout",
     "output_type": "stream",
     "text": [
      "Computing link prediction metrics for cutoff percentile=38%\n"
     ]
    },
    {
     "name": "stdout",
     "output_type": "stream",
     "text": [
      "Computing link prediction metrics for cutoff percentile=39%\n"
     ]
    },
    {
     "name": "stdout",
     "output_type": "stream",
     "text": [
      "Computing link prediction metrics for cutoff percentile=40%\n"
     ]
    },
    {
     "name": "stdout",
     "output_type": "stream",
     "text": [
      "Computing link prediction metrics for cutoff percentile=41%\n"
     ]
    },
    {
     "name": "stdout",
     "output_type": "stream",
     "text": [
      "Computing link prediction metrics for cutoff percentile=42%\n"
     ]
    },
    {
     "name": "stdout",
     "output_type": "stream",
     "text": [
      "Computing link prediction metrics for cutoff percentile=43%\n"
     ]
    },
    {
     "name": "stdout",
     "output_type": "stream",
     "text": [
      "Computing link prediction metrics for cutoff percentile=44%\n"
     ]
    },
    {
     "name": "stdout",
     "output_type": "stream",
     "text": [
      "Computing link prediction metrics for cutoff percentile=45%\n"
     ]
    },
    {
     "name": "stdout",
     "output_type": "stream",
     "text": [
      "Computing link prediction metrics for cutoff percentile=46%\n"
     ]
    },
    {
     "name": "stdout",
     "output_type": "stream",
     "text": [
      "Computing link prediction metrics for cutoff percentile=47%\n"
     ]
    },
    {
     "name": "stdout",
     "output_type": "stream",
     "text": [
      "Computing link prediction metrics for cutoff percentile=48%\n"
     ]
    },
    {
     "name": "stdout",
     "output_type": "stream",
     "text": [
      "Computing link prediction metrics for cutoff percentile=49%\n"
     ]
    },
    {
     "name": "stdout",
     "output_type": "stream",
     "text": [
      "Computing link prediction metrics for cutoff percentile=50%\n"
     ]
    },
    {
     "name": "stdout",
     "output_type": "stream",
     "text": [
      "Computing link prediction metrics for cutoff percentile=51%\n"
     ]
    },
    {
     "name": "stdout",
     "output_type": "stream",
     "text": [
      "Computing link prediction metrics for cutoff percentile=52%\n"
     ]
    },
    {
     "name": "stdout",
     "output_type": "stream",
     "text": [
      "Computing link prediction metrics for cutoff percentile=53%\n"
     ]
    },
    {
     "name": "stdout",
     "output_type": "stream",
     "text": [
      "Computing link prediction metrics for cutoff percentile=54%\n"
     ]
    },
    {
     "name": "stdout",
     "output_type": "stream",
     "text": [
      "Computing link prediction metrics for cutoff percentile=55%\n"
     ]
    },
    {
     "name": "stdout",
     "output_type": "stream",
     "text": [
      "Computing link prediction metrics for cutoff percentile=56%\n"
     ]
    },
    {
     "name": "stdout",
     "output_type": "stream",
     "text": [
      "Computing link prediction metrics for cutoff percentile=57%\n"
     ]
    },
    {
     "name": "stdout",
     "output_type": "stream",
     "text": [
      "Computing link prediction metrics for cutoff percentile=58%\n"
     ]
    },
    {
     "name": "stdout",
     "output_type": "stream",
     "text": [
      "Computing link prediction metrics for cutoff percentile=59%\n"
     ]
    },
    {
     "name": "stdout",
     "output_type": "stream",
     "text": [
      "Computing link prediction metrics for cutoff percentile=60%\n"
     ]
    },
    {
     "name": "stdout",
     "output_type": "stream",
     "text": [
      "Computing link prediction metrics for cutoff percentile=61%\n"
     ]
    },
    {
     "name": "stdout",
     "output_type": "stream",
     "text": [
      "Computing link prediction metrics for cutoff percentile=62%\n"
     ]
    },
    {
     "name": "stdout",
     "output_type": "stream",
     "text": [
      "Computing link prediction metrics for cutoff percentile=63%\n"
     ]
    },
    {
     "name": "stdout",
     "output_type": "stream",
     "text": [
      "Computing link prediction metrics for cutoff percentile=64%\n"
     ]
    },
    {
     "name": "stdout",
     "output_type": "stream",
     "text": [
      "Computing link prediction metrics for cutoff percentile=65%\n"
     ]
    },
    {
     "name": "stdout",
     "output_type": "stream",
     "text": [
      "Computing link prediction metrics for cutoff percentile=66%\n"
     ]
    },
    {
     "name": "stdout",
     "output_type": "stream",
     "text": [
      "Computing link prediction metrics for cutoff percentile=67%\n"
     ]
    },
    {
     "name": "stdout",
     "output_type": "stream",
     "text": [
      "Computing link prediction metrics for cutoff percentile=68%\n"
     ]
    },
    {
     "name": "stdout",
     "output_type": "stream",
     "text": [
      "Computing link prediction metrics for cutoff percentile=69%\n"
     ]
    },
    {
     "name": "stdout",
     "output_type": "stream",
     "text": [
      "Computing link prediction metrics for cutoff percentile=70%\n"
     ]
    },
    {
     "name": "stdout",
     "output_type": "stream",
     "text": [
      "Computing link prediction metrics for cutoff percentile=71%\n"
     ]
    },
    {
     "name": "stdout",
     "output_type": "stream",
     "text": [
      "Computing link prediction metrics for cutoff percentile=72%\n"
     ]
    },
    {
     "name": "stdout",
     "output_type": "stream",
     "text": [
      "Computing link prediction metrics for cutoff percentile=73%\n"
     ]
    },
    {
     "name": "stdout",
     "output_type": "stream",
     "text": [
      "Computing link prediction metrics for cutoff percentile=74%\n"
     ]
    },
    {
     "name": "stdout",
     "output_type": "stream",
     "text": [
      "Computing link prediction metrics for cutoff percentile=75%\n"
     ]
    },
    {
     "name": "stdout",
     "output_type": "stream",
     "text": [
      "Computing link prediction metrics for cutoff percentile=76%\n"
     ]
    },
    {
     "name": "stdout",
     "output_type": "stream",
     "text": [
      "Computing link prediction metrics for cutoff percentile=77%\n"
     ]
    },
    {
     "name": "stdout",
     "output_type": "stream",
     "text": [
      "Computing link prediction metrics for cutoff percentile=78%\n"
     ]
    },
    {
     "name": "stdout",
     "output_type": "stream",
     "text": [
      "Computing link prediction metrics for cutoff percentile=79%\n"
     ]
    },
    {
     "name": "stdout",
     "output_type": "stream",
     "text": [
      "Computing link prediction metrics for cutoff percentile=80%\n"
     ]
    },
    {
     "name": "stdout",
     "output_type": "stream",
     "text": [
      "Computing link prediction metrics for cutoff percentile=81%\n"
     ]
    },
    {
     "name": "stdout",
     "output_type": "stream",
     "text": [
      "Computing link prediction metrics for cutoff percentile=82%\n"
     ]
    },
    {
     "name": "stdout",
     "output_type": "stream",
     "text": [
      "Computing link prediction metrics for cutoff percentile=83%\n"
     ]
    },
    {
     "name": "stdout",
     "output_type": "stream",
     "text": [
      "Computing link prediction metrics for cutoff percentile=84%\n"
     ]
    },
    {
     "name": "stdout",
     "output_type": "stream",
     "text": [
      "Computing link prediction metrics for cutoff percentile=85%\n"
     ]
    },
    {
     "name": "stdout",
     "output_type": "stream",
     "text": [
      "Computing link prediction metrics for cutoff percentile=86%\n"
     ]
    },
    {
     "name": "stdout",
     "output_type": "stream",
     "text": [
      "Computing link prediction metrics for cutoff percentile=87%\n"
     ]
    },
    {
     "name": "stdout",
     "output_type": "stream",
     "text": [
      "Computing link prediction metrics for cutoff percentile=88%\n"
     ]
    },
    {
     "name": "stdout",
     "output_type": "stream",
     "text": [
      "Computing link prediction metrics for cutoff percentile=89%\n"
     ]
    },
    {
     "name": "stdout",
     "output_type": "stream",
     "text": [
      "Computing link prediction metrics for cutoff percentile=90%\n"
     ]
    },
    {
     "name": "stdout",
     "output_type": "stream",
     "text": [
      "Computing link prediction metrics for cutoff percentile=91%\n"
     ]
    },
    {
     "name": "stdout",
     "output_type": "stream",
     "text": [
      "Computing link prediction metrics for cutoff percentile=92%\n"
     ]
    },
    {
     "name": "stdout",
     "output_type": "stream",
     "text": [
      "Computing link prediction metrics for cutoff percentile=93%\n"
     ]
    },
    {
     "name": "stdout",
     "output_type": "stream",
     "text": [
      "Computing link prediction metrics for cutoff percentile=94%\n"
     ]
    },
    {
     "name": "stdout",
     "output_type": "stream",
     "text": [
      "Computing link prediction metrics for cutoff percentile=95%\n"
     ]
    },
    {
     "name": "stdout",
     "output_type": "stream",
     "text": [
      "Computing link prediction metrics for cutoff percentile=96%\n"
     ]
    },
    {
     "name": "stdout",
     "output_type": "stream",
     "text": [
      "Computing link prediction metrics for cutoff percentile=97%\n"
     ]
    },
    {
     "name": "stdout",
     "output_type": "stream",
     "text": [
      "Computing link prediction metrics for cutoff percentile=98%\n"
     ]
    },
    {
     "name": "stdout",
     "output_type": "stream",
     "text": [
      "Computing link prediction metrics for cutoff percentile=99%\n"
     ]
    },
    {
     "name": "stdout",
     "output_type": "stream",
     "text": [
      "Finished prediction sweep over percentiles.\n"
     ]
    }
   ],
   "source": [
    "# needs to be cached in embeddings_obj\n",
    "report = mv.evaluate(perturbation_embeddings, gene_graph, gene_sets, percentile_range=[0, 100])"
   ]
  },
  {
   "cell_type": "code",
   "execution_count": 14,
   "id": "27b4b03d",
   "metadata": {
    "execution": {
     "iopub.execute_input": "2024-08-14T18:55:39.912179Z",
     "iopub.status.busy": "2024-08-14T18:55:39.911510Z",
     "iopub.status.idle": "2024-08-14T18:55:39.920565Z",
     "shell.execute_reply": "2024-08-14T18:55:39.919463Z"
    },
    "papermill": {
     "duration": 0.039573,
     "end_time": "2024-08-14T18:55:39.923697",
     "exception": false,
     "start_time": "2024-08-14T18:55:39.884124",
     "status": "completed"
    },
    "tags": []
   },
   "outputs": [],
   "source": [
    "recalls = [report[\"metrics_by_percentile\"][i][\"recall\"] for i in report[\"metrics_by_percentile\"]]\n",
    "precisions = [report[\"metrics_by_percentile\"][i][\"precision\"] for i in report[\"metrics_by_percentile\"]]\n",
    "tprs = [report[\"metrics_by_percentile\"][i][\"TPR\"] for i in report[\"metrics_by_percentile\"]]\n",
    "fprs = [report[\"metrics_by_percentile\"][i][\"FPR\"] for i in report[\"metrics_by_percentile\"]]"
   ]
  },
  {
   "cell_type": "code",
   "execution_count": 15,
   "id": "304d2617-8de2-4250-b689-3815bd375f4f",
   "metadata": {
    "execution": {
     "iopub.execute_input": "2024-08-14T18:55:39.978503Z",
     "iopub.status.busy": "2024-08-14T18:55:39.978025Z",
     "iopub.status.idle": "2024-08-14T18:55:39.986545Z",
     "shell.execute_reply": "2024-08-14T18:55:39.985536Z"
    },
    "papermill": {
     "duration": 0.038665,
     "end_time": "2024-08-14T18:55:39.989412",
     "exception": false,
     "start_time": "2024-08-14T18:55:39.950747",
     "status": "completed"
    },
    "tags": []
   },
   "outputs": [
    {
     "data": {
      "text/plain": [
       "{'recall': 0.516162669447341,\n",
       " 'precision': 0.1762192951228195,\n",
       " 'f1_score': 0.2627388535031847,\n",
       " 'TPR': 0.516162669447341,\n",
       " 'FPR': 0.08205091837458334}"
      ]
     },
     "execution_count": 15,
     "metadata": {},
     "output_type": "execute_result"
    }
   ],
   "source": [
    "report[\"metrics_by_percentile\"][95]"
   ]
  },
  {
   "cell_type": "code",
   "execution_count": 16,
   "id": "9741cf68-8040-4fbe-b0e8-151b87fd5a08",
   "metadata": {
    "execution": {
     "iopub.execute_input": "2024-08-14T18:55:40.043021Z",
     "iopub.status.busy": "2024-08-14T18:55:40.042796Z",
     "iopub.status.idle": "2024-08-14T18:55:40.049634Z",
     "shell.execute_reply": "2024-08-14T18:55:40.048428Z"
    },
    "papermill": {
     "duration": 0.03572,
     "end_time": "2024-08-14T18:55:40.051584",
     "exception": false,
     "start_time": "2024-08-14T18:55:40.015864",
     "status": "completed"
    },
    "tags": []
   },
   "outputs": [
    {
     "data": {
      "text/plain": [
       "{'recall': 0.62148070907195,\n",
       " 'precision': 0.10388704898030329,\n",
       " 'f1_score': 0.17801672640382318,\n",
       " 'TPR': 0.62148070907195,\n",
       " 'FPR': 0.1822920360258138}"
      ]
     },
     "execution_count": 16,
     "metadata": {},
     "output_type": "execute_result"
    }
   ],
   "source": [
    "report[\"metrics_by_percentile\"][90]"
   ]
  },
  {
   "cell_type": "code",
   "execution_count": 17,
   "id": "da7b6945",
   "metadata": {
    "execution": {
     "iopub.execute_input": "2024-08-14T18:55:40.074319Z",
     "iopub.status.busy": "2024-08-14T18:55:40.073852Z",
     "iopub.status.idle": "2024-08-14T18:55:40.960932Z",
     "shell.execute_reply": "2024-08-14T18:55:40.959928Z"
    },
    "papermill": {
     "duration": 0.901992,
     "end_time": "2024-08-14T18:55:40.964340",
     "exception": false,
     "start_time": "2024-08-14T18:55:40.062348",
     "status": "completed"
    },
    "tags": []
   },
   "outputs": [
    {
     "data": {
      "image/png": "[encoded data removed]",
      "text/plain": [
       "<Figure size 640x480 with 1 Axes>"
      ]
     },
     "metadata": {},
     "output_type": "display_data"
    }
   ],
   "source": [
    "# put plots in a plotting module file\n",
    "# plots should be generated from embeddings_obj or report\n",
    "plt.plot(recalls, precisions)\n",
    "sns.set_color_codes(\"pastel\")\n",
    "sns.set_theme()\n",
    "plt.xlabel(\"Recall\")\n",
    "plt.ylabel(\"Precision\")\n",
    "plt.title(\"Precision-Recall Curve on CORUM using scVI - DLDL1\")\n",
    "plt.show()"
   ]
  },
  {
   "cell_type": "code",
   "execution_count": 18,
   "id": "8eaba8e9",
   "metadata": {
    "execution": {
     "iopub.execute_input": "2024-08-14T18:55:41.022170Z",
     "iopub.status.busy": "2024-08-14T18:55:41.021880Z",
     "iopub.status.idle": "2024-08-14T18:55:41.285842Z",
     "shell.execute_reply": "2024-08-14T18:55:41.284589Z"
    },
    "papermill": {
     "duration": 0.295955,
     "end_time": "2024-08-14T18:55:41.289024",
     "exception": false,
     "start_time": "2024-08-14T18:55:40.993069",
     "status": "completed"
    },
    "tags": []
   },
   "outputs": [
    {
     "data": {
      "image/png": "[encoded data removed]",
      "text/plain": [
       "<Figure size 640x480 with 1 Axes>"
      ]
     },
     "metadata": {},
     "output_type": "display_data"
    }
   ],
   "source": [
    "plt.plot(fprs, tprs)\n",
    "plt.xlabel(\"False Positive Rate\")\n",
    "plt.ylabel(\"True Positive Rate\")\n",
    "plt.title(\"auROC Curve on CORUM using scVI - DLDL1\")\n",
    "plt.show()"
   ]
  },
  {
   "cell_type": "markdown",
   "id": "27c799e7-40bd-4c6a-9c11-eb14a9f17c00",
   "metadata": {
    "papermill": {
     "duration": 0.028263,
     "end_time": "2024-08-14T18:55:41.346075",
     "exception": false,
     "start_time": "2024-08-14T18:55:41.317812",
     "status": "completed"
    },
    "tags": []
   },
   "source": [
    "## Update the annadata object and write out the output"
   ]
  },
  {
   "cell_type": "code",
   "execution_count": 19,
   "id": "6ba7c857-ef85-4321-9e7d-712d3d196bb6",
   "metadata": {
    "execution": {
     "iopub.execute_input": "2024-08-14T18:55:41.404657Z",
     "iopub.status.busy": "2024-08-14T18:55:41.404173Z",
     "iopub.status.idle": "2024-08-14T18:55:41.410368Z",
     "shell.execute_reply": "2024-08-14T18:55:41.409361Z"
    },
    "papermill": {
     "duration": 0.039026,
     "end_time": "2024-08-14T18:55:41.413381",
     "exception": false,
     "start_time": "2024-08-14T18:55:41.374355",
     "status": "completed"
    },
    "tags": []
   },
   "outputs": [],
   "source": [
    "if \"multivariate_report\" not in bdata.uns:\n",
    "    bdata.uns[\"multivariate_report\"]={}"
   ]
  },
  {
   "cell_type": "code",
   "execution_count": 20,
   "id": "51f62080-fee8-49be-9e00-56b11d5221ce",
   "metadata": {
    "execution": {
     "iopub.execute_input": "2024-08-14T18:55:41.473523Z",
     "iopub.status.busy": "2024-08-14T18:55:41.473055Z",
     "iopub.status.idle": "2024-08-14T18:55:41.481511Z",
     "shell.execute_reply": "2024-08-14T18:55:41.480459Z"
    },
    "papermill": {
     "duration": 0.041376,
     "end_time": "2024-08-14T18:55:41.484455",
     "exception": false,
     "start_time": "2024-08-14T18:55:41.443079",
     "status": "completed"
    },
    "tags": []
   },
   "outputs": [],
   "source": [
    "if transcriptoprint==True:\n",
    "    bdata.uns[\"multivariate_report\"][key_uns][\"transcriptoprint\"] = {\"roc_auc\": report[\"roc_auc\"], \"auprc\": report[\"auprc\"], \n",
    "                                    \"95percentile\":report[\"metrics_by_percentile\"][95], \"90percentile\":report[\"metrics_by_percentile\"][90]}\n",
    "else:\n",
    "    bdata.uns[\"multivariate_report\"][key_uns] = {\"roc_auc\": report[\"roc_auc\"], \"auprc\": report[\"auprc\"], \n",
    "                                    \"95percentile\":report[\"metrics_by_percentile\"][95], \"90percentile\":report[\"metrics_by_percentile\"][90]}"
   ]
  },
  {
   "cell_type": "code",
   "execution_count": 21,
   "id": "8609253a-8d80-45ea-95f7-cab05fd32f20",
   "metadata": {
    "execution": {
     "iopub.execute_input": "2024-08-14T18:55:41.543806Z",
     "iopub.status.busy": "2024-08-14T18:55:41.542849Z",
     "iopub.status.idle": "2024-08-14T18:55:42.007476Z",
     "shell.execute_reply": "2024-08-14T18:55:42.006107Z"
    },
    "papermill": {
     "duration": 0.497214,
     "end_time": "2024-08-14T18:55:42.010107",
     "exception": false,
     "start_time": "2024-08-14T18:55:41.512893",
     "status": "completed"
    },
    "tags": []
   },
   "outputs": [],
   "source": [
    "adata.uns = bdata.uns.copy()"
   ]
  },
  {
   "cell_type": "code",
   "execution_count": 22,
   "id": "a97a34df",
   "metadata": {
    "execution": {
     "iopub.execute_input": "2024-08-14T18:55:42.056817Z",
     "iopub.status.busy": "2024-08-14T18:55:42.056313Z",
     "iopub.status.idle": "2024-08-14T18:57:17.545563Z",
     "shell.execute_reply": "2024-08-14T18:57:17.544365Z"
    },
    "papermill": {
     "duration": 95.515902,
     "end_time": "2024-08-14T18:57:17.549026",
     "exception": false,
     "start_time": "2024-08-14T18:55:42.033124",
     "status": "completed"
    },
    "tags": []
   },
   "outputs": [],
   "source": [
    "adata.write_h5ad(MV_file)"
   ]
  },
  {
   "cell_type": "code",
   "execution_count": 23,
   "id": "b5be6b23-cbd7-44b2-94fe-6500f9569b73",
   "metadata": {
    "execution": {
     "iopub.execute_input": "2024-08-14T18:57:17.613777Z",
     "iopub.status.busy": "2024-08-14T18:57:17.613475Z",
     "iopub.status.idle": "2024-08-14T18:57:17.621687Z",
     "shell.execute_reply": "2024-08-14T18:57:17.620418Z"
    },
    "papermill": {
     "duration": 0.041311,
     "end_time": "2024-08-14T18:57:17.624908",
     "exception": false,
     "start_time": "2024-08-14T18:57:17.583597",
     "status": "completed"
    },
    "tags": []
   },
   "outputs": [
    {
     "data": {
      "text/plain": [
       "{'90percentile': {'FPR': 0.1932632160546205,\n",
       "  'TPR': 0.5396073121191605,\n",
       "  'f1_score': 0.07291190193029,\n",
       "  'precision': 0.03909737552121658,\n",
       "  'recall': 0.5396073121191605},\n",
       " '95percentile': {'FPR': 0.09317836493872955,\n",
       "  'TPR': 0.4299255247122546,\n",
       "  'f1_score': 0.10989961924541364,\n",
       "  'precision': 0.0630022819724179,\n",
       "  'recall': 0.4299255247122546},\n",
       " 'auprc': 0.038152618984221925,\n",
       " 'roc_auc': 0.7026078742172219,\n",
       " 'transcriptoprint': {'roc_auc': 0.7700067345226331,\n",
       "  'auprc': 0.12703823102518344,\n",
       "  '95percentile': {'recall': 0.516162669447341,\n",
       "   'precision': 0.1762192951228195,\n",
       "   'f1_score': 0.2627388535031847,\n",
       "   'TPR': 0.516162669447341,\n",
       "   'FPR': 0.08205091837458334},\n",
       "  '90percentile': {'recall': 0.62148070907195,\n",
       "   'precision': 0.10388704898030329,\n",
       "   'f1_score': 0.17801672640382318,\n",
       "   'TPR': 0.62148070907195,\n",
       "   'FPR': 0.1822920360258138}}}"
      ]
     },
     "execution_count": 23,
     "metadata": {},
     "output_type": "execute_result"
    }
   ],
   "source": [
    "adata.uns['multivariate_report'][key_uns]"
   ]
  },
  {
   "cell_type": "markdown",
   "id": "93b17b35-7184-41c2-b142-445af994b1bc",
   "metadata": {
    "papermill": {
     "duration": 0.028981,
     "end_time": "2024-08-14T18:57:17.682878",
     "exception": false,
     "start_time": "2024-08-14T18:57:17.653897",
     "status": "completed"
    },
    "tags": []
   },
   "source": [
    "## Data Tabulation"
   ]
  },
  {
   "cell_type": "code",
   "execution_count": 24,
   "id": "7f089048-6324-423e-a4e4-5916c66d98e1",
   "metadata": {
    "execution": {
     "iopub.execute_input": "2024-08-14T18:57:17.749784Z",
     "iopub.status.busy": "2024-08-14T18:57:17.749282Z",
     "iopub.status.idle": "2024-08-14T18:57:17.758162Z",
     "shell.execute_reply": "2024-08-14T18:57:17.756761Z"
    },
    "papermill": {
     "duration": 0.04929,
     "end_time": "2024-08-14T18:57:17.761386",
     "exception": false,
     "start_time": "2024-08-14T18:57:17.712096",
     "status": "completed"
    },
    "tags": []
   },
   "outputs": [],
   "source": [
    "metrics = pd.DataFrame.from_dict(report[\"metrics_by_percentile\"],orient='index')"
   ]
  },
  {
   "cell_type": "code",
   "execution_count": 25,
   "id": "e5791ed4-9f6d-46e1-a381-dfa800d25881",
   "metadata": {
    "execution": {
     "iopub.execute_input": "2024-08-14T18:57:17.821785Z",
     "iopub.status.busy": "2024-08-14T18:57:17.821282Z",
     "iopub.status.idle": "2024-08-14T18:57:17.827972Z",
     "shell.execute_reply": "2024-08-14T18:57:17.826834Z"
    },
    "papermill": {
     "duration": 0.040137,
     "end_time": "2024-08-14T18:57:17.831022",
     "exception": false,
     "start_time": "2024-08-14T18:57:17.790885",
     "status": "completed"
    },
    "tags": []
   },
   "outputs": [],
   "source": [
    "metrics[\"percentile\"] = metrics.index"
   ]
  },
  {
   "cell_type": "code",
   "execution_count": 26,
   "id": "49c6b6bb-a163-42cb-806b-ec51ddd8f5d5",
   "metadata": {
    "execution": {
     "iopub.execute_input": "2024-08-14T18:57:17.891493Z",
     "iopub.status.busy": "2024-08-14T18:57:17.890798Z",
     "iopub.status.idle": "2024-08-14T18:57:17.912862Z",
     "shell.execute_reply": "2024-08-14T18:57:17.911538Z"
    },
    "papermill": {
     "duration": 0.055498,
     "end_time": "2024-08-14T18:57:17.915872",
     "exception": false,
     "start_time": "2024-08-14T18:57:17.860374",
     "status": "completed"
    },
    "tags": []
   },
   "outputs": [
    {
     "data": {
      "text/html": [
       "<div>\n",
       "<style scoped>\n",
       "    .dataframe tbody tr th:only-of-type {\n",
       "        vertical-align: middle;\n",
       "    }\n",
       "\n",
       "    .dataframe tbody tr th {\n",
       "        vertical-align: top;\n",
       "    }\n",
       "\n",
       "    .dataframe thead th {\n",
       "        text-align: right;\n",
       "    }\n",
       "</style>\n",
       "<table border=\"1\" class=\"dataframe\">\n",
       "  <thead>\n",
       "    <tr style=\"text-align: right;\">\n",
       "      <th></th>\n",
       "      <th>recall</th>\n",
       "      <th>precision</th>\n",
       "      <th>f1_score</th>\n",
       "      <th>TPR</th>\n",
       "      <th>FPR</th>\n",
       "      <th>percentile</th>\n",
       "    </tr>\n",
       "  </thead>\n",
       "  <tbody>\n",
       "    <tr>\n",
       "      <th>90</th>\n",
       "      <td>0.621481</td>\n",
       "      <td>0.103887</td>\n",
       "      <td>0.178017</td>\n",
       "      <td>0.621481</td>\n",
       "      <td>0.182292</td>\n",
       "      <td>90</td>\n",
       "    </tr>\n",
       "    <tr>\n",
       "      <th>91</th>\n",
       "      <td>0.601668</td>\n",
       "      <td>0.112017</td>\n",
       "      <td>0.188871</td>\n",
       "      <td>0.601668</td>\n",
       "      <td>0.162187</td>\n",
       "      <td>91</td>\n",
       "    </tr>\n",
       "    <tr>\n",
       "      <th>92</th>\n",
       "      <td>0.587070</td>\n",
       "      <td>0.123330</td>\n",
       "      <td>0.203838</td>\n",
       "      <td>0.587070</td>\n",
       "      <td>0.141905</td>\n",
       "      <td>92</td>\n",
       "    </tr>\n",
       "    <tr>\n",
       "      <th>93</th>\n",
       "      <td>0.568300</td>\n",
       "      <td>0.136969</td>\n",
       "      <td>0.220737</td>\n",
       "      <td>0.568300</td>\n",
       "      <td>0.121764</td>\n",
       "      <td>93</td>\n",
       "    </tr>\n",
       "    <tr>\n",
       "      <th>94</th>\n",
       "      <td>0.539103</td>\n",
       "      <td>0.152373</td>\n",
       "      <td>0.237592</td>\n",
       "      <td>0.539103</td>\n",
       "      <td>0.101979</td>\n",
       "      <td>94</td>\n",
       "    </tr>\n",
       "    <tr>\n",
       "      <th>95</th>\n",
       "      <td>0.516163</td>\n",
       "      <td>0.176219</td>\n",
       "      <td>0.262739</td>\n",
       "      <td>0.516163</td>\n",
       "      <td>0.082051</td>\n",
       "      <td>95</td>\n",
       "    </tr>\n",
       "    <tr>\n",
       "      <th>96</th>\n",
       "      <td>0.474453</td>\n",
       "      <td>0.204678</td>\n",
       "      <td>0.285984</td>\n",
       "      <td>0.474453</td>\n",
       "      <td>0.062691</td>\n",
       "      <td>96</td>\n",
       "    </tr>\n",
       "    <tr>\n",
       "      <th>97</th>\n",
       "      <td>0.385819</td>\n",
       "      <td>0.226023</td>\n",
       "      <td>0.285054</td>\n",
       "      <td>0.385819</td>\n",
       "      <td>0.044926</td>\n",
       "      <td>97</td>\n",
       "    </tr>\n",
       "    <tr>\n",
       "      <th>98</th>\n",
       "      <td>0.270073</td>\n",
       "      <td>0.246432</td>\n",
       "      <td>0.257711</td>\n",
       "      <td>0.270073</td>\n",
       "      <td>0.028083</td>\n",
       "      <td>98</td>\n",
       "    </tr>\n",
       "    <tr>\n",
       "      <th>99</th>\n",
       "      <td>0.126173</td>\n",
       "      <td>0.260215</td>\n",
       "      <td>0.169944</td>\n",
       "      <td>0.126173</td>\n",
       "      <td>0.012198</td>\n",
       "      <td>99</td>\n",
       "    </tr>\n",
       "  </tbody>\n",
       "</table>\n",
       "</div>"
      ],
      "text/plain": [
       "      recall  precision  f1_score       TPR       FPR  percentile\n",
       "90  0.621481   0.103887  0.178017  0.621481  0.182292          90\n",
       "91  0.601668   0.112017  0.188871  0.601668  0.162187          91\n",
       "92  0.587070   0.123330  0.203838  0.587070  0.141905          92\n",
       "93  0.568300   0.136969  0.220737  0.568300  0.121764          93\n",
       "94  0.539103   0.152373  0.237592  0.539103  0.101979          94\n",
       "95  0.516163   0.176219  0.262739  0.516163  0.082051          95\n",
       "96  0.474453   0.204678  0.285984  0.474453  0.062691          96\n",
       "97  0.385819   0.226023  0.285054  0.385819  0.044926          97\n",
       "98  0.270073   0.246432  0.257711  0.270073  0.028083          98\n",
       "99  0.126173   0.260215  0.169944  0.126173  0.012198          99"
      ]
     },
     "execution_count": 26,
     "metadata": {},
     "output_type": "execute_result"
    }
   ],
   "source": [
    "metrics[metrics.percentile>89]"
   ]
  },
  {
   "cell_type": "code",
   "execution_count": 27,
   "id": "14e5d669-7529-4dbd-b69a-83237abf540f",
   "metadata": {
    "execution": {
     "iopub.execute_input": "2024-08-14T18:57:17.977633Z",
     "iopub.status.busy": "2024-08-14T18:57:17.977144Z",
     "iopub.status.idle": "2024-08-14T18:57:18.920098Z",
     "shell.execute_reply": "2024-08-14T18:57:18.919068Z"
    },
    "papermill": {
     "duration": 0.977087,
     "end_time": "2024-08-14T18:57:18.923235",
     "exception": false,
     "start_time": "2024-08-14T18:57:17.946148",
     "status": "completed"
    },
    "tags": []
   },
   "outputs": [
    {
     "data": {
      "image/png": "[encoded data removed]",
      "text/plain": [
       "<Figure size 900x300 with 3 Axes>"
      ]
     },
     "metadata": {},
     "output_type": "display_data"
    }
   ],
   "source": [
    "_, axs = plt.subplots(1, 3, figsize=np.array([3, 1]) * 3)\n",
    "xy = [(\"percentile\", \"recall\"), (\"percentile\", \"precision\"), (\"recall\", \"precision\")]\n",
    "for (x, y), ax in zip(xy, axs.flat):\n",
    "    ax.plot(metrics[x], metrics[y])\n",
    "    ax.grid()\n",
    "    ax.set_xlabel(x)\n",
    "    ax.set_ylabel(y)\n",
    "plt.tight_layout()"
   ]
  },
  {
   "cell_type": "code",
   "execution_count": null,
   "id": "24f75dc9-5df0-421b-9f00-6f5074792702",
   "metadata": {
    "papermill": {
     "duration": 0.030374,
     "end_time": "2024-08-14T18:57:18.986611",
     "exception": false,
     "start_time": "2024-08-14T18:57:18.956237",
     "status": "completed"
    },
    "tags": []
   },
   "outputs": [],
   "source": []
  }
 ],
 "metadata": {
  "kernelspec": {
   "display_name": "Dev/GPuy310",
   "language": "python",
   "name": "gpuy310-dev"
  },
  "language_info": {
   "codemirror_mode": {
    "name": "ipython",
    "version": 3
   },
   "file_extension": ".py",
   "mimetype": "text/x-python",
   "name": "python",
   "nbconvert_exporter": "python",
   "pygments_lexer": "ipython3",
   "version": "3.10.8"
  },
  "papermill": {
   "default_parameters": {},
   "duration": 322.016402,
   "end_time": "2024-08-14T18:57:27.085526",
   "environment_variables": {},
   "exception": null,
   "input_path": "./Templates/Multivariate_updated.ipynb",
   "output_path": "/gstore/home/ghaffars/Cumulus/crc_dld1_sublib1_bdev/crop-seq-pipeline/Reports/DS000017114_Multivariate_pca_sphered_Norm_Phonetype_genes.ipynb",
   "parameters": {
    "DEV": false,
    "DS_test": false,
    "DatasetID": "DS000017114",
    "MV_file": "/gstore/project/crc_recursion_gw/DLD1_Sublib1_bdev//DS000017114/Energy_Distance/e_dist_all.h5ad",
    "author": "SG",
    "description": "Production scale screen in DLD-1 cells with 1/4 of the genome-wide CRISPR library (sub-lib-1, ~22K guides). 1 time point: Day-5. We performed 24 rxns of 10x 3' HT kit with an estimated loading of 52K cells. We performed a pilot study to test the library quality before the production-level sequencing. We will submit 72 libraries (24 GEX, 24 HTO and 24 sgRNA) We estimate need 600M for GEX, 30M for HTO and 50M for sgRNA. This is a repeat run to correct chip loading.",
    "embeddings_key": "X_pca_sphered_Norm",
    "name_space": [
     {
      "id": "GRCh38",
      "type": "genome"
     }
    ],
    "organism": "human",
    "path": "/gstore/project/crc_recursion_gw/DLD1_Sublib1_bdev//DS000017114/Energy_Distance",
    "sources": [
     {
      "id": "Siavash-1234",
      "name": "Geo-ID"
     }
    ],
    "tech_name": "scRNA-seq",
    "test_DatasetID": "",
    "title": "Recursion DLD1 Library1 Screen Day 5- combination of NGS 5774 and NGS 5702",
    "transcriptoprint": true
   },
   "start_time": "2024-08-14T18:52:05.069124",
   "version": "2.6.0"
  },
  "widgets": {
   "application/vnd.jupyter.widget-state+json": {
    "state": {},
    "version_major": 2,
    "version_minor": 0
   }
  }
 },
 "nbformat": 4,
 "nbformat_minor": 5
}