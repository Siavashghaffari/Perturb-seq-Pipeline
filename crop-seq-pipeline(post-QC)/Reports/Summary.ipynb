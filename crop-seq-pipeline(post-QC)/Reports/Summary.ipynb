{
 "cells": [
  {
   "cell_type": "markdown",
   "metadata": {},
   "source": [
    "A bit of set-up"
   ]
  },
  {
   "cell_type": "code",
   "execution_count": 1,
   "metadata": {},
   "outputs": [],
   "source": [
    "import os\n",
    "import anndata as ad \n",
    "import pandas as pd\n",
    "import numpy as np\n",
    "import scanpy as sc\n",
    "import pickle"
   ]
  },
  {
   "cell_type": "code",
   "execution_count": 2,
   "metadata": {},
   "outputs": [],
   "source": [
    "bdata = sc.read(\"/gstore/project/crc_recursion_2/Sublib2_marginCalls/Energy_Distance/e_dist_all.h5ad\")"
   ]
  },
  {
   "cell_type": "code",
   "execution_count": 2,
   "metadata": {},
   "outputs": [],
   "source": [
    "write_uns=False"
   ]
  },
  {
   "cell_type": "markdown",
   "metadata": {},
   "source": [
    "## To save uns on the disk and save time in loading them"
   ]
  },
  {
   "cell_type": "code",
   "execution_count": 3,
   "metadata": {},
   "outputs": [],
   "source": [
    "if write_uns:\n",
    "    adata = sc.read_h5ad(\"/gstore/project/crc_recursion_gw/DLD1_Sublib2_Day5/DS000015963/Energy_Distance/e_dist_all.h5ad\")\n",
    "    dic1 = adata.uns.copy()\n",
    "    with open('/gstore/home/ghaffars/Cumulus/crc_DLD1_sublib4/crop-seq-pipeline/src/Templates/data/adata.pkl', 'wb') as f:\n",
    "        pickle.dump(dic1, f)\n",
    "    bdata = sc.read(\"/gstore/project/crc_recursion_gw/DLD1_Sublib4/DS000016357/Energy_Distance/e_dist_all.h5ad\")\n",
    "    dic2 = bdata.uns.copy()\n",
    "    with open('/gstore/home/ghaffars/Cumulus/crc_DLD1_sublib4/crop-seq-pipeline/src/Templates/data/bdata.pkl', 'wb') as f:\n",
    "        pickle.dump(dic2, f)"
   ]
  },
  {
   "cell_type": "code",
   "execution_count": 4,
   "metadata": {},
   "outputs": [],
   "source": [
    "with open('/gstore/home/ghaffars/Cumulus/crc_DLD1_sublib4/crop-seq-pipeline/src/Templates/data/adata.pkl', 'rb') as f:\n",
    "    adata_dict = pickle.load(f)"
   ]
  },
  {
   "cell_type": "code",
   "execution_count": 5,
   "metadata": {},
   "outputs": [],
   "source": [
    "with open('/gstore/home/ghaffars/Cumulus/crc_DLD1_sublib4/crop-seq-pipeline/src/Templates/data/bdata.pkl', 'rb') as f:\n",
    "    bdata_dict = pickle.load(f)"
   ]
  },
  {
   "cell_type": "code",
   "execution_count": 14,
   "metadata": {},
   "outputs": [],
   "source": [
    "keys=[]\n",
    "recall_95percentile = []\n",
    "recall_90percentile = []\n",
    "roc_auc = []\n",
    "recall_95percentile_pheno = []\n",
    "recall_90percentile_pheno = []\n",
    "roc_auc_pheno = []\n",
    "\n",
    "for k,v in adata_dict['multivariate_report'].items():\n",
    "    keys.append(k)\n",
    "    recall_95percentile.append(v['95percentile']['recall'])\n",
    "    recall_90percentile.append(v['90percentile']['recall'])\n",
    "    roc_auc.append(v['roc_auc'])\n",
    "    recall_95percentile_pheno.append(v['transcriptoprint']['95percentile']['recall'])\n",
    "    recall_90percentile_pheno.append(v['transcriptoprint']['90percentile']['recall'])\n",
    "    roc_auc_pheno.append(v['transcriptoprint']['roc_auc'])\n",
    "    \n",
    "keys = [k+\"_sublib2\" for k in keys]    "
   ]
  },
  {
   "cell_type": "code",
   "execution_count": 16,
   "metadata": {},
   "outputs": [],
   "source": [
    "for k,v in bdata_dict['multivariate_report'].items():\n",
    "    keys.append(k+\"_sublib4\")\n",
    "    recall_95percentile.append(v['95percentile']['recall'])\n",
    "    recall_90percentile.append(v['90percentile']['recall'])\n",
    "    roc_auc.append(v['roc_auc'])\n",
    "    recall_95percentile_pheno.append(v['transcriptoprint']['95percentile']['recall'])\n",
    "    recall_90percentile_pheno.append(v['transcriptoprint']['90percentile']['recall'])\n",
    "    roc_auc_pheno.append(v['transcriptoprint']['roc_auc'])\n",
    "    \n",
    "    "
   ]
  },
  {
   "cell_type": "code",
   "execution_count": 17,
   "metadata": {},
   "outputs": [],
   "source": [
    "keys.append('scVI_Replogle')\n",
    "recall_95percentile.append(0.34711286089238846)\n",
    "recall_90percentile.append(0.4573490813648294)\n",
    "roc_auc.append(0.6685718483077898)\n",
    "recall_95percentile_pheno.append('-')\n",
    "recall_90percentile_pheno.append('-')\n",
    "roc_auc_pheno.append('-')"
   ]
  },
  {
   "cell_type": "code",
   "execution_count": 18,
   "metadata": {},
   "outputs": [],
   "source": [
    "cells = [575185, 575185, 575185, 298497, 298497, 298497, 1989578]"
   ]
  },
  {
   "cell_type": "code",
   "execution_count": 19,
   "metadata": {},
   "outputs": [],
   "source": [
    "data = {'keys':keys,\n",
    "        'recall@95percentile (all_genes)':recall_95percentile,\n",
    "        'recall@90percentile (all_genes)' : recall_90percentile,\n",
    "        'Area under the ROC Curve (all_genes)':roc_auc,\n",
    "        '#cell':cells,\n",
    "        'recall@95percentile (pheotype_only)':recall_95percentile_pheno,\n",
    "        'recall@90percentile (pheotype_only)' : recall_90percentile_pheno,\n",
    "        'Area under the ROC Curve (pheotype_only)':roc_auc_pheno\n",
    "       }"
   ]
  },
  {
   "cell_type": "code",
   "execution_count": 20,
   "metadata": {},
   "outputs": [],
   "source": [
    "df=pd.DataFrame(data)"
   ]
  },
  {
   "cell_type": "code",
   "execution_count": 21,
   "metadata": {},
   "outputs": [],
   "source": [
    "df = df.set_index('keys')"
   ]
  },
  {
   "cell_type": "markdown",
   "metadata": {},
   "source": [
    "# Summary of Multivariate metrics"
   ]
  },
  {
   "cell_type": "code",
   "execution_count": 22,
   "metadata": {},
   "outputs": [
    {
     "data": {
      "text/html": [
       "<div>\n",
       "<style scoped>\n",
       "    .dataframe tbody tr th:only-of-type {\n",
       "        vertical-align: middle;\n",
       "    }\n",
       "\n",
       "    .dataframe tbody tr th {\n",
       "        vertical-align: top;\n",
       "    }\n",
       "\n",
       "    .dataframe thead th {\n",
       "        text-align: right;\n",
       "    }\n",
       "</style>\n",
       "<table border=\"1\" class=\"dataframe\">\n",
       "  <thead>\n",
       "    <tr style=\"text-align: right;\">\n",
       "      <th></th>\n",
       "      <th>recall@95percentile (all_genes)</th>\n",
       "      <th>recall@90percentile (all_genes)</th>\n",
       "      <th>Area under the ROC Curve (all_genes)</th>\n",
       "      <th>#cell</th>\n",
       "      <th>recall@95percentile (pheotype_only)</th>\n",
       "      <th>recall@90percentile (pheotype_only)</th>\n",
       "      <th>Area under the ROC Curve (pheotype_only)</th>\n",
       "    </tr>\n",
       "    <tr>\n",
       "      <th>keys</th>\n",
       "      <th></th>\n",
       "      <th></th>\n",
       "      <th></th>\n",
       "      <th></th>\n",
       "      <th></th>\n",
       "      <th></th>\n",
       "      <th></th>\n",
       "    </tr>\n",
       "  </thead>\n",
       "  <tbody>\n",
       "    <tr>\n",
       "      <th>pca_sublib2</th>\n",
       "      <td>0.180598</td>\n",
       "      <td>0.294082</td>\n",
       "      <td>0.553986</td>\n",
       "      <td>575185</td>\n",
       "      <td>0.308</td>\n",
       "      <td>0.392</td>\n",
       "      <td>0.594462</td>\n",
       "    </tr>\n",
       "    <tr>\n",
       "      <th>pca_sphered_sublib2</th>\n",
       "      <td>0.256254</td>\n",
       "      <td>0.362416</td>\n",
       "      <td>0.604912</td>\n",
       "      <td>575185</td>\n",
       "      <td>0.320988</td>\n",
       "      <td>0.493827</td>\n",
       "      <td>0.680287</td>\n",
       "    </tr>\n",
       "    <tr>\n",
       "      <th>scVI_sublib2</th>\n",
       "      <td>0.272117</td>\n",
       "      <td>0.406345</td>\n",
       "      <td>0.635476</td>\n",
       "      <td>575185</td>\n",
       "      <td>0.329218</td>\n",
       "      <td>0.473251</td>\n",
       "      <td>0.668205</td>\n",
       "    </tr>\n",
       "    <tr>\n",
       "      <th>pca_sublib4</th>\n",
       "      <td>0.218540</td>\n",
       "      <td>0.329971</td>\n",
       "      <td>0.586605</td>\n",
       "      <td>298497</td>\n",
       "      <td>0.246518</td>\n",
       "      <td>0.380223</td>\n",
       "      <td>0.629376</td>\n",
       "    </tr>\n",
       "    <tr>\n",
       "      <th>pca_sphered_sublib4</th>\n",
       "      <td>0.254563</td>\n",
       "      <td>0.342939</td>\n",
       "      <td>0.588753</td>\n",
       "      <td>298497</td>\n",
       "      <td>0.313053</td>\n",
       "      <td>0.46792</td>\n",
       "      <td>0.665671</td>\n",
       "    </tr>\n",
       "    <tr>\n",
       "      <th>scVI_sublib4</th>\n",
       "      <td>0.251681</td>\n",
       "      <td>0.369837</td>\n",
       "      <td>0.608989</td>\n",
       "      <td>298497</td>\n",
       "      <td>0.293629</td>\n",
       "      <td>0.458449</td>\n",
       "      <td>0.674873</td>\n",
       "    </tr>\n",
       "    <tr>\n",
       "      <th>scVI_Replogle</th>\n",
       "      <td>0.347113</td>\n",
       "      <td>0.457349</td>\n",
       "      <td>0.668572</td>\n",
       "      <td>1989578</td>\n",
       "      <td>-</td>\n",
       "      <td>-</td>\n",
       "      <td>-</td>\n",
       "    </tr>\n",
       "  </tbody>\n",
       "</table>\n",
       "</div>"
      ],
      "text/plain": [
       "                     recall@95percentile (all_genes)  \\\n",
       "keys                                                   \n",
       "pca_sublib2                                 0.180598   \n",
       "pca_sphered_sublib2                         0.256254   \n",
       "scVI_sublib2                                0.272117   \n",
       "pca_sublib4                                 0.218540   \n",
       "pca_sphered_sublib4                         0.254563   \n",
       "scVI_sublib4                                0.251681   \n",
       "scVI_Replogle                               0.347113   \n",
       "\n",
       "                     recall@90percentile (all_genes)  \\\n",
       "keys                                                   \n",
       "pca_sublib2                                 0.294082   \n",
       "pca_sphered_sublib2                         0.362416   \n",
       "scVI_sublib2                                0.406345   \n",
       "pca_sublib4                                 0.329971   \n",
       "pca_sphered_sublib4                         0.342939   \n",
       "scVI_sublib4                                0.369837   \n",
       "scVI_Replogle                               0.457349   \n",
       "\n",
       "                     Area under the ROC Curve (all_genes)    #cell  \\\n",
       "keys                                                                 \n",
       "pca_sublib2                                      0.553986   575185   \n",
       "pca_sphered_sublib2                              0.604912   575185   \n",
       "scVI_sublib2                                     0.635476   575185   \n",
       "pca_sublib4                                      0.586605   298497   \n",
       "pca_sphered_sublib4                              0.588753   298497   \n",
       "scVI_sublib4                                     0.608989   298497   \n",
       "scVI_Replogle                                    0.668572  1989578   \n",
       "\n",
       "                    recall@95percentile (pheotype_only)  \\\n",
       "keys                                                      \n",
       "pca_sublib2                                       0.308   \n",
       "pca_sphered_sublib2                            0.320988   \n",
       "scVI_sublib2                                   0.329218   \n",
       "pca_sublib4                                    0.246518   \n",
       "pca_sphered_sublib4                            0.313053   \n",
       "scVI_sublib4                                   0.293629   \n",
       "scVI_Replogle                                         -   \n",
       "\n",
       "                    recall@90percentile (pheotype_only)  \\\n",
       "keys                                                      \n",
       "pca_sublib2                                       0.392   \n",
       "pca_sphered_sublib2                            0.493827   \n",
       "scVI_sublib2                                   0.473251   \n",
       "pca_sublib4                                    0.380223   \n",
       "pca_sphered_sublib4                             0.46792   \n",
       "scVI_sublib4                                   0.458449   \n",
       "scVI_Replogle                                         -   \n",
       "\n",
       "                    Area under the ROC Curve (pheotype_only)  \n",
       "keys                                                          \n",
       "pca_sublib2                                         0.594462  \n",
       "pca_sphered_sublib2                                 0.680287  \n",
       "scVI_sublib2                                        0.668205  \n",
       "pca_sublib4                                         0.629376  \n",
       "pca_sphered_sublib4                                 0.665671  \n",
       "scVI_sublib4                                        0.674873  \n",
       "scVI_Replogle                                              -  "
      ]
     },
     "execution_count": 22,
     "metadata": {},
     "output_type": "execute_result"
    }
   ],
   "source": [
    "df"
   ]
  },
  {
   "cell_type": "code",
   "execution_count": null,
   "metadata": {},
   "outputs": [],
   "source": []
  }
 ],
 "metadata": {
  "kernelspec": {
   "display_name": "gpuy310",
   "language": "python",
   "name": "gpuy310"
  },
  "language_info": {
   "codemirror_mode": {
    "name": "ipython",
    "version": 3
   },
   "file_extension": ".py",
   "mimetype": "text/x-python",
   "name": "python",
   "nbconvert_exporter": "python",
   "pygments_lexer": "ipython3",
   "version": "3.10.8"
  },
  "widgets": {
   "application/vnd.jupyter.widget-state+json": {
    "state": {},
    "version_major": 2,
    "version_minor": 0
   }
  }
 },
 "nbformat": 4,
 "nbformat_minor": 4
}
