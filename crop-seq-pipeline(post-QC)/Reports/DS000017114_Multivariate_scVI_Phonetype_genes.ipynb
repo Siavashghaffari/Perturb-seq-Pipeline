{
 "cells": [
  {
   "cell_type": "code",
   "execution_count": 1,
   "id": "fe12db91",
   "metadata": {
    "execution": {
     "iopub.execute_input": "2024-08-14T18:58:33.087648Z",
     "iopub.status.busy": "2024-08-14T18:58:33.087164Z",
     "iopub.status.idle": "2024-08-14T18:58:33.104346Z",
     "shell.execute_reply": "2024-08-14T18:58:33.103173Z"
    },
    "papermill": {
     "duration": 0.032698,
     "end_time": "2024-08-14T18:58:33.107676",
     "exception": false,
     "start_time": "2024-08-14T18:58:33.074978",
     "status": "completed"
    },
    "tags": [
     "injected-parameters"
    ]
   },
   "outputs": [],
   "source": [
    "# Parameters\n",
    "DatasetID = \"DS000017114\"\n",
    "DEV = False\n",
    "test_DatasetID = \"\"\n",
    "DS_test = False\n",
    "title = \"Recursion DLD1 Library1 Screen Day 5- combination of NGS 5774 and NGS 5702\"\n",
    "description = \"Production scale screen in DLD-1 cells with 1/4 of the genome-wide CRISPR library (sub-lib-1, ~22K guides). 1 time point: Day-5. We performed 24 rxns of 10x 3' HT kit with an estimated loading of 52K cells. We performed a pilot study to test the library quality before the production-level sequencing. We will submit 72 libraries (24 GEX, 24 HTO and 24 sgRNA) We estimate need 600M for GEX, 30M for HTO and 50M for sgRNA. This is a repeat run to correct chip loading.\"\n",
    "name_space = [{\"id\": \"GRCh38\", \"type\": \"genome\"}]\n",
    "sources = [{\"id\": \"Siavash-1234\", \"name\": \"Geo-ID\"}]\n",
    "tech_name = \"scRNA-seq\"\n",
    "author = \"SG\"\n",
    "organism = \"human\"\n",
    "embeddings_key = \"X_scVI\"\n",
    "transcriptoprint = True\n",
    "MV_file = \"/gstore/project/crc_recursion_gw/DLD1_Sublib1_bdev//DS000017114/Energy_Distance/e_dist_all.h5ad\"\n",
    "path = \"/gstore/project/crc_recursion_gw/DLD1_Sublib1_bdev//DS000017114/Energy_Distance\"\n"
   ]
  },
  {
   "cell_type": "code",
   "execution_count": 2,
   "id": "8cbb3b17",
   "metadata": {
    "execution": {
     "iopub.execute_input": "2024-08-14T18:58:33.130096Z",
     "iopub.status.busy": "2024-08-14T18:58:33.129623Z",
     "iopub.status.idle": "2024-08-14T18:58:50.233014Z",
     "shell.execute_reply": "2024-08-14T18:58:50.231800Z"
    },
    "papermill": {
     "duration": 17.118251,
     "end_time": "2024-08-14T18:58:50.236344",
     "exception": false,
     "start_time": "2024-08-14T18:58:33.118093",
     "status": "completed"
    },
    "tags": []
   },
   "outputs": [
    {
     "name": "stderr",
     "output_type": "stream",
     "text": [
      "/apps/user/gpy/envs/dev/GPUy310pascal/lib/python3.10/site-packages/scvi/_settings.py:63: UserWarning: Since v1.0.0, scvi-tools no longer uses a random seed by default. Run `scvi.settings.seed = 0` to reproduce results from previous versions.\n",
      "  self.seed = seed\n",
      "/apps/user/gpy/envs/dev/GPUy310pascal/lib/python3.10/site-packages/scvi/_settings.py:70: UserWarning: Setting `dl_pin_memory_gpu_training` is deprecated in v1.0 and will be removed in v1.1. Please pass in `pin_memory` to the data loaders instead.\n",
      "  self.dl_pin_memory_gpu_training = (\n"
     ]
    }
   ],
   "source": [
    "import sys\n",
    "sys.path.append(\"..\")\n",
    "import Templates.tools.multivariate as mv\n",
    "import seaborn as sns\n",
    "import scanpy as sc\n",
    "import numpy as np\n",
    "import pandas as pd\n",
    "import matplotlib.pyplot as plt"
   ]
  },
  {
   "cell_type": "code",
   "execution_count": 3,
   "id": "88b47f52",
   "metadata": {
    "execution": {
     "iopub.execute_input": "2024-08-14T18:58:50.260948Z",
     "iopub.status.busy": "2024-08-14T18:58:50.260133Z",
     "iopub.status.idle": "2024-08-14T19:00:21.673813Z",
     "shell.execute_reply": "2024-08-14T19:00:21.672546Z"
    },
    "papermill": {
     "duration": 91.42885,
     "end_time": "2024-08-14T19:00:21.677319",
     "exception": false,
     "start_time": "2024-08-14T18:58:50.248469",
     "status": "completed"
    },
    "tags": []
   },
   "outputs": [],
   "source": [
    "adata = sc.read_h5ad(MV_file)"
   ]
  },
  {
   "cell_type": "code",
   "execution_count": 4,
   "id": "7dc3cbb8-549f-411a-837e-d6c162398d42",
   "metadata": {
    "execution": {
     "iopub.execute_input": "2024-08-14T19:00:21.702214Z",
     "iopub.status.busy": "2024-08-14T19:00:21.701975Z",
     "iopub.status.idle": "2024-08-14T19:00:21.711363Z",
     "shell.execute_reply": "2024-08-14T19:00:21.710520Z"
    },
    "papermill": {
     "duration": 0.024077,
     "end_time": "2024-08-14T19:00:21.714346",
     "exception": false,
     "start_time": "2024-08-14T19:00:21.690269",
     "status": "completed"
    },
    "tags": []
   },
   "outputs": [
    {
     "data": {
      "text/plain": [
       "AnnData object with n_obs × n_vars = 595603 × 36603\n",
       "    obs: 'Sample', 'Barcode', 'DemuxType_crispr', 'DemuxAssignment_crispr', 'DemuxType_hashing', 'DemuxAssignment_hashing', 'cellline', 'timepoint', 'HTO', 'NGS_ID', 'Biological_replicate', '10Xrun', 'sublibrary', 'gRNA_library_MOI', 'gene_symbol', 'class', 'n_genes_by_counts', 'total_counts', 'total_counts_mt', 'pct_counts_mt', 'total_counts_ribo', 'pct_counts_ribo', 'qc_pass', 'S_score', 'G2M_score', 'phase', 'SCN_class', 'gem'\n",
       "    var: 'Symbol'\n",
       "    uns: 'DemuxAssignment_hashing_colors', 'Sample_colors', '_scvi_manager_uuid', '_scvi_uuid', 'energy_distance', 'leiden_colors', 'multivariate_report', 'neighbors', 'perturbation_embeddings', 'perturbations', 'umap'\n",
       "    obsm: 'X_pca', 'X_pca_centered', 'X_pca_sphered', 'X_pca_sphered_Norm', 'X_scVI', 'X_scVI_centered', 'X_umap'\n",
       "    layers: 'counts'\n",
       "    obsp: 'connectivities', 'distances'"
      ]
     },
     "execution_count": 4,
     "metadata": {},
     "output_type": "execute_result"
    }
   ],
   "source": [
    "adata"
   ]
  },
  {
   "cell_type": "code",
   "execution_count": 5,
   "id": "c8c2c10b-4867-4241-954c-b657534be256",
   "metadata": {
    "execution": {
     "iopub.execute_input": "2024-08-14T19:00:21.737204Z",
     "iopub.status.busy": "2024-08-14T19:00:21.736965Z",
     "iopub.status.idle": "2024-08-14T19:00:21.755990Z",
     "shell.execute_reply": "2024-08-14T19:00:21.754916Z"
    },
    "papermill": {
     "duration": 0.034164,
     "end_time": "2024-08-14T19:00:21.759476",
     "exception": false,
     "start_time": "2024-08-14T19:00:21.725312",
     "status": "completed"
    },
    "tags": []
   },
   "outputs": [],
   "source": [
    "key_uns = embeddings_key.split(\"_\",1)[-1]"
   ]
  },
  {
   "cell_type": "code",
   "execution_count": 6,
   "id": "834d0e41-6cfd-4f65-81ad-d2fb601489d0",
   "metadata": {
    "execution": {
     "iopub.execute_input": "2024-08-14T19:00:21.784277Z",
     "iopub.status.busy": "2024-08-14T19:00:21.783235Z",
     "iopub.status.idle": "2024-08-14T19:00:21.789853Z",
     "shell.execute_reply": "2024-08-14T19:00:21.788465Z"
    },
    "papermill": {
     "duration": 0.022132,
     "end_time": "2024-08-14T19:00:21.792999",
     "exception": false,
     "start_time": "2024-08-14T19:00:21.770867",
     "status": "completed"
    },
    "tags": []
   },
   "outputs": [],
   "source": [
    "if key_uns in [\"pca_sphered\",\"pca_sphered_Norm\"]:\n",
    "    centering = False\n",
    "else:\n",
    "    centering = True"
   ]
  },
  {
   "cell_type": "code",
   "execution_count": 7,
   "id": "e84f2879-a24f-41f9-8d46-f8921237bdec",
   "metadata": {
    "execution": {
     "iopub.execute_input": "2024-08-14T19:00:21.817456Z",
     "iopub.status.busy": "2024-08-14T19:00:21.816985Z",
     "iopub.status.idle": "2024-08-14T19:00:44.716980Z",
     "shell.execute_reply": "2024-08-14T19:00:44.715804Z"
    },
    "papermill": {
     "duration": 22.915866,
     "end_time": "2024-08-14T19:00:44.720422",
     "exception": false,
     "start_time": "2024-08-14T19:00:21.804556",
     "status": "completed"
    },
    "tags": []
   },
   "outputs": [],
   "source": [
    "if transcriptoprint:\n",
    "    A = list(mv.common_genes(key_uns, path))\n",
    "    A.append(\"NTC\")\n",
    "    bdata = adata[adata.obs[\"gene_symbol\"].isin(A)].copy()\n",
    "else:\n",
    "    bdata = adata.copy()"
   ]
  },
  {
   "cell_type": "code",
   "execution_count": 8,
   "id": "b28dc757",
   "metadata": {
    "execution": {
     "iopub.execute_input": "2024-08-14T19:00:44.745841Z",
     "iopub.status.busy": "2024-08-14T19:00:44.745580Z",
     "iopub.status.idle": "2024-08-14T19:00:44.751808Z",
     "shell.execute_reply": "2024-08-14T19:00:44.750925Z"
    },
    "papermill": {
     "duration": 0.021985,
     "end_time": "2024-08-14T19:00:44.755343",
     "exception": false,
     "start_time": "2024-08-14T19:00:44.733358",
     "status": "completed"
    },
    "tags": []
   },
   "outputs": [
    {
     "data": {
      "text/plain": [
       "AnnData object with n_obs × n_vars = 135127 × 36603\n",
       "    obs: 'Sample', 'Barcode', 'DemuxType_crispr', 'DemuxAssignment_crispr', 'DemuxType_hashing', 'DemuxAssignment_hashing', 'cellline', 'timepoint', 'HTO', 'NGS_ID', 'Biological_replicate', '10Xrun', 'sublibrary', 'gRNA_library_MOI', 'gene_symbol', 'class', 'n_genes_by_counts', 'total_counts', 'total_counts_mt', 'pct_counts_mt', 'total_counts_ribo', 'pct_counts_ribo', 'qc_pass', 'S_score', 'G2M_score', 'phase', 'SCN_class', 'gem'\n",
       "    var: 'Symbol'\n",
       "    uns: 'DemuxAssignment_hashing_colors', 'Sample_colors', '_scvi_manager_uuid', '_scvi_uuid', 'energy_distance', 'leiden_colors', 'multivariate_report', 'neighbors', 'perturbation_embeddings', 'perturbations', 'umap'\n",
       "    obsm: 'X_pca', 'X_pca_centered', 'X_pca_sphered', 'X_pca_sphered_Norm', 'X_scVI', 'X_scVI_centered', 'X_umap'\n",
       "    layers: 'counts'\n",
       "    obsp: 'connectivities', 'distances'"
      ]
     },
     "execution_count": 8,
     "metadata": {},
     "output_type": "execute_result"
    }
   ],
   "source": [
    "bdata"
   ]
  },
  {
   "cell_type": "code",
   "execution_count": 9,
   "id": "3bad59a0-ba07-49c8-928e-8764a8674c43",
   "metadata": {
    "execution": {
     "iopub.execute_input": "2024-08-14T19:00:44.779518Z",
     "iopub.status.busy": "2024-08-14T19:00:44.779285Z",
     "iopub.status.idle": "2024-08-14T19:00:44.929087Z",
     "shell.execute_reply": "2024-08-14T19:00:44.928175Z"
    },
    "papermill": {
     "duration": 0.165996,
     "end_time": "2024-08-14T19:00:44.932938",
     "exception": false,
     "start_time": "2024-08-14T19:00:44.766942",
     "status": "completed"
    },
    "tags": []
   },
   "outputs": [
    {
     "data": {
      "text/html": [
       "<div>\n",
       "<style scoped>\n",
       "    .dataframe tbody tr th:only-of-type {\n",
       "        vertical-align: middle;\n",
       "    }\n",
       "\n",
       "    .dataframe tbody tr th {\n",
       "        vertical-align: top;\n",
       "    }\n",
       "\n",
       "    .dataframe thead th {\n",
       "        text-align: right;\n",
       "    }\n",
       "</style>\n",
       "<table border=\"1\" class=\"dataframe\">\n",
       "  <thead>\n",
       "    <tr style=\"text-align: right;\">\n",
       "      <th></th>\n",
       "      <th>Sample</th>\n",
       "      <th>Barcode</th>\n",
       "      <th>DemuxType_crispr</th>\n",
       "      <th>DemuxAssignment_crispr</th>\n",
       "      <th>DemuxType_hashing</th>\n",
       "      <th>DemuxAssignment_hashing</th>\n",
       "      <th>cellline</th>\n",
       "      <th>timepoint</th>\n",
       "      <th>HTO</th>\n",
       "      <th>NGS_ID</th>\n",
       "      <th>...</th>\n",
       "      <th>total_counts_mt</th>\n",
       "      <th>pct_counts_mt</th>\n",
       "      <th>total_counts_ribo</th>\n",
       "      <th>pct_counts_ribo</th>\n",
       "      <th>qc_pass</th>\n",
       "      <th>S_score</th>\n",
       "      <th>G2M_score</th>\n",
       "      <th>phase</th>\n",
       "      <th>SCN_class</th>\n",
       "      <th>gem</th>\n",
       "    </tr>\n",
       "  </thead>\n",
       "  <tbody>\n",
       "    <tr>\n",
       "      <th>SAM24451293_rep1-AAACCCAAGACAGTCG</th>\n",
       "      <td>SAM24451293</td>\n",
       "      <td>AAACCCAAGACAGTCG</td>\n",
       "      <td>singlet</td>\n",
       "      <td>ENSG00000171017_3</td>\n",
       "      <td>singlet</td>\n",
       "      <td>SAM24439045</td>\n",
       "      <td>DLD1</td>\n",
       "      <td>day5</td>\n",
       "      <td>HTO-18</td>\n",
       "      <td>NGS5774</td>\n",
       "      <td>...</td>\n",
       "      <td>618</td>\n",
       "      <td>6.336512</td>\n",
       "      <td>2152</td>\n",
       "      <td>22.065006</td>\n",
       "      <td>True</td>\n",
       "      <td>-0.493023</td>\n",
       "      <td>0.231481</td>\n",
       "      <td>G2M</td>\n",
       "      <td>Untreatedclus_DLD1</td>\n",
       "      <td>NGS5774-1</td>\n",
       "    </tr>\n",
       "    <tr>\n",
       "      <th>SAM24451293_rep1-AAACCCATCTGTCGTC</th>\n",
       "      <td>SAM24451293</td>\n",
       "      <td>AAACCCATCTGTCGTC</td>\n",
       "      <td>singlet</td>\n",
       "      <td>ENSG00000087111_4</td>\n",
       "      <td>singlet</td>\n",
       "      <td>SAM24439045</td>\n",
       "      <td>DLD1</td>\n",
       "      <td>day5</td>\n",
       "      <td>HTO-18</td>\n",
       "      <td>NGS5774</td>\n",
       "      <td>...</td>\n",
       "      <td>196</td>\n",
       "      <td>1.763859</td>\n",
       "      <td>2183</td>\n",
       "      <td>19.645428</td>\n",
       "      <td>True</td>\n",
       "      <td>0.246512</td>\n",
       "      <td>-0.306254</td>\n",
       "      <td>S</td>\n",
       "      <td>Untreatedclus_DLD1</td>\n",
       "      <td>NGS5774-1</td>\n",
       "    </tr>\n",
       "    <tr>\n",
       "      <th>SAM24451293_rep1-AAACGAAAGACGTCGA</th>\n",
       "      <td>SAM24451293</td>\n",
       "      <td>AAACGAAAGACGTCGA</td>\n",
       "      <td>singlet</td>\n",
       "      <td>ENSG00000109787_4</td>\n",
       "      <td>singlet</td>\n",
       "      <td>SAM24439044</td>\n",
       "      <td>DLD1</td>\n",
       "      <td>day5</td>\n",
       "      <td>HTO-15</td>\n",
       "      <td>NGS5774</td>\n",
       "      <td>...</td>\n",
       "      <td>486</td>\n",
       "      <td>2.926301</td>\n",
       "      <td>3141</td>\n",
       "      <td>18.912572</td>\n",
       "      <td>True</td>\n",
       "      <td>-0.641860</td>\n",
       "      <td>0.433263</td>\n",
       "      <td>G2M</td>\n",
       "      <td>Untreatedclus_DLD1</td>\n",
       "      <td>NGS5774-1</td>\n",
       "    </tr>\n",
       "    <tr>\n",
       "      <th>SAM24451293_rep1-AAACGAACATCCAATG</th>\n",
       "      <td>SAM24451293</td>\n",
       "      <td>AAACGAACATCCAATG</td>\n",
       "      <td>singlet</td>\n",
       "      <td>ENSG00000161594_1</td>\n",
       "      <td>singlet</td>\n",
       "      <td>SAM24439043</td>\n",
       "      <td>DLD1</td>\n",
       "      <td>day5</td>\n",
       "      <td>HTO-2</td>\n",
       "      <td>NGS5774</td>\n",
       "      <td>...</td>\n",
       "      <td>531</td>\n",
       "      <td>3.670676</td>\n",
       "      <td>2377</td>\n",
       "      <td>16.431633</td>\n",
       "      <td>True</td>\n",
       "      <td>-0.051163</td>\n",
       "      <td>0.242662</td>\n",
       "      <td>G2M</td>\n",
       "      <td>Untreatedclus_DLD1</td>\n",
       "      <td>NGS5774-1</td>\n",
       "    </tr>\n",
       "    <tr>\n",
       "      <th>SAM24451293_rep1-AAACGAACATGACGAG</th>\n",
       "      <td>SAM24451293</td>\n",
       "      <td>AAACGAACATGACGAG</td>\n",
       "      <td>singlet</td>\n",
       "      <td>ENSG00000121104_1</td>\n",
       "      <td>singlet</td>\n",
       "      <td>SAM24439044</td>\n",
       "      <td>DLD1</td>\n",
       "      <td>day5</td>\n",
       "      <td>HTO-4</td>\n",
       "      <td>NGS5774</td>\n",
       "      <td>...</td>\n",
       "      <td>93</td>\n",
       "      <td>1.310044</td>\n",
       "      <td>1364</td>\n",
       "      <td>19.213974</td>\n",
       "      <td>True</td>\n",
       "      <td>-0.451163</td>\n",
       "      <td>-0.265549</td>\n",
       "      <td>G1</td>\n",
       "      <td>DOXclus_DLD1</td>\n",
       "      <td>NGS5774-1</td>\n",
       "    </tr>\n",
       "    <tr>\n",
       "      <th>...</th>\n",
       "      <td>...</td>\n",
       "      <td>...</td>\n",
       "      <td>...</td>\n",
       "      <td>...</td>\n",
       "      <td>...</td>\n",
       "      <td>...</td>\n",
       "      <td>...</td>\n",
       "      <td>...</td>\n",
       "      <td>...</td>\n",
       "      <td>...</td>\n",
       "      <td>...</td>\n",
       "      <td>...</td>\n",
       "      <td>...</td>\n",
       "      <td>...</td>\n",
       "      <td>...</td>\n",
       "      <td>...</td>\n",
       "      <td>...</td>\n",
       "      <td>...</td>\n",
       "      <td>...</td>\n",
       "      <td>...</td>\n",
       "      <td>...</td>\n",
       "    </tr>\n",
       "    <tr>\n",
       "      <th>SAM24449110_rep24-TTTGTTGAGTAATCCC</th>\n",
       "      <td>SAM24449110</td>\n",
       "      <td>TTTGTTGAGTAATCCC</td>\n",
       "      <td>singlet</td>\n",
       "      <td>NTC_239</td>\n",
       "      <td>singlet</td>\n",
       "      <td>SAM24439043</td>\n",
       "      <td>DLD1</td>\n",
       "      <td>day5</td>\n",
       "      <td>HTO-2</td>\n",
       "      <td>NGS5702</td>\n",
       "      <td>...</td>\n",
       "      <td>263</td>\n",
       "      <td>3.049629</td>\n",
       "      <td>1614</td>\n",
       "      <td>18.715213</td>\n",
       "      <td>True</td>\n",
       "      <td>-0.497066</td>\n",
       "      <td>0.122642</td>\n",
       "      <td>G2M</td>\n",
       "      <td>Untreatedclus_DLD1</td>\n",
       "      <td>NGS5702-24</td>\n",
       "    </tr>\n",
       "    <tr>\n",
       "      <th>SAM24449110_rep24-TTTGTTGCAGCGATTT</th>\n",
       "      <td>SAM24449110</td>\n",
       "      <td>TTTGTTGCAGCGATTT</td>\n",
       "      <td>singlet</td>\n",
       "      <td>NTC_474</td>\n",
       "      <td>singlet</td>\n",
       "      <td>SAM24439043</td>\n",
       "      <td>DLD1</td>\n",
       "      <td>day5</td>\n",
       "      <td>HTO-12</td>\n",
       "      <td>NGS5702</td>\n",
       "      <td>...</td>\n",
       "      <td>133</td>\n",
       "      <td>2.817200</td>\n",
       "      <td>1209</td>\n",
       "      <td>25.608981</td>\n",
       "      <td>True</td>\n",
       "      <td>-0.350793</td>\n",
       "      <td>-0.313417</td>\n",
       "      <td>G1</td>\n",
       "      <td>Untreatedclus_DLD1</td>\n",
       "      <td>NGS5702-24</td>\n",
       "    </tr>\n",
       "    <tr>\n",
       "      <th>SAM24449110_rep24-TTTGTTGGTTCGTACA</th>\n",
       "      <td>SAM24449110</td>\n",
       "      <td>TTTGTTGGTTCGTACA</td>\n",
       "      <td>singlet</td>\n",
       "      <td>ENSG00000211805_3</td>\n",
       "      <td>singlet</td>\n",
       "      <td>SAM24439043</td>\n",
       "      <td>DLD1</td>\n",
       "      <td>day5</td>\n",
       "      <td>HTO-11</td>\n",
       "      <td>NGS5702</td>\n",
       "      <td>...</td>\n",
       "      <td>122</td>\n",
       "      <td>1.446526</td>\n",
       "      <td>1464</td>\n",
       "      <td>17.358312</td>\n",
       "      <td>True</td>\n",
       "      <td>-0.273527</td>\n",
       "      <td>0.614605</td>\n",
       "      <td>G2M</td>\n",
       "      <td>Untreatedclus_DLD1</td>\n",
       "      <td>NGS5702-24</td>\n",
       "    </tr>\n",
       "    <tr>\n",
       "      <th>SAM24449110_rep24-TTTGTTGTCGTCGCTT</th>\n",
       "      <td>SAM24449110</td>\n",
       "      <td>TTTGTTGTCGTCGCTT</td>\n",
       "      <td>singlet</td>\n",
       "      <td>ENSG00000010256_1</td>\n",
       "      <td>singlet</td>\n",
       "      <td>SAM24439045</td>\n",
       "      <td>DLD1</td>\n",
       "      <td>day5</td>\n",
       "      <td>HTO-18</td>\n",
       "      <td>NGS5702</td>\n",
       "      <td>...</td>\n",
       "      <td>267</td>\n",
       "      <td>4.862502</td>\n",
       "      <td>900</td>\n",
       "      <td>16.390457</td>\n",
       "      <td>True</td>\n",
       "      <td>-0.333080</td>\n",
       "      <td>-0.025332</td>\n",
       "      <td>G1</td>\n",
       "      <td>Untreatedclus_DLD1</td>\n",
       "      <td>NGS5702-24</td>\n",
       "    </tr>\n",
       "    <tr>\n",
       "      <th>SAM24449110_rep24-TTTGTTGTCTTAGGAC</th>\n",
       "      <td>SAM24449110</td>\n",
       "      <td>TTTGTTGTCTTAGGAC</td>\n",
       "      <td>singlet</td>\n",
       "      <td>ENSG00000286522_3</td>\n",
       "      <td>singlet</td>\n",
       "      <td>SAM24439044</td>\n",
       "      <td>DLD1</td>\n",
       "      <td>day5</td>\n",
       "      <td>HTO-14</td>\n",
       "      <td>NGS5702</td>\n",
       "      <td>...</td>\n",
       "      <td>476</td>\n",
       "      <td>4.554588</td>\n",
       "      <td>2053</td>\n",
       "      <td>19.644053</td>\n",
       "      <td>True</td>\n",
       "      <td>-0.759183</td>\n",
       "      <td>2.264500</td>\n",
       "      <td>G2M</td>\n",
       "      <td>Untreatedclus_DLD1</td>\n",
       "      <td>NGS5702-24</td>\n",
       "    </tr>\n",
       "  </tbody>\n",
       "</table>\n",
       "<p>135127 rows × 28 columns</p>\n",
       "</div>"
      ],
      "text/plain": [
       "                                         Sample           Barcode  \\\n",
       "SAM24451293_rep1-AAACCCAAGACAGTCG   SAM24451293  AAACCCAAGACAGTCG   \n",
       "SAM24451293_rep1-AAACCCATCTGTCGTC   SAM24451293  AAACCCATCTGTCGTC   \n",
       "SAM24451293_rep1-AAACGAAAGACGTCGA   SAM24451293  AAACGAAAGACGTCGA   \n",
       "SAM24451293_rep1-AAACGAACATCCAATG   SAM24451293  AAACGAACATCCAATG   \n",
       "SAM24451293_rep1-AAACGAACATGACGAG   SAM24451293  AAACGAACATGACGAG   \n",
       "...                                         ...               ...   \n",
       "SAM24449110_rep24-TTTGTTGAGTAATCCC  SAM24449110  TTTGTTGAGTAATCCC   \n",
       "SAM24449110_rep24-TTTGTTGCAGCGATTT  SAM24449110  TTTGTTGCAGCGATTT   \n",
       "SAM24449110_rep24-TTTGTTGGTTCGTACA  SAM24449110  TTTGTTGGTTCGTACA   \n",
       "SAM24449110_rep24-TTTGTTGTCGTCGCTT  SAM24449110  TTTGTTGTCGTCGCTT   \n",
       "SAM24449110_rep24-TTTGTTGTCTTAGGAC  SAM24449110  TTTGTTGTCTTAGGAC   \n",
       "\n",
       "                                   DemuxType_crispr DemuxAssignment_crispr  \\\n",
       "SAM24451293_rep1-AAACCCAAGACAGTCG           singlet      ENSG00000171017_3   \n",
       "SAM24451293_rep1-AAACCCATCTGTCGTC           singlet      ENSG00000087111_4   \n",
       "SAM24451293_rep1-AAACGAAAGACGTCGA           singlet      ENSG00000109787_4   \n",
       "SAM24451293_rep1-AAACGAACATCCAATG           singlet      ENSG00000161594_1   \n",
       "SAM24451293_rep1-AAACGAACATGACGAG           singlet      ENSG00000121104_1   \n",
       "...                                             ...                    ...   \n",
       "SAM24449110_rep24-TTTGTTGAGTAATCCC          singlet                NTC_239   \n",
       "SAM24449110_rep24-TTTGTTGCAGCGATTT          singlet                NTC_474   \n",
       "SAM24449110_rep24-TTTGTTGGTTCGTACA          singlet      ENSG00000211805_3   \n",
       "SAM24449110_rep24-TTTGTTGTCGTCGCTT          singlet      ENSG00000010256_1   \n",
       "SAM24449110_rep24-TTTGTTGTCTTAGGAC          singlet      ENSG00000286522_3   \n",
       "\n",
       "                                   DemuxType_hashing DemuxAssignment_hashing  \\\n",
       "SAM24451293_rep1-AAACCCAAGACAGTCG            singlet             SAM24439045   \n",
       "SAM24451293_rep1-AAACCCATCTGTCGTC            singlet             SAM24439045   \n",
       "SAM24451293_rep1-AAACGAAAGACGTCGA            singlet             SAM24439044   \n",
       "SAM24451293_rep1-AAACGAACATCCAATG            singlet             SAM24439043   \n",
       "SAM24451293_rep1-AAACGAACATGACGAG            singlet             SAM24439044   \n",
       "...                                              ...                     ...   \n",
       "SAM24449110_rep24-TTTGTTGAGTAATCCC           singlet             SAM24439043   \n",
       "SAM24449110_rep24-TTTGTTGCAGCGATTT           singlet             SAM24439043   \n",
       "SAM24449110_rep24-TTTGTTGGTTCGTACA           singlet             SAM24439043   \n",
       "SAM24449110_rep24-TTTGTTGTCGTCGCTT           singlet             SAM24439045   \n",
       "SAM24449110_rep24-TTTGTTGTCTTAGGAC           singlet             SAM24439044   \n",
       "\n",
       "                                   cellline timepoint     HTO   NGS_ID  ...  \\\n",
       "SAM24451293_rep1-AAACCCAAGACAGTCG      DLD1      day5  HTO-18  NGS5774  ...   \n",
       "SAM24451293_rep1-AAACCCATCTGTCGTC      DLD1      day5  HTO-18  NGS5774  ...   \n",
       "SAM24451293_rep1-AAACGAAAGACGTCGA      DLD1      day5  HTO-15  NGS5774  ...   \n",
       "SAM24451293_rep1-AAACGAACATCCAATG      DLD1      day5   HTO-2  NGS5774  ...   \n",
       "SAM24451293_rep1-AAACGAACATGACGAG      DLD1      day5   HTO-4  NGS5774  ...   \n",
       "...                                     ...       ...     ...      ...  ...   \n",
       "SAM24449110_rep24-TTTGTTGAGTAATCCC     DLD1      day5   HTO-2  NGS5702  ...   \n",
       "SAM24449110_rep24-TTTGTTGCAGCGATTT     DLD1      day5  HTO-12  NGS5702  ...   \n",
       "SAM24449110_rep24-TTTGTTGGTTCGTACA     DLD1      day5  HTO-11  NGS5702  ...   \n",
       "SAM24449110_rep24-TTTGTTGTCGTCGCTT     DLD1      day5  HTO-18  NGS5702  ...   \n",
       "SAM24449110_rep24-TTTGTTGTCTTAGGAC     DLD1      day5  HTO-14  NGS5702  ...   \n",
       "\n",
       "                                   total_counts_mt pct_counts_mt  \\\n",
       "SAM24451293_rep1-AAACCCAAGACAGTCG              618      6.336512   \n",
       "SAM24451293_rep1-AAACCCATCTGTCGTC              196      1.763859   \n",
       "SAM24451293_rep1-AAACGAAAGACGTCGA              486      2.926301   \n",
       "SAM24451293_rep1-AAACGAACATCCAATG              531      3.670676   \n",
       "SAM24451293_rep1-AAACGAACATGACGAG               93      1.310044   \n",
       "...                                            ...           ...   \n",
       "SAM24449110_rep24-TTTGTTGAGTAATCCC             263      3.049629   \n",
       "SAM24449110_rep24-TTTGTTGCAGCGATTT             133      2.817200   \n",
       "SAM24449110_rep24-TTTGTTGGTTCGTACA             122      1.446526   \n",
       "SAM24449110_rep24-TTTGTTGTCGTCGCTT             267      4.862502   \n",
       "SAM24449110_rep24-TTTGTTGTCTTAGGAC             476      4.554588   \n",
       "\n",
       "                                   total_counts_ribo pct_counts_ribo qc_pass  \\\n",
       "SAM24451293_rep1-AAACCCAAGACAGTCG               2152       22.065006    True   \n",
       "SAM24451293_rep1-AAACCCATCTGTCGTC               2183       19.645428    True   \n",
       "SAM24451293_rep1-AAACGAAAGACGTCGA               3141       18.912572    True   \n",
       "SAM24451293_rep1-AAACGAACATCCAATG               2377       16.431633    True   \n",
       "SAM24451293_rep1-AAACGAACATGACGAG               1364       19.213974    True   \n",
       "...                                              ...             ...     ...   \n",
       "SAM24449110_rep24-TTTGTTGAGTAATCCC              1614       18.715213    True   \n",
       "SAM24449110_rep24-TTTGTTGCAGCGATTT              1209       25.608981    True   \n",
       "SAM24449110_rep24-TTTGTTGGTTCGTACA              1464       17.358312    True   \n",
       "SAM24449110_rep24-TTTGTTGTCGTCGCTT               900       16.390457    True   \n",
       "SAM24449110_rep24-TTTGTTGTCTTAGGAC              2053       19.644053    True   \n",
       "\n",
       "                                     S_score  G2M_score  phase  \\\n",
       "SAM24451293_rep1-AAACCCAAGACAGTCG  -0.493023   0.231481    G2M   \n",
       "SAM24451293_rep1-AAACCCATCTGTCGTC   0.246512  -0.306254      S   \n",
       "SAM24451293_rep1-AAACGAAAGACGTCGA  -0.641860   0.433263    G2M   \n",
       "SAM24451293_rep1-AAACGAACATCCAATG  -0.051163   0.242662    G2M   \n",
       "SAM24451293_rep1-AAACGAACATGACGAG  -0.451163  -0.265549     G1   \n",
       "...                                      ...        ...    ...   \n",
       "SAM24449110_rep24-TTTGTTGAGTAATCCC -0.497066   0.122642    G2M   \n",
       "SAM24449110_rep24-TTTGTTGCAGCGATTT -0.350793  -0.313417     G1   \n",
       "SAM24449110_rep24-TTTGTTGGTTCGTACA -0.273527   0.614605    G2M   \n",
       "SAM24449110_rep24-TTTGTTGTCGTCGCTT -0.333080  -0.025332     G1   \n",
       "SAM24449110_rep24-TTTGTTGTCTTAGGAC -0.759183   2.264500    G2M   \n",
       "\n",
       "                                             SCN_class         gem  \n",
       "SAM24451293_rep1-AAACCCAAGACAGTCG   Untreatedclus_DLD1   NGS5774-1  \n",
       "SAM24451293_rep1-AAACCCATCTGTCGTC   Untreatedclus_DLD1   NGS5774-1  \n",
       "SAM24451293_rep1-AAACGAAAGACGTCGA   Untreatedclus_DLD1   NGS5774-1  \n",
       "SAM24451293_rep1-AAACGAACATCCAATG   Untreatedclus_DLD1   NGS5774-1  \n",
       "SAM24451293_rep1-AAACGAACATGACGAG         DOXclus_DLD1   NGS5774-1  \n",
       "...                                                ...         ...  \n",
       "SAM24449110_rep24-TTTGTTGAGTAATCCC  Untreatedclus_DLD1  NGS5702-24  \n",
       "SAM24449110_rep24-TTTGTTGCAGCGATTT  Untreatedclus_DLD1  NGS5702-24  \n",
       "SAM24449110_rep24-TTTGTTGGTTCGTACA  Untreatedclus_DLD1  NGS5702-24  \n",
       "SAM24449110_rep24-TTTGTTGTCGTCGCTT  Untreatedclus_DLD1  NGS5702-24  \n",
       "SAM24449110_rep24-TTTGTTGTCTTAGGAC  Untreatedclus_DLD1  NGS5702-24  \n",
       "\n",
       "[135127 rows x 28 columns]"
      ]
     },
     "execution_count": 9,
     "metadata": {},
     "output_type": "execute_result"
    }
   ],
   "source": [
    "bdata.obs"
   ]
  },
  {
   "cell_type": "code",
   "execution_count": 10,
   "id": "b1e488a4",
   "metadata": {
    "execution": {
     "iopub.execute_input": "2024-08-14T19:00:44.959626Z",
     "iopub.status.busy": "2024-08-14T19:00:44.959402Z",
     "iopub.status.idle": "2024-08-14T19:01:06.856413Z",
     "shell.execute_reply": "2024-08-14T19:01:06.855285Z"
    },
    "papermill": {
     "duration": 21.914051,
     "end_time": "2024-08-14T19:01:06.859859",
     "exception": false,
     "start_time": "2024-08-14T19:00:44.945808",
     "status": "completed"
    },
    "tags": []
   },
   "outputs": [],
   "source": [
    "perturbations_key = \"gene_symbol\"\n",
    "gene_graph, gene_sets = mv.enrichr_to_gene_graph(\"./Templates/data/CORUM.txt\", np.array(bdata.obs[perturbations_key].values))"
   ]
  },
  {
   "cell_type": "code",
   "execution_count": 11,
   "id": "85154759",
   "metadata": {
    "execution": {
     "iopub.execute_input": "2024-08-14T19:01:06.893317Z",
     "iopub.status.busy": "2024-08-14T19:01:06.893084Z",
     "iopub.status.idle": "2024-08-14T19:01:09.787459Z",
     "shell.execute_reply": "2024-08-14T19:01:09.786365Z"
    },
    "papermill": {
     "duration": 2.911284,
     "end_time": "2024-08-14T19:01:09.790567",
     "exception": false,
     "start_time": "2024-08-14T19:01:06.879283",
     "status": "completed"
    },
    "tags": []
   },
   "outputs": [],
   "source": [
    "embeddings_obj = mv.AnnDataEmbeddings(bdata, embeddings_key, perturbations_key, \"Sample\", \"NTC\")\n",
    "perturbation_embeddings = embeddings_obj.get_embeddings_from_list(list(gene_graph), agg=True, centering = centering)"
   ]
  },
  {
   "cell_type": "code",
   "execution_count": 12,
   "id": "38d38100",
   "metadata": {
    "execution": {
     "iopub.execute_input": "2024-08-14T19:01:09.817742Z",
     "iopub.status.busy": "2024-08-14T19:01:09.817490Z",
     "iopub.status.idle": "2024-08-14T19:01:09.823879Z",
     "shell.execute_reply": "2024-08-14T19:01:09.822756Z"
    },
    "papermill": {
     "duration": 0.023066,
     "end_time": "2024-08-14T19:01:09.826767",
     "exception": false,
     "start_time": "2024-08-14T19:01:09.803701",
     "status": "completed"
    },
    "tags": []
   },
   "outputs": [
    {
     "data": {
      "text/plain": [
       "(215, 40)"
      ]
     },
     "execution_count": 12,
     "metadata": {},
     "output_type": "execute_result"
    }
   ],
   "source": [
    "perturbation_embeddings.shape"
   ]
  },
  {
   "cell_type": "code",
   "execution_count": 13,
   "id": "7ea5271f",
   "metadata": {
    "execution": {
     "iopub.execute_input": "2024-08-14T19:01:09.854240Z",
     "iopub.status.busy": "2024-08-14T19:01:09.853954Z",
     "iopub.status.idle": "2024-08-14T19:01:31.647365Z",
     "shell.execute_reply": "2024-08-14T19:01:31.646281Z"
    },
    "papermill": {
     "duration": 21.810397,
     "end_time": "2024-08-14T19:01:31.650425",
     "exception": false,
     "start_time": "2024-08-14T19:01:09.840028",
     "status": "completed"
    },
    "tags": []
   },
   "outputs": [
    {
     "name": "stdout",
     "output_type": "stream",
     "text": [
      "Performing Kolmogorov-Smirnov test on gene set cosine similarity..\n",
      "KS statistic: 0.2091346153846154, p-value: 2.2399462618795446e-08\n"
     ]
    },
    {
     "data": {
      "image/png": "[encoded data removed]",
      "text/plain": [
       "<Figure size 640x480 with 1 Axes>"
      ]
     },
     "metadata": {},
     "output_type": "display_data"
    },
    {
     "name": "stdout",
     "output_type": "stream",
     "text": [
      "Computing distance matrix for embeddings..\n",
      "Computing link prediction metrics for cutoff percentile=0%\n",
      "Computing link prediction metrics for cutoff percentile=1%\n"
     ]
    },
    {
     "name": "stdout",
     "output_type": "stream",
     "text": [
      "Computing link prediction metrics for cutoff percentile=2%\n",
      "Computing link prediction metrics for cutoff percentile=3%\n"
     ]
    },
    {
     "name": "stdout",
     "output_type": "stream",
     "text": [
      "Computing link prediction metrics for cutoff percentile=4%\n",
      "Computing link prediction metrics for cutoff percentile=5%\n"
     ]
    },
    {
     "name": "stdout",
     "output_type": "stream",
     "text": [
      "Computing link prediction metrics for cutoff percentile=6%\n",
      "Computing link prediction metrics for cutoff percentile=7%\n"
     ]
    },
    {
     "name": "stdout",
     "output_type": "stream",
     "text": [
      "Computing link prediction metrics for cutoff percentile=8%\n",
      "Computing link prediction metrics for cutoff percentile=9%\n"
     ]
    },
    {
     "name": "stdout",
     "output_type": "stream",
     "text": [
      "Computing link prediction metrics for cutoff percentile=10%\n",
      "Computing link prediction metrics for cutoff percentile=11%\n"
     ]
    },
    {
     "name": "stdout",
     "output_type": "stream",
     "text": [
      "Computing link prediction metrics for cutoff percentile=12%\n",
      "Computing link prediction metrics for cutoff percentile=13%\n"
     ]
    },
    {
     "name": "stdout",
     "output_type": "stream",
     "text": [
      "Computing link prediction metrics for cutoff percentile=14%\n",
      "Computing link prediction metrics for cutoff percentile=15%\n"
     ]
    },
    {
     "name": "stdout",
     "output_type": "stream",
     "text": [
      "Computing link prediction metrics for cutoff percentile=16%\n",
      "Computing link prediction metrics for cutoff percentile=17%\n"
     ]
    },
    {
     "name": "stdout",
     "output_type": "stream",
     "text": [
      "Computing link prediction metrics for cutoff percentile=18%\n",
      "Computing link prediction metrics for cutoff percentile=19%\n"
     ]
    },
    {
     "name": "stdout",
     "output_type": "stream",
     "text": [
      "Computing link prediction metrics for cutoff percentile=20%\n",
      "Computing link prediction metrics for cutoff percentile=21%\n"
     ]
    },
    {
     "name": "stdout",
     "output_type": "stream",
     "text": [
      "Computing link prediction metrics for cutoff percentile=22%\n",
      "Computing link prediction metrics for cutoff percentile=23%\n"
     ]
    },
    {
     "name": "stdout",
     "output_type": "stream",
     "text": [
      "Computing link prediction metrics for cutoff percentile=24%\n",
      "Computing link prediction metrics for cutoff percentile=25%\n"
     ]
    },
    {
     "name": "stdout",
     "output_type": "stream",
     "text": [
      "Computing link prediction metrics for cutoff percentile=26%\n",
      "Computing link prediction metrics for cutoff percentile=27%\n"
     ]
    },
    {
     "name": "stdout",
     "output_type": "stream",
     "text": [
      "Computing link prediction metrics for cutoff percentile=28%\n",
      "Computing link prediction metrics for cutoff percentile=29%\n"
     ]
    },
    {
     "name": "stdout",
     "output_type": "stream",
     "text": [
      "Computing link prediction metrics for cutoff percentile=30%\n"
     ]
    },
    {
     "name": "stdout",
     "output_type": "stream",
     "text": [
      "Computing link prediction metrics for cutoff percentile=31%\n"
     ]
    },
    {
     "name": "stdout",
     "output_type": "stream",
     "text": [
      "Computing link prediction metrics for cutoff percentile=32%\n"
     ]
    },
    {
     "name": "stdout",
     "output_type": "stream",
     "text": [
      "Computing link prediction metrics for cutoff percentile=33%\n"
     ]
    },
    {
     "name": "stdout",
     "output_type": "stream",
     "text": [
      "Computing link prediction metrics for cutoff percentile=34%\n"
     ]
    },
    {
     "name": "stdout",
     "output_type": "stream",
     "text": [
      "Computing link prediction metrics for cutoff percentile=35%\n"
     ]
    },
    {
     "name": "stdout",
     "output_type": "stream",
     "text": [
      "Computing link prediction metrics for cutoff percentile=36%\n"
     ]
    },
    {
     "name": "stdout",
     "output_type": "stream",
     "text": [
      "Computing link prediction metrics for cutoff percentile=37%\n"
     ]
    },
    {
     "name": "stdout",
     "output_type": "stream",
     "text": [
      "Computing link prediction metrics for cutoff percentile=38%\n"
     ]
    },
    {
     "name": "stdout",
     "output_type": "stream",
     "text": [
      "Computing link prediction metrics for cutoff percentile=39%\n"
     ]
    },
    {
     "name": "stdout",
     "output_type": "stream",
     "text": [
      "Computing link prediction metrics for cutoff percentile=40%\n"
     ]
    },
    {
     "name": "stdout",
     "output_type": "stream",
     "text": [
      "Computing link prediction metrics for cutoff percentile=41%\n",
      "Computing link prediction metrics for cutoff percentile=42%\n"
     ]
    },
    {
     "name": "stdout",
     "output_type": "stream",
     "text": [
      "Computing link prediction metrics for cutoff percentile=43%\n",
      "Computing link prediction metrics for cutoff percentile=44%\n"
     ]
    },
    {
     "name": "stdout",
     "output_type": "stream",
     "text": [
      "Computing link prediction metrics for cutoff percentile=45%\n",
      "Computing link prediction metrics for cutoff percentile=46%\n"
     ]
    },
    {
     "name": "stdout",
     "output_type": "stream",
     "text": [
      "Computing link prediction metrics for cutoff percentile=47%\n",
      "Computing link prediction metrics for cutoff percentile=48%\n"
     ]
    },
    {
     "name": "stdout",
     "output_type": "stream",
     "text": [
      "Computing link prediction metrics for cutoff percentile=49%\n",
      "Computing link prediction metrics for cutoff percentile=50%\n"
     ]
    },
    {
     "name": "stdout",
     "output_type": "stream",
     "text": [
      "Computing link prediction metrics for cutoff percentile=51%\n",
      "Computing link prediction metrics for cutoff percentile=52%\n"
     ]
    },
    {
     "name": "stdout",
     "output_type": "stream",
     "text": [
      "Computing link prediction metrics for cutoff percentile=53%\n",
      "Computing link prediction metrics for cutoff percentile=54%\n"
     ]
    },
    {
     "name": "stdout",
     "output_type": "stream",
     "text": [
      "Computing link prediction metrics for cutoff percentile=55%\n",
      "Computing link prediction metrics for cutoff percentile=56%\n"
     ]
    },
    {
     "name": "stdout",
     "output_type": "stream",
     "text": [
      "Computing link prediction metrics for cutoff percentile=57%\n",
      "Computing link prediction metrics for cutoff percentile=58%\n"
     ]
    },
    {
     "name": "stdout",
     "output_type": "stream",
     "text": [
      "Computing link prediction metrics for cutoff percentile=59%\n",
      "Computing link prediction metrics for cutoff percentile=60%\n"
     ]
    },
    {
     "name": "stdout",
     "output_type": "stream",
     "text": [
      "Computing link prediction metrics for cutoff percentile=61%\n",
      "Computing link prediction metrics for cutoff percentile=62%\n"
     ]
    },
    {
     "name": "stdout",
     "output_type": "stream",
     "text": [
      "Computing link prediction metrics for cutoff percentile=63%\n",
      "Computing link prediction metrics for cutoff percentile=64%\n"
     ]
    },
    {
     "name": "stdout",
     "output_type": "stream",
     "text": [
      "Computing link prediction metrics for cutoff percentile=65%\n",
      "Computing link prediction metrics for cutoff percentile=66%\n"
     ]
    },
    {
     "name": "stdout",
     "output_type": "stream",
     "text": [
      "Computing link prediction metrics for cutoff percentile=67%\n",
      "Computing link prediction metrics for cutoff percentile=68%\n"
     ]
    },
    {
     "name": "stdout",
     "output_type": "stream",
     "text": [
      "Computing link prediction metrics for cutoff percentile=69%\n",
      "Computing link prediction metrics for cutoff percentile=70%\n"
     ]
    },
    {
     "name": "stdout",
     "output_type": "stream",
     "text": [
      "Computing link prediction metrics for cutoff percentile=71%\n",
      "Computing link prediction metrics for cutoff percentile=72%\n"
     ]
    },
    {
     "name": "stdout",
     "output_type": "stream",
     "text": [
      "Computing link prediction metrics for cutoff percentile=73%\n",
      "Computing link prediction metrics for cutoff percentile=74%\n"
     ]
    },
    {
     "name": "stdout",
     "output_type": "stream",
     "text": [
      "Computing link prediction metrics for cutoff percentile=75%\n",
      "Computing link prediction metrics for cutoff percentile=76%\n"
     ]
    },
    {
     "name": "stdout",
     "output_type": "stream",
     "text": [
      "Computing link prediction metrics for cutoff percentile=77%\n"
     ]
    },
    {
     "name": "stdout",
     "output_type": "stream",
     "text": [
      "Computing link prediction metrics for cutoff percentile=78%\n"
     ]
    },
    {
     "name": "stdout",
     "output_type": "stream",
     "text": [
      "Computing link prediction metrics for cutoff percentile=79%\n"
     ]
    },
    {
     "name": "stdout",
     "output_type": "stream",
     "text": [
      "Computing link prediction metrics for cutoff percentile=80%\n"
     ]
    },
    {
     "name": "stdout",
     "output_type": "stream",
     "text": [
      "Computing link prediction metrics for cutoff percentile=81%\n"
     ]
    },
    {
     "name": "stdout",
     "output_type": "stream",
     "text": [
      "Computing link prediction metrics for cutoff percentile=82%\n"
     ]
    },
    {
     "name": "stdout",
     "output_type": "stream",
     "text": [
      "Computing link prediction metrics for cutoff percentile=83%\n"
     ]
    },
    {
     "name": "stdout",
     "output_type": "stream",
     "text": [
      "Computing link prediction metrics for cutoff percentile=84%\n"
     ]
    },
    {
     "name": "stdout",
     "output_type": "stream",
     "text": [
      "Computing link prediction metrics for cutoff percentile=85%\n"
     ]
    },
    {
     "name": "stdout",
     "output_type": "stream",
     "text": [
      "Computing link prediction metrics for cutoff percentile=86%\n"
     ]
    },
    {
     "name": "stdout",
     "output_type": "stream",
     "text": [
      "Computing link prediction metrics for cutoff percentile=87%\n"
     ]
    },
    {
     "name": "stdout",
     "output_type": "stream",
     "text": [
      "Computing link prediction metrics for cutoff percentile=88%\n",
      "Computing link prediction metrics for cutoff percentile=89%\n"
     ]
    },
    {
     "name": "stdout",
     "output_type": "stream",
     "text": [
      "Computing link prediction metrics for cutoff percentile=90%\n",
      "Computing link prediction metrics for cutoff percentile=91%\n"
     ]
    },
    {
     "name": "stdout",
     "output_type": "stream",
     "text": [
      "Computing link prediction metrics for cutoff percentile=92%\n",
      "Computing link prediction metrics for cutoff percentile=93%\n"
     ]
    },
    {
     "name": "stdout",
     "output_type": "stream",
     "text": [
      "Computing link prediction metrics for cutoff percentile=94%\n",
      "Computing link prediction metrics for cutoff percentile=95%\n"
     ]
    },
    {
     "name": "stdout",
     "output_type": "stream",
     "text": [
      "Computing link prediction metrics for cutoff percentile=96%\n",
      "Computing link prediction metrics for cutoff percentile=97%\n"
     ]
    },
    {
     "name": "stdout",
     "output_type": "stream",
     "text": [
      "Computing link prediction metrics for cutoff percentile=98%\n",
      "Computing link prediction metrics for cutoff percentile=99%\n"
     ]
    },
    {
     "name": "stdout",
     "output_type": "stream",
     "text": [
      "Finished prediction sweep over percentiles.\n"
     ]
    }
   ],
   "source": [
    "# needs to be cached in embeddings_obj\n",
    "report = mv.evaluate(perturbation_embeddings, gene_graph, gene_sets, percentile_range=[0, 100])"
   ]
  },
  {
   "cell_type": "code",
   "execution_count": 14,
   "id": "27b4b03d",
   "metadata": {
    "execution": {
     "iopub.execute_input": "2024-08-14T19:01:31.698067Z",
     "iopub.status.busy": "2024-08-14T19:01:31.697818Z",
     "iopub.status.idle": "2024-08-14T19:01:31.703806Z",
     "shell.execute_reply": "2024-08-14T19:01:31.702769Z"
    },
    "papermill": {
     "duration": 0.031488,
     "end_time": "2024-08-14T19:01:31.706819",
     "exception": false,
     "start_time": "2024-08-14T19:01:31.675331",
     "status": "completed"
    },
    "tags": []
   },
   "outputs": [],
   "source": [
    "recalls = [report[\"metrics_by_percentile\"][i][\"recall\"] for i in report[\"metrics_by_percentile\"]]\n",
    "precisions = [report[\"metrics_by_percentile\"][i][\"precision\"] for i in report[\"metrics_by_percentile\"]]\n",
    "tprs = [report[\"metrics_by_percentile\"][i][\"TPR\"] for i in report[\"metrics_by_percentile\"]]\n",
    "fprs = [report[\"metrics_by_percentile\"][i][\"FPR\"] for i in report[\"metrics_by_percentile\"]]"
   ]
  },
  {
   "cell_type": "code",
   "execution_count": 15,
   "id": "304d2617-8de2-4250-b689-3815bd375f4f",
   "metadata": {
    "execution": {
     "iopub.execute_input": "2024-08-14T19:01:31.750608Z",
     "iopub.status.busy": "2024-08-14T19:01:31.750307Z",
     "iopub.status.idle": "2024-08-14T19:01:31.756608Z",
     "shell.execute_reply": "2024-08-14T19:01:31.755688Z"
    },
    "papermill": {
     "duration": 0.031299,
     "end_time": "2024-08-14T19:01:31.759562",
     "exception": false,
     "start_time": "2024-08-14T19:01:31.728263",
     "status": "completed"
    },
    "tags": []
   },
   "outputs": [
    {
     "data": {
      "text/plain": [
       "{'recall': 0.43522727272727274,\n",
       " 'precision': 0.17369614512471657,\n",
       " 'f1_score': 0.24829821717990277,\n",
       " 'TPR': 0.43522727272727274,\n",
       " 'FPR': 0.08235028248587573}"
      ]
     },
     "execution_count": 15,
     "metadata": {},
     "output_type": "execute_result"
    }
   ],
   "source": [
    "report[\"metrics_by_percentile\"][95]"
   ]
  },
  {
   "cell_type": "code",
   "execution_count": 16,
   "id": "9741cf68-8040-4fbe-b0e8-151b87fd5a08",
   "metadata": {
    "execution": {
     "iopub.execute_input": "2024-08-14T19:01:31.804224Z",
     "iopub.status.busy": "2024-08-14T19:01:31.803913Z",
     "iopub.status.idle": "2024-08-14T19:01:31.810055Z",
     "shell.execute_reply": "2024-08-14T19:01:31.808991Z"
    },
    "papermill": {
     "duration": 0.031507,
     "end_time": "2024-08-14T19:01:31.813068",
     "exception": false,
     "start_time": "2024-08-14T19:01:31.781561",
     "status": "completed"
    },
    "tags": []
   },
   "outputs": [
    {
     "data": {
      "text/plain": [
       "{'recall': 0.6034090909090909,\n",
       " 'precision': 0.11758193091231178,\n",
       " 'f1_score': 0.19681245366938474,\n",
       " 'TPR': 0.6034090909090909,\n",
       " 'FPR': 0.1801129943502825}"
      ]
     },
     "execution_count": 16,
     "metadata": {},
     "output_type": "execute_result"
    }
   ],
   "source": [
    "report[\"metrics_by_percentile\"][90]"
   ]
  },
  {
   "cell_type": "code",
   "execution_count": 17,
   "id": "da7b6945",
   "metadata": {
    "execution": {
     "iopub.execute_input": "2024-08-14T19:01:31.858037Z",
     "iopub.status.busy": "2024-08-14T19:01:31.857738Z",
     "iopub.status.idle": "2024-08-14T19:01:32.492421Z",
     "shell.execute_reply": "2024-08-14T19:01:32.491447Z"
    },
    "papermill": {
     "duration": 0.660954,
     "end_time": "2024-08-14T19:01:32.496024",
     "exception": false,
     "start_time": "2024-08-14T19:01:31.835070",
     "status": "completed"
    },
    "tags": []
   },
   "outputs": [
    {
     "data": {
      "image/png": "[encoded data removed]",
      "text/plain": [
       "<Figure size 640x480 with 1 Axes>"
      ]
     },
     "metadata": {},
     "output_type": "display_data"
    }
   ],
   "source": [
    "# put plots in a plotting module file\n",
    "# plots should be generated from embeddings_obj or report\n",
    "plt.plot(recalls, precisions)\n",
    "sns.set_color_codes(\"pastel\")\n",
    "sns.set_theme()\n",
    "plt.xlabel(\"Recall\")\n",
    "plt.ylabel(\"Precision\")\n",
    "plt.title(\"Precision-Recall Curve on CORUM using scVI - DLDL1\")\n",
    "plt.show()"
   ]
  },
  {
   "cell_type": "code",
   "execution_count": 18,
   "id": "8eaba8e9",
   "metadata": {
    "execution": {
     "iopub.execute_input": "2024-08-14T19:01:32.544783Z",
     "iopub.status.busy": "2024-08-14T19:01:32.544488Z",
     "iopub.status.idle": "2024-08-14T19:01:32.777828Z",
     "shell.execute_reply": "2024-08-14T19:01:32.776884Z"
    },
    "papermill": {
     "duration": 0.260567,
     "end_time": "2024-08-14T19:01:32.781006",
     "exception": false,
     "start_time": "2024-08-14T19:01:32.520439",
     "status": "completed"
    },
    "tags": []
   },
   "outputs": [
    {
     "data": {
      "image/png": "[encoded data removed]",
      "text/plain": [
       "<Figure size 640x480 with 1 Axes>"
      ]
     },
     "metadata": {},
     "output_type": "display_data"
    }
   ],
   "source": [
    "plt.plot(fprs, tprs)\n",
    "plt.xlabel(\"False Positive Rate\")\n",
    "plt.ylabel(\"True Positive Rate\")\n",
    "plt.title(\"auROC Curve on CORUM using scVI - DLDL1\")\n",
    "plt.show()"
   ]
  },
  {
   "cell_type": "markdown",
   "id": "27c799e7-40bd-4c6a-9c11-eb14a9f17c00",
   "metadata": {
    "papermill": {
     "duration": 0.023708,
     "end_time": "2024-08-14T19:01:32.830293",
     "exception": false,
     "start_time": "2024-08-14T19:01:32.806585",
     "status": "completed"
    },
    "tags": []
   },
   "source": [
    "## Update the annadata object and write out the output"
   ]
  },
  {
   "cell_type": "code",
   "execution_count": 19,
   "id": "6ba7c857-ef85-4321-9e7d-712d3d196bb6",
   "metadata": {
    "execution": {
     "iopub.execute_input": "2024-08-14T19:01:32.879625Z",
     "iopub.status.busy": "2024-08-14T19:01:32.879362Z",
     "iopub.status.idle": "2024-08-14T19:01:32.884415Z",
     "shell.execute_reply": "2024-08-14T19:01:32.883300Z"
    },
    "papermill": {
     "duration": 0.032932,
     "end_time": "2024-08-14T19:01:32.887259",
     "exception": false,
     "start_time": "2024-08-14T19:01:32.854327",
     "status": "completed"
    },
    "tags": []
   },
   "outputs": [],
   "source": [
    "if \"multivariate_report\" not in bdata.uns:\n",
    "    bdata.uns[\"multivariate_report\"]={}"
   ]
  },
  {
   "cell_type": "code",
   "execution_count": 20,
   "id": "51f62080-fee8-49be-9e00-56b11d5221ce",
   "metadata": {
    "execution": {
     "iopub.execute_input": "2024-08-14T19:01:32.944685Z",
     "iopub.status.busy": "2024-08-14T19:01:32.944406Z",
     "iopub.status.idle": "2024-08-14T19:01:32.950907Z",
     "shell.execute_reply": "2024-08-14T19:01:32.949757Z"
    },
    "papermill": {
     "duration": 0.036403,
     "end_time": "2024-08-14T19:01:32.954140",
     "exception": false,
     "start_time": "2024-08-14T19:01:32.917737",
     "status": "completed"
    },
    "tags": []
   },
   "outputs": [],
   "source": [
    "if transcriptoprint==True:\n",
    "    bdata.uns[\"multivariate_report\"][key_uns][\"transcriptoprint\"] = {\"roc_auc\": report[\"roc_auc\"], \"auprc\": report[\"auprc\"], \n",
    "                                    \"95percentile\":report[\"metrics_by_percentile\"][95], \"90percentile\":report[\"metrics_by_percentile\"][90]}\n",
    "else:\n",
    "    bdata.uns[\"multivariate_report\"][key_uns] = {\"roc_auc\": report[\"roc_auc\"], \"auprc\": report[\"auprc\"], \n",
    "                                    \"95percentile\":report[\"metrics_by_percentile\"][95], \"90percentile\":report[\"metrics_by_percentile\"][90]}"
   ]
  },
  {
   "cell_type": "code",
   "execution_count": 21,
   "id": "8609253a-8d80-45ea-95f7-cab05fd32f20",
   "metadata": {
    "execution": {
     "iopub.execute_input": "2024-08-14T19:01:33.003989Z",
     "iopub.status.busy": "2024-08-14T19:01:33.003686Z",
     "iopub.status.idle": "2024-08-14T19:01:33.384224Z",
     "shell.execute_reply": "2024-08-14T19:01:33.383081Z"
    },
    "papermill": {
     "duration": 0.408916,
     "end_time": "2024-08-14T19:01:33.387205",
     "exception": false,
     "start_time": "2024-08-14T19:01:32.978289",
     "status": "completed"
    },
    "tags": []
   },
   "outputs": [],
   "source": [
    "adata.uns = bdata.uns.copy()"
   ]
  },
  {
   "cell_type": "code",
   "execution_count": 22,
   "id": "a97a34df",
   "metadata": {
    "execution": {
     "iopub.execute_input": "2024-08-14T19:01:33.439307Z",
     "iopub.status.busy": "2024-08-14T19:01:33.439018Z",
     "iopub.status.idle": "2024-08-14T19:03:02.216482Z",
     "shell.execute_reply": "2024-08-14T19:03:02.215343Z"
    },
    "papermill": {
     "duration": 88.807192,
     "end_time": "2024-08-14T19:03:02.219927",
     "exception": false,
     "start_time": "2024-08-14T19:01:33.412735",
     "status": "completed"
    },
    "tags": []
   },
   "outputs": [],
   "source": [
    "adata.write_h5ad(MV_file)"
   ]
  },
  {
   "cell_type": "code",
   "execution_count": 23,
   "id": "b5be6b23-cbd7-44b2-94fe-6500f9569b73",
   "metadata": {
    "execution": {
     "iopub.execute_input": "2024-08-14T19:03:02.275777Z",
     "iopub.status.busy": "2024-08-14T19:03:02.275544Z",
     "iopub.status.idle": "2024-08-14T19:03:02.282582Z",
     "shell.execute_reply": "2024-08-14T19:03:02.281683Z"
    },
    "papermill": {
     "duration": 0.036829,
     "end_time": "2024-08-14T19:03:02.286891",
     "exception": false,
     "start_time": "2024-08-14T19:03:02.250062",
     "status": "completed"
    },
    "tags": []
   },
   "outputs": [
    {
     "data": {
      "text/plain": [
       "{'90percentile': {'FPR': 0.1934210785958127,\n",
       "  'TPR': 0.5287745429925524,\n",
       "  'f1_score': 0.07144817491537829,\n",
       "  'precision': 0.038312484670100566,\n",
       "  'recall': 0.5287745429925524},\n",
       " '95percentile': {'FPR': 0.09320796416520316,\n",
       "  'TPR': 0.4278943805010156,\n",
       "  'f1_score': 0.109380408445829,\n",
       "  'precision': 0.06270463339617026,\n",
       "  'recall': 0.4278943805010156},\n",
       " 'auprc': 0.038053632142551426,\n",
       " 'roc_auc': 0.699708689770434,\n",
       " 'transcriptoprint': {'roc_auc': 0.7633793785310735,\n",
       "  'auprc': 0.12706622010691354,\n",
       "  '95percentile': {'recall': 0.43522727272727274,\n",
       "   'precision': 0.17369614512471657,\n",
       "   'f1_score': 0.24829821717990277,\n",
       "   'TPR': 0.43522727272727274,\n",
       "   'FPR': 0.08235028248587573},\n",
       "  '90percentile': {'recall': 0.6034090909090909,\n",
       "   'precision': 0.11758193091231178,\n",
       "   'f1_score': 0.19681245366938474,\n",
       "   'TPR': 0.6034090909090909,\n",
       "   'FPR': 0.1801129943502825}}}"
      ]
     },
     "execution_count": 23,
     "metadata": {},
     "output_type": "execute_result"
    }
   ],
   "source": [
    "adata.uns['multivariate_report'][key_uns]"
   ]
  },
  {
   "cell_type": "markdown",
   "id": "93b17b35-7184-41c2-b142-445af994b1bc",
   "metadata": {
    "papermill": {
     "duration": 0.024724,
     "end_time": "2024-08-14T19:03:02.337106",
     "exception": false,
     "start_time": "2024-08-14T19:03:02.312382",
     "status": "completed"
    },
    "tags": []
   },
   "source": [
    "## Data Tabulation"
   ]
  },
  {
   "cell_type": "code",
   "execution_count": 24,
   "id": "7f089048-6324-423e-a4e4-5916c66d98e1",
   "metadata": {
    "execution": {
     "iopub.execute_input": "2024-08-14T19:03:02.388202Z",
     "iopub.status.busy": "2024-08-14T19:03:02.387956Z",
     "iopub.status.idle": "2024-08-14T19:03:02.393716Z",
     "shell.execute_reply": "2024-08-14T19:03:02.392767Z"
    },
    "papermill": {
     "duration": 0.034438,
     "end_time": "2024-08-14T19:03:02.396688",
     "exception": false,
     "start_time": "2024-08-14T19:03:02.362250",
     "status": "completed"
    },
    "tags": []
   },
   "outputs": [],
   "source": [
    "metrics = pd.DataFrame.from_dict(report[\"metrics_by_percentile\"],orient='index')"
   ]
  },
  {
   "cell_type": "code",
   "execution_count": 25,
   "id": "e5791ed4-9f6d-46e1-a381-dfa800d25881",
   "metadata": {
    "execution": {
     "iopub.execute_input": "2024-08-14T19:03:02.448550Z",
     "iopub.status.busy": "2024-08-14T19:03:02.448164Z",
     "iopub.status.idle": "2024-08-14T19:03:02.453698Z",
     "shell.execute_reply": "2024-08-14T19:03:02.452542Z"
    },
    "papermill": {
     "duration": 0.034978,
     "end_time": "2024-08-14T19:03:02.456625",
     "exception": false,
     "start_time": "2024-08-14T19:03:02.421647",
     "status": "completed"
    },
    "tags": []
   },
   "outputs": [],
   "source": [
    "metrics[\"percentile\"] = metrics.index"
   ]
  },
  {
   "cell_type": "code",
   "execution_count": 26,
   "id": "49c6b6bb-a163-42cb-806b-ec51ddd8f5d5",
   "metadata": {
    "execution": {
     "iopub.execute_input": "2024-08-14T19:03:02.508117Z",
     "iopub.status.busy": "2024-08-14T19:03:02.507761Z",
     "iopub.status.idle": "2024-08-14T19:03:02.522792Z",
     "shell.execute_reply": "2024-08-14T19:03:02.521317Z"
    },
    "papermill": {
     "duration": 0.043037,
     "end_time": "2024-08-14T19:03:02.524879",
     "exception": false,
     "start_time": "2024-08-14T19:03:02.481842",
     "status": "completed"
    },
    "tags": []
   },
   "outputs": [
    {
     "data": {
      "text/html": [
       "<div>\n",
       "<style scoped>\n",
       "    .dataframe tbody tr th:only-of-type {\n",
       "        vertical-align: middle;\n",
       "    }\n",
       "\n",
       "    .dataframe tbody tr th {\n",
       "        vertical-align: top;\n",
       "    }\n",
       "\n",
       "    .dataframe thead th {\n",
       "        text-align: right;\n",
       "    }\n",
       "</style>\n",
       "<table border=\"1\" class=\"dataframe\">\n",
       "  <thead>\n",
       "    <tr style=\"text-align: right;\">\n",
       "      <th></th>\n",
       "      <th>recall</th>\n",
       "      <th>precision</th>\n",
       "      <th>f1_score</th>\n",
       "      <th>TPR</th>\n",
       "      <th>FPR</th>\n",
       "      <th>percentile</th>\n",
       "    </tr>\n",
       "  </thead>\n",
       "  <tbody>\n",
       "    <tr>\n",
       "      <th>90</th>\n",
       "      <td>0.603409</td>\n",
       "      <td>0.117582</td>\n",
       "      <td>0.196812</td>\n",
       "      <td>0.603409</td>\n",
       "      <td>0.180113</td>\n",
       "      <td>90</td>\n",
       "    </tr>\n",
       "    <tr>\n",
       "      <th>91</th>\n",
       "      <td>0.577273</td>\n",
       "      <td>0.125308</td>\n",
       "      <td>0.205918</td>\n",
       "      <td>0.577273</td>\n",
       "      <td>0.160271</td>\n",
       "      <td>91</td>\n",
       "    </tr>\n",
       "    <tr>\n",
       "      <th>92</th>\n",
       "      <td>0.553409</td>\n",
       "      <td>0.135617</td>\n",
       "      <td>0.217848</td>\n",
       "      <td>0.553409</td>\n",
       "      <td>0.140294</td>\n",
       "      <td>92</td>\n",
       "    </tr>\n",
       "    <tr>\n",
       "      <th>93</th>\n",
       "      <td>0.514773</td>\n",
       "      <td>0.144775</td>\n",
       "      <td>0.225992</td>\n",
       "      <td>0.514773</td>\n",
       "      <td>0.120949</td>\n",
       "      <td>93</td>\n",
       "    </tr>\n",
       "    <tr>\n",
       "      <th>94</th>\n",
       "      <td>0.481818</td>\n",
       "      <td>0.158980</td>\n",
       "      <td>0.239075</td>\n",
       "      <td>0.481818</td>\n",
       "      <td>0.101379</td>\n",
       "      <td>94</td>\n",
       "    </tr>\n",
       "    <tr>\n",
       "      <th>95</th>\n",
       "      <td>0.435227</td>\n",
       "      <td>0.173696</td>\n",
       "      <td>0.248298</td>\n",
       "      <td>0.435227</td>\n",
       "      <td>0.082350</td>\n",
       "      <td>95</td>\n",
       "    </tr>\n",
       "    <tr>\n",
       "      <th>96</th>\n",
       "      <td>0.385227</td>\n",
       "      <td>0.194604</td>\n",
       "      <td>0.258581</td>\n",
       "      <td>0.385227</td>\n",
       "      <td>0.063412</td>\n",
       "      <td>96</td>\n",
       "    </tr>\n",
       "    <tr>\n",
       "      <th>97</th>\n",
       "      <td>0.318182</td>\n",
       "      <td>0.218750</td>\n",
       "      <td>0.259259</td>\n",
       "      <td>0.318182</td>\n",
       "      <td>0.045198</td>\n",
       "      <td>97</td>\n",
       "    </tr>\n",
       "    <tr>\n",
       "      <th>98</th>\n",
       "      <td>0.221591</td>\n",
       "      <td>0.238386</td>\n",
       "      <td>0.229682</td>\n",
       "      <td>0.221591</td>\n",
       "      <td>0.028158</td>\n",
       "      <td>98</td>\n",
       "    </tr>\n",
       "    <tr>\n",
       "      <th>99</th>\n",
       "      <td>0.090909</td>\n",
       "      <td>0.224719</td>\n",
       "      <td>0.129450</td>\n",
       "      <td>0.090909</td>\n",
       "      <td>0.012475</td>\n",
       "      <td>99</td>\n",
       "    </tr>\n",
       "  </tbody>\n",
       "</table>\n",
       "</div>"
      ],
      "text/plain": [
       "      recall  precision  f1_score       TPR       FPR  percentile\n",
       "90  0.603409   0.117582  0.196812  0.603409  0.180113          90\n",
       "91  0.577273   0.125308  0.205918  0.577273  0.160271          91\n",
       "92  0.553409   0.135617  0.217848  0.553409  0.140294          92\n",
       "93  0.514773   0.144775  0.225992  0.514773  0.120949          93\n",
       "94  0.481818   0.158980  0.239075  0.481818  0.101379          94\n",
       "95  0.435227   0.173696  0.248298  0.435227  0.082350          95\n",
       "96  0.385227   0.194604  0.258581  0.385227  0.063412          96\n",
       "97  0.318182   0.218750  0.259259  0.318182  0.045198          97\n",
       "98  0.221591   0.238386  0.229682  0.221591  0.028158          98\n",
       "99  0.090909   0.224719  0.129450  0.090909  0.012475          99"
      ]
     },
     "execution_count": 26,
     "metadata": {},
     "output_type": "execute_result"
    }
   ],
   "source": [
    "metrics[metrics.percentile>89]"
   ]
  },
  {
   "cell_type": "code",
   "execution_count": 27,
   "id": "14e5d669-7529-4dbd-b69a-83237abf540f",
   "metadata": {
    "execution": {
     "iopub.execute_input": "2024-08-14T19:03:02.555766Z",
     "iopub.status.busy": "2024-08-14T19:03:02.555280Z",
     "iopub.status.idle": "2024-08-14T19:03:03.539811Z",
     "shell.execute_reply": "2024-08-14T19:03:03.538807Z"
    },
    "papermill": {
     "duration": 1.003565,
     "end_time": "2024-08-14T19:03:03.543198",
     "exception": false,
     "start_time": "2024-08-14T19:03:02.539633",
     "status": "completed"
    },
    "tags": []
   },
   "outputs": [
    {
     "data": {
      "image/png": "[encoded data removed]",
      "text/plain": [
       "<Figure size 900x300 with 3 Axes>"
      ]
     },
     "metadata": {},
     "output_type": "display_data"
    }
   ],
   "source": [
    "_, axs = plt.subplots(1, 3, figsize=np.array([3, 1]) * 3)\n",
    "xy = [(\"percentile\", \"recall\"), (\"percentile\", \"precision\"), (\"recall\", \"precision\")]\n",
    "for (x, y), ax in zip(xy, axs.flat):\n",
    "    ax.plot(metrics[x], metrics[y])\n",
    "    ax.grid()\n",
    "    ax.set_xlabel(x)\n",
    "    ax.set_ylabel(y)\n",
    "plt.tight_layout()"
   ]
  },
  {
   "cell_type": "code",
   "execution_count": null,
   "id": "24f75dc9-5df0-421b-9f00-6f5074792702",
   "metadata": {
    "papermill": {
     "duration": 0.026269,
     "end_time": "2024-08-14T19:03:03.597837",
     "exception": false,
     "start_time": "2024-08-14T19:03:03.571568",
     "status": "completed"
    },
    "tags": []
   },
   "outputs": [],
   "source": []
  }
 ],
 "metadata": {
  "kernelspec": {
   "display_name": "Dev/GPuy310",
   "language": "python",
   "name": "gpuy310-dev"
  },
  "language_info": {
   "codemirror_mode": {
    "name": "ipython",
    "version": 3
   },
   "file_extension": ".py",
   "mimetype": "text/x-python",
   "name": "python",
   "nbconvert_exporter": "python",
   "pygments_lexer": "ipython3",
   "version": "3.10.8"
  },
  "papermill": {
   "default_parameters": {},
   "duration": 287.012282,
   "end_time": "2024-08-14T19:03:12.044082",
   "environment_variables": {},
   "exception": null,
   "input_path": "./Templates/Multivariate_updated.ipynb",
   "output_path": "/gstore/home/ghaffars/Cumulus/crc_dld1_sublib1_bdev/crop-seq-pipeline/Reports/DS000017114_Multivariate_scVI_Phonetype_genes.ipynb",
   "parameters": {
    "DEV": false,
    "DS_test": false,
    "DatasetID": "DS000017114",
    "MV_file": "/gstore/project/crc_recursion_gw/DLD1_Sublib1_bdev//DS000017114/Energy_Distance/e_dist_all.h5ad",
    "author": "SG",
    "description": "Production scale screen in DLD-1 cells with 1/4 of the genome-wide CRISPR library (sub-lib-1, ~22K guides). 1 time point: Day-5. We performed 24 rxns of 10x 3' HT kit with an estimated loading of 52K cells. We performed a pilot study to test the library quality before the production-level sequencing. We will submit 72 libraries (24 GEX, 24 HTO and 24 sgRNA) We estimate need 600M for GEX, 30M for HTO and 50M for sgRNA. This is a repeat run to correct chip loading.",
    "embeddings_key": "X_scVI",
    "name_space": [
     {
      "id": "GRCh38",
      "type": "genome"
     }
    ],
    "organism": "human",
    "path": "/gstore/project/crc_recursion_gw/DLD1_Sublib1_bdev//DS000017114/Energy_Distance",
    "sources": [
     {
      "id": "Siavash-1234",
      "name": "Geo-ID"
     }
    ],
    "tech_name": "scRNA-seq",
    "test_DatasetID": "",
    "title": "Recursion DLD1 Library1 Screen Day 5- combination of NGS 5774 and NGS 5702",
    "transcriptoprint": true
   },
   "start_time": "2024-08-14T18:58:25.031800",
   "version": "2.6.0"
  },
  "widgets": {
   "application/vnd.jupyter.widget-state+json": {
    "state": {},
    "version_major": 2,
    "version_minor": 0
   }
  }
 },
 "nbformat": 4,
 "nbformat_minor": 5
}