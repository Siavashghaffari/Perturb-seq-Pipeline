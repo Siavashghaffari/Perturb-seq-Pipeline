{
 "cells": [
  {
   "cell_type": "code",
   "execution_count": 1,
   "id": "b743e662",
   "metadata": {
    "execution": {
     "iopub.execute_input": "2024-08-07T19:27:32.053256Z",
     "iopub.status.busy": "2024-08-07T19:27:32.052893Z",
     "iopub.status.idle": "2024-08-07T19:27:32.059640Z",
     "shell.execute_reply": "2024-08-07T19:27:32.059184Z"
    },
    "papermill": {
     "duration": 0.016275,
     "end_time": "2024-08-07T19:27:32.060981",
     "exception": false,
     "start_time": "2024-08-07T19:27:32.044706",
     "status": "completed"
    },
    "tags": [
     "injected-parameters"
    ]
   },
   "outputs": [],
   "source": [
    "# Parameters\n",
    "DatasetID = \"DS000017114\"\n",
    "DEV = False\n",
    "test_DatasetID = \"\"\n",
    "DS_test = False\n",
    "title = \"Recursion DLD1 Library1 Screen Day 5- combination of NGS 5774 and NGS 5702\"\n",
    "description = \"Production scale screen in DLD-1 cells with 1/4 of the genome-wide CRISPR library (sub-lib-1, ~22K guides). 1 time point: Day-5. We performed 24 rxns of 10x 3' HT kit with an estimated loading of 52K cells. We performed a pilot study to test the library quality before the production-level sequencing. We will submit 72 libraries (24 GEX, 24 HTO and 24 sgRNA) We estimate need 600M for GEX, 30M for HTO and 50M for sgRNA. This is a repeat run to correct chip loading.\"\n",
    "name_space = [{\"id\": \"GRCh38\", \"type\": \"genome\"}]\n",
    "sources = [{\"id\": \"Siavash-1234\", \"name\": \"Geo-ID\"}]\n",
    "tech_name = \"scRNA-seq\"\n",
    "author = \"SG\"\n",
    "organism = \"human\"\n",
    "pVAL = 0.05\n",
    "n = 500\n",
    "embeddings_key = \"X_pca_sphered\"\n",
    "i = 10\n",
    "ED_file = \"/gstore/project/crc_recursion_gw/DLD1_Sublib1_bdev//DS000017114/Energy_Distance/e_dist_all.h5ad\"\n",
    "key_uns = \"perGene_pca_sphered_10\"\n",
    "out_csv = \"/gstore/project/crc_recursion_gw/DLD1_Sublib1_bdev//DS000017114/Energy_Distance/e_dist_500NTCs_pca_sphered_10.csv\"\n"
   ]
  },
  {
   "cell_type": "markdown",
   "id": "bb530fe7-c5ba-4ec4-b436-7f717b909ce0",
   "metadata": {
    "papermill": {
     "duration": 0.009483,
     "end_time": "2024-08-07T19:27:32.077798",
     "exception": false,
     "start_time": "2024-08-07T19:27:32.068315",
     "status": "completed"
    },
    "tags": []
   },
   "source": [
    "# EnergyDistance: "
   ]
  },
  {
   "cell_type": "code",
   "execution_count": 2,
   "id": "cdd59412-0a04-4bea-8c11-fd04e79b2a25",
   "metadata": {
    "execution": {
     "iopub.execute_input": "2024-08-07T19:27:32.092711Z",
     "iopub.status.busy": "2024-08-07T19:27:32.092414Z",
     "iopub.status.idle": "2024-08-07T19:27:39.161889Z",
     "shell.execute_reply": "2024-08-07T19:27:39.161329Z"
    },
    "papermill": {
     "duration": 7.078922,
     "end_time": "2024-08-07T19:27:39.163608",
     "exception": false,
     "start_time": "2024-08-07T19:27:32.084686",
     "status": "completed"
    },
    "tags": []
   },
   "outputs": [],
   "source": [
    "import scanpy as sc\n",
    "import numpy as np\n",
    "import pandas as pd\n",
    "from tqdm import tqdm\n",
    "import os\n",
    "#plotting\n",
    "import matplotlib\n",
    "from matplotlib import pyplot as plt\n",
    "import seaborn as sns\n",
    "from dask.distributed import Client\n",
    "import sklearn"
   ]
  },
  {
   "cell_type": "code",
   "execution_count": 3,
   "id": "73f8c9aa-f309-468a-ae92-379a64133079",
   "metadata": {
    "execution": {
     "iopub.execute_input": "2024-08-07T19:27:39.180133Z",
     "iopub.status.busy": "2024-08-07T19:27:39.179873Z",
     "iopub.status.idle": "2024-08-07T19:27:39.232299Z",
     "shell.execute_reply": "2024-08-07T19:27:39.231803Z"
    },
    "papermill": {
     "duration": 0.061995,
     "end_time": "2024-08-07T19:27:39.233841",
     "exception": false,
     "start_time": "2024-08-07T19:27:39.171846",
     "status": "completed"
    },
    "tags": []
   },
   "outputs": [],
   "source": [
    "# Please note that if we import the whole folder using __init__.py we would be running into ba Dask CanceledError due to different \n",
    "# imported Dask conflict, so we have to import only scEnergy script\n",
    "import sys\n",
    "sys.path.append(\"..\")\n",
    "import Templates.tools.scEnergy as eng "
   ]
  },
  {
   "cell_type": "code",
   "execution_count": 4,
   "id": "98e328a0-104a-414c-8c17-dbcf574bb808",
   "metadata": {
    "execution": {
     "iopub.execute_input": "2024-08-07T19:27:39.250654Z",
     "iopub.status.busy": "2024-08-07T19:27:39.250322Z",
     "iopub.status.idle": "2024-08-07T19:27:39.341811Z",
     "shell.execute_reply": "2024-08-07T19:27:39.341293Z"
    },
    "papermill": {
     "duration": 0.101932,
     "end_time": "2024-08-07T19:27:39.343527",
     "exception": false,
     "start_time": "2024-08-07T19:27:39.241595",
     "status": "completed"
    },
    "tags": []
   },
   "outputs": [],
   "source": [
    "%load_ext autoreload\n",
    "%autoreload 2"
   ]
  },
  {
   "cell_type": "code",
   "execution_count": 5,
   "id": "f83219c0-b2aa-462b-90f0-6127a96c6446",
   "metadata": {
    "execution": {
     "iopub.execute_input": "2024-08-07T19:27:39.359954Z",
     "iopub.status.busy": "2024-08-07T19:27:39.359648Z",
     "iopub.status.idle": "2024-08-07T19:28:47.870079Z",
     "shell.execute_reply": "2024-08-07T19:28:47.869499Z"
    },
    "papermill": {
     "duration": 68.520431,
     "end_time": "2024-08-07T19:28:47.871762",
     "exception": false,
     "start_time": "2024-08-07T19:27:39.351331",
     "status": "completed"
    },
    "tags": []
   },
   "outputs": [],
   "source": [
    "adata = sc.read_h5ad(ED_file)"
   ]
  },
  {
   "cell_type": "code",
   "execution_count": 6,
   "id": "87a513ff-f091-4057-8356-3cbbe0180222",
   "metadata": {
    "execution": {
     "iopub.execute_input": "2024-08-07T19:28:47.889018Z",
     "iopub.status.busy": "2024-08-07T19:28:47.888748Z",
     "iopub.status.idle": "2024-08-07T19:28:48.527509Z",
     "shell.execute_reply": "2024-08-07T19:28:48.526984Z"
    },
    "papermill": {
     "duration": 0.647969,
     "end_time": "2024-08-07T19:28:48.528748",
     "exception": false,
     "start_time": "2024-08-07T19:28:47.880779",
     "status": "completed"
    },
    "tags": []
   },
   "outputs": [
    {
     "data": {
      "text/plain": [
       "AnnData object with n_obs × n_vars = 595603 × 36603\n",
       "    obs: 'Sample', 'Barcode', 'DemuxType_crispr', 'DemuxAssignment_crispr', 'DemuxType_hashing', 'DemuxAssignment_hashing', 'cellline', 'timepoint', 'HTO', 'NGS_ID', 'Biological_replicate', '10Xrun', 'sublibrary', 'gRNA_library_MOI', 'gene_symbol', 'class', 'n_genes_by_counts', 'total_counts', 'total_counts_mt', 'pct_counts_mt', 'total_counts_ribo', 'pct_counts_ribo', 'qc_pass', 'S_score', 'G2M_score', 'phase', 'SCN_class', 'gem'\n",
       "    var: 'Symbol'\n",
       "    uns: 'DemuxAssignment_hashing_colors', 'Sample_colors', '_scvi_manager_uuid', '_scvi_uuid', 'energy_distance', 'leiden_colors', 'neighbors', 'umap'\n",
       "    obsm: 'X_pca', 'X_pca_centered', 'X_pca_sphered', 'X_pca_sphered_Norm', 'X_scVI', 'X_scVI_centered', 'X_umap'\n",
       "    layers: 'counts'\n",
       "    obsp: 'connectivities', 'distances'"
      ]
     },
     "execution_count": 6,
     "metadata": {},
     "output_type": "execute_result"
    }
   ],
   "source": [
    "adata"
   ]
  },
  {
   "cell_type": "code",
   "execution_count": 7,
   "id": "c67bb790-7856-4a60-8b97-6ea3d32bb43a",
   "metadata": {
    "execution": {
     "iopub.execute_input": "2024-08-07T19:28:48.545774Z",
     "iopub.status.busy": "2024-08-07T19:28:48.545458Z",
     "iopub.status.idle": "2024-08-07T19:28:48.630946Z",
     "shell.execute_reply": "2024-08-07T19:28:48.630374Z"
    },
    "papermill": {
     "duration": 0.095747,
     "end_time": "2024-08-07T19:28:48.632640",
     "exception": false,
     "start_time": "2024-08-07T19:28:48.536893",
     "status": "completed"
    },
    "tags": []
   },
   "outputs": [],
   "source": [
    "#adata.obs_names_make_unique()"
   ]
  },
  {
   "cell_type": "markdown",
   "id": "4427038c-fecc-4ab5-a09f-4a61f659721a",
   "metadata": {
    "papermill": {
     "duration": 0.00749,
     "end_time": "2024-08-07T19:28:48.648271",
     "exception": false,
     "start_time": "2024-08-07T19:28:48.640781",
     "status": "completed"
    },
    "tags": []
   },
   "source": [
    "## Filter adata"
   ]
  },
  {
   "cell_type": "code",
   "execution_count": 8,
   "id": "e14087aa-e751-4823-a0f6-e799da210f1b",
   "metadata": {
    "execution": {
     "iopub.execute_input": "2024-08-07T19:28:48.663903Z",
     "iopub.status.busy": "2024-08-07T19:28:48.663612Z",
     "iopub.status.idle": "2024-08-07T19:28:48.746717Z",
     "shell.execute_reply": "2024-08-07T19:28:48.746225Z"
    },
    "papermill": {
     "duration": 0.092435,
     "end_time": "2024-08-07T19:28:48.747992",
     "exception": false,
     "start_time": "2024-08-07T19:28:48.655557",
     "status": "completed"
    },
    "tags": []
   },
   "outputs": [],
   "source": [
    "#adata = adata[adata.obs[\"DemuxAssignment_hashing\"]!=\"POSITIVE_CONTROL\"].copy()"
   ]
  },
  {
   "cell_type": "code",
   "execution_count": 9,
   "id": "6ecaf0d6-5860-40a6-a1c7-b795c3d9c18f",
   "metadata": {
    "execution": {
     "iopub.execute_input": "2024-08-07T19:28:48.763449Z",
     "iopub.status.busy": "2024-08-07T19:28:48.763228Z",
     "iopub.status.idle": "2024-08-07T19:28:48.843177Z",
     "shell.execute_reply": "2024-08-07T19:28:48.842722Z"
    },
    "papermill": {
     "duration": 0.089032,
     "end_time": "2024-08-07T19:28:48.844434",
     "exception": false,
     "start_time": "2024-08-07T19:28:48.755402",
     "status": "completed"
    },
    "tags": []
   },
   "outputs": [],
   "source": [
    "#adata= adata[~adata.obs.index.duplicated(keep='first')].copy()"
   ]
  },
  {
   "cell_type": "markdown",
   "id": "344df700-9fe1-4f58-ad3c-76836012def9",
   "metadata": {
    "papermill": {
     "duration": 0.007226,
     "end_time": "2024-08-07T19:28:48.858889",
     "exception": false,
     "start_time": "2024-08-07T19:28:48.851663",
     "status": "completed"
    },
    "tags": []
   },
   "source": [
    "## correct gene_symbol for ENSGIDs"
   ]
  },
  {
   "cell_type": "code",
   "execution_count": 10,
   "id": "a21588c8-85d8-4f30-a214-c3537bdf6558",
   "metadata": {
    "execution": {
     "iopub.execute_input": "2024-08-07T19:28:48.874239Z",
     "iopub.status.busy": "2024-08-07T19:28:48.873897Z",
     "iopub.status.idle": "2024-08-07T19:28:48.957442Z",
     "shell.execute_reply": "2024-08-07T19:28:48.956971Z"
    },
    "papermill": {
     "duration": 0.092734,
     "end_time": "2024-08-07T19:28:48.958894",
     "exception": false,
     "start_time": "2024-08-07T19:28:48.866160",
     "status": "completed"
    },
    "tags": []
   },
   "outputs": [],
   "source": [
    "adata.obs['gene_symbol'] = adata.obs['gene_symbol'].apply(lambda x:x.split('_')[0])"
   ]
  },
  {
   "cell_type": "markdown",
   "id": "823dd9da-f1fb-4794-80fd-007220b51666",
   "metadata": {
    "papermill": {
     "duration": 0.007289,
     "end_time": "2024-08-07T19:28:48.974027",
     "exception": false,
     "start_time": "2024-08-07T19:28:48.966738",
     "status": "completed"
    },
    "tags": []
   },
   "source": [
    "## Subsampling NTCs"
   ]
  },
  {
   "cell_type": "code",
   "execution_count": 11,
   "id": "d5b3bbf6-912f-404d-8e7b-7f72fac2743d",
   "metadata": {
    "execution": {
     "iopub.execute_input": "2024-08-07T19:28:48.989894Z",
     "iopub.status.busy": "2024-08-07T19:28:48.989673Z",
     "iopub.status.idle": "2024-08-07T19:28:51.549556Z",
     "shell.execute_reply": "2024-08-07T19:28:51.548984Z"
    },
    "papermill": {
     "duration": 2.569683,
     "end_time": "2024-08-07T19:28:51.551392",
     "exception": false,
     "start_time": "2024-08-07T19:28:48.981709",
     "status": "completed"
    },
    "tags": []
   },
   "outputs": [],
   "source": [
    "NTC = adata[adata.obs[\"gene_symbol\"]==\"NTC\"].copy()"
   ]
  },
  {
   "cell_type": "code",
   "execution_count": 12,
   "id": "ef732a35-c6b1-40d4-a481-957f13c0df20",
   "metadata": {
    "execution": {
     "iopub.execute_input": "2024-08-07T19:28:51.568366Z",
     "iopub.status.busy": "2024-08-07T19:28:51.568090Z",
     "iopub.status.idle": "2024-08-07T19:28:52.142587Z",
     "shell.execute_reply": "2024-08-07T19:28:52.142028Z"
    },
    "papermill": {
     "duration": 0.584895,
     "end_time": "2024-08-07T19:28:52.144381",
     "exception": false,
     "start_time": "2024-08-07T19:28:51.559486",
     "status": "completed"
    },
    "tags": []
   },
   "outputs": [],
   "source": [
    "if n is not None:\n",
    "    NTC = NTC[NTC.obs.sample(n = n).index.copy()].copy()"
   ]
  },
  {
   "cell_type": "code",
   "execution_count": 13,
   "id": "ddfbd238-d92c-4dd3-a784-75a47ddb0b39",
   "metadata": {
    "execution": {
     "iopub.execute_input": "2024-08-07T19:28:52.161153Z",
     "iopub.status.busy": "2024-08-07T19:28:52.160891Z",
     "iopub.status.idle": "2024-08-07T19:28:52.244159Z",
     "shell.execute_reply": "2024-08-07T19:28:52.243734Z"
    },
    "papermill": {
     "duration": 0.092683,
     "end_time": "2024-08-07T19:28:52.245234",
     "exception": false,
     "start_time": "2024-08-07T19:28:52.152551",
     "status": "completed"
    },
    "tags": []
   },
   "outputs": [
    {
     "data": {
      "text/plain": [
       "AnnData object with n_obs × n_vars = 500 × 36603\n",
       "    obs: 'Sample', 'Barcode', 'DemuxType_crispr', 'DemuxAssignment_crispr', 'DemuxType_hashing', 'DemuxAssignment_hashing', 'cellline', 'timepoint', 'HTO', 'NGS_ID', 'Biological_replicate', '10Xrun', 'sublibrary', 'gRNA_library_MOI', 'gene_symbol', 'class', 'n_genes_by_counts', 'total_counts', 'total_counts_mt', 'pct_counts_mt', 'total_counts_ribo', 'pct_counts_ribo', 'qc_pass', 'S_score', 'G2M_score', 'phase', 'SCN_class', 'gem'\n",
       "    var: 'Symbol'\n",
       "    uns: 'DemuxAssignment_hashing_colors', 'Sample_colors', '_scvi_manager_uuid', '_scvi_uuid', 'energy_distance', 'leiden_colors', 'neighbors', 'umap'\n",
       "    obsm: 'X_pca', 'X_pca_centered', 'X_pca_sphered', 'X_pca_sphered_Norm', 'X_scVI', 'X_scVI_centered', 'X_umap'\n",
       "    layers: 'counts'\n",
       "    obsp: 'connectivities', 'distances'"
      ]
     },
     "execution_count": 13,
     "metadata": {},
     "output_type": "execute_result"
    }
   ],
   "source": [
    "NTC"
   ]
  },
  {
   "cell_type": "markdown",
   "id": "e852bb55-4b55-4a7f-9606-dca138c9eacd",
   "metadata": {
    "papermill": {
     "duration": 0.007387,
     "end_time": "2024-08-07T19:28:52.260197",
     "exception": false,
     "start_time": "2024-08-07T19:28:52.252810",
     "status": "completed"
    },
    "tags": []
   },
   "source": [
    "## Create only genes dataframe"
   ]
  },
  {
   "cell_type": "code",
   "execution_count": 14,
   "id": "e4e81638-99fe-42ff-b3fc-e3ffaced7a8d",
   "metadata": {
    "execution": {
     "iopub.execute_input": "2024-08-07T19:28:52.275715Z",
     "iopub.status.busy": "2024-08-07T19:28:52.275495Z",
     "iopub.status.idle": "2024-08-07T19:28:52.359155Z",
     "shell.execute_reply": "2024-08-07T19:28:52.358710Z"
    },
    "papermill": {
     "duration": 0.092923,
     "end_time": "2024-08-07T19:28:52.360503",
     "exception": false,
     "start_time": "2024-08-07T19:28:52.267580",
     "status": "completed"
    },
    "tags": []
   },
   "outputs": [],
   "source": [
    "genes = [el for el in adata.obs['gene_symbol'].unique()]"
   ]
  },
  {
   "cell_type": "code",
   "execution_count": 15,
   "id": "9ea9319e-fa7e-4127-b095-6a687b35a6fd",
   "metadata": {
    "execution": {
     "iopub.execute_input": "2024-08-07T19:28:52.376361Z",
     "iopub.status.busy": "2024-08-07T19:28:52.376149Z",
     "iopub.status.idle": "2024-08-07T19:28:52.453797Z",
     "shell.execute_reply": "2024-08-07T19:28:52.453330Z"
    },
    "papermill": {
     "duration": 0.087132,
     "end_time": "2024-08-07T19:28:52.455189",
     "exception": false,
     "start_time": "2024-08-07T19:28:52.368057",
     "status": "completed"
    },
    "tags": []
   },
   "outputs": [],
   "source": [
    "genes.remove(\"NTC\")"
   ]
  },
  {
   "cell_type": "code",
   "execution_count": 16,
   "id": "f66f0905-2d92-42b8-9cea-8f4098b74630",
   "metadata": {
    "execution": {
     "iopub.execute_input": "2024-08-07T19:28:52.471379Z",
     "iopub.status.busy": "2024-08-07T19:28:52.471088Z",
     "iopub.status.idle": "2024-08-07T19:30:18.038723Z",
     "shell.execute_reply": "2024-08-07T19:30:18.038147Z"
    },
    "papermill": {
     "duration": 85.577701,
     "end_time": "2024-08-07T19:30:18.040532",
     "exception": false,
     "start_time": "2024-08-07T19:28:52.462831",
     "status": "completed"
    },
    "tags": []
   },
   "outputs": [],
   "source": [
    "GENE = adata[adata.obs[\"gene_symbol\"].isin(genes)].copy()"
   ]
  },
  {
   "cell_type": "code",
   "execution_count": 17,
   "id": "14f660d5-34d2-42ff-92b8-fb62a38f4f52",
   "metadata": {
    "execution": {
     "iopub.execute_input": "2024-08-07T19:30:18.058694Z",
     "iopub.status.busy": "2024-08-07T19:30:18.058426Z",
     "iopub.status.idle": "2024-08-07T19:30:18.771657Z",
     "shell.execute_reply": "2024-08-07T19:30:18.771126Z"
    },
    "papermill": {
     "duration": 0.723102,
     "end_time": "2024-08-07T19:30:18.772921",
     "exception": false,
     "start_time": "2024-08-07T19:30:18.049819",
     "status": "completed"
    },
    "tags": []
   },
   "outputs": [
    {
     "data": {
      "text/plain": [
       "AnnData object with n_obs × n_vars = 580627 × 36603\n",
       "    obs: 'Sample', 'Barcode', 'DemuxType_crispr', 'DemuxAssignment_crispr', 'DemuxType_hashing', 'DemuxAssignment_hashing', 'cellline', 'timepoint', 'HTO', 'NGS_ID', 'Biological_replicate', '10Xrun', 'sublibrary', 'gRNA_library_MOI', 'gene_symbol', 'class', 'n_genes_by_counts', 'total_counts', 'total_counts_mt', 'pct_counts_mt', 'total_counts_ribo', 'pct_counts_ribo', 'qc_pass', 'S_score', 'G2M_score', 'phase', 'SCN_class', 'gem'\n",
       "    var: 'Symbol'\n",
       "    uns: 'DemuxAssignment_hashing_colors', 'Sample_colors', '_scvi_manager_uuid', '_scvi_uuid', 'energy_distance', 'leiden_colors', 'neighbors', 'umap'\n",
       "    obsm: 'X_pca', 'X_pca_centered', 'X_pca_sphered', 'X_pca_sphered_Norm', 'X_scVI', 'X_scVI_centered', 'X_umap'\n",
       "    layers: 'counts'\n",
       "    obsp: 'connectivities', 'distances'"
      ]
     },
     "execution_count": 17,
     "metadata": {},
     "output_type": "execute_result"
    }
   ],
   "source": [
    "GENE"
   ]
  },
  {
   "cell_type": "markdown",
   "id": "1620e1f8-a3cb-405d-bffa-a0393fce64d0",
   "metadata": {
    "papermill": {
     "duration": 0.008208,
     "end_time": "2024-08-07T19:30:18.789928",
     "exception": false,
     "start_time": "2024-08-07T19:30:18.781720",
     "status": "completed"
    },
    "tags": []
   },
   "source": [
    "## Concatenate dataframes"
   ]
  },
  {
   "cell_type": "code",
   "execution_count": 18,
   "id": "8c9f52b8-f524-4795-b8c7-0d642608d0b3",
   "metadata": {
    "execution": {
     "iopub.execute_input": "2024-08-07T19:30:18.807373Z",
     "iopub.status.busy": "2024-08-07T19:30:18.807043Z",
     "iopub.status.idle": "2024-08-07T19:31:22.004576Z",
     "shell.execute_reply": "2024-08-07T19:31:22.003976Z"
    },
    "papermill": {
     "duration": 63.208388,
     "end_time": "2024-08-07T19:31:22.006403",
     "exception": false,
     "start_time": "2024-08-07T19:30:18.798015",
     "status": "completed"
    },
    "tags": []
   },
   "outputs": [
    {
     "name": "stderr",
     "output_type": "stream",
     "text": [
      "/apps/user/gpy/envs/dev/GPUy310pascal/lib/python3.10/site-packages/anndata/_core/anndata.py:1805: FutureWarning: The AnnData.concatenate method is deprecated in favour of the anndata.concat function. Please use anndata.concat instead.\n",
      "\n",
      "See the tutorial for concat at: https://anndata.readthedocs.io/en/latest/concatenation.html\n",
      "  warnings.warn(\n"
     ]
    }
   ],
   "source": [
    "c = NTC.concatenate(GENE)"
   ]
  },
  {
   "cell_type": "code",
   "execution_count": 19,
   "id": "8cdbf30e-97ad-459d-99b6-14863644eaaf",
   "metadata": {
    "execution": {
     "iopub.execute_input": "2024-08-07T19:31:22.024871Z",
     "iopub.status.busy": "2024-08-07T19:31:22.024609Z",
     "iopub.status.idle": "2024-08-07T19:31:22.657522Z",
     "shell.execute_reply": "2024-08-07T19:31:22.657014Z"
    },
    "papermill": {
     "duration": 0.642974,
     "end_time": "2024-08-07T19:31:22.658778",
     "exception": false,
     "start_time": "2024-08-07T19:31:22.015804",
     "status": "completed"
    },
    "tags": []
   },
   "outputs": [
    {
     "data": {
      "text/plain": [
       "AnnData object with n_obs × n_vars = 581127 × 36603\n",
       "    obs: 'Sample', 'Barcode', 'DemuxType_crispr', 'DemuxAssignment_crispr', 'DemuxType_hashing', 'DemuxAssignment_hashing', 'cellline', 'timepoint', 'HTO', 'NGS_ID', 'Biological_replicate', '10Xrun', 'sublibrary', 'gRNA_library_MOI', 'gene_symbol', 'class', 'n_genes_by_counts', 'total_counts', 'total_counts_mt', 'pct_counts_mt', 'total_counts_ribo', 'pct_counts_ribo', 'qc_pass', 'S_score', 'G2M_score', 'phase', 'SCN_class', 'gem', 'batch'\n",
       "    var: 'Symbol'\n",
       "    obsm: 'X_pca', 'X_pca_centered', 'X_pca_sphered', 'X_pca_sphered_Norm', 'X_scVI', 'X_scVI_centered', 'X_umap'\n",
       "    layers: 'counts'"
      ]
     },
     "execution_count": 19,
     "metadata": {},
     "output_type": "execute_result"
    }
   ],
   "source": [
    "c"
   ]
  },
  {
   "cell_type": "markdown",
   "id": "3db08d9b-28f8-430a-ad74-56547d569cc6",
   "metadata": {
    "papermill": {
     "duration": 0.01108,
     "end_time": "2024-08-07T19:31:22.678772",
     "exception": false,
     "start_time": "2024-08-07T19:31:22.667692",
     "status": "completed"
    },
    "tags": []
   },
   "source": [
    "## Create dictionary with NTCs. Pool them first"
   ]
  },
  {
   "cell_type": "markdown",
   "id": "3d007d11-9219-4c2b-8e0e-2ba51654666c",
   "metadata": {
    "papermill": {
     "duration": 0.00819,
     "end_time": "2024-08-07T19:31:22.695381",
     "exception": false,
     "start_time": "2024-08-07T19:31:22.687191",
     "status": "completed"
    },
    "tags": []
   },
   "source": [
    "### This is to calculate consistency among NTCs"
   ]
  },
  {
   "cell_type": "code",
   "execution_count": 20,
   "id": "759879c3-9623-418f-a374-184854b075f7",
   "metadata": {
    "execution": {
     "iopub.execute_input": "2024-08-07T19:31:22.713113Z",
     "iopub.status.busy": "2024-08-07T19:31:22.712783Z",
     "iopub.status.idle": "2024-08-07T19:31:22.798597Z",
     "shell.execute_reply": "2024-08-07T19:31:22.798045Z"
    },
    "papermill": {
     "duration": 0.096795,
     "end_time": "2024-08-07T19:31:22.800296",
     "exception": false,
     "start_time": "2024-08-07T19:31:22.703501",
     "status": "completed"
    },
    "tags": []
   },
   "outputs": [],
   "source": [
    "ntcs_perturbations = [el for el in NTC.obs['DemuxAssignment_crispr'].unique()]"
   ]
  },
  {
   "cell_type": "markdown",
   "id": "4f2fe9be-a67e-4bd0-8833-013a6ae94b65",
   "metadata": {
    "papermill": {
     "duration": 0.008003,
     "end_time": "2024-08-07T19:31:22.816994",
     "exception": false,
     "start_time": "2024-08-07T19:31:22.808991",
     "status": "completed"
    },
    "tags": []
   },
   "source": [
    "### Separate NTCs"
   ]
  },
  {
   "cell_type": "code",
   "execution_count": 21,
   "id": "1b9d701c-728b-4049-bbdf-67e86c9ce513",
   "metadata": {
    "execution": {
     "iopub.execute_input": "2024-08-07T19:31:22.833878Z",
     "iopub.status.busy": "2024-08-07T19:31:22.833598Z",
     "iopub.status.idle": "2024-08-07T19:31:24.110473Z",
     "shell.execute_reply": "2024-08-07T19:31:24.109919Z"
    },
    "papermill": {
     "duration": 1.287435,
     "end_time": "2024-08-07T19:31:24.112272",
     "exception": false,
     "start_time": "2024-08-07T19:31:22.824837",
     "status": "completed"
    },
    "tags": []
   },
   "outputs": [],
   "source": [
    "ntcs = {}\n",
    "\n",
    "for el in ntcs_perturbations:\n",
    "    v = eng.get_values_umap(c, 'DemuxAssignment_crispr', el)\n",
    "    ntcs[el] = c[v].obsm[embeddings_key]"
   ]
  },
  {
   "cell_type": "code",
   "execution_count": 22,
   "id": "08e0b604-fb1b-44a7-925b-ad08fbd328c3",
   "metadata": {
    "execution": {
     "iopub.execute_input": "2024-08-07T19:31:24.130408Z",
     "iopub.status.busy": "2024-08-07T19:31:24.130141Z",
     "iopub.status.idle": "2024-08-07T19:31:45.959200Z",
     "shell.execute_reply": "2024-08-07T19:31:45.958647Z"
    },
    "papermill": {
     "duration": 21.839766,
     "end_time": "2024-08-07T19:31:45.960950",
     "exception": false,
     "start_time": "2024-08-07T19:31:24.121184",
     "status": "completed"
    },
    "tags": []
   },
   "outputs": [],
   "source": [
    "pert = {}\n",
    "\n",
    "for el in genes:\n",
    "    v = eng.get_values_umap(c, 'gene_symbol', el)\n",
    "    pert[el] = c[v].obsm[embeddings_key]"
   ]
  },
  {
   "cell_type": "code",
   "execution_count": 23,
   "id": "a639287c-e287-4cff-949c-990293ea24ab",
   "metadata": {
    "execution": {
     "iopub.execute_input": "2024-08-07T19:31:45.979744Z",
     "iopub.status.busy": "2024-08-07T19:31:45.979460Z",
     "iopub.status.idle": "2024-08-07T19:31:46.068809Z",
     "shell.execute_reply": "2024-08-07T19:31:46.068298Z"
    },
    "papermill": {
     "duration": 0.10007,
     "end_time": "2024-08-07T19:31:46.070367",
     "exception": false,
     "start_time": "2024-08-07T19:31:45.970297",
     "status": "completed"
    },
    "tags": []
   },
   "outputs": [],
   "source": [
    "ntcs_pool = {}\n",
    "W = eng.get_values_umap(c, 'gene_symbol', \"NTC\")\n",
    "ntcs_pool['pool'] = c[W].obsm[embeddings_key]"
   ]
  },
  {
   "cell_type": "markdown",
   "id": "e8298243-b82b-4b30-b9a3-1f619c0e9eb9",
   "metadata": {
    "papermill": {
     "duration": 0.008184,
     "end_time": "2024-08-07T19:31:46.087126",
     "exception": false,
     "start_time": "2024-08-07T19:31:46.078942",
     "status": "completed"
    },
    "tags": []
   },
   "source": [
    "## Run energy distance on individual NTCs to find inconsitent NTCs"
   ]
  },
  {
   "cell_type": "code",
   "execution_count": 24,
   "id": "f313f006-4df3-49fe-8058-8234ceb17586",
   "metadata": {
    "execution": {
     "iopub.execute_input": "2024-08-07T19:31:46.104451Z",
     "iopub.status.busy": "2024-08-07T19:31:46.104189Z",
     "iopub.status.idle": "2024-08-07T19:35:01.349398Z",
     "shell.execute_reply": "2024-08-07T19:35:01.348765Z"
    },
    "papermill": {
     "duration": 195.255803,
     "end_time": "2024-08-07T19:35:01.351050",
     "exception": false,
     "start_time": "2024-08-07T19:31:46.095247",
     "status": "completed"
    },
    "tags": []
   },
   "outputs": [],
   "source": [
    "ntc_consistency = eng.run(\n",
    "    client = Client(processes=True, n_workers=32),\n",
    "    perturbations = ntcs, \n",
    "    controls = ntcs_pool,\n",
    "    pool = 'No'\n",
    ")"
   ]
  },
  {
   "cell_type": "code",
   "execution_count": 25,
   "id": "75c65362-7a85-415f-b419-577dd8f1ea9c",
   "metadata": {
    "execution": {
     "iopub.execute_input": "2024-08-07T19:35:01.372374Z",
     "iopub.status.busy": "2024-08-07T19:35:01.372103Z",
     "iopub.status.idle": "2024-08-07T19:35:02.055168Z",
     "shell.execute_reply": "2024-08-07T19:35:02.054524Z"
    },
    "papermill": {
     "duration": 0.694603,
     "end_time": "2024-08-07T19:35:02.056811",
     "exception": false,
     "start_time": "2024-08-07T19:35:01.362208",
     "status": "completed"
    },
    "tags": []
   },
   "outputs": [],
   "source": [
    "ntc_consistency = pd.DataFrame(ntc_consistency).T"
   ]
  },
  {
   "cell_type": "code",
   "execution_count": 26,
   "id": "a741ab8d-effb-4f24-8b79-11495bf6bda8",
   "metadata": {
    "execution": {
     "iopub.execute_input": "2024-08-07T19:35:02.075664Z",
     "iopub.status.busy": "2024-08-07T19:35:02.075203Z",
     "iopub.status.idle": "2024-08-07T19:35:02.197320Z",
     "shell.execute_reply": "2024-08-07T19:35:02.196836Z"
    },
    "papermill": {
     "duration": 0.132661,
     "end_time": "2024-08-07T19:35:02.198648",
     "exception": false,
     "start_time": "2024-08-07T19:35:02.065987",
     "status": "completed"
    },
    "tags": []
   },
   "outputs": [
    {
     "data": {
      "text/html": [
       "<div>\n",
       "<style scoped>\n",
       "    .dataframe tbody tr th:only-of-type {\n",
       "        vertical-align: middle;\n",
       "    }\n",
       "\n",
       "    .dataframe tbody tr th {\n",
       "        vertical-align: top;\n",
       "    }\n",
       "\n",
       "    .dataframe thead th {\n",
       "        text-align: right;\n",
       "    }\n",
       "</style>\n",
       "<table border=\"1\" class=\"dataframe\">\n",
       "  <thead>\n",
       "    <tr style=\"text-align: right;\">\n",
       "      <th></th>\n",
       "      <th>pvalue</th>\n",
       "      <th>statistic</th>\n",
       "      <th>control_key</th>\n",
       "    </tr>\n",
       "  </thead>\n",
       "  <tbody>\n",
       "    <tr>\n",
       "      <th>NTC_158</th>\n",
       "      <td>0.446</td>\n",
       "      <td>2.345122</td>\n",
       "      <td>pool</td>\n",
       "    </tr>\n",
       "    <tr>\n",
       "      <th>NTC_349</th>\n",
       "      <td>0.179</td>\n",
       "      <td>5.409451</td>\n",
       "      <td>pool</td>\n",
       "    </tr>\n",
       "    <tr>\n",
       "      <th>NTC_207</th>\n",
       "      <td>0.543</td>\n",
       "      <td>4.409661</td>\n",
       "      <td>pool</td>\n",
       "    </tr>\n",
       "    <tr>\n",
       "      <th>NTC_185</th>\n",
       "      <td>0.2</td>\n",
       "      <td>5.349973</td>\n",
       "      <td>pool</td>\n",
       "    </tr>\n",
       "    <tr>\n",
       "      <th>NTC_364</th>\n",
       "      <td>0.869</td>\n",
       "      <td>3.796192</td>\n",
       "      <td>pool</td>\n",
       "    </tr>\n",
       "    <tr>\n",
       "      <th>...</th>\n",
       "      <td>...</td>\n",
       "      <td>...</td>\n",
       "      <td>...</td>\n",
       "    </tr>\n",
       "    <tr>\n",
       "      <th>NTC_184</th>\n",
       "      <td>0.554</td>\n",
       "      <td>4.411982</td>\n",
       "      <td>pool</td>\n",
       "    </tr>\n",
       "    <tr>\n",
       "      <th>NTC_439</th>\n",
       "      <td>0.743</td>\n",
       "      <td>3.995154</td>\n",
       "      <td>pool</td>\n",
       "    </tr>\n",
       "    <tr>\n",
       "      <th>NTC_33</th>\n",
       "      <td>0.826</td>\n",
       "      <td>3.886405</td>\n",
       "      <td>pool</td>\n",
       "    </tr>\n",
       "    <tr>\n",
       "      <th>NTC_46</th>\n",
       "      <td>0.57</td>\n",
       "      <td>4.350827</td>\n",
       "      <td>pool</td>\n",
       "    </tr>\n",
       "    <tr>\n",
       "      <th>NTC_483</th>\n",
       "      <td>0.827</td>\n",
       "      <td>3.892067</td>\n",
       "      <td>pool</td>\n",
       "    </tr>\n",
       "  </tbody>\n",
       "</table>\n",
       "<p>312 rows × 3 columns</p>\n",
       "</div>"
      ],
      "text/plain": [
       "        pvalue statistic control_key\n",
       "NTC_158  0.446  2.345122        pool\n",
       "NTC_349  0.179  5.409451        pool\n",
       "NTC_207  0.543  4.409661        pool\n",
       "NTC_185    0.2  5.349973        pool\n",
       "NTC_364  0.869  3.796192        pool\n",
       "...        ...       ...         ...\n",
       "NTC_184  0.554  4.411982        pool\n",
       "NTC_439  0.743  3.995154        pool\n",
       "NTC_33   0.826  3.886405        pool\n",
       "NTC_46    0.57  4.350827        pool\n",
       "NTC_483  0.827  3.892067        pool\n",
       "\n",
       "[312 rows x 3 columns]"
      ]
     },
     "execution_count": 26,
     "metadata": {},
     "output_type": "execute_result"
    }
   ],
   "source": [
    "ntc_consistency"
   ]
  },
  {
   "cell_type": "markdown",
   "id": "4b985905-981d-41e2-b609-440fe5f4aa1d",
   "metadata": {
    "papermill": {
     "duration": 0.008408,
     "end_time": "2024-08-07T19:35:02.216173",
     "exception": false,
     "start_time": "2024-08-07T19:35:02.207765",
     "status": "completed"
    },
    "tags": []
   },
   "source": [
    "### Show only inconsistent NTCs with pVAL lower than the defined cut-off"
   ]
  },
  {
   "cell_type": "code",
   "execution_count": 27,
   "id": "a2d36f5b-094c-4297-ad11-d1d17efc4317",
   "metadata": {
    "execution": {
     "iopub.execute_input": "2024-08-07T19:35:02.234024Z",
     "iopub.status.busy": "2024-08-07T19:35:02.233578Z",
     "iopub.status.idle": "2024-08-07T19:35:02.337482Z",
     "shell.execute_reply": "2024-08-07T19:35:02.336932Z"
    },
    "papermill": {
     "duration": 0.114293,
     "end_time": "2024-08-07T19:35:02.338661",
     "exception": false,
     "start_time": "2024-08-07T19:35:02.224368",
     "status": "completed"
    },
    "tags": []
   },
   "outputs": [
    {
     "data": {
      "text/html": [
       "<div>\n",
       "<style scoped>\n",
       "    .dataframe tbody tr th:only-of-type {\n",
       "        vertical-align: middle;\n",
       "    }\n",
       "\n",
       "    .dataframe tbody tr th {\n",
       "        vertical-align: top;\n",
       "    }\n",
       "\n",
       "    .dataframe thead th {\n",
       "        text-align: right;\n",
       "    }\n",
       "</style>\n",
       "<table border=\"1\" class=\"dataframe\">\n",
       "  <thead>\n",
       "    <tr style=\"text-align: right;\">\n",
       "      <th></th>\n",
       "      <th>pvalue</th>\n",
       "      <th>statistic</th>\n",
       "      <th>control_key</th>\n",
       "    </tr>\n",
       "  </thead>\n",
       "  <tbody>\n",
       "    <tr>\n",
       "      <th>NTC_449</th>\n",
       "      <td>0.044</td>\n",
       "      <td>3.369098</td>\n",
       "      <td>pool</td>\n",
       "    </tr>\n",
       "    <tr>\n",
       "      <th>NTC_65</th>\n",
       "      <td>0.024</td>\n",
       "      <td>7.738502</td>\n",
       "      <td>pool</td>\n",
       "    </tr>\n",
       "    <tr>\n",
       "      <th>NTC_53</th>\n",
       "      <td>0.009</td>\n",
       "      <td>4.118664</td>\n",
       "      <td>pool</td>\n",
       "    </tr>\n",
       "    <tr>\n",
       "      <th>NTC_47</th>\n",
       "      <td>0.017</td>\n",
       "      <td>8.739968</td>\n",
       "      <td>pool</td>\n",
       "    </tr>\n",
       "    <tr>\n",
       "      <th>NTC_223</th>\n",
       "      <td>0.044</td>\n",
       "      <td>2.152615</td>\n",
       "      <td>pool</td>\n",
       "    </tr>\n",
       "    <tr>\n",
       "      <th>NTC_75</th>\n",
       "      <td>0.036</td>\n",
       "      <td>7.286063</td>\n",
       "      <td>pool</td>\n",
       "    </tr>\n",
       "    <tr>\n",
       "      <th>NTC_123</th>\n",
       "      <td>0.0</td>\n",
       "      <td>12.932616</td>\n",
       "      <td>pool</td>\n",
       "    </tr>\n",
       "    <tr>\n",
       "      <th>NTC_30</th>\n",
       "      <td>0.027</td>\n",
       "      <td>3.475089</td>\n",
       "      <td>pool</td>\n",
       "    </tr>\n",
       "    <tr>\n",
       "      <th>NTC_36</th>\n",
       "      <td>0.03</td>\n",
       "      <td>3.486785</td>\n",
       "      <td>pool</td>\n",
       "    </tr>\n",
       "    <tr>\n",
       "      <th>NTC_354</th>\n",
       "      <td>0.02</td>\n",
       "      <td>3.815615</td>\n",
       "      <td>pool</td>\n",
       "    </tr>\n",
       "    <tr>\n",
       "      <th>NTC_497</th>\n",
       "      <td>0.019</td>\n",
       "      <td>8.818456</td>\n",
       "      <td>pool</td>\n",
       "    </tr>\n",
       "    <tr>\n",
       "      <th>NTC_406</th>\n",
       "      <td>0.025</td>\n",
       "      <td>2.221757</td>\n",
       "      <td>pool</td>\n",
       "    </tr>\n",
       "    <tr>\n",
       "      <th>NTC_9</th>\n",
       "      <td>0.042</td>\n",
       "      <td>3.426123</td>\n",
       "      <td>pool</td>\n",
       "    </tr>\n",
       "    <tr>\n",
       "      <th>NTC_43</th>\n",
       "      <td>0.048</td>\n",
       "      <td>6.757883</td>\n",
       "      <td>pool</td>\n",
       "    </tr>\n",
       "    <tr>\n",
       "      <th>NTC_306</th>\n",
       "      <td>0.0</td>\n",
       "      <td>12.361804</td>\n",
       "      <td>pool</td>\n",
       "    </tr>\n",
       "  </tbody>\n",
       "</table>\n",
       "</div>"
      ],
      "text/plain": [
       "        pvalue  statistic control_key\n",
       "NTC_449  0.044   3.369098        pool\n",
       "NTC_65   0.024   7.738502        pool\n",
       "NTC_53   0.009   4.118664        pool\n",
       "NTC_47   0.017   8.739968        pool\n",
       "NTC_223  0.044   2.152615        pool\n",
       "NTC_75   0.036   7.286063        pool\n",
       "NTC_123    0.0  12.932616        pool\n",
       "NTC_30   0.027   3.475089        pool\n",
       "NTC_36    0.03   3.486785        pool\n",
       "NTC_354   0.02   3.815615        pool\n",
       "NTC_497  0.019   8.818456        pool\n",
       "NTC_406  0.025   2.221757        pool\n",
       "NTC_9    0.042   3.426123        pool\n",
       "NTC_43   0.048   6.757883        pool\n",
       "NTC_306    0.0  12.361804        pool"
      ]
     },
     "execution_count": 27,
     "metadata": {},
     "output_type": "execute_result"
    }
   ],
   "source": [
    "ntc_consistency[ntc_consistency['pvalue']<=pVAL]"
   ]
  },
  {
   "cell_type": "code",
   "execution_count": 28,
   "id": "89370a8b-d948-42f8-854a-c7943ded3292",
   "metadata": {
    "execution": {
     "iopub.execute_input": "2024-08-07T19:35:02.357725Z",
     "iopub.status.busy": "2024-08-07T19:35:02.357283Z",
     "iopub.status.idle": "2024-08-07T19:35:02.451607Z",
     "shell.execute_reply": "2024-08-07T19:35:02.451120Z"
    },
    "papermill": {
     "duration": 0.104933,
     "end_time": "2024-08-07T19:35:02.452770",
     "exception": false,
     "start_time": "2024-08-07T19:35:02.347837",
     "status": "completed"
    },
    "tags": []
   },
   "outputs": [
    {
     "data": {
      "text/plain": [
       "['NTC_53', 'NTC_123', 'NTC_306']"
      ]
     },
     "execution_count": 28,
     "metadata": {},
     "output_type": "execute_result"
    }
   ],
   "source": [
    "rm_ntcs = ntc_consistency[ntc_consistency['pvalue']<=0.01].index.tolist()\n",
    "rm_ntcs"
   ]
  },
  {
   "cell_type": "code",
   "execution_count": 29,
   "id": "c32216d2-0ecb-459b-8faf-62811c707201",
   "metadata": {
    "execution": {
     "iopub.execute_input": "2024-08-07T19:35:02.472264Z",
     "iopub.status.busy": "2024-08-07T19:35:02.471780Z",
     "iopub.status.idle": "2024-08-07T19:35:02.583084Z",
     "shell.execute_reply": "2024-08-07T19:35:02.582079Z"
    },
    "papermill": {
     "duration": 0.122563,
     "end_time": "2024-08-07T19:35:02.584740",
     "exception": false,
     "start_time": "2024-08-07T19:35:02.462177",
     "status": "completed"
    },
    "tags": []
   },
   "outputs": [],
   "source": [
    "c.obs['rm_ntc'] = 'No'\n",
    "c.obs.loc[c.obs['DemuxAssignment_crispr'].isin(rm_ntcs), 'rm_ntc'] = 'Yes'"
   ]
  },
  {
   "cell_type": "code",
   "execution_count": 30,
   "id": "f4e9a6c3-986b-4f23-9501-eb7fe38fe33b",
   "metadata": {
    "execution": {
     "iopub.execute_input": "2024-08-07T19:35:02.605884Z",
     "iopub.status.busy": "2024-08-07T19:35:02.605397Z",
     "iopub.status.idle": "2024-08-07T19:35:03.313582Z",
     "shell.execute_reply": "2024-08-07T19:35:03.312800Z"
    },
    "papermill": {
     "duration": 0.720177,
     "end_time": "2024-08-07T19:35:03.314912",
     "exception": false,
     "start_time": "2024-08-07T19:35:02.594735",
     "status": "completed"
    },
    "tags": []
   },
   "outputs": [
    {
     "data": {
      "text/plain": [
       "View of AnnData object with n_obs × n_vars = 581123 × 36603\n",
       "    obs: 'Sample', 'Barcode', 'DemuxType_crispr', 'DemuxAssignment_crispr', 'DemuxType_hashing', 'DemuxAssignment_hashing', 'cellline', 'timepoint', 'HTO', 'NGS_ID', 'Biological_replicate', '10Xrun', 'sublibrary', 'gRNA_library_MOI', 'gene_symbol', 'class', 'n_genes_by_counts', 'total_counts', 'total_counts_mt', 'pct_counts_mt', 'total_counts_ribo', 'pct_counts_ribo', 'qc_pass', 'S_score', 'G2M_score', 'phase', 'SCN_class', 'gem', 'batch', 'rm_ntc'\n",
       "    var: 'Symbol'\n",
       "    obsm: 'X_pca', 'X_pca_centered', 'X_pca_sphered', 'X_pca_sphered_Norm', 'X_scVI', 'X_scVI_centered', 'X_umap'\n",
       "    layers: 'counts'"
      ]
     },
     "execution_count": 30,
     "metadata": {},
     "output_type": "execute_result"
    }
   ],
   "source": [
    "c = c[c.obs['rm_ntc']=='No']\n",
    "c"
   ]
  },
  {
   "cell_type": "markdown",
   "id": "d898b8e3-daf4-4ef0-8603-d7ad905dd295",
   "metadata": {
    "papermill": {
     "duration": 0.009033,
     "end_time": "2024-08-07T19:35:03.333752",
     "exception": false,
     "start_time": "2024-08-07T19:35:03.324719",
     "status": "completed"
    },
    "tags": []
   },
   "source": [
    "### Update NTCs"
   ]
  },
  {
   "cell_type": "code",
   "execution_count": 31,
   "id": "0406f3af-84bb-4ec8-9dd3-405ad1576d16",
   "metadata": {
    "execution": {
     "iopub.execute_input": "2024-08-07T19:35:03.352474Z",
     "iopub.status.busy": "2024-08-07T19:35:03.352176Z",
     "iopub.status.idle": "2024-08-07T19:35:03.452471Z",
     "shell.execute_reply": "2024-08-07T19:35:03.451920Z"
    },
    "papermill": {
     "duration": 0.111472,
     "end_time": "2024-08-07T19:35:03.454020",
     "exception": false,
     "start_time": "2024-08-07T19:35:03.342548",
     "status": "completed"
    },
    "tags": []
   },
   "outputs": [],
   "source": [
    "ntcs_pool = {}\n",
    "W = eng.get_values_umap(c, 'gene_symbol', \"NTC\")\n",
    "ntcs_pool['pool'] = c[W].obsm[embeddings_key]"
   ]
  },
  {
   "cell_type": "markdown",
   "id": "6803e411-891f-43f9-a4a7-a3d260e2f7ba",
   "metadata": {
    "papermill": {
     "duration": 0.008967,
     "end_time": "2024-08-07T19:35:03.472443",
     "exception": false,
     "start_time": "2024-08-07T19:35:03.463476",
     "status": "completed"
    },
    "tags": []
   },
   "source": [
    "## Calculate actual EnergyDistance as ed"
   ]
  },
  {
   "cell_type": "code",
   "execution_count": 32,
   "id": "b96d7aa1-6b2a-4a9c-8121-4687091ea46c",
   "metadata": {
    "execution": {
     "iopub.execute_input": "2024-08-07T19:35:03.491802Z",
     "iopub.status.busy": "2024-08-07T19:35:03.491040Z",
     "iopub.status.idle": "2024-08-07T20:31:21.702183Z",
     "shell.execute_reply": "2024-08-07T20:31:21.701094Z"
    },
    "papermill": {
     "duration": 3378.222675,
     "end_time": "2024-08-07T20:31:21.703987",
     "exception": false,
     "start_time": "2024-08-07T19:35:03.481312",
     "status": "completed"
    },
    "tags": []
   },
   "outputs": [
    {
     "name": "stderr",
     "output_type": "stream",
     "text": [
      "/apps/user/gpy/envs/dev/GPUy310pascal/lib/python3.10/site-packages/distributed/node.py:182: UserWarning: Port 8787 is already in use.\n",
      "Perhaps you already have a cluster running?\n",
      "Hosting the HTTP server on port 41232 instead\n",
      "  warnings.warn(\n"
     ]
    }
   ],
   "source": [
    "ed = eng.run(\n",
    "    client = Client(processes=True, n_workers=32),\n",
    "    perturbations = pert, \n",
    "    controls = ntcs_pool,\n",
    "    pool = 'Yes'\n",
    ")"
   ]
  },
  {
   "cell_type": "markdown",
   "id": "e4ddeef4-8e83-4c14-b77c-6363890d3271",
   "metadata": {
    "papermill": {
     "duration": 0.008899,
     "end_time": "2024-08-07T20:31:21.723866",
     "exception": false,
     "start_time": "2024-08-07T20:31:21.714967",
     "status": "completed"
    },
    "tags": []
   },
   "source": [
    "### Restart the client before new Computations with the refreshed client"
   ]
  },
  {
   "cell_type": "code",
   "execution_count": 33,
   "id": "b21629f5-2e79-4b56-a581-177a7e4d26b6",
   "metadata": {
    "execution": {
     "iopub.execute_input": "2024-08-07T20:31:21.742658Z",
     "iopub.status.busy": "2024-08-07T20:31:21.742328Z",
     "iopub.status.idle": "2024-08-07T20:31:24.347234Z",
     "shell.execute_reply": "2024-08-07T20:31:24.346593Z"
    },
    "papermill": {
     "duration": 2.616275,
     "end_time": "2024-08-07T20:31:24.348981",
     "exception": false,
     "start_time": "2024-08-07T20:31:21.732706",
     "status": "completed"
    },
    "tags": []
   },
   "outputs": [],
   "source": [
    "#client = Client()\n",
    "#client.restart()"
   ]
  },
  {
   "cell_type": "code",
   "execution_count": 34,
   "id": "5c73b148-ed58-4dcd-8355-2b8a1cbdf9f2",
   "metadata": {
    "execution": {
     "iopub.execute_input": "2024-08-07T20:31:24.369808Z",
     "iopub.status.busy": "2024-08-07T20:31:24.369476Z",
     "iopub.status.idle": "2024-08-07T20:31:24.599513Z",
     "shell.execute_reply": "2024-08-07T20:31:24.594656Z"
    },
    "papermill": {
     "duration": 0.241907,
     "end_time": "2024-08-07T20:31:24.601098",
     "exception": false,
     "start_time": "2024-08-07T20:31:24.359191",
     "status": "completed"
    },
    "tags": []
   },
   "outputs": [
    {
     "data": {
      "text/html": [
       "<div>\n",
       "<style scoped>\n",
       "    .dataframe tbody tr th:only-of-type {\n",
       "        vertical-align: middle;\n",
       "    }\n",
       "\n",
       "    .dataframe tbody tr th {\n",
       "        vertical-align: top;\n",
       "    }\n",
       "\n",
       "    .dataframe thead th {\n",
       "        text-align: right;\n",
       "    }\n",
       "</style>\n",
       "<table border=\"1\" class=\"dataframe\">\n",
       "  <thead>\n",
       "    <tr style=\"text-align: right;\">\n",
       "      <th></th>\n",
       "      <th>pvalue</th>\n",
       "      <th>statistic</th>\n",
       "      <th>control_key</th>\n",
       "    </tr>\n",
       "  </thead>\n",
       "  <tbody>\n",
       "    <tr>\n",
       "      <th>ARL6IP6</th>\n",
       "      <td>0.0</td>\n",
       "      <td>0.156904</td>\n",
       "      <td>pool</td>\n",
       "    </tr>\n",
       "    <tr>\n",
       "      <th>EIF5B</th>\n",
       "      <td>0.0</td>\n",
       "      <td>0.519537</td>\n",
       "      <td>pool</td>\n",
       "    </tr>\n",
       "    <tr>\n",
       "      <th>MRPL30</th>\n",
       "      <td>0.0</td>\n",
       "      <td>0.114103</td>\n",
       "      <td>pool</td>\n",
       "    </tr>\n",
       "    <tr>\n",
       "      <th>CARNMT1</th>\n",
       "      <td>0.0</td>\n",
       "      <td>0.098514</td>\n",
       "      <td>pool</td>\n",
       "    </tr>\n",
       "    <tr>\n",
       "      <th>GMEB2</th>\n",
       "      <td>0.0</td>\n",
       "      <td>0.072723</td>\n",
       "      <td>pool</td>\n",
       "    </tr>\n",
       "    <tr>\n",
       "      <th>...</th>\n",
       "      <td>...</td>\n",
       "      <td>...</td>\n",
       "      <td>...</td>\n",
       "    </tr>\n",
       "    <tr>\n",
       "      <th>C3orf80</th>\n",
       "      <td>0.985</td>\n",
       "      <td>0.033755</td>\n",
       "      <td>pool</td>\n",
       "    </tr>\n",
       "    <tr>\n",
       "      <th>TMX4</th>\n",
       "      <td>0.987</td>\n",
       "      <td>0.038369</td>\n",
       "      <td>pool</td>\n",
       "    </tr>\n",
       "    <tr>\n",
       "      <th>TLNRD1</th>\n",
       "      <td>0.992</td>\n",
       "      <td>0.043174</td>\n",
       "      <td>pool</td>\n",
       "    </tr>\n",
       "    <tr>\n",
       "      <th>CRYBA2</th>\n",
       "      <td>0.994</td>\n",
       "      <td>0.054075</td>\n",
       "      <td>pool</td>\n",
       "    </tr>\n",
       "    <tr>\n",
       "      <th>LEP</th>\n",
       "      <td>0.996</td>\n",
       "      <td>0.036433</td>\n",
       "      <td>pool</td>\n",
       "    </tr>\n",
       "  </tbody>\n",
       "</table>\n",
       "<p>4974 rows × 3 columns</p>\n",
       "</div>"
      ],
      "text/plain": [
       "        pvalue statistic control_key\n",
       "ARL6IP6    0.0  0.156904        pool\n",
       "EIF5B      0.0  0.519537        pool\n",
       "MRPL30     0.0  0.114103        pool\n",
       "CARNMT1    0.0  0.098514        pool\n",
       "GMEB2      0.0  0.072723        pool\n",
       "...        ...       ...         ...\n",
       "C3orf80  0.985  0.033755        pool\n",
       "TMX4     0.987  0.038369        pool\n",
       "TLNRD1   0.992  0.043174        pool\n",
       "CRYBA2   0.994  0.054075        pool\n",
       "LEP      0.996  0.036433        pool\n",
       "\n",
       "[4974 rows x 3 columns]"
      ]
     },
     "execution_count": 34,
     "metadata": {},
     "output_type": "execute_result"
    }
   ],
   "source": [
    "PVAL = pd.DataFrame(ed).T.sort_values(by='pvalue')\n",
    "PVAL"
   ]
  },
  {
   "cell_type": "markdown",
   "id": "32a897ae-b020-4f4c-9fb6-b98b19ab43f6",
   "metadata": {
    "papermill": {
     "duration": 0.009388,
     "end_time": "2024-08-07T20:31:24.621133",
     "exception": false,
     "start_time": "2024-08-07T20:31:24.611745",
     "status": "completed"
    },
    "tags": []
   },
   "source": [
    "#### p-value should be 1/1000 at minimum (for 1000 permutations)"
   ]
  },
  {
   "cell_type": "code",
   "execution_count": 35,
   "id": "34898054-e1cf-4bb8-9105-c7e6c86d8520",
   "metadata": {
    "execution": {
     "iopub.execute_input": "2024-08-07T20:31:24.640862Z",
     "iopub.status.busy": "2024-08-07T20:31:24.640612Z",
     "iopub.status.idle": "2024-08-07T20:31:24.836304Z",
     "shell.execute_reply": "2024-08-07T20:31:24.835720Z"
    },
    "papermill": {
     "duration": 0.207523,
     "end_time": "2024-08-07T20:31:24.837887",
     "exception": false,
     "start_time": "2024-08-07T20:31:24.630364",
     "status": "completed"
    },
    "tags": []
   },
   "outputs": [],
   "source": [
    "PVAL['pvalue'] = PVAL['pvalue'].replace(0,0.001)"
   ]
  },
  {
   "cell_type": "code",
   "execution_count": 36,
   "id": "7288550e-99de-47eb-8025-256728eb7136",
   "metadata": {
    "execution": {
     "iopub.execute_input": "2024-08-07T20:31:24.858203Z",
     "iopub.status.busy": "2024-08-07T20:31:24.857646Z",
     "iopub.status.idle": "2024-08-07T20:31:24.982405Z",
     "shell.execute_reply": "2024-08-07T20:31:24.981628Z"
    },
    "papermill": {
     "duration": 0.136184,
     "end_time": "2024-08-07T20:31:24.983873",
     "exception": false,
     "start_time": "2024-08-07T20:31:24.847689",
     "status": "completed"
    },
    "tags": []
   },
   "outputs": [],
   "source": [
    "PVAL['gene_symbol'] = PVAL.index\n",
    "PVAL.to_csv(out_csv)"
   ]
  },
  {
   "cell_type": "markdown",
   "id": "f66e387d-decd-4193-b455-b69f64132c96",
   "metadata": {
    "papermill": {
     "duration": 0.009208,
     "end_time": "2024-08-07T20:31:25.003045",
     "exception": false,
     "start_time": "2024-08-07T20:31:24.993837",
     "status": "completed"
    },
    "tags": []
   },
   "source": [
    "### Add the energy distance info to adata"
   ]
  },
  {
   "cell_type": "code",
   "execution_count": 37,
   "id": "d44dfcd6-3f10-4689-a3db-d1b628be65fb",
   "metadata": {
    "execution": {
     "iopub.execute_input": "2024-08-07T20:31:25.022368Z",
     "iopub.status.busy": "2024-08-07T20:31:25.022135Z",
     "iopub.status.idle": "2024-08-07T20:31:25.280730Z",
     "shell.execute_reply": "2024-08-07T20:31:25.279560Z"
    },
    "papermill": {
     "duration": 0.270252,
     "end_time": "2024-08-07T20:31:25.282365",
     "exception": false,
     "start_time": "2024-08-07T20:31:25.012113",
     "status": "completed"
    },
    "tags": []
   },
   "outputs": [],
   "source": [
    "ed_df = pd.DataFrame(ed).T.copy()"
   ]
  },
  {
   "cell_type": "code",
   "execution_count": 38,
   "id": "2b688711-ccd5-487e-9ce3-8fb98837375d",
   "metadata": {
    "execution": {
     "iopub.execute_input": "2024-08-07T20:31:25.303092Z",
     "iopub.status.busy": "2024-08-07T20:31:25.302708Z",
     "iopub.status.idle": "2024-08-07T20:31:25.435287Z",
     "shell.execute_reply": "2024-08-07T20:31:25.434508Z"
    },
    "papermill": {
     "duration": 0.144389,
     "end_time": "2024-08-07T20:31:25.436920",
     "exception": false,
     "start_time": "2024-08-07T20:31:25.292531",
     "status": "completed"
    },
    "tags": []
   },
   "outputs": [],
   "source": [
    "ed_df['gene_symbol'] = ed_df.index\n",
    "ed_df=ed_df.reset_index(drop=True)"
   ]
  },
  {
   "cell_type": "code",
   "execution_count": 39,
   "id": "7de3cfb1-65e5-4db0-bccc-d1ea78f480ad",
   "metadata": {
    "execution": {
     "iopub.execute_input": "2024-08-07T20:31:25.457294Z",
     "iopub.status.busy": "2024-08-07T20:31:25.456805Z",
     "iopub.status.idle": "2024-08-07T20:31:25.574238Z",
     "shell.execute_reply": "2024-08-07T20:31:25.573290Z"
    },
    "papermill": {
     "duration": 0.129184,
     "end_time": "2024-08-07T20:31:25.575981",
     "exception": false,
     "start_time": "2024-08-07T20:31:25.446797",
     "status": "completed"
    },
    "tags": []
   },
   "outputs": [],
   "source": [
    "ed_df['pvalue'] = ed_df['pvalue'].replace(0,0.001)"
   ]
  },
  {
   "cell_type": "code",
   "execution_count": 40,
   "id": "7524de3d-fd55-4380-9353-8cb96e1ff450",
   "metadata": {
    "execution": {
     "iopub.execute_input": "2024-08-07T20:31:25.597269Z",
     "iopub.status.busy": "2024-08-07T20:31:25.596639Z",
     "iopub.status.idle": "2024-08-07T20:31:25.762497Z",
     "shell.execute_reply": "2024-08-07T20:31:25.761474Z"
    },
    "papermill": {
     "duration": 0.178047,
     "end_time": "2024-08-07T20:31:25.764135",
     "exception": false,
     "start_time": "2024-08-07T20:31:25.586088",
     "status": "completed"
    },
    "tags": []
   },
   "outputs": [],
   "source": [
    "ed_df = ed_df.rename(columns={\"pvalue\":\"energy_distance_pvalue\",\"statistic\":\"energy_distance_statistic\",\"control_key\":\"energy_distance_control_key\"})"
   ]
  },
  {
   "cell_type": "code",
   "execution_count": 41,
   "id": "dbea9031-c414-4d91-be7d-9db02adcb594",
   "metadata": {
    "execution": {
     "iopub.execute_input": "2024-08-07T20:31:25.784830Z",
     "iopub.status.busy": "2024-08-07T20:31:25.784537Z",
     "iopub.status.idle": "2024-08-07T20:31:26.429597Z",
     "shell.execute_reply": "2024-08-07T20:31:26.428731Z"
    },
    "papermill": {
     "duration": 0.656851,
     "end_time": "2024-08-07T20:31:26.431178",
     "exception": false,
     "start_time": "2024-08-07T20:31:25.774327",
     "status": "completed"
    },
    "tags": []
   },
   "outputs": [],
   "source": [
    "df_uns = adata.obs.reset_index().merge(ed_df, on=\"gene_symbol\", how=\"left\").set_index('index')\n",
    "df_uns.index.name = None"
   ]
  },
  {
   "cell_type": "code",
   "execution_count": 42,
   "id": "87b169e3-c899-4559-a3d8-9b451c8e5e12",
   "metadata": {
    "execution": {
     "iopub.execute_input": "2024-08-07T20:31:26.452643Z",
     "iopub.status.busy": "2024-08-07T20:31:26.452107Z",
     "iopub.status.idle": "2024-08-07T20:31:26.578077Z",
     "shell.execute_reply": "2024-08-07T20:31:26.577244Z"
    },
    "papermill": {
     "duration": 0.137843,
     "end_time": "2024-08-07T20:31:26.579698",
     "exception": false,
     "start_time": "2024-08-07T20:31:26.441855",
     "status": "completed"
    },
    "tags": []
   },
   "outputs": [],
   "source": [
    "b=['energy_distance_pvalue','energy_distance_statistic']#,'energy_distance_control_key','phenotype']\n",
    "\n",
    "for el in b:\n",
    "    df_uns[el] = df_uns[el].astype(float)"
   ]
  },
  {
   "cell_type": "code",
   "execution_count": 43,
   "id": "160be9c6-f069-4877-b59d-c8c4ec942553",
   "metadata": {
    "execution": {
     "iopub.execute_input": "2024-08-07T20:31:26.600892Z",
     "iopub.status.busy": "2024-08-07T20:31:26.600423Z",
     "iopub.status.idle": "2024-08-07T20:31:26.786032Z",
     "shell.execute_reply": "2024-08-07T20:31:26.784859Z"
    },
    "papermill": {
     "duration": 0.197864,
     "end_time": "2024-08-07T20:31:26.787798",
     "exception": false,
     "start_time": "2024-08-07T20:31:26.589934",
     "status": "completed"
    },
    "tags": []
   },
   "outputs": [
    {
     "data": {
      "text/html": [
       "<div>\n",
       "<style scoped>\n",
       "    .dataframe tbody tr th:only-of-type {\n",
       "        vertical-align: middle;\n",
       "    }\n",
       "\n",
       "    .dataframe tbody tr th {\n",
       "        vertical-align: top;\n",
       "    }\n",
       "\n",
       "    .dataframe thead th {\n",
       "        text-align: right;\n",
       "    }\n",
       "</style>\n",
       "<table border=\"1\" class=\"dataframe\">\n",
       "  <thead>\n",
       "    <tr style=\"text-align: right;\">\n",
       "      <th></th>\n",
       "      <th>Sample</th>\n",
       "      <th>Barcode</th>\n",
       "      <th>DemuxType_crispr</th>\n",
       "      <th>DemuxAssignment_crispr</th>\n",
       "      <th>DemuxType_hashing</th>\n",
       "      <th>DemuxAssignment_hashing</th>\n",
       "      <th>cellline</th>\n",
       "      <th>timepoint</th>\n",
       "      <th>HTO</th>\n",
       "      <th>NGS_ID</th>\n",
       "      <th>...</th>\n",
       "      <th>pct_counts_ribo</th>\n",
       "      <th>qc_pass</th>\n",
       "      <th>S_score</th>\n",
       "      <th>G2M_score</th>\n",
       "      <th>phase</th>\n",
       "      <th>SCN_class</th>\n",
       "      <th>gem</th>\n",
       "      <th>energy_distance_pvalue</th>\n",
       "      <th>energy_distance_statistic</th>\n",
       "      <th>energy_distance_control_key</th>\n",
       "    </tr>\n",
       "  </thead>\n",
       "  <tbody>\n",
       "    <tr>\n",
       "      <th>SAM24451293_rep1-AAACCCAAGAAATCCA</th>\n",
       "      <td>SAM24451293</td>\n",
       "      <td>AAACCCAAGAAATCCA</td>\n",
       "      <td>singlet</td>\n",
       "      <td>ENSG00000154124_2</td>\n",
       "      <td>singlet</td>\n",
       "      <td>SAM24439044</td>\n",
       "      <td>DLD1</td>\n",
       "      <td>day5</td>\n",
       "      <td>HTO-14</td>\n",
       "      <td>NGS5774</td>\n",
       "      <td>...</td>\n",
       "      <td>19.529837</td>\n",
       "      <td>True</td>\n",
       "      <td>-0.734884</td>\n",
       "      <td>-0.491440</td>\n",
       "      <td>G1</td>\n",
       "      <td>Untreatedclus_DLD1</td>\n",
       "      <td>NGS5774-1</td>\n",
       "      <td>0.041</td>\n",
       "      <td>0.056395</td>\n",
       "      <td>pool</td>\n",
       "    </tr>\n",
       "    <tr>\n",
       "      <th>SAM24451293_rep1-AAACCCAAGACAGTCG</th>\n",
       "      <td>SAM24451293</td>\n",
       "      <td>AAACCCAAGACAGTCG</td>\n",
       "      <td>singlet</td>\n",
       "      <td>ENSG00000171017_3</td>\n",
       "      <td>singlet</td>\n",
       "      <td>SAM24439045</td>\n",
       "      <td>DLD1</td>\n",
       "      <td>day5</td>\n",
       "      <td>HTO-18</td>\n",
       "      <td>NGS5774</td>\n",
       "      <td>...</td>\n",
       "      <td>22.065006</td>\n",
       "      <td>True</td>\n",
       "      <td>-0.493023</td>\n",
       "      <td>0.231481</td>\n",
       "      <td>G2M</td>\n",
       "      <td>Untreatedclus_DLD1</td>\n",
       "      <td>NGS5774-1</td>\n",
       "      <td>0.001</td>\n",
       "      <td>0.070929</td>\n",
       "      <td>pool</td>\n",
       "    </tr>\n",
       "    <tr>\n",
       "      <th>SAM24451293_rep1-AAACCCACAGACCCGT</th>\n",
       "      <td>SAM24451293</td>\n",
       "      <td>AAACCCACAGACCCGT</td>\n",
       "      <td>singlet</td>\n",
       "      <td>ENSG00000140057_1</td>\n",
       "      <td>singlet</td>\n",
       "      <td>SAM24439043</td>\n",
       "      <td>DLD1</td>\n",
       "      <td>day5</td>\n",
       "      <td>HTO-10</td>\n",
       "      <td>NGS5774</td>\n",
       "      <td>...</td>\n",
       "      <td>14.875622</td>\n",
       "      <td>True</td>\n",
       "      <td>-0.158140</td>\n",
       "      <td>-0.564640</td>\n",
       "      <td>G1</td>\n",
       "      <td>Untreatedclus_DLD1</td>\n",
       "      <td>NGS5774-1</td>\n",
       "      <td>0.205</td>\n",
       "      <td>0.049911</td>\n",
       "      <td>pool</td>\n",
       "    </tr>\n",
       "    <tr>\n",
       "      <th>SAM24451293_rep1-AAACCCAGTAACGATA</th>\n",
       "      <td>SAM24451293</td>\n",
       "      <td>AAACCCAGTAACGATA</td>\n",
       "      <td>singlet</td>\n",
       "      <td>ENSG00000188611_3</td>\n",
       "      <td>singlet</td>\n",
       "      <td>POSITIVE_CONTROL</td>\n",
       "      <td>DLD1</td>\n",
       "      <td>day5</td>\n",
       "      <td>HTO-19</td>\n",
       "      <td>NGS5774</td>\n",
       "      <td>...</td>\n",
       "      <td>25.018056</td>\n",
       "      <td>True</td>\n",
       "      <td>-0.520930</td>\n",
       "      <td>-0.385045</td>\n",
       "      <td>G1</td>\n",
       "      <td>Untreatedclus_DLD1</td>\n",
       "      <td>NGS5774-1</td>\n",
       "      <td>0.704</td>\n",
       "      <td>0.037735</td>\n",
       "      <td>pool</td>\n",
       "    </tr>\n",
       "    <tr>\n",
       "      <th>SAM24451293_rep1-AAACCCAGTACGACAG</th>\n",
       "      <td>SAM24451293</td>\n",
       "      <td>AAACCCAGTACGACAG</td>\n",
       "      <td>singlet</td>\n",
       "      <td>ENSG00000166664_2</td>\n",
       "      <td>singlet</td>\n",
       "      <td>SAM24439043</td>\n",
       "      <td>DLD1</td>\n",
       "      <td>day5</td>\n",
       "      <td>HTO-1</td>\n",
       "      <td>NGS5774</td>\n",
       "      <td>...</td>\n",
       "      <td>17.613996</td>\n",
       "      <td>True</td>\n",
       "      <td>0.334884</td>\n",
       "      <td>-0.072851</td>\n",
       "      <td>S</td>\n",
       "      <td>Untreatedclus_DLD1</td>\n",
       "      <td>NGS5774-1</td>\n",
       "      <td>0.035</td>\n",
       "      <td>0.048991</td>\n",
       "      <td>pool</td>\n",
       "    </tr>\n",
       "  </tbody>\n",
       "</table>\n",
       "<p>5 rows × 31 columns</p>\n",
       "</div>"
      ],
      "text/plain": [
       "                                        Sample           Barcode  \\\n",
       "SAM24451293_rep1-AAACCCAAGAAATCCA  SAM24451293  AAACCCAAGAAATCCA   \n",
       "SAM24451293_rep1-AAACCCAAGACAGTCG  SAM24451293  AAACCCAAGACAGTCG   \n",
       "SAM24451293_rep1-AAACCCACAGACCCGT  SAM24451293  AAACCCACAGACCCGT   \n",
       "SAM24451293_rep1-AAACCCAGTAACGATA  SAM24451293  AAACCCAGTAACGATA   \n",
       "SAM24451293_rep1-AAACCCAGTACGACAG  SAM24451293  AAACCCAGTACGACAG   \n",
       "\n",
       "                                  DemuxType_crispr DemuxAssignment_crispr  \\\n",
       "SAM24451293_rep1-AAACCCAAGAAATCCA          singlet      ENSG00000154124_2   \n",
       "SAM24451293_rep1-AAACCCAAGACAGTCG          singlet      ENSG00000171017_3   \n",
       "SAM24451293_rep1-AAACCCACAGACCCGT          singlet      ENSG00000140057_1   \n",
       "SAM24451293_rep1-AAACCCAGTAACGATA          singlet      ENSG00000188611_3   \n",
       "SAM24451293_rep1-AAACCCAGTACGACAG          singlet      ENSG00000166664_2   \n",
       "\n",
       "                                  DemuxType_hashing DemuxAssignment_hashing  \\\n",
       "SAM24451293_rep1-AAACCCAAGAAATCCA           singlet             SAM24439044   \n",
       "SAM24451293_rep1-AAACCCAAGACAGTCG           singlet             SAM24439045   \n",
       "SAM24451293_rep1-AAACCCACAGACCCGT           singlet             SAM24439043   \n",
       "SAM24451293_rep1-AAACCCAGTAACGATA           singlet        POSITIVE_CONTROL   \n",
       "SAM24451293_rep1-AAACCCAGTACGACAG           singlet             SAM24439043   \n",
       "\n",
       "                                  cellline timepoint     HTO   NGS_ID  ...  \\\n",
       "SAM24451293_rep1-AAACCCAAGAAATCCA     DLD1      day5  HTO-14  NGS5774  ...   \n",
       "SAM24451293_rep1-AAACCCAAGACAGTCG     DLD1      day5  HTO-18  NGS5774  ...   \n",
       "SAM24451293_rep1-AAACCCACAGACCCGT     DLD1      day5  HTO-10  NGS5774  ...   \n",
       "SAM24451293_rep1-AAACCCAGTAACGATA     DLD1      day5  HTO-19  NGS5774  ...   \n",
       "SAM24451293_rep1-AAACCCAGTACGACAG     DLD1      day5   HTO-1  NGS5774  ...   \n",
       "\n",
       "                                  pct_counts_ribo qc_pass   S_score G2M_score  \\\n",
       "SAM24451293_rep1-AAACCCAAGAAATCCA       19.529837    True -0.734884 -0.491440   \n",
       "SAM24451293_rep1-AAACCCAAGACAGTCG       22.065006    True -0.493023  0.231481   \n",
       "SAM24451293_rep1-AAACCCACAGACCCGT       14.875622    True -0.158140 -0.564640   \n",
       "SAM24451293_rep1-AAACCCAGTAACGATA       25.018056    True -0.520930 -0.385045   \n",
       "SAM24451293_rep1-AAACCCAGTACGACAG       17.613996    True  0.334884 -0.072851   \n",
       "\n",
       "                                  phase           SCN_class        gem  \\\n",
       "SAM24451293_rep1-AAACCCAAGAAATCCA    G1  Untreatedclus_DLD1  NGS5774-1   \n",
       "SAM24451293_rep1-AAACCCAAGACAGTCG   G2M  Untreatedclus_DLD1  NGS5774-1   \n",
       "SAM24451293_rep1-AAACCCACAGACCCGT    G1  Untreatedclus_DLD1  NGS5774-1   \n",
       "SAM24451293_rep1-AAACCCAGTAACGATA    G1  Untreatedclus_DLD1  NGS5774-1   \n",
       "SAM24451293_rep1-AAACCCAGTACGACAG     S  Untreatedclus_DLD1  NGS5774-1   \n",
       "\n",
       "                                   energy_distance_pvalue  \\\n",
       "SAM24451293_rep1-AAACCCAAGAAATCCA                   0.041   \n",
       "SAM24451293_rep1-AAACCCAAGACAGTCG                   0.001   \n",
       "SAM24451293_rep1-AAACCCACAGACCCGT                   0.205   \n",
       "SAM24451293_rep1-AAACCCAGTAACGATA                   0.704   \n",
       "SAM24451293_rep1-AAACCCAGTACGACAG                   0.035   \n",
       "\n",
       "                                   energy_distance_statistic  \\\n",
       "SAM24451293_rep1-AAACCCAAGAAATCCA                   0.056395   \n",
       "SAM24451293_rep1-AAACCCAAGACAGTCG                   0.070929   \n",
       "SAM24451293_rep1-AAACCCACAGACCCGT                   0.049911   \n",
       "SAM24451293_rep1-AAACCCAGTAACGATA                   0.037735   \n",
       "SAM24451293_rep1-AAACCCAGTACGACAG                   0.048991   \n",
       "\n",
       "                                   energy_distance_control_key  \n",
       "SAM24451293_rep1-AAACCCAAGAAATCCA                         pool  \n",
       "SAM24451293_rep1-AAACCCAAGACAGTCG                         pool  \n",
       "SAM24451293_rep1-AAACCCACAGACCCGT                         pool  \n",
       "SAM24451293_rep1-AAACCCAGTAACGATA                         pool  \n",
       "SAM24451293_rep1-AAACCCAGTACGACAG                         pool  \n",
       "\n",
       "[5 rows x 31 columns]"
      ]
     },
     "execution_count": 43,
     "metadata": {},
     "output_type": "execute_result"
    }
   ],
   "source": [
    "df_uns.head()"
   ]
  },
  {
   "cell_type": "code",
   "execution_count": 44,
   "id": "8a128914-749a-45e3-9d07-f4056b0449e2",
   "metadata": {
    "execution": {
     "iopub.execute_input": "2024-08-07T20:31:26.809183Z",
     "iopub.status.busy": "2024-08-07T20:31:26.808641Z",
     "iopub.status.idle": "2024-08-07T20:31:26.920862Z",
     "shell.execute_reply": "2024-08-07T20:31:26.920215Z"
    },
    "papermill": {
     "duration": 0.12416,
     "end_time": "2024-08-07T20:31:26.922454",
     "exception": false,
     "start_time": "2024-08-07T20:31:26.798294",
     "status": "completed"
    },
    "tags": []
   },
   "outputs": [],
   "source": [
    "#df_uns.index = df_uns.index.astype(str)"
   ]
  },
  {
   "cell_type": "code",
   "execution_count": 45,
   "id": "af7b1be8-d644-4330-9583-f1c6ed76a553",
   "metadata": {
    "execution": {
     "iopub.execute_input": "2024-08-07T20:31:26.943655Z",
     "iopub.status.busy": "2024-08-07T20:31:26.943326Z",
     "iopub.status.idle": "2024-08-07T20:31:27.070795Z",
     "shell.execute_reply": "2024-08-07T20:31:27.070043Z"
    },
    "papermill": {
     "duration": 0.139456,
     "end_time": "2024-08-07T20:31:27.072395",
     "exception": false,
     "start_time": "2024-08-07T20:31:26.932939",
     "status": "completed"
    },
    "tags": []
   },
   "outputs": [],
   "source": [
    "df_uns = df_uns.drop(columns='energy_distance_control_key')"
   ]
  },
  {
   "cell_type": "code",
   "execution_count": 46,
   "id": "3069e8b2-8e6c-49d3-8da8-21978d35197c",
   "metadata": {
    "execution": {
     "iopub.execute_input": "2024-08-07T20:31:27.093815Z",
     "iopub.status.busy": "2024-08-07T20:31:27.093528Z",
     "iopub.status.idle": "2024-08-07T20:31:27.277351Z",
     "shell.execute_reply": "2024-08-07T20:31:27.276604Z"
    },
    "papermill": {
     "duration": 0.196116,
     "end_time": "2024-08-07T20:31:27.279101",
     "exception": false,
     "start_time": "2024-08-07T20:31:27.082985",
     "status": "completed"
    },
    "tags": []
   },
   "outputs": [],
   "source": [
    "df_uns['phenotype'] = 'No'\n",
    "df_uns.loc[df_uns['energy_distance_pvalue']<=pVAL, 'phenotype'] = 'Yes'"
   ]
  },
  {
   "cell_type": "code",
   "execution_count": 47,
   "id": "36ab0df3-09a7-44e5-a271-6c435008735c",
   "metadata": {
    "execution": {
     "iopub.execute_input": "2024-08-07T20:31:27.301141Z",
     "iopub.status.busy": "2024-08-07T20:31:27.300437Z",
     "iopub.status.idle": "2024-08-07T20:31:27.567955Z",
     "shell.execute_reply": "2024-08-07T20:31:27.567358Z"
    },
    "papermill": {
     "duration": 0.279377,
     "end_time": "2024-08-07T20:31:27.569197",
     "exception": false,
     "start_time": "2024-08-07T20:31:27.289820",
     "status": "completed"
    },
    "tags": []
   },
   "outputs": [
    {
     "data": {
      "text/plain": [
       "3179"
      ]
     },
     "execution_count": 47,
     "metadata": {},
     "output_type": "execute_result"
    }
   ],
   "source": [
    "PHENO = df_uns[df_uns['phenotype']=='Yes'].copy()\n",
    "PHENO['gene_symbol'].nunique()"
   ]
  },
  {
   "cell_type": "markdown",
   "id": "79d8b13c-41a8-4557-a592-842f0cfb9a6d",
   "metadata": {
    "papermill": {
     "duration": 0.009924,
     "end_time": "2024-08-07T20:31:27.589765",
     "exception": false,
     "start_time": "2024-08-07T20:31:27.579841",
     "status": "completed"
    },
    "tags": []
   },
   "source": [
    "## Update the annadata object and write out the output"
   ]
  },
  {
   "cell_type": "code",
   "execution_count": 48,
   "id": "45121276-0370-43d6-bcb9-26fcb8d3c474",
   "metadata": {
    "execution": {
     "iopub.execute_input": "2024-08-07T20:31:27.610944Z",
     "iopub.status.busy": "2024-08-07T20:31:27.610596Z",
     "iopub.status.idle": "2024-08-07T20:31:27.816883Z",
     "shell.execute_reply": "2024-08-07T20:31:27.815625Z"
    },
    "papermill": {
     "duration": 0.219024,
     "end_time": "2024-08-07T20:31:27.818648",
     "exception": false,
     "start_time": "2024-08-07T20:31:27.599624",
     "status": "completed"
    },
    "tags": []
   },
   "outputs": [],
   "source": [
    "df_uns_ED = df_uns[['energy_distance_pvalue','energy_distance_statistic','phenotype']].copy()\n",
    "df_uns_ED = df_uns_ED.rename(columns={'phenotype': 'phenotype_@0.05'})"
   ]
  },
  {
   "cell_type": "code",
   "execution_count": 49,
   "id": "c7b5e19f-3075-4451-8e3f-37ac6fbb7667",
   "metadata": {
    "execution": {
     "iopub.execute_input": "2024-08-07T20:31:27.840982Z",
     "iopub.status.busy": "2024-08-07T20:31:27.840605Z",
     "iopub.status.idle": "2024-08-07T20:31:27.943388Z",
     "shell.execute_reply": "2024-08-07T20:31:27.942758Z"
    },
    "papermill": {
     "duration": 0.115569,
     "end_time": "2024-08-07T20:31:27.944976",
     "exception": false,
     "start_time": "2024-08-07T20:31:27.829407",
     "status": "completed"
    },
    "tags": []
   },
   "outputs": [],
   "source": [
    "if 'energy_distance' not in adata.uns:\n",
    "    adata.uns[\"energy_distance\"]={}"
   ]
  },
  {
   "cell_type": "code",
   "execution_count": 50,
   "id": "232ff50d-93c3-43de-bc61-58a777f63978",
   "metadata": {
    "execution": {
     "iopub.execute_input": "2024-08-07T20:31:27.966356Z",
     "iopub.status.busy": "2024-08-07T20:31:27.966084Z",
     "iopub.status.idle": "2024-08-07T20:31:28.072368Z",
     "shell.execute_reply": "2024-08-07T20:31:28.071528Z"
    },
    "papermill": {
     "duration": 0.118422,
     "end_time": "2024-08-07T20:31:28.073925",
     "exception": false,
     "start_time": "2024-08-07T20:31:27.955503",
     "status": "completed"
    },
    "tags": []
   },
   "outputs": [],
   "source": [
    "adata.uns[\"energy_distance\"][key_uns]=df_uns_ED"
   ]
  },
  {
   "cell_type": "code",
   "execution_count": 51,
   "id": "7ea8e887-a312-4e0b-a095-7331c08a6c27",
   "metadata": {
    "execution": {
     "iopub.execute_input": "2024-08-07T20:31:28.095745Z",
     "iopub.status.busy": "2024-08-07T20:31:28.095459Z",
     "iopub.status.idle": "2024-08-07T20:32:39.043739Z",
     "shell.execute_reply": "2024-08-07T20:32:39.042891Z"
    },
    "papermill": {
     "duration": 70.960799,
     "end_time": "2024-08-07T20:32:39.045388",
     "exception": false,
     "start_time": "2024-08-07T20:31:28.084589",
     "status": "completed"
    },
    "tags": []
   },
   "outputs": [],
   "source": [
    "adata.write(ED_file)"
   ]
  },
  {
   "cell_type": "markdown",
   "id": "cf54ed93-8ed8-49df-ac4e-0036135f09d2",
   "metadata": {
    "papermill": {
     "duration": 0.010381,
     "end_time": "2024-08-07T20:32:39.089543",
     "exception": false,
     "start_time": "2024-08-07T20:32:39.079162",
     "status": "completed"
    },
    "tags": []
   },
   "source": [
    "## Data Tabulation"
   ]
  },
  {
   "cell_type": "code",
   "execution_count": 52,
   "id": "ec3eb58c-cb70-4c93-bfbf-7d11abcbaddd",
   "metadata": {
    "execution": {
     "iopub.execute_input": "2024-08-07T20:32:39.111006Z",
     "iopub.status.busy": "2024-08-07T20:32:39.110645Z",
     "iopub.status.idle": "2024-08-07T20:32:40.087405Z",
     "shell.execute_reply": "2024-08-07T20:32:40.086700Z"
    },
    "papermill": {
     "duration": 0.989377,
     "end_time": "2024-08-07T20:32:40.088859",
     "exception": false,
     "start_time": "2024-08-07T20:32:39.099482",
     "status": "completed"
    },
    "tags": []
   },
   "outputs": [
    {
     "data": {
      "text/plain": [
       "SCN_class             phenotype\n",
       "DOXclus_CL34          No               60\n",
       "                      Yes             129\n",
       "DOXclus_DLD1          No            22168\n",
       "                      Yes           41648\n",
       "DOXclus_HCA7          No                5\n",
       "                      Yes              14\n",
       "DOXclus_HT55          No                1\n",
       "                      Yes               0\n",
       "DOXclus_MDST8         No               24\n",
       "                      Yes              62\n",
       "DOXclus_SW480         No                1\n",
       "                      Yes               2\n",
       "DOXclus_SW620         No                0\n",
       "                      Yes               1\n",
       "DOXclus_SW1463        No              307\n",
       "                      Yes             690\n",
       "Untreatedclus_CL34    No                2\n",
       "                      Yes               6\n",
       "Untreatedclus_DLD1    No           208118\n",
       "                      Yes          319183\n",
       "Untreatedclus_HT55    No                0\n",
       "                      Yes               1\n",
       "Untreatedclus_RCM1    No              472\n",
       "                      Yes            1138\n",
       "Untreatedclus_SKCO1   No               16\n",
       "                      Yes              46\n",
       "Untreatedclus_SW403   No                0\n",
       "                      Yes               3\n",
       "Untreatedclus_SW620   No               87\n",
       "                      Yes             176\n",
       "Untreatedclus_SW837   No               12\n",
       "                      Yes              33\n",
       "Untreatedclus_SW948   No                1\n",
       "                      Yes               1\n",
       "Untreatedclus_SW1417  No               23\n",
       "                      Yes              48\n",
       "Untreatedclus_SW1463  No               47\n",
       "                      Yes             143\n",
       "Untreatedclus_T84     No               89\n",
       "                      Yes             227\n",
       "rand                  No              187\n",
       "                      Yes             432\n",
       "Name: gene_symbol, dtype: int64"
      ]
     },
     "execution_count": 52,
     "metadata": {},
     "output_type": "execute_result"
    }
   ],
   "source": [
    "df_uns.groupby(['SCN_class', 'phenotype'])['gene_symbol'].size()"
   ]
  },
  {
   "cell_type": "code",
   "execution_count": 53,
   "id": "9fd44015-b144-450d-964a-1d196a326fe7",
   "metadata": {
    "execution": {
     "iopub.execute_input": "2024-08-07T20:32:40.112659Z",
     "iopub.status.busy": "2024-08-07T20:32:40.112212Z",
     "iopub.status.idle": "2024-08-07T20:32:40.388354Z",
     "shell.execute_reply": "2024-08-07T20:32:40.387594Z"
    },
    "papermill": {
     "duration": 0.289238,
     "end_time": "2024-08-07T20:32:40.389588",
     "exception": false,
     "start_time": "2024-08-07T20:32:40.100350",
     "status": "completed"
    },
    "tags": []
   },
   "outputs": [
    {
     "data": {
      "text/html": [
       "<div>\n",
       "<style scoped>\n",
       "    .dataframe tbody tr th:only-of-type {\n",
       "        vertical-align: middle;\n",
       "    }\n",
       "\n",
       "    .dataframe tbody tr th {\n",
       "        vertical-align: top;\n",
       "    }\n",
       "\n",
       "    .dataframe thead th {\n",
       "        text-align: right;\n",
       "    }\n",
       "</style>\n",
       "<table border=\"1\" class=\"dataframe\">\n",
       "  <thead>\n",
       "    <tr style=\"text-align: right;\">\n",
       "      <th></th>\n",
       "      <th>gene_symbol</th>\n",
       "      <th>cnt</th>\n",
       "    </tr>\n",
       "  </thead>\n",
       "  <tbody>\n",
       "    <tr>\n",
       "      <th>2719</th>\n",
       "      <td>TCF7L2</td>\n",
       "      <td>118</td>\n",
       "    </tr>\n",
       "    <tr>\n",
       "      <th>566</th>\n",
       "      <td>CTNNB1</td>\n",
       "      <td>78</td>\n",
       "    </tr>\n",
       "    <tr>\n",
       "      <th>1690</th>\n",
       "      <td>MYC</td>\n",
       "      <td>65</td>\n",
       "    </tr>\n",
       "    <tr>\n",
       "      <th>1741</th>\n",
       "      <td>NELFB</td>\n",
       "      <td>47</td>\n",
       "    </tr>\n",
       "    <tr>\n",
       "      <th>1742</th>\n",
       "      <td>NELFCD</td>\n",
       "      <td>43</td>\n",
       "    </tr>\n",
       "    <tr>\n",
       "      <th>...</th>\n",
       "      <td>...</td>\n",
       "      <td>...</td>\n",
       "    </tr>\n",
       "    <tr>\n",
       "      <th>1533</th>\n",
       "      <td>MAGOH</td>\n",
       "      <td>1</td>\n",
       "    </tr>\n",
       "    <tr>\n",
       "      <th>2188</th>\n",
       "      <td>PSMB6</td>\n",
       "      <td>1</td>\n",
       "    </tr>\n",
       "    <tr>\n",
       "      <th>269</th>\n",
       "      <td>BUB3</td>\n",
       "      <td>1</td>\n",
       "    </tr>\n",
       "    <tr>\n",
       "      <th>1479</th>\n",
       "      <td>LRR1</td>\n",
       "      <td>1</td>\n",
       "    </tr>\n",
       "    <tr>\n",
       "      <th>2305</th>\n",
       "      <td>RGPD6</td>\n",
       "      <td>1</td>\n",
       "    </tr>\n",
       "  </tbody>\n",
       "</table>\n",
       "<p>3173 rows × 2 columns</p>\n",
       "</div>"
      ],
      "text/plain": [
       "     gene_symbol  cnt\n",
       "2719      TCF7L2  118\n",
       "566       CTNNB1   78\n",
       "1690         MYC   65\n",
       "1741       NELFB   47\n",
       "1742      NELFCD   43\n",
       "...          ...  ...\n",
       "1533       MAGOH    1\n",
       "2188       PSMB6    1\n",
       "269         BUB3    1\n",
       "1479        LRR1    1\n",
       "2305       RGPD6    1\n",
       "\n",
       "[3173 rows x 2 columns]"
      ]
     },
     "execution_count": 53,
     "metadata": {},
     "output_type": "execute_result"
    }
   ],
   "source": [
    "df_uns[(df_uns['phenotype']=='Yes')&(df_uns['SCN_class']=='DOXclus_DLD1')].groupby(\n",
    "    ['gene_symbol'])['DemuxAssignment_crispr'].count().reset_index(name='cnt').sort_values(by='cnt', ascending=False)"
   ]
  },
  {
   "cell_type": "code",
   "execution_count": 54,
   "id": "e3c37d1c-f067-48f7-a2a2-a8875b71bdbf",
   "metadata": {
    "execution": {
     "iopub.execute_input": "2024-08-07T20:32:40.412215Z",
     "iopub.status.busy": "2024-08-07T20:32:40.411682Z",
     "iopub.status.idle": "2024-08-07T20:32:40.650831Z",
     "shell.execute_reply": "2024-08-07T20:32:40.650029Z"
    },
    "papermill": {
     "duration": 0.251614,
     "end_time": "2024-08-07T20:32:40.652308",
     "exception": false,
     "start_time": "2024-08-07T20:32:40.400694",
     "status": "completed"
    },
    "tags": []
   },
   "outputs": [
    {
     "data": {
      "text/html": [
       "<div>\n",
       "<style scoped>\n",
       "    .dataframe tbody tr th:only-of-type {\n",
       "        vertical-align: middle;\n",
       "    }\n",
       "\n",
       "    .dataframe tbody tr th {\n",
       "        vertical-align: top;\n",
       "    }\n",
       "\n",
       "    .dataframe thead th {\n",
       "        text-align: right;\n",
       "    }\n",
       "</style>\n",
       "<table border=\"1\" class=\"dataframe\">\n",
       "  <thead>\n",
       "    <tr style=\"text-align: right;\">\n",
       "      <th></th>\n",
       "      <th>gene_symbol</th>\n",
       "      <th>cnt</th>\n",
       "    </tr>\n",
       "  </thead>\n",
       "  <tbody>\n",
       "    <tr>\n",
       "      <th>2725</th>\n",
       "      <td>TCF7L2</td>\n",
       "      <td>362</td>\n",
       "    </tr>\n",
       "    <tr>\n",
       "      <th>114</th>\n",
       "      <td>AOC3</td>\n",
       "      <td>188</td>\n",
       "    </tr>\n",
       "    <tr>\n",
       "      <th>1854</th>\n",
       "      <td>OR10G4</td>\n",
       "      <td>182</td>\n",
       "    </tr>\n",
       "    <tr>\n",
       "      <th>566</th>\n",
       "      <td>CTNNA1</td>\n",
       "      <td>178</td>\n",
       "    </tr>\n",
       "    <tr>\n",
       "      <th>1864</th>\n",
       "      <td>OR13C2</td>\n",
       "      <td>178</td>\n",
       "    </tr>\n",
       "    <tr>\n",
       "      <th>...</th>\n",
       "      <td>...</td>\n",
       "      <td>...</td>\n",
       "    </tr>\n",
       "    <tr>\n",
       "      <th>2075</th>\n",
       "      <td>PLK1</td>\n",
       "      <td>6</td>\n",
       "    </tr>\n",
       "    <tr>\n",
       "      <th>2308</th>\n",
       "      <td>RGPD5</td>\n",
       "      <td>4</td>\n",
       "    </tr>\n",
       "    <tr>\n",
       "      <th>815</th>\n",
       "      <td>ENSG00000285382</td>\n",
       "      <td>3</td>\n",
       "    </tr>\n",
       "    <tr>\n",
       "      <th>724</th>\n",
       "      <td>EIF3CL</td>\n",
       "      <td>3</td>\n",
       "    </tr>\n",
       "    <tr>\n",
       "      <th>697</th>\n",
       "      <td>DUX4</td>\n",
       "      <td>2</td>\n",
       "    </tr>\n",
       "  </tbody>\n",
       "</table>\n",
       "<p>3179 rows × 2 columns</p>\n",
       "</div>"
      ],
      "text/plain": [
       "          gene_symbol  cnt\n",
       "2725           TCF7L2  362\n",
       "114              AOC3  188\n",
       "1854           OR10G4  182\n",
       "566            CTNNA1  178\n",
       "1864           OR13C2  178\n",
       "...               ...  ...\n",
       "2075             PLK1    6\n",
       "2308            RGPD5    4\n",
       "815   ENSG00000285382    3\n",
       "724            EIF3CL    3\n",
       "697              DUX4    2\n",
       "\n",
       "[3179 rows x 2 columns]"
      ]
     },
     "execution_count": 54,
     "metadata": {},
     "output_type": "execute_result"
    }
   ],
   "source": [
    "df_uns[(df_uns['phenotype']=='Yes')&(df_uns['SCN_class']=='Untreatedclus_DLD1')].groupby(\n",
    "    ['gene_symbol'])['DemuxAssignment_crispr'].count().reset_index(name='cnt').sort_values(by='cnt', ascending=False)"
   ]
  },
  {
   "cell_type": "code",
   "execution_count": 55,
   "id": "a365181e-bf76-4c91-9bc1-44fc8510f75e",
   "metadata": {
    "execution": {
     "iopub.execute_input": "2024-08-07T20:32:40.676306Z",
     "iopub.status.busy": "2024-08-07T20:32:40.676071Z",
     "iopub.status.idle": "2024-08-07T20:32:40.974770Z",
     "shell.execute_reply": "2024-08-07T20:32:40.974180Z"
    },
    "papermill": {
     "duration": 0.311929,
     "end_time": "2024-08-07T20:32:40.976173",
     "exception": false,
     "start_time": "2024-08-07T20:32:40.664244",
     "status": "completed"
    },
    "tags": []
   },
   "outputs": [
    {
     "data": {
      "text/html": [
       "<div>\n",
       "<style scoped>\n",
       "    .dataframe tbody tr th:only-of-type {\n",
       "        vertical-align: middle;\n",
       "    }\n",
       "\n",
       "    .dataframe tbody tr th {\n",
       "        vertical-align: top;\n",
       "    }\n",
       "\n",
       "    .dataframe thead th {\n",
       "        text-align: right;\n",
       "    }\n",
       "</style>\n",
       "<table border=\"1\" class=\"dataframe\">\n",
       "  <thead>\n",
       "    <tr style=\"text-align: right;\">\n",
       "      <th></th>\n",
       "      <th>gene_symbol</th>\n",
       "      <th>cnt</th>\n",
       "    </tr>\n",
       "  </thead>\n",
       "  <tbody>\n",
       "    <tr>\n",
       "      <th>2725</th>\n",
       "      <td>TCF7L2</td>\n",
       "      <td>484</td>\n",
       "    </tr>\n",
       "    <tr>\n",
       "      <th>114</th>\n",
       "      <td>AOC3</td>\n",
       "      <td>217</td>\n",
       "    </tr>\n",
       "    <tr>\n",
       "      <th>566</th>\n",
       "      <td>CTNNA1</td>\n",
       "      <td>199</td>\n",
       "    </tr>\n",
       "    <tr>\n",
       "      <th>326</th>\n",
       "      <td>CASP2</td>\n",
       "      <td>194</td>\n",
       "    </tr>\n",
       "    <tr>\n",
       "      <th>1854</th>\n",
       "      <td>OR10G4</td>\n",
       "      <td>192</td>\n",
       "    </tr>\n",
       "    <tr>\n",
       "      <th>1864</th>\n",
       "      <td>OR13C2</td>\n",
       "      <td>191</td>\n",
       "    </tr>\n",
       "    <tr>\n",
       "      <th>2678</th>\n",
       "      <td>SV2B</td>\n",
       "      <td>191</td>\n",
       "    </tr>\n",
       "    <tr>\n",
       "      <th>1309</th>\n",
       "      <td>INVS</td>\n",
       "      <td>190</td>\n",
       "    </tr>\n",
       "    <tr>\n",
       "      <th>1342</th>\n",
       "      <td>IZUMO3</td>\n",
       "      <td>190</td>\n",
       "    </tr>\n",
       "    <tr>\n",
       "      <th>469</th>\n",
       "      <td>CHST10</td>\n",
       "      <td>189</td>\n",
       "    </tr>\n",
       "    <tr>\n",
       "      <th>2995</th>\n",
       "      <td>USP17L7</td>\n",
       "      <td>188</td>\n",
       "    </tr>\n",
       "    <tr>\n",
       "      <th>1900</th>\n",
       "      <td>OR56B2P</td>\n",
       "      <td>187</td>\n",
       "    </tr>\n",
       "    <tr>\n",
       "      <th>1096</th>\n",
       "      <td>GPR107</td>\n",
       "      <td>183</td>\n",
       "    </tr>\n",
       "    <tr>\n",
       "      <th>2891</th>\n",
       "      <td>TRBV12-3</td>\n",
       "      <td>183</td>\n",
       "    </tr>\n",
       "    <tr>\n",
       "      <th>93</th>\n",
       "      <td>ANGPTL1</td>\n",
       "      <td>181</td>\n",
       "    </tr>\n",
       "    <tr>\n",
       "      <th>2083</th>\n",
       "      <td>PMS2</td>\n",
       "      <td>180</td>\n",
       "    </tr>\n",
       "    <tr>\n",
       "      <th>2738</th>\n",
       "      <td>TEKT5</td>\n",
       "      <td>180</td>\n",
       "    </tr>\n",
       "    <tr>\n",
       "      <th>2517</th>\n",
       "      <td>SLC39A9</td>\n",
       "      <td>180</td>\n",
       "    </tr>\n",
       "    <tr>\n",
       "      <th>329</th>\n",
       "      <td>CAV1</td>\n",
       "      <td>180</td>\n",
       "    </tr>\n",
       "    <tr>\n",
       "      <th>559</th>\n",
       "      <td>CSPP1</td>\n",
       "      <td>178</td>\n",
       "    </tr>\n",
       "    <tr>\n",
       "      <th>677</th>\n",
       "      <td>DPP4</td>\n",
       "      <td>177</td>\n",
       "    </tr>\n",
       "    <tr>\n",
       "      <th>3010</th>\n",
       "      <td>VGLL1</td>\n",
       "      <td>177</td>\n",
       "    </tr>\n",
       "    <tr>\n",
       "      <th>1289</th>\n",
       "      <td>IL15</td>\n",
       "      <td>177</td>\n",
       "    </tr>\n",
       "    <tr>\n",
       "      <th>888</th>\n",
       "      <td>F11</td>\n",
       "      <td>177</td>\n",
       "    </tr>\n",
       "    <tr>\n",
       "      <th>2876</th>\n",
       "      <td>TRAPPC10</td>\n",
       "      <td>175</td>\n",
       "    </tr>\n",
       "    <tr>\n",
       "      <th>712</th>\n",
       "      <td>EFCAB13</td>\n",
       "      <td>174</td>\n",
       "    </tr>\n",
       "    <tr>\n",
       "      <th>1633</th>\n",
       "      <td>MMP27</td>\n",
       "      <td>174</td>\n",
       "    </tr>\n",
       "    <tr>\n",
       "      <th>223</th>\n",
       "      <td>BCO2</td>\n",
       "      <td>174</td>\n",
       "    </tr>\n",
       "    <tr>\n",
       "      <th>3173</th>\n",
       "      <td>ZNF91</td>\n",
       "      <td>173</td>\n",
       "    </tr>\n",
       "    <tr>\n",
       "      <th>2394</th>\n",
       "      <td>RUNX2</td>\n",
       "      <td>173</td>\n",
       "    </tr>\n",
       "  </tbody>\n",
       "</table>\n",
       "</div>"
      ],
      "text/plain": [
       "     gene_symbol  cnt\n",
       "2725      TCF7L2  484\n",
       "114         AOC3  217\n",
       "566       CTNNA1  199\n",
       "326        CASP2  194\n",
       "1854      OR10G4  192\n",
       "1864      OR13C2  191\n",
       "2678        SV2B  191\n",
       "1309        INVS  190\n",
       "1342      IZUMO3  190\n",
       "469       CHST10  189\n",
       "2995     USP17L7  188\n",
       "1900     OR56B2P  187\n",
       "1096      GPR107  183\n",
       "2891    TRBV12-3  183\n",
       "93       ANGPTL1  181\n",
       "2083        PMS2  180\n",
       "2738       TEKT5  180\n",
       "2517     SLC39A9  180\n",
       "329         CAV1  180\n",
       "559        CSPP1  178\n",
       "677         DPP4  177\n",
       "3010       VGLL1  177\n",
       "1289        IL15  177\n",
       "888          F11  177\n",
       "2876    TRAPPC10  175\n",
       "712      EFCAB13  174\n",
       "1633       MMP27  174\n",
       "223         BCO2  174\n",
       "3173       ZNF91  173\n",
       "2394       RUNX2  173"
      ]
     },
     "execution_count": 55,
     "metadata": {},
     "output_type": "execute_result"
    }
   ],
   "source": [
    "df_uns[(df_uns['phenotype']=='Yes')].groupby(\n",
    "    ['gene_symbol'])['DemuxAssignment_crispr'].count().reset_index(name='cnt').sort_values(by='cnt', ascending=False)[:30]"
   ]
  },
  {
   "cell_type": "markdown",
   "id": "a2cd6558-ef8d-4396-ad9d-847834d10d6b",
   "metadata": {
    "papermill": {
     "duration": 0.010555,
     "end_time": "2024-08-07T20:32:40.998357",
     "exception": false,
     "start_time": "2024-08-07T20:32:40.987802",
     "status": "completed"
    },
    "tags": []
   },
   "source": [
    "## Data Visulaization"
   ]
  },
  {
   "cell_type": "code",
   "execution_count": 56,
   "id": "8b14c8f2-f789-474b-b7d1-d152098846ab",
   "metadata": {
    "execution": {
     "iopub.execute_input": "2024-08-07T20:32:41.020817Z",
     "iopub.status.busy": "2024-08-07T20:32:41.020155Z",
     "iopub.status.idle": "2024-08-07T20:32:42.008717Z",
     "shell.execute_reply": "2024-08-07T20:32:42.007921Z"
    },
    "papermill": {
     "duration": 1.000999,
     "end_time": "2024-08-07T20:32:42.009897",
     "exception": false,
     "start_time": "2024-08-07T20:32:41.008898",
     "status": "completed"
    },
    "tags": []
   },
   "outputs": [
    {
     "data": {
      "text/plain": [
       "<AxesSubplot: xlabel='energy_distance_pvalue', ylabel='Count'>"
      ]
     },
     "execution_count": 56,
     "metadata": {},
     "output_type": "execute_result"
    },
    {
     "data": {
      "image/png": "[encoded data removed]",
      "text/plain": [
       "<Figure size 640x480 with 1 Axes>"
      ]
     },
     "metadata": {},
     "output_type": "display_data"
    }
   ],
   "source": [
    "sns.histplot(-np.log10(df_uns['energy_distance_pvalue']))"
   ]
  }
 ],
 "metadata": {
  "kernelspec": {
   "display_name": "gpuy310",
   "language": "python",
   "name": "gpuy310"
  },
  "language_info": {
   "codemirror_mode": {
    "name": "ipython",
    "version": 3
   },
   "file_extension": ".py",
   "mimetype": "text/x-python",
   "name": "python",
   "nbconvert_exporter": "python",
   "pygments_lexer": "ipython3",
   "version": "3.10.8"
  },
  "papermill": {
   "default_parameters": {},
   "duration": 3923.429381,
   "end_time": "2024-08-07T20:32:53.017643",
   "environment_variables": {},
   "exception": null,
   "input_path": "./Templates/EnergyDistance.ipynb",
   "output_path": "/gstore/home/ghaffars/Cumulus/crc_dld1_sublib1_bdev/crop-seq-pipeline/Reports/DS000017114_EnergyDistance_500NTCs_pca_sphered.ipynb",
   "parameters": {
    "DEV": false,
    "DS_test": false,
    "DatasetID": "DS000017114",
    "ED_file": "/gstore/project/crc_recursion_gw/DLD1_Sublib1_bdev//DS000017114/Energy_Distance/e_dist_all.h5ad",
    "author": "SG",
    "description": "Production scale screen in DLD-1 cells with 1/4 of the genome-wide CRISPR library (sub-lib-1, ~22K guides). 1 time point: Day-5. We performed 24 rxns of 10x 3' HT kit with an estimated loading of 52K cells. We performed a pilot study to test the library quality before the production-level sequencing. We will submit 72 libraries (24 GEX, 24 HTO and 24 sgRNA) We estimate need 600M for GEX, 30M for HTO and 50M for sgRNA. This is a repeat run to correct chip loading.",
    "embeddings_key": "X_pca_sphered",
    "i": 10,
    "key_uns": "perGene_pca_sphered_10",
    "n": 500,
    "name_space": [
     {
      "id": "GRCh38",
      "type": "genome"
     }
    ],
    "organism": "human",
    "out_csv": "/gstore/project/crc_recursion_gw/DLD1_Sublib1_bdev//DS000017114/Energy_Distance/e_dist_500NTCs_pca_sphered_10.csv",
    "pVAL": 0.05,
    "sources": [
     {
      "id": "Siavash-1234",
      "name": "Geo-ID"
     }
    ],
    "tech_name": "scRNA-seq",
    "test_DatasetID": "",
    "title": "Recursion DLD1 Library1 Screen Day 5- combination of NGS 5774 and NGS 5702"
   },
   "start_time": "2024-08-07T19:27:29.588262",
   "version": "2.6.0"
  },
  "widgets": {
   "application/vnd.jupyter.widget-state+json": {
    "state": {},
    "version_major": 2,
    "version_minor": 0
   }
  }
 },
 "nbformat": 4,
 "nbformat_minor": 5
}