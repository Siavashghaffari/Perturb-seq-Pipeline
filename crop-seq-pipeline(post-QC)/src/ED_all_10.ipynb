{
 "cells": [
  {
   "cell_type": "code",
   "execution_count": 1,
   "metadata": {},
   "outputs": [],
   "source": [
    "import anndata as ad\n",
    "import os\n",
    "import pandas as pd\n",
    "import numpy as np\n",
    "import scanpy as sc"
   ]
  },
  {
   "cell_type": "code",
   "execution_count": null,
   "metadata": {},
   "outputs": [],
   "source": [
    "adata = sc.read(\"/gstore/project/crc_recursion_gw/DLD1_Sublib4/DS000016357/Energy_Distance/e_dist_all.h5ad\")"
   ]
  },
  {
   "cell_type": "code",
   "execution_count": null,
   "metadata": {},
   "outputs": [
    {
     "data": {
      "text/plain": [
       "AnnData object with n_obs × n_vars = 298497 × 36603\n",
       "    obs: 'Sample', 'Barcode', 'DemuxType_crispr', 'DemuxAssignment_crispr', 'DemuxType_hashing', 'DemuxAssignment_hashing', 'cellline', 'timepoint', 'HTO', 'NGS_ID', 'Biological_replicate', '10Xrun', 'sublibrary', 'gRNA_library_MOI', 'gene_symbol', 'class', 'n_genes_by_counts', 'total_counts', 'total_counts_mt', 'pct_counts_mt', 'total_counts_ribo', 'pct_counts_ribo', 'qc_pass', 'S_score', 'G2M_score', 'phase', 'SCN_class'\n",
       "    var: 'Symbol'\n",
       "    uns: 'DemuxAssignment_hashing_colors', 'Sample_colors', '_scvi_manager_uuid', '_scvi_uuid', 'energy_distance', 'leiden_colors', 'multivariate_report', 'neighbors', 'perturbation_embeddings', 'perturbations', 'umap'\n",
       "    obsm: 'X_harmony', 'X_harmony_centered', 'X_pca', 'X_pca_centered', 'X_pca_sphered', 'X_scVI', 'X_scVI_centered', 'X_umap'\n",
       "    layers: 'X', 'counts', 'log_norm'\n",
       "    obsp: 'connectivities', 'distances'"
      ]
     },
     "execution_count": 4,
     "metadata": {},
     "output_type": "execute_result"
    }
   ],
   "source": [
    "adata"
   ]
  },
  {
   "cell_type": "code",
   "execution_count": 4,
   "metadata": {},
   "outputs": [
    {
     "data": {
      "text/plain": [
       "dict_keys(['perGene_pca_1', 'perGene_pca_10', 'perGene_pca_2', 'perGene_pca_3', 'perGene_pca_4', 'perGene_pca_5', 'perGene_pca_6', 'perGene_pca_7', 'perGene_pca_8', 'perGene_pca_9', 'perGene_pca_centered_1', 'perGene_pca_centered_10', 'perGene_pca_centered_2', 'perGene_pca_centered_3', 'perGene_pca_centered_4', 'perGene_pca_centered_5', 'perGene_pca_centered_6', 'perGene_pca_centered_7', 'perGene_pca_centered_8', 'perGene_pca_centered_9', 'perGene_pca_sphered_1', 'perGene_pca_sphered_10', 'perGene_pca_sphered_2', 'perGene_pca_sphered_3', 'perGene_pca_sphered_4', 'perGene_pca_sphered_5', 'perGene_pca_sphered_6', 'perGene_pca_sphered_7', 'perGene_pca_sphered_8', 'perGene_pca_sphered_9', 'perGene_scVI_1', 'perGene_scVI_10', 'perGene_scVI_2', 'perGene_scVI_3', 'perGene_scVI_4', 'perGene_scVI_5', 'perGene_scVI_6', 'perGene_scVI_7', 'perGene_scVI_8', 'perGene_scVI_9', 'perGene_scVI_centered_1', 'perGene_scVI_centered_10', 'perGene_scVI_centered_2', 'perGene_scVI_centered_3', 'perGene_scVI_centered_4', 'perGene_scVI_centered_5', 'perGene_scVI_centered_6', 'perGene_scVI_centered_7', 'perGene_scVI_centered_8', 'perGene_scVI_centered_9', 'perPerturbations_pca', 'perPerturbations_pca_centered', 'perPerturbations_pca_sphered', 'perPerturbations_scVI', 'perPerturbations_scVI_centered'])"
      ]
     },
     "execution_count": 4,
     "metadata": {},
     "output_type": "execute_result"
    }
   ],
   "source": [
    "adata.uns['energy_distance'].keys()"
   ]
  },
  {
   "cell_type": "code",
   "execution_count": 4,
   "metadata": {},
   "outputs": [],
   "source": [
    "def common_genes (embedding_key):\n",
    "    dfs=[]\n",
    "    GENEs = []\n",
    "    for i in range(10):\n",
    "        STR = \"e_dist_500NTCs_\"+embedding_key+\"_\"+str(i+1)\n",
    "        path  = os.path.join(\"/gstore/project/crc_recursion_gw/DLD1_Sublib4/DS000016357/Energy_Distance/\", f'{STR}.csv')\n",
    "        df = pd.read_csv(path, index_col=0)\n",
    "        df = df[df.pvalue<0.05]\n",
    "        gene = df[\"gene_symbol\"].to_list()\n",
    "        dfs.append(df)\n",
    "        GENEs.append(gene)\n",
    "    com = set.intersection(*[set(list_) for list_ in GENEs])\n",
    "    return com"
   ]
  },
  {
   "cell_type": "markdown",
   "metadata": {},
   "source": [
    "## find common genes among 10 permutations in different embedding"
   ]
  },
  {
   "cell_type": "code",
   "execution_count": 5,
   "metadata": {},
   "outputs": [],
   "source": [
    "com={}\n",
    "for key in ['pca', 'scVI', 'pca_centered', 'scVI_centered', 'pca_sphered']:\n",
    "    com[key] = common_genes (key)"
   ]
  },
  {
   "cell_type": "code",
   "execution_count": 6,
   "metadata": {},
   "outputs": [],
   "source": [
    "com_cnt={}\n",
    "for key in ['pca', 'scVI', 'pca_centered', 'scVI_centered', 'pca_sphered']:\n",
    "    com_cnt[key] = len(common_genes (key))"
   ]
  },
  {
   "cell_type": "code",
   "execution_count": 7,
   "metadata": {},
   "outputs": [
    {
     "data": {
      "text/plain": [
       "{'pca': 477,\n",
       " 'scVI': 468,\n",
       " 'pca_centered': 504,\n",
       " 'scVI_centered': 439,\n",
       " 'pca_sphered': 679}"
      ]
     },
     "execution_count": 7,
     "metadata": {},
     "output_type": "execute_result"
    }
   ],
   "source": [
    "com_cnt"
   ]
  },
  {
   "cell_type": "markdown",
   "metadata": {},
   "source": [
    "## find common genes among all embedding"
   ]
  },
  {
   "cell_type": "code",
   "execution_count": 8,
   "metadata": {},
   "outputs": [],
   "source": [
    "com_all = set.intersection(*[set(list_) for k,list_ in com.items()])"
   ]
  },
  {
   "cell_type": "code",
   "execution_count": 9,
   "metadata": {},
   "outputs": [
    {
     "data": {
      "text/plain": [
       "297"
      ]
     },
     "execution_count": 9,
     "metadata": {},
     "output_type": "execute_result"
    }
   ],
   "source": [
    "len(com_all)"
   ]
  },
  {
   "cell_type": "markdown",
   "metadata": {},
   "source": [
    "## find common genes between scvi_centered and pca_sphered"
   ]
  },
  {
   "cell_type": "code",
   "execution_count": 10,
   "metadata": {},
   "outputs": [],
   "source": [
    "com_1 = set(com['scVI_centered']).intersection(set(com['pca_sphered']))"
   ]
  },
  {
   "cell_type": "code",
   "execution_count": 11,
   "metadata": {},
   "outputs": [
    {
     "data": {
      "text/plain": [
       "367"
      ]
     },
     "execution_count": 11,
     "metadata": {},
     "output_type": "execute_result"
    }
   ],
   "source": [
    "len(com_1)"
   ]
  },
  {
   "cell_type": "code",
   "execution_count": 12,
   "metadata": {},
   "outputs": [],
   "source": [
    "A=np.zeros((5,5))"
   ]
  },
  {
   "cell_type": "code",
   "execution_count": 13,
   "metadata": {},
   "outputs": [],
   "source": [
    "columns = []\n",
    "for idx, (k, v) in enumerate(com.items()):\n",
    "    for idx2, (k2,v2) in enumerate(com.items()):\n",
    "        \n",
    "        A[idx][idx2] = len(set(v).intersection(set(v2)))\n",
    "    columns.append(k)"
   ]
  },
  {
   "cell_type": "code",
   "execution_count": 14,
   "metadata": {},
   "outputs": [
    {
     "data": {
      "text/plain": [
       "['pca', 'scVI', 'pca_centered', 'scVI_centered', 'pca_sphered']"
      ]
     },
     "execution_count": 14,
     "metadata": {},
     "output_type": "execute_result"
    }
   ],
   "source": [
    "columns"
   ]
  },
  {
   "cell_type": "code",
   "execution_count": 15,
   "metadata": {},
   "outputs": [],
   "source": [
    "df = pd.DataFrame(data=A,    \n",
    "              index=columns,    \n",
    "              columns=columns)"
   ]
  },
  {
   "cell_type": "code",
   "execution_count": 16,
   "metadata": {},
   "outputs": [
    {
     "data": {
      "text/html": [
       "<div>\n",
       "<style scoped>\n",
       "    .dataframe tbody tr th:only-of-type {\n",
       "        vertical-align: middle;\n",
       "    }\n",
       "\n",
       "    .dataframe tbody tr th {\n",
       "        vertical-align: top;\n",
       "    }\n",
       "\n",
       "    .dataframe thead th {\n",
       "        text-align: right;\n",
       "    }\n",
       "</style>\n",
       "<table border=\"1\" class=\"dataframe\">\n",
       "  <thead>\n",
       "    <tr style=\"text-align: right;\">\n",
       "      <th></th>\n",
       "      <th>pca</th>\n",
       "      <th>scVI</th>\n",
       "      <th>pca_centered</th>\n",
       "      <th>scVI_centered</th>\n",
       "      <th>pca_sphered</th>\n",
       "    </tr>\n",
       "  </thead>\n",
       "  <tbody>\n",
       "    <tr>\n",
       "      <th>pca</th>\n",
       "      <td>477.0</td>\n",
       "      <td>327.0</td>\n",
       "      <td>454.0</td>\n",
       "      <td>317.0</td>\n",
       "      <td>420.0</td>\n",
       "    </tr>\n",
       "    <tr>\n",
       "      <th>scVI</th>\n",
       "      <td>327.0</td>\n",
       "      <td>468.0</td>\n",
       "      <td>327.0</td>\n",
       "      <td>404.0</td>\n",
       "      <td>379.0</td>\n",
       "    </tr>\n",
       "    <tr>\n",
       "      <th>pca_centered</th>\n",
       "      <td>454.0</td>\n",
       "      <td>327.0</td>\n",
       "      <td>504.0</td>\n",
       "      <td>316.0</td>\n",
       "      <td>435.0</td>\n",
       "    </tr>\n",
       "    <tr>\n",
       "      <th>scVI_centered</th>\n",
       "      <td>317.0</td>\n",
       "      <td>404.0</td>\n",
       "      <td>316.0</td>\n",
       "      <td>439.0</td>\n",
       "      <td>367.0</td>\n",
       "    </tr>\n",
       "    <tr>\n",
       "      <th>pca_sphered</th>\n",
       "      <td>420.0</td>\n",
       "      <td>379.0</td>\n",
       "      <td>435.0</td>\n",
       "      <td>367.0</td>\n",
       "      <td>679.0</td>\n",
       "    </tr>\n",
       "  </tbody>\n",
       "</table>\n",
       "</div>"
      ],
      "text/plain": [
       "                 pca   scVI  pca_centered  scVI_centered  pca_sphered\n",
       "pca            477.0  327.0         454.0          317.0        420.0\n",
       "scVI           327.0  468.0         327.0          404.0        379.0\n",
       "pca_centered   454.0  327.0         504.0          316.0        435.0\n",
       "scVI_centered  317.0  404.0         316.0          439.0        367.0\n",
       "pca_sphered    420.0  379.0         435.0          367.0        679.0"
      ]
     },
     "execution_count": 16,
     "metadata": {},
     "output_type": "execute_result"
    }
   ],
   "source": [
    "df"
   ]
  },
  {
   "cell_type": "code",
   "execution_count": 17,
   "metadata": {},
   "outputs": [
    {
     "data": {
      "text/plain": [
       "{'matrix': <AxesSubplot: >,\n",
       " 'shading': <AxesSubplot: >,\n",
       " 'totals': <AxesSubplot: >,\n",
       " 'intersections': <AxesSubplot: ylabel='Intersection size'>}"
      ]
     },
     "execution_count": 17,
     "metadata": {},
     "output_type": "execute_result"
    },
    {
     "data": {
      "image/png": "[encoded data removed]",
      "text/plain": [
       "<Figure size 1333.33x488.889 with 4 Axes>"
      ]
     },
     "metadata": {},
     "output_type": "display_data"
    }
   ],
   "source": [
    "from upsetplot import plot\n",
    "all_elems = com['pca'].union(com['scVI']).union(com['pca_centered']).union(com['scVI_centered']).union(com['pca_sphered'])\n",
    "df = pd.DataFrame([[e in com['pca'], e in com['scVI'], e in com['pca_centered'], e in com['scVI_centered'], e in com['pca_sphered']] for e in all_elems], columns = columns)\n",
    "df_up = df.groupby(columns).size()\n",
    "plot(df_up, orientation='horizontal')"
   ]
  },
  {
   "cell_type": "code",
   "execution_count": null,
   "metadata": {},
   "outputs": [],
   "source": []
  }
 ],
 "metadata": {
  "kernelspec": {
   "display_name": "gpuy310",
   "language": "python",
   "name": "gpuy310"
  },
  "language_info": {
   "codemirror_mode": {
    "name": "ipython",
    "version": 3
   },
   "file_extension": ".py",
   "mimetype": "text/x-python",
   "name": "python",
   "nbconvert_exporter": "python",
   "pygments_lexer": "ipython3",
   "version": "3.10.8"
  },
  "widgets": {
   "application/vnd.jupyter.widget-state+json": {
    "state": {},
    "version_major": 2,
    "version_minor": 0
   }
  }
 },
 "nbformat": 4,
 "nbformat_minor": 4
}
