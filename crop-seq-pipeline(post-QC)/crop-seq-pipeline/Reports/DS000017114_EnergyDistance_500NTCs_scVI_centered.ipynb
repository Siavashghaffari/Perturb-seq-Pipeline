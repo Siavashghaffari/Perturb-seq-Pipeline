{
 "cells": [
  {
   "cell_type": "code",
   "execution_count": 1,
   "id": "0350b9f8",
   "metadata": {
    "execution": {
     "iopub.execute_input": "2024-08-12T17:25:01.454511Z",
     "iopub.status.busy": "2024-08-12T17:25:01.454192Z",
     "iopub.status.idle": "2024-08-12T17:25:01.461192Z",
     "shell.execute_reply": "2024-08-12T17:25:01.460710Z"
    },
    "papermill": {
     "duration": 0.017363,
     "end_time": "2024-08-12T17:25:01.462479",
     "exception": false,
     "start_time": "2024-08-12T17:25:01.445116",
     "status": "completed"
    },
    "tags": [
     "injected-parameters"
    ]
   },
   "outputs": [],
   "source": [
    "# Parameters\n",
    "DatasetID = \"DS000017114\"\n",
    "DEV = False\n",
    "test_DatasetID = \"\"\n",
    "DS_test = False\n",
    "title = \"Recursion DLD1 Library1 Screen Day 5- combination of NGS 5774 and NGS 5702\"\n",
    "description = \"Production scale screen in DLD-1 cells with 1/4 of the genome-wide CRISPR library (sub-lib-1, ~22K guides). 1 time point: Day-5. We performed 24 rxns of 10x 3' HT kit with an estimated loading of 52K cells. We performed a pilot study to test the library quality before the production-level sequencing. We will submit 72 libraries (24 GEX, 24 HTO and 24 sgRNA) We estimate need 600M for GEX, 30M for HTO and 50M for sgRNA. This is a repeat run to correct chip loading.\"\n",
    "name_space = [{\"id\": \"GRCh38\", \"type\": \"genome\"}]\n",
    "sources = [{\"id\": \"Siavash-1234\", \"name\": \"Geo-ID\"}]\n",
    "tech_name = \"scRNA-seq\"\n",
    "author = \"SG\"\n",
    "organism = \"human\"\n",
    "pVAL = 0.05\n",
    "n = 500\n",
    "embeddings_key = \"X_scVI_centered\"\n",
    "i = 10\n",
    "ED_file = \"/gstore/project/crc_recursion_gw/DLD1_Sublib1_bdev//DS000017114/Energy_Distance/e_dist_all.h5ad\"\n",
    "key_uns = \"perGene_scVI_centered_10\"\n",
    "out_csv = \"/gstore/project/crc_recursion_gw/DLD1_Sublib1_bdev//DS000017114/Energy_Distance/e_dist_500NTCs_scVI_centered_10.csv\"\n"
   ]
  },
  {
   "cell_type": "markdown",
   "id": "bb530fe7-c5ba-4ec4-b436-7f717b909ce0",
   "metadata": {
    "papermill": {
     "duration": 0.007524,
     "end_time": "2024-08-12T17:25:01.477820",
     "exception": false,
     "start_time": "2024-08-12T17:25:01.470296",
     "status": "completed"
    },
    "tags": []
   },
   "source": [
    "# EnergyDistance: "
   ]
  },
  {
   "cell_type": "code",
   "execution_count": 2,
   "id": "cdd59412-0a04-4bea-8c11-fd04e79b2a25",
   "metadata": {
    "execution": {
     "iopub.execute_input": "2024-08-12T17:25:01.493752Z",
     "iopub.status.busy": "2024-08-12T17:25:01.493330Z",
     "iopub.status.idle": "2024-08-12T17:25:07.958624Z",
     "shell.execute_reply": "2024-08-12T17:25:07.958044Z"
    },
    "papermill": {
     "duration": 6.475212,
     "end_time": "2024-08-12T17:25:07.960337",
     "exception": false,
     "start_time": "2024-08-12T17:25:01.485125",
     "status": "completed"
    },
    "tags": []
   },
   "outputs": [],
   "source": [
    "import scanpy as sc\n",
    "import numpy as np\n",
    "import pandas as pd\n",
    "from tqdm import tqdm\n",
    "import os\n",
    "#plotting\n",
    "import matplotlib\n",
    "from matplotlib import pyplot as plt\n",
    "import seaborn as sns\n",
    "from dask.distributed import Client\n",
    "import sklearn"
   ]
  },
  {
   "cell_type": "code",
   "execution_count": 3,
   "id": "73f8c9aa-f309-468a-ae92-379a64133079",
   "metadata": {
    "execution": {
     "iopub.execute_input": "2024-08-12T17:25:07.977913Z",
     "iopub.status.busy": "2024-08-12T17:25:07.977599Z",
     "iopub.status.idle": "2024-08-12T17:25:08.032015Z",
     "shell.execute_reply": "2024-08-12T17:25:08.031488Z"
    },
    "papermill": {
     "duration": 0.064863,
     "end_time": "2024-08-12T17:25:08.033643",
     "exception": false,
     "start_time": "2024-08-12T17:25:07.968780",
     "status": "completed"
    },
    "tags": []
   },
   "outputs": [],
   "source": [
    "# Please note that if we import the whole folder using __init__.py we would be running into ba Dask CanceledError due to different \n",
    "# imported Dask conflict, so we have to import only scEnergy script\n",
    "import sys\n",
    "sys.path.append(\"..\")\n",
    "import Templates.tools.scEnergy as eng "
   ]
  },
  {
   "cell_type": "code",
   "execution_count": 4,
   "id": "98e328a0-104a-414c-8c17-dbcf574bb808",
   "metadata": {
    "execution": {
     "iopub.execute_input": "2024-08-12T17:25:08.050378Z",
     "iopub.status.busy": "2024-08-12T17:25:08.050080Z",
     "iopub.status.idle": "2024-08-12T17:25:08.141674Z",
     "shell.execute_reply": "2024-08-12T17:25:08.141148Z"
    },
    "papermill": {
     "duration": 0.101711,
     "end_time": "2024-08-12T17:25:08.143279",
     "exception": false,
     "start_time": "2024-08-12T17:25:08.041568",
     "status": "completed"
    },
    "tags": []
   },
   "outputs": [],
   "source": [
    "%load_ext autoreload\n",
    "%autoreload 2"
   ]
  },
  {
   "cell_type": "code",
   "execution_count": 5,
   "id": "f83219c0-b2aa-462b-90f0-6127a96c6446",
   "metadata": {
    "execution": {
     "iopub.execute_input": "2024-08-12T17:25:08.159965Z",
     "iopub.status.busy": "2024-08-12T17:25:08.159667Z",
     "iopub.status.idle": "2024-08-12T17:26:34.019520Z",
     "shell.execute_reply": "2024-08-12T17:26:34.018948Z"
    },
    "papermill": {
     "duration": 85.869986,
     "end_time": "2024-08-12T17:26:34.021223",
     "exception": false,
     "start_time": "2024-08-12T17:25:08.151237",
     "status": "completed"
    },
    "tags": []
   },
   "outputs": [],
   "source": [
    "adata = sc.read_h5ad(ED_file)"
   ]
  },
  {
   "cell_type": "code",
   "execution_count": 6,
   "id": "87a513ff-f091-4057-8356-3cbbe0180222",
   "metadata": {
    "execution": {
     "iopub.execute_input": "2024-08-12T17:26:34.038302Z",
     "iopub.status.busy": "2024-08-12T17:26:34.038033Z",
     "iopub.status.idle": "2024-08-12T17:26:34.746094Z",
     "shell.execute_reply": "2024-08-12T17:26:34.745644Z"
    },
    "papermill": {
     "duration": 0.717395,
     "end_time": "2024-08-12T17:26:34.747294",
     "exception": false,
     "start_time": "2024-08-12T17:26:34.029899",
     "status": "completed"
    },
    "tags": []
   },
   "outputs": [
    {
     "data": {
      "text/plain": [
       "AnnData object with n_obs × n_vars = 595603 × 36603\n",
       "    obs: 'Sample', 'Barcode', 'DemuxType_crispr', 'DemuxAssignment_crispr', 'DemuxType_hashing', 'DemuxAssignment_hashing', 'cellline', 'timepoint', 'HTO', 'NGS_ID', 'Biological_replicate', '10Xrun', 'sublibrary', 'gRNA_library_MOI', 'gene_symbol', 'class', 'n_genes_by_counts', 'total_counts', 'total_counts_mt', 'pct_counts_mt', 'total_counts_ribo', 'pct_counts_ribo', 'qc_pass', 'S_score', 'G2M_score', 'phase', 'SCN_class', 'gem'\n",
       "    var: 'Symbol'\n",
       "    uns: 'DemuxAssignment_hashing_colors', 'Sample_colors', '_scvi_manager_uuid', '_scvi_uuid', 'energy_distance', 'leiden_colors', 'neighbors', 'umap'\n",
       "    obsm: 'X_pca', 'X_pca_centered', 'X_pca_sphered', 'X_pca_sphered_Norm', 'X_scVI', 'X_scVI_centered', 'X_umap'\n",
       "    layers: 'counts'\n",
       "    obsp: 'connectivities', 'distances'"
      ]
     },
     "execution_count": 6,
     "metadata": {},
     "output_type": "execute_result"
    }
   ],
   "source": [
    "adata"
   ]
  },
  {
   "cell_type": "code",
   "execution_count": 7,
   "id": "c67bb790-7856-4a60-8b97-6ea3d32bb43a",
   "metadata": {
    "execution": {
     "iopub.execute_input": "2024-08-12T17:26:34.763287Z",
     "iopub.status.busy": "2024-08-12T17:26:34.762952Z",
     "iopub.status.idle": "2024-08-12T17:26:34.845758Z",
     "shell.execute_reply": "2024-08-12T17:26:34.845315Z"
    },
    "papermill": {
     "duration": 0.092119,
     "end_time": "2024-08-12T17:26:34.847001",
     "exception": false,
     "start_time": "2024-08-12T17:26:34.754882",
     "status": "completed"
    },
    "tags": []
   },
   "outputs": [],
   "source": [
    "#adata.obs_names_make_unique()"
   ]
  },
  {
   "cell_type": "markdown",
   "id": "4427038c-fecc-4ab5-a09f-4a61f659721a",
   "metadata": {
    "papermill": {
     "duration": 0.007177,
     "end_time": "2024-08-12T17:26:34.861437",
     "exception": false,
     "start_time": "2024-08-12T17:26:34.854260",
     "status": "completed"
    },
    "tags": []
   },
   "source": [
    "## Filter adata"
   ]
  },
  {
   "cell_type": "code",
   "execution_count": 8,
   "id": "e14087aa-e751-4823-a0f6-e799da210f1b",
   "metadata": {
    "execution": {
     "iopub.execute_input": "2024-08-12T17:26:34.876755Z",
     "iopub.status.busy": "2024-08-12T17:26:34.876417Z",
     "iopub.status.idle": "2024-08-12T17:26:34.956484Z",
     "shell.execute_reply": "2024-08-12T17:26:34.956029Z"
    },
    "papermill": {
     "duration": 0.089173,
     "end_time": "2024-08-12T17:26:34.957787",
     "exception": false,
     "start_time": "2024-08-12T17:26:34.868614",
     "status": "completed"
    },
    "tags": []
   },
   "outputs": [],
   "source": [
    "#adata = adata[adata.obs[\"DemuxAssignment_hashing\"]!=\"POSITIVE_CONTROL\"].copy()"
   ]
  },
  {
   "cell_type": "code",
   "execution_count": 9,
   "id": "6ecaf0d6-5860-40a6-a1c7-b795c3d9c18f",
   "metadata": {
    "execution": {
     "iopub.execute_input": "2024-08-12T17:26:34.973339Z",
     "iopub.status.busy": "2024-08-12T17:26:34.973061Z",
     "iopub.status.idle": "2024-08-12T17:26:35.050702Z",
     "shell.execute_reply": "2024-08-12T17:26:35.050257Z"
    },
    "papermill": {
     "duration": 0.086881,
     "end_time": "2024-08-12T17:26:35.051924",
     "exception": false,
     "start_time": "2024-08-12T17:26:34.965043",
     "status": "completed"
    },
    "tags": []
   },
   "outputs": [],
   "source": [
    "#adata= adata[~adata.obs.index.duplicated(keep='first')].copy()"
   ]
  },
  {
   "cell_type": "markdown",
   "id": "344df700-9fe1-4f58-ad3c-76836012def9",
   "metadata": {
    "papermill": {
     "duration": 0.007251,
     "end_time": "2024-08-12T17:26:35.066582",
     "exception": false,
     "start_time": "2024-08-12T17:26:35.059331",
     "status": "completed"
    },
    "tags": []
   },
   "source": [
    "## correct gene_symbol for ENSGIDs"
   ]
  },
  {
   "cell_type": "code",
   "execution_count": 10,
   "id": "a21588c8-85d8-4f30-a214-c3537bdf6558",
   "metadata": {
    "execution": {
     "iopub.execute_input": "2024-08-12T17:26:35.082065Z",
     "iopub.status.busy": "2024-08-12T17:26:35.081838Z",
     "iopub.status.idle": "2024-08-12T17:26:35.164255Z",
     "shell.execute_reply": "2024-08-12T17:26:35.163810Z"
    },
    "papermill": {
     "duration": 0.091739,
     "end_time": "2024-08-12T17:26:35.165549",
     "exception": false,
     "start_time": "2024-08-12T17:26:35.073810",
     "status": "completed"
    },
    "tags": []
   },
   "outputs": [],
   "source": [
    "adata.obs['gene_symbol'] = adata.obs['gene_symbol'].apply(lambda x:x.split('_')[0])"
   ]
  },
  {
   "cell_type": "markdown",
   "id": "823dd9da-f1fb-4794-80fd-007220b51666",
   "metadata": {
    "papermill": {
     "duration": 0.007282,
     "end_time": "2024-08-12T17:26:35.180279",
     "exception": false,
     "start_time": "2024-08-12T17:26:35.172997",
     "status": "completed"
    },
    "tags": []
   },
   "source": [
    "## Subsampling NTCs"
   ]
  },
  {
   "cell_type": "code",
   "execution_count": 11,
   "id": "d5b3bbf6-912f-404d-8e7b-7f72fac2743d",
   "metadata": {
    "execution": {
     "iopub.execute_input": "2024-08-12T17:26:35.195734Z",
     "iopub.status.busy": "2024-08-12T17:26:35.195512Z",
     "iopub.status.idle": "2024-08-12T17:26:39.508884Z",
     "shell.execute_reply": "2024-08-12T17:26:39.508233Z"
    },
    "papermill": {
     "duration": 4.322998,
     "end_time": "2024-08-12T17:26:39.510547",
     "exception": false,
     "start_time": "2024-08-12T17:26:35.187549",
     "status": "completed"
    },
    "tags": []
   },
   "outputs": [],
   "source": [
    "NTC = adata[adata.obs[\"gene_symbol\"]==\"NTC\"].copy()"
   ]
  },
  {
   "cell_type": "code",
   "execution_count": 12,
   "id": "ef732a35-c6b1-40d4-a481-957f13c0df20",
   "metadata": {
    "execution": {
     "iopub.execute_input": "2024-08-12T17:26:39.527314Z",
     "iopub.status.busy": "2024-08-12T17:26:39.527061Z",
     "iopub.status.idle": "2024-08-12T17:26:40.814519Z",
     "shell.execute_reply": "2024-08-12T17:26:40.813939Z"
    },
    "papermill": {
     "duration": 1.297502,
     "end_time": "2024-08-12T17:26:40.816219",
     "exception": false,
     "start_time": "2024-08-12T17:26:39.518717",
     "status": "completed"
    },
    "tags": []
   },
   "outputs": [],
   "source": [
    "if n is not None:\n",
    "    NTC = NTC[NTC.obs.sample(n = n).index.copy()].copy()"
   ]
  },
  {
   "cell_type": "code",
   "execution_count": 13,
   "id": "ddfbd238-d92c-4dd3-a784-75a47ddb0b39",
   "metadata": {
    "execution": {
     "iopub.execute_input": "2024-08-12T17:26:40.833921Z",
     "iopub.status.busy": "2024-08-12T17:26:40.833664Z",
     "iopub.status.idle": "2024-08-12T17:26:40.918624Z",
     "shell.execute_reply": "2024-08-12T17:26:40.918190Z"
    },
    "papermill": {
     "duration": 0.094424,
     "end_time": "2024-08-12T17:26:40.919766",
     "exception": false,
     "start_time": "2024-08-12T17:26:40.825342",
     "status": "completed"
    },
    "tags": []
   },
   "outputs": [
    {
     "data": {
      "text/plain": [
       "AnnData object with n_obs × n_vars = 500 × 36603\n",
       "    obs: 'Sample', 'Barcode', 'DemuxType_crispr', 'DemuxAssignment_crispr', 'DemuxType_hashing', 'DemuxAssignment_hashing', 'cellline', 'timepoint', 'HTO', 'NGS_ID', 'Biological_replicate', '10Xrun', 'sublibrary', 'gRNA_library_MOI', 'gene_symbol', 'class', 'n_genes_by_counts', 'total_counts', 'total_counts_mt', 'pct_counts_mt', 'total_counts_ribo', 'pct_counts_ribo', 'qc_pass', 'S_score', 'G2M_score', 'phase', 'SCN_class', 'gem'\n",
       "    var: 'Symbol'\n",
       "    uns: 'DemuxAssignment_hashing_colors', 'Sample_colors', '_scvi_manager_uuid', '_scvi_uuid', 'energy_distance', 'leiden_colors', 'neighbors', 'umap'\n",
       "    obsm: 'X_pca', 'X_pca_centered', 'X_pca_sphered', 'X_pca_sphered_Norm', 'X_scVI', 'X_scVI_centered', 'X_umap'\n",
       "    layers: 'counts'\n",
       "    obsp: 'connectivities', 'distances'"
      ]
     },
     "execution_count": 13,
     "metadata": {},
     "output_type": "execute_result"
    }
   ],
   "source": [
    "NTC"
   ]
  },
  {
   "cell_type": "markdown",
   "id": "e852bb55-4b55-4a7f-9606-dca138c9eacd",
   "metadata": {
    "papermill": {
     "duration": 0.007535,
     "end_time": "2024-08-12T17:26:40.934927",
     "exception": false,
     "start_time": "2024-08-12T17:26:40.927392",
     "status": "completed"
    },
    "tags": []
   },
   "source": [
    "## Create only genes dataframe"
   ]
  },
  {
   "cell_type": "code",
   "execution_count": 14,
   "id": "e4e81638-99fe-42ff-b3fc-e3ffaced7a8d",
   "metadata": {
    "execution": {
     "iopub.execute_input": "2024-08-12T17:26:40.950701Z",
     "iopub.status.busy": "2024-08-12T17:26:40.950481Z",
     "iopub.status.idle": "2024-08-12T17:26:41.036744Z",
     "shell.execute_reply": "2024-08-12T17:26:41.036262Z"
    },
    "papermill": {
     "duration": 0.095655,
     "end_time": "2024-08-12T17:26:41.038056",
     "exception": false,
     "start_time": "2024-08-12T17:26:40.942401",
     "status": "completed"
    },
    "tags": []
   },
   "outputs": [],
   "source": [
    "genes = [el for el in adata.obs['gene_symbol'].unique()]"
   ]
  },
  {
   "cell_type": "code",
   "execution_count": 15,
   "id": "9ea9319e-fa7e-4127-b095-6a687b35a6fd",
   "metadata": {
    "execution": {
     "iopub.execute_input": "2024-08-12T17:26:41.054033Z",
     "iopub.status.busy": "2024-08-12T17:26:41.053811Z",
     "iopub.status.idle": "2024-08-12T17:26:41.133654Z",
     "shell.execute_reply": "2024-08-12T17:26:41.133241Z"
    },
    "papermill": {
     "duration": 0.089204,
     "end_time": "2024-08-12T17:26:41.134878",
     "exception": false,
     "start_time": "2024-08-12T17:26:41.045674",
     "status": "completed"
    },
    "tags": []
   },
   "outputs": [],
   "source": [
    "genes.remove(\"NTC\")"
   ]
  },
  {
   "cell_type": "code",
   "execution_count": 16,
   "id": "f66f0905-2d92-42b8-9cea-8f4098b74630",
   "metadata": {
    "execution": {
     "iopub.execute_input": "2024-08-12T17:26:41.151000Z",
     "iopub.status.busy": "2024-08-12T17:26:41.150578Z",
     "iopub.status.idle": "2024-08-12T17:28:45.570805Z",
     "shell.execute_reply": "2024-08-12T17:28:45.570195Z"
    },
    "papermill": {
     "duration": 124.430037,
     "end_time": "2024-08-12T17:28:45.572443",
     "exception": false,
     "start_time": "2024-08-12T17:26:41.142406",
     "status": "completed"
    },
    "tags": []
   },
   "outputs": [],
   "source": [
    "GENE = adata[adata.obs[\"gene_symbol\"].isin(genes)].copy()"
   ]
  },
  {
   "cell_type": "code",
   "execution_count": 17,
   "id": "14f660d5-34d2-42ff-92b8-fb62a38f4f52",
   "metadata": {
    "execution": {
     "iopub.execute_input": "2024-08-12T17:28:45.592132Z",
     "iopub.status.busy": "2024-08-12T17:28:45.591749Z",
     "iopub.status.idle": "2024-08-12T17:28:46.264058Z",
     "shell.execute_reply": "2024-08-12T17:28:46.263558Z"
    },
    "papermill": {
     "duration": 0.682395,
     "end_time": "2024-08-12T17:28:46.265258",
     "exception": false,
     "start_time": "2024-08-12T17:28:45.582863",
     "status": "completed"
    },
    "tags": []
   },
   "outputs": [
    {
     "data": {
      "text/plain": [
       "AnnData object with n_obs × n_vars = 580627 × 36603\n",
       "    obs: 'Sample', 'Barcode', 'DemuxType_crispr', 'DemuxAssignment_crispr', 'DemuxType_hashing', 'DemuxAssignment_hashing', 'cellline', 'timepoint', 'HTO', 'NGS_ID', 'Biological_replicate', '10Xrun', 'sublibrary', 'gRNA_library_MOI', 'gene_symbol', 'class', 'n_genes_by_counts', 'total_counts', 'total_counts_mt', 'pct_counts_mt', 'total_counts_ribo', 'pct_counts_ribo', 'qc_pass', 'S_score', 'G2M_score', 'phase', 'SCN_class', 'gem'\n",
       "    var: 'Symbol'\n",
       "    uns: 'DemuxAssignment_hashing_colors', 'Sample_colors', '_scvi_manager_uuid', '_scvi_uuid', 'energy_distance', 'leiden_colors', 'neighbors', 'umap'\n",
       "    obsm: 'X_pca', 'X_pca_centered', 'X_pca_sphered', 'X_pca_sphered_Norm', 'X_scVI', 'X_scVI_centered', 'X_umap'\n",
       "    layers: 'counts'\n",
       "    obsp: 'connectivities', 'distances'"
      ]
     },
     "execution_count": 17,
     "metadata": {},
     "output_type": "execute_result"
    }
   ],
   "source": [
    "GENE"
   ]
  },
  {
   "cell_type": "markdown",
   "id": "1620e1f8-a3cb-405d-bffa-a0393fce64d0",
   "metadata": {
    "papermill": {
     "duration": 0.008045,
     "end_time": "2024-08-12T17:28:46.281711",
     "exception": false,
     "start_time": "2024-08-12T17:28:46.273666",
     "status": "completed"
    },
    "tags": []
   },
   "source": [
    "## Concatenate dataframes"
   ]
  },
  {
   "cell_type": "code",
   "execution_count": 18,
   "id": "8c9f52b8-f524-4795-b8c7-0d642608d0b3",
   "metadata": {
    "execution": {
     "iopub.execute_input": "2024-08-12T17:28:46.298787Z",
     "iopub.status.busy": "2024-08-12T17:28:46.298439Z",
     "iopub.status.idle": "2024-08-12T17:29:58.353895Z",
     "shell.execute_reply": "2024-08-12T17:29:58.353314Z"
    },
    "papermill": {
     "duration": 72.065857,
     "end_time": "2024-08-12T17:29:58.355572",
     "exception": false,
     "start_time": "2024-08-12T17:28:46.289715",
     "status": "completed"
    },
    "tags": []
   },
   "outputs": [
    {
     "name": "stderr",
     "output_type": "stream",
     "text": [
      "/apps/user/gpy/envs/dev/GPUy310pascal/lib/python3.10/site-packages/anndata/_core/anndata.py:1805: FutureWarning: The AnnData.concatenate method is deprecated in favour of the anndata.concat function. Please use anndata.concat instead.\n",
      "\n",
      "See the tutorial for concat at: https://anndata.readthedocs.io/en/latest/concatenation.html\n",
      "  warnings.warn(\n"
     ]
    }
   ],
   "source": [
    "c = NTC.concatenate(GENE)"
   ]
  },
  {
   "cell_type": "code",
   "execution_count": 19,
   "id": "8cdbf30e-97ad-459d-99b6-14863644eaaf",
   "metadata": {
    "execution": {
     "iopub.execute_input": "2024-08-12T17:29:58.374481Z",
     "iopub.status.busy": "2024-08-12T17:29:58.374219Z",
     "iopub.status.idle": "2024-08-12T17:29:59.033555Z",
     "shell.execute_reply": "2024-08-12T17:29:59.033079Z"
    },
    "papermill": {
     "duration": 0.669511,
     "end_time": "2024-08-12T17:29:59.034773",
     "exception": false,
     "start_time": "2024-08-12T17:29:58.365262",
     "status": "completed"
    },
    "tags": []
   },
   "outputs": [
    {
     "data": {
      "text/plain": [
       "AnnData object with n_obs × n_vars = 581127 × 36603\n",
       "    obs: 'Sample', 'Barcode', 'DemuxType_crispr', 'DemuxAssignment_crispr', 'DemuxType_hashing', 'DemuxAssignment_hashing', 'cellline', 'timepoint', 'HTO', 'NGS_ID', 'Biological_replicate', '10Xrun', 'sublibrary', 'gRNA_library_MOI', 'gene_symbol', 'class', 'n_genes_by_counts', 'total_counts', 'total_counts_mt', 'pct_counts_mt', 'total_counts_ribo', 'pct_counts_ribo', 'qc_pass', 'S_score', 'G2M_score', 'phase', 'SCN_class', 'gem', 'batch'\n",
       "    var: 'Symbol'\n",
       "    obsm: 'X_pca', 'X_pca_centered', 'X_pca_sphered', 'X_pca_sphered_Norm', 'X_scVI', 'X_scVI_centered', 'X_umap'\n",
       "    layers: 'counts'"
      ]
     },
     "execution_count": 19,
     "metadata": {},
     "output_type": "execute_result"
    }
   ],
   "source": [
    "c"
   ]
  },
  {
   "cell_type": "markdown",
   "id": "3db08d9b-28f8-430a-ad74-56547d569cc6",
   "metadata": {
    "papermill": {
     "duration": 0.00821,
     "end_time": "2024-08-12T17:29:59.068115",
     "exception": false,
     "start_time": "2024-08-12T17:29:59.059905",
     "status": "completed"
    },
    "tags": []
   },
   "source": [
    "## Create dictionary with NTCs. Pool them first"
   ]
  },
  {
   "cell_type": "markdown",
   "id": "3d007d11-9219-4c2b-8e0e-2ba51654666c",
   "metadata": {
    "papermill": {
     "duration": 0.008079,
     "end_time": "2024-08-12T17:29:59.084207",
     "exception": false,
     "start_time": "2024-08-12T17:29:59.076128",
     "status": "completed"
    },
    "tags": []
   },
   "source": [
    "### This is to calculate consistency among NTCs"
   ]
  },
  {
   "cell_type": "code",
   "execution_count": 20,
   "id": "759879c3-9623-418f-a374-184854b075f7",
   "metadata": {
    "execution": {
     "iopub.execute_input": "2024-08-12T17:29:59.101430Z",
     "iopub.status.busy": "2024-08-12T17:29:59.100987Z",
     "iopub.status.idle": "2024-08-12T17:29:59.184926Z",
     "shell.execute_reply": "2024-08-12T17:29:59.184478Z"
    },
    "papermill": {
     "duration": 0.093865,
     "end_time": "2024-08-12T17:29:59.186040",
     "exception": false,
     "start_time": "2024-08-12T17:29:59.092175",
     "status": "completed"
    },
    "tags": []
   },
   "outputs": [],
   "source": [
    "ntcs_perturbations = [el for el in NTC.obs['DemuxAssignment_crispr'].unique()]"
   ]
  },
  {
   "cell_type": "markdown",
   "id": "4f2fe9be-a67e-4bd0-8833-013a6ae94b65",
   "metadata": {
    "papermill": {
     "duration": 0.008149,
     "end_time": "2024-08-12T17:29:59.202486",
     "exception": false,
     "start_time": "2024-08-12T17:29:59.194337",
     "status": "completed"
    },
    "tags": []
   },
   "source": [
    "### Separate NTCs"
   ]
  },
  {
   "cell_type": "code",
   "execution_count": 21,
   "id": "1b9d701c-728b-4049-bbdf-67e86c9ce513",
   "metadata": {
    "execution": {
     "iopub.execute_input": "2024-08-12T17:29:59.219336Z",
     "iopub.status.busy": "2024-08-12T17:29:59.219111Z",
     "iopub.status.idle": "2024-08-12T17:30:00.526659Z",
     "shell.execute_reply": "2024-08-12T17:30:00.526108Z"
    },
    "papermill": {
     "duration": 1.317801,
     "end_time": "2024-08-12T17:30:00.528270",
     "exception": false,
     "start_time": "2024-08-12T17:29:59.210469",
     "status": "completed"
    },
    "tags": []
   },
   "outputs": [],
   "source": [
    "ntcs = {}\n",
    "\n",
    "for el in ntcs_perturbations:\n",
    "    v = eng.get_values_umap(c, 'DemuxAssignment_crispr', el)\n",
    "    ntcs[el] = c[v].obsm[embeddings_key]"
   ]
  },
  {
   "cell_type": "code",
   "execution_count": 22,
   "id": "08e0b604-fb1b-44a7-925b-ad08fbd328c3",
   "metadata": {
    "execution": {
     "iopub.execute_input": "2024-08-12T17:30:00.547137Z",
     "iopub.status.busy": "2024-08-12T17:30:00.546883Z",
     "iopub.status.idle": "2024-08-12T17:30:22.950622Z",
     "shell.execute_reply": "2024-08-12T17:30:22.950065Z"
    },
    "papermill": {
     "duration": 22.41426,
     "end_time": "2024-08-12T17:30:22.952122",
     "exception": false,
     "start_time": "2024-08-12T17:30:00.537862",
     "status": "completed"
    },
    "tags": []
   },
   "outputs": [],
   "source": [
    "pert = {}\n",
    "\n",
    "for el in genes:\n",
    "    v = eng.get_values_umap(c, 'gene_symbol', el)\n",
    "    pert[el] = c[v].obsm[embeddings_key]"
   ]
  },
  {
   "cell_type": "code",
   "execution_count": 23,
   "id": "a639287c-e287-4cff-949c-990293ea24ab",
   "metadata": {
    "execution": {
     "iopub.execute_input": "2024-08-12T17:30:22.971532Z",
     "iopub.status.busy": "2024-08-12T17:30:22.971175Z",
     "iopub.status.idle": "2024-08-12T17:30:23.061707Z",
     "shell.execute_reply": "2024-08-12T17:30:23.061255Z"
    },
    "papermill": {
     "duration": 0.101065,
     "end_time": "2024-08-12T17:30:23.063036",
     "exception": false,
     "start_time": "2024-08-12T17:30:22.961971",
     "status": "completed"
    },
    "tags": []
   },
   "outputs": [],
   "source": [
    "ntcs_pool = {}\n",
    "W = eng.get_values_umap(c, 'gene_symbol', \"NTC\")\n",
    "ntcs_pool['pool'] = c[W].obsm[embeddings_key]"
   ]
  },
  {
   "cell_type": "markdown",
   "id": "e8298243-b82b-4b30-b9a3-1f619c0e9eb9",
   "metadata": {
    "papermill": {
     "duration": 0.008283,
     "end_time": "2024-08-12T17:30:23.079825",
     "exception": false,
     "start_time": "2024-08-12T17:30:23.071542",
     "status": "completed"
    },
    "tags": []
   },
   "source": [
    "## Run energy distance on individual NTCs to find inconsitent NTCs"
   ]
  },
  {
   "cell_type": "code",
   "execution_count": 24,
   "id": "f313f006-4df3-49fe-8058-8234ceb17586",
   "metadata": {
    "execution": {
     "iopub.execute_input": "2024-08-12T17:30:23.097072Z",
     "iopub.status.busy": "2024-08-12T17:30:23.096843Z",
     "iopub.status.idle": "2024-08-12T17:32:22.500726Z",
     "shell.execute_reply": "2024-08-12T17:32:22.500098Z"
    },
    "papermill": {
     "duration": 119.414279,
     "end_time": "2024-08-12T17:32:22.502383",
     "exception": false,
     "start_time": "2024-08-12T17:30:23.088104",
     "status": "completed"
    },
    "tags": []
   },
   "outputs": [],
   "source": [
    "ntc_consistency = eng.run(\n",
    "    client = Client(processes=True, n_workers=32),\n",
    "    perturbations = ntcs, \n",
    "    controls = ntcs_pool,\n",
    "    pool = 'No'\n",
    ")"
   ]
  },
  {
   "cell_type": "code",
   "execution_count": 25,
   "id": "75c65362-7a85-415f-b419-577dd8f1ea9c",
   "metadata": {
    "execution": {
     "iopub.execute_input": "2024-08-12T17:32:22.524223Z",
     "iopub.status.busy": "2024-08-12T17:32:22.523966Z",
     "iopub.status.idle": "2024-08-12T17:32:23.304692Z",
     "shell.execute_reply": "2024-08-12T17:32:23.304134Z"
    },
    "papermill": {
     "duration": 0.792158,
     "end_time": "2024-08-12T17:32:23.306230",
     "exception": false,
     "start_time": "2024-08-12T17:32:22.514072",
     "status": "completed"
    },
    "tags": []
   },
   "outputs": [],
   "source": [
    "ntc_consistency = pd.DataFrame(ntc_consistency).T"
   ]
  },
  {
   "cell_type": "code",
   "execution_count": 26,
   "id": "a741ab8d-effb-4f24-8b79-11495bf6bda8",
   "metadata": {
    "execution": {
     "iopub.execute_input": "2024-08-12T17:32:23.325082Z",
     "iopub.status.busy": "2024-08-12T17:32:23.324636Z",
     "iopub.status.idle": "2024-08-12T17:32:23.434563Z",
     "shell.execute_reply": "2024-08-12T17:32:23.433819Z"
    },
    "papermill": {
     "duration": 0.120645,
     "end_time": "2024-08-12T17:32:23.435955",
     "exception": false,
     "start_time": "2024-08-12T17:32:23.315310",
     "status": "completed"
    },
    "tags": []
   },
   "outputs": [
    {
     "data": {
      "text/html": [
       "<div>\n",
       "<style scoped>\n",
       "    .dataframe tbody tr th:only-of-type {\n",
       "        vertical-align: middle;\n",
       "    }\n",
       "\n",
       "    .dataframe tbody tr th {\n",
       "        vertical-align: top;\n",
       "    }\n",
       "\n",
       "    .dataframe thead th {\n",
       "        text-align: right;\n",
       "    }\n",
       "</style>\n",
       "<table border=\"1\" class=\"dataframe\">\n",
       "  <thead>\n",
       "    <tr style=\"text-align: right;\">\n",
       "      <th></th>\n",
       "      <th>pvalue</th>\n",
       "      <th>statistic</th>\n",
       "      <th>control_key</th>\n",
       "    </tr>\n",
       "  </thead>\n",
       "  <tbody>\n",
       "    <tr>\n",
       "      <th>NTC_378</th>\n",
       "      <td>0.132</td>\n",
       "      <td>4.945168</td>\n",
       "      <td>pool</td>\n",
       "    </tr>\n",
       "    <tr>\n",
       "      <th>NTC_107</th>\n",
       "      <td>0.391</td>\n",
       "      <td>2.093591</td>\n",
       "      <td>pool</td>\n",
       "    </tr>\n",
       "    <tr>\n",
       "      <th>NTC_384</th>\n",
       "      <td>0.481</td>\n",
       "      <td>1.359293</td>\n",
       "      <td>pool</td>\n",
       "    </tr>\n",
       "    <tr>\n",
       "      <th>NTC_163</th>\n",
       "      <td>0.552</td>\n",
       "      <td>0.810134</td>\n",
       "      <td>pool</td>\n",
       "    </tr>\n",
       "    <tr>\n",
       "      <th>NTC_221</th>\n",
       "      <td>0.219</td>\n",
       "      <td>2.262506</td>\n",
       "      <td>pool</td>\n",
       "    </tr>\n",
       "    <tr>\n",
       "      <th>...</th>\n",
       "      <td>...</td>\n",
       "      <td>...</td>\n",
       "      <td>...</td>\n",
       "    </tr>\n",
       "    <tr>\n",
       "      <th>NTC_303</th>\n",
       "      <td>0.786</td>\n",
       "      <td>3.420041</td>\n",
       "      <td>pool</td>\n",
       "    </tr>\n",
       "    <tr>\n",
       "      <th>NTC_410</th>\n",
       "      <td>0.823</td>\n",
       "      <td>3.324765</td>\n",
       "      <td>pool</td>\n",
       "    </tr>\n",
       "    <tr>\n",
       "      <th>NTC_315</th>\n",
       "      <td>0.082</td>\n",
       "      <td>5.379502</td>\n",
       "      <td>pool</td>\n",
       "    </tr>\n",
       "    <tr>\n",
       "      <th>NTC_427</th>\n",
       "      <td>0.789</td>\n",
       "      <td>3.449214</td>\n",
       "      <td>pool</td>\n",
       "    </tr>\n",
       "    <tr>\n",
       "      <th>NTC_260</th>\n",
       "      <td>0.493</td>\n",
       "      <td>3.985374</td>\n",
       "      <td>pool</td>\n",
       "    </tr>\n",
       "  </tbody>\n",
       "</table>\n",
       "<p>304 rows × 3 columns</p>\n",
       "</div>"
      ],
      "text/plain": [
       "        pvalue statistic control_key\n",
       "NTC_378  0.132  4.945168        pool\n",
       "NTC_107  0.391  2.093591        pool\n",
       "NTC_384  0.481  1.359293        pool\n",
       "NTC_163  0.552  0.810134        pool\n",
       "NTC_221  0.219  2.262506        pool\n",
       "...        ...       ...         ...\n",
       "NTC_303  0.786  3.420041        pool\n",
       "NTC_410  0.823  3.324765        pool\n",
       "NTC_315  0.082  5.379502        pool\n",
       "NTC_427  0.789  3.449214        pool\n",
       "NTC_260  0.493  3.985374        pool\n",
       "\n",
       "[304 rows x 3 columns]"
      ]
     },
     "execution_count": 26,
     "metadata": {},
     "output_type": "execute_result"
    }
   ],
   "source": [
    "ntc_consistency"
   ]
  },
  {
   "cell_type": "markdown",
   "id": "4b985905-981d-41e2-b609-440fe5f4aa1d",
   "metadata": {
    "papermill": {
     "duration": 0.008634,
     "end_time": "2024-08-12T17:32:23.453473",
     "exception": false,
     "start_time": "2024-08-12T17:32:23.444839",
     "status": "completed"
    },
    "tags": []
   },
   "source": [
    "### Show only inconsistent NTCs with pVAL lower than the defined cut-off"
   ]
  },
  {
   "cell_type": "code",
   "execution_count": 27,
   "id": "a2d36f5b-094c-4297-ad11-d1d17efc4317",
   "metadata": {
    "execution": {
     "iopub.execute_input": "2024-08-12T17:32:23.471769Z",
     "iopub.status.busy": "2024-08-12T17:32:23.471254Z",
     "iopub.status.idle": "2024-08-12T17:32:23.579601Z",
     "shell.execute_reply": "2024-08-12T17:32:23.579061Z"
    },
    "papermill": {
     "duration": 0.118798,
     "end_time": "2024-08-12T17:32:23.580832",
     "exception": false,
     "start_time": "2024-08-12T17:32:23.462034",
     "status": "completed"
    },
    "tags": []
   },
   "outputs": [
    {
     "data": {
      "text/html": [
       "<div>\n",
       "<style scoped>\n",
       "    .dataframe tbody tr th:only-of-type {\n",
       "        vertical-align: middle;\n",
       "    }\n",
       "\n",
       "    .dataframe tbody tr th {\n",
       "        vertical-align: top;\n",
       "    }\n",
       "\n",
       "    .dataframe thead th {\n",
       "        text-align: right;\n",
       "    }\n",
       "</style>\n",
       "<table border=\"1\" class=\"dataframe\">\n",
       "  <thead>\n",
       "    <tr style=\"text-align: right;\">\n",
       "      <th></th>\n",
       "      <th>pvalue</th>\n",
       "      <th>statistic</th>\n",
       "      <th>control_key</th>\n",
       "    </tr>\n",
       "  </thead>\n",
       "  <tbody>\n",
       "    <tr>\n",
       "      <th>NTC_325</th>\n",
       "      <td>0.022</td>\n",
       "      <td>6.579917</td>\n",
       "      <td>pool</td>\n",
       "    </tr>\n",
       "    <tr>\n",
       "      <th>NTC_171</th>\n",
       "      <td>0.015</td>\n",
       "      <td>3.165359</td>\n",
       "      <td>pool</td>\n",
       "    </tr>\n",
       "    <tr>\n",
       "      <th>NTC_232</th>\n",
       "      <td>0.012</td>\n",
       "      <td>2.093207</td>\n",
       "      <td>pool</td>\n",
       "    </tr>\n",
       "    <tr>\n",
       "      <th>NTC_237</th>\n",
       "      <td>0.046</td>\n",
       "      <td>2.750679</td>\n",
       "      <td>pool</td>\n",
       "    </tr>\n",
       "    <tr>\n",
       "      <th>NTC_123</th>\n",
       "      <td>0.02</td>\n",
       "      <td>6.725164</td>\n",
       "      <td>pool</td>\n",
       "    </tr>\n",
       "    <tr>\n",
       "      <th>NTC_386</th>\n",
       "      <td>0.004</td>\n",
       "      <td>7.383701</td>\n",
       "      <td>pool</td>\n",
       "    </tr>\n",
       "    <tr>\n",
       "      <th>NTC_46</th>\n",
       "      <td>0.05</td>\n",
       "      <td>5.700176</td>\n",
       "      <td>pool</td>\n",
       "    </tr>\n",
       "    <tr>\n",
       "      <th>NTC_154</th>\n",
       "      <td>0.003</td>\n",
       "      <td>9.489994</td>\n",
       "      <td>pool</td>\n",
       "    </tr>\n",
       "    <tr>\n",
       "      <th>NTC_109</th>\n",
       "      <td>0.035</td>\n",
       "      <td>6.042555</td>\n",
       "      <td>pool</td>\n",
       "    </tr>\n",
       "    <tr>\n",
       "      <th>NTC_370</th>\n",
       "      <td>0.031</td>\n",
       "      <td>6.257814</td>\n",
       "      <td>pool</td>\n",
       "    </tr>\n",
       "    <tr>\n",
       "      <th>NTC_281</th>\n",
       "      <td>0.041</td>\n",
       "      <td>5.836841</td>\n",
       "      <td>pool</td>\n",
       "    </tr>\n",
       "    <tr>\n",
       "      <th>NTC_37</th>\n",
       "      <td>0.026</td>\n",
       "      <td>6.012059</td>\n",
       "      <td>pool</td>\n",
       "    </tr>\n",
       "  </tbody>\n",
       "</table>\n",
       "</div>"
      ],
      "text/plain": [
       "        pvalue statistic control_key\n",
       "NTC_325  0.022  6.579917        pool\n",
       "NTC_171  0.015  3.165359        pool\n",
       "NTC_232  0.012  2.093207        pool\n",
       "NTC_237  0.046  2.750679        pool\n",
       "NTC_123   0.02  6.725164        pool\n",
       "NTC_386  0.004  7.383701        pool\n",
       "NTC_46    0.05  5.700176        pool\n",
       "NTC_154  0.003  9.489994        pool\n",
       "NTC_109  0.035  6.042555        pool\n",
       "NTC_370  0.031  6.257814        pool\n",
       "NTC_281  0.041  5.836841        pool\n",
       "NTC_37   0.026  6.012059        pool"
      ]
     },
     "execution_count": 27,
     "metadata": {},
     "output_type": "execute_result"
    }
   ],
   "source": [
    "ntc_consistency[ntc_consistency['pvalue']<=pVAL]"
   ]
  },
  {
   "cell_type": "code",
   "execution_count": 28,
   "id": "89370a8b-d948-42f8-854a-c7943ded3292",
   "metadata": {
    "execution": {
     "iopub.execute_input": "2024-08-12T17:32:23.600312Z",
     "iopub.status.busy": "2024-08-12T17:32:23.600016Z",
     "iopub.status.idle": "2024-08-12T17:32:23.710688Z",
     "shell.execute_reply": "2024-08-12T17:32:23.710162Z"
    },
    "papermill": {
     "duration": 0.121525,
     "end_time": "2024-08-12T17:32:23.711787",
     "exception": false,
     "start_time": "2024-08-12T17:32:23.590262",
     "status": "completed"
    },
    "tags": []
   },
   "outputs": [
    {
     "data": {
      "text/plain": [
       "['NTC_386', 'NTC_154']"
      ]
     },
     "execution_count": 28,
     "metadata": {},
     "output_type": "execute_result"
    }
   ],
   "source": [
    "rm_ntcs = ntc_consistency[ntc_consistency['pvalue']<=0.01].index.tolist()\n",
    "rm_ntcs"
   ]
  },
  {
   "cell_type": "code",
   "execution_count": 29,
   "id": "c32216d2-0ecb-459b-8faf-62811c707201",
   "metadata": {
    "execution": {
     "iopub.execute_input": "2024-08-12T17:32:23.730967Z",
     "iopub.status.busy": "2024-08-12T17:32:23.730723Z",
     "iopub.status.idle": "2024-08-12T17:32:23.841029Z",
     "shell.execute_reply": "2024-08-12T17:32:23.840542Z"
    },
    "papermill": {
     "duration": 0.121386,
     "end_time": "2024-08-12T17:32:23.842421",
     "exception": false,
     "start_time": "2024-08-12T17:32:23.721035",
     "status": "completed"
    },
    "tags": []
   },
   "outputs": [],
   "source": [
    "c.obs['rm_ntc'] = 'No'\n",
    "c.obs.loc[c.obs['DemuxAssignment_crispr'].isin(rm_ntcs), 'rm_ntc'] = 'Yes'"
   ]
  },
  {
   "cell_type": "code",
   "execution_count": 30,
   "id": "f4e9a6c3-986b-4f23-9501-eb7fe38fe33b",
   "metadata": {
    "execution": {
     "iopub.execute_input": "2024-08-12T17:32:23.862365Z",
     "iopub.status.busy": "2024-08-12T17:32:23.862110Z",
     "iopub.status.idle": "2024-08-12T17:32:24.512554Z",
     "shell.execute_reply": "2024-08-12T17:32:24.512040Z"
    },
    "papermill": {
     "duration": 0.661485,
     "end_time": "2024-08-12T17:32:24.513818",
     "exception": false,
     "start_time": "2024-08-12T17:32:23.852333",
     "status": "completed"
    },
    "tags": []
   },
   "outputs": [
    {
     "data": {
      "text/plain": [
       "View of AnnData object with n_obs × n_vars = 581125 × 36603\n",
       "    obs: 'Sample', 'Barcode', 'DemuxType_crispr', 'DemuxAssignment_crispr', 'DemuxType_hashing', 'DemuxAssignment_hashing', 'cellline', 'timepoint', 'HTO', 'NGS_ID', 'Biological_replicate', '10Xrun', 'sublibrary', 'gRNA_library_MOI', 'gene_symbol', 'class', 'n_genes_by_counts', 'total_counts', 'total_counts_mt', 'pct_counts_mt', 'total_counts_ribo', 'pct_counts_ribo', 'qc_pass', 'S_score', 'G2M_score', 'phase', 'SCN_class', 'gem', 'batch', 'rm_ntc'\n",
       "    var: 'Symbol'\n",
       "    obsm: 'X_pca', 'X_pca_centered', 'X_pca_sphered', 'X_pca_sphered_Norm', 'X_scVI', 'X_scVI_centered', 'X_umap'\n",
       "    layers: 'counts'"
      ]
     },
     "execution_count": 30,
     "metadata": {},
     "output_type": "execute_result"
    }
   ],
   "source": [
    "c = c[c.obs['rm_ntc']=='No']\n",
    "c"
   ]
  },
  {
   "cell_type": "markdown",
   "id": "d898b8e3-daf4-4ef0-8603-d7ad905dd295",
   "metadata": {
    "papermill": {
     "duration": 0.009192,
     "end_time": "2024-08-12T17:32:24.532754",
     "exception": false,
     "start_time": "2024-08-12T17:32:24.523562",
     "status": "completed"
    },
    "tags": []
   },
   "source": [
    "### Update NTCs"
   ]
  },
  {
   "cell_type": "code",
   "execution_count": 31,
   "id": "0406f3af-84bb-4ec8-9dd3-405ad1576d16",
   "metadata": {
    "execution": {
     "iopub.execute_input": "2024-08-12T17:32:24.551740Z",
     "iopub.status.busy": "2024-08-12T17:32:24.551455Z",
     "iopub.status.idle": "2024-08-12T17:32:24.672969Z",
     "shell.execute_reply": "2024-08-12T17:32:24.672461Z"
    },
    "papermill": {
     "duration": 0.132653,
     "end_time": "2024-08-12T17:32:24.674396",
     "exception": false,
     "start_time": "2024-08-12T17:32:24.541743",
     "status": "completed"
    },
    "tags": []
   },
   "outputs": [],
   "source": [
    "ntcs_pool = {}\n",
    "W = eng.get_values_umap(c, 'gene_symbol', \"NTC\")\n",
    "ntcs_pool['pool'] = c[W].obsm[embeddings_key]"
   ]
  },
  {
   "cell_type": "markdown",
   "id": "6803e411-891f-43f9-a4a7-a3d260e2f7ba",
   "metadata": {
    "papermill": {
     "duration": 0.00894,
     "end_time": "2024-08-12T17:32:24.692832",
     "exception": false,
     "start_time": "2024-08-12T17:32:24.683892",
     "status": "completed"
    },
    "tags": []
   },
   "source": [
    "## Calculate actual EnergyDistance as ed"
   ]
  },
  {
   "cell_type": "code",
   "execution_count": 32,
   "id": "b96d7aa1-6b2a-4a9c-8121-4687091ea46c",
   "metadata": {
    "execution": {
     "iopub.execute_input": "2024-08-12T17:32:24.711970Z",
     "iopub.status.busy": "2024-08-12T17:32:24.711712Z",
     "iopub.status.idle": "2024-08-12T18:04:36.066063Z",
     "shell.execute_reply": "2024-08-12T18:04:36.064730Z"
    },
    "papermill": {
     "duration": 1931.365893,
     "end_time": "2024-08-12T18:04:36.067798",
     "exception": false,
     "start_time": "2024-08-12T17:32:24.701905",
     "status": "completed"
    },
    "tags": []
   },
   "outputs": [
    {
     "name": "stderr",
     "output_type": "stream",
     "text": [
      "/apps/user/gpy/envs/dev/GPUy310pascal/lib/python3.10/site-packages/distributed/node.py:182: UserWarning: Port 8787 is already in use.\n",
      "Perhaps you already have a cluster running?\n",
      "Hosting the HTTP server on port 39072 instead\n",
      "  warnings.warn(\n"
     ]
    }
   ],
   "source": [
    "ed = eng.run(\n",
    "    client = Client(processes=True, n_workers=32),\n",
    "    perturbations = pert, \n",
    "    controls = ntcs_pool,\n",
    "    pool = 'Yes'\n",
    ")"
   ]
  },
  {
   "cell_type": "markdown",
   "id": "e4ddeef4-8e83-4c14-b77c-6363890d3271",
   "metadata": {
    "papermill": {
     "duration": 0.009524,
     "end_time": "2024-08-12T18:04:36.104371",
     "exception": false,
     "start_time": "2024-08-12T18:04:36.094847",
     "status": "completed"
    },
    "tags": []
   },
   "source": [
    "### Restart the client before new Computations with the refreshed client"
   ]
  },
  {
   "cell_type": "code",
   "execution_count": 33,
   "id": "b21629f5-2e79-4b56-a581-177a7e4d26b6",
   "metadata": {
    "execution": {
     "iopub.execute_input": "2024-08-12T18:04:36.139924Z",
     "iopub.status.busy": "2024-08-12T18:04:36.129097Z",
     "iopub.status.idle": "2024-08-12T18:04:37.303916Z",
     "shell.execute_reply": "2024-08-12T18:04:37.303055Z"
    },
    "papermill": {
     "duration": 1.191777,
     "end_time": "2024-08-12T18:04:37.305449",
     "exception": false,
     "start_time": "2024-08-12T18:04:36.113672",
     "status": "completed"
    },
    "tags": []
   },
   "outputs": [],
   "source": [
    "#client = Client()\n",
    "#client.restart()"
   ]
  },
  {
   "cell_type": "code",
   "execution_count": 34,
   "id": "5c73b148-ed58-4dcd-8355-2b8a1cbdf9f2",
   "metadata": {
    "execution": {
     "iopub.execute_input": "2024-08-12T18:04:37.325731Z",
     "iopub.status.busy": "2024-08-12T18:04:37.325446Z",
     "iopub.status.idle": "2024-08-12T18:04:37.545913Z",
     "shell.execute_reply": "2024-08-12T18:04:37.544996Z"
    },
    "papermill": {
     "duration": 0.231959,
     "end_time": "2024-08-12T18:04:37.547257",
     "exception": false,
     "start_time": "2024-08-12T18:04:37.315298",
     "status": "completed"
    },
    "tags": []
   },
   "outputs": [
    {
     "data": {
      "text/html": [
       "<div>\n",
       "<style scoped>\n",
       "    .dataframe tbody tr th:only-of-type {\n",
       "        vertical-align: middle;\n",
       "    }\n",
       "\n",
       "    .dataframe tbody tr th {\n",
       "        vertical-align: top;\n",
       "    }\n",
       "\n",
       "    .dataframe thead th {\n",
       "        text-align: right;\n",
       "    }\n",
       "</style>\n",
       "<table border=\"1\" class=\"dataframe\">\n",
       "  <thead>\n",
       "    <tr style=\"text-align: right;\">\n",
       "      <th></th>\n",
       "      <th>pvalue</th>\n",
       "      <th>statistic</th>\n",
       "      <th>control_key</th>\n",
       "    </tr>\n",
       "  </thead>\n",
       "  <tbody>\n",
       "    <tr>\n",
       "      <th>ARL6IP6</th>\n",
       "      <td>0.0</td>\n",
       "      <td>0.115815</td>\n",
       "      <td>pool</td>\n",
       "    </tr>\n",
       "    <tr>\n",
       "      <th>MED29</th>\n",
       "      <td>0.0</td>\n",
       "      <td>0.453187</td>\n",
       "      <td>pool</td>\n",
       "    </tr>\n",
       "    <tr>\n",
       "      <th>MATR3</th>\n",
       "      <td>0.0</td>\n",
       "      <td>0.071567</td>\n",
       "      <td>pool</td>\n",
       "    </tr>\n",
       "    <tr>\n",
       "      <th>SMG5</th>\n",
       "      <td>0.0</td>\n",
       "      <td>0.335741</td>\n",
       "      <td>pool</td>\n",
       "    </tr>\n",
       "    <tr>\n",
       "      <th>TMEM253</th>\n",
       "      <td>0.0</td>\n",
       "      <td>0.053208</td>\n",
       "      <td>pool</td>\n",
       "    </tr>\n",
       "    <tr>\n",
       "      <th>...</th>\n",
       "      <td>...</td>\n",
       "      <td>...</td>\n",
       "      <td>...</td>\n",
       "    </tr>\n",
       "    <tr>\n",
       "      <th>HSFX3</th>\n",
       "      <td>0.993</td>\n",
       "      <td>0.054927</td>\n",
       "      <td>pool</td>\n",
       "    </tr>\n",
       "    <tr>\n",
       "      <th>PSG7</th>\n",
       "      <td>0.995</td>\n",
       "      <td>0.022638</td>\n",
       "      <td>pool</td>\n",
       "    </tr>\n",
       "    <tr>\n",
       "      <th>UBA7</th>\n",
       "      <td>0.995</td>\n",
       "      <td>0.029196</td>\n",
       "      <td>pool</td>\n",
       "    </tr>\n",
       "    <tr>\n",
       "      <th>PTPN18</th>\n",
       "      <td>0.998</td>\n",
       "      <td>0.031081</td>\n",
       "      <td>pool</td>\n",
       "    </tr>\n",
       "    <tr>\n",
       "      <th>MCL1</th>\n",
       "      <td>0.999</td>\n",
       "      <td>0.037823</td>\n",
       "      <td>pool</td>\n",
       "    </tr>\n",
       "  </tbody>\n",
       "</table>\n",
       "<p>4974 rows × 3 columns</p>\n",
       "</div>"
      ],
      "text/plain": [
       "        pvalue statistic control_key\n",
       "ARL6IP6    0.0  0.115815        pool\n",
       "MED29      0.0  0.453187        pool\n",
       "MATR3      0.0  0.071567        pool\n",
       "SMG5       0.0  0.335741        pool\n",
       "TMEM253    0.0  0.053208        pool\n",
       "...        ...       ...         ...\n",
       "HSFX3    0.993  0.054927        pool\n",
       "PSG7     0.995  0.022638        pool\n",
       "UBA7     0.995  0.029196        pool\n",
       "PTPN18   0.998  0.031081        pool\n",
       "MCL1     0.999  0.037823        pool\n",
       "\n",
       "[4974 rows x 3 columns]"
      ]
     },
     "execution_count": 34,
     "metadata": {},
     "output_type": "execute_result"
    }
   ],
   "source": [
    "PVAL = pd.DataFrame(ed).T.sort_values(by='pvalue')\n",
    "PVAL"
   ]
  },
  {
   "cell_type": "markdown",
   "id": "32a897ae-b020-4f4c-9fb6-b98b19ab43f6",
   "metadata": {
    "papermill": {
     "duration": 0.009609,
     "end_time": "2024-08-12T18:04:37.567244",
     "exception": false,
     "start_time": "2024-08-12T18:04:37.557635",
     "status": "completed"
    },
    "tags": []
   },
   "source": [
    "#### p-value should be 1/1000 at minimum (for 1000 permutations)"
   ]
  },
  {
   "cell_type": "code",
   "execution_count": 35,
   "id": "34898054-e1cf-4bb8-9105-c7e6c86d8520",
   "metadata": {
    "execution": {
     "iopub.execute_input": "2024-08-12T18:04:37.586965Z",
     "iopub.status.busy": "2024-08-12T18:04:37.586662Z",
     "iopub.status.idle": "2024-08-12T18:04:37.761112Z",
     "shell.execute_reply": "2024-08-12T18:04:37.760560Z"
    },
    "papermill": {
     "duration": 0.186123,
     "end_time": "2024-08-12T18:04:37.762663",
     "exception": false,
     "start_time": "2024-08-12T18:04:37.576540",
     "status": "completed"
    },
    "tags": []
   },
   "outputs": [],
   "source": [
    "PVAL['pvalue'] = PVAL['pvalue'].replace(0,0.001)"
   ]
  },
  {
   "cell_type": "code",
   "execution_count": 36,
   "id": "7288550e-99de-47eb-8025-256728eb7136",
   "metadata": {
    "execution": {
     "iopub.execute_input": "2024-08-12T18:04:37.783187Z",
     "iopub.status.busy": "2024-08-12T18:04:37.782709Z",
     "iopub.status.idle": "2024-08-12T18:04:37.914022Z",
     "shell.execute_reply": "2024-08-12T18:04:37.913007Z"
    },
    "papermill": {
     "duration": 0.142884,
     "end_time": "2024-08-12T18:04:37.915547",
     "exception": false,
     "start_time": "2024-08-12T18:04:37.772663",
     "status": "completed"
    },
    "tags": []
   },
   "outputs": [],
   "source": [
    "PVAL['gene_symbol'] = PVAL.index\n",
    "PVAL.to_csv(out_csv)"
   ]
  },
  {
   "cell_type": "markdown",
   "id": "f66e387d-decd-4193-b455-b69f64132c96",
   "metadata": {
    "papermill": {
     "duration": 0.00924,
     "end_time": "2024-08-12T18:04:37.934772",
     "exception": false,
     "start_time": "2024-08-12T18:04:37.925532",
     "status": "completed"
    },
    "tags": []
   },
   "source": [
    "### Add the energy distance info to adata"
   ]
  },
  {
   "cell_type": "code",
   "execution_count": 37,
   "id": "d44dfcd6-3f10-4689-a3db-d1b628be65fb",
   "metadata": {
    "execution": {
     "iopub.execute_input": "2024-08-12T18:04:37.954378Z",
     "iopub.status.busy": "2024-08-12T18:04:37.953922Z",
     "iopub.status.idle": "2024-08-12T18:04:38.164774Z",
     "shell.execute_reply": "2024-08-12T18:04:38.163741Z"
    },
    "papermill": {
     "duration": 0.222484,
     "end_time": "2024-08-12T18:04:38.166377",
     "exception": false,
     "start_time": "2024-08-12T18:04:37.943893",
     "status": "completed"
    },
    "tags": []
   },
   "outputs": [],
   "source": [
    "ed_df = pd.DataFrame(ed).T.copy()"
   ]
  },
  {
   "cell_type": "code",
   "execution_count": 38,
   "id": "2b688711-ccd5-487e-9ce3-8fb98837375d",
   "metadata": {
    "execution": {
     "iopub.execute_input": "2024-08-12T18:04:38.187075Z",
     "iopub.status.busy": "2024-08-12T18:04:38.186725Z",
     "iopub.status.idle": "2024-08-12T18:04:38.360010Z",
     "shell.execute_reply": "2024-08-12T18:04:38.359452Z"
    },
    "papermill": {
     "duration": 0.185112,
     "end_time": "2024-08-12T18:04:38.361536",
     "exception": false,
     "start_time": "2024-08-12T18:04:38.176424",
     "status": "completed"
    },
    "tags": []
   },
   "outputs": [],
   "source": [
    "ed_df['gene_symbol'] = ed_df.index\n",
    "ed_df=ed_df.reset_index(drop=True)"
   ]
  },
  {
   "cell_type": "code",
   "execution_count": 39,
   "id": "7de3cfb1-65e5-4db0-bccc-d1ea78f480ad",
   "metadata": {
    "execution": {
     "iopub.execute_input": "2024-08-12T18:04:38.382556Z",
     "iopub.status.busy": "2024-08-12T18:04:38.381981Z",
     "iopub.status.idle": "2024-08-12T18:04:38.516153Z",
     "shell.execute_reply": "2024-08-12T18:04:38.515318Z"
    },
    "papermill": {
     "duration": 0.145978,
     "end_time": "2024-08-12T18:04:38.517798",
     "exception": false,
     "start_time": "2024-08-12T18:04:38.371820",
     "status": "completed"
    },
    "tags": []
   },
   "outputs": [],
   "source": [
    "ed_df['pvalue'] = ed_df['pvalue'].replace(0,0.001)"
   ]
  },
  {
   "cell_type": "code",
   "execution_count": 40,
   "id": "7524de3d-fd55-4380-9353-8cb96e1ff450",
   "metadata": {
    "execution": {
     "iopub.execute_input": "2024-08-12T18:04:38.538567Z",
     "iopub.status.busy": "2024-08-12T18:04:38.538234Z",
     "iopub.status.idle": "2024-08-12T18:04:38.725063Z",
     "shell.execute_reply": "2024-08-12T18:04:38.724157Z"
    },
    "papermill": {
     "duration": 0.199072,
     "end_time": "2024-08-12T18:04:38.726881",
     "exception": false,
     "start_time": "2024-08-12T18:04:38.527809",
     "status": "completed"
    },
    "tags": []
   },
   "outputs": [],
   "source": [
    "ed_df = ed_df.rename(columns={\"pvalue\":\"energy_distance_pvalue\",\"statistic\":\"energy_distance_statistic\",\"control_key\":\"energy_distance_control_key\"})"
   ]
  },
  {
   "cell_type": "code",
   "execution_count": 41,
   "id": "dbea9031-c414-4d91-be7d-9db02adcb594",
   "metadata": {
    "execution": {
     "iopub.execute_input": "2024-08-12T18:04:38.747770Z",
     "iopub.status.busy": "2024-08-12T18:04:38.747180Z",
     "iopub.status.idle": "2024-08-12T18:04:39.366823Z",
     "shell.execute_reply": "2024-08-12T18:04:39.365997Z"
    },
    "papermill": {
     "duration": 0.631429,
     "end_time": "2024-08-12T18:04:39.368429",
     "exception": false,
     "start_time": "2024-08-12T18:04:38.737000",
     "status": "completed"
    },
    "tags": []
   },
   "outputs": [],
   "source": [
    "df_uns = adata.obs.reset_index().merge(ed_df, on=\"gene_symbol\", how=\"left\").set_index('index')\n",
    "df_uns.index.name = None"
   ]
  },
  {
   "cell_type": "code",
   "execution_count": 42,
   "id": "87b169e3-c899-4559-a3d8-9b451c8e5e12",
   "metadata": {
    "execution": {
     "iopub.execute_input": "2024-08-12T18:04:39.389492Z",
     "iopub.status.busy": "2024-08-12T18:04:39.389208Z",
     "iopub.status.idle": "2024-08-12T18:04:39.514862Z",
     "shell.execute_reply": "2024-08-12T18:04:39.513789Z"
    },
    "papermill": {
     "duration": 0.137704,
     "end_time": "2024-08-12T18:04:39.516421",
     "exception": false,
     "start_time": "2024-08-12T18:04:39.378717",
     "status": "completed"
    },
    "tags": []
   },
   "outputs": [],
   "source": [
    "b=['energy_distance_pvalue','energy_distance_statistic']#,'energy_distance_control_key','phenotype']\n",
    "\n",
    "for el in b:\n",
    "    df_uns[el] = df_uns[el].astype(float)"
   ]
  },
  {
   "cell_type": "code",
   "execution_count": 43,
   "id": "160be9c6-f069-4877-b59d-c8c4ec942553",
   "metadata": {
    "execution": {
     "iopub.execute_input": "2024-08-12T18:04:39.537405Z",
     "iopub.status.busy": "2024-08-12T18:04:39.537107Z",
     "iopub.status.idle": "2024-08-12T18:04:39.719246Z",
     "shell.execute_reply": "2024-08-12T18:04:39.718705Z"
    },
    "papermill": {
     "duration": 0.193723,
     "end_time": "2024-08-12T18:04:39.720484",
     "exception": false,
     "start_time": "2024-08-12T18:04:39.526761",
     "status": "completed"
    },
    "tags": []
   },
   "outputs": [
    {
     "data": {
      "text/html": [
       "<div>\n",
       "<style scoped>\n",
       "    .dataframe tbody tr th:only-of-type {\n",
       "        vertical-align: middle;\n",
       "    }\n",
       "\n",
       "    .dataframe tbody tr th {\n",
       "        vertical-align: top;\n",
       "    }\n",
       "\n",
       "    .dataframe thead th {\n",
       "        text-align: right;\n",
       "    }\n",
       "</style>\n",
       "<table border=\"1\" class=\"dataframe\">\n",
       "  <thead>\n",
       "    <tr style=\"text-align: right;\">\n",
       "      <th></th>\n",
       "      <th>Sample</th>\n",
       "      <th>Barcode</th>\n",
       "      <th>DemuxType_crispr</th>\n",
       "      <th>DemuxAssignment_crispr</th>\n",
       "      <th>DemuxType_hashing</th>\n",
       "      <th>DemuxAssignment_hashing</th>\n",
       "      <th>cellline</th>\n",
       "      <th>timepoint</th>\n",
       "      <th>HTO</th>\n",
       "      <th>NGS_ID</th>\n",
       "      <th>...</th>\n",
       "      <th>pct_counts_ribo</th>\n",
       "      <th>qc_pass</th>\n",
       "      <th>S_score</th>\n",
       "      <th>G2M_score</th>\n",
       "      <th>phase</th>\n",
       "      <th>SCN_class</th>\n",
       "      <th>gem</th>\n",
       "      <th>energy_distance_pvalue</th>\n",
       "      <th>energy_distance_statistic</th>\n",
       "      <th>energy_distance_control_key</th>\n",
       "    </tr>\n",
       "  </thead>\n",
       "  <tbody>\n",
       "    <tr>\n",
       "      <th>SAM24451293_rep1-AAACCCAAGAAATCCA</th>\n",
       "      <td>SAM24451293</td>\n",
       "      <td>AAACCCAAGAAATCCA</td>\n",
       "      <td>singlet</td>\n",
       "      <td>ENSG00000154124_2</td>\n",
       "      <td>singlet</td>\n",
       "      <td>SAM24439044</td>\n",
       "      <td>DLD1</td>\n",
       "      <td>day5</td>\n",
       "      <td>HTO-14</td>\n",
       "      <td>NGS5774</td>\n",
       "      <td>...</td>\n",
       "      <td>19.529837</td>\n",
       "      <td>True</td>\n",
       "      <td>-0.734884</td>\n",
       "      <td>-0.491440</td>\n",
       "      <td>G1</td>\n",
       "      <td>Untreatedclus_DLD1</td>\n",
       "      <td>NGS5774-1</td>\n",
       "      <td>0.378</td>\n",
       "      <td>0.041879</td>\n",
       "      <td>pool</td>\n",
       "    </tr>\n",
       "    <tr>\n",
       "      <th>SAM24451293_rep1-AAACCCAAGACAGTCG</th>\n",
       "      <td>SAM24451293</td>\n",
       "      <td>AAACCCAAGACAGTCG</td>\n",
       "      <td>singlet</td>\n",
       "      <td>ENSG00000171017_3</td>\n",
       "      <td>singlet</td>\n",
       "      <td>SAM24439045</td>\n",
       "      <td>DLD1</td>\n",
       "      <td>day5</td>\n",
       "      <td>HTO-18</td>\n",
       "      <td>NGS5774</td>\n",
       "      <td>...</td>\n",
       "      <td>22.065006</td>\n",
       "      <td>True</td>\n",
       "      <td>-0.493023</td>\n",
       "      <td>0.231481</td>\n",
       "      <td>G2M</td>\n",
       "      <td>Untreatedclus_DLD1</td>\n",
       "      <td>NGS5774-1</td>\n",
       "      <td>0.027</td>\n",
       "      <td>0.056325</td>\n",
       "      <td>pool</td>\n",
       "    </tr>\n",
       "    <tr>\n",
       "      <th>SAM24451293_rep1-AAACCCACAGACCCGT</th>\n",
       "      <td>SAM24451293</td>\n",
       "      <td>AAACCCACAGACCCGT</td>\n",
       "      <td>singlet</td>\n",
       "      <td>ENSG00000140057_1</td>\n",
       "      <td>singlet</td>\n",
       "      <td>SAM24439043</td>\n",
       "      <td>DLD1</td>\n",
       "      <td>day5</td>\n",
       "      <td>HTO-10</td>\n",
       "      <td>NGS5774</td>\n",
       "      <td>...</td>\n",
       "      <td>14.875622</td>\n",
       "      <td>True</td>\n",
       "      <td>-0.158140</td>\n",
       "      <td>-0.564640</td>\n",
       "      <td>G1</td>\n",
       "      <td>Untreatedclus_DLD1</td>\n",
       "      <td>NGS5774-1</td>\n",
       "      <td>0.695</td>\n",
       "      <td>0.037295</td>\n",
       "      <td>pool</td>\n",
       "    </tr>\n",
       "    <tr>\n",
       "      <th>SAM24451293_rep1-AAACCCAGTAACGATA</th>\n",
       "      <td>SAM24451293</td>\n",
       "      <td>AAACCCAGTAACGATA</td>\n",
       "      <td>singlet</td>\n",
       "      <td>ENSG00000188611_3</td>\n",
       "      <td>singlet</td>\n",
       "      <td>POSITIVE_CONTROL</td>\n",
       "      <td>DLD1</td>\n",
       "      <td>day5</td>\n",
       "      <td>HTO-19</td>\n",
       "      <td>NGS5774</td>\n",
       "      <td>...</td>\n",
       "      <td>25.018056</td>\n",
       "      <td>True</td>\n",
       "      <td>-0.520930</td>\n",
       "      <td>-0.385045</td>\n",
       "      <td>G1</td>\n",
       "      <td>Untreatedclus_DLD1</td>\n",
       "      <td>NGS5774-1</td>\n",
       "      <td>0.884</td>\n",
       "      <td>0.029876</td>\n",
       "      <td>pool</td>\n",
       "    </tr>\n",
       "    <tr>\n",
       "      <th>SAM24451293_rep1-AAACCCAGTACGACAG</th>\n",
       "      <td>SAM24451293</td>\n",
       "      <td>AAACCCAGTACGACAG</td>\n",
       "      <td>singlet</td>\n",
       "      <td>ENSG00000166664_2</td>\n",
       "      <td>singlet</td>\n",
       "      <td>SAM24439043</td>\n",
       "      <td>DLD1</td>\n",
       "      <td>day5</td>\n",
       "      <td>HTO-1</td>\n",
       "      <td>NGS5774</td>\n",
       "      <td>...</td>\n",
       "      <td>17.613996</td>\n",
       "      <td>True</td>\n",
       "      <td>0.334884</td>\n",
       "      <td>-0.072851</td>\n",
       "      <td>S</td>\n",
       "      <td>Untreatedclus_DLD1</td>\n",
       "      <td>NGS5774-1</td>\n",
       "      <td>0.395</td>\n",
       "      <td>0.036058</td>\n",
       "      <td>pool</td>\n",
       "    </tr>\n",
       "  </tbody>\n",
       "</table>\n",
       "<p>5 rows × 31 columns</p>\n",
       "</div>"
      ],
      "text/plain": [
       "                                        Sample           Barcode  \\\n",
       "SAM24451293_rep1-AAACCCAAGAAATCCA  SAM24451293  AAACCCAAGAAATCCA   \n",
       "SAM24451293_rep1-AAACCCAAGACAGTCG  SAM24451293  AAACCCAAGACAGTCG   \n",
       "SAM24451293_rep1-AAACCCACAGACCCGT  SAM24451293  AAACCCACAGACCCGT   \n",
       "SAM24451293_rep1-AAACCCAGTAACGATA  SAM24451293  AAACCCAGTAACGATA   \n",
       "SAM24451293_rep1-AAACCCAGTACGACAG  SAM24451293  AAACCCAGTACGACAG   \n",
       "\n",
       "                                  DemuxType_crispr DemuxAssignment_crispr  \\\n",
       "SAM24451293_rep1-AAACCCAAGAAATCCA          singlet      ENSG00000154124_2   \n",
       "SAM24451293_rep1-AAACCCAAGACAGTCG          singlet      ENSG00000171017_3   \n",
       "SAM24451293_rep1-AAACCCACAGACCCGT          singlet      ENSG00000140057_1   \n",
       "SAM24451293_rep1-AAACCCAGTAACGATA          singlet      ENSG00000188611_3   \n",
       "SAM24451293_rep1-AAACCCAGTACGACAG          singlet      ENSG00000166664_2   \n",
       "\n",
       "                                  DemuxType_hashing DemuxAssignment_hashing  \\\n",
       "SAM24451293_rep1-AAACCCAAGAAATCCA           singlet             SAM24439044   \n",
       "SAM24451293_rep1-AAACCCAAGACAGTCG           singlet             SAM24439045   \n",
       "SAM24451293_rep1-AAACCCACAGACCCGT           singlet             SAM24439043   \n",
       "SAM24451293_rep1-AAACCCAGTAACGATA           singlet        POSITIVE_CONTROL   \n",
       "SAM24451293_rep1-AAACCCAGTACGACAG           singlet             SAM24439043   \n",
       "\n",
       "                                  cellline timepoint     HTO   NGS_ID  ...  \\\n",
       "SAM24451293_rep1-AAACCCAAGAAATCCA     DLD1      day5  HTO-14  NGS5774  ...   \n",
       "SAM24451293_rep1-AAACCCAAGACAGTCG     DLD1      day5  HTO-18  NGS5774  ...   \n",
       "SAM24451293_rep1-AAACCCACAGACCCGT     DLD1      day5  HTO-10  NGS5774  ...   \n",
       "SAM24451293_rep1-AAACCCAGTAACGATA     DLD1      day5  HTO-19  NGS5774  ...   \n",
       "SAM24451293_rep1-AAACCCAGTACGACAG     DLD1      day5   HTO-1  NGS5774  ...   \n",
       "\n",
       "                                  pct_counts_ribo qc_pass   S_score G2M_score  \\\n",
       "SAM24451293_rep1-AAACCCAAGAAATCCA       19.529837    True -0.734884 -0.491440   \n",
       "SAM24451293_rep1-AAACCCAAGACAGTCG       22.065006    True -0.493023  0.231481   \n",
       "SAM24451293_rep1-AAACCCACAGACCCGT       14.875622    True -0.158140 -0.564640   \n",
       "SAM24451293_rep1-AAACCCAGTAACGATA       25.018056    True -0.520930 -0.385045   \n",
       "SAM24451293_rep1-AAACCCAGTACGACAG       17.613996    True  0.334884 -0.072851   \n",
       "\n",
       "                                  phase           SCN_class        gem  \\\n",
       "SAM24451293_rep1-AAACCCAAGAAATCCA    G1  Untreatedclus_DLD1  NGS5774-1   \n",
       "SAM24451293_rep1-AAACCCAAGACAGTCG   G2M  Untreatedclus_DLD1  NGS5774-1   \n",
       "SAM24451293_rep1-AAACCCACAGACCCGT    G1  Untreatedclus_DLD1  NGS5774-1   \n",
       "SAM24451293_rep1-AAACCCAGTAACGATA    G1  Untreatedclus_DLD1  NGS5774-1   \n",
       "SAM24451293_rep1-AAACCCAGTACGACAG     S  Untreatedclus_DLD1  NGS5774-1   \n",
       "\n",
       "                                   energy_distance_pvalue  \\\n",
       "SAM24451293_rep1-AAACCCAAGAAATCCA                   0.378   \n",
       "SAM24451293_rep1-AAACCCAAGACAGTCG                   0.027   \n",
       "SAM24451293_rep1-AAACCCACAGACCCGT                   0.695   \n",
       "SAM24451293_rep1-AAACCCAGTAACGATA                   0.884   \n",
       "SAM24451293_rep1-AAACCCAGTACGACAG                   0.395   \n",
       "\n",
       "                                   energy_distance_statistic  \\\n",
       "SAM24451293_rep1-AAACCCAAGAAATCCA                   0.041879   \n",
       "SAM24451293_rep1-AAACCCAAGACAGTCG                   0.056325   \n",
       "SAM24451293_rep1-AAACCCACAGACCCGT                   0.037295   \n",
       "SAM24451293_rep1-AAACCCAGTAACGATA                   0.029876   \n",
       "SAM24451293_rep1-AAACCCAGTACGACAG                   0.036058   \n",
       "\n",
       "                                   energy_distance_control_key  \n",
       "SAM24451293_rep1-AAACCCAAGAAATCCA                         pool  \n",
       "SAM24451293_rep1-AAACCCAAGACAGTCG                         pool  \n",
       "SAM24451293_rep1-AAACCCACAGACCCGT                         pool  \n",
       "SAM24451293_rep1-AAACCCAGTAACGATA                         pool  \n",
       "SAM24451293_rep1-AAACCCAGTACGACAG                         pool  \n",
       "\n",
       "[5 rows x 31 columns]"
      ]
     },
     "execution_count": 43,
     "metadata": {},
     "output_type": "execute_result"
    }
   ],
   "source": [
    "df_uns.head()"
   ]
  },
  {
   "cell_type": "code",
   "execution_count": 44,
   "id": "8a128914-749a-45e3-9d07-f4056b0449e2",
   "metadata": {
    "execution": {
     "iopub.execute_input": "2024-08-12T18:04:39.742068Z",
     "iopub.status.busy": "2024-08-12T18:04:39.741686Z",
     "iopub.status.idle": "2024-08-12T18:04:39.851819Z",
     "shell.execute_reply": "2024-08-12T18:04:39.851258Z"
    },
    "papermill": {
     "duration": 0.122396,
     "end_time": "2024-08-12T18:04:39.853296",
     "exception": false,
     "start_time": "2024-08-12T18:04:39.730900",
     "status": "completed"
    },
    "tags": []
   },
   "outputs": [],
   "source": [
    "#df_uns.index = df_uns.index.astype(str)"
   ]
  },
  {
   "cell_type": "code",
   "execution_count": 45,
   "id": "af7b1be8-d644-4330-9583-f1c6ed76a553",
   "metadata": {
    "execution": {
     "iopub.execute_input": "2024-08-12T18:04:39.874826Z",
     "iopub.status.busy": "2024-08-12T18:04:39.874527Z",
     "iopub.status.idle": "2024-08-12T18:04:40.018608Z",
     "shell.execute_reply": "2024-08-12T18:04:40.017970Z"
    },
    "papermill": {
     "duration": 0.15645,
     "end_time": "2024-08-12T18:04:40.020130",
     "exception": false,
     "start_time": "2024-08-12T18:04:39.863680",
     "status": "completed"
    },
    "tags": []
   },
   "outputs": [],
   "source": [
    "df_uns = df_uns.drop(columns='energy_distance_control_key')"
   ]
  },
  {
   "cell_type": "code",
   "execution_count": 46,
   "id": "3069e8b2-8e6c-49d3-8da8-21978d35197c",
   "metadata": {
    "execution": {
     "iopub.execute_input": "2024-08-12T18:04:40.041678Z",
     "iopub.status.busy": "2024-08-12T18:04:40.041242Z",
     "iopub.status.idle": "2024-08-12T18:04:40.178441Z",
     "shell.execute_reply": "2024-08-12T18:04:40.177672Z"
    },
    "papermill": {
     "duration": 0.149326,
     "end_time": "2024-08-12T18:04:40.180023",
     "exception": false,
     "start_time": "2024-08-12T18:04:40.030697",
     "status": "completed"
    },
    "tags": []
   },
   "outputs": [],
   "source": [
    "df_uns['phenotype'] = 'No'\n",
    "df_uns.loc[df_uns['energy_distance_pvalue']<=pVAL, 'phenotype'] = 'Yes'"
   ]
  },
  {
   "cell_type": "code",
   "execution_count": 47,
   "id": "36ab0df3-09a7-44e5-a271-6c435008735c",
   "metadata": {
    "execution": {
     "iopub.execute_input": "2024-08-12T18:04:40.201657Z",
     "iopub.status.busy": "2024-08-12T18:04:40.201268Z",
     "iopub.status.idle": "2024-08-12T18:04:40.438136Z",
     "shell.execute_reply": "2024-08-12T18:04:40.437523Z"
    },
    "papermill": {
     "duration": 0.248806,
     "end_time": "2024-08-12T18:04:40.439430",
     "exception": false,
     "start_time": "2024-08-12T18:04:40.190624",
     "status": "completed"
    },
    "tags": []
   },
   "outputs": [
    {
     "data": {
      "text/plain": [
       "1601"
      ]
     },
     "execution_count": 47,
     "metadata": {},
     "output_type": "execute_result"
    }
   ],
   "source": [
    "PHENO = df_uns[df_uns['phenotype']=='Yes'].copy()\n",
    "PHENO['gene_symbol'].nunique()"
   ]
  },
  {
   "cell_type": "markdown",
   "id": "79d8b13c-41a8-4557-a592-842f0cfb9a6d",
   "metadata": {
    "papermill": {
     "duration": 0.009865,
     "end_time": "2024-08-12T18:04:40.460048",
     "exception": false,
     "start_time": "2024-08-12T18:04:40.450183",
     "status": "completed"
    },
    "tags": []
   },
   "source": [
    "## Update the annadata object and write out the output"
   ]
  },
  {
   "cell_type": "code",
   "execution_count": 48,
   "id": "45121276-0370-43d6-bcb9-26fcb8d3c474",
   "metadata": {
    "execution": {
     "iopub.execute_input": "2024-08-12T18:04:40.480693Z",
     "iopub.status.busy": "2024-08-12T18:04:40.480400Z",
     "iopub.status.idle": "2024-08-12T18:04:40.628163Z",
     "shell.execute_reply": "2024-08-12T18:04:40.626995Z"
    },
    "papermill": {
     "duration": 0.160173,
     "end_time": "2024-08-12T18:04:40.629991",
     "exception": false,
     "start_time": "2024-08-12T18:04:40.469818",
     "status": "completed"
    },
    "tags": []
   },
   "outputs": [],
   "source": [
    "df_uns_ED = df_uns[['energy_distance_pvalue','energy_distance_statistic','phenotype']].copy()\n",
    "df_uns_ED = df_uns_ED.rename(columns={'phenotype': 'phenotype_@0.05'})"
   ]
  },
  {
   "cell_type": "code",
   "execution_count": 49,
   "id": "c7b5e19f-3075-4451-8e3f-37ac6fbb7667",
   "metadata": {
    "execution": {
     "iopub.execute_input": "2024-08-12T18:04:40.652307Z",
     "iopub.status.busy": "2024-08-12T18:04:40.652070Z",
     "iopub.status.idle": "2024-08-12T18:04:40.810134Z",
     "shell.execute_reply": "2024-08-12T18:04:40.809417Z"
    },
    "papermill": {
     "duration": 0.170841,
     "end_time": "2024-08-12T18:04:40.811625",
     "exception": false,
     "start_time": "2024-08-12T18:04:40.640784",
     "status": "completed"
    },
    "tags": []
   },
   "outputs": [],
   "source": [
    "if 'energy_distance' not in adata.uns:\n",
    "    adata.uns[\"energy_distance\"]={}"
   ]
  },
  {
   "cell_type": "code",
   "execution_count": 50,
   "id": "232ff50d-93c3-43de-bc61-58a777f63978",
   "metadata": {
    "execution": {
     "iopub.execute_input": "2024-08-12T18:04:40.833642Z",
     "iopub.status.busy": "2024-08-12T18:04:40.833182Z",
     "iopub.status.idle": "2024-08-12T18:04:40.955502Z",
     "shell.execute_reply": "2024-08-12T18:04:40.954903Z"
    },
    "papermill": {
     "duration": 0.13461,
     "end_time": "2024-08-12T18:04:40.957019",
     "exception": false,
     "start_time": "2024-08-12T18:04:40.822409",
     "status": "completed"
    },
    "tags": []
   },
   "outputs": [],
   "source": [
    "adata.uns[\"energy_distance\"][key_uns]=df_uns_ED"
   ]
  },
  {
   "cell_type": "code",
   "execution_count": 51,
   "id": "7ea8e887-a312-4e0b-a095-7331c08a6c27",
   "metadata": {
    "execution": {
     "iopub.execute_input": "2024-08-12T18:04:40.978852Z",
     "iopub.status.busy": "2024-08-12T18:04:40.978372Z",
     "iopub.status.idle": "2024-08-12T18:06:08.236463Z",
     "shell.execute_reply": "2024-08-12T18:06:08.235218Z"
    },
    "papermill": {
     "duration": 87.270715,
     "end_time": "2024-08-12T18:06:08.238376",
     "exception": false,
     "start_time": "2024-08-12T18:04:40.967661",
     "status": "completed"
    },
    "tags": []
   },
   "outputs": [],
   "source": [
    "adata.write(ED_file)"
   ]
  },
  {
   "cell_type": "markdown",
   "id": "cf54ed93-8ed8-49df-ac4e-0036135f09d2",
   "metadata": {
    "papermill": {
     "duration": 0.010237,
     "end_time": "2024-08-12T18:06:08.261152",
     "exception": false,
     "start_time": "2024-08-12T18:06:08.250915",
     "status": "completed"
    },
    "tags": []
   },
   "source": [
    "## Data Tabulation"
   ]
  },
  {
   "cell_type": "code",
   "execution_count": 52,
   "id": "ec3eb58c-cb70-4c93-bfbf-7d11abcbaddd",
   "metadata": {
    "execution": {
     "iopub.execute_input": "2024-08-12T18:06:08.282907Z",
     "iopub.status.busy": "2024-08-12T18:06:08.282221Z",
     "iopub.status.idle": "2024-08-12T18:06:09.135466Z",
     "shell.execute_reply": "2024-08-12T18:06:09.134801Z"
    },
    "papermill": {
     "duration": 0.865642,
     "end_time": "2024-08-12T18:06:09.136858",
     "exception": false,
     "start_time": "2024-08-12T18:06:08.271216",
     "status": "completed"
    },
    "tags": []
   },
   "outputs": [
    {
     "data": {
      "text/plain": [
       "SCN_class             phenotype\n",
       "DOXclus_CL34          No              116\n",
       "                      Yes              73\n",
       "DOXclus_DLD1          No            42500\n",
       "                      Yes           21316\n",
       "DOXclus_HCA7          No               10\n",
       "                      Yes               9\n",
       "DOXclus_HT55          No                1\n",
       "                      Yes               0\n",
       "DOXclus_MDST8         No               52\n",
       "                      Yes              34\n",
       "DOXclus_SW480         No                2\n",
       "                      Yes               1\n",
       "DOXclus_SW620         No                1\n",
       "                      Yes               0\n",
       "DOXclus_SW1463        No              628\n",
       "                      Yes             369\n",
       "Untreatedclus_CL34    No                4\n",
       "                      Yes               4\n",
       "Untreatedclus_DLD1    No           375475\n",
       "                      Yes          151826\n",
       "Untreatedclus_HT55    No                1\n",
       "                      Yes               0\n",
       "Untreatedclus_RCM1    No              982\n",
       "                      Yes             628\n",
       "Untreatedclus_SKCO1   No               35\n",
       "                      Yes              27\n",
       "Untreatedclus_SW403   No                1\n",
       "                      Yes               2\n",
       "Untreatedclus_SW620   No              160\n",
       "                      Yes             103\n",
       "Untreatedclus_SW837   No               26\n",
       "                      Yes              19\n",
       "Untreatedclus_SW948   No                2\n",
       "                      Yes               0\n",
       "Untreatedclus_SW1417  No               51\n",
       "                      Yes              20\n",
       "Untreatedclus_SW1463  No              114\n",
       "                      Yes              76\n",
       "Untreatedclus_T84     No              196\n",
       "                      Yes             120\n",
       "rand                  No              394\n",
       "                      Yes             225\n",
       "Name: gene_symbol, dtype: int64"
      ]
     },
     "execution_count": 52,
     "metadata": {},
     "output_type": "execute_result"
    }
   ],
   "source": [
    "df_uns.groupby(['SCN_class', 'phenotype'])['gene_symbol'].size()"
   ]
  },
  {
   "cell_type": "code",
   "execution_count": 53,
   "id": "9fd44015-b144-450d-964a-1d196a326fe7",
   "metadata": {
    "execution": {
     "iopub.execute_input": "2024-08-12T18:06:09.159435Z",
     "iopub.status.busy": "2024-08-12T18:06:09.159148Z",
     "iopub.status.idle": "2024-08-12T18:06:09.362214Z",
     "shell.execute_reply": "2024-08-12T18:06:09.361645Z"
    },
    "papermill": {
     "duration": 0.215353,
     "end_time": "2024-08-12T18:06:09.363354",
     "exception": false,
     "start_time": "2024-08-12T18:06:09.148001",
     "status": "completed"
    },
    "tags": []
   },
   "outputs": [
    {
     "data": {
      "text/html": [
       "<div>\n",
       "<style scoped>\n",
       "    .dataframe tbody tr th:only-of-type {\n",
       "        vertical-align: middle;\n",
       "    }\n",
       "\n",
       "    .dataframe tbody tr th {\n",
       "        vertical-align: top;\n",
       "    }\n",
       "\n",
       "    .dataframe thead th {\n",
       "        text-align: right;\n",
       "    }\n",
       "</style>\n",
       "<table border=\"1\" class=\"dataframe\">\n",
       "  <thead>\n",
       "    <tr style=\"text-align: right;\">\n",
       "      <th></th>\n",
       "      <th>gene_symbol</th>\n",
       "      <th>cnt</th>\n",
       "    </tr>\n",
       "  </thead>\n",
       "  <tbody>\n",
       "    <tr>\n",
       "      <th>1369</th>\n",
       "      <td>TCF7L2</td>\n",
       "      <td>118</td>\n",
       "    </tr>\n",
       "    <tr>\n",
       "      <th>296</th>\n",
       "      <td>CTNNB1</td>\n",
       "      <td>78</td>\n",
       "    </tr>\n",
       "    <tr>\n",
       "      <th>846</th>\n",
       "      <td>MYC</td>\n",
       "      <td>65</td>\n",
       "    </tr>\n",
       "    <tr>\n",
       "      <th>874</th>\n",
       "      <td>NELFB</td>\n",
       "      <td>47</td>\n",
       "    </tr>\n",
       "    <tr>\n",
       "      <th>1504</th>\n",
       "      <td>UBTF</td>\n",
       "      <td>43</td>\n",
       "    </tr>\n",
       "    <tr>\n",
       "      <th>...</th>\n",
       "      <td>...</td>\n",
       "      <td>...</td>\n",
       "    </tr>\n",
       "    <tr>\n",
       "      <th>1152</th>\n",
       "      <td>RGPD5</td>\n",
       "      <td>1</td>\n",
       "    </tr>\n",
       "    <tr>\n",
       "      <th>1029</th>\n",
       "      <td>PLK1</td>\n",
       "      <td>1</td>\n",
       "    </tr>\n",
       "    <tr>\n",
       "      <th>696</th>\n",
       "      <td>KMT5A</td>\n",
       "      <td>1</td>\n",
       "    </tr>\n",
       "    <tr>\n",
       "      <th>379</th>\n",
       "      <td>EIF4A3</td>\n",
       "      <td>1</td>\n",
       "    </tr>\n",
       "    <tr>\n",
       "      <th>1092</th>\n",
       "      <td>PSMB6</td>\n",
       "      <td>1</td>\n",
       "    </tr>\n",
       "  </tbody>\n",
       "</table>\n",
       "<p>1597 rows × 2 columns</p>\n",
       "</div>"
      ],
      "text/plain": [
       "     gene_symbol  cnt\n",
       "1369      TCF7L2  118\n",
       "296       CTNNB1   78\n",
       "846          MYC   65\n",
       "874        NELFB   47\n",
       "1504        UBTF   43\n",
       "...          ...  ...\n",
       "1152       RGPD5    1\n",
       "1029        PLK1    1\n",
       "696        KMT5A    1\n",
       "379       EIF4A3    1\n",
       "1092       PSMB6    1\n",
       "\n",
       "[1597 rows x 2 columns]"
      ]
     },
     "execution_count": 53,
     "metadata": {},
     "output_type": "execute_result"
    }
   ],
   "source": [
    "df_uns[(df_uns['phenotype']=='Yes')&(df_uns['SCN_class']=='DOXclus_DLD1')].groupby(\n",
    "    ['gene_symbol'])['DemuxAssignment_crispr'].count().reset_index(name='cnt').sort_values(by='cnt', ascending=False)"
   ]
  },
  {
   "cell_type": "code",
   "execution_count": 54,
   "id": "e3c37d1c-f067-48f7-a2a2-a8875b71bdbf",
   "metadata": {
    "execution": {
     "iopub.execute_input": "2024-08-12T18:06:09.385994Z",
     "iopub.status.busy": "2024-08-12T18:06:09.385721Z",
     "iopub.status.idle": "2024-08-12T18:06:09.584318Z",
     "shell.execute_reply": "2024-08-12T18:06:09.583363Z"
    },
    "papermill": {
     "duration": 0.21107,
     "end_time": "2024-08-12T18:06:09.585601",
     "exception": false,
     "start_time": "2024-08-12T18:06:09.374531",
     "status": "completed"
    },
    "tags": []
   },
   "outputs": [
    {
     "data": {
      "text/html": [
       "<div>\n",
       "<style scoped>\n",
       "    .dataframe tbody tr th:only-of-type {\n",
       "        vertical-align: middle;\n",
       "    }\n",
       "\n",
       "    .dataframe tbody tr th {\n",
       "        vertical-align: top;\n",
       "    }\n",
       "\n",
       "    .dataframe thead th {\n",
       "        text-align: right;\n",
       "    }\n",
       "</style>\n",
       "<table border=\"1\" class=\"dataframe\">\n",
       "  <thead>\n",
       "    <tr style=\"text-align: right;\">\n",
       "      <th></th>\n",
       "      <th>gene_symbol</th>\n",
       "      <th>cnt</th>\n",
       "    </tr>\n",
       "  </thead>\n",
       "  <tbody>\n",
       "    <tr>\n",
       "      <th>1373</th>\n",
       "      <td>TCF7L2</td>\n",
       "      <td>362</td>\n",
       "    </tr>\n",
       "    <tr>\n",
       "      <th>52</th>\n",
       "      <td>AOC3</td>\n",
       "      <td>188</td>\n",
       "    </tr>\n",
       "    <tr>\n",
       "      <th>296</th>\n",
       "      <td>CTNNA1</td>\n",
       "      <td>178</td>\n",
       "    </tr>\n",
       "    <tr>\n",
       "      <th>242</th>\n",
       "      <td>CHST10</td>\n",
       "      <td>169</td>\n",
       "    </tr>\n",
       "    <tr>\n",
       "      <th>556</th>\n",
       "      <td>GPR107</td>\n",
       "      <td>168</td>\n",
       "    </tr>\n",
       "    <tr>\n",
       "      <th>...</th>\n",
       "      <td>...</td>\n",
       "      <td>...</td>\n",
       "    </tr>\n",
       "    <tr>\n",
       "      <th>1091</th>\n",
       "      <td>PSMA6</td>\n",
       "      <td>7</td>\n",
       "    </tr>\n",
       "    <tr>\n",
       "      <th>1030</th>\n",
       "      <td>PLK1</td>\n",
       "      <td>6</td>\n",
       "    </tr>\n",
       "    <tr>\n",
       "      <th>1154</th>\n",
       "      <td>RGPD5</td>\n",
       "      <td>4</td>\n",
       "    </tr>\n",
       "    <tr>\n",
       "      <th>374</th>\n",
       "      <td>EIF3CL</td>\n",
       "      <td>3</td>\n",
       "    </tr>\n",
       "    <tr>\n",
       "      <th>356</th>\n",
       "      <td>DUX4</td>\n",
       "      <td>2</td>\n",
       "    </tr>\n",
       "  </tbody>\n",
       "</table>\n",
       "<p>1601 rows × 2 columns</p>\n",
       "</div>"
      ],
      "text/plain": [
       "     gene_symbol  cnt\n",
       "1373      TCF7L2  362\n",
       "52          AOC3  188\n",
       "296       CTNNA1  178\n",
       "242       CHST10  169\n",
       "556       GPR107  168\n",
       "...          ...  ...\n",
       "1091       PSMA6    7\n",
       "1030        PLK1    6\n",
       "1154       RGPD5    4\n",
       "374       EIF3CL    3\n",
       "356         DUX4    2\n",
       "\n",
       "[1601 rows x 2 columns]"
      ]
     },
     "execution_count": 54,
     "metadata": {},
     "output_type": "execute_result"
    }
   ],
   "source": [
    "df_uns[(df_uns['phenotype']=='Yes')&(df_uns['SCN_class']=='Untreatedclus_DLD1')].groupby(\n",
    "    ['gene_symbol'])['DemuxAssignment_crispr'].count().reset_index(name='cnt').sort_values(by='cnt', ascending=False)"
   ]
  },
  {
   "cell_type": "code",
   "execution_count": 55,
   "id": "a365181e-bf76-4c91-9bc1-44fc8510f75e",
   "metadata": {
    "execution": {
     "iopub.execute_input": "2024-08-12T18:06:09.609086Z",
     "iopub.status.busy": "2024-08-12T18:06:09.608809Z",
     "iopub.status.idle": "2024-08-12T18:06:09.865918Z",
     "shell.execute_reply": "2024-08-12T18:06:09.865041Z"
    },
    "papermill": {
     "duration": 0.270318,
     "end_time": "2024-08-12T18:06:09.867360",
     "exception": false,
     "start_time": "2024-08-12T18:06:09.597042",
     "status": "completed"
    },
    "tags": []
   },
   "outputs": [
    {
     "data": {
      "text/html": [
       "<div>\n",
       "<style scoped>\n",
       "    .dataframe tbody tr th:only-of-type {\n",
       "        vertical-align: middle;\n",
       "    }\n",
       "\n",
       "    .dataframe tbody tr th {\n",
       "        vertical-align: top;\n",
       "    }\n",
       "\n",
       "    .dataframe thead th {\n",
       "        text-align: right;\n",
       "    }\n",
       "</style>\n",
       "<table border=\"1\" class=\"dataframe\">\n",
       "  <thead>\n",
       "    <tr style=\"text-align: right;\">\n",
       "      <th></th>\n",
       "      <th>gene_symbol</th>\n",
       "      <th>cnt</th>\n",
       "    </tr>\n",
       "  </thead>\n",
       "  <tbody>\n",
       "    <tr>\n",
       "      <th>1373</th>\n",
       "      <td>TCF7L2</td>\n",
       "      <td>484</td>\n",
       "    </tr>\n",
       "    <tr>\n",
       "      <th>52</th>\n",
       "      <td>AOC3</td>\n",
       "      <td>217</td>\n",
       "    </tr>\n",
       "    <tr>\n",
       "      <th>296</th>\n",
       "      <td>CTNNA1</td>\n",
       "      <td>199</td>\n",
       "    </tr>\n",
       "    <tr>\n",
       "      <th>242</th>\n",
       "      <td>CHST10</td>\n",
       "      <td>189</td>\n",
       "    </tr>\n",
       "    <tr>\n",
       "      <th>556</th>\n",
       "      <td>GPR107</td>\n",
       "      <td>183</td>\n",
       "    </tr>\n",
       "    <tr>\n",
       "      <th>292</th>\n",
       "      <td>CSPP1</td>\n",
       "      <td>178</td>\n",
       "    </tr>\n",
       "    <tr>\n",
       "      <th>644</th>\n",
       "      <td>IL15</td>\n",
       "      <td>177</td>\n",
       "    </tr>\n",
       "    <tr>\n",
       "      <th>623</th>\n",
       "      <td>IFNGR2</td>\n",
       "      <td>176</td>\n",
       "    </tr>\n",
       "    <tr>\n",
       "      <th>366</th>\n",
       "      <td>EFCAB13</td>\n",
       "      <td>174</td>\n",
       "    </tr>\n",
       "    <tr>\n",
       "      <th>1206</th>\n",
       "      <td>RUNX2</td>\n",
       "      <td>173</td>\n",
       "    </tr>\n",
       "    <tr>\n",
       "      <th>1598</th>\n",
       "      <td>ZNF91</td>\n",
       "      <td>173</td>\n",
       "    </tr>\n",
       "    <tr>\n",
       "      <th>711</th>\n",
       "      <td>KRTAP20-3</td>\n",
       "      <td>173</td>\n",
       "    </tr>\n",
       "    <tr>\n",
       "      <th>1253</th>\n",
       "      <td>SLC29A4</td>\n",
       "      <td>172</td>\n",
       "    </tr>\n",
       "    <tr>\n",
       "      <th>602</th>\n",
       "      <td>HP1BP3</td>\n",
       "      <td>172</td>\n",
       "    </tr>\n",
       "    <tr>\n",
       "      <th>571</th>\n",
       "      <td>GTF2H5</td>\n",
       "      <td>172</td>\n",
       "    </tr>\n",
       "    <tr>\n",
       "      <th>694</th>\n",
       "      <td>KLHL4</td>\n",
       "      <td>171</td>\n",
       "    </tr>\n",
       "    <tr>\n",
       "      <th>1039</th>\n",
       "      <td>POLK</td>\n",
       "      <td>170</td>\n",
       "    </tr>\n",
       "    <tr>\n",
       "      <th>193</th>\n",
       "      <td>CDH20</td>\n",
       "      <td>170</td>\n",
       "    </tr>\n",
       "    <tr>\n",
       "      <th>450</th>\n",
       "      <td>F11R</td>\n",
       "      <td>170</td>\n",
       "    </tr>\n",
       "    <tr>\n",
       "      <th>811</th>\n",
       "      <td>MMP13</td>\n",
       "      <td>170</td>\n",
       "    </tr>\n",
       "    <tr>\n",
       "      <th>145</th>\n",
       "      <td>CALCR</td>\n",
       "      <td>169</td>\n",
       "    </tr>\n",
       "    <tr>\n",
       "      <th>1385</th>\n",
       "      <td>TEX12</td>\n",
       "      <td>169</td>\n",
       "    </tr>\n",
       "    <tr>\n",
       "      <th>1494</th>\n",
       "      <td>TXNL4B</td>\n",
       "      <td>169</td>\n",
       "    </tr>\n",
       "    <tr>\n",
       "      <th>955</th>\n",
       "      <td>OR51E1</td>\n",
       "      <td>167</td>\n",
       "    </tr>\n",
       "    <tr>\n",
       "      <th>438</th>\n",
       "      <td>ERGIC2</td>\n",
       "      <td>167</td>\n",
       "    </tr>\n",
       "    <tr>\n",
       "      <th>776</th>\n",
       "      <td>MCMDC2</td>\n",
       "      <td>167</td>\n",
       "    </tr>\n",
       "    <tr>\n",
       "      <th>533</th>\n",
       "      <td>GIGYF2</td>\n",
       "      <td>167</td>\n",
       "    </tr>\n",
       "    <tr>\n",
       "      <th>34</th>\n",
       "      <td>ALG13</td>\n",
       "      <td>167</td>\n",
       "    </tr>\n",
       "    <tr>\n",
       "      <th>1600</th>\n",
       "      <td>ZUP1</td>\n",
       "      <td>166</td>\n",
       "    </tr>\n",
       "    <tr>\n",
       "      <th>350</th>\n",
       "      <td>DRC3</td>\n",
       "      <td>165</td>\n",
       "    </tr>\n",
       "  </tbody>\n",
       "</table>\n",
       "</div>"
      ],
      "text/plain": [
       "     gene_symbol  cnt\n",
       "1373      TCF7L2  484\n",
       "52          AOC3  217\n",
       "296       CTNNA1  199\n",
       "242       CHST10  189\n",
       "556       GPR107  183\n",
       "292        CSPP1  178\n",
       "644         IL15  177\n",
       "623       IFNGR2  176\n",
       "366      EFCAB13  174\n",
       "1206       RUNX2  173\n",
       "1598       ZNF91  173\n",
       "711    KRTAP20-3  173\n",
       "1253     SLC29A4  172\n",
       "602       HP1BP3  172\n",
       "571       GTF2H5  172\n",
       "694        KLHL4  171\n",
       "1039        POLK  170\n",
       "193        CDH20  170\n",
       "450         F11R  170\n",
       "811        MMP13  170\n",
       "145        CALCR  169\n",
       "1385       TEX12  169\n",
       "1494      TXNL4B  169\n",
       "955       OR51E1  167\n",
       "438       ERGIC2  167\n",
       "776       MCMDC2  167\n",
       "533       GIGYF2  167\n",
       "34         ALG13  167\n",
       "1600        ZUP1  166\n",
       "350         DRC3  165"
      ]
     },
     "execution_count": 55,
     "metadata": {},
     "output_type": "execute_result"
    }
   ],
   "source": [
    "df_uns[(df_uns['phenotype']=='Yes')].groupby(\n",
    "    ['gene_symbol'])['DemuxAssignment_crispr'].count().reset_index(name='cnt').sort_values(by='cnt', ascending=False)[:30]"
   ]
  },
  {
   "cell_type": "markdown",
   "id": "a2cd6558-ef8d-4396-ad9d-847834d10d6b",
   "metadata": {
    "papermill": {
     "duration": 0.010686,
     "end_time": "2024-08-12T18:06:09.889653",
     "exception": false,
     "start_time": "2024-08-12T18:06:09.878967",
     "status": "completed"
    },
    "tags": []
   },
   "source": [
    "## Data Visulaization"
   ]
  },
  {
   "cell_type": "code",
   "execution_count": 56,
   "id": "8b14c8f2-f789-474b-b7d1-d152098846ab",
   "metadata": {
    "execution": {
     "iopub.execute_input": "2024-08-12T18:06:09.911820Z",
     "iopub.status.busy": "2024-08-12T18:06:09.911529Z",
     "iopub.status.idle": "2024-08-12T18:06:10.914322Z",
     "shell.execute_reply": "2024-08-12T18:06:10.913513Z"
    },
    "papermill": {
     "duration": 1.017149,
     "end_time": "2024-08-12T18:06:10.917276",
     "exception": false,
     "start_time": "2024-08-12T18:06:09.900127",
     "status": "completed"
    },
    "tags": []
   },
   "outputs": [
    {
     "data": {
      "text/plain": [
       "<AxesSubplot: xlabel='energy_distance_pvalue', ylabel='Count'>"
      ]
     },
     "execution_count": 56,
     "metadata": {},
     "output_type": "execute_result"
    },
    {
     "data": {
      "image/png": "[encoded data removed]",
      "text/plain": [
       "<Figure size 640x480 with 1 Axes>"
      ]
     },
     "metadata": {},
     "output_type": "display_data"
    }
   ],
   "source": [
    "sns.histplot(-np.log10(df_uns['energy_distance_pvalue']))"
   ]
  }
 ],
 "metadata": {
  "kernelspec": {
   "display_name": "gpuy310",
   "language": "python",
   "name": "gpuy310"
  },
  "language_info": {
   "codemirror_mode": {
    "name": "ipython",
    "version": 3
   },
   "file_extension": ".py",
   "mimetype": "text/x-python",
   "name": "python",
   "nbconvert_exporter": "python",
   "pygments_lexer": "ipython3",
   "version": "3.10.8"
  },
  "papermill": {
   "default_parameters": {},
   "duration": 2481.98911,
   "end_time": "2024-08-12T18:06:21.349786",
   "environment_variables": {},
   "exception": null,
   "input_path": "./Templates/EnergyDistance.ipynb",
   "output_path": "/gstore/home/ghaffars/Cumulus/crc_dld1_sublib1_bdev/crop-seq-pipeline/Reports/DS000017114_EnergyDistance_500NTCs_scVI_centered.ipynb",
   "parameters": {
    "DEV": false,
    "DS_test": false,
    "DatasetID": "DS000017114",
    "ED_file": "/gstore/project/crc_recursion_gw/DLD1_Sublib1_bdev//DS000017114/Energy_Distance/e_dist_all.h5ad",
    "author": "SG",
    "description": "Production scale screen in DLD-1 cells with 1/4 of the genome-wide CRISPR library (sub-lib-1, ~22K guides). 1 time point: Day-5. We performed 24 rxns of 10x 3' HT kit with an estimated loading of 52K cells. We performed a pilot study to test the library quality before the production-level sequencing. We will submit 72 libraries (24 GEX, 24 HTO and 24 sgRNA) We estimate need 600M for GEX, 30M for HTO and 50M for sgRNA. This is a repeat run to correct chip loading.",
    "embeddings_key": "X_scVI_centered",
    "i": 10,
    "key_uns": "perGene_scVI_centered_10",
    "n": 500,
    "name_space": [
     {
      "id": "GRCh38",
      "type": "genome"
     }
    ],
    "organism": "human",
    "out_csv": "/gstore/project/crc_recursion_gw/DLD1_Sublib1_bdev//DS000017114/Energy_Distance/e_dist_500NTCs_scVI_centered_10.csv",
    "pVAL": 0.05,
    "sources": [
     {
      "id": "Siavash-1234",
      "name": "Geo-ID"
     }
    ],
    "tech_name": "scRNA-seq",
    "test_DatasetID": "",
    "title": "Recursion DLD1 Library1 Screen Day 5- combination of NGS 5774 and NGS 5702"
   },
   "start_time": "2024-08-12T17:24:59.360676",
   "version": "2.6.0"
  },
  "widgets": {
   "application/vnd.jupyter.widget-state+json": {
    "state": {},
    "version_major": 2,
    "version_minor": 0
   }
  }
 },
 "nbformat": 4,
 "nbformat_minor": 5
}