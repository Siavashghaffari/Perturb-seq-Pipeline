{
 "cells": [
  {
   "cell_type": "code",
   "execution_count": 1,
   "id": "6845869c",
   "metadata": {
    "execution": {
     "iopub.execute_input": "2024-08-14T18:45:26.303787Z",
     "iopub.status.busy": "2024-08-14T18:45:26.303277Z",
     "iopub.status.idle": "2024-08-14T18:45:26.320631Z",
     "shell.execute_reply": "2024-08-14T18:45:26.319284Z"
    },
    "papermill": {
     "duration": 0.033252,
     "end_time": "2024-08-14T18:45:26.324085",
     "exception": false,
     "start_time": "2024-08-14T18:45:26.290833",
     "status": "completed"
    },
    "tags": [
     "injected-parameters"
    ]
   },
   "outputs": [],
   "source": [
    "# Parameters\n",
    "DatasetID = \"DS000017114\"\n",
    "DEV = False\n",
    "test_DatasetID = \"\"\n",
    "DS_test = False\n",
    "title = \"Recursion DLD1 Library1 Screen Day 5- combination of NGS 5774 and NGS 5702\"\n",
    "description = \"Production scale screen in DLD-1 cells with 1/4 of the genome-wide CRISPR library (sub-lib-1, ~22K guides). 1 time point: Day-5. We performed 24 rxns of 10x 3' HT kit with an estimated loading of 52K cells. We performed a pilot study to test the library quality before the production-level sequencing. We will submit 72 libraries (24 GEX, 24 HTO and 24 sgRNA) We estimate need 600M for GEX, 30M for HTO and 50M for sgRNA. This is a repeat run to correct chip loading.\"\n",
    "name_space = [{\"id\": \"GRCh38\", \"type\": \"genome\"}]\n",
    "sources = [{\"id\": \"Siavash-1234\", \"name\": \"Geo-ID\"}]\n",
    "tech_name = \"scRNA-seq\"\n",
    "author = \"SG\"\n",
    "organism = \"human\"\n",
    "embeddings_key = \"X_pca_sphered\"\n",
    "transcriptoprint = True\n",
    "MV_file = \"/gstore/project/crc_recursion_gw/DLD1_Sublib1_bdev//DS000017114/Energy_Distance/e_dist_all.h5ad\"\n",
    "path = \"/gstore/project/crc_recursion_gw/DLD1_Sublib1_bdev//DS000017114/Energy_Distance\"\n"
   ]
  },
  {
   "cell_type": "code",
   "execution_count": 2,
   "id": "8cbb3b17",
   "metadata": {
    "execution": {
     "iopub.execute_input": "2024-08-14T18:45:26.346656Z",
     "iopub.status.busy": "2024-08-14T18:45:26.346192Z",
     "iopub.status.idle": "2024-08-14T18:45:44.409453Z",
     "shell.execute_reply": "2024-08-14T18:45:44.407912Z"
    },
    "papermill": {
     "duration": 18.078274,
     "end_time": "2024-08-14T18:45:44.413077",
     "exception": false,
     "start_time": "2024-08-14T18:45:26.334803",
     "status": "completed"
    },
    "tags": []
   },
   "outputs": [
    {
     "name": "stderr",
     "output_type": "stream",
     "text": [
      "/apps/user/gpy/envs/dev/GPUy310pascal/lib/python3.10/site-packages/scvi/_settings.py:63: UserWarning: Since v1.0.0, scvi-tools no longer uses a random seed by default. Run `scvi.settings.seed = 0` to reproduce results from previous versions.\n",
      "  self.seed = seed\n",
      "/apps/user/gpy/envs/dev/GPUy310pascal/lib/python3.10/site-packages/scvi/_settings.py:70: UserWarning: Setting `dl_pin_memory_gpu_training` is deprecated in v1.0 and will be removed in v1.1. Please pass in `pin_memory` to the data loaders instead.\n",
      "  self.dl_pin_memory_gpu_training = (\n"
     ]
    }
   ],
   "source": [
    "import sys\n",
    "sys.path.append(\"..\")\n",
    "import Templates.tools.multivariate as mv\n",
    "import seaborn as sns\n",
    "import scanpy as sc\n",
    "import numpy as np\n",
    "import pandas as pd\n",
    "import matplotlib.pyplot as plt"
   ]
  },
  {
   "cell_type": "code",
   "execution_count": 3,
   "id": "88b47f52",
   "metadata": {
    "execution": {
     "iopub.execute_input": "2024-08-14T18:45:44.439780Z",
     "iopub.status.busy": "2024-08-14T18:45:44.438348Z",
     "iopub.status.idle": "2024-08-14T18:47:34.282220Z",
     "shell.execute_reply": "2024-08-14T18:47:34.280185Z"
    },
    "papermill": {
     "duration": 109.860808,
     "end_time": "2024-08-14T18:47:34.286059",
     "exception": false,
     "start_time": "2024-08-14T18:45:44.425251",
     "status": "completed"
    },
    "tags": []
   },
   "outputs": [],
   "source": [
    "adata = sc.read_h5ad(MV_file)"
   ]
  },
  {
   "cell_type": "code",
   "execution_count": 4,
   "id": "7dc3cbb8-549f-411a-837e-d6c162398d42",
   "metadata": {
    "execution": {
     "iopub.execute_input": "2024-08-14T18:47:34.315620Z",
     "iopub.status.busy": "2024-08-14T18:47:34.315095Z",
     "iopub.status.idle": "2024-08-14T18:47:34.331975Z",
     "shell.execute_reply": "2024-08-14T18:47:34.330585Z"
    },
    "papermill": {
     "duration": 0.032705,
     "end_time": "2024-08-14T18:47:34.335274",
     "exception": false,
     "start_time": "2024-08-14T18:47:34.302569",
     "status": "completed"
    },
    "tags": []
   },
   "outputs": [
    {
     "data": {
      "text/plain": [
       "AnnData object with n_obs × n_vars = 595603 × 36603\n",
       "    obs: 'Sample', 'Barcode', 'DemuxType_crispr', 'DemuxAssignment_crispr', 'DemuxType_hashing', 'DemuxAssignment_hashing', 'cellline', 'timepoint', 'HTO', 'NGS_ID', 'Biological_replicate', '10Xrun', 'sublibrary', 'gRNA_library_MOI', 'gene_symbol', 'class', 'n_genes_by_counts', 'total_counts', 'total_counts_mt', 'pct_counts_mt', 'total_counts_ribo', 'pct_counts_ribo', 'qc_pass', 'S_score', 'G2M_score', 'phase', 'SCN_class', 'gem'\n",
       "    var: 'Symbol'\n",
       "    uns: 'DemuxAssignment_hashing_colors', 'Sample_colors', '_scvi_manager_uuid', '_scvi_uuid', 'energy_distance', 'leiden_colors', 'multivariate_report', 'neighbors', 'perturbation_embeddings', 'perturbations', 'umap'\n",
       "    obsm: 'X_pca', 'X_pca_centered', 'X_pca_sphered', 'X_pca_sphered_Norm', 'X_scVI', 'X_scVI_centered', 'X_umap'\n",
       "    layers: 'counts'\n",
       "    obsp: 'connectivities', 'distances'"
      ]
     },
     "execution_count": 4,
     "metadata": {},
     "output_type": "execute_result"
    }
   ],
   "source": [
    "adata"
   ]
  },
  {
   "cell_type": "code",
   "execution_count": 5,
   "id": "c8c2c10b-4867-4241-954c-b657534be256",
   "metadata": {
    "execution": {
     "iopub.execute_input": "2024-08-14T18:47:34.372261Z",
     "iopub.status.busy": "2024-08-14T18:47:34.371636Z",
     "iopub.status.idle": "2024-08-14T18:47:34.378369Z",
     "shell.execute_reply": "2024-08-14T18:47:34.376838Z"
    },
    "papermill": {
     "duration": 0.022,
     "end_time": "2024-08-14T18:47:34.381549",
     "exception": false,
     "start_time": "2024-08-14T18:47:34.359549",
     "status": "completed"
    },
    "tags": []
   },
   "outputs": [],
   "source": [
    "key_uns = embeddings_key.split(\"_\",1)[-1]"
   ]
  },
  {
   "cell_type": "code",
   "execution_count": 6,
   "id": "834d0e41-6cfd-4f65-81ad-d2fb601489d0",
   "metadata": {
    "execution": {
     "iopub.execute_input": "2024-08-14T18:47:34.405447Z",
     "iopub.status.busy": "2024-08-14T18:47:34.404665Z",
     "iopub.status.idle": "2024-08-14T18:47:34.411584Z",
     "shell.execute_reply": "2024-08-14T18:47:34.410211Z"
    },
    "papermill": {
     "duration": 0.02252,
     "end_time": "2024-08-14T18:47:34.414896",
     "exception": false,
     "start_time": "2024-08-14T18:47:34.392376",
     "status": "completed"
    },
    "tags": []
   },
   "outputs": [],
   "source": [
    "if key_uns in [\"pca_sphered\",\"pca_sphered_Norm\"]:\n",
    "    centering = False\n",
    "else:\n",
    "    centering = True"
   ]
  },
  {
   "cell_type": "code",
   "execution_count": 7,
   "id": "e84f2879-a24f-41f9-8d46-f8921237bdec",
   "metadata": {
    "execution": {
     "iopub.execute_input": "2024-08-14T18:47:34.969239Z",
     "iopub.status.busy": "2024-08-14T18:47:34.968014Z",
     "iopub.status.idle": "2024-08-14T18:48:06.174607Z",
     "shell.execute_reply": "2024-08-14T18:48:06.173083Z"
    },
    "papermill": {
     "duration": 31.219592,
     "end_time": "2024-08-14T18:48:06.178403",
     "exception": false,
     "start_time": "2024-08-14T18:47:34.958811",
     "status": "completed"
    },
    "tags": []
   },
   "outputs": [],
   "source": [
    "if transcriptoprint:\n",
    "    A = list(mv.common_genes(key_uns, path))\n",
    "    A.append(\"NTC\")\n",
    "    bdata = adata[adata.obs[\"gene_symbol\"].isin(A)].copy()\n",
    "else:\n",
    "    bdata = adata.copy()"
   ]
  },
  {
   "cell_type": "code",
   "execution_count": 8,
   "id": "b28dc757",
   "metadata": {
    "execution": {
     "iopub.execute_input": "2024-08-14T18:48:06.205843Z",
     "iopub.status.busy": "2024-08-14T18:48:06.204492Z",
     "iopub.status.idle": "2024-08-14T18:48:06.214074Z",
     "shell.execute_reply": "2024-08-14T18:48:06.212513Z"
    },
    "papermill": {
     "duration": 0.025918,
     "end_time": "2024-08-14T18:48:06.217528",
     "exception": false,
     "start_time": "2024-08-14T18:48:06.191610",
     "status": "completed"
    },
    "tags": []
   },
   "outputs": [
    {
     "data": {
      "text/plain": [
       "AnnData object with n_obs × n_vars = 177698 × 36603\n",
       "    obs: 'Sample', 'Barcode', 'DemuxType_crispr', 'DemuxAssignment_crispr', 'DemuxType_hashing', 'DemuxAssignment_hashing', 'cellline', 'timepoint', 'HTO', 'NGS_ID', 'Biological_replicate', '10Xrun', 'sublibrary', 'gRNA_library_MOI', 'gene_symbol', 'class', 'n_genes_by_counts', 'total_counts', 'total_counts_mt', 'pct_counts_mt', 'total_counts_ribo', 'pct_counts_ribo', 'qc_pass', 'S_score', 'G2M_score', 'phase', 'SCN_class', 'gem'\n",
       "    var: 'Symbol'\n",
       "    uns: 'DemuxAssignment_hashing_colors', 'Sample_colors', '_scvi_manager_uuid', '_scvi_uuid', 'energy_distance', 'leiden_colors', 'multivariate_report', 'neighbors', 'perturbation_embeddings', 'perturbations', 'umap'\n",
       "    obsm: 'X_pca', 'X_pca_centered', 'X_pca_sphered', 'X_pca_sphered_Norm', 'X_scVI', 'X_scVI_centered', 'X_umap'\n",
       "    layers: 'counts'\n",
       "    obsp: 'connectivities', 'distances'"
      ]
     },
     "execution_count": 8,
     "metadata": {},
     "output_type": "execute_result"
    }
   ],
   "source": [
    "bdata"
   ]
  },
  {
   "cell_type": "code",
   "execution_count": 9,
   "id": "3bad59a0-ba07-49c8-928e-8764a8674c43",
   "metadata": {
    "execution": {
     "iopub.execute_input": "2024-08-14T18:48:06.242624Z",
     "iopub.status.busy": "2024-08-14T18:48:06.242144Z",
     "iopub.status.idle": "2024-08-14T18:48:06.626976Z",
     "shell.execute_reply": "2024-08-14T18:48:06.625596Z"
    },
    "papermill": {
     "duration": 0.400996,
     "end_time": "2024-08-14T18:48:06.630211",
     "exception": false,
     "start_time": "2024-08-14T18:48:06.229215",
     "status": "completed"
    },
    "tags": []
   },
   "outputs": [
    {
     "data": {
      "text/html": [
       "<div>\n",
       "<style scoped>\n",
       "    .dataframe tbody tr th:only-of-type {\n",
       "        vertical-align: middle;\n",
       "    }\n",
       "\n",
       "    .dataframe tbody tr th {\n",
       "        vertical-align: top;\n",
       "    }\n",
       "\n",
       "    .dataframe thead th {\n",
       "        text-align: right;\n",
       "    }\n",
       "</style>\n",
       "<table border=\"1\" class=\"dataframe\">\n",
       "  <thead>\n",
       "    <tr style=\"text-align: right;\">\n",
       "      <th></th>\n",
       "      <th>Sample</th>\n",
       "      <th>Barcode</th>\n",
       "      <th>DemuxType_crispr</th>\n",
       "      <th>DemuxAssignment_crispr</th>\n",
       "      <th>DemuxType_hashing</th>\n",
       "      <th>DemuxAssignment_hashing</th>\n",
       "      <th>cellline</th>\n",
       "      <th>timepoint</th>\n",
       "      <th>HTO</th>\n",
       "      <th>NGS_ID</th>\n",
       "      <th>...</th>\n",
       "      <th>total_counts_mt</th>\n",
       "      <th>pct_counts_mt</th>\n",
       "      <th>total_counts_ribo</th>\n",
       "      <th>pct_counts_ribo</th>\n",
       "      <th>qc_pass</th>\n",
       "      <th>S_score</th>\n",
       "      <th>G2M_score</th>\n",
       "      <th>phase</th>\n",
       "      <th>SCN_class</th>\n",
       "      <th>gem</th>\n",
       "    </tr>\n",
       "  </thead>\n",
       "  <tbody>\n",
       "    <tr>\n",
       "      <th>SAM24451293_rep1-AAACCCAAGACAGTCG</th>\n",
       "      <td>SAM24451293</td>\n",
       "      <td>AAACCCAAGACAGTCG</td>\n",
       "      <td>singlet</td>\n",
       "      <td>ENSG00000171017_3</td>\n",
       "      <td>singlet</td>\n",
       "      <td>SAM24439045</td>\n",
       "      <td>DLD1</td>\n",
       "      <td>day5</td>\n",
       "      <td>HTO-18</td>\n",
       "      <td>NGS5774</td>\n",
       "      <td>...</td>\n",
       "      <td>618</td>\n",
       "      <td>6.336512</td>\n",
       "      <td>2152</td>\n",
       "      <td>22.065006</td>\n",
       "      <td>True</td>\n",
       "      <td>-0.493023</td>\n",
       "      <td>0.231481</td>\n",
       "      <td>G2M</td>\n",
       "      <td>Untreatedclus_DLD1</td>\n",
       "      <td>NGS5774-1</td>\n",
       "    </tr>\n",
       "    <tr>\n",
       "      <th>SAM24451293_rep1-AAACCCATCTGTCGTC</th>\n",
       "      <td>SAM24451293</td>\n",
       "      <td>AAACCCATCTGTCGTC</td>\n",
       "      <td>singlet</td>\n",
       "      <td>ENSG00000087111_4</td>\n",
       "      <td>singlet</td>\n",
       "      <td>SAM24439045</td>\n",
       "      <td>DLD1</td>\n",
       "      <td>day5</td>\n",
       "      <td>HTO-18</td>\n",
       "      <td>NGS5774</td>\n",
       "      <td>...</td>\n",
       "      <td>196</td>\n",
       "      <td>1.763859</td>\n",
       "      <td>2183</td>\n",
       "      <td>19.645428</td>\n",
       "      <td>True</td>\n",
       "      <td>0.246512</td>\n",
       "      <td>-0.306254</td>\n",
       "      <td>S</td>\n",
       "      <td>Untreatedclus_DLD1</td>\n",
       "      <td>NGS5774-1</td>\n",
       "    </tr>\n",
       "    <tr>\n",
       "      <th>SAM24451293_rep1-AAACGAAAGACGTCGA</th>\n",
       "      <td>SAM24451293</td>\n",
       "      <td>AAACGAAAGACGTCGA</td>\n",
       "      <td>singlet</td>\n",
       "      <td>ENSG00000109787_4</td>\n",
       "      <td>singlet</td>\n",
       "      <td>SAM24439044</td>\n",
       "      <td>DLD1</td>\n",
       "      <td>day5</td>\n",
       "      <td>HTO-15</td>\n",
       "      <td>NGS5774</td>\n",
       "      <td>...</td>\n",
       "      <td>486</td>\n",
       "      <td>2.926301</td>\n",
       "      <td>3141</td>\n",
       "      <td>18.912572</td>\n",
       "      <td>True</td>\n",
       "      <td>-0.641860</td>\n",
       "      <td>0.433263</td>\n",
       "      <td>G2M</td>\n",
       "      <td>Untreatedclus_DLD1</td>\n",
       "      <td>NGS5774-1</td>\n",
       "    </tr>\n",
       "    <tr>\n",
       "      <th>SAM24451293_rep1-AAACGAAAGTAGCATA</th>\n",
       "      <td>SAM24451293</td>\n",
       "      <td>AAACGAAAGTAGCATA</td>\n",
       "      <td>singlet</td>\n",
       "      <td>ENSG00000132849_3</td>\n",
       "      <td>singlet</td>\n",
       "      <td>SAM24439045</td>\n",
       "      <td>DLD1</td>\n",
       "      <td>day5</td>\n",
       "      <td>HTO-16</td>\n",
       "      <td>NGS5774</td>\n",
       "      <td>...</td>\n",
       "      <td>587</td>\n",
       "      <td>5.473193</td>\n",
       "      <td>2218</td>\n",
       "      <td>20.680653</td>\n",
       "      <td>True</td>\n",
       "      <td>-0.079070</td>\n",
       "      <td>0.077219</td>\n",
       "      <td>G2M</td>\n",
       "      <td>Untreatedclus_DLD1</td>\n",
       "      <td>NGS5774-1</td>\n",
       "    </tr>\n",
       "    <tr>\n",
       "      <th>SAM24451293_rep1-AAACGAACATCCAATG</th>\n",
       "      <td>SAM24451293</td>\n",
       "      <td>AAACGAACATCCAATG</td>\n",
       "      <td>singlet</td>\n",
       "      <td>ENSG00000161594_1</td>\n",
       "      <td>singlet</td>\n",
       "      <td>SAM24439043</td>\n",
       "      <td>DLD1</td>\n",
       "      <td>day5</td>\n",
       "      <td>HTO-2</td>\n",
       "      <td>NGS5774</td>\n",
       "      <td>...</td>\n",
       "      <td>531</td>\n",
       "      <td>3.670676</td>\n",
       "      <td>2377</td>\n",
       "      <td>16.431633</td>\n",
       "      <td>True</td>\n",
       "      <td>-0.051163</td>\n",
       "      <td>0.242662</td>\n",
       "      <td>G2M</td>\n",
       "      <td>Untreatedclus_DLD1</td>\n",
       "      <td>NGS5774-1</td>\n",
       "    </tr>\n",
       "    <tr>\n",
       "      <th>...</th>\n",
       "      <td>...</td>\n",
       "      <td>...</td>\n",
       "      <td>...</td>\n",
       "      <td>...</td>\n",
       "      <td>...</td>\n",
       "      <td>...</td>\n",
       "      <td>...</td>\n",
       "      <td>...</td>\n",
       "      <td>...</td>\n",
       "      <td>...</td>\n",
       "      <td>...</td>\n",
       "      <td>...</td>\n",
       "      <td>...</td>\n",
       "      <td>...</td>\n",
       "      <td>...</td>\n",
       "      <td>...</td>\n",
       "      <td>...</td>\n",
       "      <td>...</td>\n",
       "      <td>...</td>\n",
       "      <td>...</td>\n",
       "      <td>...</td>\n",
       "    </tr>\n",
       "    <tr>\n",
       "      <th>SAM24449110_rep24-TTTGTTGAGTAATCCC</th>\n",
       "      <td>SAM24449110</td>\n",
       "      <td>TTTGTTGAGTAATCCC</td>\n",
       "      <td>singlet</td>\n",
       "      <td>NTC_239</td>\n",
       "      <td>singlet</td>\n",
       "      <td>SAM24439043</td>\n",
       "      <td>DLD1</td>\n",
       "      <td>day5</td>\n",
       "      <td>HTO-2</td>\n",
       "      <td>NGS5702</td>\n",
       "      <td>...</td>\n",
       "      <td>263</td>\n",
       "      <td>3.049629</td>\n",
       "      <td>1614</td>\n",
       "      <td>18.715213</td>\n",
       "      <td>True</td>\n",
       "      <td>-0.497066</td>\n",
       "      <td>0.122642</td>\n",
       "      <td>G2M</td>\n",
       "      <td>Untreatedclus_DLD1</td>\n",
       "      <td>NGS5702-24</td>\n",
       "    </tr>\n",
       "    <tr>\n",
       "      <th>SAM24449110_rep24-TTTGTTGCAGCGATTT</th>\n",
       "      <td>SAM24449110</td>\n",
       "      <td>TTTGTTGCAGCGATTT</td>\n",
       "      <td>singlet</td>\n",
       "      <td>NTC_474</td>\n",
       "      <td>singlet</td>\n",
       "      <td>SAM24439043</td>\n",
       "      <td>DLD1</td>\n",
       "      <td>day5</td>\n",
       "      <td>HTO-12</td>\n",
       "      <td>NGS5702</td>\n",
       "      <td>...</td>\n",
       "      <td>133</td>\n",
       "      <td>2.817200</td>\n",
       "      <td>1209</td>\n",
       "      <td>25.608981</td>\n",
       "      <td>True</td>\n",
       "      <td>-0.350793</td>\n",
       "      <td>-0.313417</td>\n",
       "      <td>G1</td>\n",
       "      <td>Untreatedclus_DLD1</td>\n",
       "      <td>NGS5702-24</td>\n",
       "    </tr>\n",
       "    <tr>\n",
       "      <th>SAM24449110_rep24-TTTGTTGGTTCGTACA</th>\n",
       "      <td>SAM24449110</td>\n",
       "      <td>TTTGTTGGTTCGTACA</td>\n",
       "      <td>singlet</td>\n",
       "      <td>ENSG00000211805_3</td>\n",
       "      <td>singlet</td>\n",
       "      <td>SAM24439043</td>\n",
       "      <td>DLD1</td>\n",
       "      <td>day5</td>\n",
       "      <td>HTO-11</td>\n",
       "      <td>NGS5702</td>\n",
       "      <td>...</td>\n",
       "      <td>122</td>\n",
       "      <td>1.446526</td>\n",
       "      <td>1464</td>\n",
       "      <td>17.358312</td>\n",
       "      <td>True</td>\n",
       "      <td>-0.273527</td>\n",
       "      <td>0.614605</td>\n",
       "      <td>G2M</td>\n",
       "      <td>Untreatedclus_DLD1</td>\n",
       "      <td>NGS5702-24</td>\n",
       "    </tr>\n",
       "    <tr>\n",
       "      <th>SAM24449110_rep24-TTTGTTGTCGTCGCTT</th>\n",
       "      <td>SAM24449110</td>\n",
       "      <td>TTTGTTGTCGTCGCTT</td>\n",
       "      <td>singlet</td>\n",
       "      <td>ENSG00000010256_1</td>\n",
       "      <td>singlet</td>\n",
       "      <td>SAM24439045</td>\n",
       "      <td>DLD1</td>\n",
       "      <td>day5</td>\n",
       "      <td>HTO-18</td>\n",
       "      <td>NGS5702</td>\n",
       "      <td>...</td>\n",
       "      <td>267</td>\n",
       "      <td>4.862502</td>\n",
       "      <td>900</td>\n",
       "      <td>16.390457</td>\n",
       "      <td>True</td>\n",
       "      <td>-0.333080</td>\n",
       "      <td>-0.025332</td>\n",
       "      <td>G1</td>\n",
       "      <td>Untreatedclus_DLD1</td>\n",
       "      <td>NGS5702-24</td>\n",
       "    </tr>\n",
       "    <tr>\n",
       "      <th>SAM24449110_rep24-TTTGTTGTCTTAGGAC</th>\n",
       "      <td>SAM24449110</td>\n",
       "      <td>TTTGTTGTCTTAGGAC</td>\n",
       "      <td>singlet</td>\n",
       "      <td>ENSG00000286522_3</td>\n",
       "      <td>singlet</td>\n",
       "      <td>SAM24439044</td>\n",
       "      <td>DLD1</td>\n",
       "      <td>day5</td>\n",
       "      <td>HTO-14</td>\n",
       "      <td>NGS5702</td>\n",
       "      <td>...</td>\n",
       "      <td>476</td>\n",
       "      <td>4.554588</td>\n",
       "      <td>2053</td>\n",
       "      <td>19.644053</td>\n",
       "      <td>True</td>\n",
       "      <td>-0.759183</td>\n",
       "      <td>2.264500</td>\n",
       "      <td>G2M</td>\n",
       "      <td>Untreatedclus_DLD1</td>\n",
       "      <td>NGS5702-24</td>\n",
       "    </tr>\n",
       "  </tbody>\n",
       "</table>\n",
       "<p>177698 rows × 28 columns</p>\n",
       "</div>"
      ],
      "text/plain": [
       "                                         Sample           Barcode  \\\n",
       "SAM24451293_rep1-AAACCCAAGACAGTCG   SAM24451293  AAACCCAAGACAGTCG   \n",
       "SAM24451293_rep1-AAACCCATCTGTCGTC   SAM24451293  AAACCCATCTGTCGTC   \n",
       "SAM24451293_rep1-AAACGAAAGACGTCGA   SAM24451293  AAACGAAAGACGTCGA   \n",
       "SAM24451293_rep1-AAACGAAAGTAGCATA   SAM24451293  AAACGAAAGTAGCATA   \n",
       "SAM24451293_rep1-AAACGAACATCCAATG   SAM24451293  AAACGAACATCCAATG   \n",
       "...                                         ...               ...   \n",
       "SAM24449110_rep24-TTTGTTGAGTAATCCC  SAM24449110  TTTGTTGAGTAATCCC   \n",
       "SAM24449110_rep24-TTTGTTGCAGCGATTT  SAM24449110  TTTGTTGCAGCGATTT   \n",
       "SAM24449110_rep24-TTTGTTGGTTCGTACA  SAM24449110  TTTGTTGGTTCGTACA   \n",
       "SAM24449110_rep24-TTTGTTGTCGTCGCTT  SAM24449110  TTTGTTGTCGTCGCTT   \n",
       "SAM24449110_rep24-TTTGTTGTCTTAGGAC  SAM24449110  TTTGTTGTCTTAGGAC   \n",
       "\n",
       "                                   DemuxType_crispr DemuxAssignment_crispr  \\\n",
       "SAM24451293_rep1-AAACCCAAGACAGTCG           singlet      ENSG00000171017_3   \n",
       "SAM24451293_rep1-AAACCCATCTGTCGTC           singlet      ENSG00000087111_4   \n",
       "SAM24451293_rep1-AAACGAAAGACGTCGA           singlet      ENSG00000109787_4   \n",
       "SAM24451293_rep1-AAACGAAAGTAGCATA           singlet      ENSG00000132849_3   \n",
       "SAM24451293_rep1-AAACGAACATCCAATG           singlet      ENSG00000161594_1   \n",
       "...                                             ...                    ...   \n",
       "SAM24449110_rep24-TTTGTTGAGTAATCCC          singlet                NTC_239   \n",
       "SAM24449110_rep24-TTTGTTGCAGCGATTT          singlet                NTC_474   \n",
       "SAM24449110_rep24-TTTGTTGGTTCGTACA          singlet      ENSG00000211805_3   \n",
       "SAM24449110_rep24-TTTGTTGTCGTCGCTT          singlet      ENSG00000010256_1   \n",
       "SAM24449110_rep24-TTTGTTGTCTTAGGAC          singlet      ENSG00000286522_3   \n",
       "\n",
       "                                   DemuxType_hashing DemuxAssignment_hashing  \\\n",
       "SAM24451293_rep1-AAACCCAAGACAGTCG            singlet             SAM24439045   \n",
       "SAM24451293_rep1-AAACCCATCTGTCGTC            singlet             SAM24439045   \n",
       "SAM24451293_rep1-AAACGAAAGACGTCGA            singlet             SAM24439044   \n",
       "SAM24451293_rep1-AAACGAAAGTAGCATA            singlet             SAM24439045   \n",
       "SAM24451293_rep1-AAACGAACATCCAATG            singlet             SAM24439043   \n",
       "...                                              ...                     ...   \n",
       "SAM24449110_rep24-TTTGTTGAGTAATCCC           singlet             SAM24439043   \n",
       "SAM24449110_rep24-TTTGTTGCAGCGATTT           singlet             SAM24439043   \n",
       "SAM24449110_rep24-TTTGTTGGTTCGTACA           singlet             SAM24439043   \n",
       "SAM24449110_rep24-TTTGTTGTCGTCGCTT           singlet             SAM24439045   \n",
       "SAM24449110_rep24-TTTGTTGTCTTAGGAC           singlet             SAM24439044   \n",
       "\n",
       "                                   cellline timepoint     HTO   NGS_ID  ...  \\\n",
       "SAM24451293_rep1-AAACCCAAGACAGTCG      DLD1      day5  HTO-18  NGS5774  ...   \n",
       "SAM24451293_rep1-AAACCCATCTGTCGTC      DLD1      day5  HTO-18  NGS5774  ...   \n",
       "SAM24451293_rep1-AAACGAAAGACGTCGA      DLD1      day5  HTO-15  NGS5774  ...   \n",
       "SAM24451293_rep1-AAACGAAAGTAGCATA      DLD1      day5  HTO-16  NGS5774  ...   \n",
       "SAM24451293_rep1-AAACGAACATCCAATG      DLD1      day5   HTO-2  NGS5774  ...   \n",
       "...                                     ...       ...     ...      ...  ...   \n",
       "SAM24449110_rep24-TTTGTTGAGTAATCCC     DLD1      day5   HTO-2  NGS5702  ...   \n",
       "SAM24449110_rep24-TTTGTTGCAGCGATTT     DLD1      day5  HTO-12  NGS5702  ...   \n",
       "SAM24449110_rep24-TTTGTTGGTTCGTACA     DLD1      day5  HTO-11  NGS5702  ...   \n",
       "SAM24449110_rep24-TTTGTTGTCGTCGCTT     DLD1      day5  HTO-18  NGS5702  ...   \n",
       "SAM24449110_rep24-TTTGTTGTCTTAGGAC     DLD1      day5  HTO-14  NGS5702  ...   \n",
       "\n",
       "                                   total_counts_mt pct_counts_mt  \\\n",
       "SAM24451293_rep1-AAACCCAAGACAGTCG              618      6.336512   \n",
       "SAM24451293_rep1-AAACCCATCTGTCGTC              196      1.763859   \n",
       "SAM24451293_rep1-AAACGAAAGACGTCGA              486      2.926301   \n",
       "SAM24451293_rep1-AAACGAAAGTAGCATA              587      5.473193   \n",
       "SAM24451293_rep1-AAACGAACATCCAATG              531      3.670676   \n",
       "...                                            ...           ...   \n",
       "SAM24449110_rep24-TTTGTTGAGTAATCCC             263      3.049629   \n",
       "SAM24449110_rep24-TTTGTTGCAGCGATTT             133      2.817200   \n",
       "SAM24449110_rep24-TTTGTTGGTTCGTACA             122      1.446526   \n",
       "SAM24449110_rep24-TTTGTTGTCGTCGCTT             267      4.862502   \n",
       "SAM24449110_rep24-TTTGTTGTCTTAGGAC             476      4.554588   \n",
       "\n",
       "                                   total_counts_ribo pct_counts_ribo qc_pass  \\\n",
       "SAM24451293_rep1-AAACCCAAGACAGTCG               2152       22.065006    True   \n",
       "SAM24451293_rep1-AAACCCATCTGTCGTC               2183       19.645428    True   \n",
       "SAM24451293_rep1-AAACGAAAGACGTCGA               3141       18.912572    True   \n",
       "SAM24451293_rep1-AAACGAAAGTAGCATA               2218       20.680653    True   \n",
       "SAM24451293_rep1-AAACGAACATCCAATG               2377       16.431633    True   \n",
       "...                                              ...             ...     ...   \n",
       "SAM24449110_rep24-TTTGTTGAGTAATCCC              1614       18.715213    True   \n",
       "SAM24449110_rep24-TTTGTTGCAGCGATTT              1209       25.608981    True   \n",
       "SAM24449110_rep24-TTTGTTGGTTCGTACA              1464       17.358312    True   \n",
       "SAM24449110_rep24-TTTGTTGTCGTCGCTT               900       16.390457    True   \n",
       "SAM24449110_rep24-TTTGTTGTCTTAGGAC              2053       19.644053    True   \n",
       "\n",
       "                                     S_score  G2M_score  phase  \\\n",
       "SAM24451293_rep1-AAACCCAAGACAGTCG  -0.493023   0.231481    G2M   \n",
       "SAM24451293_rep1-AAACCCATCTGTCGTC   0.246512  -0.306254      S   \n",
       "SAM24451293_rep1-AAACGAAAGACGTCGA  -0.641860   0.433263    G2M   \n",
       "SAM24451293_rep1-AAACGAAAGTAGCATA  -0.079070   0.077219    G2M   \n",
       "SAM24451293_rep1-AAACGAACATCCAATG  -0.051163   0.242662    G2M   \n",
       "...                                      ...        ...    ...   \n",
       "SAM24449110_rep24-TTTGTTGAGTAATCCC -0.497066   0.122642    G2M   \n",
       "SAM24449110_rep24-TTTGTTGCAGCGATTT -0.350793  -0.313417     G1   \n",
       "SAM24449110_rep24-TTTGTTGGTTCGTACA -0.273527   0.614605    G2M   \n",
       "SAM24449110_rep24-TTTGTTGTCGTCGCTT -0.333080  -0.025332     G1   \n",
       "SAM24449110_rep24-TTTGTTGTCTTAGGAC -0.759183   2.264500    G2M   \n",
       "\n",
       "                                             SCN_class         gem  \n",
       "SAM24451293_rep1-AAACCCAAGACAGTCG   Untreatedclus_DLD1   NGS5774-1  \n",
       "SAM24451293_rep1-AAACCCATCTGTCGTC   Untreatedclus_DLD1   NGS5774-1  \n",
       "SAM24451293_rep1-AAACGAAAGACGTCGA   Untreatedclus_DLD1   NGS5774-1  \n",
       "SAM24451293_rep1-AAACGAAAGTAGCATA   Untreatedclus_DLD1   NGS5774-1  \n",
       "SAM24451293_rep1-AAACGAACATCCAATG   Untreatedclus_DLD1   NGS5774-1  \n",
       "...                                                ...         ...  \n",
       "SAM24449110_rep24-TTTGTTGAGTAATCCC  Untreatedclus_DLD1  NGS5702-24  \n",
       "SAM24449110_rep24-TTTGTTGCAGCGATTT  Untreatedclus_DLD1  NGS5702-24  \n",
       "SAM24449110_rep24-TTTGTTGGTTCGTACA  Untreatedclus_DLD1  NGS5702-24  \n",
       "SAM24449110_rep24-TTTGTTGTCGTCGCTT  Untreatedclus_DLD1  NGS5702-24  \n",
       "SAM24449110_rep24-TTTGTTGTCTTAGGAC  Untreatedclus_DLD1  NGS5702-24  \n",
       "\n",
       "[177698 rows x 28 columns]"
      ]
     },
     "execution_count": 9,
     "metadata": {},
     "output_type": "execute_result"
    }
   ],
   "source": [
    "bdata.obs"
   ]
  },
  {
   "cell_type": "code",
   "execution_count": 10,
   "id": "b1e488a4",
   "metadata": {
    "execution": {
     "iopub.execute_input": "2024-08-14T18:48:06.663888Z",
     "iopub.status.busy": "2024-08-14T18:48:06.662974Z",
     "iopub.status.idle": "2024-08-14T18:48:38.302363Z",
     "shell.execute_reply": "2024-08-14T18:48:38.300552Z"
    },
    "papermill": {
     "duration": 31.662755,
     "end_time": "2024-08-14T18:48:38.306131",
     "exception": false,
     "start_time": "2024-08-14T18:48:06.643376",
     "status": "completed"
    },
    "tags": []
   },
   "outputs": [],
   "source": [
    "perturbations_key = \"gene_symbol\"\n",
    "gene_graph, gene_sets = mv.enrichr_to_gene_graph(\"./Templates/data/CORUM.txt\", np.array(bdata.obs[perturbations_key].values))"
   ]
  },
  {
   "cell_type": "code",
   "execution_count": 11,
   "id": "85154759",
   "metadata": {
    "execution": {
     "iopub.execute_input": "2024-08-14T18:48:38.338438Z",
     "iopub.status.busy": "2024-08-14T18:48:38.338049Z",
     "iopub.status.idle": "2024-08-14T18:48:44.875585Z",
     "shell.execute_reply": "2024-08-14T18:48:44.874369Z"
    },
    "papermill": {
     "duration": 6.555433,
     "end_time": "2024-08-14T18:48:44.879015",
     "exception": false,
     "start_time": "2024-08-14T18:48:38.323582",
     "status": "completed"
    },
    "tags": []
   },
   "outputs": [],
   "source": [
    "embeddings_obj = mv.AnnDataEmbeddings(bdata, embeddings_key, perturbations_key, \"Sample\", \"NTC\")\n",
    "perturbation_embeddings = embeddings_obj.get_embeddings_from_list(list(gene_graph), agg=True, centering = centering)"
   ]
  },
  {
   "cell_type": "code",
   "execution_count": 12,
   "id": "38d38100",
   "metadata": {
    "execution": {
     "iopub.execute_input": "2024-08-14T18:48:44.908129Z",
     "iopub.status.busy": "2024-08-14T18:48:44.907861Z",
     "iopub.status.idle": "2024-08-14T18:48:44.914936Z",
     "shell.execute_reply": "2024-08-14T18:48:44.913993Z"
    },
    "papermill": {
     "duration": 0.024106,
     "end_time": "2024-08-14T18:48:44.917960",
     "exception": false,
     "start_time": "2024-08-14T18:48:44.893854",
     "status": "completed"
    },
    "tags": []
   },
   "outputs": [
    {
     "data": {
      "text/plain": [
       "(233, 50)"
      ]
     },
     "execution_count": 12,
     "metadata": {},
     "output_type": "execute_result"
    }
   ],
   "source": [
    "perturbation_embeddings.shape"
   ]
  },
  {
   "cell_type": "code",
   "execution_count": 13,
   "id": "7ea5271f",
   "metadata": {
    "execution": {
     "iopub.execute_input": "2024-08-14T18:48:44.946402Z",
     "iopub.status.busy": "2024-08-14T18:48:44.946122Z",
     "iopub.status.idle": "2024-08-14T18:49:09.285323Z",
     "shell.execute_reply": "2024-08-14T18:49:09.283821Z"
    },
    "papermill": {
     "duration": 24.355068,
     "end_time": "2024-08-14T18:49:09.287150",
     "exception": false,
     "start_time": "2024-08-14T18:48:44.932082",
     "status": "completed"
    },
    "tags": []
   },
   "outputs": [
    {
     "name": "stdout",
     "output_type": "stream",
     "text": [
      "Performing Kolmogorov-Smirnov test on gene set cosine similarity..\n"
     ]
    },
    {
     "name": "stdout",
     "output_type": "stream",
     "text": [
      "KS statistic: 0.19955156950672645, p-value: 3.5052142008134085e-08\n"
     ]
    },
    {
     "data": {
      "image/png": "[encoded data removed]",
      "text/plain": [
       "<Figure size 640x480 with 1 Axes>"
      ]
     },
     "metadata": {},
     "output_type": "display_data"
    },
    {
     "name": "stdout",
     "output_type": "stream",
     "text": [
      "Computing distance matrix for embeddings..\n",
      "Computing link prediction metrics for cutoff percentile=0%\n"
     ]
    },
    {
     "name": "stdout",
     "output_type": "stream",
     "text": [
      "Computing link prediction metrics for cutoff percentile=1%\n"
     ]
    },
    {
     "name": "stdout",
     "output_type": "stream",
     "text": [
      "Computing link prediction metrics for cutoff percentile=2%\n"
     ]
    },
    {
     "name": "stdout",
     "output_type": "stream",
     "text": [
      "Computing link prediction metrics for cutoff percentile=3%\n"
     ]
    },
    {
     "name": "stdout",
     "output_type": "stream",
     "text": [
      "Computing link prediction metrics for cutoff percentile=4%\n"
     ]
    },
    {
     "name": "stdout",
     "output_type": "stream",
     "text": [
      "Computing link prediction metrics for cutoff percentile=5%\n"
     ]
    },
    {
     "name": "stdout",
     "output_type": "stream",
     "text": [
      "Computing link prediction metrics for cutoff percentile=6%\n"
     ]
    },
    {
     "name": "stdout",
     "output_type": "stream",
     "text": [
      "Computing link prediction metrics for cutoff percentile=7%\n"
     ]
    },
    {
     "name": "stdout",
     "output_type": "stream",
     "text": [
      "Computing link prediction metrics for cutoff percentile=8%\n"
     ]
    },
    {
     "name": "stdout",
     "output_type": "stream",
     "text": [
      "Computing link prediction metrics for cutoff percentile=9%\n"
     ]
    },
    {
     "name": "stdout",
     "output_type": "stream",
     "text": [
      "Computing link prediction metrics for cutoff percentile=10%\n"
     ]
    },
    {
     "name": "stdout",
     "output_type": "stream",
     "text": [
      "Computing link prediction metrics for cutoff percentile=11%\n"
     ]
    },
    {
     "name": "stdout",
     "output_type": "stream",
     "text": [
      "Computing link prediction metrics for cutoff percentile=12%\n"
     ]
    },
    {
     "name": "stdout",
     "output_type": "stream",
     "text": [
      "Computing link prediction metrics for cutoff percentile=13%\n"
     ]
    },
    {
     "name": "stdout",
     "output_type": "stream",
     "text": [
      "Computing link prediction metrics for cutoff percentile=14%\n"
     ]
    },
    {
     "name": "stdout",
     "output_type": "stream",
     "text": [
      "Computing link prediction metrics for cutoff percentile=15%\n"
     ]
    },
    {
     "name": "stdout",
     "output_type": "stream",
     "text": [
      "Computing link prediction metrics for cutoff percentile=16%\n"
     ]
    },
    {
     "name": "stdout",
     "output_type": "stream",
     "text": [
      "Computing link prediction metrics for cutoff percentile=17%\n"
     ]
    },
    {
     "name": "stdout",
     "output_type": "stream",
     "text": [
      "Computing link prediction metrics for cutoff percentile=18%\n"
     ]
    },
    {
     "name": "stdout",
     "output_type": "stream",
     "text": [
      "Computing link prediction metrics for cutoff percentile=19%\n"
     ]
    },
    {
     "name": "stdout",
     "output_type": "stream",
     "text": [
      "Computing link prediction metrics for cutoff percentile=20%\n"
     ]
    },
    {
     "name": "stdout",
     "output_type": "stream",
     "text": [
      "Computing link prediction metrics for cutoff percentile=21%\n"
     ]
    },
    {
     "name": "stdout",
     "output_type": "stream",
     "text": [
      "Computing link prediction metrics for cutoff percentile=22%\n"
     ]
    },
    {
     "name": "stdout",
     "output_type": "stream",
     "text": [
      "Computing link prediction metrics for cutoff percentile=23%\n"
     ]
    },
    {
     "name": "stdout",
     "output_type": "stream",
     "text": [
      "Computing link prediction metrics for cutoff percentile=24%\n"
     ]
    },
    {
     "name": "stdout",
     "output_type": "stream",
     "text": [
      "Computing link prediction metrics for cutoff percentile=25%\n"
     ]
    },
    {
     "name": "stdout",
     "output_type": "stream",
     "text": [
      "Computing link prediction metrics for cutoff percentile=26%\n"
     ]
    },
    {
     "name": "stdout",
     "output_type": "stream",
     "text": [
      "Computing link prediction metrics for cutoff percentile=27%\n"
     ]
    },
    {
     "name": "stdout",
     "output_type": "stream",
     "text": [
      "Computing link prediction metrics for cutoff percentile=28%\n"
     ]
    },
    {
     "name": "stdout",
     "output_type": "stream",
     "text": [
      "Computing link prediction metrics for cutoff percentile=29%\n"
     ]
    },
    {
     "name": "stdout",
     "output_type": "stream",
     "text": [
      "Computing link prediction metrics for cutoff percentile=30%\n"
     ]
    },
    {
     "name": "stdout",
     "output_type": "stream",
     "text": [
      "Computing link prediction metrics for cutoff percentile=31%\n"
     ]
    },
    {
     "name": "stdout",
     "output_type": "stream",
     "text": [
      "Computing link prediction metrics for cutoff percentile=32%\n"
     ]
    },
    {
     "name": "stdout",
     "output_type": "stream",
     "text": [
      "Computing link prediction metrics for cutoff percentile=33%\n"
     ]
    },
    {
     "name": "stdout",
     "output_type": "stream",
     "text": [
      "Computing link prediction metrics for cutoff percentile=34%\n"
     ]
    },
    {
     "name": "stdout",
     "output_type": "stream",
     "text": [
      "Computing link prediction metrics for cutoff percentile=35%\n"
     ]
    },
    {
     "name": "stdout",
     "output_type": "stream",
     "text": [
      "Computing link prediction metrics for cutoff percentile=36%\n"
     ]
    },
    {
     "name": "stdout",
     "output_type": "stream",
     "text": [
      "Computing link prediction metrics for cutoff percentile=37%\n"
     ]
    },
    {
     "name": "stdout",
     "output_type": "stream",
     "text": [
      "Computing link prediction metrics for cutoff percentile=38%\n"
     ]
    },
    {
     "name": "stdout",
     "output_type": "stream",
     "text": [
      "Computing link prediction metrics for cutoff percentile=39%\n"
     ]
    },
    {
     "name": "stdout",
     "output_type": "stream",
     "text": [
      "Computing link prediction metrics for cutoff percentile=40%\n"
     ]
    },
    {
     "name": "stdout",
     "output_type": "stream",
     "text": [
      "Computing link prediction metrics for cutoff percentile=41%\n"
     ]
    },
    {
     "name": "stdout",
     "output_type": "stream",
     "text": [
      "Computing link prediction metrics for cutoff percentile=42%\n"
     ]
    },
    {
     "name": "stdout",
     "output_type": "stream",
     "text": [
      "Computing link prediction metrics for cutoff percentile=43%\n"
     ]
    },
    {
     "name": "stdout",
     "output_type": "stream",
     "text": [
      "Computing link prediction metrics for cutoff percentile=44%\n"
     ]
    },
    {
     "name": "stdout",
     "output_type": "stream",
     "text": [
      "Computing link prediction metrics for cutoff percentile=45%\n"
     ]
    },
    {
     "name": "stdout",
     "output_type": "stream",
     "text": [
      "Computing link prediction metrics for cutoff percentile=46%\n"
     ]
    },
    {
     "name": "stdout",
     "output_type": "stream",
     "text": [
      "Computing link prediction metrics for cutoff percentile=47%\n"
     ]
    },
    {
     "name": "stdout",
     "output_type": "stream",
     "text": [
      "Computing link prediction metrics for cutoff percentile=48%\n"
     ]
    },
    {
     "name": "stdout",
     "output_type": "stream",
     "text": [
      "Computing link prediction metrics for cutoff percentile=49%\n"
     ]
    },
    {
     "name": "stdout",
     "output_type": "stream",
     "text": [
      "Computing link prediction metrics for cutoff percentile=50%\n"
     ]
    },
    {
     "name": "stdout",
     "output_type": "stream",
     "text": [
      "Computing link prediction metrics for cutoff percentile=51%\n"
     ]
    },
    {
     "name": "stdout",
     "output_type": "stream",
     "text": [
      "Computing link prediction metrics for cutoff percentile=52%\n"
     ]
    },
    {
     "name": "stdout",
     "output_type": "stream",
     "text": [
      "Computing link prediction metrics for cutoff percentile=53%\n"
     ]
    },
    {
     "name": "stdout",
     "output_type": "stream",
     "text": [
      "Computing link prediction metrics for cutoff percentile=54%\n"
     ]
    },
    {
     "name": "stdout",
     "output_type": "stream",
     "text": [
      "Computing link prediction metrics for cutoff percentile=55%\n"
     ]
    },
    {
     "name": "stdout",
     "output_type": "stream",
     "text": [
      "Computing link prediction metrics for cutoff percentile=56%\n"
     ]
    },
    {
     "name": "stdout",
     "output_type": "stream",
     "text": [
      "Computing link prediction metrics for cutoff percentile=57%\n"
     ]
    },
    {
     "name": "stdout",
     "output_type": "stream",
     "text": [
      "Computing link prediction metrics for cutoff percentile=58%\n"
     ]
    },
    {
     "name": "stdout",
     "output_type": "stream",
     "text": [
      "Computing link prediction metrics for cutoff percentile=59%\n"
     ]
    },
    {
     "name": "stdout",
     "output_type": "stream",
     "text": [
      "Computing link prediction metrics for cutoff percentile=60%\n"
     ]
    },
    {
     "name": "stdout",
     "output_type": "stream",
     "text": [
      "Computing link prediction metrics for cutoff percentile=61%\n"
     ]
    },
    {
     "name": "stdout",
     "output_type": "stream",
     "text": [
      "Computing link prediction metrics for cutoff percentile=62%\n"
     ]
    },
    {
     "name": "stdout",
     "output_type": "stream",
     "text": [
      "Computing link prediction metrics for cutoff percentile=63%\n"
     ]
    },
    {
     "name": "stdout",
     "output_type": "stream",
     "text": [
      "Computing link prediction metrics for cutoff percentile=64%\n"
     ]
    },
    {
     "name": "stdout",
     "output_type": "stream",
     "text": [
      "Computing link prediction metrics for cutoff percentile=65%\n"
     ]
    },
    {
     "name": "stdout",
     "output_type": "stream",
     "text": [
      "Computing link prediction metrics for cutoff percentile=66%\n"
     ]
    },
    {
     "name": "stdout",
     "output_type": "stream",
     "text": [
      "Computing link prediction metrics for cutoff percentile=67%\n"
     ]
    },
    {
     "name": "stdout",
     "output_type": "stream",
     "text": [
      "Computing link prediction metrics for cutoff percentile=68%\n"
     ]
    },
    {
     "name": "stdout",
     "output_type": "stream",
     "text": [
      "Computing link prediction metrics for cutoff percentile=69%\n"
     ]
    },
    {
     "name": "stdout",
     "output_type": "stream",
     "text": [
      "Computing link prediction metrics for cutoff percentile=70%\n"
     ]
    },
    {
     "name": "stdout",
     "output_type": "stream",
     "text": [
      "Computing link prediction metrics for cutoff percentile=71%\n"
     ]
    },
    {
     "name": "stdout",
     "output_type": "stream",
     "text": [
      "Computing link prediction metrics for cutoff percentile=72%\n"
     ]
    },
    {
     "name": "stdout",
     "output_type": "stream",
     "text": [
      "Computing link prediction metrics for cutoff percentile=73%\n"
     ]
    },
    {
     "name": "stdout",
     "output_type": "stream",
     "text": [
      "Computing link prediction metrics for cutoff percentile=74%\n"
     ]
    },
    {
     "name": "stdout",
     "output_type": "stream",
     "text": [
      "Computing link prediction metrics for cutoff percentile=75%\n"
     ]
    },
    {
     "name": "stdout",
     "output_type": "stream",
     "text": [
      "Computing link prediction metrics for cutoff percentile=76%\n"
     ]
    },
    {
     "name": "stdout",
     "output_type": "stream",
     "text": [
      "Computing link prediction metrics for cutoff percentile=77%\n"
     ]
    },
    {
     "name": "stdout",
     "output_type": "stream",
     "text": [
      "Computing link prediction metrics for cutoff percentile=78%\n"
     ]
    },
    {
     "name": "stdout",
     "output_type": "stream",
     "text": [
      "Computing link prediction metrics for cutoff percentile=79%\n"
     ]
    },
    {
     "name": "stdout",
     "output_type": "stream",
     "text": [
      "Computing link prediction metrics for cutoff percentile=80%\n"
     ]
    },
    {
     "name": "stdout",
     "output_type": "stream",
     "text": [
      "Computing link prediction metrics for cutoff percentile=81%\n"
     ]
    },
    {
     "name": "stdout",
     "output_type": "stream",
     "text": [
      "Computing link prediction metrics for cutoff percentile=82%\n"
     ]
    },
    {
     "name": "stdout",
     "output_type": "stream",
     "text": [
      "Computing link prediction metrics for cutoff percentile=83%\n"
     ]
    },
    {
     "name": "stdout",
     "output_type": "stream",
     "text": [
      "Computing link prediction metrics for cutoff percentile=84%\n"
     ]
    },
    {
     "name": "stdout",
     "output_type": "stream",
     "text": [
      "Computing link prediction metrics for cutoff percentile=85%\n"
     ]
    },
    {
     "name": "stdout",
     "output_type": "stream",
     "text": [
      "Computing link prediction metrics for cutoff percentile=86%\n"
     ]
    },
    {
     "name": "stdout",
     "output_type": "stream",
     "text": [
      "Computing link prediction metrics for cutoff percentile=87%\n"
     ]
    },
    {
     "name": "stdout",
     "output_type": "stream",
     "text": [
      "Computing link prediction metrics for cutoff percentile=88%\n"
     ]
    },
    {
     "name": "stdout",
     "output_type": "stream",
     "text": [
      "Computing link prediction metrics for cutoff percentile=89%\n"
     ]
    },
    {
     "name": "stdout",
     "output_type": "stream",
     "text": [
      "Computing link prediction metrics for cutoff percentile=90%\n"
     ]
    },
    {
     "name": "stdout",
     "output_type": "stream",
     "text": [
      "Computing link prediction metrics for cutoff percentile=91%\n"
     ]
    },
    {
     "name": "stdout",
     "output_type": "stream",
     "text": [
      "Computing link prediction metrics for cutoff percentile=92%\n"
     ]
    },
    {
     "name": "stdout",
     "output_type": "stream",
     "text": [
      "Computing link prediction metrics for cutoff percentile=93%\n"
     ]
    },
    {
     "name": "stdout",
     "output_type": "stream",
     "text": [
      "Computing link prediction metrics for cutoff percentile=94%\n"
     ]
    },
    {
     "name": "stdout",
     "output_type": "stream",
     "text": [
      "Computing link prediction metrics for cutoff percentile=95%\n"
     ]
    },
    {
     "name": "stdout",
     "output_type": "stream",
     "text": [
      "Computing link prediction metrics for cutoff percentile=96%\n"
     ]
    },
    {
     "name": "stdout",
     "output_type": "stream",
     "text": [
      "Computing link prediction metrics for cutoff percentile=97%\n"
     ]
    },
    {
     "name": "stdout",
     "output_type": "stream",
     "text": [
      "Computing link prediction metrics for cutoff percentile=98%\n"
     ]
    },
    {
     "name": "stdout",
     "output_type": "stream",
     "text": [
      "Computing link prediction metrics for cutoff percentile=99%\n"
     ]
    },
    {
     "name": "stdout",
     "output_type": "stream",
     "text": [
      "Finished prediction sweep over percentiles.\n"
     ]
    }
   ],
   "source": [
    "# needs to be cached in embeddings_obj\n",
    "report = mv.evaluate(perturbation_embeddings, gene_graph, gene_sets, percentile_range=[0, 100])"
   ]
  },
  {
   "cell_type": "code",
   "execution_count": 14,
   "id": "27b4b03d",
   "metadata": {
    "execution": {
     "iopub.execute_input": "2024-08-14T18:49:09.311492Z",
     "iopub.status.busy": "2024-08-14T18:49:09.310921Z",
     "iopub.status.idle": "2024-08-14T18:49:09.322555Z",
     "shell.execute_reply": "2024-08-14T18:49:09.321120Z"
    },
    "papermill": {
     "duration": 0.025671,
     "end_time": "2024-08-14T18:49:09.324549",
     "exception": false,
     "start_time": "2024-08-14T18:49:09.298878",
     "status": "completed"
    },
    "tags": []
   },
   "outputs": [],
   "source": [
    "recalls = [report[\"metrics_by_percentile\"][i][\"recall\"] for i in report[\"metrics_by_percentile\"]]\n",
    "precisions = [report[\"metrics_by_percentile\"][i][\"precision\"] for i in report[\"metrics_by_percentile\"]]\n",
    "tprs = [report[\"metrics_by_percentile\"][i][\"TPR\"] for i in report[\"metrics_by_percentile\"]]\n",
    "fprs = [report[\"metrics_by_percentile\"][i][\"FPR\"] for i in report[\"metrics_by_percentile\"]]"
   ]
  },
  {
   "cell_type": "code",
   "execution_count": 15,
   "id": "304d2617-8de2-4250-b689-3815bd375f4f",
   "metadata": {
    "execution": {
     "iopub.execute_input": "2024-08-14T18:49:09.348023Z",
     "iopub.status.busy": "2024-08-14T18:49:09.347513Z",
     "iopub.status.idle": "2024-08-14T18:49:09.356517Z",
     "shell.execute_reply": "2024-08-14T18:49:09.355689Z"
    },
    "papermill": {
     "duration": 0.024292,
     "end_time": "2024-08-14T18:49:09.359994",
     "exception": false,
     "start_time": "2024-08-14T18:49:09.335702",
     "status": "completed"
    },
    "tags": []
   },
   "outputs": [
    {
     "data": {
      "text/plain": [
       "{'recall': 0.49944506104328523,\n",
       " 'precision': 0.17314351673720663,\n",
       " 'f1_score': 0.2571428571428572,\n",
       " 'TPR': 0.49944506104328523,\n",
       " 'FPR': 0.08225207639606535}"
      ]
     },
     "execution_count": 15,
     "metadata": {},
     "output_type": "execute_result"
    }
   ],
   "source": [
    "report[\"metrics_by_percentile\"][95]"
   ]
  },
  {
   "cell_type": "code",
   "execution_count": 16,
   "id": "9741cf68-8040-4fbe-b0e8-151b87fd5a08",
   "metadata": {
    "execution": {
     "iopub.execute_input": "2024-08-14T18:49:09.414580Z",
     "iopub.status.busy": "2024-08-14T18:49:09.414101Z",
     "iopub.status.idle": "2024-08-14T18:49:09.422829Z",
     "shell.execute_reply": "2024-08-14T18:49:09.421652Z"
    },
    "papermill": {
     "duration": 0.039401,
     "end_time": "2024-08-14T18:49:09.426041",
     "exception": false,
     "start_time": "2024-08-14T18:49:09.386640",
     "status": "completed"
    },
    "tags": []
   },
   "outputs": [
    {
     "data": {
      "text/plain": [
       "{'recall': 0.6226415094339622,\n",
       " 'precision': 0.10559006211180125,\n",
       " 'f1_score': 0.1805600257483103,\n",
       " 'TPR': 0.6226415094339622,\n",
       " 'FPR': 0.18188081295211855}"
      ]
     },
     "execution_count": 16,
     "metadata": {},
     "output_type": "execute_result"
    }
   ],
   "source": [
    "report[\"metrics_by_percentile\"][90]"
   ]
  },
  {
   "cell_type": "code",
   "execution_count": 17,
   "id": "da7b6945",
   "metadata": {
    "execution": {
     "iopub.execute_input": "2024-08-14T18:49:09.481688Z",
     "iopub.status.busy": "2024-08-14T18:49:09.481200Z",
     "iopub.status.idle": "2024-08-14T18:49:10.339505Z",
     "shell.execute_reply": "2024-08-14T18:49:10.338464Z"
    },
    "papermill": {
     "duration": 0.889499,
     "end_time": "2024-08-14T18:49:10.342941",
     "exception": false,
     "start_time": "2024-08-14T18:49:09.453442",
     "status": "completed"
    },
    "tags": []
   },
   "outputs": [
    {
     "data": {
      "image/png": "[encoded data removed]",
      "text/plain": [
       "<Figure size 640x480 with 1 Axes>"
      ]
     },
     "metadata": {},
     "output_type": "display_data"
    }
   ],
   "source": [
    "# put plots in a plotting module file\n",
    "# plots should be generated from embeddings_obj or report\n",
    "plt.plot(recalls, precisions)\n",
    "sns.set_color_codes(\"pastel\")\n",
    "sns.set_theme()\n",
    "plt.xlabel(\"Recall\")\n",
    "plt.ylabel(\"Precision\")\n",
    "plt.title(\"Precision-Recall Curve on CORUM using scVI - DLDL1\")\n",
    "plt.show()"
   ]
  },
  {
   "cell_type": "code",
   "execution_count": 18,
   "id": "8eaba8e9",
   "metadata": {
    "execution": {
     "iopub.execute_input": "2024-08-14T18:49:10.400611Z",
     "iopub.status.busy": "2024-08-14T18:49:10.400268Z",
     "iopub.status.idle": "2024-08-14T18:49:10.663283Z",
     "shell.execute_reply": "2024-08-14T18:49:10.662170Z"
    },
    "papermill": {
     "duration": 0.296002,
     "end_time": "2024-08-14T18:49:10.667671",
     "exception": false,
     "start_time": "2024-08-14T18:49:10.371669",
     "status": "completed"
    },
    "tags": []
   },
   "outputs": [
    {
     "data": {
      "image/png": "[encoded data removed]",
      "text/plain": [
       "<Figure size 640x480 with 1 Axes>"
      ]
     },
     "metadata": {},
     "output_type": "display_data"
    }
   ],
   "source": [
    "plt.plot(fprs, tprs)\n",
    "plt.xlabel(\"False Positive Rate\")\n",
    "plt.ylabel(\"True Positive Rate\")\n",
    "plt.title(\"auROC Curve on CORUM using scVI - DLDL1\")\n",
    "plt.show()"
   ]
  },
  {
   "cell_type": "markdown",
   "id": "27c799e7-40bd-4c6a-9c11-eb14a9f17c00",
   "metadata": {
    "papermill": {
     "duration": 0.028207,
     "end_time": "2024-08-14T18:49:10.726504",
     "exception": false,
     "start_time": "2024-08-14T18:49:10.698297",
     "status": "completed"
    },
    "tags": []
   },
   "source": [
    "## Update the annadata object and write out the output"
   ]
  },
  {
   "cell_type": "code",
   "execution_count": 19,
   "id": "6ba7c857-ef85-4321-9e7d-712d3d196bb6",
   "metadata": {
    "execution": {
     "iopub.execute_input": "2024-08-14T18:49:10.784578Z",
     "iopub.status.busy": "2024-08-14T18:49:10.784282Z",
     "iopub.status.idle": "2024-08-14T18:49:10.789448Z",
     "shell.execute_reply": "2024-08-14T18:49:10.788488Z"
    },
    "papermill": {
     "duration": 0.037744,
     "end_time": "2024-08-14T18:49:10.792505",
     "exception": false,
     "start_time": "2024-08-14T18:49:10.754761",
     "status": "completed"
    },
    "tags": []
   },
   "outputs": [],
   "source": [
    "if \"multivariate_report\" not in bdata.uns:\n",
    "    bdata.uns[\"multivariate_report\"]={}"
   ]
  },
  {
   "cell_type": "code",
   "execution_count": 20,
   "id": "51f62080-fee8-49be-9e00-56b11d5221ce",
   "metadata": {
    "execution": {
     "iopub.execute_input": "2024-08-14T18:49:10.850592Z",
     "iopub.status.busy": "2024-08-14T18:49:10.850314Z",
     "iopub.status.idle": "2024-08-14T18:49:10.856607Z",
     "shell.execute_reply": "2024-08-14T18:49:10.855619Z"
    },
    "papermill": {
     "duration": 0.038634,
     "end_time": "2024-08-14T18:49:10.859627",
     "exception": false,
     "start_time": "2024-08-14T18:49:10.820993",
     "status": "completed"
    },
    "tags": []
   },
   "outputs": [],
   "source": [
    "if transcriptoprint==True:\n",
    "    bdata.uns[\"multivariate_report\"][key_uns][\"transcriptoprint\"] = {\"roc_auc\": report[\"roc_auc\"], \"auprc\": report[\"auprc\"], \n",
    "                                    \"95percentile\":report[\"metrics_by_percentile\"][95], \"90percentile\":report[\"metrics_by_percentile\"][90]}\n",
    "else:\n",
    "    bdata.uns[\"multivariate_report\"][key_uns] = {\"roc_auc\": report[\"roc_auc\"], \"auprc\": report[\"auprc\"], \n",
    "                                    \"95percentile\":report[\"metrics_by_percentile\"][95], \"90percentile\":report[\"metrics_by_percentile\"][90]}"
   ]
  },
  {
   "cell_type": "code",
   "execution_count": 21,
   "id": "8609253a-8d80-45ea-95f7-cab05fd32f20",
   "metadata": {
    "execution": {
     "iopub.execute_input": "2024-08-14T18:49:10.918047Z",
     "iopub.status.busy": "2024-08-14T18:49:10.917769Z",
     "iopub.status.idle": "2024-08-14T18:49:12.103494Z",
     "shell.execute_reply": "2024-08-14T18:49:12.102343Z"
    },
    "papermill": {
     "duration": 1.218306,
     "end_time": "2024-08-14T18:49:12.106416",
     "exception": false,
     "start_time": "2024-08-14T18:49:10.888110",
     "status": "completed"
    },
    "tags": []
   },
   "outputs": [],
   "source": [
    "adata.uns = bdata.uns.copy()"
   ]
  },
  {
   "cell_type": "code",
   "execution_count": 22,
   "id": "a97a34df",
   "metadata": {
    "execution": {
     "iopub.execute_input": "2024-08-14T18:49:12.166564Z",
     "iopub.status.busy": "2024-08-14T18:49:12.166276Z",
     "iopub.status.idle": "2024-08-14T18:50:55.283905Z",
     "shell.execute_reply": "2024-08-14T18:50:55.282448Z"
    },
    "papermill": {
     "duration": 103.150864,
     "end_time": "2024-08-14T18:50:55.287410",
     "exception": false,
     "start_time": "2024-08-14T18:49:12.136546",
     "status": "completed"
    },
    "tags": []
   },
   "outputs": [],
   "source": [
    "adata.write_h5ad(MV_file)"
   ]
  },
  {
   "cell_type": "code",
   "execution_count": 23,
   "id": "b5be6b23-cbd7-44b2-94fe-6500f9569b73",
   "metadata": {
    "execution": {
     "iopub.execute_input": "2024-08-14T18:50:55.349827Z",
     "iopub.status.busy": "2024-08-14T18:50:55.349546Z",
     "iopub.status.idle": "2024-08-14T18:50:55.358043Z",
     "shell.execute_reply": "2024-08-14T18:50:55.357093Z"
    },
    "papermill": {
     "duration": 0.041338,
     "end_time": "2024-08-14T18:50:55.360929",
     "exception": false,
     "start_time": "2024-08-14T18:50:55.319591",
     "status": "completed"
    },
    "tags": []
   },
   "outputs": [
    {
     "data": {
      "text/plain": [
       "{'90percentile': {'FPR': 0.1935098762752333,\n",
       "  'TPR': 0.5226811103588355,\n",
       "  'f1_score': 0.07062482846949045,\n",
       "  'precision': 0.037870983566347806,\n",
       "  'recall': 0.5226811103588355},\n",
       " '95percentile': {'FPR': 0.09331649466227288,\n",
       "  'TPR': 0.42044685172647256,\n",
       "  'f1_score': 0.10747663551401869,\n",
       "  'precision': 0.06161325528326223,\n",
       "  'recall': 0.42044685172647256},\n",
       " 'auprc': 0.03783647147357558,\n",
       " 'roc_auc': 0.7003786135855922,\n",
       " 'transcriptoprint': {'roc_auc': 0.7712931885220264,\n",
       "  'auprc': 0.12623900848754266,\n",
       "  '95percentile': {'recall': 0.49944506104328523,\n",
       "   'precision': 0.17314351673720663,\n",
       "   'f1_score': 0.2571428571428572,\n",
       "   'TPR': 0.49944506104328523,\n",
       "   'FPR': 0.08225207639606535},\n",
       "  '90percentile': {'recall': 0.6226415094339622,\n",
       "   'precision': 0.10559006211180125,\n",
       "   'f1_score': 0.1805600257483103,\n",
       "   'TPR': 0.6226415094339622,\n",
       "   'FPR': 0.18188081295211855}}}"
      ]
     },
     "execution_count": 23,
     "metadata": {},
     "output_type": "execute_result"
    }
   ],
   "source": [
    "adata.uns['multivariate_report'][key_uns]"
   ]
  },
  {
   "cell_type": "markdown",
   "id": "93b17b35-7184-41c2-b142-445af994b1bc",
   "metadata": {
    "papermill": {
     "duration": 0.02861,
     "end_time": "2024-08-14T18:50:55.418410",
     "exception": false,
     "start_time": "2024-08-14T18:50:55.389800",
     "status": "completed"
    },
    "tags": []
   },
   "source": [
    "## Data Tabulation"
   ]
  },
  {
   "cell_type": "code",
   "execution_count": 24,
   "id": "7f089048-6324-423e-a4e4-5916c66d98e1",
   "metadata": {
    "execution": {
     "iopub.execute_input": "2024-08-14T18:50:55.478429Z",
     "iopub.status.busy": "2024-08-14T18:50:55.478217Z",
     "iopub.status.idle": "2024-08-14T18:50:55.485036Z",
     "shell.execute_reply": "2024-08-14T18:50:55.483781Z"
    },
    "papermill": {
     "duration": 0.039936,
     "end_time": "2024-08-14T18:50:55.488236",
     "exception": false,
     "start_time": "2024-08-14T18:50:55.448300",
     "status": "completed"
    },
    "tags": []
   },
   "outputs": [],
   "source": [
    "metrics = pd.DataFrame.from_dict(report[\"metrics_by_percentile\"],orient='index')"
   ]
  },
  {
   "cell_type": "code",
   "execution_count": 25,
   "id": "e5791ed4-9f6d-46e1-a381-dfa800d25881",
   "metadata": {
    "execution": {
     "iopub.execute_input": "2024-08-14T18:50:55.551354Z",
     "iopub.status.busy": "2024-08-14T18:50:55.550875Z",
     "iopub.status.idle": "2024-08-14T18:50:55.559103Z",
     "shell.execute_reply": "2024-08-14T18:50:55.557624Z"
    },
    "papermill": {
     "duration": 0.045326,
     "end_time": "2024-08-14T18:50:55.562449",
     "exception": false,
     "start_time": "2024-08-14T18:50:55.517123",
     "status": "completed"
    },
    "tags": []
   },
   "outputs": [],
   "source": [
    "metrics[\"percentile\"] = metrics.index"
   ]
  },
  {
   "cell_type": "code",
   "execution_count": 26,
   "id": "49c6b6bb-a163-42cb-806b-ec51ddd8f5d5",
   "metadata": {
    "execution": {
     "iopub.execute_input": "2024-08-14T18:50:55.624215Z",
     "iopub.status.busy": "2024-08-14T18:50:55.623698Z",
     "iopub.status.idle": "2024-08-14T18:50:55.648007Z",
     "shell.execute_reply": "2024-08-14T18:50:55.646752Z"
    },
    "papermill": {
     "duration": 0.057976,
     "end_time": "2024-08-14T18:50:55.651226",
     "exception": false,
     "start_time": "2024-08-14T18:50:55.593250",
     "status": "completed"
    },
    "tags": []
   },
   "outputs": [
    {
     "data": {
      "text/html": [
       "<div>\n",
       "<style scoped>\n",
       "    .dataframe tbody tr th:only-of-type {\n",
       "        vertical-align: middle;\n",
       "    }\n",
       "\n",
       "    .dataframe tbody tr th {\n",
       "        vertical-align: top;\n",
       "    }\n",
       "\n",
       "    .dataframe thead th {\n",
       "        text-align: right;\n",
       "    }\n",
       "</style>\n",
       "<table border=\"1\" class=\"dataframe\">\n",
       "  <thead>\n",
       "    <tr style=\"text-align: right;\">\n",
       "      <th></th>\n",
       "      <th>recall</th>\n",
       "      <th>precision</th>\n",
       "      <th>f1_score</th>\n",
       "      <th>TPR</th>\n",
       "      <th>FPR</th>\n",
       "      <th>percentile</th>\n",
       "    </tr>\n",
       "  </thead>\n",
       "  <tbody>\n",
       "    <tr>\n",
       "      <th>90</th>\n",
       "      <td>0.622642</td>\n",
       "      <td>0.105590</td>\n",
       "      <td>0.180560</td>\n",
       "      <td>0.622642</td>\n",
       "      <td>0.181881</td>\n",
       "      <td>90</td>\n",
       "    </tr>\n",
       "    <tr>\n",
       "      <th>91</th>\n",
       "      <td>0.604883</td>\n",
       "      <td>0.114256</td>\n",
       "      <td>0.192206</td>\n",
       "      <td>0.604883</td>\n",
       "      <td>0.161710</td>\n",
       "      <td>91</td>\n",
       "    </tr>\n",
       "    <tr>\n",
       "      <th>92</th>\n",
       "      <td>0.584906</td>\n",
       "      <td>0.124645</td>\n",
       "      <td>0.205498</td>\n",
       "      <td>0.584906</td>\n",
       "      <td>0.141654</td>\n",
       "      <td>92</td>\n",
       "    </tr>\n",
       "    <tr>\n",
       "      <th>93</th>\n",
       "      <td>0.568257</td>\n",
       "      <td>0.138942</td>\n",
       "      <td>0.223288</td>\n",
       "      <td>0.568257</td>\n",
       "      <td>0.121445</td>\n",
       "      <td>93</td>\n",
       "    </tr>\n",
       "    <tr>\n",
       "      <th>94</th>\n",
       "      <td>0.542730</td>\n",
       "      <td>0.155633</td>\n",
       "      <td>0.241900</td>\n",
       "      <td>0.542730</td>\n",
       "      <td>0.101542</td>\n",
       "      <td>94</td>\n",
       "    </tr>\n",
       "    <tr>\n",
       "      <th>95</th>\n",
       "      <td>0.499445</td>\n",
       "      <td>0.173144</td>\n",
       "      <td>0.257143</td>\n",
       "      <td>0.499445</td>\n",
       "      <td>0.082252</td>\n",
       "      <td>95</td>\n",
       "    </tr>\n",
       "    <tr>\n",
       "      <th>96</th>\n",
       "      <td>0.446171</td>\n",
       "      <td>0.195525</td>\n",
       "      <td>0.271897</td>\n",
       "      <td>0.446171</td>\n",
       "      <td>0.063306</td>\n",
       "      <td>96</td>\n",
       "    </tr>\n",
       "    <tr>\n",
       "      <th>97</th>\n",
       "      <td>0.369589</td>\n",
       "      <td>0.220093</td>\n",
       "      <td>0.275891</td>\n",
       "      <td>0.369589</td>\n",
       "      <td>0.045164</td>\n",
       "      <td>97</td>\n",
       "    </tr>\n",
       "    <tr>\n",
       "      <th>98</th>\n",
       "      <td>0.265261</td>\n",
       "      <td>0.246392</td>\n",
       "      <td>0.255478</td>\n",
       "      <td>0.265261</td>\n",
       "      <td>0.027979</td>\n",
       "      <td>98</td>\n",
       "    </tr>\n",
       "    <tr>\n",
       "      <th>99</th>\n",
       "      <td>0.119867</td>\n",
       "      <td>0.252927</td>\n",
       "      <td>0.162651</td>\n",
       "      <td>0.119867</td>\n",
       "      <td>0.012210</td>\n",
       "      <td>99</td>\n",
       "    </tr>\n",
       "  </tbody>\n",
       "</table>\n",
       "</div>"
      ],
      "text/plain": [
       "      recall  precision  f1_score       TPR       FPR  percentile\n",
       "90  0.622642   0.105590  0.180560  0.622642  0.181881          90\n",
       "91  0.604883   0.114256  0.192206  0.604883  0.161710          91\n",
       "92  0.584906   0.124645  0.205498  0.584906  0.141654          92\n",
       "93  0.568257   0.138942  0.223288  0.568257  0.121445          93\n",
       "94  0.542730   0.155633  0.241900  0.542730  0.101542          94\n",
       "95  0.499445   0.173144  0.257143  0.499445  0.082252          95\n",
       "96  0.446171   0.195525  0.271897  0.446171  0.063306          96\n",
       "97  0.369589   0.220093  0.275891  0.369589  0.045164          97\n",
       "98  0.265261   0.246392  0.255478  0.265261  0.027979          98\n",
       "99  0.119867   0.252927  0.162651  0.119867  0.012210          99"
      ]
     },
     "execution_count": 26,
     "metadata": {},
     "output_type": "execute_result"
    }
   ],
   "source": [
    "metrics[metrics.percentile>89]"
   ]
  },
  {
   "cell_type": "code",
   "execution_count": 27,
   "id": "14e5d669-7529-4dbd-b69a-83237abf540f",
   "metadata": {
    "execution": {
     "iopub.execute_input": "2024-08-14T18:50:55.712408Z",
     "iopub.status.busy": "2024-08-14T18:50:55.711925Z",
     "iopub.status.idle": "2024-08-14T18:50:56.618650Z",
     "shell.execute_reply": "2024-08-14T18:50:56.617149Z"
    },
    "papermill": {
     "duration": 0.940894,
     "end_time": "2024-08-14T18:50:56.621821",
     "exception": false,
     "start_time": "2024-08-14T18:50:55.680927",
     "status": "completed"
    },
    "tags": []
   },
   "outputs": [
    {
     "data": {
      "image/png": "[encoded data removed]",
      "text/plain": [
       "<Figure size 900x300 with 3 Axes>"
      ]
     },
     "metadata": {},
     "output_type": "display_data"
    }
   ],
   "source": [
    "_, axs = plt.subplots(1, 3, figsize=np.array([3, 1]) * 3)\n",
    "xy = [(\"percentile\", \"recall\"), (\"percentile\", \"precision\"), (\"recall\", \"precision\")]\n",
    "for (x, y), ax in zip(xy, axs.flat):\n",
    "    ax.plot(metrics[x], metrics[y])\n",
    "    ax.grid()\n",
    "    ax.set_xlabel(x)\n",
    "    ax.set_ylabel(y)\n",
    "plt.tight_layout()"
   ]
  },
  {
   "cell_type": "code",
   "execution_count": null,
   "id": "24f75dc9-5df0-421b-9f00-6f5074792702",
   "metadata": {
    "papermill": {
     "duration": 0.030567,
     "end_time": "2024-08-14T18:50:56.684612",
     "exception": false,
     "start_time": "2024-08-14T18:50:56.654045",
     "status": "completed"
    },
    "tags": []
   },
   "outputs": [],
   "source": []
  }
 ],
 "metadata": {
  "kernelspec": {
   "display_name": "Dev/GPuy310",
   "language": "python",
   "name": "gpuy310-dev"
  },
  "language_info": {
   "codemirror_mode": {
    "name": "ipython",
    "version": 3
   },
   "file_extension": ".py",
   "mimetype": "text/x-python",
   "name": "python",
   "nbconvert_exporter": "python",
   "pygments_lexer": "ipython3",
   "version": "3.10.8"
  },
  "papermill": {
   "default_parameters": {},
   "duration": 348.226287,
   "end_time": "2024-08-14T18:51:06.054527",
   "environment_variables": {},
   "exception": null,
   "input_path": "./Templates/Multivariate_updated.ipynb",
   "output_path": "/gstore/home/ghaffars/Cumulus/crc_dld1_sublib1_bdev/crop-seq-pipeline/Reports/DS000017114_Multivariate_pca_sphered_Phonetype_genes.ipynb",
   "parameters": {
    "DEV": false,
    "DS_test": false,
    "DatasetID": "DS000017114",
    "MV_file": "/gstore/project/crc_recursion_gw/DLD1_Sublib1_bdev//DS000017114/Energy_Distance/e_dist_all.h5ad",
    "author": "SG",
    "description": "Production scale screen in DLD-1 cells with 1/4 of the genome-wide CRISPR library (sub-lib-1, ~22K guides). 1 time point: Day-5. We performed 24 rxns of 10x 3' HT kit with an estimated loading of 52K cells. We performed a pilot study to test the library quality before the production-level sequencing. We will submit 72 libraries (24 GEX, 24 HTO and 24 sgRNA) We estimate need 600M for GEX, 30M for HTO and 50M for sgRNA. This is a repeat run to correct chip loading.",
    "embeddings_key": "X_pca_sphered",
    "name_space": [
     {
      "id": "GRCh38",
      "type": "genome"
     }
    ],
    "organism": "human",
    "path": "/gstore/project/crc_recursion_gw/DLD1_Sublib1_bdev//DS000017114/Energy_Distance",
    "sources": [
     {
      "id": "Siavash-1234",
      "name": "Geo-ID"
     }
    ],
    "tech_name": "scRNA-seq",
    "test_DatasetID": "",
    "title": "Recursion DLD1 Library1 Screen Day 5- combination of NGS 5774 and NGS 5702",
    "transcriptoprint": true
   },
   "start_time": "2024-08-14T18:45:17.828240",
   "version": "2.6.0"
  },
  "widgets": {
   "application/vnd.jupyter.widget-state+json": {
    "state": {},
    "version_major": 2,
    "version_minor": 0
   }
  }
 },
 "nbformat": 4,
 "nbformat_minor": 5
}