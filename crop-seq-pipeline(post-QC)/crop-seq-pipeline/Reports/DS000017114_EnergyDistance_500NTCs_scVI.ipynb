{
 "cells": [
  {
   "cell_type": "code",
   "execution_count": 1,
   "id": "18b640ac",
   "metadata": {
    "execution": {
     "iopub.execute_input": "2024-08-11T18:22:30.724979Z",
     "iopub.status.busy": "2024-08-11T18:22:30.724763Z",
     "iopub.status.idle": "2024-08-11T18:22:30.731276Z",
     "shell.execute_reply": "2024-08-11T18:22:30.730828Z"
    },
    "papermill": {
     "duration": 0.016159,
     "end_time": "2024-08-11T18:22:30.732496",
     "exception": false,
     "start_time": "2024-08-11T18:22:30.716337",
     "status": "completed"
    },
    "tags": [
     "injected-parameters"
    ]
   },
   "outputs": [],
   "source": [
    "# Parameters\n",
    "DatasetID = \"DS000017114\"\n",
    "DEV = False\n",
    "test_DatasetID = \"\"\n",
    "DS_test = False\n",
    "title = \"Recursion DLD1 Library1 Screen Day 5- combination of NGS 5774 and NGS 5702\"\n",
    "description = \"Production scale screen in DLD-1 cells with 1/4 of the genome-wide CRISPR library (sub-lib-1, ~22K guides). 1 time point: Day-5. We performed 24 rxns of 10x 3' HT kit with an estimated loading of 52K cells. We performed a pilot study to test the library quality before the production-level sequencing. We will submit 72 libraries (24 GEX, 24 HTO and 24 sgRNA) We estimate need 600M for GEX, 30M for HTO and 50M for sgRNA. This is a repeat run to correct chip loading.\"\n",
    "name_space = [{\"id\": \"GRCh38\", \"type\": \"genome\"}]\n",
    "sources = [{\"id\": \"Siavash-1234\", \"name\": \"Geo-ID\"}]\n",
    "tech_name = \"scRNA-seq\"\n",
    "author = \"SG\"\n",
    "organism = \"human\"\n",
    "pVAL = 0.05\n",
    "n = 500\n",
    "embeddings_key = \"X_scVI\"\n",
    "i = 10\n",
    "ED_file = \"/gstore/project/crc_recursion_gw/DLD1_Sublib1_bdev//DS000017114/Energy_Distance/e_dist_all.h5ad\"\n",
    "key_uns = \"perGene_scVI_10\"\n",
    "out_csv = \"/gstore/project/crc_recursion_gw/DLD1_Sublib1_bdev//DS000017114/Energy_Distance/e_dist_500NTCs_scVI_10.csv\"\n"
   ]
  },
  {
   "cell_type": "markdown",
   "id": "bb530fe7-c5ba-4ec4-b436-7f717b909ce0",
   "metadata": {
    "papermill": {
     "duration": 0.008901,
     "end_time": "2024-08-11T18:22:30.748828",
     "exception": false,
     "start_time": "2024-08-11T18:22:30.739927",
     "status": "completed"
    },
    "tags": []
   },
   "source": [
    "# EnergyDistance: "
   ]
  },
  {
   "cell_type": "code",
   "execution_count": 2,
   "id": "cdd59412-0a04-4bea-8c11-fd04e79b2a25",
   "metadata": {
    "execution": {
     "iopub.execute_input": "2024-08-11T18:22:30.763879Z",
     "iopub.status.busy": "2024-08-11T18:22:30.763552Z",
     "iopub.status.idle": "2024-08-11T18:22:36.635015Z",
     "shell.execute_reply": "2024-08-11T18:22:36.634438Z"
    },
    "papermill": {
     "duration": 5.880866,
     "end_time": "2024-08-11T18:22:36.636703",
     "exception": false,
     "start_time": "2024-08-11T18:22:30.755837",
     "status": "completed"
    },
    "tags": []
   },
   "outputs": [],
   "source": [
    "import scanpy as sc\n",
    "import numpy as np\n",
    "import pandas as pd\n",
    "from tqdm import tqdm\n",
    "import os\n",
    "#plotting\n",
    "import matplotlib\n",
    "from matplotlib import pyplot as plt\n",
    "import seaborn as sns\n",
    "from dask.distributed import Client\n",
    "import sklearn"
   ]
  },
  {
   "cell_type": "code",
   "execution_count": 3,
   "id": "73f8c9aa-f309-468a-ae92-379a64133079",
   "metadata": {
    "execution": {
     "iopub.execute_input": "2024-08-11T18:22:36.654797Z",
     "iopub.status.busy": "2024-08-11T18:22:36.654457Z",
     "iopub.status.idle": "2024-08-11T18:22:36.707906Z",
     "shell.execute_reply": "2024-08-11T18:22:36.707346Z"
    },
    "papermill": {
     "duration": 0.064104,
     "end_time": "2024-08-11T18:22:36.709591",
     "exception": false,
     "start_time": "2024-08-11T18:22:36.645487",
     "status": "completed"
    },
    "tags": []
   },
   "outputs": [],
   "source": [
    "# Please note that if we import the whole folder using __init__.py we would be running into ba Dask CanceledError due to different \n",
    "# imported Dask conflict, so we have to import only scEnergy script\n",
    "import sys\n",
    "sys.path.append(\"..\")\n",
    "import Templates.tools.scEnergy as eng "
   ]
  },
  {
   "cell_type": "code",
   "execution_count": 4,
   "id": "98e328a0-104a-414c-8c17-dbcf574bb808",
   "metadata": {
    "execution": {
     "iopub.execute_input": "2024-08-11T18:22:36.726063Z",
     "iopub.status.busy": "2024-08-11T18:22:36.725789Z",
     "iopub.status.idle": "2024-08-11T18:22:36.816086Z",
     "shell.execute_reply": "2024-08-11T18:22:36.815617Z"
    },
    "papermill": {
     "duration": 0.099903,
     "end_time": "2024-08-11T18:22:36.817511",
     "exception": false,
     "start_time": "2024-08-11T18:22:36.717608",
     "status": "completed"
    },
    "tags": []
   },
   "outputs": [],
   "source": [
    "%load_ext autoreload\n",
    "%autoreload 2"
   ]
  },
  {
   "cell_type": "code",
   "execution_count": 5,
   "id": "f83219c0-b2aa-462b-90f0-6127a96c6446",
   "metadata": {
    "execution": {
     "iopub.execute_input": "2024-08-11T18:22:36.833182Z",
     "iopub.status.busy": "2024-08-11T18:22:36.832941Z",
     "iopub.status.idle": "2024-08-11T18:23:54.287563Z",
     "shell.execute_reply": "2024-08-11T18:23:54.287003Z"
    },
    "papermill": {
     "duration": 77.464125,
     "end_time": "2024-08-11T18:23:54.289213",
     "exception": false,
     "start_time": "2024-08-11T18:22:36.825088",
     "status": "completed"
    },
    "tags": []
   },
   "outputs": [],
   "source": [
    "adata = sc.read_h5ad(ED_file)"
   ]
  },
  {
   "cell_type": "code",
   "execution_count": 6,
   "id": "87a513ff-f091-4057-8356-3cbbe0180222",
   "metadata": {
    "execution": {
     "iopub.execute_input": "2024-08-11T18:23:54.308435Z",
     "iopub.status.busy": "2024-08-11T18:23:54.308151Z",
     "iopub.status.idle": "2024-08-11T18:23:54.917580Z",
     "shell.execute_reply": "2024-08-11T18:23:54.916994Z"
    },
    "papermill": {
     "duration": 0.618859,
     "end_time": "2024-08-11T18:23:54.918821",
     "exception": false,
     "start_time": "2024-08-11T18:23:54.299962",
     "status": "completed"
    },
    "tags": []
   },
   "outputs": [
    {
     "data": {
      "text/plain": [
       "AnnData object with n_obs × n_vars = 595603 × 36603\n",
       "    obs: 'Sample', 'Barcode', 'DemuxType_crispr', 'DemuxAssignment_crispr', 'DemuxType_hashing', 'DemuxAssignment_hashing', 'cellline', 'timepoint', 'HTO', 'NGS_ID', 'Biological_replicate', '10Xrun', 'sublibrary', 'gRNA_library_MOI', 'gene_symbol', 'class', 'n_genes_by_counts', 'total_counts', 'total_counts_mt', 'pct_counts_mt', 'total_counts_ribo', 'pct_counts_ribo', 'qc_pass', 'S_score', 'G2M_score', 'phase', 'SCN_class', 'gem'\n",
       "    var: 'Symbol'\n",
       "    uns: 'DemuxAssignment_hashing_colors', 'Sample_colors', '_scvi_manager_uuid', '_scvi_uuid', 'energy_distance', 'leiden_colors', 'neighbors', 'umap'\n",
       "    obsm: 'X_pca', 'X_pca_centered', 'X_pca_sphered', 'X_pca_sphered_Norm', 'X_scVI', 'X_scVI_centered', 'X_umap'\n",
       "    layers: 'counts'\n",
       "    obsp: 'connectivities', 'distances'"
      ]
     },
     "execution_count": 6,
     "metadata": {},
     "output_type": "execute_result"
    }
   ],
   "source": [
    "adata"
   ]
  },
  {
   "cell_type": "code",
   "execution_count": 7,
   "id": "c67bb790-7856-4a60-8b97-6ea3d32bb43a",
   "metadata": {
    "execution": {
     "iopub.execute_input": "2024-08-11T18:23:54.935873Z",
     "iopub.status.busy": "2024-08-11T18:23:54.935561Z",
     "iopub.status.idle": "2024-08-11T18:23:55.022008Z",
     "shell.execute_reply": "2024-08-11T18:23:55.021446Z"
    },
    "papermill": {
     "duration": 0.096926,
     "end_time": "2024-08-11T18:23:55.023785",
     "exception": false,
     "start_time": "2024-08-11T18:23:54.926859",
     "status": "completed"
    },
    "tags": []
   },
   "outputs": [],
   "source": [
    "#adata.obs_names_make_unique()"
   ]
  },
  {
   "cell_type": "markdown",
   "id": "4427038c-fecc-4ab5-a09f-4a61f659721a",
   "metadata": {
    "papermill": {
     "duration": 0.007982,
     "end_time": "2024-08-11T18:23:55.039919",
     "exception": false,
     "start_time": "2024-08-11T18:23:55.031937",
     "status": "completed"
    },
    "tags": []
   },
   "source": [
    "## Filter adata"
   ]
  },
  {
   "cell_type": "code",
   "execution_count": 8,
   "id": "e14087aa-e751-4823-a0f6-e799da210f1b",
   "metadata": {
    "execution": {
     "iopub.execute_input": "2024-08-11T18:23:55.056859Z",
     "iopub.status.busy": "2024-08-11T18:23:55.056460Z",
     "iopub.status.idle": "2024-08-11T18:23:55.143029Z",
     "shell.execute_reply": "2024-08-11T18:23:55.142455Z"
    },
    "papermill": {
     "duration": 0.097021,
     "end_time": "2024-08-11T18:23:55.144759",
     "exception": false,
     "start_time": "2024-08-11T18:23:55.047738",
     "status": "completed"
    },
    "tags": []
   },
   "outputs": [],
   "source": [
    "#adata = adata[adata.obs[\"DemuxAssignment_hashing\"]!=\"POSITIVE_CONTROL\"].copy()"
   ]
  },
  {
   "cell_type": "code",
   "execution_count": 9,
   "id": "6ecaf0d6-5860-40a6-a1c7-b795c3d9c18f",
   "metadata": {
    "execution": {
     "iopub.execute_input": "2024-08-11T18:23:55.162208Z",
     "iopub.status.busy": "2024-08-11T18:23:55.161884Z",
     "iopub.status.idle": "2024-08-11T18:23:55.248383Z",
     "shell.execute_reply": "2024-08-11T18:23:55.247814Z"
    },
    "papermill": {
     "duration": 0.097108,
     "end_time": "2024-08-11T18:23:55.250087",
     "exception": false,
     "start_time": "2024-08-11T18:23:55.152979",
     "status": "completed"
    },
    "tags": []
   },
   "outputs": [],
   "source": [
    "#adata= adata[~adata.obs.index.duplicated(keep='first')].copy()"
   ]
  },
  {
   "cell_type": "markdown",
   "id": "344df700-9fe1-4f58-ad3c-76836012def9",
   "metadata": {
    "papermill": {
     "duration": 0.007597,
     "end_time": "2024-08-11T18:23:55.265859",
     "exception": false,
     "start_time": "2024-08-11T18:23:55.258262",
     "status": "completed"
    },
    "tags": []
   },
   "source": [
    "## correct gene_symbol for ENSGIDs"
   ]
  },
  {
   "cell_type": "code",
   "execution_count": 10,
   "id": "a21588c8-85d8-4f30-a214-c3537bdf6558",
   "metadata": {
    "execution": {
     "iopub.execute_input": "2024-08-11T18:23:55.281934Z",
     "iopub.status.busy": "2024-08-11T18:23:55.281577Z",
     "iopub.status.idle": "2024-08-11T18:23:55.371567Z",
     "shell.execute_reply": "2024-08-11T18:23:55.371021Z"
    },
    "papermill": {
     "duration": 0.099895,
     "end_time": "2024-08-11T18:23:55.373248",
     "exception": false,
     "start_time": "2024-08-11T18:23:55.273353",
     "status": "completed"
    },
    "tags": []
   },
   "outputs": [],
   "source": [
    "adata.obs['gene_symbol'] = adata.obs['gene_symbol'].apply(lambda x:x.split('_')[0])"
   ]
  },
  {
   "cell_type": "markdown",
   "id": "823dd9da-f1fb-4794-80fd-007220b51666",
   "metadata": {
    "papermill": {
     "duration": 0.007646,
     "end_time": "2024-08-11T18:23:55.389329",
     "exception": false,
     "start_time": "2024-08-11T18:23:55.381683",
     "status": "completed"
    },
    "tags": []
   },
   "source": [
    "## Subsampling NTCs"
   ]
  },
  {
   "cell_type": "code",
   "execution_count": 11,
   "id": "d5b3bbf6-912f-404d-8e7b-7f72fac2743d",
   "metadata": {
    "execution": {
     "iopub.execute_input": "2024-08-11T18:23:55.405185Z",
     "iopub.status.busy": "2024-08-11T18:23:55.404860Z",
     "iopub.status.idle": "2024-08-11T18:23:59.286221Z",
     "shell.execute_reply": "2024-08-11T18:23:59.285657Z"
    },
    "papermill": {
     "duration": 3.891227,
     "end_time": "2024-08-11T18:23:59.287890",
     "exception": false,
     "start_time": "2024-08-11T18:23:55.396663",
     "status": "completed"
    },
    "tags": []
   },
   "outputs": [],
   "source": [
    "NTC = adata[adata.obs[\"gene_symbol\"]==\"NTC\"].copy()"
   ]
  },
  {
   "cell_type": "code",
   "execution_count": 12,
   "id": "ef732a35-c6b1-40d4-a481-957f13c0df20",
   "metadata": {
    "execution": {
     "iopub.execute_input": "2024-08-11T18:23:59.306009Z",
     "iopub.status.busy": "2024-08-11T18:23:59.305729Z",
     "iopub.status.idle": "2024-08-11T18:24:00.377060Z",
     "shell.execute_reply": "2024-08-11T18:24:00.376481Z"
    },
    "papermill": {
     "duration": 1.081631,
     "end_time": "2024-08-11T18:24:00.378770",
     "exception": false,
     "start_time": "2024-08-11T18:23:59.297139",
     "status": "completed"
    },
    "tags": []
   },
   "outputs": [],
   "source": [
    "if n is not None:\n",
    "    NTC = NTC[NTC.obs.sample(n = n).index.copy()].copy()"
   ]
  },
  {
   "cell_type": "code",
   "execution_count": 13,
   "id": "ddfbd238-d92c-4dd3-a784-75a47ddb0b39",
   "metadata": {
    "execution": {
     "iopub.execute_input": "2024-08-11T18:24:00.396577Z",
     "iopub.status.busy": "2024-08-11T18:24:00.396260Z",
     "iopub.status.idle": "2024-08-11T18:24:00.484616Z",
     "shell.execute_reply": "2024-08-11T18:24:00.484131Z"
    },
    "papermill": {
     "duration": 0.09872,
     "end_time": "2024-08-11T18:24:00.485870",
     "exception": false,
     "start_time": "2024-08-11T18:24:00.387150",
     "status": "completed"
    },
    "tags": []
   },
   "outputs": [
    {
     "data": {
      "text/plain": [
       "AnnData object with n_obs × n_vars = 500 × 36603\n",
       "    obs: 'Sample', 'Barcode', 'DemuxType_crispr', 'DemuxAssignment_crispr', 'DemuxType_hashing', 'DemuxAssignment_hashing', 'cellline', 'timepoint', 'HTO', 'NGS_ID', 'Biological_replicate', '10Xrun', 'sublibrary', 'gRNA_library_MOI', 'gene_symbol', 'class', 'n_genes_by_counts', 'total_counts', 'total_counts_mt', 'pct_counts_mt', 'total_counts_ribo', 'pct_counts_ribo', 'qc_pass', 'S_score', 'G2M_score', 'phase', 'SCN_class', 'gem'\n",
       "    var: 'Symbol'\n",
       "    uns: 'DemuxAssignment_hashing_colors', 'Sample_colors', '_scvi_manager_uuid', '_scvi_uuid', 'energy_distance', 'leiden_colors', 'neighbors', 'umap'\n",
       "    obsm: 'X_pca', 'X_pca_centered', 'X_pca_sphered', 'X_pca_sphered_Norm', 'X_scVI', 'X_scVI_centered', 'X_umap'\n",
       "    layers: 'counts'\n",
       "    obsp: 'connectivities', 'distances'"
      ]
     },
     "execution_count": 13,
     "metadata": {},
     "output_type": "execute_result"
    }
   ],
   "source": [
    "NTC"
   ]
  },
  {
   "cell_type": "markdown",
   "id": "e852bb55-4b55-4a7f-9606-dca138c9eacd",
   "metadata": {
    "papermill": {
     "duration": 0.007742,
     "end_time": "2024-08-11T18:24:00.502033",
     "exception": false,
     "start_time": "2024-08-11T18:24:00.494291",
     "status": "completed"
    },
    "tags": []
   },
   "source": [
    "## Create only genes dataframe"
   ]
  },
  {
   "cell_type": "code",
   "execution_count": 14,
   "id": "e4e81638-99fe-42ff-b3fc-e3ffaced7a8d",
   "metadata": {
    "execution": {
     "iopub.execute_input": "2024-08-11T18:24:00.518331Z",
     "iopub.status.busy": "2024-08-11T18:24:00.518031Z",
     "iopub.status.idle": "2024-08-11T18:24:00.606628Z",
     "shell.execute_reply": "2024-08-11T18:24:00.606139Z"
    },
    "papermill": {
     "duration": 0.098471,
     "end_time": "2024-08-11T18:24:00.608110",
     "exception": false,
     "start_time": "2024-08-11T18:24:00.509639",
     "status": "completed"
    },
    "tags": []
   },
   "outputs": [],
   "source": [
    "genes = [el for el in adata.obs['gene_symbol'].unique()]"
   ]
  },
  {
   "cell_type": "code",
   "execution_count": 15,
   "id": "9ea9319e-fa7e-4127-b095-6a687b35a6fd",
   "metadata": {
    "execution": {
     "iopub.execute_input": "2024-08-11T18:24:00.624528Z",
     "iopub.status.busy": "2024-08-11T18:24:00.624286Z",
     "iopub.status.idle": "2024-08-11T18:24:00.708055Z",
     "shell.execute_reply": "2024-08-11T18:24:00.707582Z"
    },
    "papermill": {
     "duration": 0.093253,
     "end_time": "2024-08-11T18:24:00.709305",
     "exception": false,
     "start_time": "2024-08-11T18:24:00.616052",
     "status": "completed"
    },
    "tags": []
   },
   "outputs": [],
   "source": [
    "genes.remove(\"NTC\")"
   ]
  },
  {
   "cell_type": "code",
   "execution_count": 16,
   "id": "f66f0905-2d92-42b8-9cea-8f4098b74630",
   "metadata": {
    "execution": {
     "iopub.execute_input": "2024-08-11T18:24:00.725617Z",
     "iopub.status.busy": "2024-08-11T18:24:00.725385Z",
     "iopub.status.idle": "2024-08-11T18:26:00.002680Z",
     "shell.execute_reply": "2024-08-11T18:26:00.002068Z"
    },
    "papermill": {
     "duration": 119.287202,
     "end_time": "2024-08-11T18:26:00.004316",
     "exception": false,
     "start_time": "2024-08-11T18:24:00.717114",
     "status": "completed"
    },
    "tags": []
   },
   "outputs": [],
   "source": [
    "GENE = adata[adata.obs[\"gene_symbol\"].isin(genes)].copy()"
   ]
  },
  {
   "cell_type": "code",
   "execution_count": 17,
   "id": "14f660d5-34d2-42ff-92b8-fb62a38f4f52",
   "metadata": {
    "execution": {
     "iopub.execute_input": "2024-08-11T18:26:00.025072Z",
     "iopub.status.busy": "2024-08-11T18:26:00.024689Z",
     "iopub.status.idle": "2024-08-11T18:26:00.635559Z",
     "shell.execute_reply": "2024-08-11T18:26:00.635085Z"
    },
    "papermill": {
     "duration": 0.622002,
     "end_time": "2024-08-11T18:26:00.636842",
     "exception": false,
     "start_time": "2024-08-11T18:26:00.014840",
     "status": "completed"
    },
    "tags": []
   },
   "outputs": [
    {
     "data": {
      "text/plain": [
       "AnnData object with n_obs × n_vars = 580627 × 36603\n",
       "    obs: 'Sample', 'Barcode', 'DemuxType_crispr', 'DemuxAssignment_crispr', 'DemuxType_hashing', 'DemuxAssignment_hashing', 'cellline', 'timepoint', 'HTO', 'NGS_ID', 'Biological_replicate', '10Xrun', 'sublibrary', 'gRNA_library_MOI', 'gene_symbol', 'class', 'n_genes_by_counts', 'total_counts', 'total_counts_mt', 'pct_counts_mt', 'total_counts_ribo', 'pct_counts_ribo', 'qc_pass', 'S_score', 'G2M_score', 'phase', 'SCN_class', 'gem'\n",
       "    var: 'Symbol'\n",
       "    uns: 'DemuxAssignment_hashing_colors', 'Sample_colors', '_scvi_manager_uuid', '_scvi_uuid', 'energy_distance', 'leiden_colors', 'neighbors', 'umap'\n",
       "    obsm: 'X_pca', 'X_pca_centered', 'X_pca_sphered', 'X_pca_sphered_Norm', 'X_scVI', 'X_scVI_centered', 'X_umap'\n",
       "    layers: 'counts'\n",
       "    obsp: 'connectivities', 'distances'"
      ]
     },
     "execution_count": 17,
     "metadata": {},
     "output_type": "execute_result"
    }
   ],
   "source": [
    "GENE"
   ]
  },
  {
   "cell_type": "markdown",
   "id": "1620e1f8-a3cb-405d-bffa-a0393fce64d0",
   "metadata": {
    "papermill": {
     "duration": 0.007947,
     "end_time": "2024-08-11T18:26:00.653247",
     "exception": false,
     "start_time": "2024-08-11T18:26:00.645300",
     "status": "completed"
    },
    "tags": []
   },
   "source": [
    "## Concatenate dataframes"
   ]
  },
  {
   "cell_type": "code",
   "execution_count": 18,
   "id": "8c9f52b8-f524-4795-b8c7-0d642608d0b3",
   "metadata": {
    "execution": {
     "iopub.execute_input": "2024-08-11T18:26:00.670266Z",
     "iopub.status.busy": "2024-08-11T18:26:00.669830Z",
     "iopub.status.idle": "2024-08-11T18:27:11.875502Z",
     "shell.execute_reply": "2024-08-11T18:27:11.874938Z"
    },
    "papermill": {
     "duration": 71.216082,
     "end_time": "2024-08-11T18:27:11.877203",
     "exception": false,
     "start_time": "2024-08-11T18:26:00.661121",
     "status": "completed"
    },
    "tags": []
   },
   "outputs": [
    {
     "name": "stderr",
     "output_type": "stream",
     "text": [
      "/apps/user/gpy/envs/dev/GPUy310pascal/lib/python3.10/site-packages/anndata/_core/anndata.py:1805: FutureWarning: The AnnData.concatenate method is deprecated in favour of the anndata.concat function. Please use anndata.concat instead.\n",
      "\n",
      "See the tutorial for concat at: https://anndata.readthedocs.io/en/latest/concatenation.html\n",
      "  warnings.warn(\n"
     ]
    }
   ],
   "source": [
    "c = NTC.concatenate(GENE)"
   ]
  },
  {
   "cell_type": "code",
   "execution_count": 19,
   "id": "8cdbf30e-97ad-459d-99b6-14863644eaaf",
   "metadata": {
    "execution": {
     "iopub.execute_input": "2024-08-11T18:27:11.898254Z",
     "iopub.status.busy": "2024-08-11T18:27:11.897931Z",
     "iopub.status.idle": "2024-08-11T18:27:12.507426Z",
     "shell.execute_reply": "2024-08-11T18:27:12.506754Z"
    },
    "papermill": {
     "duration": 0.620238,
     "end_time": "2024-08-11T18:27:12.508663",
     "exception": false,
     "start_time": "2024-08-11T18:27:11.888425",
     "status": "completed"
    },
    "tags": []
   },
   "outputs": [
    {
     "data": {
      "text/plain": [
       "AnnData object with n_obs × n_vars = 581127 × 36603\n",
       "    obs: 'Sample', 'Barcode', 'DemuxType_crispr', 'DemuxAssignment_crispr', 'DemuxType_hashing', 'DemuxAssignment_hashing', 'cellline', 'timepoint', 'HTO', 'NGS_ID', 'Biological_replicate', '10Xrun', 'sublibrary', 'gRNA_library_MOI', 'gene_symbol', 'class', 'n_genes_by_counts', 'total_counts', 'total_counts_mt', 'pct_counts_mt', 'total_counts_ribo', 'pct_counts_ribo', 'qc_pass', 'S_score', 'G2M_score', 'phase', 'SCN_class', 'gem', 'batch'\n",
       "    var: 'Symbol'\n",
       "    obsm: 'X_pca', 'X_pca_centered', 'X_pca_sphered', 'X_pca_sphered_Norm', 'X_scVI', 'X_scVI_centered', 'X_umap'\n",
       "    layers: 'counts'"
      ]
     },
     "execution_count": 19,
     "metadata": {},
     "output_type": "execute_result"
    }
   ],
   "source": [
    "c"
   ]
  },
  {
   "cell_type": "markdown",
   "id": "3db08d9b-28f8-430a-ad74-56547d569cc6",
   "metadata": {
    "papermill": {
     "duration": 0.008135,
     "end_time": "2024-08-11T18:27:12.526364",
     "exception": false,
     "start_time": "2024-08-11T18:27:12.518229",
     "status": "completed"
    },
    "tags": []
   },
   "source": [
    "## Create dictionary with NTCs. Pool them first"
   ]
  },
  {
   "cell_type": "markdown",
   "id": "3d007d11-9219-4c2b-8e0e-2ba51654666c",
   "metadata": {
    "papermill": {
     "duration": 0.008045,
     "end_time": "2024-08-11T18:27:12.542442",
     "exception": false,
     "start_time": "2024-08-11T18:27:12.534397",
     "status": "completed"
    },
    "tags": []
   },
   "source": [
    "### This is to calculate consistency among NTCs"
   ]
  },
  {
   "cell_type": "code",
   "execution_count": 20,
   "id": "759879c3-9623-418f-a374-184854b075f7",
   "metadata": {
    "execution": {
     "iopub.execute_input": "2024-08-11T18:27:12.559403Z",
     "iopub.status.busy": "2024-08-11T18:27:12.559156Z",
     "iopub.status.idle": "2024-08-11T18:27:12.643881Z",
     "shell.execute_reply": "2024-08-11T18:27:12.643426Z"
    },
    "papermill": {
     "duration": 0.094748,
     "end_time": "2024-08-11T18:27:12.645202",
     "exception": false,
     "start_time": "2024-08-11T18:27:12.550454",
     "status": "completed"
    },
    "tags": []
   },
   "outputs": [],
   "source": [
    "ntcs_perturbations = [el for el in NTC.obs['DemuxAssignment_crispr'].unique()]"
   ]
  },
  {
   "cell_type": "markdown",
   "id": "4f2fe9be-a67e-4bd0-8833-013a6ae94b65",
   "metadata": {
    "papermill": {
     "duration": 0.008034,
     "end_time": "2024-08-11T18:27:12.661526",
     "exception": false,
     "start_time": "2024-08-11T18:27:12.653492",
     "status": "completed"
    },
    "tags": []
   },
   "source": [
    "### Separate NTCs"
   ]
  },
  {
   "cell_type": "code",
   "execution_count": 21,
   "id": "1b9d701c-728b-4049-bbdf-67e86c9ce513",
   "metadata": {
    "execution": {
     "iopub.execute_input": "2024-08-11T18:27:12.678682Z",
     "iopub.status.busy": "2024-08-11T18:27:12.678329Z",
     "iopub.status.idle": "2024-08-11T18:27:14.088035Z",
     "shell.execute_reply": "2024-08-11T18:27:14.087473Z"
    },
    "papermill": {
     "duration": 1.420149,
     "end_time": "2024-08-11T18:27:14.089744",
     "exception": false,
     "start_time": "2024-08-11T18:27:12.669595",
     "status": "completed"
    },
    "tags": []
   },
   "outputs": [],
   "source": [
    "ntcs = {}\n",
    "\n",
    "for el in ntcs_perturbations:\n",
    "    v = eng.get_values_umap(c, 'DemuxAssignment_crispr', el)\n",
    "    ntcs[el] = c[v].obsm[embeddings_key]"
   ]
  },
  {
   "cell_type": "code",
   "execution_count": 22,
   "id": "08e0b604-fb1b-44a7-925b-ad08fbd328c3",
   "metadata": {
    "execution": {
     "iopub.execute_input": "2024-08-11T18:27:14.108579Z",
     "iopub.status.busy": "2024-08-11T18:27:14.108262Z",
     "iopub.status.idle": "2024-08-11T18:27:38.097043Z",
     "shell.execute_reply": "2024-08-11T18:27:38.096479Z"
    },
    "papermill": {
     "duration": 23.999981,
     "end_time": "2024-08-11T18:27:38.098696",
     "exception": false,
     "start_time": "2024-08-11T18:27:14.098715",
     "status": "completed"
    },
    "tags": []
   },
   "outputs": [],
   "source": [
    "pert = {}\n",
    "\n",
    "for el in genes:\n",
    "    v = eng.get_values_umap(c, 'gene_symbol', el)\n",
    "    pert[el] = c[v].obsm[embeddings_key]"
   ]
  },
  {
   "cell_type": "code",
   "execution_count": 23,
   "id": "a639287c-e287-4cff-949c-990293ea24ab",
   "metadata": {
    "execution": {
     "iopub.execute_input": "2024-08-11T18:27:38.117840Z",
     "iopub.status.busy": "2024-08-11T18:27:38.117581Z",
     "iopub.status.idle": "2024-08-11T18:27:38.208383Z",
     "shell.execute_reply": "2024-08-11T18:27:38.207904Z"
    },
    "papermill": {
     "duration": 0.101412,
     "end_time": "2024-08-11T18:27:38.209834",
     "exception": false,
     "start_time": "2024-08-11T18:27:38.108422",
     "status": "completed"
    },
    "tags": []
   },
   "outputs": [],
   "source": [
    "ntcs_pool = {}\n",
    "W = eng.get_values_umap(c, 'gene_symbol', \"NTC\")\n",
    "ntcs_pool['pool'] = c[W].obsm[embeddings_key]"
   ]
  },
  {
   "cell_type": "markdown",
   "id": "e8298243-b82b-4b30-b9a3-1f619c0e9eb9",
   "metadata": {
    "papermill": {
     "duration": 0.008155,
     "end_time": "2024-08-11T18:27:38.226549",
     "exception": false,
     "start_time": "2024-08-11T18:27:38.218394",
     "status": "completed"
    },
    "tags": []
   },
   "source": [
    "## Run energy distance on individual NTCs to find inconsitent NTCs"
   ]
  },
  {
   "cell_type": "code",
   "execution_count": 24,
   "id": "f313f006-4df3-49fe-8058-8234ceb17586",
   "metadata": {
    "execution": {
     "iopub.execute_input": "2024-08-11T18:27:38.243825Z",
     "iopub.status.busy": "2024-08-11T18:27:38.243576Z",
     "iopub.status.idle": "2024-08-11T18:29:48.371027Z",
     "shell.execute_reply": "2024-08-11T18:29:48.370379Z"
    },
    "papermill": {
     "duration": 130.138012,
     "end_time": "2024-08-11T18:29:48.372698",
     "exception": false,
     "start_time": "2024-08-11T18:27:38.234686",
     "status": "completed"
    },
    "tags": []
   },
   "outputs": [],
   "source": [
    "ntc_consistency = eng.run(\n",
    "    client = Client(processes=True, n_workers=32),\n",
    "    perturbations = ntcs, \n",
    "    controls = ntcs_pool,\n",
    "    pool = 'No'\n",
    ")"
   ]
  },
  {
   "cell_type": "code",
   "execution_count": 25,
   "id": "75c65362-7a85-415f-b419-577dd8f1ea9c",
   "metadata": {
    "execution": {
     "iopub.execute_input": "2024-08-11T18:29:48.393561Z",
     "iopub.status.busy": "2024-08-11T18:29:48.393227Z",
     "iopub.status.idle": "2024-08-11T18:29:49.109200Z",
     "shell.execute_reply": "2024-08-11T18:29:49.108601Z"
    },
    "papermill": {
     "duration": 0.727294,
     "end_time": "2024-08-11T18:29:49.110731",
     "exception": false,
     "start_time": "2024-08-11T18:29:48.383437",
     "status": "completed"
    },
    "tags": []
   },
   "outputs": [],
   "source": [
    "ntc_consistency = pd.DataFrame(ntc_consistency).T"
   ]
  },
  {
   "cell_type": "code",
   "execution_count": 26,
   "id": "a741ab8d-effb-4f24-8b79-11495bf6bda8",
   "metadata": {
    "execution": {
     "iopub.execute_input": "2024-08-11T18:29:49.129890Z",
     "iopub.status.busy": "2024-08-11T18:29:49.129474Z",
     "iopub.status.idle": "2024-08-11T18:29:49.240325Z",
     "shell.execute_reply": "2024-08-11T18:29:49.239715Z"
    },
    "papermill": {
     "duration": 0.121622,
     "end_time": "2024-08-11T18:29:49.241671",
     "exception": false,
     "start_time": "2024-08-11T18:29:49.120049",
     "status": "completed"
    },
    "tags": []
   },
   "outputs": [
    {
     "data": {
      "text/html": [
       "<div>\n",
       "<style scoped>\n",
       "    .dataframe tbody tr th:only-of-type {\n",
       "        vertical-align: middle;\n",
       "    }\n",
       "\n",
       "    .dataframe tbody tr th {\n",
       "        vertical-align: top;\n",
       "    }\n",
       "\n",
       "    .dataframe thead th {\n",
       "        text-align: right;\n",
       "    }\n",
       "</style>\n",
       "<table border=\"1\" class=\"dataframe\">\n",
       "  <thead>\n",
       "    <tr style=\"text-align: right;\">\n",
       "      <th></th>\n",
       "      <th>pvalue</th>\n",
       "      <th>statistic</th>\n",
       "      <th>control_key</th>\n",
       "    </tr>\n",
       "  </thead>\n",
       "  <tbody>\n",
       "    <tr>\n",
       "      <th>NTC_271</th>\n",
       "      <td>0.651</td>\n",
       "      <td>1.894442</td>\n",
       "      <td>pool</td>\n",
       "    </tr>\n",
       "    <tr>\n",
       "      <th>NTC_215</th>\n",
       "      <td>0.903</td>\n",
       "      <td>3.201169</td>\n",
       "      <td>pool</td>\n",
       "    </tr>\n",
       "    <tr>\n",
       "      <th>NTC_92</th>\n",
       "      <td>0.417</td>\n",
       "      <td>4.137072</td>\n",
       "      <td>pool</td>\n",
       "    </tr>\n",
       "    <tr>\n",
       "      <th>NTC_145</th>\n",
       "      <td>0.599</td>\n",
       "      <td>3.805839</td>\n",
       "      <td>pool</td>\n",
       "    </tr>\n",
       "    <tr>\n",
       "      <th>NTC_55</th>\n",
       "      <td>0.459</td>\n",
       "      <td>4.004814</td>\n",
       "      <td>pool</td>\n",
       "    </tr>\n",
       "    <tr>\n",
       "      <th>...</th>\n",
       "      <td>...</td>\n",
       "      <td>...</td>\n",
       "      <td>...</td>\n",
       "    </tr>\n",
       "    <tr>\n",
       "      <th>NTC_36</th>\n",
       "      <td>0.449</td>\n",
       "      <td>4.00103</td>\n",
       "      <td>pool</td>\n",
       "    </tr>\n",
       "    <tr>\n",
       "      <th>NTC_64</th>\n",
       "      <td>0.671</td>\n",
       "      <td>1.87375</td>\n",
       "      <td>pool</td>\n",
       "    </tr>\n",
       "    <tr>\n",
       "      <th>NTC_210</th>\n",
       "      <td>0.169</td>\n",
       "      <td>4.644193</td>\n",
       "      <td>pool</td>\n",
       "    </tr>\n",
       "    <tr>\n",
       "      <th>NTC_406</th>\n",
       "      <td>0.21</td>\n",
       "      <td>4.455957</td>\n",
       "      <td>pool</td>\n",
       "    </tr>\n",
       "    <tr>\n",
       "      <th>NTC_137</th>\n",
       "      <td>0.669</td>\n",
       "      <td>3.708899</td>\n",
       "      <td>pool</td>\n",
       "    </tr>\n",
       "  </tbody>\n",
       "</table>\n",
       "<p>307 rows × 3 columns</p>\n",
       "</div>"
      ],
      "text/plain": [
       "        pvalue statistic control_key\n",
       "NTC_271  0.651  1.894442        pool\n",
       "NTC_215  0.903  3.201169        pool\n",
       "NTC_92   0.417  4.137072        pool\n",
       "NTC_145  0.599  3.805839        pool\n",
       "NTC_55   0.459  4.004814        pool\n",
       "...        ...       ...         ...\n",
       "NTC_36   0.449   4.00103        pool\n",
       "NTC_64   0.671   1.87375        pool\n",
       "NTC_210  0.169  4.644193        pool\n",
       "NTC_406   0.21  4.455957        pool\n",
       "NTC_137  0.669  3.708899        pool\n",
       "\n",
       "[307 rows x 3 columns]"
      ]
     },
     "execution_count": 26,
     "metadata": {},
     "output_type": "execute_result"
    }
   ],
   "source": [
    "ntc_consistency"
   ]
  },
  {
   "cell_type": "markdown",
   "id": "4b985905-981d-41e2-b609-440fe5f4aa1d",
   "metadata": {
    "papermill": {
     "duration": 0.008588,
     "end_time": "2024-08-11T18:29:49.259418",
     "exception": false,
     "start_time": "2024-08-11T18:29:49.250830",
     "status": "completed"
    },
    "tags": []
   },
   "source": [
    "### Show only inconsistent NTCs with pVAL lower than the defined cut-off"
   ]
  },
  {
   "cell_type": "code",
   "execution_count": 27,
   "id": "a2d36f5b-094c-4297-ad11-d1d17efc4317",
   "metadata": {
    "execution": {
     "iopub.execute_input": "2024-08-11T18:29:49.277835Z",
     "iopub.status.busy": "2024-08-11T18:29:49.277447Z",
     "iopub.status.idle": "2024-08-11T18:29:49.377882Z",
     "shell.execute_reply": "2024-08-11T18:29:49.377201Z"
    },
    "papermill": {
     "duration": 0.111258,
     "end_time": "2024-08-11T18:29:49.379089",
     "exception": false,
     "start_time": "2024-08-11T18:29:49.267831",
     "status": "completed"
    },
    "tags": []
   },
   "outputs": [
    {
     "data": {
      "text/html": [
       "<div>\n",
       "<style scoped>\n",
       "    .dataframe tbody tr th:only-of-type {\n",
       "        vertical-align: middle;\n",
       "    }\n",
       "\n",
       "    .dataframe tbody tr th {\n",
       "        vertical-align: top;\n",
       "    }\n",
       "\n",
       "    .dataframe thead th {\n",
       "        text-align: right;\n",
       "    }\n",
       "</style>\n",
       "<table border=\"1\" class=\"dataframe\">\n",
       "  <thead>\n",
       "    <tr style=\"text-align: right;\">\n",
       "      <th></th>\n",
       "      <th>pvalue</th>\n",
       "      <th>statistic</th>\n",
       "      <th>control_key</th>\n",
       "    </tr>\n",
       "  </thead>\n",
       "  <tbody>\n",
       "    <tr>\n",
       "      <th>NTC_348</th>\n",
       "      <td>0.001</td>\n",
       "      <td>1.185703</td>\n",
       "      <td>pool</td>\n",
       "    </tr>\n",
       "    <tr>\n",
       "      <th>NTC_21</th>\n",
       "      <td>0.012</td>\n",
       "      <td>3.233792</td>\n",
       "      <td>pool</td>\n",
       "    </tr>\n",
       "    <tr>\n",
       "      <th>NTC_485</th>\n",
       "      <td>0.001</td>\n",
       "      <td>4.043175</td>\n",
       "      <td>pool</td>\n",
       "    </tr>\n",
       "    <tr>\n",
       "      <th>NTC_225</th>\n",
       "      <td>0.016</td>\n",
       "      <td>6.279076</td>\n",
       "      <td>pool</td>\n",
       "    </tr>\n",
       "    <tr>\n",
       "      <th>NTC_194</th>\n",
       "      <td>0.032</td>\n",
       "      <td>6.207412</td>\n",
       "      <td>pool</td>\n",
       "    </tr>\n",
       "    <tr>\n",
       "      <th>NTC_49</th>\n",
       "      <td>0.023</td>\n",
       "      <td>1.958308</td>\n",
       "      <td>pool</td>\n",
       "    </tr>\n",
       "    <tr>\n",
       "      <th>NTC_57</th>\n",
       "      <td>0.043</td>\n",
       "      <td>5.987087</td>\n",
       "      <td>pool</td>\n",
       "    </tr>\n",
       "    <tr>\n",
       "      <th>NTC_208</th>\n",
       "      <td>0.043</td>\n",
       "      <td>2.738386</td>\n",
       "      <td>pool</td>\n",
       "    </tr>\n",
       "    <tr>\n",
       "      <th>NTC_32</th>\n",
       "      <td>0.03</td>\n",
       "      <td>1.814833</td>\n",
       "      <td>pool</td>\n",
       "    </tr>\n",
       "    <tr>\n",
       "      <th>NTC_282</th>\n",
       "      <td>0.019</td>\n",
       "      <td>6.514082</td>\n",
       "      <td>pool</td>\n",
       "    </tr>\n",
       "    <tr>\n",
       "      <th>NTC_151</th>\n",
       "      <td>0.028</td>\n",
       "      <td>6.719741</td>\n",
       "      <td>pool</td>\n",
       "    </tr>\n",
       "    <tr>\n",
       "      <th>NTC_153</th>\n",
       "      <td>0.005</td>\n",
       "      <td>3.295054</td>\n",
       "      <td>pool</td>\n",
       "    </tr>\n",
       "    <tr>\n",
       "      <th>NTC_182</th>\n",
       "      <td>0.036</td>\n",
       "      <td>1.845155</td>\n",
       "      <td>pool</td>\n",
       "    </tr>\n",
       "    <tr>\n",
       "      <th>NTC_364</th>\n",
       "      <td>0.03</td>\n",
       "      <td>6.065509</td>\n",
       "      <td>pool</td>\n",
       "    </tr>\n",
       "    <tr>\n",
       "      <th>NTC_52</th>\n",
       "      <td>0.01</td>\n",
       "      <td>7.201557</td>\n",
       "      <td>pool</td>\n",
       "    </tr>\n",
       "  </tbody>\n",
       "</table>\n",
       "</div>"
      ],
      "text/plain": [
       "        pvalue statistic control_key\n",
       "NTC_348  0.001  1.185703        pool\n",
       "NTC_21   0.012  3.233792        pool\n",
       "NTC_485  0.001  4.043175        pool\n",
       "NTC_225  0.016  6.279076        pool\n",
       "NTC_194  0.032  6.207412        pool\n",
       "NTC_49   0.023  1.958308        pool\n",
       "NTC_57   0.043  5.987087        pool\n",
       "NTC_208  0.043  2.738386        pool\n",
       "NTC_32    0.03  1.814833        pool\n",
       "NTC_282  0.019  6.514082        pool\n",
       "NTC_151  0.028  6.719741        pool\n",
       "NTC_153  0.005  3.295054        pool\n",
       "NTC_182  0.036  1.845155        pool\n",
       "NTC_364   0.03  6.065509        pool\n",
       "NTC_52    0.01  7.201557        pool"
      ]
     },
     "execution_count": 27,
     "metadata": {},
     "output_type": "execute_result"
    }
   ],
   "source": [
    "ntc_consistency[ntc_consistency['pvalue']<=pVAL]"
   ]
  },
  {
   "cell_type": "code",
   "execution_count": 28,
   "id": "89370a8b-d948-42f8-854a-c7943ded3292",
   "metadata": {
    "execution": {
     "iopub.execute_input": "2024-08-11T18:29:49.398358Z",
     "iopub.status.busy": "2024-08-11T18:29:49.397824Z",
     "iopub.status.idle": "2024-08-11T18:29:49.497961Z",
     "shell.execute_reply": "2024-08-11T18:29:49.497085Z"
    },
    "papermill": {
     "duration": 0.110816,
     "end_time": "2024-08-11T18:29:49.499107",
     "exception": false,
     "start_time": "2024-08-11T18:29:49.388291",
     "status": "completed"
    },
    "tags": []
   },
   "outputs": [
    {
     "data": {
      "text/plain": [
       "['NTC_348', 'NTC_485', 'NTC_153', 'NTC_52']"
      ]
     },
     "execution_count": 28,
     "metadata": {},
     "output_type": "execute_result"
    }
   ],
   "source": [
    "rm_ntcs = ntc_consistency[ntc_consistency['pvalue']<=0.01].index.tolist()\n",
    "rm_ntcs"
   ]
  },
  {
   "cell_type": "code",
   "execution_count": 29,
   "id": "c32216d2-0ecb-459b-8faf-62811c707201",
   "metadata": {
    "execution": {
     "iopub.execute_input": "2024-08-11T18:29:49.518531Z",
     "iopub.status.busy": "2024-08-11T18:29:49.518272Z",
     "iopub.status.idle": "2024-08-11T18:29:49.638443Z",
     "shell.execute_reply": "2024-08-11T18:29:49.637838Z"
    },
    "papermill": {
     "duration": 0.131559,
     "end_time": "2024-08-11T18:29:49.640089",
     "exception": false,
     "start_time": "2024-08-11T18:29:49.508530",
     "status": "completed"
    },
    "tags": []
   },
   "outputs": [],
   "source": [
    "c.obs['rm_ntc'] = 'No'\n",
    "c.obs.loc[c.obs['DemuxAssignment_crispr'].isin(rm_ntcs), 'rm_ntc'] = 'Yes'"
   ]
  },
  {
   "cell_type": "code",
   "execution_count": 30,
   "id": "f4e9a6c3-986b-4f23-9501-eb7fe38fe33b",
   "metadata": {
    "execution": {
     "iopub.execute_input": "2024-08-11T18:29:49.659677Z",
     "iopub.status.busy": "2024-08-11T18:29:49.659391Z",
     "iopub.status.idle": "2024-08-11T18:29:50.369591Z",
     "shell.execute_reply": "2024-08-11T18:29:50.368951Z"
    },
    "papermill": {
     "duration": 0.72104,
     "end_time": "2024-08-11T18:29:50.370771",
     "exception": false,
     "start_time": "2024-08-11T18:29:49.649731",
     "status": "completed"
    },
    "tags": []
   },
   "outputs": [
    {
     "data": {
      "text/plain": [
       "View of AnnData object with n_obs × n_vars = 581117 × 36603\n",
       "    obs: 'Sample', 'Barcode', 'DemuxType_crispr', 'DemuxAssignment_crispr', 'DemuxType_hashing', 'DemuxAssignment_hashing', 'cellline', 'timepoint', 'HTO', 'NGS_ID', 'Biological_replicate', '10Xrun', 'sublibrary', 'gRNA_library_MOI', 'gene_symbol', 'class', 'n_genes_by_counts', 'total_counts', 'total_counts_mt', 'pct_counts_mt', 'total_counts_ribo', 'pct_counts_ribo', 'qc_pass', 'S_score', 'G2M_score', 'phase', 'SCN_class', 'gem', 'batch', 'rm_ntc'\n",
       "    var: 'Symbol'\n",
       "    obsm: 'X_pca', 'X_pca_centered', 'X_pca_sphered', 'X_pca_sphered_Norm', 'X_scVI', 'X_scVI_centered', 'X_umap'\n",
       "    layers: 'counts'"
      ]
     },
     "execution_count": 30,
     "metadata": {},
     "output_type": "execute_result"
    }
   ],
   "source": [
    "c = c[c.obs['rm_ntc']=='No']\n",
    "c"
   ]
  },
  {
   "cell_type": "markdown",
   "id": "d898b8e3-daf4-4ef0-8603-d7ad905dd295",
   "metadata": {
    "papermill": {
     "duration": 0.009634,
     "end_time": "2024-08-11T18:29:50.390392",
     "exception": false,
     "start_time": "2024-08-11T18:29:50.380758",
     "status": "completed"
    },
    "tags": []
   },
   "source": [
    "### Update NTCs"
   ]
  },
  {
   "cell_type": "code",
   "execution_count": 31,
   "id": "0406f3af-84bb-4ec8-9dd3-405ad1576d16",
   "metadata": {
    "execution": {
     "iopub.execute_input": "2024-08-11T18:29:50.410732Z",
     "iopub.status.busy": "2024-08-11T18:29:50.410389Z",
     "iopub.status.idle": "2024-08-11T18:29:50.519781Z",
     "shell.execute_reply": "2024-08-11T18:29:50.519155Z"
    },
    "papermill": {
     "duration": 0.121468,
     "end_time": "2024-08-11T18:29:50.521380",
     "exception": false,
     "start_time": "2024-08-11T18:29:50.399912",
     "status": "completed"
    },
    "tags": []
   },
   "outputs": [],
   "source": [
    "ntcs_pool = {}\n",
    "W = eng.get_values_umap(c, 'gene_symbol', \"NTC\")\n",
    "ntcs_pool['pool'] = c[W].obsm[embeddings_key]"
   ]
  },
  {
   "cell_type": "markdown",
   "id": "6803e411-891f-43f9-a4a7-a3d260e2f7ba",
   "metadata": {
    "papermill": {
     "duration": 0.009578,
     "end_time": "2024-08-11T18:29:50.541104",
     "exception": false,
     "start_time": "2024-08-11T18:29:50.531526",
     "status": "completed"
    },
    "tags": []
   },
   "source": [
    "## Calculate actual EnergyDistance as ed"
   ]
  },
  {
   "cell_type": "code",
   "execution_count": 32,
   "id": "b96d7aa1-6b2a-4a9c-8121-4687091ea46c",
   "metadata": {
    "execution": {
     "iopub.execute_input": "2024-08-11T18:29:50.561677Z",
     "iopub.status.busy": "2024-08-11T18:29:50.561311Z",
     "iopub.status.idle": "2024-08-11T19:08:45.617850Z",
     "shell.execute_reply": "2024-08-11T19:08:45.617078Z"
    },
    "papermill": {
     "duration": 2335.068869,
     "end_time": "2024-08-11T19:08:45.619521",
     "exception": false,
     "start_time": "2024-08-11T18:29:50.550652",
     "status": "completed"
    },
    "tags": []
   },
   "outputs": [
    {
     "name": "stderr",
     "output_type": "stream",
     "text": [
      "/apps/user/gpy/envs/dev/GPUy310pascal/lib/python3.10/site-packages/distributed/node.py:182: UserWarning: Port 8787 is already in use.\n",
      "Perhaps you already have a cluster running?\n",
      "Hosting the HTTP server on port 33238 instead\n",
      "  warnings.warn(\n"
     ]
    }
   ],
   "source": [
    "ed = eng.run(\n",
    "    client = Client(processes=True, n_workers=32),\n",
    "    perturbations = pert, \n",
    "    controls = ntcs_pool,\n",
    "    pool = 'Yes'\n",
    ")"
   ]
  },
  {
   "cell_type": "markdown",
   "id": "e4ddeef4-8e83-4c14-b77c-6363890d3271",
   "metadata": {
    "papermill": {
     "duration": 0.009987,
     "end_time": "2024-08-11T19:08:45.663583",
     "exception": false,
     "start_time": "2024-08-11T19:08:45.653596",
     "status": "completed"
    },
    "tags": []
   },
   "source": [
    "### Restart the client before new Computations with the refreshed client"
   ]
  },
  {
   "cell_type": "code",
   "execution_count": 33,
   "id": "b21629f5-2e79-4b56-a581-177a7e4d26b6",
   "metadata": {
    "execution": {
     "iopub.execute_input": "2024-08-11T19:08:45.687871Z",
     "iopub.status.busy": "2024-08-11T19:08:45.687585Z",
     "iopub.status.idle": "2024-08-11T19:08:46.887626Z",
     "shell.execute_reply": "2024-08-11T19:08:46.886464Z"
    },
    "papermill": {
     "duration": 1.21577,
     "end_time": "2024-08-11T19:08:46.889210",
     "exception": false,
     "start_time": "2024-08-11T19:08:45.673440",
     "status": "completed"
    },
    "tags": []
   },
   "outputs": [],
   "source": [
    "#client = Client()\n",
    "#client.restart()"
   ]
  },
  {
   "cell_type": "code",
   "execution_count": 34,
   "id": "5c73b148-ed58-4dcd-8355-2b8a1cbdf9f2",
   "metadata": {
    "execution": {
     "iopub.execute_input": "2024-08-11T19:08:46.910380Z",
     "iopub.status.busy": "2024-08-11T19:08:46.909913Z",
     "iopub.status.idle": "2024-08-11T19:08:47.156790Z",
     "shell.execute_reply": "2024-08-11T19:08:47.155763Z"
    },
    "papermill": {
     "duration": 0.258958,
     "end_time": "2024-08-11T19:08:47.158262",
     "exception": false,
     "start_time": "2024-08-11T19:08:46.899304",
     "status": "completed"
    },
    "tags": []
   },
   "outputs": [
    {
     "data": {
      "text/html": [
       "<div>\n",
       "<style scoped>\n",
       "    .dataframe tbody tr th:only-of-type {\n",
       "        vertical-align: middle;\n",
       "    }\n",
       "\n",
       "    .dataframe tbody tr th {\n",
       "        vertical-align: top;\n",
       "    }\n",
       "\n",
       "    .dataframe thead th {\n",
       "        text-align: right;\n",
       "    }\n",
       "</style>\n",
       "<table border=\"1\" class=\"dataframe\">\n",
       "  <thead>\n",
       "    <tr style=\"text-align: right;\">\n",
       "      <th></th>\n",
       "      <th>pvalue</th>\n",
       "      <th>statistic</th>\n",
       "      <th>control_key</th>\n",
       "    </tr>\n",
       "  </thead>\n",
       "  <tbody>\n",
       "    <tr>\n",
       "      <th>ARL6IP6</th>\n",
       "      <td>0.0</td>\n",
       "      <td>0.121112</td>\n",
       "      <td>pool</td>\n",
       "    </tr>\n",
       "    <tr>\n",
       "      <th>ILF3</th>\n",
       "      <td>0.0</td>\n",
       "      <td>0.145548</td>\n",
       "      <td>pool</td>\n",
       "    </tr>\n",
       "    <tr>\n",
       "      <th>KARS1</th>\n",
       "      <td>0.0</td>\n",
       "      <td>0.786361</td>\n",
       "      <td>pool</td>\n",
       "    </tr>\n",
       "    <tr>\n",
       "      <th>PNMA8C</th>\n",
       "      <td>0.0</td>\n",
       "      <td>0.08843</td>\n",
       "      <td>pool</td>\n",
       "    </tr>\n",
       "    <tr>\n",
       "      <th>BOD1L1</th>\n",
       "      <td>0.0</td>\n",
       "      <td>0.109861</td>\n",
       "      <td>pool</td>\n",
       "    </tr>\n",
       "    <tr>\n",
       "      <th>...</th>\n",
       "      <td>...</td>\n",
       "      <td>...</td>\n",
       "      <td>...</td>\n",
       "    </tr>\n",
       "    <tr>\n",
       "      <th>TRIP4</th>\n",
       "      <td>0.992</td>\n",
       "      <td>0.032112</td>\n",
       "      <td>pool</td>\n",
       "    </tr>\n",
       "    <tr>\n",
       "      <th>RHNO1</th>\n",
       "      <td>0.994</td>\n",
       "      <td>0.029198</td>\n",
       "      <td>pool</td>\n",
       "    </tr>\n",
       "    <tr>\n",
       "      <th>LRRC34</th>\n",
       "      <td>0.995</td>\n",
       "      <td>0.033617</td>\n",
       "      <td>pool</td>\n",
       "    </tr>\n",
       "    <tr>\n",
       "      <th>ARSF</th>\n",
       "      <td>0.997</td>\n",
       "      <td>0.035844</td>\n",
       "      <td>pool</td>\n",
       "    </tr>\n",
       "    <tr>\n",
       "      <th>TWIST2</th>\n",
       "      <td>0.998</td>\n",
       "      <td>0.032107</td>\n",
       "      <td>pool</td>\n",
       "    </tr>\n",
       "  </tbody>\n",
       "</table>\n",
       "<p>4974 rows × 3 columns</p>\n",
       "</div>"
      ],
      "text/plain": [
       "        pvalue statistic control_key\n",
       "ARL6IP6    0.0  0.121112        pool\n",
       "ILF3       0.0  0.145548        pool\n",
       "KARS1      0.0  0.786361        pool\n",
       "PNMA8C     0.0   0.08843        pool\n",
       "BOD1L1     0.0  0.109861        pool\n",
       "...        ...       ...         ...\n",
       "TRIP4    0.992  0.032112        pool\n",
       "RHNO1    0.994  0.029198        pool\n",
       "LRRC34   0.995  0.033617        pool\n",
       "ARSF     0.997  0.035844        pool\n",
       "TWIST2   0.998  0.032107        pool\n",
       "\n",
       "[4974 rows x 3 columns]"
      ]
     },
     "execution_count": 34,
     "metadata": {},
     "output_type": "execute_result"
    }
   ],
   "source": [
    "PVAL = pd.DataFrame(ed).T.sort_values(by='pvalue')\n",
    "PVAL"
   ]
  },
  {
   "cell_type": "markdown",
   "id": "32a897ae-b020-4f4c-9fb6-b98b19ab43f6",
   "metadata": {
    "papermill": {
     "duration": 0.009727,
     "end_time": "2024-08-11T19:08:47.178445",
     "exception": false,
     "start_time": "2024-08-11T19:08:47.168718",
     "status": "completed"
    },
    "tags": []
   },
   "source": [
    "#### p-value should be 1/1000 at minimum (for 1000 permutations)"
   ]
  },
  {
   "cell_type": "code",
   "execution_count": 35,
   "id": "34898054-e1cf-4bb8-9105-c7e6c86d8520",
   "metadata": {
    "execution": {
     "iopub.execute_input": "2024-08-11T19:08:47.198835Z",
     "iopub.status.busy": "2024-08-11T19:08:47.198516Z",
     "iopub.status.idle": "2024-08-11T19:08:47.329488Z",
     "shell.execute_reply": "2024-08-11T19:08:47.328477Z"
    },
    "papermill": {
     "duration": 0.143064,
     "end_time": "2024-08-11T19:08:47.331102",
     "exception": false,
     "start_time": "2024-08-11T19:08:47.188038",
     "status": "completed"
    },
    "tags": []
   },
   "outputs": [],
   "source": [
    "PVAL['pvalue'] = PVAL['pvalue'].replace(0,0.001)"
   ]
  },
  {
   "cell_type": "code",
   "execution_count": 36,
   "id": "7288550e-99de-47eb-8025-256728eb7136",
   "metadata": {
    "execution": {
     "iopub.execute_input": "2024-08-11T19:08:47.352527Z",
     "iopub.status.busy": "2024-08-11T19:08:47.352232Z",
     "iopub.status.idle": "2024-08-11T19:08:47.528447Z",
     "shell.execute_reply": "2024-08-11T19:08:47.527856Z"
    },
    "papermill": {
     "duration": 0.188589,
     "end_time": "2024-08-11T19:08:47.529977",
     "exception": false,
     "start_time": "2024-08-11T19:08:47.341388",
     "status": "completed"
    },
    "tags": []
   },
   "outputs": [],
   "source": [
    "PVAL['gene_symbol'] = PVAL.index\n",
    "PVAL.to_csv(out_csv)"
   ]
  },
  {
   "cell_type": "markdown",
   "id": "f66e387d-decd-4193-b455-b69f64132c96",
   "metadata": {
    "papermill": {
     "duration": 0.010009,
     "end_time": "2024-08-11T19:08:47.550429",
     "exception": false,
     "start_time": "2024-08-11T19:08:47.540420",
     "status": "completed"
    },
    "tags": []
   },
   "source": [
    "### Add the energy distance info to adata"
   ]
  },
  {
   "cell_type": "code",
   "execution_count": 37,
   "id": "d44dfcd6-3f10-4689-a3db-d1b628be65fb",
   "metadata": {
    "execution": {
     "iopub.execute_input": "2024-08-11T19:08:47.571590Z",
     "iopub.status.busy": "2024-08-11T19:08:47.571161Z",
     "iopub.status.idle": "2024-08-11T19:08:47.832217Z",
     "shell.execute_reply": "2024-08-11T19:08:47.831276Z"
    },
    "papermill": {
     "duration": 0.273603,
     "end_time": "2024-08-11T19:08:47.833860",
     "exception": false,
     "start_time": "2024-08-11T19:08:47.560257",
     "status": "completed"
    },
    "tags": []
   },
   "outputs": [],
   "source": [
    "ed_df = pd.DataFrame(ed).T.copy()"
   ]
  },
  {
   "cell_type": "code",
   "execution_count": 38,
   "id": "2b688711-ccd5-487e-9ce3-8fb98837375d",
   "metadata": {
    "execution": {
     "iopub.execute_input": "2024-08-11T19:08:47.856333Z",
     "iopub.status.busy": "2024-08-11T19:08:47.856052Z",
     "iopub.status.idle": "2024-08-11T19:08:48.031930Z",
     "shell.execute_reply": "2024-08-11T19:08:48.030854Z"
    },
    "papermill": {
     "duration": 0.18925,
     "end_time": "2024-08-11T19:08:48.033670",
     "exception": false,
     "start_time": "2024-08-11T19:08:47.844420",
     "status": "completed"
    },
    "tags": []
   },
   "outputs": [],
   "source": [
    "ed_df['gene_symbol'] = ed_df.index\n",
    "ed_df=ed_df.reset_index(drop=True)"
   ]
  },
  {
   "cell_type": "code",
   "execution_count": 39,
   "id": "7de3cfb1-65e5-4db0-bccc-d1ea78f480ad",
   "metadata": {
    "execution": {
     "iopub.execute_input": "2024-08-11T19:08:48.055839Z",
     "iopub.status.busy": "2024-08-11T19:08:48.055415Z",
     "iopub.status.idle": "2024-08-11T19:08:48.209582Z",
     "shell.execute_reply": "2024-08-11T19:08:48.208930Z"
    },
    "papermill": {
     "duration": 0.166939,
     "end_time": "2024-08-11T19:08:48.211124",
     "exception": false,
     "start_time": "2024-08-11T19:08:48.044185",
     "status": "completed"
    },
    "tags": []
   },
   "outputs": [],
   "source": [
    "ed_df['pvalue'] = ed_df['pvalue'].replace(0,0.001)"
   ]
  },
  {
   "cell_type": "code",
   "execution_count": 40,
   "id": "7524de3d-fd55-4380-9353-8cb96e1ff450",
   "metadata": {
    "execution": {
     "iopub.execute_input": "2024-08-11T19:08:48.255650Z",
     "iopub.status.busy": "2024-08-11T19:08:48.255279Z",
     "iopub.status.idle": "2024-08-11T19:08:48.380609Z",
     "shell.execute_reply": "2024-08-11T19:08:48.379957Z"
    },
    "papermill": {
     "duration": 0.138502,
     "end_time": "2024-08-11T19:08:48.382284",
     "exception": false,
     "start_time": "2024-08-11T19:08:48.243782",
     "status": "completed"
    },
    "tags": []
   },
   "outputs": [],
   "source": [
    "ed_df = ed_df.rename(columns={\"pvalue\":\"energy_distance_pvalue\",\"statistic\":\"energy_distance_statistic\",\"control_key\":\"energy_distance_control_key\"})"
   ]
  },
  {
   "cell_type": "code",
   "execution_count": 41,
   "id": "dbea9031-c414-4d91-be7d-9db02adcb594",
   "metadata": {
    "execution": {
     "iopub.execute_input": "2024-08-11T19:08:48.403969Z",
     "iopub.status.busy": "2024-08-11T19:08:48.403656Z",
     "iopub.status.idle": "2024-08-11T19:08:49.199404Z",
     "shell.execute_reply": "2024-08-11T19:08:49.198503Z"
    },
    "papermill": {
     "duration": 0.808325,
     "end_time": "2024-08-11T19:08:49.201071",
     "exception": false,
     "start_time": "2024-08-11T19:08:48.392746",
     "status": "completed"
    },
    "tags": []
   },
   "outputs": [],
   "source": [
    "df_uns = adata.obs.reset_index().merge(ed_df, on=\"gene_symbol\", how=\"left\").set_index('index')\n",
    "df_uns.index.name = None"
   ]
  },
  {
   "cell_type": "code",
   "execution_count": 42,
   "id": "87b169e3-c899-4559-a3d8-9b451c8e5e12",
   "metadata": {
    "execution": {
     "iopub.execute_input": "2024-08-11T19:08:49.223419Z",
     "iopub.status.busy": "2024-08-11T19:08:49.222298Z",
     "iopub.status.idle": "2024-08-11T19:08:49.372095Z",
     "shell.execute_reply": "2024-08-11T19:08:49.371240Z"
    },
    "papermill": {
     "duration": 0.162263,
     "end_time": "2024-08-11T19:08:49.373797",
     "exception": false,
     "start_time": "2024-08-11T19:08:49.211534",
     "status": "completed"
    },
    "tags": []
   },
   "outputs": [],
   "source": [
    "b=['energy_distance_pvalue','energy_distance_statistic']#,'energy_distance_control_key','phenotype']\n",
    "\n",
    "for el in b:\n",
    "    df_uns[el] = df_uns[el].astype(float)"
   ]
  },
  {
   "cell_type": "code",
   "execution_count": 43,
   "id": "160be9c6-f069-4877-b59d-c8c4ec942553",
   "metadata": {
    "execution": {
     "iopub.execute_input": "2024-08-11T19:08:49.395666Z",
     "iopub.status.busy": "2024-08-11T19:08:49.394884Z",
     "iopub.status.idle": "2024-08-11T19:08:49.525007Z",
     "shell.execute_reply": "2024-08-11T19:08:49.523941Z"
    },
    "papermill": {
     "duration": 0.141965,
     "end_time": "2024-08-11T19:08:49.526194",
     "exception": false,
     "start_time": "2024-08-11T19:08:49.384229",
     "status": "completed"
    },
    "tags": []
   },
   "outputs": [
    {
     "data": {
      "text/html": [
       "<div>\n",
       "<style scoped>\n",
       "    .dataframe tbody tr th:only-of-type {\n",
       "        vertical-align: middle;\n",
       "    }\n",
       "\n",
       "    .dataframe tbody tr th {\n",
       "        vertical-align: top;\n",
       "    }\n",
       "\n",
       "    .dataframe thead th {\n",
       "        text-align: right;\n",
       "    }\n",
       "</style>\n",
       "<table border=\"1\" class=\"dataframe\">\n",
       "  <thead>\n",
       "    <tr style=\"text-align: right;\">\n",
       "      <th></th>\n",
       "      <th>Sample</th>\n",
       "      <th>Barcode</th>\n",
       "      <th>DemuxType_crispr</th>\n",
       "      <th>DemuxAssignment_crispr</th>\n",
       "      <th>DemuxType_hashing</th>\n",
       "      <th>DemuxAssignment_hashing</th>\n",
       "      <th>cellline</th>\n",
       "      <th>timepoint</th>\n",
       "      <th>HTO</th>\n",
       "      <th>NGS_ID</th>\n",
       "      <th>...</th>\n",
       "      <th>pct_counts_ribo</th>\n",
       "      <th>qc_pass</th>\n",
       "      <th>S_score</th>\n",
       "      <th>G2M_score</th>\n",
       "      <th>phase</th>\n",
       "      <th>SCN_class</th>\n",
       "      <th>gem</th>\n",
       "      <th>energy_distance_pvalue</th>\n",
       "      <th>energy_distance_statistic</th>\n",
       "      <th>energy_distance_control_key</th>\n",
       "    </tr>\n",
       "  </thead>\n",
       "  <tbody>\n",
       "    <tr>\n",
       "      <th>SAM24451293_rep1-AAACCCAAGAAATCCA</th>\n",
       "      <td>SAM24451293</td>\n",
       "      <td>AAACCCAAGAAATCCA</td>\n",
       "      <td>singlet</td>\n",
       "      <td>ENSG00000154124_2</td>\n",
       "      <td>singlet</td>\n",
       "      <td>SAM24439044</td>\n",
       "      <td>DLD1</td>\n",
       "      <td>day5</td>\n",
       "      <td>HTO-14</td>\n",
       "      <td>NGS5774</td>\n",
       "      <td>...</td>\n",
       "      <td>19.529837</td>\n",
       "      <td>True</td>\n",
       "      <td>-0.734884</td>\n",
       "      <td>-0.491440</td>\n",
       "      <td>G1</td>\n",
       "      <td>Untreatedclus_DLD1</td>\n",
       "      <td>NGS5774-1</td>\n",
       "      <td>0.206</td>\n",
       "      <td>0.044776</td>\n",
       "      <td>pool</td>\n",
       "    </tr>\n",
       "    <tr>\n",
       "      <th>SAM24451293_rep1-AAACCCAAGACAGTCG</th>\n",
       "      <td>SAM24451293</td>\n",
       "      <td>AAACCCAAGACAGTCG</td>\n",
       "      <td>singlet</td>\n",
       "      <td>ENSG00000171017_3</td>\n",
       "      <td>singlet</td>\n",
       "      <td>SAM24439045</td>\n",
       "      <td>DLD1</td>\n",
       "      <td>day5</td>\n",
       "      <td>HTO-18</td>\n",
       "      <td>NGS5774</td>\n",
       "      <td>...</td>\n",
       "      <td>22.065006</td>\n",
       "      <td>True</td>\n",
       "      <td>-0.493023</td>\n",
       "      <td>0.231481</td>\n",
       "      <td>G2M</td>\n",
       "      <td>Untreatedclus_DLD1</td>\n",
       "      <td>NGS5774-1</td>\n",
       "      <td>0.008</td>\n",
       "      <td>0.059878</td>\n",
       "      <td>pool</td>\n",
       "    </tr>\n",
       "    <tr>\n",
       "      <th>SAM24451293_rep1-AAACCCACAGACCCGT</th>\n",
       "      <td>SAM24451293</td>\n",
       "      <td>AAACCCACAGACCCGT</td>\n",
       "      <td>singlet</td>\n",
       "      <td>ENSG00000140057_1</td>\n",
       "      <td>singlet</td>\n",
       "      <td>SAM24439043</td>\n",
       "      <td>DLD1</td>\n",
       "      <td>day5</td>\n",
       "      <td>HTO-10</td>\n",
       "      <td>NGS5774</td>\n",
       "      <td>...</td>\n",
       "      <td>14.875622</td>\n",
       "      <td>True</td>\n",
       "      <td>-0.158140</td>\n",
       "      <td>-0.564640</td>\n",
       "      <td>G1</td>\n",
       "      <td>Untreatedclus_DLD1</td>\n",
       "      <td>NGS5774-1</td>\n",
       "      <td>0.665</td>\n",
       "      <td>0.037566</td>\n",
       "      <td>pool</td>\n",
       "    </tr>\n",
       "    <tr>\n",
       "      <th>SAM24451293_rep1-AAACCCAGTAACGATA</th>\n",
       "      <td>SAM24451293</td>\n",
       "      <td>AAACCCAGTAACGATA</td>\n",
       "      <td>singlet</td>\n",
       "      <td>ENSG00000188611_3</td>\n",
       "      <td>singlet</td>\n",
       "      <td>POSITIVE_CONTROL</td>\n",
       "      <td>DLD1</td>\n",
       "      <td>day5</td>\n",
       "      <td>HTO-19</td>\n",
       "      <td>NGS5774</td>\n",
       "      <td>...</td>\n",
       "      <td>25.018056</td>\n",
       "      <td>True</td>\n",
       "      <td>-0.520930</td>\n",
       "      <td>-0.385045</td>\n",
       "      <td>G1</td>\n",
       "      <td>Untreatedclus_DLD1</td>\n",
       "      <td>NGS5774-1</td>\n",
       "      <td>0.613</td>\n",
       "      <td>0.033242</td>\n",
       "      <td>pool</td>\n",
       "    </tr>\n",
       "    <tr>\n",
       "      <th>SAM24451293_rep1-AAACCCAGTACGACAG</th>\n",
       "      <td>SAM24451293</td>\n",
       "      <td>AAACCCAGTACGACAG</td>\n",
       "      <td>singlet</td>\n",
       "      <td>ENSG00000166664_2</td>\n",
       "      <td>singlet</td>\n",
       "      <td>SAM24439043</td>\n",
       "      <td>DLD1</td>\n",
       "      <td>day5</td>\n",
       "      <td>HTO-1</td>\n",
       "      <td>NGS5774</td>\n",
       "      <td>...</td>\n",
       "      <td>17.613996</td>\n",
       "      <td>True</td>\n",
       "      <td>0.334884</td>\n",
       "      <td>-0.072851</td>\n",
       "      <td>S</td>\n",
       "      <td>Untreatedclus_DLD1</td>\n",
       "      <td>NGS5774-1</td>\n",
       "      <td>0.160</td>\n",
       "      <td>0.039528</td>\n",
       "      <td>pool</td>\n",
       "    </tr>\n",
       "  </tbody>\n",
       "</table>\n",
       "<p>5 rows × 31 columns</p>\n",
       "</div>"
      ],
      "text/plain": [
       "                                        Sample           Barcode  \\\n",
       "SAM24451293_rep1-AAACCCAAGAAATCCA  SAM24451293  AAACCCAAGAAATCCA   \n",
       "SAM24451293_rep1-AAACCCAAGACAGTCG  SAM24451293  AAACCCAAGACAGTCG   \n",
       "SAM24451293_rep1-AAACCCACAGACCCGT  SAM24451293  AAACCCACAGACCCGT   \n",
       "SAM24451293_rep1-AAACCCAGTAACGATA  SAM24451293  AAACCCAGTAACGATA   \n",
       "SAM24451293_rep1-AAACCCAGTACGACAG  SAM24451293  AAACCCAGTACGACAG   \n",
       "\n",
       "                                  DemuxType_crispr DemuxAssignment_crispr  \\\n",
       "SAM24451293_rep1-AAACCCAAGAAATCCA          singlet      ENSG00000154124_2   \n",
       "SAM24451293_rep1-AAACCCAAGACAGTCG          singlet      ENSG00000171017_3   \n",
       "SAM24451293_rep1-AAACCCACAGACCCGT          singlet      ENSG00000140057_1   \n",
       "SAM24451293_rep1-AAACCCAGTAACGATA          singlet      ENSG00000188611_3   \n",
       "SAM24451293_rep1-AAACCCAGTACGACAG          singlet      ENSG00000166664_2   \n",
       "\n",
       "                                  DemuxType_hashing DemuxAssignment_hashing  \\\n",
       "SAM24451293_rep1-AAACCCAAGAAATCCA           singlet             SAM24439044   \n",
       "SAM24451293_rep1-AAACCCAAGACAGTCG           singlet             SAM24439045   \n",
       "SAM24451293_rep1-AAACCCACAGACCCGT           singlet             SAM24439043   \n",
       "SAM24451293_rep1-AAACCCAGTAACGATA           singlet        POSITIVE_CONTROL   \n",
       "SAM24451293_rep1-AAACCCAGTACGACAG           singlet             SAM24439043   \n",
       "\n",
       "                                  cellline timepoint     HTO   NGS_ID  ...  \\\n",
       "SAM24451293_rep1-AAACCCAAGAAATCCA     DLD1      day5  HTO-14  NGS5774  ...   \n",
       "SAM24451293_rep1-AAACCCAAGACAGTCG     DLD1      day5  HTO-18  NGS5774  ...   \n",
       "SAM24451293_rep1-AAACCCACAGACCCGT     DLD1      day5  HTO-10  NGS5774  ...   \n",
       "SAM24451293_rep1-AAACCCAGTAACGATA     DLD1      day5  HTO-19  NGS5774  ...   \n",
       "SAM24451293_rep1-AAACCCAGTACGACAG     DLD1      day5   HTO-1  NGS5774  ...   \n",
       "\n",
       "                                  pct_counts_ribo qc_pass   S_score G2M_score  \\\n",
       "SAM24451293_rep1-AAACCCAAGAAATCCA       19.529837    True -0.734884 -0.491440   \n",
       "SAM24451293_rep1-AAACCCAAGACAGTCG       22.065006    True -0.493023  0.231481   \n",
       "SAM24451293_rep1-AAACCCACAGACCCGT       14.875622    True -0.158140 -0.564640   \n",
       "SAM24451293_rep1-AAACCCAGTAACGATA       25.018056    True -0.520930 -0.385045   \n",
       "SAM24451293_rep1-AAACCCAGTACGACAG       17.613996    True  0.334884 -0.072851   \n",
       "\n",
       "                                  phase           SCN_class        gem  \\\n",
       "SAM24451293_rep1-AAACCCAAGAAATCCA    G1  Untreatedclus_DLD1  NGS5774-1   \n",
       "SAM24451293_rep1-AAACCCAAGACAGTCG   G2M  Untreatedclus_DLD1  NGS5774-1   \n",
       "SAM24451293_rep1-AAACCCACAGACCCGT    G1  Untreatedclus_DLD1  NGS5774-1   \n",
       "SAM24451293_rep1-AAACCCAGTAACGATA    G1  Untreatedclus_DLD1  NGS5774-1   \n",
       "SAM24451293_rep1-AAACCCAGTACGACAG     S  Untreatedclus_DLD1  NGS5774-1   \n",
       "\n",
       "                                   energy_distance_pvalue  \\\n",
       "SAM24451293_rep1-AAACCCAAGAAATCCA                   0.206   \n",
       "SAM24451293_rep1-AAACCCAAGACAGTCG                   0.008   \n",
       "SAM24451293_rep1-AAACCCACAGACCCGT                   0.665   \n",
       "SAM24451293_rep1-AAACCCAGTAACGATA                   0.613   \n",
       "SAM24451293_rep1-AAACCCAGTACGACAG                   0.160   \n",
       "\n",
       "                                   energy_distance_statistic  \\\n",
       "SAM24451293_rep1-AAACCCAAGAAATCCA                   0.044776   \n",
       "SAM24451293_rep1-AAACCCAAGACAGTCG                   0.059878   \n",
       "SAM24451293_rep1-AAACCCACAGACCCGT                   0.037566   \n",
       "SAM24451293_rep1-AAACCCAGTAACGATA                   0.033242   \n",
       "SAM24451293_rep1-AAACCCAGTACGACAG                   0.039528   \n",
       "\n",
       "                                   energy_distance_control_key  \n",
       "SAM24451293_rep1-AAACCCAAGAAATCCA                         pool  \n",
       "SAM24451293_rep1-AAACCCAAGACAGTCG                         pool  \n",
       "SAM24451293_rep1-AAACCCACAGACCCGT                         pool  \n",
       "SAM24451293_rep1-AAACCCAGTAACGATA                         pool  \n",
       "SAM24451293_rep1-AAACCCAGTACGACAG                         pool  \n",
       "\n",
       "[5 rows x 31 columns]"
      ]
     },
     "execution_count": 43,
     "metadata": {},
     "output_type": "execute_result"
    }
   ],
   "source": [
    "df_uns.head()"
   ]
  },
  {
   "cell_type": "code",
   "execution_count": 44,
   "id": "8a128914-749a-45e3-9d07-f4056b0449e2",
   "metadata": {
    "execution": {
     "iopub.execute_input": "2024-08-11T19:08:49.548580Z",
     "iopub.status.busy": "2024-08-11T19:08:49.548193Z",
     "iopub.status.idle": "2024-08-11T19:08:49.694018Z",
     "shell.execute_reply": "2024-08-11T19:08:49.693289Z"
    },
    "papermill": {
     "duration": 0.158836,
     "end_time": "2024-08-11T19:08:49.695728",
     "exception": false,
     "start_time": "2024-08-11T19:08:49.536892",
     "status": "completed"
    },
    "tags": []
   },
   "outputs": [],
   "source": [
    "#df_uns.index = df_uns.index.astype(str)"
   ]
  },
  {
   "cell_type": "code",
   "execution_count": 45,
   "id": "af7b1be8-d644-4330-9583-f1c6ed76a553",
   "metadata": {
    "execution": {
     "iopub.execute_input": "2024-08-11T19:08:49.718102Z",
     "iopub.status.busy": "2024-08-11T19:08:49.717502Z",
     "iopub.status.idle": "2024-08-11T19:08:49.887597Z",
     "shell.execute_reply": "2024-08-11T19:08:49.886787Z"
    },
    "papermill": {
     "duration": 0.182733,
     "end_time": "2024-08-11T19:08:49.889229",
     "exception": false,
     "start_time": "2024-08-11T19:08:49.706496",
     "status": "completed"
    },
    "tags": []
   },
   "outputs": [],
   "source": [
    "df_uns = df_uns.drop(columns='energy_distance_control_key')"
   ]
  },
  {
   "cell_type": "code",
   "execution_count": 46,
   "id": "3069e8b2-8e6c-49d3-8da8-21978d35197c",
   "metadata": {
    "execution": {
     "iopub.execute_input": "2024-08-11T19:08:49.911806Z",
     "iopub.status.busy": "2024-08-11T19:08:49.911519Z",
     "iopub.status.idle": "2024-08-11T19:08:50.084225Z",
     "shell.execute_reply": "2024-08-11T19:08:50.083419Z"
    },
    "papermill": {
     "duration": 0.185304,
     "end_time": "2024-08-11T19:08:50.085834",
     "exception": false,
     "start_time": "2024-08-11T19:08:49.900530",
     "status": "completed"
    },
    "tags": []
   },
   "outputs": [],
   "source": [
    "df_uns['phenotype'] = 'No'\n",
    "df_uns.loc[df_uns['energy_distance_pvalue']<=pVAL, 'phenotype'] = 'Yes'"
   ]
  },
  {
   "cell_type": "code",
   "execution_count": 47,
   "id": "36ab0df3-09a7-44e5-a271-6c435008735c",
   "metadata": {
    "execution": {
     "iopub.execute_input": "2024-08-11T19:08:50.109667Z",
     "iopub.status.busy": "2024-08-11T19:08:50.108866Z",
     "iopub.status.idle": "2024-08-11T19:08:50.367101Z",
     "shell.execute_reply": "2024-08-11T19:08:50.366020Z"
    },
    "papermill": {
     "duration": 0.271745,
     "end_time": "2024-08-11T19:08:50.368672",
     "exception": false,
     "start_time": "2024-08-11T19:08:50.096927",
     "status": "completed"
    },
    "tags": []
   },
   "outputs": [
    {
     "data": {
      "text/plain": [
       "1973"
      ]
     },
     "execution_count": 47,
     "metadata": {},
     "output_type": "execute_result"
    }
   ],
   "source": [
    "PHENO = df_uns[df_uns['phenotype']=='Yes'].copy()\n",
    "PHENO['gene_symbol'].nunique()"
   ]
  },
  {
   "cell_type": "markdown",
   "id": "79d8b13c-41a8-4557-a592-842f0cfb9a6d",
   "metadata": {
    "papermill": {
     "duration": 0.010852,
     "end_time": "2024-08-11T19:08:50.390538",
     "exception": false,
     "start_time": "2024-08-11T19:08:50.379686",
     "status": "completed"
    },
    "tags": []
   },
   "source": [
    "## Update the annadata object and write out the output"
   ]
  },
  {
   "cell_type": "code",
   "execution_count": 48,
   "id": "45121276-0370-43d6-bcb9-26fcb8d3c474",
   "metadata": {
    "execution": {
     "iopub.execute_input": "2024-08-11T19:08:50.413618Z",
     "iopub.status.busy": "2024-08-11T19:08:50.413301Z",
     "iopub.status.idle": "2024-08-11T19:08:50.558278Z",
     "shell.execute_reply": "2024-08-11T19:08:50.557540Z"
    },
    "papermill": {
     "duration": 0.158641,
     "end_time": "2024-08-11T19:08:50.560060",
     "exception": false,
     "start_time": "2024-08-11T19:08:50.401419",
     "status": "completed"
    },
    "tags": []
   },
   "outputs": [],
   "source": [
    "df_uns_ED = df_uns[['energy_distance_pvalue','energy_distance_statistic','phenotype']].copy()\n",
    "df_uns_ED = df_uns_ED.rename(columns={'phenotype': 'phenotype_@0.05'})"
   ]
  },
  {
   "cell_type": "code",
   "execution_count": 49,
   "id": "c7b5e19f-3075-4451-8e3f-37ac6fbb7667",
   "metadata": {
    "execution": {
     "iopub.execute_input": "2024-08-11T19:08:50.583847Z",
     "iopub.status.busy": "2024-08-11T19:08:50.583017Z",
     "iopub.status.idle": "2024-08-11T19:08:50.720572Z",
     "shell.execute_reply": "2024-08-11T19:08:50.719799Z"
    },
    "papermill": {
     "duration": 0.150975,
     "end_time": "2024-08-11T19:08:50.722124",
     "exception": false,
     "start_time": "2024-08-11T19:08:50.571149",
     "status": "completed"
    },
    "tags": []
   },
   "outputs": [],
   "source": [
    "if 'energy_distance' not in adata.uns:\n",
    "    adata.uns[\"energy_distance\"]={}"
   ]
  },
  {
   "cell_type": "code",
   "execution_count": 50,
   "id": "232ff50d-93c3-43de-bc61-58a777f63978",
   "metadata": {
    "execution": {
     "iopub.execute_input": "2024-08-11T19:08:50.745516Z",
     "iopub.status.busy": "2024-08-11T19:08:50.745140Z",
     "iopub.status.idle": "2024-08-11T19:08:50.898265Z",
     "shell.execute_reply": "2024-08-11T19:08:50.896977Z"
    },
    "papermill": {
     "duration": 0.166576,
     "end_time": "2024-08-11T19:08:50.899868",
     "exception": false,
     "start_time": "2024-08-11T19:08:50.733292",
     "status": "completed"
    },
    "tags": []
   },
   "outputs": [],
   "source": [
    "adata.uns[\"energy_distance\"][key_uns]=df_uns_ED"
   ]
  },
  {
   "cell_type": "code",
   "execution_count": 51,
   "id": "7ea8e887-a312-4e0b-a095-7331c08a6c27",
   "metadata": {
    "execution": {
     "iopub.execute_input": "2024-08-11T19:08:50.923330Z",
     "iopub.status.busy": "2024-08-11T19:08:50.923011Z",
     "iopub.status.idle": "2024-08-11T19:10:12.563672Z",
     "shell.execute_reply": "2024-08-11T19:10:12.562602Z"
    },
    "papermill": {
     "duration": 81.654324,
     "end_time": "2024-08-11T19:10:12.565431",
     "exception": false,
     "start_time": "2024-08-11T19:08:50.911107",
     "status": "completed"
    },
    "tags": []
   },
   "outputs": [],
   "source": [
    "adata.write(ED_file)"
   ]
  },
  {
   "cell_type": "markdown",
   "id": "cf54ed93-8ed8-49df-ac4e-0036135f09d2",
   "metadata": {
    "papermill": {
     "duration": 0.010656,
     "end_time": "2024-08-11T19:10:12.590798",
     "exception": false,
     "start_time": "2024-08-11T19:10:12.580142",
     "status": "completed"
    },
    "tags": []
   },
   "source": [
    "## Data Tabulation"
   ]
  },
  {
   "cell_type": "code",
   "execution_count": 52,
   "id": "ec3eb58c-cb70-4c93-bfbf-7d11abcbaddd",
   "metadata": {
    "execution": {
     "iopub.execute_input": "2024-08-11T19:10:12.613245Z",
     "iopub.status.busy": "2024-08-11T19:10:12.612600Z",
     "iopub.status.idle": "2024-08-11T19:10:13.534232Z",
     "shell.execute_reply": "2024-08-11T19:10:13.533201Z"
    },
    "papermill": {
     "duration": 0.934607,
     "end_time": "2024-08-11T19:10:13.535787",
     "exception": false,
     "start_time": "2024-08-11T19:10:12.601180",
     "status": "completed"
    },
    "tags": []
   },
   "outputs": [
    {
     "data": {
      "text/plain": [
       "SCN_class             phenotype\n",
       "DOXclus_CL34          No              105\n",
       "                      Yes              84\n",
       "DOXclus_DLD1          No            37298\n",
       "                      Yes           26518\n",
       "DOXclus_HCA7          No               10\n",
       "                      Yes               9\n",
       "DOXclus_HT55          No                1\n",
       "                      Yes               0\n",
       "DOXclus_MDST8         No               40\n",
       "                      Yes              46\n",
       "DOXclus_SW480         No                2\n",
       "                      Yes               1\n",
       "DOXclus_SW620         No                1\n",
       "                      Yes               0\n",
       "DOXclus_SW1463        No              535\n",
       "                      Yes             462\n",
       "Untreatedclus_CL34    No                3\n",
       "                      Yes               5\n",
       "Untreatedclus_DLD1    No           337128\n",
       "                      Yes          190173\n",
       "Untreatedclus_HT55    No                0\n",
       "                      Yes               1\n",
       "Untreatedclus_RCM1    No              844\n",
       "                      Yes             766\n",
       "Untreatedclus_SKCO1   No               27\n",
       "                      Yes              35\n",
       "Untreatedclus_SW403   No                0\n",
       "                      Yes               3\n",
       "Untreatedclus_SW620   No              132\n",
       "                      Yes             131\n",
       "Untreatedclus_SW837   No               18\n",
       "                      Yes              27\n",
       "Untreatedclus_SW948   No                2\n",
       "                      Yes               0\n",
       "Untreatedclus_SW1417  No               36\n",
       "                      Yes              35\n",
       "Untreatedclus_SW1463  No               89\n",
       "                      Yes             101\n",
       "Untreatedclus_T84     No              175\n",
       "                      Yes             141\n",
       "rand                  No              345\n",
       "                      Yes             274\n",
       "Name: gene_symbol, dtype: int64"
      ]
     },
     "execution_count": 52,
     "metadata": {},
     "output_type": "execute_result"
    }
   ],
   "source": [
    "df_uns.groupby(['SCN_class', 'phenotype'])['gene_symbol'].size()"
   ]
  },
  {
   "cell_type": "code",
   "execution_count": 53,
   "id": "9fd44015-b144-450d-964a-1d196a326fe7",
   "metadata": {
    "execution": {
     "iopub.execute_input": "2024-08-11T19:10:13.559638Z",
     "iopub.status.busy": "2024-08-11T19:10:13.559283Z",
     "iopub.status.idle": "2024-08-11T19:10:13.825728Z",
     "shell.execute_reply": "2024-08-11T19:10:13.824062Z"
    },
    "papermill": {
     "duration": 0.280276,
     "end_time": "2024-08-11T19:10:13.827609",
     "exception": false,
     "start_time": "2024-08-11T19:10:13.547333",
     "status": "completed"
    },
    "tags": []
   },
   "outputs": [
    {
     "data": {
      "text/html": [
       "<div>\n",
       "<style scoped>\n",
       "    .dataframe tbody tr th:only-of-type {\n",
       "        vertical-align: middle;\n",
       "    }\n",
       "\n",
       "    .dataframe tbody tr th {\n",
       "        vertical-align: top;\n",
       "    }\n",
       "\n",
       "    .dataframe thead th {\n",
       "        text-align: right;\n",
       "    }\n",
       "</style>\n",
       "<table border=\"1\" class=\"dataframe\">\n",
       "  <thead>\n",
       "    <tr style=\"text-align: right;\">\n",
       "      <th></th>\n",
       "      <th>gene_symbol</th>\n",
       "      <th>cnt</th>\n",
       "    </tr>\n",
       "  </thead>\n",
       "  <tbody>\n",
       "    <tr>\n",
       "      <th>1695</th>\n",
       "      <td>TCF7L2</td>\n",
       "      <td>118</td>\n",
       "    </tr>\n",
       "    <tr>\n",
       "      <th>362</th>\n",
       "      <td>CTNNB1</td>\n",
       "      <td>78</td>\n",
       "    </tr>\n",
       "    <tr>\n",
       "      <th>1060</th>\n",
       "      <td>MYC</td>\n",
       "      <td>65</td>\n",
       "    </tr>\n",
       "    <tr>\n",
       "      <th>1097</th>\n",
       "      <td>NELFB</td>\n",
       "      <td>47</td>\n",
       "    </tr>\n",
       "    <tr>\n",
       "      <th>1860</th>\n",
       "      <td>UBTF</td>\n",
       "      <td>43</td>\n",
       "    </tr>\n",
       "    <tr>\n",
       "      <th>...</th>\n",
       "      <td>...</td>\n",
       "      <td>...</td>\n",
       "    </tr>\n",
       "    <tr>\n",
       "      <th>158</th>\n",
       "      <td>BUB3</td>\n",
       "      <td>1</td>\n",
       "    </tr>\n",
       "    <tr>\n",
       "      <th>1450</th>\n",
       "      <td>RGPD5</td>\n",
       "      <td>1</td>\n",
       "    </tr>\n",
       "    <tr>\n",
       "      <th>1308</th>\n",
       "      <td>POLR2J2</td>\n",
       "      <td>1</td>\n",
       "    </tr>\n",
       "    <tr>\n",
       "      <th>1614</th>\n",
       "      <td>SNRPE</td>\n",
       "      <td>1</td>\n",
       "    </tr>\n",
       "    <tr>\n",
       "      <th>878</th>\n",
       "      <td>KMT5A</td>\n",
       "      <td>1</td>\n",
       "    </tr>\n",
       "  </tbody>\n",
       "</table>\n",
       "<p>1968 rows × 2 columns</p>\n",
       "</div>"
      ],
      "text/plain": [
       "     gene_symbol  cnt\n",
       "1695      TCF7L2  118\n",
       "362       CTNNB1   78\n",
       "1060         MYC   65\n",
       "1097       NELFB   47\n",
       "1860        UBTF   43\n",
       "...          ...  ...\n",
       "158         BUB3    1\n",
       "1450       RGPD5    1\n",
       "1308     POLR2J2    1\n",
       "1614       SNRPE    1\n",
       "878        KMT5A    1\n",
       "\n",
       "[1968 rows x 2 columns]"
      ]
     },
     "execution_count": 53,
     "metadata": {},
     "output_type": "execute_result"
    }
   ],
   "source": [
    "df_uns[(df_uns['phenotype']=='Yes')&(df_uns['SCN_class']=='DOXclus_DLD1')].groupby(\n",
    "    ['gene_symbol'])['DemuxAssignment_crispr'].count().reset_index(name='cnt').sort_values(by='cnt', ascending=False)"
   ]
  },
  {
   "cell_type": "code",
   "execution_count": 54,
   "id": "e3c37d1c-f067-48f7-a2a2-a8875b71bdbf",
   "metadata": {
    "execution": {
     "iopub.execute_input": "2024-08-11T19:10:13.851843Z",
     "iopub.status.busy": "2024-08-11T19:10:13.851523Z",
     "iopub.status.idle": "2024-08-11T19:10:14.112427Z",
     "shell.execute_reply": "2024-08-11T19:10:14.111243Z"
    },
    "papermill": {
     "duration": 0.274569,
     "end_time": "2024-08-11T19:10:14.113840",
     "exception": false,
     "start_time": "2024-08-11T19:10:13.839271",
     "status": "completed"
    },
    "tags": []
   },
   "outputs": [
    {
     "data": {
      "text/html": [
       "<div>\n",
       "<style scoped>\n",
       "    .dataframe tbody tr th:only-of-type {\n",
       "        vertical-align: middle;\n",
       "    }\n",
       "\n",
       "    .dataframe tbody tr th {\n",
       "        vertical-align: top;\n",
       "    }\n",
       "\n",
       "    .dataframe thead th {\n",
       "        text-align: right;\n",
       "    }\n",
       "</style>\n",
       "<table border=\"1\" class=\"dataframe\">\n",
       "  <thead>\n",
       "    <tr style=\"text-align: right;\">\n",
       "      <th></th>\n",
       "      <th>gene_symbol</th>\n",
       "      <th>cnt</th>\n",
       "    </tr>\n",
       "  </thead>\n",
       "  <tbody>\n",
       "    <tr>\n",
       "      <th>1700</th>\n",
       "      <td>TCF7L2</td>\n",
       "      <td>362</td>\n",
       "    </tr>\n",
       "    <tr>\n",
       "      <th>68</th>\n",
       "      <td>AOC3</td>\n",
       "      <td>188</td>\n",
       "    </tr>\n",
       "    <tr>\n",
       "      <th>362</th>\n",
       "      <td>CTNNA1</td>\n",
       "      <td>178</td>\n",
       "    </tr>\n",
       "    <tr>\n",
       "      <th>817</th>\n",
       "      <td>INVS</td>\n",
       "      <td>173</td>\n",
       "    </tr>\n",
       "    <tr>\n",
       "      <th>300</th>\n",
       "      <td>CHST10</td>\n",
       "      <td>169</td>\n",
       "    </tr>\n",
       "    <tr>\n",
       "      <th>...</th>\n",
       "      <td>...</td>\n",
       "      <td>...</td>\n",
       "    </tr>\n",
       "    <tr>\n",
       "      <th>1375</th>\n",
       "      <td>PSMA6</td>\n",
       "      <td>7</td>\n",
       "    </tr>\n",
       "    <tr>\n",
       "      <th>1292</th>\n",
       "      <td>PLK1</td>\n",
       "      <td>6</td>\n",
       "    </tr>\n",
       "    <tr>\n",
       "      <th>1453</th>\n",
       "      <td>RGPD5</td>\n",
       "      <td>4</td>\n",
       "    </tr>\n",
       "    <tr>\n",
       "      <th>460</th>\n",
       "      <td>EIF3CL</td>\n",
       "      <td>3</td>\n",
       "    </tr>\n",
       "    <tr>\n",
       "      <th>443</th>\n",
       "      <td>DUX4</td>\n",
       "      <td>2</td>\n",
       "    </tr>\n",
       "  </tbody>\n",
       "</table>\n",
       "<p>1973 rows × 2 columns</p>\n",
       "</div>"
      ],
      "text/plain": [
       "     gene_symbol  cnt\n",
       "1700      TCF7L2  362\n",
       "68          AOC3  188\n",
       "362       CTNNA1  178\n",
       "817         INVS  173\n",
       "300       CHST10  169\n",
       "...          ...  ...\n",
       "1375       PSMA6    7\n",
       "1292        PLK1    6\n",
       "1453       RGPD5    4\n",
       "460       EIF3CL    3\n",
       "443         DUX4    2\n",
       "\n",
       "[1973 rows x 2 columns]"
      ]
     },
     "execution_count": 54,
     "metadata": {},
     "output_type": "execute_result"
    }
   ],
   "source": [
    "df_uns[(df_uns['phenotype']=='Yes')&(df_uns['SCN_class']=='Untreatedclus_DLD1')].groupby(\n",
    "    ['gene_symbol'])['DemuxAssignment_crispr'].count().reset_index(name='cnt').sort_values(by='cnt', ascending=False)"
   ]
  },
  {
   "cell_type": "code",
   "execution_count": 55,
   "id": "a365181e-bf76-4c91-9bc1-44fc8510f75e",
   "metadata": {
    "execution": {
     "iopub.execute_input": "2024-08-11T19:10:14.138759Z",
     "iopub.status.busy": "2024-08-11T19:10:14.138202Z",
     "iopub.status.idle": "2024-08-11T19:10:14.404992Z",
     "shell.execute_reply": "2024-08-11T19:10:14.404135Z"
    },
    "papermill": {
     "duration": 0.28056,
     "end_time": "2024-08-11T19:10:14.406279",
     "exception": false,
     "start_time": "2024-08-11T19:10:14.125719",
     "status": "completed"
    },
    "tags": []
   },
   "outputs": [
    {
     "data": {
      "text/html": [
       "<div>\n",
       "<style scoped>\n",
       "    .dataframe tbody tr th:only-of-type {\n",
       "        vertical-align: middle;\n",
       "    }\n",
       "\n",
       "    .dataframe tbody tr th {\n",
       "        vertical-align: top;\n",
       "    }\n",
       "\n",
       "    .dataframe thead th {\n",
       "        text-align: right;\n",
       "    }\n",
       "</style>\n",
       "<table border=\"1\" class=\"dataframe\">\n",
       "  <thead>\n",
       "    <tr style=\"text-align: right;\">\n",
       "      <th></th>\n",
       "      <th>gene_symbol</th>\n",
       "      <th>cnt</th>\n",
       "    </tr>\n",
       "  </thead>\n",
       "  <tbody>\n",
       "    <tr>\n",
       "      <th>1700</th>\n",
       "      <td>TCF7L2</td>\n",
       "      <td>484</td>\n",
       "    </tr>\n",
       "    <tr>\n",
       "      <th>68</th>\n",
       "      <td>AOC3</td>\n",
       "      <td>217</td>\n",
       "    </tr>\n",
       "    <tr>\n",
       "      <th>362</th>\n",
       "      <td>CTNNA1</td>\n",
       "      <td>199</td>\n",
       "    </tr>\n",
       "    <tr>\n",
       "      <th>817</th>\n",
       "      <td>INVS</td>\n",
       "      <td>190</td>\n",
       "    </tr>\n",
       "    <tr>\n",
       "      <th>300</th>\n",
       "      <td>CHST10</td>\n",
       "      <td>189</td>\n",
       "    </tr>\n",
       "    <tr>\n",
       "      <th>1297</th>\n",
       "      <td>PMS2</td>\n",
       "      <td>180</td>\n",
       "    </tr>\n",
       "    <tr>\n",
       "      <th>1581</th>\n",
       "      <td>SLC39A9</td>\n",
       "      <td>180</td>\n",
       "    </tr>\n",
       "    <tr>\n",
       "      <th>844</th>\n",
       "      <td>JRKL</td>\n",
       "      <td>180</td>\n",
       "    </tr>\n",
       "    <tr>\n",
       "      <th>804</th>\n",
       "      <td>IL15</td>\n",
       "      <td>177</td>\n",
       "    </tr>\n",
       "    <tr>\n",
       "      <th>129</th>\n",
       "      <td>BCO2</td>\n",
       "      <td>174</td>\n",
       "    </tr>\n",
       "    <tr>\n",
       "      <th>453</th>\n",
       "      <td>EFCAB13</td>\n",
       "      <td>174</td>\n",
       "    </tr>\n",
       "    <tr>\n",
       "      <th>1511</th>\n",
       "      <td>RUNX2</td>\n",
       "      <td>173</td>\n",
       "    </tr>\n",
       "    <tr>\n",
       "      <th>1970</th>\n",
       "      <td>ZNF91</td>\n",
       "      <td>173</td>\n",
       "    </tr>\n",
       "    <tr>\n",
       "      <th>1571</th>\n",
       "      <td>SLC29A4</td>\n",
       "      <td>172</td>\n",
       "    </tr>\n",
       "    <tr>\n",
       "      <th>711</th>\n",
       "      <td>GSTK1</td>\n",
       "      <td>172</td>\n",
       "    </tr>\n",
       "    <tr>\n",
       "      <th>714</th>\n",
       "      <td>GTF2H5</td>\n",
       "      <td>172</td>\n",
       "    </tr>\n",
       "    <tr>\n",
       "      <th>750</th>\n",
       "      <td>HP1BP3</td>\n",
       "      <td>172</td>\n",
       "    </tr>\n",
       "    <tr>\n",
       "      <th>919</th>\n",
       "      <td>LMBRD2</td>\n",
       "      <td>171</td>\n",
       "    </tr>\n",
       "    <tr>\n",
       "      <th>1471</th>\n",
       "      <td>RNF24</td>\n",
       "      <td>171</td>\n",
       "    </tr>\n",
       "    <tr>\n",
       "      <th>1021</th>\n",
       "      <td>MMP13</td>\n",
       "      <td>170</td>\n",
       "    </tr>\n",
       "    <tr>\n",
       "      <th>1304</th>\n",
       "      <td>POLK</td>\n",
       "      <td>170</td>\n",
       "    </tr>\n",
       "    <tr>\n",
       "      <th>562</th>\n",
       "      <td>F11R</td>\n",
       "      <td>170</td>\n",
       "    </tr>\n",
       "    <tr>\n",
       "      <th>1848</th>\n",
       "      <td>TXNL4B</td>\n",
       "      <td>169</td>\n",
       "    </tr>\n",
       "    <tr>\n",
       "      <th>191</th>\n",
       "      <td>CALCR</td>\n",
       "      <td>169</td>\n",
       "    </tr>\n",
       "    <tr>\n",
       "      <th>1711</th>\n",
       "      <td>TEX12</td>\n",
       "      <td>169</td>\n",
       "    </tr>\n",
       "    <tr>\n",
       "      <th>798</th>\n",
       "      <td>IGSF10</td>\n",
       "      <td>168</td>\n",
       "    </tr>\n",
       "    <tr>\n",
       "      <th>845</th>\n",
       "      <td>JUP</td>\n",
       "      <td>168</td>\n",
       "    </tr>\n",
       "    <tr>\n",
       "      <th>666</th>\n",
       "      <td>GIGYF2</td>\n",
       "      <td>167</td>\n",
       "    </tr>\n",
       "    <tr>\n",
       "      <th>1849</th>\n",
       "      <td>TYW1B</td>\n",
       "      <td>167</td>\n",
       "    </tr>\n",
       "    <tr>\n",
       "      <th>1190</th>\n",
       "      <td>OR51E1</td>\n",
       "      <td>167</td>\n",
       "    </tr>\n",
       "  </tbody>\n",
       "</table>\n",
       "</div>"
      ],
      "text/plain": [
       "     gene_symbol  cnt\n",
       "1700      TCF7L2  484\n",
       "68          AOC3  217\n",
       "362       CTNNA1  199\n",
       "817         INVS  190\n",
       "300       CHST10  189\n",
       "1297        PMS2  180\n",
       "1581     SLC39A9  180\n",
       "844         JRKL  180\n",
       "804         IL15  177\n",
       "129         BCO2  174\n",
       "453      EFCAB13  174\n",
       "1511       RUNX2  173\n",
       "1970       ZNF91  173\n",
       "1571     SLC29A4  172\n",
       "711        GSTK1  172\n",
       "714       GTF2H5  172\n",
       "750       HP1BP3  172\n",
       "919       LMBRD2  171\n",
       "1471       RNF24  171\n",
       "1021       MMP13  170\n",
       "1304        POLK  170\n",
       "562         F11R  170\n",
       "1848      TXNL4B  169\n",
       "191        CALCR  169\n",
       "1711       TEX12  169\n",
       "798       IGSF10  168\n",
       "845          JUP  168\n",
       "666       GIGYF2  167\n",
       "1849       TYW1B  167\n",
       "1190      OR51E1  167"
      ]
     },
     "execution_count": 55,
     "metadata": {},
     "output_type": "execute_result"
    }
   ],
   "source": [
    "df_uns[(df_uns['phenotype']=='Yes')].groupby(\n",
    "    ['gene_symbol'])['DemuxAssignment_crispr'].count().reset_index(name='cnt').sort_values(by='cnt', ascending=False)[:30]"
   ]
  },
  {
   "cell_type": "markdown",
   "id": "a2cd6558-ef8d-4396-ad9d-847834d10d6b",
   "metadata": {
    "papermill": {
     "duration": 0.01114,
     "end_time": "2024-08-11T19:10:14.429222",
     "exception": false,
     "start_time": "2024-08-11T19:10:14.418082",
     "status": "completed"
    },
    "tags": []
   },
   "source": [
    "## Data Visulaization"
   ]
  },
  {
   "cell_type": "code",
   "execution_count": 56,
   "id": "8b14c8f2-f789-474b-b7d1-d152098846ab",
   "metadata": {
    "execution": {
     "iopub.execute_input": "2024-08-11T19:10:14.452607Z",
     "iopub.status.busy": "2024-08-11T19:10:14.451963Z",
     "iopub.status.idle": "2024-08-11T19:10:16.524748Z",
     "shell.execute_reply": "2024-08-11T19:10:16.523846Z"
    },
    "papermill": {
     "duration": 2.086192,
     "end_time": "2024-08-11T19:10:16.526280",
     "exception": false,
     "start_time": "2024-08-11T19:10:14.440088",
     "status": "completed"
    },
    "tags": []
   },
   "outputs": [
    {
     "data": {
      "text/plain": [
       "<AxesSubplot: xlabel='energy_distance_pvalue', ylabel='Count'>"
      ]
     },
     "execution_count": 56,
     "metadata": {},
     "output_type": "execute_result"
    },
    {
     "data": {
      "image/png": "[encoded data removed]",
      "text/plain": [
       "<Figure size 640x480 with 1 Axes>"
      ]
     },
     "metadata": {},
     "output_type": "display_data"
    }
   ],
   "source": [
    "sns.histplot(-np.log10(df_uns['energy_distance_pvalue']))"
   ]
  }
 ],
 "metadata": {
  "kernelspec": {
   "display_name": "gpuy310",
   "language": "python",
   "name": "gpuy310"
  },
  "language_info": {
   "codemirror_mode": {
    "name": "ipython",
    "version": 3
   },
   "file_extension": ".py",
   "mimetype": "text/x-python",
   "name": "python",
   "nbconvert_exporter": "python",
   "pygments_lexer": "ipython3",
   "version": "3.10.8"
  },
  "papermill": {
   "default_parameters": {},
   "duration": 2878.025205,
   "end_time": "2024-08-11T19:10:26.699466",
   "environment_variables": {},
   "exception": null,
   "input_path": "./Templates/EnergyDistance.ipynb",
   "output_path": "/gstore/home/ghaffars/Cumulus/crc_dld1_sublib1_bdev/crop-seq-pipeline/Reports/DS000017114_EnergyDistance_500NTCs_scVI.ipynb",
   "parameters": {
    "DEV": false,
    "DS_test": false,
    "DatasetID": "DS000017114",
    "ED_file": "/gstore/project/crc_recursion_gw/DLD1_Sublib1_bdev//DS000017114/Energy_Distance/e_dist_all.h5ad",
    "author": "SG",
    "description": "Production scale screen in DLD-1 cells with 1/4 of the genome-wide CRISPR library (sub-lib-1, ~22K guides). 1 time point: Day-5. We performed 24 rxns of 10x 3' HT kit with an estimated loading of 52K cells. We performed a pilot study to test the library quality before the production-level sequencing. We will submit 72 libraries (24 GEX, 24 HTO and 24 sgRNA) We estimate need 600M for GEX, 30M for HTO and 50M for sgRNA. This is a repeat run to correct chip loading.",
    "embeddings_key": "X_scVI",
    "i": 10,
    "key_uns": "perGene_scVI_10",
    "n": 500,
    "name_space": [
     {
      "id": "GRCh38",
      "type": "genome"
     }
    ],
    "organism": "human",
    "out_csv": "/gstore/project/crc_recursion_gw/DLD1_Sublib1_bdev//DS000017114/Energy_Distance/e_dist_500NTCs_scVI_10.csv",
    "pVAL": 0.05,
    "sources": [
     {
      "id": "Siavash-1234",
      "name": "Geo-ID"
     }
    ],
    "tech_name": "scRNA-seq",
    "test_DatasetID": "",
    "title": "Recursion DLD1 Library1 Screen Day 5- combination of NGS 5774 and NGS 5702"
   },
   "start_time": "2024-08-11T18:22:28.674261",
   "version": "2.6.0"
  },
  "widgets": {
   "application/vnd.jupyter.widget-state+json": {
    "state": {},
    "version_major": 2,
    "version_minor": 0
   }
  }
 },
 "nbformat": 4,
 "nbformat_minor": 5
}