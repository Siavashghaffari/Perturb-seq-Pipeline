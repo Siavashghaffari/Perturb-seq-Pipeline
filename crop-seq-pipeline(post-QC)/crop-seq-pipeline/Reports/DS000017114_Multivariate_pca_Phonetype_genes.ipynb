{
 "cells": [
  {
   "cell_type": "code",
   "execution_count": 1,
   "id": "66acfbab",
   "metadata": {
    "execution": {
     "iopub.execute_input": "2024-08-14T18:39:32.099587Z",
     "iopub.status.busy": "2024-08-14T18:39:32.099121Z",
     "iopub.status.idle": "2024-08-14T18:39:32.116559Z",
     "shell.execute_reply": "2024-08-14T18:39:32.115153Z"
    },
    "papermill": {
     "duration": 0.038508,
     "end_time": "2024-08-14T18:39:32.120025",
     "exception": false,
     "start_time": "2024-08-14T18:39:32.081517",
     "status": "completed"
    },
    "tags": [
     "injected-parameters"
    ]
   },
   "outputs": [],
   "source": [
    "# Parameters\n",
    "DatasetID = \"DS000017114\"\n",
    "DEV = False\n",
    "test_DatasetID = \"\"\n",
    "DS_test = False\n",
    "title = \"Recursion DLD1 Library1 Screen Day 5- combination of NGS 5774 and NGS 5702\"\n",
    "description = \"Production scale screen in DLD-1 cells with 1/4 of the genome-wide CRISPR library (sub-lib-1, ~22K guides). 1 time point: Day-5. We performed 24 rxns of 10x 3' HT kit with an estimated loading of 52K cells. We performed a pilot study to test the library quality before the production-level sequencing. We will submit 72 libraries (24 GEX, 24 HTO and 24 sgRNA) We estimate need 600M for GEX, 30M for HTO and 50M for sgRNA. This is a repeat run to correct chip loading.\"\n",
    "name_space = [{\"id\": \"GRCh38\", \"type\": \"genome\"}]\n",
    "sources = [{\"id\": \"Siavash-1234\", \"name\": \"Geo-ID\"}]\n",
    "tech_name = \"scRNA-seq\"\n",
    "author = \"SG\"\n",
    "organism = \"human\"\n",
    "embeddings_key = \"X_pca\"\n",
    "transcriptoprint = True\n",
    "MV_file = \"/gstore/project/crc_recursion_gw/DLD1_Sublib1_bdev//DS000017114/Energy_Distance/e_dist_all.h5ad\"\n",
    "path = \"/gstore/project/crc_recursion_gw/DLD1_Sublib1_bdev//DS000017114/Energy_Distance\"\n"
   ]
  },
  {
   "cell_type": "code",
   "execution_count": 2,
   "id": "8cbb3b17",
   "metadata": {
    "execution": {
     "iopub.execute_input": "2024-08-14T18:39:32.143077Z",
     "iopub.status.busy": "2024-08-14T18:39:32.142597Z",
     "iopub.status.idle": "2024-08-14T18:39:51.530066Z",
     "shell.execute_reply": "2024-08-14T18:39:51.528468Z"
    },
    "papermill": {
     "duration": 19.402476,
     "end_time": "2024-08-14T18:39:51.533521",
     "exception": false,
     "start_time": "2024-08-14T18:39:32.131045",
     "status": "completed"
    },
    "tags": []
   },
   "outputs": [
    {
     "name": "stderr",
     "output_type": "stream",
     "text": [
      "/apps/user/gpy/envs/dev/GPUy310pascal/lib/python3.10/site-packages/scvi/_settings.py:63: UserWarning: Since v1.0.0, scvi-tools no longer uses a random seed by default. Run `scvi.settings.seed = 0` to reproduce results from previous versions.\n",
      "  self.seed = seed\n",
      "/apps/user/gpy/envs/dev/GPUy310pascal/lib/python3.10/site-packages/scvi/_settings.py:70: UserWarning: Setting `dl_pin_memory_gpu_training` is deprecated in v1.0 and will be removed in v1.1. Please pass in `pin_memory` to the data loaders instead.\n",
      "  self.dl_pin_memory_gpu_training = (\n"
     ]
    }
   ],
   "source": [
    "import sys\n",
    "sys.path.append(\"..\")\n",
    "import Templates.tools.multivariate as mv\n",
    "import seaborn as sns\n",
    "import scanpy as sc\n",
    "import numpy as np\n",
    "import pandas as pd\n",
    "import matplotlib.pyplot as plt"
   ]
  },
  {
   "cell_type": "code",
   "execution_count": 3,
   "id": "88b47f52",
   "metadata": {
    "execution": {
     "iopub.execute_input": "2024-08-14T18:39:51.560222Z",
     "iopub.status.busy": "2024-08-14T18:39:51.558764Z",
     "iopub.status.idle": "2024-08-14T18:41:35.986685Z",
     "shell.execute_reply": "2024-08-14T18:41:35.984373Z"
    },
    "papermill": {
     "duration": 104.444044,
     "end_time": "2024-08-14T18:41:35.990526",
     "exception": false,
     "start_time": "2024-08-14T18:39:51.546482",
     "status": "completed"
    },
    "tags": []
   },
   "outputs": [],
   "source": [
    "adata = sc.read_h5ad(MV_file)"
   ]
  },
  {
   "cell_type": "code",
   "execution_count": 4,
   "id": "7dc3cbb8-549f-411a-837e-d6c162398d42",
   "metadata": {
    "execution": {
     "iopub.execute_input": "2024-08-14T18:41:36.017887Z",
     "iopub.status.busy": "2024-08-14T18:41:36.017307Z",
     "iopub.status.idle": "2024-08-14T18:41:36.034687Z",
     "shell.execute_reply": "2024-08-14T18:41:36.033241Z"
    },
    "papermill": {
     "duration": 0.033315,
     "end_time": "2024-08-14T18:41:36.037995",
     "exception": false,
     "start_time": "2024-08-14T18:41:36.004680",
     "status": "completed"
    },
    "tags": []
   },
   "outputs": [
    {
     "data": {
      "text/plain": [
       "AnnData object with n_obs × n_vars = 595603 × 36603\n",
       "    obs: 'Sample', 'Barcode', 'DemuxType_crispr', 'DemuxAssignment_crispr', 'DemuxType_hashing', 'DemuxAssignment_hashing', 'cellline', 'timepoint', 'HTO', 'NGS_ID', 'Biological_replicate', '10Xrun', 'sublibrary', 'gRNA_library_MOI', 'gene_symbol', 'class', 'n_genes_by_counts', 'total_counts', 'total_counts_mt', 'pct_counts_mt', 'total_counts_ribo', 'pct_counts_ribo', 'qc_pass', 'S_score', 'G2M_score', 'phase', 'SCN_class', 'gem'\n",
       "    var: 'Symbol'\n",
       "    uns: 'DemuxAssignment_hashing_colors', 'Sample_colors', '_scvi_manager_uuid', '_scvi_uuid', 'energy_distance', 'leiden_colors', 'multivariate_report', 'neighbors', 'perturbation_embeddings', 'perturbations', 'umap'\n",
       "    obsm: 'X_pca', 'X_pca_centered', 'X_pca_sphered', 'X_pca_sphered_Norm', 'X_scVI', 'X_scVI_centered', 'X_umap'\n",
       "    layers: 'counts'\n",
       "    obsp: 'connectivities', 'distances'"
      ]
     },
     "execution_count": 4,
     "metadata": {},
     "output_type": "execute_result"
    }
   ],
   "source": [
    "adata"
   ]
  },
  {
   "cell_type": "code",
   "execution_count": 5,
   "id": "c8c2c10b-4867-4241-954c-b657534be256",
   "metadata": {
    "execution": {
     "iopub.execute_input": "2024-08-14T18:41:36.061522Z",
     "iopub.status.busy": "2024-08-14T18:41:36.061021Z",
     "iopub.status.idle": "2024-08-14T18:41:36.067591Z",
     "shell.execute_reply": "2024-08-14T18:41:36.066257Z"
    },
    "papermill": {
     "duration": 0.021975,
     "end_time": "2024-08-14T18:41:36.070912",
     "exception": false,
     "start_time": "2024-08-14T18:41:36.048937",
     "status": "completed"
    },
    "tags": []
   },
   "outputs": [],
   "source": [
    "key_uns = embeddings_key.split(\"_\",1)[-1]"
   ]
  },
  {
   "cell_type": "code",
   "execution_count": 6,
   "id": "834d0e41-6cfd-4f65-81ad-d2fb601489d0",
   "metadata": {
    "execution": {
     "iopub.execute_input": "2024-08-14T18:41:36.094538Z",
     "iopub.status.busy": "2024-08-14T18:41:36.094083Z",
     "iopub.status.idle": "2024-08-14T18:41:36.100553Z",
     "shell.execute_reply": "2024-08-14T18:41:36.099347Z"
    },
    "papermill": {
     "duration": 0.021932,
     "end_time": "2024-08-14T18:41:36.103722",
     "exception": false,
     "start_time": "2024-08-14T18:41:36.081790",
     "status": "completed"
    },
    "tags": []
   },
   "outputs": [],
   "source": [
    "if key_uns in [\"pca_sphered\",\"pca_sphered_Norm\"]:\n",
    "    centering = False\n",
    "else:\n",
    "    centering = True"
   ]
  },
  {
   "cell_type": "code",
   "execution_count": 7,
   "id": "e84f2879-a24f-41f9-8d46-f8921237bdec",
   "metadata": {
    "execution": {
     "iopub.execute_input": "2024-08-14T18:41:36.127690Z",
     "iopub.status.busy": "2024-08-14T18:41:36.127202Z",
     "iopub.status.idle": "2024-08-14T18:41:51.711278Z",
     "shell.execute_reply": "2024-08-14T18:41:51.709758Z"
    },
    "papermill": {
     "duration": 15.599825,
     "end_time": "2024-08-14T18:41:51.714756",
     "exception": false,
     "start_time": "2024-08-14T18:41:36.114931",
     "status": "completed"
    },
    "tags": []
   },
   "outputs": [],
   "source": [
    "if transcriptoprint:\n",
    "    A = list(mv.common_genes(key_uns, path))\n",
    "    A.append(\"NTC\")\n",
    "    bdata = adata[adata.obs[\"gene_symbol\"].isin(A)].copy()\n",
    "else:\n",
    "    bdata = adata.copy()"
   ]
  },
  {
   "cell_type": "code",
   "execution_count": 8,
   "id": "b28dc757",
   "metadata": {
    "execution": {
     "iopub.execute_input": "2024-08-14T18:41:51.742820Z",
     "iopub.status.busy": "2024-08-14T18:41:51.742305Z",
     "iopub.status.idle": "2024-08-14T18:41:51.751407Z",
     "shell.execute_reply": "2024-08-14T18:41:51.750116Z"
    },
    "papermill": {
     "duration": 0.025192,
     "end_time": "2024-08-14T18:41:51.754823",
     "exception": false,
     "start_time": "2024-08-14T18:41:51.729631",
     "status": "completed"
    },
    "tags": []
   },
   "outputs": [
    {
     "data": {
      "text/plain": [
       "AnnData object with n_obs × n_vars = 89915 × 36603\n",
       "    obs: 'Sample', 'Barcode', 'DemuxType_crispr', 'DemuxAssignment_crispr', 'DemuxType_hashing', 'DemuxAssignment_hashing', 'cellline', 'timepoint', 'HTO', 'NGS_ID', 'Biological_replicate', '10Xrun', 'sublibrary', 'gRNA_library_MOI', 'gene_symbol', 'class', 'n_genes_by_counts', 'total_counts', 'total_counts_mt', 'pct_counts_mt', 'total_counts_ribo', 'pct_counts_ribo', 'qc_pass', 'S_score', 'G2M_score', 'phase', 'SCN_class', 'gem'\n",
       "    var: 'Symbol'\n",
       "    uns: 'DemuxAssignment_hashing_colors', 'Sample_colors', '_scvi_manager_uuid', '_scvi_uuid', 'energy_distance', 'leiden_colors', 'multivariate_report', 'neighbors', 'perturbation_embeddings', 'perturbations', 'umap'\n",
       "    obsm: 'X_pca', 'X_pca_centered', 'X_pca_sphered', 'X_pca_sphered_Norm', 'X_scVI', 'X_scVI_centered', 'X_umap'\n",
       "    layers: 'counts'\n",
       "    obsp: 'connectivities', 'distances'"
      ]
     },
     "execution_count": 8,
     "metadata": {},
     "output_type": "execute_result"
    }
   ],
   "source": [
    "bdata"
   ]
  },
  {
   "cell_type": "code",
   "execution_count": 9,
   "id": "3bad59a0-ba07-49c8-928e-8764a8674c43",
   "metadata": {
    "execution": {
     "iopub.execute_input": "2024-08-14T18:41:51.779560Z",
     "iopub.status.busy": "2024-08-14T18:41:51.779086Z",
     "iopub.status.idle": "2024-08-14T18:41:52.011871Z",
     "shell.execute_reply": "2024-08-14T18:41:52.010736Z"
    },
    "papermill": {
     "duration": 0.248859,
     "end_time": "2024-08-14T18:41:52.015111",
     "exception": false,
     "start_time": "2024-08-14T18:41:51.766252",
     "status": "completed"
    },
    "tags": []
   },
   "outputs": [
    {
     "data": {
      "text/html": [
       "<div>\n",
       "<style scoped>\n",
       "    .dataframe tbody tr th:only-of-type {\n",
       "        vertical-align: middle;\n",
       "    }\n",
       "\n",
       "    .dataframe tbody tr th {\n",
       "        vertical-align: top;\n",
       "    }\n",
       "\n",
       "    .dataframe thead th {\n",
       "        text-align: right;\n",
       "    }\n",
       "</style>\n",
       "<table border=\"1\" class=\"dataframe\">\n",
       "  <thead>\n",
       "    <tr style=\"text-align: right;\">\n",
       "      <th></th>\n",
       "      <th>Sample</th>\n",
       "      <th>Barcode</th>\n",
       "      <th>DemuxType_crispr</th>\n",
       "      <th>DemuxAssignment_crispr</th>\n",
       "      <th>DemuxType_hashing</th>\n",
       "      <th>DemuxAssignment_hashing</th>\n",
       "      <th>cellline</th>\n",
       "      <th>timepoint</th>\n",
       "      <th>HTO</th>\n",
       "      <th>NGS_ID</th>\n",
       "      <th>...</th>\n",
       "      <th>total_counts_mt</th>\n",
       "      <th>pct_counts_mt</th>\n",
       "      <th>total_counts_ribo</th>\n",
       "      <th>pct_counts_ribo</th>\n",
       "      <th>qc_pass</th>\n",
       "      <th>S_score</th>\n",
       "      <th>G2M_score</th>\n",
       "      <th>phase</th>\n",
       "      <th>SCN_class</th>\n",
       "      <th>gem</th>\n",
       "    </tr>\n",
       "  </thead>\n",
       "  <tbody>\n",
       "    <tr>\n",
       "      <th>SAM24451293_rep1-AAACCCATCTGTCGTC</th>\n",
       "      <td>SAM24451293</td>\n",
       "      <td>AAACCCATCTGTCGTC</td>\n",
       "      <td>singlet</td>\n",
       "      <td>ENSG00000087111_4</td>\n",
       "      <td>singlet</td>\n",
       "      <td>SAM24439045</td>\n",
       "      <td>DLD1</td>\n",
       "      <td>day5</td>\n",
       "      <td>HTO-18</td>\n",
       "      <td>NGS5774</td>\n",
       "      <td>...</td>\n",
       "      <td>196</td>\n",
       "      <td>1.763859</td>\n",
       "      <td>2183</td>\n",
       "      <td>19.645428</td>\n",
       "      <td>True</td>\n",
       "      <td>0.246512</td>\n",
       "      <td>-0.306254</td>\n",
       "      <td>S</td>\n",
       "      <td>Untreatedclus_DLD1</td>\n",
       "      <td>NGS5774-1</td>\n",
       "    </tr>\n",
       "    <tr>\n",
       "      <th>SAM24451293_rep1-AAACGAATCGCCATAA</th>\n",
       "      <td>SAM24451293</td>\n",
       "      <td>AAACGAATCGCCATAA</td>\n",
       "      <td>singlet</td>\n",
       "      <td>ENSG00000171940_1</td>\n",
       "      <td>singlet</td>\n",
       "      <td>SAM24439043</td>\n",
       "      <td>DLD1</td>\n",
       "      <td>day5</td>\n",
       "      <td>HTO-3</td>\n",
       "      <td>NGS5774</td>\n",
       "      <td>...</td>\n",
       "      <td>663</td>\n",
       "      <td>4.193283</td>\n",
       "      <td>3899</td>\n",
       "      <td>24.660047</td>\n",
       "      <td>True</td>\n",
       "      <td>-0.660465</td>\n",
       "      <td>1.888190</td>\n",
       "      <td>G2M</td>\n",
       "      <td>Untreatedclus_DLD1</td>\n",
       "      <td>NGS5774-1</td>\n",
       "    </tr>\n",
       "    <tr>\n",
       "      <th>SAM24451293_rep1-AAACGAATCTTGAACG</th>\n",
       "      <td>SAM24451293</td>\n",
       "      <td>AAACGAATCTTGAACG</td>\n",
       "      <td>singlet</td>\n",
       "      <td>ENSG00000087365_4</td>\n",
       "      <td>singlet</td>\n",
       "      <td>POSITIVE_CONTROL</td>\n",
       "      <td>DLD1</td>\n",
       "      <td>day5</td>\n",
       "      <td>HTO-19</td>\n",
       "      <td>NGS5774</td>\n",
       "      <td>...</td>\n",
       "      <td>378</td>\n",
       "      <td>4.207012</td>\n",
       "      <td>1847</td>\n",
       "      <td>20.556483</td>\n",
       "      <td>True</td>\n",
       "      <td>-0.716279</td>\n",
       "      <td>-0.492313</td>\n",
       "      <td>G1</td>\n",
       "      <td>Untreatedclus_DLD1</td>\n",
       "      <td>NGS5774-1</td>\n",
       "    </tr>\n",
       "    <tr>\n",
       "      <th>SAM24451293_rep1-AAACGCTAGCAGCGAT</th>\n",
       "      <td>SAM24451293</td>\n",
       "      <td>AAACGCTAGCAGCGAT</td>\n",
       "      <td>singlet</td>\n",
       "      <td>ENSG00000108510_3</td>\n",
       "      <td>singlet</td>\n",
       "      <td>SAM24439043</td>\n",
       "      <td>DLD1</td>\n",
       "      <td>day5</td>\n",
       "      <td>HTO-10</td>\n",
       "      <td>NGS5774</td>\n",
       "      <td>...</td>\n",
       "      <td>35</td>\n",
       "      <td>0.497795</td>\n",
       "      <td>1679</td>\n",
       "      <td>23.879960</td>\n",
       "      <td>True</td>\n",
       "      <td>-0.665116</td>\n",
       "      <td>-0.573899</td>\n",
       "      <td>G1</td>\n",
       "      <td>Untreatedclus_DLD1</td>\n",
       "      <td>NGS5774-1</td>\n",
       "    </tr>\n",
       "    <tr>\n",
       "      <th>SAM24451293_rep1-AAACGCTAGCGTCAAG</th>\n",
       "      <td>SAM24451293</td>\n",
       "      <td>AAACGCTAGCGTCAAG</td>\n",
       "      <td>singlet</td>\n",
       "      <td>ENSG00000160691_4</td>\n",
       "      <td>singlet</td>\n",
       "      <td>SAM24439044</td>\n",
       "      <td>DLD1</td>\n",
       "      <td>day5</td>\n",
       "      <td>HTO-6</td>\n",
       "      <td>NGS5774</td>\n",
       "      <td>...</td>\n",
       "      <td>249</td>\n",
       "      <td>4.087328</td>\n",
       "      <td>1740</td>\n",
       "      <td>28.562049</td>\n",
       "      <td>True</td>\n",
       "      <td>-0.400000</td>\n",
       "      <td>-0.463662</td>\n",
       "      <td>G1</td>\n",
       "      <td>Untreatedclus_DLD1</td>\n",
       "      <td>NGS5774-1</td>\n",
       "    </tr>\n",
       "    <tr>\n",
       "      <th>...</th>\n",
       "      <td>...</td>\n",
       "      <td>...</td>\n",
       "      <td>...</td>\n",
       "      <td>...</td>\n",
       "      <td>...</td>\n",
       "      <td>...</td>\n",
       "      <td>...</td>\n",
       "      <td>...</td>\n",
       "      <td>...</td>\n",
       "      <td>...</td>\n",
       "      <td>...</td>\n",
       "      <td>...</td>\n",
       "      <td>...</td>\n",
       "      <td>...</td>\n",
       "      <td>...</td>\n",
       "      <td>...</td>\n",
       "      <td>...</td>\n",
       "      <td>...</td>\n",
       "      <td>...</td>\n",
       "      <td>...</td>\n",
       "      <td>...</td>\n",
       "    </tr>\n",
       "    <tr>\n",
       "      <th>SAM24449110_rep24-TTTGGTTCAAACGAGC</th>\n",
       "      <td>SAM24449110</td>\n",
       "      <td>TTTGGTTCAAACGAGC</td>\n",
       "      <td>singlet</td>\n",
       "      <td>NTC_162</td>\n",
       "      <td>singlet</td>\n",
       "      <td>SAM24439043</td>\n",
       "      <td>DLD1</td>\n",
       "      <td>day5</td>\n",
       "      <td>HTO-10</td>\n",
       "      <td>NGS5702</td>\n",
       "      <td>...</td>\n",
       "      <td>400</td>\n",
       "      <td>4.416961</td>\n",
       "      <td>1759</td>\n",
       "      <td>19.423587</td>\n",
       "      <td>True</td>\n",
       "      <td>-0.375788</td>\n",
       "      <td>-0.635220</td>\n",
       "      <td>G1</td>\n",
       "      <td>DOXclus_DLD1</td>\n",
       "      <td>NGS5702-24</td>\n",
       "    </tr>\n",
       "    <tr>\n",
       "      <th>SAM24449110_rep24-TTTGGTTCAATACCTG</th>\n",
       "      <td>SAM24449110</td>\n",
       "      <td>TTTGGTTCAATACCTG</td>\n",
       "      <td>singlet</td>\n",
       "      <td>ENSG00000172053_2</td>\n",
       "      <td>singlet</td>\n",
       "      <td>SAM24439044</td>\n",
       "      <td>DLD1</td>\n",
       "      <td>day5</td>\n",
       "      <td>HTO-5</td>\n",
       "      <td>NGS5702</td>\n",
       "      <td>...</td>\n",
       "      <td>25</td>\n",
       "      <td>1.193887</td>\n",
       "      <td>504</td>\n",
       "      <td>24.068768</td>\n",
       "      <td>True</td>\n",
       "      <td>-0.103673</td>\n",
       "      <td>-0.033194</td>\n",
       "      <td>G1</td>\n",
       "      <td>Untreatedclus_RCM1</td>\n",
       "      <td>NGS5702-24</td>\n",
       "    </tr>\n",
       "    <tr>\n",
       "      <th>SAM24449110_rep24-TTTGGTTTCTGTGTGA</th>\n",
       "      <td>SAM24449110</td>\n",
       "      <td>TTTGGTTTCTGTGTGA</td>\n",
       "      <td>singlet</td>\n",
       "      <td>ENSG00000102870_1</td>\n",
       "      <td>singlet</td>\n",
       "      <td>SAM24439043</td>\n",
       "      <td>DLD1</td>\n",
       "      <td>day5</td>\n",
       "      <td>HTO-10</td>\n",
       "      <td>NGS5702</td>\n",
       "      <td>...</td>\n",
       "      <td>39</td>\n",
       "      <td>0.631988</td>\n",
       "      <td>1377</td>\n",
       "      <td>22.314050</td>\n",
       "      <td>True</td>\n",
       "      <td>0.332102</td>\n",
       "      <td>0.174004</td>\n",
       "      <td>S</td>\n",
       "      <td>Untreatedclus_DLD1</td>\n",
       "      <td>NGS5702-24</td>\n",
       "    </tr>\n",
       "    <tr>\n",
       "      <th>SAM24449110_rep24-TTTGTTGAGTAATCCC</th>\n",
       "      <td>SAM24449110</td>\n",
       "      <td>TTTGTTGAGTAATCCC</td>\n",
       "      <td>singlet</td>\n",
       "      <td>NTC_239</td>\n",
       "      <td>singlet</td>\n",
       "      <td>SAM24439043</td>\n",
       "      <td>DLD1</td>\n",
       "      <td>day5</td>\n",
       "      <td>HTO-2</td>\n",
       "      <td>NGS5702</td>\n",
       "      <td>...</td>\n",
       "      <td>263</td>\n",
       "      <td>3.049629</td>\n",
       "      <td>1614</td>\n",
       "      <td>18.715213</td>\n",
       "      <td>True</td>\n",
       "      <td>-0.497066</td>\n",
       "      <td>0.122642</td>\n",
       "      <td>G2M</td>\n",
       "      <td>Untreatedclus_DLD1</td>\n",
       "      <td>NGS5702-24</td>\n",
       "    </tr>\n",
       "    <tr>\n",
       "      <th>SAM24449110_rep24-TTTGTTGCAGCGATTT</th>\n",
       "      <td>SAM24449110</td>\n",
       "      <td>TTTGTTGCAGCGATTT</td>\n",
       "      <td>singlet</td>\n",
       "      <td>NTC_474</td>\n",
       "      <td>singlet</td>\n",
       "      <td>SAM24439043</td>\n",
       "      <td>DLD1</td>\n",
       "      <td>day5</td>\n",
       "      <td>HTO-12</td>\n",
       "      <td>NGS5702</td>\n",
       "      <td>...</td>\n",
       "      <td>133</td>\n",
       "      <td>2.817200</td>\n",
       "      <td>1209</td>\n",
       "      <td>25.608981</td>\n",
       "      <td>True</td>\n",
       "      <td>-0.350793</td>\n",
       "      <td>-0.313417</td>\n",
       "      <td>G1</td>\n",
       "      <td>Untreatedclus_DLD1</td>\n",
       "      <td>NGS5702-24</td>\n",
       "    </tr>\n",
       "  </tbody>\n",
       "</table>\n",
       "<p>89915 rows × 28 columns</p>\n",
       "</div>"
      ],
      "text/plain": [
       "                                         Sample           Barcode  \\\n",
       "SAM24451293_rep1-AAACCCATCTGTCGTC   SAM24451293  AAACCCATCTGTCGTC   \n",
       "SAM24451293_rep1-AAACGAATCGCCATAA   SAM24451293  AAACGAATCGCCATAA   \n",
       "SAM24451293_rep1-AAACGAATCTTGAACG   SAM24451293  AAACGAATCTTGAACG   \n",
       "SAM24451293_rep1-AAACGCTAGCAGCGAT   SAM24451293  AAACGCTAGCAGCGAT   \n",
       "SAM24451293_rep1-AAACGCTAGCGTCAAG   SAM24451293  AAACGCTAGCGTCAAG   \n",
       "...                                         ...               ...   \n",
       "SAM24449110_rep24-TTTGGTTCAAACGAGC  SAM24449110  TTTGGTTCAAACGAGC   \n",
       "SAM24449110_rep24-TTTGGTTCAATACCTG  SAM24449110  TTTGGTTCAATACCTG   \n",
       "SAM24449110_rep24-TTTGGTTTCTGTGTGA  SAM24449110  TTTGGTTTCTGTGTGA   \n",
       "SAM24449110_rep24-TTTGTTGAGTAATCCC  SAM24449110  TTTGTTGAGTAATCCC   \n",
       "SAM24449110_rep24-TTTGTTGCAGCGATTT  SAM24449110  TTTGTTGCAGCGATTT   \n",
       "\n",
       "                                   DemuxType_crispr DemuxAssignment_crispr  \\\n",
       "SAM24451293_rep1-AAACCCATCTGTCGTC           singlet      ENSG00000087111_4   \n",
       "SAM24451293_rep1-AAACGAATCGCCATAA           singlet      ENSG00000171940_1   \n",
       "SAM24451293_rep1-AAACGAATCTTGAACG           singlet      ENSG00000087365_4   \n",
       "SAM24451293_rep1-AAACGCTAGCAGCGAT           singlet      ENSG00000108510_3   \n",
       "SAM24451293_rep1-AAACGCTAGCGTCAAG           singlet      ENSG00000160691_4   \n",
       "...                                             ...                    ...   \n",
       "SAM24449110_rep24-TTTGGTTCAAACGAGC          singlet                NTC_162   \n",
       "SAM24449110_rep24-TTTGGTTCAATACCTG          singlet      ENSG00000172053_2   \n",
       "SAM24449110_rep24-TTTGGTTTCTGTGTGA          singlet      ENSG00000102870_1   \n",
       "SAM24449110_rep24-TTTGTTGAGTAATCCC          singlet                NTC_239   \n",
       "SAM24449110_rep24-TTTGTTGCAGCGATTT          singlet                NTC_474   \n",
       "\n",
       "                                   DemuxType_hashing DemuxAssignment_hashing  \\\n",
       "SAM24451293_rep1-AAACCCATCTGTCGTC            singlet             SAM24439045   \n",
       "SAM24451293_rep1-AAACGAATCGCCATAA            singlet             SAM24439043   \n",
       "SAM24451293_rep1-AAACGAATCTTGAACG            singlet        POSITIVE_CONTROL   \n",
       "SAM24451293_rep1-AAACGCTAGCAGCGAT            singlet             SAM24439043   \n",
       "SAM24451293_rep1-AAACGCTAGCGTCAAG            singlet             SAM24439044   \n",
       "...                                              ...                     ...   \n",
       "SAM24449110_rep24-TTTGGTTCAAACGAGC           singlet             SAM24439043   \n",
       "SAM24449110_rep24-TTTGGTTCAATACCTG           singlet             SAM24439044   \n",
       "SAM24449110_rep24-TTTGGTTTCTGTGTGA           singlet             SAM24439043   \n",
       "SAM24449110_rep24-TTTGTTGAGTAATCCC           singlet             SAM24439043   \n",
       "SAM24449110_rep24-TTTGTTGCAGCGATTT           singlet             SAM24439043   \n",
       "\n",
       "                                   cellline timepoint     HTO   NGS_ID  ...  \\\n",
       "SAM24451293_rep1-AAACCCATCTGTCGTC      DLD1      day5  HTO-18  NGS5774  ...   \n",
       "SAM24451293_rep1-AAACGAATCGCCATAA      DLD1      day5   HTO-3  NGS5774  ...   \n",
       "SAM24451293_rep1-AAACGAATCTTGAACG      DLD1      day5  HTO-19  NGS5774  ...   \n",
       "SAM24451293_rep1-AAACGCTAGCAGCGAT      DLD1      day5  HTO-10  NGS5774  ...   \n",
       "SAM24451293_rep1-AAACGCTAGCGTCAAG      DLD1      day5   HTO-6  NGS5774  ...   \n",
       "...                                     ...       ...     ...      ...  ...   \n",
       "SAM24449110_rep24-TTTGGTTCAAACGAGC     DLD1      day5  HTO-10  NGS5702  ...   \n",
       "SAM24449110_rep24-TTTGGTTCAATACCTG     DLD1      day5   HTO-5  NGS5702  ...   \n",
       "SAM24449110_rep24-TTTGGTTTCTGTGTGA     DLD1      day5  HTO-10  NGS5702  ...   \n",
       "SAM24449110_rep24-TTTGTTGAGTAATCCC     DLD1      day5   HTO-2  NGS5702  ...   \n",
       "SAM24449110_rep24-TTTGTTGCAGCGATTT     DLD1      day5  HTO-12  NGS5702  ...   \n",
       "\n",
       "                                   total_counts_mt pct_counts_mt  \\\n",
       "SAM24451293_rep1-AAACCCATCTGTCGTC              196      1.763859   \n",
       "SAM24451293_rep1-AAACGAATCGCCATAA              663      4.193283   \n",
       "SAM24451293_rep1-AAACGAATCTTGAACG              378      4.207012   \n",
       "SAM24451293_rep1-AAACGCTAGCAGCGAT               35      0.497795   \n",
       "SAM24451293_rep1-AAACGCTAGCGTCAAG              249      4.087328   \n",
       "...                                            ...           ...   \n",
       "SAM24449110_rep24-TTTGGTTCAAACGAGC             400      4.416961   \n",
       "SAM24449110_rep24-TTTGGTTCAATACCTG              25      1.193887   \n",
       "SAM24449110_rep24-TTTGGTTTCTGTGTGA              39      0.631988   \n",
       "SAM24449110_rep24-TTTGTTGAGTAATCCC             263      3.049629   \n",
       "SAM24449110_rep24-TTTGTTGCAGCGATTT             133      2.817200   \n",
       "\n",
       "                                   total_counts_ribo pct_counts_ribo qc_pass  \\\n",
       "SAM24451293_rep1-AAACCCATCTGTCGTC               2183       19.645428    True   \n",
       "SAM24451293_rep1-AAACGAATCGCCATAA               3899       24.660047    True   \n",
       "SAM24451293_rep1-AAACGAATCTTGAACG               1847       20.556483    True   \n",
       "SAM24451293_rep1-AAACGCTAGCAGCGAT               1679       23.879960    True   \n",
       "SAM24451293_rep1-AAACGCTAGCGTCAAG               1740       28.562049    True   \n",
       "...                                              ...             ...     ...   \n",
       "SAM24449110_rep24-TTTGGTTCAAACGAGC              1759       19.423587    True   \n",
       "SAM24449110_rep24-TTTGGTTCAATACCTG               504       24.068768    True   \n",
       "SAM24449110_rep24-TTTGGTTTCTGTGTGA              1377       22.314050    True   \n",
       "SAM24449110_rep24-TTTGTTGAGTAATCCC              1614       18.715213    True   \n",
       "SAM24449110_rep24-TTTGTTGCAGCGATTT              1209       25.608981    True   \n",
       "\n",
       "                                     S_score  G2M_score  phase  \\\n",
       "SAM24451293_rep1-AAACCCATCTGTCGTC   0.246512  -0.306254      S   \n",
       "SAM24451293_rep1-AAACGAATCGCCATAA  -0.660465   1.888190    G2M   \n",
       "SAM24451293_rep1-AAACGAATCTTGAACG  -0.716279  -0.492313     G1   \n",
       "SAM24451293_rep1-AAACGCTAGCAGCGAT  -0.665116  -0.573899     G1   \n",
       "SAM24451293_rep1-AAACGCTAGCGTCAAG  -0.400000  -0.463662     G1   \n",
       "...                                      ...        ...    ...   \n",
       "SAM24449110_rep24-TTTGGTTCAAACGAGC -0.375788  -0.635220     G1   \n",
       "SAM24449110_rep24-TTTGGTTCAATACCTG -0.103673  -0.033194     G1   \n",
       "SAM24449110_rep24-TTTGGTTTCTGTGTGA  0.332102   0.174004      S   \n",
       "SAM24449110_rep24-TTTGTTGAGTAATCCC -0.497066   0.122642    G2M   \n",
       "SAM24449110_rep24-TTTGTTGCAGCGATTT -0.350793  -0.313417     G1   \n",
       "\n",
       "                                             SCN_class         gem  \n",
       "SAM24451293_rep1-AAACCCATCTGTCGTC   Untreatedclus_DLD1   NGS5774-1  \n",
       "SAM24451293_rep1-AAACGAATCGCCATAA   Untreatedclus_DLD1   NGS5774-1  \n",
       "SAM24451293_rep1-AAACGAATCTTGAACG   Untreatedclus_DLD1   NGS5774-1  \n",
       "SAM24451293_rep1-AAACGCTAGCAGCGAT   Untreatedclus_DLD1   NGS5774-1  \n",
       "SAM24451293_rep1-AAACGCTAGCGTCAAG   Untreatedclus_DLD1   NGS5774-1  \n",
       "...                                                ...         ...  \n",
       "SAM24449110_rep24-TTTGGTTCAAACGAGC        DOXclus_DLD1  NGS5702-24  \n",
       "SAM24449110_rep24-TTTGGTTCAATACCTG  Untreatedclus_RCM1  NGS5702-24  \n",
       "SAM24449110_rep24-TTTGGTTTCTGTGTGA  Untreatedclus_DLD1  NGS5702-24  \n",
       "SAM24449110_rep24-TTTGTTGAGTAATCCC  Untreatedclus_DLD1  NGS5702-24  \n",
       "SAM24449110_rep24-TTTGTTGCAGCGATTT  Untreatedclus_DLD1  NGS5702-24  \n",
       "\n",
       "[89915 rows x 28 columns]"
      ]
     },
     "execution_count": 9,
     "metadata": {},
     "output_type": "execute_result"
    }
   ],
   "source": [
    "bdata.obs"
   ]
  },
  {
   "cell_type": "code",
   "execution_count": 10,
   "id": "b1e488a4",
   "metadata": {
    "execution": {
     "iopub.execute_input": "2024-08-14T18:41:52.042895Z",
     "iopub.status.busy": "2024-08-14T18:41:52.042397Z",
     "iopub.status.idle": "2024-08-14T18:42:07.943233Z",
     "shell.execute_reply": "2024-08-14T18:42:07.941955Z"
    },
    "papermill": {
     "duration": 15.918115,
     "end_time": "2024-08-14T18:42:07.946545",
     "exception": false,
     "start_time": "2024-08-14T18:41:52.028430",
     "status": "completed"
    },
    "tags": []
   },
   "outputs": [],
   "source": [
    "perturbations_key = \"gene_symbol\"\n",
    "gene_graph, gene_sets = mv.enrichr_to_gene_graph(\"./Templates/data/CORUM.txt\", np.array(bdata.obs[perturbations_key].values))"
   ]
  },
  {
   "cell_type": "code",
   "execution_count": 11,
   "id": "85154759",
   "metadata": {
    "execution": {
     "iopub.execute_input": "2024-08-14T18:42:07.974480Z",
     "iopub.status.busy": "2024-08-14T18:42:07.974278Z",
     "iopub.status.idle": "2024-08-14T18:42:09.667987Z",
     "shell.execute_reply": "2024-08-14T18:42:09.666506Z"
    },
    "papermill": {
     "duration": 1.710963,
     "end_time": "2024-08-14T18:42:09.671507",
     "exception": false,
     "start_time": "2024-08-14T18:42:07.960544",
     "status": "completed"
    },
    "tags": []
   },
   "outputs": [],
   "source": [
    "embeddings_obj = mv.AnnDataEmbeddings(bdata, embeddings_key, perturbations_key, \"Sample\", \"NTC\")\n",
    "perturbation_embeddings = embeddings_obj.get_embeddings_from_list(list(gene_graph), agg=True, centering = centering)"
   ]
  },
  {
   "cell_type": "code",
   "execution_count": 12,
   "id": "38d38100",
   "metadata": {
    "execution": {
     "iopub.execute_input": "2024-08-14T18:42:09.700831Z",
     "iopub.status.busy": "2024-08-14T18:42:09.700322Z",
     "iopub.status.idle": "2024-08-14T18:42:09.708975Z",
     "shell.execute_reply": "2024-08-14T18:42:09.707843Z"
    },
    "papermill": {
     "duration": 0.025818,
     "end_time": "2024-08-14T18:42:09.711952",
     "exception": false,
     "start_time": "2024-08-14T18:42:09.686134",
     "status": "completed"
    },
    "tags": []
   },
   "outputs": [
    {
     "data": {
      "text/plain": [
       "(176, 50)"
      ]
     },
     "execution_count": 12,
     "metadata": {},
     "output_type": "execute_result"
    }
   ],
   "source": [
    "perturbation_embeddings.shape"
   ]
  },
  {
   "cell_type": "code",
   "execution_count": 13,
   "id": "7ea5271f",
   "metadata": {
    "execution": {
     "iopub.execute_input": "2024-08-14T18:42:09.739631Z",
     "iopub.status.busy": "2024-08-14T18:42:09.739067Z",
     "iopub.status.idle": "2024-08-14T18:42:24.942572Z",
     "shell.execute_reply": "2024-08-14T18:42:24.941594Z"
    },
    "papermill": {
     "duration": 15.220729,
     "end_time": "2024-08-14T18:42:24.945567",
     "exception": false,
     "start_time": "2024-08-14T18:42:09.724838",
     "status": "completed"
    },
    "tags": []
   },
   "outputs": [
    {
     "name": "stdout",
     "output_type": "stream",
     "text": [
      "Performing Kolmogorov-Smirnov test on gene set cosine similarity..\n"
     ]
    },
    {
     "name": "stdout",
     "output_type": "stream",
     "text": [
      "KS statistic: 0.2786885245901639, p-value: 7.821349400130516e-11\n"
     ]
    },
    {
     "data": {
      "image/png": "[encoded data removed]",
      "text/plain": [
       "<Figure size 640x480 with 1 Axes>"
      ]
     },
     "metadata": {},
     "output_type": "display_data"
    },
    {
     "name": "stdout",
     "output_type": "stream",
     "text": [
      "Computing distance matrix for embeddings..\n",
      "Computing link prediction metrics for cutoff percentile=0%\n",
      "Computing link prediction metrics for cutoff percentile=1%\n"
     ]
    },
    {
     "name": "stdout",
     "output_type": "stream",
     "text": [
      "Computing link prediction metrics for cutoff percentile=2%\n"
     ]
    },
    {
     "name": "stdout",
     "output_type": "stream",
     "text": [
      "Computing link prediction metrics for cutoff percentile=3%\n"
     ]
    },
    {
     "name": "stdout",
     "output_type": "stream",
     "text": [
      "Computing link prediction metrics for cutoff percentile=4%\n"
     ]
    },
    {
     "name": "stdout",
     "output_type": "stream",
     "text": [
      "Computing link prediction metrics for cutoff percentile=5%\n"
     ]
    },
    {
     "name": "stdout",
     "output_type": "stream",
     "text": [
      "Computing link prediction metrics for cutoff percentile=6%\n",
      "Computing link prediction metrics for cutoff percentile=7%\n"
     ]
    },
    {
     "name": "stdout",
     "output_type": "stream",
     "text": [
      "Computing link prediction metrics for cutoff percentile=8%\n",
      "Computing link prediction metrics for cutoff percentile=9%\n"
     ]
    },
    {
     "name": "stdout",
     "output_type": "stream",
     "text": [
      "Computing link prediction metrics for cutoff percentile=10%\n",
      "Computing link prediction metrics for cutoff percentile=11%\n"
     ]
    },
    {
     "name": "stdout",
     "output_type": "stream",
     "text": [
      "Computing link prediction metrics for cutoff percentile=12%\n",
      "Computing link prediction metrics for cutoff percentile=13%\n"
     ]
    },
    {
     "name": "stdout",
     "output_type": "stream",
     "text": [
      "Computing link prediction metrics for cutoff percentile=14%\n",
      "Computing link prediction metrics for cutoff percentile=15%\n"
     ]
    },
    {
     "name": "stdout",
     "output_type": "stream",
     "text": [
      "Computing link prediction metrics for cutoff percentile=16%\n",
      "Computing link prediction metrics for cutoff percentile=17%\n"
     ]
    },
    {
     "name": "stdout",
     "output_type": "stream",
     "text": [
      "Computing link prediction metrics for cutoff percentile=18%\n",
      "Computing link prediction metrics for cutoff percentile=19%\n"
     ]
    },
    {
     "name": "stdout",
     "output_type": "stream",
     "text": [
      "Computing link prediction metrics for cutoff percentile=20%\n",
      "Computing link prediction metrics for cutoff percentile=21%\n"
     ]
    },
    {
     "name": "stdout",
     "output_type": "stream",
     "text": [
      "Computing link prediction metrics for cutoff percentile=22%\n",
      "Computing link prediction metrics for cutoff percentile=23%\n"
     ]
    },
    {
     "name": "stdout",
     "output_type": "stream",
     "text": [
      "Computing link prediction metrics for cutoff percentile=24%\n",
      "Computing link prediction metrics for cutoff percentile=25%\n"
     ]
    },
    {
     "name": "stdout",
     "output_type": "stream",
     "text": [
      "Computing link prediction metrics for cutoff percentile=26%\n",
      "Computing link prediction metrics for cutoff percentile=27%\n"
     ]
    },
    {
     "name": "stdout",
     "output_type": "stream",
     "text": [
      "Computing link prediction metrics for cutoff percentile=28%\n",
      "Computing link prediction metrics for cutoff percentile=29%\n"
     ]
    },
    {
     "name": "stdout",
     "output_type": "stream",
     "text": [
      "Computing link prediction metrics for cutoff percentile=30%\n",
      "Computing link prediction metrics for cutoff percentile=31%\n"
     ]
    },
    {
     "name": "stdout",
     "output_type": "stream",
     "text": [
      "Computing link prediction metrics for cutoff percentile=32%\n",
      "Computing link prediction metrics for cutoff percentile=33%\n"
     ]
    },
    {
     "name": "stdout",
     "output_type": "stream",
     "text": [
      "Computing link prediction metrics for cutoff percentile=34%\n",
      "Computing link prediction metrics for cutoff percentile=35%\n"
     ]
    },
    {
     "name": "stdout",
     "output_type": "stream",
     "text": [
      "Computing link prediction metrics for cutoff percentile=36%\n",
      "Computing link prediction metrics for cutoff percentile=37%\n"
     ]
    },
    {
     "name": "stdout",
     "output_type": "stream",
     "text": [
      "Computing link prediction metrics for cutoff percentile=38%\n",
      "Computing link prediction metrics for cutoff percentile=39%\n"
     ]
    },
    {
     "name": "stdout",
     "output_type": "stream",
     "text": [
      "Computing link prediction metrics for cutoff percentile=40%\n",
      "Computing link prediction metrics for cutoff percentile=41%\n"
     ]
    },
    {
     "name": "stdout",
     "output_type": "stream",
     "text": [
      "Computing link prediction metrics for cutoff percentile=42%\n",
      "Computing link prediction metrics for cutoff percentile=43%\n"
     ]
    },
    {
     "name": "stdout",
     "output_type": "stream",
     "text": [
      "Computing link prediction metrics for cutoff percentile=44%\n",
      "Computing link prediction metrics for cutoff percentile=45%\n"
     ]
    },
    {
     "name": "stdout",
     "output_type": "stream",
     "text": [
      "Computing link prediction metrics for cutoff percentile=46%\n",
      "Computing link prediction metrics for cutoff percentile=47%\n"
     ]
    },
    {
     "name": "stdout",
     "output_type": "stream",
     "text": [
      "Computing link prediction metrics for cutoff percentile=48%\n",
      "Computing link prediction metrics for cutoff percentile=49%\n"
     ]
    },
    {
     "name": "stdout",
     "output_type": "stream",
     "text": [
      "Computing link prediction metrics for cutoff percentile=50%\n",
      "Computing link prediction metrics for cutoff percentile=51%\n"
     ]
    },
    {
     "name": "stdout",
     "output_type": "stream",
     "text": [
      "Computing link prediction metrics for cutoff percentile=52%\n",
      "Computing link prediction metrics for cutoff percentile=53%\n"
     ]
    },
    {
     "name": "stdout",
     "output_type": "stream",
     "text": [
      "Computing link prediction metrics for cutoff percentile=54%\n",
      "Computing link prediction metrics for cutoff percentile=55%\n"
     ]
    },
    {
     "name": "stdout",
     "output_type": "stream",
     "text": [
      "Computing link prediction metrics for cutoff percentile=56%\n",
      "Computing link prediction metrics for cutoff percentile=57%\n"
     ]
    },
    {
     "name": "stdout",
     "output_type": "stream",
     "text": [
      "Computing link prediction metrics for cutoff percentile=58%\n",
      "Computing link prediction metrics for cutoff percentile=59%\n"
     ]
    },
    {
     "name": "stdout",
     "output_type": "stream",
     "text": [
      "Computing link prediction metrics for cutoff percentile=60%\n",
      "Computing link prediction metrics for cutoff percentile=61%\n"
     ]
    },
    {
     "name": "stdout",
     "output_type": "stream",
     "text": [
      "Computing link prediction metrics for cutoff percentile=62%\n",
      "Computing link prediction metrics for cutoff percentile=63%\n"
     ]
    },
    {
     "name": "stdout",
     "output_type": "stream",
     "text": [
      "Computing link prediction metrics for cutoff percentile=64%\n",
      "Computing link prediction metrics for cutoff percentile=65%\n"
     ]
    },
    {
     "name": "stdout",
     "output_type": "stream",
     "text": [
      "Computing link prediction metrics for cutoff percentile=66%\n",
      "Computing link prediction metrics for cutoff percentile=67%\n"
     ]
    },
    {
     "name": "stdout",
     "output_type": "stream",
     "text": [
      "Computing link prediction metrics for cutoff percentile=68%\n",
      "Computing link prediction metrics for cutoff percentile=69%\n"
     ]
    },
    {
     "name": "stdout",
     "output_type": "stream",
     "text": [
      "Computing link prediction metrics for cutoff percentile=70%\n",
      "Computing link prediction metrics for cutoff percentile=71%\n"
     ]
    },
    {
     "name": "stdout",
     "output_type": "stream",
     "text": [
      "Computing link prediction metrics for cutoff percentile=72%\n",
      "Computing link prediction metrics for cutoff percentile=73%\n"
     ]
    },
    {
     "name": "stdout",
     "output_type": "stream",
     "text": [
      "Computing link prediction metrics for cutoff percentile=74%\n",
      "Computing link prediction metrics for cutoff percentile=75%\n"
     ]
    },
    {
     "name": "stdout",
     "output_type": "stream",
     "text": [
      "Computing link prediction metrics for cutoff percentile=76%\n",
      "Computing link prediction metrics for cutoff percentile=77%\n"
     ]
    },
    {
     "name": "stdout",
     "output_type": "stream",
     "text": [
      "Computing link prediction metrics for cutoff percentile=78%\n",
      "Computing link prediction metrics for cutoff percentile=79%\n"
     ]
    },
    {
     "name": "stdout",
     "output_type": "stream",
     "text": [
      "Computing link prediction metrics for cutoff percentile=80%\n",
      "Computing link prediction metrics for cutoff percentile=81%\n"
     ]
    },
    {
     "name": "stdout",
     "output_type": "stream",
     "text": [
      "Computing link prediction metrics for cutoff percentile=82%\n",
      "Computing link prediction metrics for cutoff percentile=83%\n"
     ]
    },
    {
     "name": "stdout",
     "output_type": "stream",
     "text": [
      "Computing link prediction metrics for cutoff percentile=84%\n",
      "Computing link prediction metrics for cutoff percentile=85%\n"
     ]
    },
    {
     "name": "stdout",
     "output_type": "stream",
     "text": [
      "Computing link prediction metrics for cutoff percentile=86%\n",
      "Computing link prediction metrics for cutoff percentile=87%\n"
     ]
    },
    {
     "name": "stdout",
     "output_type": "stream",
     "text": [
      "Computing link prediction metrics for cutoff percentile=88%\n",
      "Computing link prediction metrics for cutoff percentile=89%\n"
     ]
    },
    {
     "name": "stdout",
     "output_type": "stream",
     "text": [
      "Computing link prediction metrics for cutoff percentile=90%\n",
      "Computing link prediction metrics for cutoff percentile=91%\n"
     ]
    },
    {
     "name": "stdout",
     "output_type": "stream",
     "text": [
      "Computing link prediction metrics for cutoff percentile=92%\n",
      "Computing link prediction metrics for cutoff percentile=93%\n"
     ]
    },
    {
     "name": "stdout",
     "output_type": "stream",
     "text": [
      "Computing link prediction metrics for cutoff percentile=94%\n",
      "Computing link prediction metrics for cutoff percentile=95%\n"
     ]
    },
    {
     "name": "stdout",
     "output_type": "stream",
     "text": [
      "Computing link prediction metrics for cutoff percentile=96%\n",
      "Computing link prediction metrics for cutoff percentile=97%\n"
     ]
    },
    {
     "name": "stdout",
     "output_type": "stream",
     "text": [
      "Computing link prediction metrics for cutoff percentile=98%\n",
      "Computing link prediction metrics for cutoff percentile=99%\n"
     ]
    },
    {
     "name": "stdout",
     "output_type": "stream",
     "text": [
      "Finished prediction sweep over percentiles.\n"
     ]
    }
   ],
   "source": [
    "# needs to be cached in embeddings_obj\n",
    "report = mv.evaluate(perturbation_embeddings, gene_graph, gene_sets, percentile_range=[0, 100])"
   ]
  },
  {
   "cell_type": "code",
   "execution_count": 14,
   "id": "27b4b03d",
   "metadata": {
    "execution": {
     "iopub.execute_input": "2024-08-14T18:42:24.989501Z",
     "iopub.status.busy": "2024-08-14T18:42:24.989283Z",
     "iopub.status.idle": "2024-08-14T18:42:24.995646Z",
     "shell.execute_reply": "2024-08-14T18:42:24.994228Z"
    },
    "papermill": {
     "duration": 0.031091,
     "end_time": "2024-08-14T18:42:24.998977",
     "exception": false,
     "start_time": "2024-08-14T18:42:24.967886",
     "status": "completed"
    },
    "tags": []
   },
   "outputs": [],
   "source": [
    "recalls = [report[\"metrics_by_percentile\"][i][\"recall\"] for i in report[\"metrics_by_percentile\"]]\n",
    "precisions = [report[\"metrics_by_percentile\"][i][\"precision\"] for i in report[\"metrics_by_percentile\"]]\n",
    "tprs = [report[\"metrics_by_percentile\"][i][\"TPR\"] for i in report[\"metrics_by_percentile\"]]\n",
    "fprs = [report[\"metrics_by_percentile\"][i][\"FPR\"] for i in report[\"metrics_by_percentile\"]]"
   ]
  },
  {
   "cell_type": "code",
   "execution_count": 15,
   "id": "304d2617-8de2-4250-b689-3815bd375f4f",
   "metadata": {
    "execution": {
     "iopub.execute_input": "2024-08-14T18:42:25.041692Z",
     "iopub.status.busy": "2024-08-14T18:42:25.041219Z",
     "iopub.status.idle": "2024-08-14T18:42:25.050196Z",
     "shell.execute_reply": "2024-08-14T18:42:25.049002Z"
    },
    "papermill": {
     "duration": 0.032585,
     "end_time": "2024-08-14T18:42:25.052075",
     "exception": false,
     "start_time": "2024-08-14T18:42:25.019490",
     "status": "completed"
    },
    "tags": []
   },
   "outputs": [
    {
     "data": {
      "text/plain": [
       "{'recall': 0.39659685863874344,\n",
       " 'precision': 0.20725034199726403,\n",
       " 'f1_score': 0.2722371967654986,\n",
       " 'TPR': 0.39659685863874344,\n",
       " 'FPR': 0.0791883028149768}"
      ]
     },
     "execution_count": 15,
     "metadata": {},
     "output_type": "execute_result"
    }
   ],
   "source": [
    "report[\"metrics_by_percentile\"][95]"
   ]
  },
  {
   "cell_type": "code",
   "execution_count": 16,
   "id": "9741cf68-8040-4fbe-b0e8-151b87fd5a08",
   "metadata": {
    "execution": {
     "iopub.execute_input": "2024-08-14T18:42:25.071158Z",
     "iopub.status.busy": "2024-08-14T18:42:25.070664Z",
     "iopub.status.idle": "2024-08-14T18:42:25.079425Z",
     "shell.execute_reply": "2024-08-14T18:42:25.078233Z"
    },
    "papermill": {
     "duration": 0.020288,
     "end_time": "2024-08-14T18:42:25.081288",
     "exception": false,
     "start_time": "2024-08-14T18:42:25.061000",
     "status": "completed"
    },
    "tags": []
   },
   "outputs": [
    {
     "data": {
      "text/plain": [
       "{'recall': 0.5458115183246073,\n",
       " 'precision': 0.13853820598006644,\n",
       " 'f1_score': 0.22098569157392686,\n",
       " 'TPR': 0.5458115183246073,\n",
       " 'FPR': 0.1771658923203061}"
      ]
     },
     "execution_count": 16,
     "metadata": {},
     "output_type": "execute_result"
    }
   ],
   "source": [
    "report[\"metrics_by_percentile\"][90]"
   ]
  },
  {
   "cell_type": "code",
   "execution_count": 17,
   "id": "da7b6945",
   "metadata": {
    "execution": {
     "iopub.execute_input": "2024-08-14T18:42:25.100521Z",
     "iopub.status.busy": "2024-08-14T18:42:25.100050Z",
     "iopub.status.idle": "2024-08-14T18:42:25.419759Z",
     "shell.execute_reply": "2024-08-14T18:42:25.418568Z"
    },
    "papermill": {
     "duration": 0.331214,
     "end_time": "2024-08-14T18:42:25.421488",
     "exception": false,
     "start_time": "2024-08-14T18:42:25.090274",
     "status": "completed"
    },
    "tags": []
   },
   "outputs": [
    {
     "data": {
      "image/png": "[encoded data removed]",
      "text/plain": [
       "<Figure size 640x480 with 1 Axes>"
      ]
     },
     "metadata": {},
     "output_type": "display_data"
    }
   ],
   "source": [
    "# put plots in a plotting module file\n",
    "# plots should be generated from embeddings_obj or report\n",
    "plt.plot(recalls, precisions)\n",
    "sns.set_color_codes(\"pastel\")\n",
    "sns.set_theme()\n",
    "plt.xlabel(\"Recall\")\n",
    "plt.ylabel(\"Precision\")\n",
    "plt.title(\"Precision-Recall Curve on CORUM using scVI - DLDL1\")\n",
    "plt.show()"
   ]
  },
  {
   "cell_type": "code",
   "execution_count": 18,
   "id": "8eaba8e9",
   "metadata": {
    "execution": {
     "iopub.execute_input": "2024-08-14T18:42:25.447066Z",
     "iopub.status.busy": "2024-08-14T18:42:25.446606Z",
     "iopub.status.idle": "2024-08-14T18:42:25.831478Z",
     "shell.execute_reply": "2024-08-14T18:42:25.830383Z"
    },
    "papermill": {
     "duration": 0.400431,
     "end_time": "2024-08-14T18:42:25.833514",
     "exception": false,
     "start_time": "2024-08-14T18:42:25.433083",
     "status": "completed"
    },
    "tags": []
   },
   "outputs": [
    {
     "data": {
      "image/png": "[encoded data removed]",
      "text/plain": [
       "<Figure size 640x480 with 1 Axes>"
      ]
     },
     "metadata": {},
     "output_type": "display_data"
    }
   ],
   "source": [
    "plt.plot(fprs, tprs)\n",
    "plt.xlabel(\"False Positive Rate\")\n",
    "plt.ylabel(\"True Positive Rate\")\n",
    "plt.title(\"auROC Curve on CORUM using scVI - DLDL1\")\n",
    "plt.show()"
   ]
  },
  {
   "cell_type": "markdown",
   "id": "27c799e7-40bd-4c6a-9c11-eb14a9f17c00",
   "metadata": {
    "papermill": {
     "duration": 0.012657,
     "end_time": "2024-08-14T18:42:25.859207",
     "exception": false,
     "start_time": "2024-08-14T18:42:25.846550",
     "status": "completed"
    },
    "tags": []
   },
   "source": [
    "## Update the annadata object and write out the output"
   ]
  },
  {
   "cell_type": "code",
   "execution_count": 19,
   "id": "6ba7c857-ef85-4321-9e7d-712d3d196bb6",
   "metadata": {
    "execution": {
     "iopub.execute_input": "2024-08-14T18:42:25.886508Z",
     "iopub.status.busy": "2024-08-14T18:42:25.886088Z",
     "iopub.status.idle": "2024-08-14T18:42:25.892007Z",
     "shell.execute_reply": "2024-08-14T18:42:25.890857Z"
    },
    "papermill": {
     "duration": 0.022886,
     "end_time": "2024-08-14T18:42:25.894884",
     "exception": false,
     "start_time": "2024-08-14T18:42:25.871998",
     "status": "completed"
    },
    "tags": []
   },
   "outputs": [],
   "source": [
    "if \"multivariate_report\" not in bdata.uns:\n",
    "    bdata.uns[\"multivariate_report\"]={}"
   ]
  },
  {
   "cell_type": "code",
   "execution_count": 20,
   "id": "51f62080-fee8-49be-9e00-56b11d5221ce",
   "metadata": {
    "execution": {
     "iopub.execute_input": "2024-08-14T18:42:25.934896Z",
     "iopub.status.busy": "2024-08-14T18:42:25.934378Z",
     "iopub.status.idle": "2024-08-14T18:42:25.943161Z",
     "shell.execute_reply": "2024-08-14T18:42:25.941950Z"
    },
    "papermill": {
     "duration": 0.031446,
     "end_time": "2024-08-14T18:42:25.946404",
     "exception": false,
     "start_time": "2024-08-14T18:42:25.914958",
     "status": "completed"
    },
    "tags": []
   },
   "outputs": [],
   "source": [
    "if transcriptoprint==True:\n",
    "    bdata.uns[\"multivariate_report\"][key_uns][\"transcriptoprint\"] = {\"roc_auc\": report[\"roc_auc\"], \"auprc\": report[\"auprc\"], \n",
    "                                    \"95percentile\":report[\"metrics_by_percentile\"][95], \"90percentile\":report[\"metrics_by_percentile\"][90]}\n",
    "else:\n",
    "    bdata.uns[\"multivariate_report\"][key_uns] = {\"roc_auc\": report[\"roc_auc\"], \"auprc\": report[\"auprc\"], \n",
    "                                    \"95percentile\":report[\"metrics_by_percentile\"][95], \"90percentile\":report[\"metrics_by_percentile\"][90]}"
   ]
  },
  {
   "cell_type": "code",
   "execution_count": 21,
   "id": "8609253a-8d80-45ea-95f7-cab05fd32f20",
   "metadata": {
    "execution": {
     "iopub.execute_input": "2024-08-14T18:42:25.994263Z",
     "iopub.status.busy": "2024-08-14T18:42:25.993797Z",
     "iopub.status.idle": "2024-08-14T18:42:25.999999Z",
     "shell.execute_reply": "2024-08-14T18:42:25.998597Z"
    },
    "papermill": {
     "duration": 0.033669,
     "end_time": "2024-08-14T18:42:26.003289",
     "exception": false,
     "start_time": "2024-08-14T18:42:25.969620",
     "status": "completed"
    },
    "tags": []
   },
   "outputs": [],
   "source": [
    "adata.uns = bdata.uns.copy()"
   ]
  },
  {
   "cell_type": "code",
   "execution_count": 22,
   "id": "a97a34df",
   "metadata": {
    "execution": {
     "iopub.execute_input": "2024-08-14T18:42:26.051508Z",
     "iopub.status.busy": "2024-08-14T18:42:26.051043Z",
     "iopub.status.idle": "2024-08-14T18:43:48.724887Z",
     "shell.execute_reply": "2024-08-14T18:43:48.723737Z"
    },
    "papermill": {
     "duration": 82.701715,
     "end_time": "2024-08-14T18:43:48.728367",
     "exception": false,
     "start_time": "2024-08-14T18:42:26.026652",
     "status": "completed"
    },
    "tags": []
   },
   "outputs": [],
   "source": [
    "adata.write_h5ad(MV_file)"
   ]
  },
  {
   "cell_type": "code",
   "execution_count": 23,
   "id": "b5be6b23-cbd7-44b2-94fe-6500f9569b73",
   "metadata": {
    "execution": {
     "iopub.execute_input": "2024-08-14T18:43:48.780846Z",
     "iopub.status.busy": "2024-08-14T18:43:48.780596Z",
     "iopub.status.idle": "2024-08-14T18:43:48.787813Z",
     "shell.execute_reply": "2024-08-14T18:43:48.786731Z"
    },
    "papermill": {
     "duration": 0.034681,
     "end_time": "2024-08-14T18:43:48.791157",
     "exception": false,
     "start_time": "2024-08-14T18:43:48.756476",
     "status": "completed"
    },
    "tags": []
   },
   "outputs": [
    {
     "data": {
      "text/plain": [
       "{'90percentile': {'FPR': 0.19412159362235337,\n",
       "  'TPR': 0.48070412999322953,\n",
       "  'f1_score': 0.06495288628670753,\n",
       "  'precision': 0.03482953151827324,\n",
       "  'recall': 0.48070412999322953},\n",
       " '95percentile': {'FPR': 0.09387887996527022,\n",
       "  'TPR': 0.3818551117129316,\n",
       "  'f1_score': 0.09761163032191071,\n",
       "  'precision': 0.055957932334557,\n",
       "  'recall': 0.3818551117129316},\n",
       " 'auprc': 0.03187446483299185,\n",
       " 'roc_auc': 0.6717214220737605,\n",
       " 'transcriptoprint': {'roc_auc': 0.7393335696675629,\n",
       "  'auprc': 0.14438017197736355,\n",
       "  '95percentile': {'recall': 0.39659685863874344,\n",
       "   'precision': 0.20725034199726403,\n",
       "   'f1_score': 0.2722371967654986,\n",
       "   'TPR': 0.39659685863874344,\n",
       "   'FPR': 0.0791883028149768},\n",
       "  '90percentile': {'recall': 0.5458115183246073,\n",
       "   'precision': 0.13853820598006644,\n",
       "   'f1_score': 0.22098569157392686,\n",
       "   'TPR': 0.5458115183246073,\n",
       "   'FPR': 0.1771658923203061}}}"
      ]
     },
     "execution_count": 23,
     "metadata": {},
     "output_type": "execute_result"
    }
   ],
   "source": [
    "adata.uns['multivariate_report'][key_uns]"
   ]
  },
  {
   "cell_type": "markdown",
   "id": "93b17b35-7184-41c2-b142-445af994b1bc",
   "metadata": {
    "papermill": {
     "duration": 0.023161,
     "end_time": "2024-08-14T18:43:48.837950",
     "exception": false,
     "start_time": "2024-08-14T18:43:48.814789",
     "status": "completed"
    },
    "tags": []
   },
   "source": [
    "## Data Tabulation"
   ]
  },
  {
   "cell_type": "code",
   "execution_count": 24,
   "id": "7f089048-6324-423e-a4e4-5916c66d98e1",
   "metadata": {
    "execution": {
     "iopub.execute_input": "2024-08-14T18:43:48.886170Z",
     "iopub.status.busy": "2024-08-14T18:43:48.885940Z",
     "iopub.status.idle": "2024-08-14T18:43:48.891729Z",
     "shell.execute_reply": "2024-08-14T18:43:48.890690Z"
    },
    "papermill": {
     "duration": 0.032835,
     "end_time": "2024-08-14T18:43:48.894586",
     "exception": false,
     "start_time": "2024-08-14T18:43:48.861751",
     "status": "completed"
    },
    "tags": []
   },
   "outputs": [],
   "source": [
    "metrics = pd.DataFrame.from_dict(report[\"metrics_by_percentile\"],orient='index')"
   ]
  },
  {
   "cell_type": "code",
   "execution_count": 25,
   "id": "e5791ed4-9f6d-46e1-a381-dfa800d25881",
   "metadata": {
    "execution": {
     "iopub.execute_input": "2024-08-14T18:43:48.943649Z",
     "iopub.status.busy": "2024-08-14T18:43:48.943370Z",
     "iopub.status.idle": "2024-08-14T18:43:48.948922Z",
     "shell.execute_reply": "2024-08-14T18:43:48.947915Z"
    },
    "papermill": {
     "duration": 0.03357,
     "end_time": "2024-08-14T18:43:48.951852",
     "exception": false,
     "start_time": "2024-08-14T18:43:48.918282",
     "status": "completed"
    },
    "tags": []
   },
   "outputs": [],
   "source": [
    "metrics[\"percentile\"] = metrics.index"
   ]
  },
  {
   "cell_type": "code",
   "execution_count": 26,
   "id": "49c6b6bb-a163-42cb-806b-ec51ddd8f5d5",
   "metadata": {
    "execution": {
     "iopub.execute_input": "2024-08-14T18:43:49.000730Z",
     "iopub.status.busy": "2024-08-14T18:43:49.000435Z",
     "iopub.status.idle": "2024-08-14T18:43:49.014809Z",
     "shell.execute_reply": "2024-08-14T18:43:49.013863Z"
    },
    "papermill": {
     "duration": 0.042017,
     "end_time": "2024-08-14T18:43:49.017889",
     "exception": false,
     "start_time": "2024-08-14T18:43:48.975872",
     "status": "completed"
    },
    "tags": []
   },
   "outputs": [
    {
     "data": {
      "text/html": [
       "<div>\n",
       "<style scoped>\n",
       "    .dataframe tbody tr th:only-of-type {\n",
       "        vertical-align: middle;\n",
       "    }\n",
       "\n",
       "    .dataframe tbody tr th {\n",
       "        vertical-align: top;\n",
       "    }\n",
       "\n",
       "    .dataframe thead th {\n",
       "        text-align: right;\n",
       "    }\n",
       "</style>\n",
       "<table border=\"1\" class=\"dataframe\">\n",
       "  <thead>\n",
       "    <tr style=\"text-align: right;\">\n",
       "      <th></th>\n",
       "      <th>recall</th>\n",
       "      <th>precision</th>\n",
       "      <th>f1_score</th>\n",
       "      <th>TPR</th>\n",
       "      <th>FPR</th>\n",
       "      <th>percentile</th>\n",
       "    </tr>\n",
       "  </thead>\n",
       "  <tbody>\n",
       "    <tr>\n",
       "      <th>90</th>\n",
       "      <td>0.545812</td>\n",
       "      <td>0.138538</td>\n",
       "      <td>0.220986</td>\n",
       "      <td>0.545812</td>\n",
       "      <td>0.177166</td>\n",
       "      <td>90</td>\n",
       "    </tr>\n",
       "    <tr>\n",
       "      <th>91</th>\n",
       "      <td>0.532723</td>\n",
       "      <td>0.150741</td>\n",
       "      <td>0.234988</td>\n",
       "      <td>0.532723</td>\n",
       "      <td>0.156668</td>\n",
       "      <td>91</td>\n",
       "    </tr>\n",
       "    <tr>\n",
       "      <th>92</th>\n",
       "      <td>0.496073</td>\n",
       "      <td>0.158445</td>\n",
       "      <td>0.240177</td>\n",
       "      <td>0.496073</td>\n",
       "      <td>0.137538</td>\n",
       "      <td>92</td>\n",
       "    </tr>\n",
       "    <tr>\n",
       "      <th>93</th>\n",
       "      <td>0.465969</td>\n",
       "      <td>0.170989</td>\n",
       "      <td>0.250176</td>\n",
       "      <td>0.465969</td>\n",
       "      <td>0.117928</td>\n",
       "      <td>93</td>\n",
       "    </tr>\n",
       "    <tr>\n",
       "      <th>94</th>\n",
       "      <td>0.439791</td>\n",
       "      <td>0.189616</td>\n",
       "      <td>0.264984</td>\n",
       "      <td>0.439791</td>\n",
       "      <td>0.098114</td>\n",
       "      <td>94</td>\n",
       "    </tr>\n",
       "    <tr>\n",
       "      <th>95</th>\n",
       "      <td>0.396597</td>\n",
       "      <td>0.207250</td>\n",
       "      <td>0.272237</td>\n",
       "      <td>0.396597</td>\n",
       "      <td>0.079188</td>\n",
       "      <td>95</td>\n",
       "    </tr>\n",
       "    <tr>\n",
       "      <th>96</th>\n",
       "      <td>0.345550</td>\n",
       "      <td>0.229167</td>\n",
       "      <td>0.275574</td>\n",
       "      <td>0.345550</td>\n",
       "      <td>0.060672</td>\n",
       "      <td>96</td>\n",
       "    </tr>\n",
       "    <tr>\n",
       "      <th>97</th>\n",
       "      <td>0.272251</td>\n",
       "      <td>0.247031</td>\n",
       "      <td>0.259029</td>\n",
       "      <td>0.272251</td>\n",
       "      <td>0.043318</td>\n",
       "      <td>97</td>\n",
       "    </tr>\n",
       "    <tr>\n",
       "      <th>98</th>\n",
       "      <td>0.181937</td>\n",
       "      <td>0.261278</td>\n",
       "      <td>0.214506</td>\n",
       "      <td>0.181937</td>\n",
       "      <td>0.026852</td>\n",
       "      <td>98</td>\n",
       "    </tr>\n",
       "    <tr>\n",
       "      <th>99</th>\n",
       "      <td>0.073298</td>\n",
       "      <td>0.252252</td>\n",
       "      <td>0.113590</td>\n",
       "      <td>0.073298</td>\n",
       "      <td>0.011342</td>\n",
       "      <td>99</td>\n",
       "    </tr>\n",
       "  </tbody>\n",
       "</table>\n",
       "</div>"
      ],
      "text/plain": [
       "      recall  precision  f1_score       TPR       FPR  percentile\n",
       "90  0.545812   0.138538  0.220986  0.545812  0.177166          90\n",
       "91  0.532723   0.150741  0.234988  0.532723  0.156668          91\n",
       "92  0.496073   0.158445  0.240177  0.496073  0.137538          92\n",
       "93  0.465969   0.170989  0.250176  0.465969  0.117928          93\n",
       "94  0.439791   0.189616  0.264984  0.439791  0.098114          94\n",
       "95  0.396597   0.207250  0.272237  0.396597  0.079188          95\n",
       "96  0.345550   0.229167  0.275574  0.345550  0.060672          96\n",
       "97  0.272251   0.247031  0.259029  0.272251  0.043318          97\n",
       "98  0.181937   0.261278  0.214506  0.181937  0.026852          98\n",
       "99  0.073298   0.252252  0.113590  0.073298  0.011342          99"
      ]
     },
     "execution_count": 26,
     "metadata": {},
     "output_type": "execute_result"
    }
   ],
   "source": [
    "metrics[metrics.percentile>89]"
   ]
  },
  {
   "cell_type": "code",
   "execution_count": 27,
   "id": "14e5d669-7529-4dbd-b69a-83237abf540f",
   "metadata": {
    "execution": {
     "iopub.execute_input": "2024-08-14T18:43:49.067661Z",
     "iopub.status.busy": "2024-08-14T18:43:49.067193Z",
     "iopub.status.idle": "2024-08-14T18:43:50.611927Z",
     "shell.execute_reply": "2024-08-14T18:43:50.610986Z"
    },
    "papermill": {
     "duration": 1.5734,
     "end_time": "2024-08-14T18:43:50.615386",
     "exception": false,
     "start_time": "2024-08-14T18:43:49.041986",
     "status": "completed"
    },
    "tags": []
   },
   "outputs": [
    {
     "data": {
      "image/png": "[encoded data removed]",
      "text/plain": [
       "<Figure size 900x300 with 3 Axes>"
      ]
     },
     "metadata": {},
     "output_type": "display_data"
    }
   ],
   "source": [
    "_, axs = plt.subplots(1, 3, figsize=np.array([3, 1]) * 3)\n",
    "xy = [(\"percentile\", \"recall\"), (\"percentile\", \"precision\"), (\"recall\", \"precision\")]\n",
    "for (x, y), ax in zip(xy, axs.flat):\n",
    "    ax.plot(metrics[x], metrics[y])\n",
    "    ax.grid()\n",
    "    ax.set_xlabel(x)\n",
    "    ax.set_ylabel(y)\n",
    "plt.tight_layout()"
   ]
  },
  {
   "cell_type": "code",
   "execution_count": null,
   "id": "24f75dc9-5df0-421b-9f00-6f5074792702",
   "metadata": {
    "papermill": {
     "duration": 0.025098,
     "end_time": "2024-08-14T18:43:50.667139",
     "exception": false,
     "start_time": "2024-08-14T18:43:50.642041",
     "status": "completed"
    },
    "tags": []
   },
   "outputs": [],
   "source": []
  }
 ],
 "metadata": {
  "kernelspec": {
   "display_name": "Dev/GPuy310",
   "language": "python",
   "name": "gpuy310-dev"
  },
  "language_info": {
   "codemirror_mode": {
    "name": "ipython",
    "version": 3
   },
   "file_extension": ".py",
   "mimetype": "text/x-python",
   "name": "python",
   "nbconvert_exporter": "python",
   "pygments_lexer": "ipython3",
   "version": "3.10.8"
  },
  "papermill": {
   "default_parameters": {},
   "duration": 271.862718,
   "end_time": "2024-08-14T18:44:00.215783",
   "environment_variables": {},
   "exception": null,
   "input_path": "./Templates/Multivariate_updated.ipynb",
   "output_path": "/gstore/home/ghaffars/Cumulus/crc_dld1_sublib1_bdev/crop-seq-pipeline/Reports/DS000017114_Multivariate_pca_Phonetype_genes.ipynb",
   "parameters": {
    "DEV": false,
    "DS_test": false,
    "DatasetID": "DS000017114",
    "MV_file": "/gstore/project/crc_recursion_gw/DLD1_Sublib1_bdev//DS000017114/Energy_Distance/e_dist_all.h5ad",
    "author": "SG",
    "description": "Production scale screen in DLD-1 cells with 1/4 of the genome-wide CRISPR library (sub-lib-1, ~22K guides). 1 time point: Day-5. We performed 24 rxns of 10x 3' HT kit with an estimated loading of 52K cells. We performed a pilot study to test the library quality before the production-level sequencing. We will submit 72 libraries (24 GEX, 24 HTO and 24 sgRNA) We estimate need 600M for GEX, 30M for HTO and 50M for sgRNA. This is a repeat run to correct chip loading.",
    "embeddings_key": "X_pca",
    "name_space": [
     {
      "id": "GRCh38",
      "type": "genome"
     }
    ],
    "organism": "human",
    "path": "/gstore/project/crc_recursion_gw/DLD1_Sublib1_bdev//DS000017114/Energy_Distance",
    "sources": [
     {
      "id": "Siavash-1234",
      "name": "Geo-ID"
     }
    ],
    "tech_name": "scRNA-seq",
    "test_DatasetID": "",
    "title": "Recursion DLD1 Library1 Screen Day 5- combination of NGS 5774 and NGS 5702",
    "transcriptoprint": true
   },
   "start_time": "2024-08-14T18:39:28.353065",
   "version": "2.6.0"
  },
  "widgets": {
   "application/vnd.jupyter.widget-state+json": {
    "state": {},
    "version_major": 2,
    "version_minor": 0
   }
  }
 },
 "nbformat": 4,
 "nbformat_minor": 5
}