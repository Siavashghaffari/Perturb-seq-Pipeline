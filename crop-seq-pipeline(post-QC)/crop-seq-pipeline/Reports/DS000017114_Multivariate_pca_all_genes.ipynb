{
 "cells": [
  {
   "cell_type": "code",
   "execution_count": 1,
   "id": "c8c2054f",
   "metadata": {
    "execution": {
     "iopub.execute_input": "2024-08-14T17:51:38.360336Z",
     "iopub.status.busy": "2024-08-14T17:51:38.359859Z",
     "iopub.status.idle": "2024-08-14T17:51:38.377323Z",
     "shell.execute_reply": "2024-08-14T17:51:38.376008Z"
    },
    "papermill": {
     "duration": 0.045805,
     "end_time": "2024-08-14T17:51:38.380604",
     "exception": false,
     "start_time": "2024-08-14T17:51:38.334799",
     "status": "completed"
    },
    "tags": [
     "injected-parameters"
    ]
   },
   "outputs": [],
   "source": [
    "# Parameters\n",
    "DatasetID = \"DS000017114\"\n",
    "DEV = False\n",
    "test_DatasetID = \"\"\n",
    "DS_test = False\n",
    "title = \"Recursion DLD1 Library1 Screen Day 5- combination of NGS 5774 and NGS 5702\"\n",
    "description = \"Production scale screen in DLD-1 cells with 1/4 of the genome-wide CRISPR library (sub-lib-1, ~22K guides). 1 time point: Day-5. We performed 24 rxns of 10x 3' HT kit with an estimated loading of 52K cells. We performed a pilot study to test the library quality before the production-level sequencing. We will submit 72 libraries (24 GEX, 24 HTO and 24 sgRNA) We estimate need 600M for GEX, 30M for HTO and 50M for sgRNA. This is a repeat run to correct chip loading.\"\n",
    "name_space = [{\"id\": \"GRCh38\", \"type\": \"genome\"}]\n",
    "sources = [{\"id\": \"Siavash-1234\", \"name\": \"Geo-ID\"}]\n",
    "tech_name = \"scRNA-seq\"\n",
    "author = \"SG\"\n",
    "organism = \"human\"\n",
    "embeddings_key = \"X_pca\"\n",
    "transcriptoprint = False\n",
    "MV_file = \"/gstore/project/crc_recursion_gw/DLD1_Sublib1_bdev//DS000017114/Energy_Distance/e_dist_all.h5ad\"\n",
    "path = \"/gstore/project/crc_recursion_gw/DLD1_Sublib1_bdev//DS000017114/Energy_Distance\"\n"
   ]
  },
  {
   "cell_type": "code",
   "execution_count": 2,
   "id": "8cbb3b17",
   "metadata": {
    "execution": {
     "iopub.execute_input": "2024-08-14T17:51:38.405954Z",
     "iopub.status.busy": "2024-08-14T17:51:38.405483Z",
     "iopub.status.idle": "2024-08-14T17:52:53.530521Z",
     "shell.execute_reply": "2024-08-14T17:52:53.528883Z"
    },
    "papermill": {
     "duration": 75.140325,
     "end_time": "2024-08-14T17:52:53.534158",
     "exception": false,
     "start_time": "2024-08-14T17:51:38.393833",
     "status": "completed"
    },
    "tags": []
   },
   "outputs": [
    {
     "name": "stderr",
     "output_type": "stream",
     "text": [
      "/apps/user/gpy/envs/dev/GPUy310pascal/lib/python3.10/site-packages/scvi/_settings.py:63: UserWarning: Since v1.0.0, scvi-tools no longer uses a random seed by default. Run `scvi.settings.seed = 0` to reproduce results from previous versions.\n",
      "  self.seed = seed\n",
      "/apps/user/gpy/envs/dev/GPUy310pascal/lib/python3.10/site-packages/scvi/_settings.py:70: UserWarning: Setting `dl_pin_memory_gpu_training` is deprecated in v1.0 and will be removed in v1.1. Please pass in `pin_memory` to the data loaders instead.\n",
      "  self.dl_pin_memory_gpu_training = (\n"
     ]
    }
   ],
   "source": [
    "import sys\n",
    "sys.path.append(\"..\")\n",
    "import Templates.tools.multivariate as mv\n",
    "import seaborn as sns\n",
    "import scanpy as sc\n",
    "import numpy as np\n",
    "import pandas as pd\n",
    "import matplotlib.pyplot as plt"
   ]
  },
  {
   "cell_type": "code",
   "execution_count": 3,
   "id": "88b47f52",
   "metadata": {
    "execution": {
     "iopub.execute_input": "2024-08-14T17:52:53.561333Z",
     "iopub.status.busy": "2024-08-14T17:52:53.559894Z",
     "iopub.status.idle": "2024-08-14T17:55:16.386502Z",
     "shell.execute_reply": "2024-08-14T17:55:16.384483Z"
    },
    "papermill": {
     "duration": 142.841656,
     "end_time": "2024-08-14T17:55:16.389264",
     "exception": false,
     "start_time": "2024-08-14T17:52:53.547608",
     "status": "completed"
    },
    "tags": []
   },
   "outputs": [],
   "source": [
    "adata = sc.read_h5ad(MV_file)"
   ]
  },
  {
   "cell_type": "code",
   "execution_count": 4,
   "id": "7dc3cbb8-549f-411a-837e-d6c162398d42",
   "metadata": {
    "execution": {
     "iopub.execute_input": "2024-08-14T17:55:16.407327Z",
     "iopub.status.busy": "2024-08-14T17:55:16.406806Z",
     "iopub.status.idle": "2024-08-14T17:55:16.423738Z",
     "shell.execute_reply": "2024-08-14T17:55:16.422495Z"
    },
    "papermill": {
     "duration": 0.026819,
     "end_time": "2024-08-14T17:55:16.425825",
     "exception": false,
     "start_time": "2024-08-14T17:55:16.399006",
     "status": "completed"
    },
    "tags": []
   },
   "outputs": [
    {
     "data": {
      "text/plain": [
       "AnnData object with n_obs × n_vars = 595603 × 36603\n",
       "    obs: 'Sample', 'Barcode', 'DemuxType_crispr', 'DemuxAssignment_crispr', 'DemuxType_hashing', 'DemuxAssignment_hashing', 'cellline', 'timepoint', 'HTO', 'NGS_ID', 'Biological_replicate', '10Xrun', 'sublibrary', 'gRNA_library_MOI', 'gene_symbol', 'class', 'n_genes_by_counts', 'total_counts', 'total_counts_mt', 'pct_counts_mt', 'total_counts_ribo', 'pct_counts_ribo', 'qc_pass', 'S_score', 'G2M_score', 'phase', 'SCN_class', 'gem'\n",
       "    var: 'Symbol'\n",
       "    uns: 'DemuxAssignment_hashing_colors', 'Sample_colors', '_scvi_manager_uuid', '_scvi_uuid', 'energy_distance', 'leiden_colors', 'neighbors', 'umap'\n",
       "    obsm: 'X_pca', 'X_pca_centered', 'X_pca_sphered', 'X_pca_sphered_Norm', 'X_scVI', 'X_scVI_centered', 'X_umap'\n",
       "    layers: 'counts'\n",
       "    obsp: 'connectivities', 'distances'"
      ]
     },
     "execution_count": 4,
     "metadata": {},
     "output_type": "execute_result"
    }
   ],
   "source": [
    "adata"
   ]
  },
  {
   "cell_type": "code",
   "execution_count": 5,
   "id": "c8c2c10b-4867-4241-954c-b657534be256",
   "metadata": {
    "execution": {
     "iopub.execute_input": "2024-08-14T17:55:16.440284Z",
     "iopub.status.busy": "2024-08-14T17:55:16.439814Z",
     "iopub.status.idle": "2024-08-14T17:55:16.446357Z",
     "shell.execute_reply": "2024-08-14T17:55:16.445117Z"
    },
    "papermill": {
     "duration": 0.016142,
     "end_time": "2024-08-14T17:55:16.448415",
     "exception": false,
     "start_time": "2024-08-14T17:55:16.432273",
     "status": "completed"
    },
    "tags": []
   },
   "outputs": [],
   "source": [
    "key_uns = embeddings_key.split(\"_\",1)[-1]"
   ]
  },
  {
   "cell_type": "code",
   "execution_count": 6,
   "id": "834d0e41-6cfd-4f65-81ad-d2fb601489d0",
   "metadata": {
    "execution": {
     "iopub.execute_input": "2024-08-14T17:55:16.468257Z",
     "iopub.status.busy": "2024-08-14T17:55:16.467783Z",
     "iopub.status.idle": "2024-08-14T17:55:16.474486Z",
     "shell.execute_reply": "2024-08-14T17:55:16.473074Z"
    },
    "papermill": {
     "duration": 0.017986,
     "end_time": "2024-08-14T17:55:16.476715",
     "exception": false,
     "start_time": "2024-08-14T17:55:16.458729",
     "status": "completed"
    },
    "tags": []
   },
   "outputs": [],
   "source": [
    "if key_uns in [\"pca_sphered\",\"pca_sphered_Norm\"]:\n",
    "    centering = False\n",
    "else:\n",
    "    centering = True"
   ]
  },
  {
   "cell_type": "code",
   "execution_count": 7,
   "id": "e84f2879-a24f-41f9-8d46-f8921237bdec",
   "metadata": {
    "execution": {
     "iopub.execute_input": "2024-08-14T17:55:16.491201Z",
     "iopub.status.busy": "2024-08-14T17:55:16.490682Z",
     "iopub.status.idle": "2024-08-14T17:56:09.993835Z",
     "shell.execute_reply": "2024-08-14T17:56:09.992247Z"
    },
    "papermill": {
     "duration": 53.513267,
     "end_time": "2024-08-14T17:56:09.996398",
     "exception": false,
     "start_time": "2024-08-14T17:55:16.483131",
     "status": "completed"
    },
    "tags": []
   },
   "outputs": [],
   "source": [
    "if transcriptoprint:\n",
    "    A = list(mv.common_genes(key_uns, path))\n",
    "    A.append(\"NTC\")\n",
    "    bdata = adata[adata.obs[\"gene_symbol\"].isin(A)].copy()\n",
    "else:\n",
    "    bdata = adata.copy()"
   ]
  },
  {
   "cell_type": "code",
   "execution_count": 8,
   "id": "b28dc757",
   "metadata": {
    "execution": {
     "iopub.execute_input": "2024-08-14T17:56:10.011349Z",
     "iopub.status.busy": "2024-08-14T17:56:10.010862Z",
     "iopub.status.idle": "2024-08-14T17:56:10.019960Z",
     "shell.execute_reply": "2024-08-14T17:56:10.018613Z"
    },
    "papermill": {
     "duration": 0.018333,
     "end_time": "2024-08-14T17:56:10.021914",
     "exception": false,
     "start_time": "2024-08-14T17:56:10.003581",
     "status": "completed"
    },
    "tags": []
   },
   "outputs": [
    {
     "data": {
      "text/plain": [
       "AnnData object with n_obs × n_vars = 595603 × 36603\n",
       "    obs: 'Sample', 'Barcode', 'DemuxType_crispr', 'DemuxAssignment_crispr', 'DemuxType_hashing', 'DemuxAssignment_hashing', 'cellline', 'timepoint', 'HTO', 'NGS_ID', 'Biological_replicate', '10Xrun', 'sublibrary', 'gRNA_library_MOI', 'gene_symbol', 'class', 'n_genes_by_counts', 'total_counts', 'total_counts_mt', 'pct_counts_mt', 'total_counts_ribo', 'pct_counts_ribo', 'qc_pass', 'S_score', 'G2M_score', 'phase', 'SCN_class', 'gem'\n",
       "    var: 'Symbol'\n",
       "    uns: 'DemuxAssignment_hashing_colors', 'Sample_colors', '_scvi_manager_uuid', '_scvi_uuid', 'energy_distance', 'leiden_colors', 'neighbors', 'umap'\n",
       "    obsm: 'X_pca', 'X_pca_centered', 'X_pca_sphered', 'X_pca_sphered_Norm', 'X_scVI', 'X_scVI_centered', 'X_umap'\n",
       "    layers: 'counts'\n",
       "    obsp: 'connectivities', 'distances'"
      ]
     },
     "execution_count": 8,
     "metadata": {},
     "output_type": "execute_result"
    }
   ],
   "source": [
    "bdata"
   ]
  },
  {
   "cell_type": "code",
   "execution_count": 9,
   "id": "3bad59a0-ba07-49c8-928e-8764a8674c43",
   "metadata": {
    "execution": {
     "iopub.execute_input": "2024-08-14T17:56:10.035271Z",
     "iopub.status.busy": "2024-08-14T17:56:10.034597Z",
     "iopub.status.idle": "2024-08-14T17:56:10.728300Z",
     "shell.execute_reply": "2024-08-14T17:56:10.727013Z"
    },
    "papermill": {
     "duration": 0.702946,
     "end_time": "2024-08-14T17:56:10.730507",
     "exception": false,
     "start_time": "2024-08-14T17:56:10.027561",
     "status": "completed"
    },
    "tags": []
   },
   "outputs": [
    {
     "data": {
      "text/html": [
       "<div>\n",
       "<style scoped>\n",
       "    .dataframe tbody tr th:only-of-type {\n",
       "        vertical-align: middle;\n",
       "    }\n",
       "\n",
       "    .dataframe tbody tr th {\n",
       "        vertical-align: top;\n",
       "    }\n",
       "\n",
       "    .dataframe thead th {\n",
       "        text-align: right;\n",
       "    }\n",
       "</style>\n",
       "<table border=\"1\" class=\"dataframe\">\n",
       "  <thead>\n",
       "    <tr style=\"text-align: right;\">\n",
       "      <th></th>\n",
       "      <th>Sample</th>\n",
       "      <th>Barcode</th>\n",
       "      <th>DemuxType_crispr</th>\n",
       "      <th>DemuxAssignment_crispr</th>\n",
       "      <th>DemuxType_hashing</th>\n",
       "      <th>DemuxAssignment_hashing</th>\n",
       "      <th>cellline</th>\n",
       "      <th>timepoint</th>\n",
       "      <th>HTO</th>\n",
       "      <th>NGS_ID</th>\n",
       "      <th>...</th>\n",
       "      <th>total_counts_mt</th>\n",
       "      <th>pct_counts_mt</th>\n",
       "      <th>total_counts_ribo</th>\n",
       "      <th>pct_counts_ribo</th>\n",
       "      <th>qc_pass</th>\n",
       "      <th>S_score</th>\n",
       "      <th>G2M_score</th>\n",
       "      <th>phase</th>\n",
       "      <th>SCN_class</th>\n",
       "      <th>gem</th>\n",
       "    </tr>\n",
       "  </thead>\n",
       "  <tbody>\n",
       "    <tr>\n",
       "      <th>SAM24451293_rep1-AAACCCAAGAAATCCA</th>\n",
       "      <td>SAM24451293</td>\n",
       "      <td>AAACCCAAGAAATCCA</td>\n",
       "      <td>singlet</td>\n",
       "      <td>ENSG00000154124_2</td>\n",
       "      <td>singlet</td>\n",
       "      <td>SAM24439044</td>\n",
       "      <td>DLD1</td>\n",
       "      <td>day5</td>\n",
       "      <td>HTO-14</td>\n",
       "      <td>NGS5774</td>\n",
       "      <td>...</td>\n",
       "      <td>534</td>\n",
       "      <td>3.448721</td>\n",
       "      <td>3024</td>\n",
       "      <td>19.529837</td>\n",
       "      <td>True</td>\n",
       "      <td>-0.734884</td>\n",
       "      <td>-0.491440</td>\n",
       "      <td>G1</td>\n",
       "      <td>Untreatedclus_DLD1</td>\n",
       "      <td>NGS5774-1</td>\n",
       "    </tr>\n",
       "    <tr>\n",
       "      <th>SAM24451293_rep1-AAACCCAAGACAGTCG</th>\n",
       "      <td>SAM24451293</td>\n",
       "      <td>AAACCCAAGACAGTCG</td>\n",
       "      <td>singlet</td>\n",
       "      <td>ENSG00000171017_3</td>\n",
       "      <td>singlet</td>\n",
       "      <td>SAM24439045</td>\n",
       "      <td>DLD1</td>\n",
       "      <td>day5</td>\n",
       "      <td>HTO-18</td>\n",
       "      <td>NGS5774</td>\n",
       "      <td>...</td>\n",
       "      <td>618</td>\n",
       "      <td>6.336512</td>\n",
       "      <td>2152</td>\n",
       "      <td>22.065006</td>\n",
       "      <td>True</td>\n",
       "      <td>-0.493023</td>\n",
       "      <td>0.231481</td>\n",
       "      <td>G2M</td>\n",
       "      <td>Untreatedclus_DLD1</td>\n",
       "      <td>NGS5774-1</td>\n",
       "    </tr>\n",
       "    <tr>\n",
       "      <th>SAM24451293_rep1-AAACCCACAGACCCGT</th>\n",
       "      <td>SAM24451293</td>\n",
       "      <td>AAACCCACAGACCCGT</td>\n",
       "      <td>singlet</td>\n",
       "      <td>ENSG00000140057_1</td>\n",
       "      <td>singlet</td>\n",
       "      <td>SAM24439043</td>\n",
       "      <td>DLD1</td>\n",
       "      <td>day5</td>\n",
       "      <td>HTO-10</td>\n",
       "      <td>NGS5774</td>\n",
       "      <td>...</td>\n",
       "      <td>380</td>\n",
       "      <td>3.150912</td>\n",
       "      <td>1794</td>\n",
       "      <td>14.875622</td>\n",
       "      <td>True</td>\n",
       "      <td>-0.158140</td>\n",
       "      <td>-0.564640</td>\n",
       "      <td>G1</td>\n",
       "      <td>Untreatedclus_DLD1</td>\n",
       "      <td>NGS5774-1</td>\n",
       "    </tr>\n",
       "    <tr>\n",
       "      <th>SAM24451293_rep1-AAACCCAGTAACGATA</th>\n",
       "      <td>SAM24451293</td>\n",
       "      <td>AAACCCAGTAACGATA</td>\n",
       "      <td>singlet</td>\n",
       "      <td>ENSG00000188611_3</td>\n",
       "      <td>singlet</td>\n",
       "      <td>POSITIVE_CONTROL</td>\n",
       "      <td>DLD1</td>\n",
       "      <td>day5</td>\n",
       "      <td>HTO-19</td>\n",
       "      <td>NGS5774</td>\n",
       "      <td>...</td>\n",
       "      <td>316</td>\n",
       "      <td>4.564495</td>\n",
       "      <td>1732</td>\n",
       "      <td>25.018056</td>\n",
       "      <td>True</td>\n",
       "      <td>-0.520930</td>\n",
       "      <td>-0.385045</td>\n",
       "      <td>G1</td>\n",
       "      <td>Untreatedclus_DLD1</td>\n",
       "      <td>NGS5774-1</td>\n",
       "    </tr>\n",
       "    <tr>\n",
       "      <th>SAM24451293_rep1-AAACCCAGTACGACAG</th>\n",
       "      <td>SAM24451293</td>\n",
       "      <td>AAACCCAGTACGACAG</td>\n",
       "      <td>singlet</td>\n",
       "      <td>ENSG00000166664_2</td>\n",
       "      <td>singlet</td>\n",
       "      <td>SAM24439043</td>\n",
       "      <td>DLD1</td>\n",
       "      <td>day5</td>\n",
       "      <td>HTO-1</td>\n",
       "      <td>NGS5774</td>\n",
       "      <td>...</td>\n",
       "      <td>638</td>\n",
       "      <td>4.482541</td>\n",
       "      <td>2507</td>\n",
       "      <td>17.613996</td>\n",
       "      <td>True</td>\n",
       "      <td>0.334884</td>\n",
       "      <td>-0.072851</td>\n",
       "      <td>S</td>\n",
       "      <td>Untreatedclus_DLD1</td>\n",
       "      <td>NGS5774-1</td>\n",
       "    </tr>\n",
       "    <tr>\n",
       "      <th>...</th>\n",
       "      <td>...</td>\n",
       "      <td>...</td>\n",
       "      <td>...</td>\n",
       "      <td>...</td>\n",
       "      <td>...</td>\n",
       "      <td>...</td>\n",
       "      <td>...</td>\n",
       "      <td>...</td>\n",
       "      <td>...</td>\n",
       "      <td>...</td>\n",
       "      <td>...</td>\n",
       "      <td>...</td>\n",
       "      <td>...</td>\n",
       "      <td>...</td>\n",
       "      <td>...</td>\n",
       "      <td>...</td>\n",
       "      <td>...</td>\n",
       "      <td>...</td>\n",
       "      <td>...</td>\n",
       "      <td>...</td>\n",
       "      <td>...</td>\n",
       "    </tr>\n",
       "    <tr>\n",
       "      <th>SAM24449110_rep24-TTTGTTGGTTCTCACC</th>\n",
       "      <td>SAM24449110</td>\n",
       "      <td>TTTGTTGGTTCTCACC</td>\n",
       "      <td>singlet</td>\n",
       "      <td>ENSG00000167699_1</td>\n",
       "      <td>singlet</td>\n",
       "      <td>SAM24439043</td>\n",
       "      <td>DLD1</td>\n",
       "      <td>day5</td>\n",
       "      <td>HTO-10</td>\n",
       "      <td>NGS5702</td>\n",
       "      <td>...</td>\n",
       "      <td>203</td>\n",
       "      <td>2.188207</td>\n",
       "      <td>1635</td>\n",
       "      <td>17.624232</td>\n",
       "      <td>True</td>\n",
       "      <td>0.158009</td>\n",
       "      <td>0.092243</td>\n",
       "      <td>S</td>\n",
       "      <td>Untreatedclus_DLD1</td>\n",
       "      <td>NGS5702-24</td>\n",
       "    </tr>\n",
       "    <tr>\n",
       "      <th>SAM24449110_rep24-TTTGTTGGTTGGCCTG</th>\n",
       "      <td>SAM24449110</td>\n",
       "      <td>TTTGTTGGTTGGCCTG</td>\n",
       "      <td>singlet</td>\n",
       "      <td>ENSG00000054219_3</td>\n",
       "      <td>singlet</td>\n",
       "      <td>SAM24439045</td>\n",
       "      <td>DLD1</td>\n",
       "      <td>day5</td>\n",
       "      <td>HTO-8</td>\n",
       "      <td>NGS5702</td>\n",
       "      <td>...</td>\n",
       "      <td>136</td>\n",
       "      <td>1.119987</td>\n",
       "      <td>1760</td>\n",
       "      <td>14.493947</td>\n",
       "      <td>True</td>\n",
       "      <td>-0.211150</td>\n",
       "      <td>0.567086</td>\n",
       "      <td>G2M</td>\n",
       "      <td>Untreatedclus_DLD1</td>\n",
       "      <td>NGS5702-24</td>\n",
       "    </tr>\n",
       "    <tr>\n",
       "      <th>SAM24449110_rep24-TTTGTTGTCACAAGGG</th>\n",
       "      <td>SAM24449110</td>\n",
       "      <td>TTTGTTGTCACAAGGG</td>\n",
       "      <td>singlet</td>\n",
       "      <td>ENSG00000106302_3</td>\n",
       "      <td>singlet</td>\n",
       "      <td>SAM24439044</td>\n",
       "      <td>DLD1</td>\n",
       "      <td>day5</td>\n",
       "      <td>HTO-15</td>\n",
       "      <td>NGS5702</td>\n",
       "      <td>...</td>\n",
       "      <td>130</td>\n",
       "      <td>2.195204</td>\n",
       "      <td>1339</td>\n",
       "      <td>22.610605</td>\n",
       "      <td>True</td>\n",
       "      <td>-0.045099</td>\n",
       "      <td>0.056429</td>\n",
       "      <td>G2M</td>\n",
       "      <td>Untreatedclus_DLD1</td>\n",
       "      <td>NGS5702-24</td>\n",
       "    </tr>\n",
       "    <tr>\n",
       "      <th>SAM24449110_rep24-TTTGTTGTCGTCGCTT</th>\n",
       "      <td>SAM24449110</td>\n",
       "      <td>TTTGTTGTCGTCGCTT</td>\n",
       "      <td>singlet</td>\n",
       "      <td>ENSG00000010256_1</td>\n",
       "      <td>singlet</td>\n",
       "      <td>SAM24439045</td>\n",
       "      <td>DLD1</td>\n",
       "      <td>day5</td>\n",
       "      <td>HTO-18</td>\n",
       "      <td>NGS5702</td>\n",
       "      <td>...</td>\n",
       "      <td>267</td>\n",
       "      <td>4.862502</td>\n",
       "      <td>900</td>\n",
       "      <td>16.390457</td>\n",
       "      <td>True</td>\n",
       "      <td>-0.333080</td>\n",
       "      <td>-0.025332</td>\n",
       "      <td>G1</td>\n",
       "      <td>Untreatedclus_DLD1</td>\n",
       "      <td>NGS5702-24</td>\n",
       "    </tr>\n",
       "    <tr>\n",
       "      <th>SAM24449110_rep24-TTTGTTGTCTTAGGAC</th>\n",
       "      <td>SAM24449110</td>\n",
       "      <td>TTTGTTGTCTTAGGAC</td>\n",
       "      <td>singlet</td>\n",
       "      <td>ENSG00000286522_3</td>\n",
       "      <td>singlet</td>\n",
       "      <td>SAM24439044</td>\n",
       "      <td>DLD1</td>\n",
       "      <td>day5</td>\n",
       "      <td>HTO-14</td>\n",
       "      <td>NGS5702</td>\n",
       "      <td>...</td>\n",
       "      <td>476</td>\n",
       "      <td>4.554588</td>\n",
       "      <td>2053</td>\n",
       "      <td>19.644053</td>\n",
       "      <td>True</td>\n",
       "      <td>-0.759183</td>\n",
       "      <td>2.264500</td>\n",
       "      <td>G2M</td>\n",
       "      <td>Untreatedclus_DLD1</td>\n",
       "      <td>NGS5702-24</td>\n",
       "    </tr>\n",
       "  </tbody>\n",
       "</table>\n",
       "<p>595603 rows × 28 columns</p>\n",
       "</div>"
      ],
      "text/plain": [
       "                                         Sample           Barcode  \\\n",
       "SAM24451293_rep1-AAACCCAAGAAATCCA   SAM24451293  AAACCCAAGAAATCCA   \n",
       "SAM24451293_rep1-AAACCCAAGACAGTCG   SAM24451293  AAACCCAAGACAGTCG   \n",
       "SAM24451293_rep1-AAACCCACAGACCCGT   SAM24451293  AAACCCACAGACCCGT   \n",
       "SAM24451293_rep1-AAACCCAGTAACGATA   SAM24451293  AAACCCAGTAACGATA   \n",
       "SAM24451293_rep1-AAACCCAGTACGACAG   SAM24451293  AAACCCAGTACGACAG   \n",
       "...                                         ...               ...   \n",
       "SAM24449110_rep24-TTTGTTGGTTCTCACC  SAM24449110  TTTGTTGGTTCTCACC   \n",
       "SAM24449110_rep24-TTTGTTGGTTGGCCTG  SAM24449110  TTTGTTGGTTGGCCTG   \n",
       "SAM24449110_rep24-TTTGTTGTCACAAGGG  SAM24449110  TTTGTTGTCACAAGGG   \n",
       "SAM24449110_rep24-TTTGTTGTCGTCGCTT  SAM24449110  TTTGTTGTCGTCGCTT   \n",
       "SAM24449110_rep24-TTTGTTGTCTTAGGAC  SAM24449110  TTTGTTGTCTTAGGAC   \n",
       "\n",
       "                                   DemuxType_crispr DemuxAssignment_crispr  \\\n",
       "SAM24451293_rep1-AAACCCAAGAAATCCA           singlet      ENSG00000154124_2   \n",
       "SAM24451293_rep1-AAACCCAAGACAGTCG           singlet      ENSG00000171017_3   \n",
       "SAM24451293_rep1-AAACCCACAGACCCGT           singlet      ENSG00000140057_1   \n",
       "SAM24451293_rep1-AAACCCAGTAACGATA           singlet      ENSG00000188611_3   \n",
       "SAM24451293_rep1-AAACCCAGTACGACAG           singlet      ENSG00000166664_2   \n",
       "...                                             ...                    ...   \n",
       "SAM24449110_rep24-TTTGTTGGTTCTCACC          singlet      ENSG00000167699_1   \n",
       "SAM24449110_rep24-TTTGTTGGTTGGCCTG          singlet      ENSG00000054219_3   \n",
       "SAM24449110_rep24-TTTGTTGTCACAAGGG          singlet      ENSG00000106302_3   \n",
       "SAM24449110_rep24-TTTGTTGTCGTCGCTT          singlet      ENSG00000010256_1   \n",
       "SAM24449110_rep24-TTTGTTGTCTTAGGAC          singlet      ENSG00000286522_3   \n",
       "\n",
       "                                   DemuxType_hashing DemuxAssignment_hashing  \\\n",
       "SAM24451293_rep1-AAACCCAAGAAATCCA            singlet             SAM24439044   \n",
       "SAM24451293_rep1-AAACCCAAGACAGTCG            singlet             SAM24439045   \n",
       "SAM24451293_rep1-AAACCCACAGACCCGT            singlet             SAM24439043   \n",
       "SAM24451293_rep1-AAACCCAGTAACGATA            singlet        POSITIVE_CONTROL   \n",
       "SAM24451293_rep1-AAACCCAGTACGACAG            singlet             SAM24439043   \n",
       "...                                              ...                     ...   \n",
       "SAM24449110_rep24-TTTGTTGGTTCTCACC           singlet             SAM24439043   \n",
       "SAM24449110_rep24-TTTGTTGGTTGGCCTG           singlet             SAM24439045   \n",
       "SAM24449110_rep24-TTTGTTGTCACAAGGG           singlet             SAM24439044   \n",
       "SAM24449110_rep24-TTTGTTGTCGTCGCTT           singlet             SAM24439045   \n",
       "SAM24449110_rep24-TTTGTTGTCTTAGGAC           singlet             SAM24439044   \n",
       "\n",
       "                                   cellline timepoint     HTO   NGS_ID  ...  \\\n",
       "SAM24451293_rep1-AAACCCAAGAAATCCA      DLD1      day5  HTO-14  NGS5774  ...   \n",
       "SAM24451293_rep1-AAACCCAAGACAGTCG      DLD1      day5  HTO-18  NGS5774  ...   \n",
       "SAM24451293_rep1-AAACCCACAGACCCGT      DLD1      day5  HTO-10  NGS5774  ...   \n",
       "SAM24451293_rep1-AAACCCAGTAACGATA      DLD1      day5  HTO-19  NGS5774  ...   \n",
       "SAM24451293_rep1-AAACCCAGTACGACAG      DLD1      day5   HTO-1  NGS5774  ...   \n",
       "...                                     ...       ...     ...      ...  ...   \n",
       "SAM24449110_rep24-TTTGTTGGTTCTCACC     DLD1      day5  HTO-10  NGS5702  ...   \n",
       "SAM24449110_rep24-TTTGTTGGTTGGCCTG     DLD1      day5   HTO-8  NGS5702  ...   \n",
       "SAM24449110_rep24-TTTGTTGTCACAAGGG     DLD1      day5  HTO-15  NGS5702  ...   \n",
       "SAM24449110_rep24-TTTGTTGTCGTCGCTT     DLD1      day5  HTO-18  NGS5702  ...   \n",
       "SAM24449110_rep24-TTTGTTGTCTTAGGAC     DLD1      day5  HTO-14  NGS5702  ...   \n",
       "\n",
       "                                   total_counts_mt pct_counts_mt  \\\n",
       "SAM24451293_rep1-AAACCCAAGAAATCCA              534      3.448721   \n",
       "SAM24451293_rep1-AAACCCAAGACAGTCG              618      6.336512   \n",
       "SAM24451293_rep1-AAACCCACAGACCCGT              380      3.150912   \n",
       "SAM24451293_rep1-AAACCCAGTAACGATA              316      4.564495   \n",
       "SAM24451293_rep1-AAACCCAGTACGACAG              638      4.482541   \n",
       "...                                            ...           ...   \n",
       "SAM24449110_rep24-TTTGTTGGTTCTCACC             203      2.188207   \n",
       "SAM24449110_rep24-TTTGTTGGTTGGCCTG             136      1.119987   \n",
       "SAM24449110_rep24-TTTGTTGTCACAAGGG             130      2.195204   \n",
       "SAM24449110_rep24-TTTGTTGTCGTCGCTT             267      4.862502   \n",
       "SAM24449110_rep24-TTTGTTGTCTTAGGAC             476      4.554588   \n",
       "\n",
       "                                   total_counts_ribo pct_counts_ribo qc_pass  \\\n",
       "SAM24451293_rep1-AAACCCAAGAAATCCA               3024       19.529837    True   \n",
       "SAM24451293_rep1-AAACCCAAGACAGTCG               2152       22.065006    True   \n",
       "SAM24451293_rep1-AAACCCACAGACCCGT               1794       14.875622    True   \n",
       "SAM24451293_rep1-AAACCCAGTAACGATA               1732       25.018056    True   \n",
       "SAM24451293_rep1-AAACCCAGTACGACAG               2507       17.613996    True   \n",
       "...                                              ...             ...     ...   \n",
       "SAM24449110_rep24-TTTGTTGGTTCTCACC              1635       17.624232    True   \n",
       "SAM24449110_rep24-TTTGTTGGTTGGCCTG              1760       14.493947    True   \n",
       "SAM24449110_rep24-TTTGTTGTCACAAGGG              1339       22.610605    True   \n",
       "SAM24449110_rep24-TTTGTTGTCGTCGCTT               900       16.390457    True   \n",
       "SAM24449110_rep24-TTTGTTGTCTTAGGAC              2053       19.644053    True   \n",
       "\n",
       "                                     S_score  G2M_score  phase  \\\n",
       "SAM24451293_rep1-AAACCCAAGAAATCCA  -0.734884  -0.491440     G1   \n",
       "SAM24451293_rep1-AAACCCAAGACAGTCG  -0.493023   0.231481    G2M   \n",
       "SAM24451293_rep1-AAACCCACAGACCCGT  -0.158140  -0.564640     G1   \n",
       "SAM24451293_rep1-AAACCCAGTAACGATA  -0.520930  -0.385045     G1   \n",
       "SAM24451293_rep1-AAACCCAGTACGACAG   0.334884  -0.072851      S   \n",
       "...                                      ...        ...    ...   \n",
       "SAM24449110_rep24-TTTGTTGGTTCTCACC  0.158009   0.092243      S   \n",
       "SAM24449110_rep24-TTTGTTGGTTGGCCTG -0.211150   0.567086    G2M   \n",
       "SAM24449110_rep24-TTTGTTGTCACAAGGG -0.045099   0.056429    G2M   \n",
       "SAM24449110_rep24-TTTGTTGTCGTCGCTT -0.333080  -0.025332     G1   \n",
       "SAM24449110_rep24-TTTGTTGTCTTAGGAC -0.759183   2.264500    G2M   \n",
       "\n",
       "                                             SCN_class         gem  \n",
       "SAM24451293_rep1-AAACCCAAGAAATCCA   Untreatedclus_DLD1   NGS5774-1  \n",
       "SAM24451293_rep1-AAACCCAAGACAGTCG   Untreatedclus_DLD1   NGS5774-1  \n",
       "SAM24451293_rep1-AAACCCACAGACCCGT   Untreatedclus_DLD1   NGS5774-1  \n",
       "SAM24451293_rep1-AAACCCAGTAACGATA   Untreatedclus_DLD1   NGS5774-1  \n",
       "SAM24451293_rep1-AAACCCAGTACGACAG   Untreatedclus_DLD1   NGS5774-1  \n",
       "...                                                ...         ...  \n",
       "SAM24449110_rep24-TTTGTTGGTTCTCACC  Untreatedclus_DLD1  NGS5702-24  \n",
       "SAM24449110_rep24-TTTGTTGGTTGGCCTG  Untreatedclus_DLD1  NGS5702-24  \n",
       "SAM24449110_rep24-TTTGTTGTCACAAGGG  Untreatedclus_DLD1  NGS5702-24  \n",
       "SAM24449110_rep24-TTTGTTGTCGTCGCTT  Untreatedclus_DLD1  NGS5702-24  \n",
       "SAM24449110_rep24-TTTGTTGTCTTAGGAC  Untreatedclus_DLD1  NGS5702-24  \n",
       "\n",
       "[595603 rows x 28 columns]"
      ]
     },
     "execution_count": 9,
     "metadata": {},
     "output_type": "execute_result"
    }
   ],
   "source": [
    "bdata.obs"
   ]
  },
  {
   "cell_type": "code",
   "execution_count": 10,
   "id": "b1e488a4",
   "metadata": {
    "execution": {
     "iopub.execute_input": "2024-08-14T17:56:10.747632Z",
     "iopub.status.busy": "2024-08-14T17:56:10.747159Z",
     "iopub.status.idle": "2024-08-14T17:58:18.650010Z",
     "shell.execute_reply": "2024-08-14T17:58:18.648451Z"
    },
    "papermill": {
     "duration": 127.913588,
     "end_time": "2024-08-14T17:58:18.652112",
     "exception": false,
     "start_time": "2024-08-14T17:56:10.738524",
     "status": "completed"
    },
    "tags": []
   },
   "outputs": [],
   "source": [
    "perturbations_key = \"gene_symbol\"\n",
    "gene_graph, gene_sets = mv.enrichr_to_gene_graph(\"./Templates/data/CORUM.txt\", np.array(bdata.obs[perturbations_key].values))"
   ]
  },
  {
   "cell_type": "code",
   "execution_count": 11,
   "id": "85154759",
   "metadata": {
    "execution": {
     "iopub.execute_input": "2024-08-14T17:58:18.669383Z",
     "iopub.status.busy": "2024-08-14T17:58:18.668904Z",
     "iopub.status.idle": "2024-08-14T17:58:44.420166Z",
     "shell.execute_reply": "2024-08-14T17:58:44.418655Z"
    },
    "papermill": {
     "duration": 25.760133,
     "end_time": "2024-08-14T17:58:44.422601",
     "exception": false,
     "start_time": "2024-08-14T17:58:18.662468",
     "status": "completed"
    },
    "tags": []
   },
   "outputs": [],
   "source": [
    "embeddings_obj = mv.AnnDataEmbeddings(bdata, embeddings_key, perturbations_key, \"Sample\", \"NTC\")\n",
    "perturbation_embeddings = embeddings_obj.get_embeddings_from_list(list(gene_graph), agg=True, centering = centering)"
   ]
  },
  {
   "cell_type": "code",
   "execution_count": 12,
   "id": "38d38100",
   "metadata": {
    "execution": {
     "iopub.execute_input": "2024-08-14T17:58:44.437565Z",
     "iopub.status.busy": "2024-08-14T17:58:44.437062Z",
     "iopub.status.idle": "2024-08-14T17:58:44.445618Z",
     "shell.execute_reply": "2024-08-14T17:58:44.444435Z"
    },
    "papermill": {
     "duration": 0.01665,
     "end_time": "2024-08-14T17:58:44.447277",
     "exception": false,
     "start_time": "2024-08-14T17:58:44.430627",
     "status": "completed"
    },
    "tags": []
   },
   "outputs": [
    {
     "data": {
      "text/plain": [
       "(454, 50)"
      ]
     },
     "execution_count": 12,
     "metadata": {},
     "output_type": "execute_result"
    }
   ],
   "source": [
    "perturbation_embeddings.shape"
   ]
  },
  {
   "cell_type": "code",
   "execution_count": 13,
   "id": "7ea5271f",
   "metadata": {
    "execution": {
     "iopub.execute_input": "2024-08-14T17:58:44.470471Z",
     "iopub.status.busy": "2024-08-14T17:58:44.469804Z",
     "iopub.status.idle": "2024-08-14T18:01:17.477012Z",
     "shell.execute_reply": "2024-08-14T18:01:17.475837Z"
    },
    "papermill": {
     "duration": 153.025258,
     "end_time": "2024-08-14T18:01:17.480322",
     "exception": false,
     "start_time": "2024-08-14T17:58:44.455064",
     "status": "completed"
    },
    "tags": []
   },
   "outputs": [
    {
     "name": "stdout",
     "output_type": "stream",
     "text": [
      "Performing Kolmogorov-Smirnov test on gene set cosine similarity..\n"
     ]
    },
    {
     "name": "stdout",
     "output_type": "stream",
     "text": [
      "KS statistic: 0.10073710073710074, p-value: 0.0005124920244607972\n"
     ]
    },
    {
     "data": {
      "image/png": "[encoded data removed]",
      "text/plain": [
       "<Figure size 640x480 with 1 Axes>"
      ]
     },
     "metadata": {},
     "output_type": "display_data"
    },
    {
     "name": "stdout",
     "output_type": "stream",
     "text": [
      "Computing distance matrix for embeddings..\n",
      "Computing link prediction metrics for cutoff percentile=0%\n"
     ]
    },
    {
     "name": "stdout",
     "output_type": "stream",
     "text": [
      "Computing link prediction metrics for cutoff percentile=1%\n"
     ]
    },
    {
     "name": "stdout",
     "output_type": "stream",
     "text": [
      "Computing link prediction metrics for cutoff percentile=2%\n"
     ]
    },
    {
     "name": "stdout",
     "output_type": "stream",
     "text": [
      "Computing link prediction metrics for cutoff percentile=3%\n"
     ]
    },
    {
     "name": "stdout",
     "output_type": "stream",
     "text": [
      "Computing link prediction metrics for cutoff percentile=4%\n"
     ]
    },
    {
     "name": "stdout",
     "output_type": "stream",
     "text": [
      "Computing link prediction metrics for cutoff percentile=5%\n"
     ]
    },
    {
     "name": "stdout",
     "output_type": "stream",
     "text": [
      "Computing link prediction metrics for cutoff percentile=6%\n"
     ]
    },
    {
     "name": "stdout",
     "output_type": "stream",
     "text": [
      "Computing link prediction metrics for cutoff percentile=7%\n"
     ]
    },
    {
     "name": "stdout",
     "output_type": "stream",
     "text": [
      "Computing link prediction metrics for cutoff percentile=8%\n"
     ]
    },
    {
     "name": "stdout",
     "output_type": "stream",
     "text": [
      "Computing link prediction metrics for cutoff percentile=9%\n"
     ]
    },
    {
     "name": "stdout",
     "output_type": "stream",
     "text": [
      "Computing link prediction metrics for cutoff percentile=10%\n"
     ]
    },
    {
     "name": "stdout",
     "output_type": "stream",
     "text": [
      "Computing link prediction metrics for cutoff percentile=11%\n"
     ]
    },
    {
     "name": "stdout",
     "output_type": "stream",
     "text": [
      "Computing link prediction metrics for cutoff percentile=12%\n"
     ]
    },
    {
     "name": "stdout",
     "output_type": "stream",
     "text": [
      "Computing link prediction metrics for cutoff percentile=13%\n"
     ]
    },
    {
     "name": "stdout",
     "output_type": "stream",
     "text": [
      "Computing link prediction metrics for cutoff percentile=14%\n"
     ]
    },
    {
     "name": "stdout",
     "output_type": "stream",
     "text": [
      "Computing link prediction metrics for cutoff percentile=15%\n"
     ]
    },
    {
     "name": "stdout",
     "output_type": "stream",
     "text": [
      "Computing link prediction metrics for cutoff percentile=16%\n"
     ]
    },
    {
     "name": "stdout",
     "output_type": "stream",
     "text": [
      "Computing link prediction metrics for cutoff percentile=17%\n"
     ]
    },
    {
     "name": "stdout",
     "output_type": "stream",
     "text": [
      "Computing link prediction metrics for cutoff percentile=18%\n"
     ]
    },
    {
     "name": "stdout",
     "output_type": "stream",
     "text": [
      "Computing link prediction metrics for cutoff percentile=19%\n"
     ]
    },
    {
     "name": "stdout",
     "output_type": "stream",
     "text": [
      "Computing link prediction metrics for cutoff percentile=20%\n"
     ]
    },
    {
     "name": "stdout",
     "output_type": "stream",
     "text": [
      "Computing link prediction metrics for cutoff percentile=21%\n"
     ]
    },
    {
     "name": "stdout",
     "output_type": "stream",
     "text": [
      "Computing link prediction metrics for cutoff percentile=22%\n"
     ]
    },
    {
     "name": "stdout",
     "output_type": "stream",
     "text": [
      "Computing link prediction metrics for cutoff percentile=23%\n"
     ]
    },
    {
     "name": "stdout",
     "output_type": "stream",
     "text": [
      "Computing link prediction metrics for cutoff percentile=24%\n"
     ]
    },
    {
     "name": "stdout",
     "output_type": "stream",
     "text": [
      "Computing link prediction metrics for cutoff percentile=25%\n"
     ]
    },
    {
     "name": "stdout",
     "output_type": "stream",
     "text": [
      "Computing link prediction metrics for cutoff percentile=26%\n"
     ]
    },
    {
     "name": "stdout",
     "output_type": "stream",
     "text": [
      "Computing link prediction metrics for cutoff percentile=27%\n"
     ]
    },
    {
     "name": "stdout",
     "output_type": "stream",
     "text": [
      "Computing link prediction metrics for cutoff percentile=28%\n"
     ]
    },
    {
     "name": "stdout",
     "output_type": "stream",
     "text": [
      "Computing link prediction metrics for cutoff percentile=29%\n"
     ]
    },
    {
     "name": "stdout",
     "output_type": "stream",
     "text": [
      "Computing link prediction metrics for cutoff percentile=30%\n"
     ]
    },
    {
     "name": "stdout",
     "output_type": "stream",
     "text": [
      "Computing link prediction metrics for cutoff percentile=31%\n"
     ]
    },
    {
     "name": "stdout",
     "output_type": "stream",
     "text": [
      "Computing link prediction metrics for cutoff percentile=32%\n"
     ]
    },
    {
     "name": "stdout",
     "output_type": "stream",
     "text": [
      "Computing link prediction metrics for cutoff percentile=33%\n"
     ]
    },
    {
     "name": "stdout",
     "output_type": "stream",
     "text": [
      "Computing link prediction metrics for cutoff percentile=34%\n"
     ]
    },
    {
     "name": "stdout",
     "output_type": "stream",
     "text": [
      "Computing link prediction metrics for cutoff percentile=35%\n"
     ]
    },
    {
     "name": "stdout",
     "output_type": "stream",
     "text": [
      "Computing link prediction metrics for cutoff percentile=36%\n"
     ]
    },
    {
     "name": "stdout",
     "output_type": "stream",
     "text": [
      "Computing link prediction metrics for cutoff percentile=37%\n"
     ]
    },
    {
     "name": "stdout",
     "output_type": "stream",
     "text": [
      "Computing link prediction metrics for cutoff percentile=38%\n"
     ]
    },
    {
     "name": "stdout",
     "output_type": "stream",
     "text": [
      "Computing link prediction metrics for cutoff percentile=39%\n"
     ]
    },
    {
     "name": "stdout",
     "output_type": "stream",
     "text": [
      "Computing link prediction metrics for cutoff percentile=40%\n"
     ]
    },
    {
     "name": "stdout",
     "output_type": "stream",
     "text": [
      "Computing link prediction metrics for cutoff percentile=41%\n"
     ]
    },
    {
     "name": "stdout",
     "output_type": "stream",
     "text": [
      "Computing link prediction metrics for cutoff percentile=42%\n"
     ]
    },
    {
     "name": "stdout",
     "output_type": "stream",
     "text": [
      "Computing link prediction metrics for cutoff percentile=43%\n"
     ]
    },
    {
     "name": "stdout",
     "output_type": "stream",
     "text": [
      "Computing link prediction metrics for cutoff percentile=44%\n"
     ]
    },
    {
     "name": "stdout",
     "output_type": "stream",
     "text": [
      "Computing link prediction metrics for cutoff percentile=45%\n"
     ]
    },
    {
     "name": "stdout",
     "output_type": "stream",
     "text": [
      "Computing link prediction metrics for cutoff percentile=46%\n"
     ]
    },
    {
     "name": "stdout",
     "output_type": "stream",
     "text": [
      "Computing link prediction metrics for cutoff percentile=47%\n"
     ]
    },
    {
     "name": "stdout",
     "output_type": "stream",
     "text": [
      "Computing link prediction metrics for cutoff percentile=48%\n"
     ]
    },
    {
     "name": "stdout",
     "output_type": "stream",
     "text": [
      "Computing link prediction metrics for cutoff percentile=49%\n"
     ]
    },
    {
     "name": "stdout",
     "output_type": "stream",
     "text": [
      "Computing link prediction metrics for cutoff percentile=50%\n"
     ]
    },
    {
     "name": "stdout",
     "output_type": "stream",
     "text": [
      "Computing link prediction metrics for cutoff percentile=51%\n"
     ]
    },
    {
     "name": "stdout",
     "output_type": "stream",
     "text": [
      "Computing link prediction metrics for cutoff percentile=52%\n"
     ]
    },
    {
     "name": "stdout",
     "output_type": "stream",
     "text": [
      "Computing link prediction metrics for cutoff percentile=53%\n"
     ]
    },
    {
     "name": "stdout",
     "output_type": "stream",
     "text": [
      "Computing link prediction metrics for cutoff percentile=54%\n"
     ]
    },
    {
     "name": "stdout",
     "output_type": "stream",
     "text": [
      "Computing link prediction metrics for cutoff percentile=55%\n"
     ]
    },
    {
     "name": "stdout",
     "output_type": "stream",
     "text": [
      "Computing link prediction metrics for cutoff percentile=56%\n"
     ]
    },
    {
     "name": "stdout",
     "output_type": "stream",
     "text": [
      "Computing link prediction metrics for cutoff percentile=57%\n"
     ]
    },
    {
     "name": "stdout",
     "output_type": "stream",
     "text": [
      "Computing link prediction metrics for cutoff percentile=58%\n"
     ]
    },
    {
     "name": "stdout",
     "output_type": "stream",
     "text": [
      "Computing link prediction metrics for cutoff percentile=59%\n"
     ]
    },
    {
     "name": "stdout",
     "output_type": "stream",
     "text": [
      "Computing link prediction metrics for cutoff percentile=60%\n"
     ]
    },
    {
     "name": "stdout",
     "output_type": "stream",
     "text": [
      "Computing link prediction metrics for cutoff percentile=61%\n"
     ]
    },
    {
     "name": "stdout",
     "output_type": "stream",
     "text": [
      "Computing link prediction metrics for cutoff percentile=62%\n"
     ]
    },
    {
     "name": "stdout",
     "output_type": "stream",
     "text": [
      "Computing link prediction metrics for cutoff percentile=63%\n"
     ]
    },
    {
     "name": "stdout",
     "output_type": "stream",
     "text": [
      "Computing link prediction metrics for cutoff percentile=64%\n"
     ]
    },
    {
     "name": "stdout",
     "output_type": "stream",
     "text": [
      "Computing link prediction metrics for cutoff percentile=65%\n"
     ]
    },
    {
     "name": "stdout",
     "output_type": "stream",
     "text": [
      "Computing link prediction metrics for cutoff percentile=66%\n"
     ]
    },
    {
     "name": "stdout",
     "output_type": "stream",
     "text": [
      "Computing link prediction metrics for cutoff percentile=67%\n"
     ]
    },
    {
     "name": "stdout",
     "output_type": "stream",
     "text": [
      "Computing link prediction metrics for cutoff percentile=68%\n"
     ]
    },
    {
     "name": "stdout",
     "output_type": "stream",
     "text": [
      "Computing link prediction metrics for cutoff percentile=69%\n"
     ]
    },
    {
     "name": "stdout",
     "output_type": "stream",
     "text": [
      "Computing link prediction metrics for cutoff percentile=70%\n"
     ]
    },
    {
     "name": "stdout",
     "output_type": "stream",
     "text": [
      "Computing link prediction metrics for cutoff percentile=71%\n"
     ]
    },
    {
     "name": "stdout",
     "output_type": "stream",
     "text": [
      "Computing link prediction metrics for cutoff percentile=72%\n"
     ]
    },
    {
     "name": "stdout",
     "output_type": "stream",
     "text": [
      "Computing link prediction metrics for cutoff percentile=73%\n"
     ]
    },
    {
     "name": "stdout",
     "output_type": "stream",
     "text": [
      "Computing link prediction metrics for cutoff percentile=74%\n"
     ]
    },
    {
     "name": "stdout",
     "output_type": "stream",
     "text": [
      "Computing link prediction metrics for cutoff percentile=75%\n"
     ]
    },
    {
     "name": "stdout",
     "output_type": "stream",
     "text": [
      "Computing link prediction metrics for cutoff percentile=76%\n"
     ]
    },
    {
     "name": "stdout",
     "output_type": "stream",
     "text": [
      "Computing link prediction metrics for cutoff percentile=77%\n"
     ]
    },
    {
     "name": "stdout",
     "output_type": "stream",
     "text": [
      "Computing link prediction metrics for cutoff percentile=78%\n"
     ]
    },
    {
     "name": "stdout",
     "output_type": "stream",
     "text": [
      "Computing link prediction metrics for cutoff percentile=79%\n"
     ]
    },
    {
     "name": "stdout",
     "output_type": "stream",
     "text": [
      "Computing link prediction metrics for cutoff percentile=80%\n"
     ]
    },
    {
     "name": "stdout",
     "output_type": "stream",
     "text": [
      "Computing link prediction metrics for cutoff percentile=81%\n"
     ]
    },
    {
     "name": "stdout",
     "output_type": "stream",
     "text": [
      "Computing link prediction metrics for cutoff percentile=82%\n"
     ]
    },
    {
     "name": "stdout",
     "output_type": "stream",
     "text": [
      "Computing link prediction metrics for cutoff percentile=83%\n"
     ]
    },
    {
     "name": "stdout",
     "output_type": "stream",
     "text": [
      "Computing link prediction metrics for cutoff percentile=84%\n"
     ]
    },
    {
     "name": "stdout",
     "output_type": "stream",
     "text": [
      "Computing link prediction metrics for cutoff percentile=85%\n"
     ]
    },
    {
     "name": "stdout",
     "output_type": "stream",
     "text": [
      "Computing link prediction metrics for cutoff percentile=86%\n"
     ]
    },
    {
     "name": "stdout",
     "output_type": "stream",
     "text": [
      "Computing link prediction metrics for cutoff percentile=87%\n"
     ]
    },
    {
     "name": "stdout",
     "output_type": "stream",
     "text": [
      "Computing link prediction metrics for cutoff percentile=88%\n"
     ]
    },
    {
     "name": "stdout",
     "output_type": "stream",
     "text": [
      "Computing link prediction metrics for cutoff percentile=89%\n"
     ]
    },
    {
     "name": "stdout",
     "output_type": "stream",
     "text": [
      "Computing link prediction metrics for cutoff percentile=90%\n"
     ]
    },
    {
     "name": "stdout",
     "output_type": "stream",
     "text": [
      "Computing link prediction metrics for cutoff percentile=91%\n"
     ]
    },
    {
     "name": "stdout",
     "output_type": "stream",
     "text": [
      "Computing link prediction metrics for cutoff percentile=92%\n"
     ]
    },
    {
     "name": "stdout",
     "output_type": "stream",
     "text": [
      "Computing link prediction metrics for cutoff percentile=93%\n"
     ]
    },
    {
     "name": "stdout",
     "output_type": "stream",
     "text": [
      "Computing link prediction metrics for cutoff percentile=94%\n"
     ]
    },
    {
     "name": "stdout",
     "output_type": "stream",
     "text": [
      "Computing link prediction metrics for cutoff percentile=95%\n"
     ]
    },
    {
     "name": "stdout",
     "output_type": "stream",
     "text": [
      "Computing link prediction metrics for cutoff percentile=96%\n"
     ]
    },
    {
     "name": "stdout",
     "output_type": "stream",
     "text": [
      "Computing link prediction metrics for cutoff percentile=97%\n"
     ]
    },
    {
     "name": "stdout",
     "output_type": "stream",
     "text": [
      "Computing link prediction metrics for cutoff percentile=98%\n"
     ]
    },
    {
     "name": "stdout",
     "output_type": "stream",
     "text": [
      "Computing link prediction metrics for cutoff percentile=99%\n"
     ]
    },
    {
     "name": "stdout",
     "output_type": "stream",
     "text": [
      "Finished prediction sweep over percentiles.\n"
     ]
    }
   ],
   "source": [
    "# needs to be cached in embeddings_obj\n",
    "report = mv.evaluate(perturbation_embeddings, gene_graph, gene_sets, percentile_range=[0, 100])"
   ]
  },
  {
   "cell_type": "code",
   "execution_count": 14,
   "id": "27b4b03d",
   "metadata": {
    "execution": {
     "iopub.execute_input": "2024-08-14T18:01:17.537316Z",
     "iopub.status.busy": "2024-08-14T18:01:17.537065Z",
     "iopub.status.idle": "2024-08-14T18:01:17.543725Z",
     "shell.execute_reply": "2024-08-14T18:01:17.542565Z"
    },
    "papermill": {
     "duration": 0.035272,
     "end_time": "2024-08-14T18:01:17.545527",
     "exception": false,
     "start_time": "2024-08-14T18:01:17.510255",
     "status": "completed"
    },
    "tags": []
   },
   "outputs": [],
   "source": [
    "recalls = [report[\"metrics_by_percentile\"][i][\"recall\"] for i in report[\"metrics_by_percentile\"]]\n",
    "precisions = [report[\"metrics_by_percentile\"][i][\"precision\"] for i in report[\"metrics_by_percentile\"]]\n",
    "tprs = [report[\"metrics_by_percentile\"][i][\"TPR\"] for i in report[\"metrics_by_percentile\"]]\n",
    "fprs = [report[\"metrics_by_percentile\"][i][\"FPR\"] for i in report[\"metrics_by_percentile\"]]"
   ]
  },
  {
   "cell_type": "code",
   "execution_count": 15,
   "id": "304d2617-8de2-4250-b689-3815bd375f4f",
   "metadata": {
    "execution": {
     "iopub.execute_input": "2024-08-14T18:01:17.570664Z",
     "iopub.status.busy": "2024-08-14T18:01:17.570187Z",
     "iopub.status.idle": "2024-08-14T18:01:17.579902Z",
     "shell.execute_reply": "2024-08-14T18:01:17.578469Z"
    },
    "papermill": {
     "duration": 0.024625,
     "end_time": "2024-08-14T18:01:17.581675",
     "exception": false,
     "start_time": "2024-08-14T18:01:17.557050",
     "status": "completed"
    },
    "tags": []
   },
   "outputs": [
    {
     "data": {
      "text/plain": [
       "{'recall': 0.3818551117129316,\n",
       " 'precision': 0.055957932334557,\n",
       " 'f1_score': 0.09761163032191071,\n",
       " 'TPR': 0.3818551117129316,\n",
       " 'FPR': 0.09387887996527022}"
      ]
     },
     "execution_count": 15,
     "metadata": {},
     "output_type": "execute_result"
    }
   ],
   "source": [
    "report[\"metrics_by_percentile\"][95]"
   ]
  },
  {
   "cell_type": "code",
   "execution_count": 16,
   "id": "9741cf68-8040-4fbe-b0e8-151b87fd5a08",
   "metadata": {
    "execution": {
     "iopub.execute_input": "2024-08-14T18:01:17.606737Z",
     "iopub.status.busy": "2024-08-14T18:01:17.606234Z",
     "iopub.status.idle": "2024-08-14T18:01:17.615527Z",
     "shell.execute_reply": "2024-08-14T18:01:17.614136Z"
    },
    "papermill": {
     "duration": 0.023966,
     "end_time": "2024-08-14T18:01:17.617320",
     "exception": false,
     "start_time": "2024-08-14T18:01:17.593354",
     "status": "completed"
    },
    "tags": []
   },
   "outputs": [
    {
     "data": {
      "text/plain": [
       "{'recall': 0.48070412999322953,\n",
       " 'precision': 0.03482953151827324,\n",
       " 'f1_score': 0.06495288628670753,\n",
       " 'TPR': 0.48070412999322953,\n",
       " 'FPR': 0.19412159362235337}"
      ]
     },
     "execution_count": 16,
     "metadata": {},
     "output_type": "execute_result"
    }
   ],
   "source": [
    "report[\"metrics_by_percentile\"][90]"
   ]
  },
  {
   "cell_type": "code",
   "execution_count": 17,
   "id": "da7b6945",
   "metadata": {
    "execution": {
     "iopub.execute_input": "2024-08-14T18:01:17.642586Z",
     "iopub.status.busy": "2024-08-14T18:01:17.642120Z",
     "iopub.status.idle": "2024-08-14T18:01:18.655119Z",
     "shell.execute_reply": "2024-08-14T18:01:18.653909Z"
    },
    "papermill": {
     "duration": 1.029338,
     "end_time": "2024-08-14T18:01:18.658505",
     "exception": false,
     "start_time": "2024-08-14T18:01:17.629167",
     "status": "completed"
    },
    "tags": []
   },
   "outputs": [
    {
     "data": {
      "image/png": "[encoded data removed]",
      "text/plain": [
       "<Figure size 640x480 with 1 Axes>"
      ]
     },
     "metadata": {},
     "output_type": "display_data"
    }
   ],
   "source": [
    "# put plots in a plotting module file\n",
    "# plots should be generated from embeddings_obj or report\n",
    "plt.plot(recalls, precisions)\n",
    "sns.set_color_codes(\"pastel\")\n",
    "sns.set_theme()\n",
    "plt.xlabel(\"Recall\")\n",
    "plt.ylabel(\"Precision\")\n",
    "plt.title(\"Precision-Recall Curve on CORUM using scVI - DLDL1\")\n",
    "plt.show()"
   ]
  },
  {
   "cell_type": "code",
   "execution_count": 18,
   "id": "8eaba8e9",
   "metadata": {
    "execution": {
     "iopub.execute_input": "2024-08-14T18:01:18.716024Z",
     "iopub.status.busy": "2024-08-14T18:01:18.715511Z",
     "iopub.status.idle": "2024-08-14T18:01:19.211012Z",
     "shell.execute_reply": "2024-08-14T18:01:19.209764Z"
    },
    "papermill": {
     "duration": 0.527471,
     "end_time": "2024-08-14T18:01:19.214114",
     "exception": false,
     "start_time": "2024-08-14T18:01:18.686643",
     "status": "completed"
    },
    "tags": []
   },
   "outputs": [
    {
     "data": {
      "image/png": "[encoded data removed]",
      "text/plain": [
       "<Figure size 640x480 with 1 Axes>"
      ]
     },
     "metadata": {},
     "output_type": "display_data"
    }
   ],
   "source": [
    "plt.plot(fprs, tprs)\n",
    "plt.xlabel(\"False Positive Rate\")\n",
    "plt.ylabel(\"True Positive Rate\")\n",
    "plt.title(\"auROC Curve on CORUM using scVI - DLDL1\")\n",
    "plt.show()"
   ]
  },
  {
   "cell_type": "markdown",
   "id": "27c799e7-40bd-4c6a-9c11-eb14a9f17c00",
   "metadata": {
    "papermill": {
     "duration": 0.028876,
     "end_time": "2024-08-14T18:01:19.271930",
     "exception": false,
     "start_time": "2024-08-14T18:01:19.243054",
     "status": "completed"
    },
    "tags": []
   },
   "source": [
    "## Update the annadata object and write out the output"
   ]
  },
  {
   "cell_type": "code",
   "execution_count": 19,
   "id": "6ba7c857-ef85-4321-9e7d-712d3d196bb6",
   "metadata": {
    "execution": {
     "iopub.execute_input": "2024-08-14T18:01:19.330555Z",
     "iopub.status.busy": "2024-08-14T18:01:19.330073Z",
     "iopub.status.idle": "2024-08-14T18:01:19.336733Z",
     "shell.execute_reply": "2024-08-14T18:01:19.335309Z"
    },
    "papermill": {
     "duration": 0.039765,
     "end_time": "2024-08-14T18:01:19.339965",
     "exception": false,
     "start_time": "2024-08-14T18:01:19.300200",
     "status": "completed"
    },
    "tags": []
   },
   "outputs": [],
   "source": [
    "if \"multivariate_report\" not in bdata.uns:\n",
    "    bdata.uns[\"multivariate_report\"]={}"
   ]
  },
  {
   "cell_type": "code",
   "execution_count": 20,
   "id": "51f62080-fee8-49be-9e00-56b11d5221ce",
   "metadata": {
    "execution": {
     "iopub.execute_input": "2024-08-14T18:01:19.407730Z",
     "iopub.status.busy": "2024-08-14T18:01:19.407229Z",
     "iopub.status.idle": "2024-08-14T18:01:19.417095Z",
     "shell.execute_reply": "2024-08-14T18:01:19.415667Z"
    },
    "papermill": {
     "duration": 0.044233,
     "end_time": "2024-08-14T18:01:19.420250",
     "exception": false,
     "start_time": "2024-08-14T18:01:19.376017",
     "status": "completed"
    },
    "tags": []
   },
   "outputs": [],
   "source": [
    "if transcriptoprint==True:\n",
    "    bdata.uns[\"multivariate_report\"][key_uns][\"transcriptoprint\"] = {\"roc_auc\": report[\"roc_auc\"], \"auprc\": report[\"auprc\"], \n",
    "                                    \"95percentile\":report[\"metrics_by_percentile\"][95], \"90percentile\":report[\"metrics_by_percentile\"][90]}\n",
    "else:\n",
    "    bdata.uns[\"multivariate_report\"][key_uns] = {\"roc_auc\": report[\"roc_auc\"], \"auprc\": report[\"auprc\"], \n",
    "                                    \"95percentile\":report[\"metrics_by_percentile\"][95], \"90percentile\":report[\"metrics_by_percentile\"][90]}"
   ]
  },
  {
   "cell_type": "code",
   "execution_count": 21,
   "id": "8609253a-8d80-45ea-95f7-cab05fd32f20",
   "metadata": {
    "execution": {
     "iopub.execute_input": "2024-08-14T18:01:19.478975Z",
     "iopub.status.busy": "2024-08-14T18:01:19.478499Z",
     "iopub.status.idle": "2024-08-14T18:01:19.971909Z",
     "shell.execute_reply": "2024-08-14T18:01:19.970481Z"
    },
    "papermill": {
     "duration": 0.52553,
     "end_time": "2024-08-14T18:01:19.974193",
     "exception": false,
     "start_time": "2024-08-14T18:01:19.448663",
     "status": "completed"
    },
    "tags": []
   },
   "outputs": [],
   "source": [
    "adata.uns = bdata.uns.copy()"
   ]
  },
  {
   "cell_type": "code",
   "execution_count": 22,
   "id": "a97a34df",
   "metadata": {
    "execution": {
     "iopub.execute_input": "2024-08-14T18:01:20.014208Z",
     "iopub.status.busy": "2024-08-14T18:01:20.013719Z",
     "iopub.status.idle": "2024-08-14T18:03:11.305352Z",
     "shell.execute_reply": "2024-08-14T18:03:11.302034Z"
    },
    "papermill": {
     "duration": 111.31547,
     "end_time": "2024-08-14T18:03:11.309368",
     "exception": false,
     "start_time": "2024-08-14T18:01:19.993898",
     "status": "completed"
    },
    "tags": []
   },
   "outputs": [],
   "source": [
    "adata.write_h5ad(MV_file)"
   ]
  },
  {
   "cell_type": "code",
   "execution_count": 23,
   "id": "b5be6b23-cbd7-44b2-94fe-6500f9569b73",
   "metadata": {
    "execution": {
     "iopub.execute_input": "2024-08-14T18:03:11.374976Z",
     "iopub.status.busy": "2024-08-14T18:03:11.374346Z",
     "iopub.status.idle": "2024-08-14T18:03:11.389169Z",
     "shell.execute_reply": "2024-08-14T18:03:11.387762Z"
    },
    "papermill": {
     "duration": 0.048515,
     "end_time": "2024-08-14T18:03:11.391269",
     "exception": false,
     "start_time": "2024-08-14T18:03:11.342754",
     "status": "completed"
    },
    "tags": []
   },
   "outputs": [
    {
     "data": {
      "text/plain": [
       "{'roc_auc': 0.6717214220737605,\n",
       " 'auprc': 0.03187446483299185,\n",
       " '95percentile': {'recall': 0.3818551117129316,\n",
       "  'precision': 0.055957932334557,\n",
       "  'f1_score': 0.09761163032191071,\n",
       "  'TPR': 0.3818551117129316,\n",
       "  'FPR': 0.09387887996527022},\n",
       " '90percentile': {'recall': 0.48070412999322953,\n",
       "  'precision': 0.03482953151827324,\n",
       "  'f1_score': 0.06495288628670753,\n",
       "  'TPR': 0.48070412999322953,\n",
       "  'FPR': 0.19412159362235337}}"
      ]
     },
     "execution_count": 23,
     "metadata": {},
     "output_type": "execute_result"
    }
   ],
   "source": [
    "adata.uns['multivariate_report'][key_uns]"
   ]
  },
  {
   "cell_type": "markdown",
   "id": "93b17b35-7184-41c2-b142-445af994b1bc",
   "metadata": {
    "papermill": {
     "duration": 0.011425,
     "end_time": "2024-08-14T18:03:11.413982",
     "exception": false,
     "start_time": "2024-08-14T18:03:11.402557",
     "status": "completed"
    },
    "tags": []
   },
   "source": [
    "## Data Tabulation"
   ]
  },
  {
   "cell_type": "code",
   "execution_count": 24,
   "id": "7f089048-6324-423e-a4e4-5916c66d98e1",
   "metadata": {
    "execution": {
     "iopub.execute_input": "2024-08-14T18:03:11.436426Z",
     "iopub.status.busy": "2024-08-14T18:03:11.435933Z",
     "iopub.status.idle": "2024-08-14T18:03:11.448189Z",
     "shell.execute_reply": "2024-08-14T18:03:11.446753Z"
    },
    "papermill": {
     "duration": 0.025678,
     "end_time": "2024-08-14T18:03:11.449950",
     "exception": false,
     "start_time": "2024-08-14T18:03:11.424272",
     "status": "completed"
    },
    "tags": []
   },
   "outputs": [],
   "source": [
    "metrics = pd.DataFrame.from_dict(report[\"metrics_by_percentile\"],orient='index')"
   ]
  },
  {
   "cell_type": "code",
   "execution_count": 25,
   "id": "e5791ed4-9f6d-46e1-a381-dfa800d25881",
   "metadata": {
    "execution": {
     "iopub.execute_input": "2024-08-14T18:03:11.473835Z",
     "iopub.status.busy": "2024-08-14T18:03:11.473326Z",
     "iopub.status.idle": "2024-08-14T18:03:11.485767Z",
     "shell.execute_reply": "2024-08-14T18:03:11.484317Z"
    },
    "papermill": {
     "duration": 0.026473,
     "end_time": "2024-08-14T18:03:11.487548",
     "exception": false,
     "start_time": "2024-08-14T18:03:11.461075",
     "status": "completed"
    },
    "tags": []
   },
   "outputs": [],
   "source": [
    "metrics[\"percentile\"] = metrics.index"
   ]
  },
  {
   "cell_type": "code",
   "execution_count": 26,
   "id": "49c6b6bb-a163-42cb-806b-ec51ddd8f5d5",
   "metadata": {
    "execution": {
     "iopub.execute_input": "2024-08-14T18:03:11.511686Z",
     "iopub.status.busy": "2024-08-14T18:03:11.510671Z",
     "iopub.status.idle": "2024-08-14T18:03:11.542173Z",
     "shell.execute_reply": "2024-08-14T18:03:11.540904Z"
    },
    "papermill": {
     "duration": 0.045527,
     "end_time": "2024-08-14T18:03:11.543977",
     "exception": false,
     "start_time": "2024-08-14T18:03:11.498450",
     "status": "completed"
    },
    "tags": []
   },
   "outputs": [
    {
     "data": {
      "text/html": [
       "<div>\n",
       "<style scoped>\n",
       "    .dataframe tbody tr th:only-of-type {\n",
       "        vertical-align: middle;\n",
       "    }\n",
       "\n",
       "    .dataframe tbody tr th {\n",
       "        vertical-align: top;\n",
       "    }\n",
       "\n",
       "    .dataframe thead th {\n",
       "        text-align: right;\n",
       "    }\n",
       "</style>\n",
       "<table border=\"1\" class=\"dataframe\">\n",
       "  <thead>\n",
       "    <tr style=\"text-align: right;\">\n",
       "      <th></th>\n",
       "      <th>recall</th>\n",
       "      <th>precision</th>\n",
       "      <th>f1_score</th>\n",
       "      <th>TPR</th>\n",
       "      <th>FPR</th>\n",
       "      <th>percentile</th>\n",
       "    </tr>\n",
       "  </thead>\n",
       "  <tbody>\n",
       "    <tr>\n",
       "      <th>90</th>\n",
       "      <td>0.480704</td>\n",
       "      <td>0.034830</td>\n",
       "      <td>0.064953</td>\n",
       "      <td>0.480704</td>\n",
       "      <td>0.194122</td>\n",
       "      <td>90</td>\n",
       "    </tr>\n",
       "    <tr>\n",
       "      <th>91</th>\n",
       "      <td>0.465809</td>\n",
       "      <td>0.037544</td>\n",
       "      <td>0.069488</td>\n",
       "      <td>0.465809</td>\n",
       "      <td>0.174014</td>\n",
       "      <td>91</td>\n",
       "    </tr>\n",
       "    <tr>\n",
       "      <th>92</th>\n",
       "      <td>0.444821</td>\n",
       "      <td>0.040398</td>\n",
       "      <td>0.074070</td>\n",
       "      <td>0.444821</td>\n",
       "      <td>0.153975</td>\n",
       "      <td>92</td>\n",
       "    </tr>\n",
       "    <tr>\n",
       "      <th>93</th>\n",
       "      <td>0.427894</td>\n",
       "      <td>0.044498</td>\n",
       "      <td>0.080612</td>\n",
       "      <td>0.427894</td>\n",
       "      <td>0.133897</td>\n",
       "      <td>93</td>\n",
       "    </tr>\n",
       "    <tr>\n",
       "      <th>94</th>\n",
       "      <td>0.407583</td>\n",
       "      <td>0.049584</td>\n",
       "      <td>0.088412</td>\n",
       "      <td>0.407583</td>\n",
       "      <td>0.113848</td>\n",
       "      <td>94</td>\n",
       "    </tr>\n",
       "    <tr>\n",
       "      <th>95</th>\n",
       "      <td>0.381855</td>\n",
       "      <td>0.055958</td>\n",
       "      <td>0.097612</td>\n",
       "      <td>0.381855</td>\n",
       "      <td>0.093879</td>\n",
       "      <td>95</td>\n",
       "    </tr>\n",
       "    <tr>\n",
       "      <th>96</th>\n",
       "      <td>0.358158</td>\n",
       "      <td>0.065968</td>\n",
       "      <td>0.111415</td>\n",
       "      <td>0.358158</td>\n",
       "      <td>0.073899</td>\n",
       "      <td>96</td>\n",
       "    </tr>\n",
       "    <tr>\n",
       "      <th>97</th>\n",
       "      <td>0.315504</td>\n",
       "      <td>0.078227</td>\n",
       "      <td>0.125370</td>\n",
       "      <td>0.315504</td>\n",
       "      <td>0.054176</td>\n",
       "      <td>97</td>\n",
       "    </tr>\n",
       "    <tr>\n",
       "      <th>98</th>\n",
       "      <td>0.268788</td>\n",
       "      <td>0.101873</td>\n",
       "      <td>0.147748</td>\n",
       "      <td>0.268788</td>\n",
       "      <td>0.034532</td>\n",
       "      <td>98</td>\n",
       "    </tr>\n",
       "    <tr>\n",
       "      <th>99</th>\n",
       "      <td>0.207177</td>\n",
       "      <td>0.166757</td>\n",
       "      <td>0.184783</td>\n",
       "      <td>0.207177</td>\n",
       "      <td>0.015086</td>\n",
       "      <td>99</td>\n",
       "    </tr>\n",
       "  </tbody>\n",
       "</table>\n",
       "</div>"
      ],
      "text/plain": [
       "      recall  precision  f1_score       TPR       FPR  percentile\n",
       "90  0.480704   0.034830  0.064953  0.480704  0.194122          90\n",
       "91  0.465809   0.037544  0.069488  0.465809  0.174014          91\n",
       "92  0.444821   0.040398  0.074070  0.444821  0.153975          92\n",
       "93  0.427894   0.044498  0.080612  0.427894  0.133897          93\n",
       "94  0.407583   0.049584  0.088412  0.407583  0.113848          94\n",
       "95  0.381855   0.055958  0.097612  0.381855  0.093879          95\n",
       "96  0.358158   0.065968  0.111415  0.358158  0.073899          96\n",
       "97  0.315504   0.078227  0.125370  0.315504  0.054176          97\n",
       "98  0.268788   0.101873  0.147748  0.268788  0.034532          98\n",
       "99  0.207177   0.166757  0.184783  0.207177  0.015086          99"
      ]
     },
     "execution_count": 26,
     "metadata": {},
     "output_type": "execute_result"
    }
   ],
   "source": [
    "metrics[metrics.percentile>89]"
   ]
  },
  {
   "cell_type": "code",
   "execution_count": 27,
   "id": "14e5d669-7529-4dbd-b69a-83237abf540f",
   "metadata": {
    "execution": {
     "iopub.execute_input": "2024-08-14T18:03:11.568314Z",
     "iopub.status.busy": "2024-08-14T18:03:11.567837Z",
     "iopub.status.idle": "2024-08-14T18:03:12.640842Z",
     "shell.execute_reply": "2024-08-14T18:03:12.639555Z"
    },
    "papermill": {
     "duration": 1.088669,
     "end_time": "2024-08-14T18:03:12.643951",
     "exception": false,
     "start_time": "2024-08-14T18:03:11.555282",
     "status": "completed"
    },
    "tags": []
   },
   "outputs": [
    {
     "data": {
      "image/png": "[encoded data removed]",
      "text/plain": [
       "<Figure size 900x300 with 3 Axes>"
      ]
     },
     "metadata": {},
     "output_type": "display_data"
    }
   ],
   "source": [
    "_, axs = plt.subplots(1, 3, figsize=np.array([3, 1]) * 3)\n",
    "xy = [(\"percentile\", \"recall\"), (\"percentile\", \"precision\"), (\"recall\", \"precision\")]\n",
    "for (x, y), ax in zip(xy, axs.flat):\n",
    "    ax.plot(metrics[x], metrics[y])\n",
    "    ax.grid()\n",
    "    ax.set_xlabel(x)\n",
    "    ax.set_ylabel(y)\n",
    "plt.tight_layout()"
   ]
  },
  {
   "cell_type": "code",
   "execution_count": null,
   "id": "24f75dc9-5df0-421b-9f00-6f5074792702",
   "metadata": {
    "papermill": {
     "duration": 0.030453,
     "end_time": "2024-08-14T18:03:12.706410",
     "exception": false,
     "start_time": "2024-08-14T18:03:12.675957",
     "status": "completed"
    },
    "tags": []
   },
   "outputs": [],
   "source": []
  }
 ],
 "metadata": {
  "kernelspec": {
   "display_name": "Dev/GPuy310",
   "language": "python",
   "name": "gpuy310-dev"
  },
  "language_info": {
   "codemirror_mode": {
    "name": "ipython",
    "version": 3
   },
   "file_extension": ".py",
   "mimetype": "text/x-python",
   "name": "python",
   "nbconvert_exporter": "python",
   "pygments_lexer": "ipython3",
   "version": "3.10.8"
  },
  "papermill": {
   "default_parameters": {},
   "duration": 709.07368,
   "end_time": "2024-08-14T18:03:23.626210",
   "environment_variables": {},
   "exception": null,
   "input_path": "./Templates/Multivariate_updated.ipynb",
   "output_path": "/gstore/home/ghaffars/Cumulus/crc_dld1_sublib1_bdev/crop-seq-pipeline/Reports/DS000017114_Multivariate_pca_all_genes.ipynb",
   "parameters": {
    "DEV": false,
    "DS_test": false,
    "DatasetID": "DS000017114",
    "MV_file": "/gstore/project/crc_recursion_gw/DLD1_Sublib1_bdev//DS000017114/Energy_Distance/e_dist_all.h5ad",
    "author": "SG",
    "description": "Production scale screen in DLD-1 cells with 1/4 of the genome-wide CRISPR library (sub-lib-1, ~22K guides). 1 time point: Day-5. We performed 24 rxns of 10x 3' HT kit with an estimated loading of 52K cells. We performed a pilot study to test the library quality before the production-level sequencing. We will submit 72 libraries (24 GEX, 24 HTO and 24 sgRNA) We estimate need 600M for GEX, 30M for HTO and 50M for sgRNA. This is a repeat run to correct chip loading.",
    "embeddings_key": "X_pca",
    "name_space": [
     {
      "id": "GRCh38",
      "type": "genome"
     }
    ],
    "organism": "human",
    "path": "/gstore/project/crc_recursion_gw/DLD1_Sublib1_bdev//DS000017114/Energy_Distance",
    "sources": [
     {
      "id": "Siavash-1234",
      "name": "Geo-ID"
     }
    ],
    "tech_name": "scRNA-seq",
    "test_DatasetID": "",
    "title": "Recursion DLD1 Library1 Screen Day 5- combination of NGS 5774 and NGS 5702",
    "transcriptoprint": false
   },
   "start_time": "2024-08-14T17:51:34.552530",
   "version": "2.6.0"
  },
  "widgets": {
   "application/vnd.jupyter.widget-state+json": {
    "state": {},
    "version_major": 2,
    "version_minor": 0
   }
  }
 },
 "nbformat": 4,
 "nbformat_minor": 5
}