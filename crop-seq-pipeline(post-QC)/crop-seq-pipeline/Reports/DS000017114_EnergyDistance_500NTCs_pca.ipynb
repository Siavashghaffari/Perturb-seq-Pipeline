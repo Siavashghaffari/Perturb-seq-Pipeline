{
 "cells": [
  {
   "cell_type": "code",
   "execution_count": 1,
   "id": "fd245ea7",
   "metadata": {
    "execution": {
     "iopub.execute_input": "2024-08-06T22:53:42.268404Z",
     "iopub.status.busy": "2024-08-06T22:53:42.268197Z",
     "iopub.status.idle": "2024-08-06T22:53:42.274633Z",
     "shell.execute_reply": "2024-08-06T22:53:42.274217Z"
    },
    "papermill": {
     "duration": 0.016234,
     "end_time": "2024-08-06T22:53:42.275774",
     "exception": false,
     "start_time": "2024-08-06T22:53:42.259540",
     "status": "completed"
    },
    "tags": [
     "injected-parameters"
    ]
   },
   "outputs": [],
   "source": [
    "# Parameters\n",
    "DatasetID = \"DS000017114\"\n",
    "DEV = False\n",
    "test_DatasetID = \"\"\n",
    "DS_test = False\n",
    "title = \"Recursion DLD1 Library1 Screen Day 5- combination of NGS 5774 and NGS 5702\"\n",
    "description = \"Production scale screen in DLD-1 cells with 1/4 of the genome-wide CRISPR library (sub-lib-1, ~22K guides). 1 time point: Day-5. We performed 24 rxns of 10x 3' HT kit with an estimated loading of 52K cells. We performed a pilot study to test the library quality before the production-level sequencing. We will submit 72 libraries (24 GEX, 24 HTO and 24 sgRNA) We estimate need 600M for GEX, 30M for HTO and 50M for sgRNA. This is a repeat run to correct chip loading.\"\n",
    "name_space = [{\"id\": \"GRCh38\", \"type\": \"genome\"}]\n",
    "sources = [{\"id\": \"Siavash-1234\", \"name\": \"Geo-ID\"}]\n",
    "tech_name = \"scRNA-seq\"\n",
    "author = \"SG\"\n",
    "organism = \"human\"\n",
    "pVAL = 0.05\n",
    "n = 500\n",
    "embeddings_key = \"X_pca\"\n",
    "i = 10\n",
    "ED_file = \"/gstore/project/crc_recursion_gw/DLD1_Sublib1_bdev//DS000017114/Energy_Distance/e_dist_all.h5ad\"\n",
    "key_uns = \"perGene_pca_10\"\n",
    "out_csv = \"/gstore/project/crc_recursion_gw/DLD1_Sublib1_bdev//DS000017114/Energy_Distance/e_dist_500NTCs_pca_10.csv\"\n"
   ]
  },
  {
   "cell_type": "markdown",
   "id": "bb530fe7-c5ba-4ec4-b436-7f717b909ce0",
   "metadata": {
    "papermill": {
     "duration": 0.006935,
     "end_time": "2024-08-06T22:53:42.289989",
     "exception": false,
     "start_time": "2024-08-06T22:53:42.283054",
     "status": "completed"
    },
    "tags": []
   },
   "source": [
    "# EnergyDistance: "
   ]
  },
  {
   "cell_type": "code",
   "execution_count": 2,
   "id": "cdd59412-0a04-4bea-8c11-fd04e79b2a25",
   "metadata": {
    "execution": {
     "iopub.execute_input": "2024-08-06T22:53:42.304574Z",
     "iopub.status.busy": "2024-08-06T22:53:42.304189Z",
     "iopub.status.idle": "2024-08-06T22:53:48.469018Z",
     "shell.execute_reply": "2024-08-06T22:53:48.468472Z"
    },
    "papermill": {
     "duration": 6.1739,
     "end_time": "2024-08-06T22:53:48.470679",
     "exception": false,
     "start_time": "2024-08-06T22:53:42.296779",
     "status": "completed"
    },
    "tags": []
   },
   "outputs": [],
   "source": [
    "import scanpy as sc\n",
    "import numpy as np\n",
    "import pandas as pd\n",
    "from tqdm import tqdm\n",
    "import os\n",
    "#plotting\n",
    "import matplotlib\n",
    "from matplotlib import pyplot as plt\n",
    "import seaborn as sns\n",
    "from dask.distributed import Client\n",
    "import sklearn"
   ]
  },
  {
   "cell_type": "code",
   "execution_count": 3,
   "id": "73f8c9aa-f309-468a-ae92-379a64133079",
   "metadata": {
    "execution": {
     "iopub.execute_input": "2024-08-06T22:53:48.487379Z",
     "iopub.status.busy": "2024-08-06T22:53:48.487035Z",
     "iopub.status.idle": "2024-08-06T22:53:48.539572Z",
     "shell.execute_reply": "2024-08-06T22:53:48.539113Z"
    },
    "papermill": {
     "duration": 0.061752,
     "end_time": "2024-08-06T22:53:48.540868",
     "exception": false,
     "start_time": "2024-08-06T22:53:48.479116",
     "status": "completed"
    },
    "tags": []
   },
   "outputs": [],
   "source": [
    "# Please note that if we import the whole folder using __init__.py we would be running into ba Dask CanceledError due to different \n",
    "# imported Dask conflict, so we have to import only scEnergy script\n",
    "import sys\n",
    "sys.path.append(\"..\")\n",
    "import Templates.tools.scEnergy as eng "
   ]
  },
  {
   "cell_type": "code",
   "execution_count": 4,
   "id": "98e328a0-104a-414c-8c17-dbcf574bb808",
   "metadata": {
    "execution": {
     "iopub.execute_input": "2024-08-06T22:53:48.556086Z",
     "iopub.status.busy": "2024-08-06T22:53:48.555755Z",
     "iopub.status.idle": "2024-08-06T22:53:48.650411Z",
     "shell.execute_reply": "2024-08-06T22:53:48.649938Z"
    },
    "papermill": {
     "duration": 0.103669,
     "end_time": "2024-08-06T22:53:48.651668",
     "exception": false,
     "start_time": "2024-08-06T22:53:48.547999",
     "status": "completed"
    },
    "tags": []
   },
   "outputs": [],
   "source": [
    "%load_ext autoreload\n",
    "%autoreload 2"
   ]
  },
  {
   "cell_type": "code",
   "execution_count": 5,
   "id": "f83219c0-b2aa-462b-90f0-6127a96c6446",
   "metadata": {
    "execution": {
     "iopub.execute_input": "2024-08-06T22:53:48.666918Z",
     "iopub.status.busy": "2024-08-06T22:53:48.666679Z",
     "iopub.status.idle": "2024-08-06T22:54:31.637295Z",
     "shell.execute_reply": "2024-08-06T22:54:31.636699Z"
    },
    "papermill": {
     "duration": 42.979873,
     "end_time": "2024-08-06T22:54:31.638825",
     "exception": false,
     "start_time": "2024-08-06T22:53:48.658952",
     "status": "completed"
    },
    "tags": []
   },
   "outputs": [],
   "source": [
    "adata = sc.read_h5ad(ED_file)"
   ]
  },
  {
   "cell_type": "code",
   "execution_count": 6,
   "id": "87a513ff-f091-4057-8356-3cbbe0180222",
   "metadata": {
    "execution": {
     "iopub.execute_input": "2024-08-06T22:54:31.655553Z",
     "iopub.status.busy": "2024-08-06T22:54:31.655128Z",
     "iopub.status.idle": "2024-08-06T22:54:31.743248Z",
     "shell.execute_reply": "2024-08-06T22:54:31.742777Z"
    },
    "papermill": {
     "duration": 0.09705,
     "end_time": "2024-08-06T22:54:31.744277",
     "exception": false,
     "start_time": "2024-08-06T22:54:31.647227",
     "status": "completed"
    },
    "tags": []
   },
   "outputs": [
    {
     "data": {
      "text/plain": [
       "AnnData object with n_obs × n_vars = 595603 × 36603\n",
       "    obs: 'Sample', 'Barcode', 'DemuxType_crispr', 'DemuxAssignment_crispr', 'DemuxType_hashing', 'DemuxAssignment_hashing', 'cellline', 'timepoint', 'HTO', 'NGS_ID', 'Biological_replicate', '10Xrun', 'sublibrary', 'gRNA_library_MOI', 'gene_symbol', 'class', 'n_genes_by_counts', 'total_counts', 'total_counts_mt', 'pct_counts_mt', 'total_counts_ribo', 'pct_counts_ribo', 'qc_pass', 'S_score', 'G2M_score', 'phase', 'SCN_class', 'gem'\n",
       "    var: 'Symbol'\n",
       "    uns: 'DemuxAssignment_hashing_colors', 'Sample_colors', '_scvi_manager_uuid', '_scvi_uuid', 'energy_distance', 'leiden_colors', 'neighbors', 'umap'\n",
       "    obsm: 'X_pca', 'X_pca_centered', 'X_pca_sphered', 'X_pca_sphered_Norm', 'X_scVI', 'X_scVI_centered', 'X_umap'\n",
       "    layers: 'counts'\n",
       "    obsp: 'connectivities', 'distances'"
      ]
     },
     "execution_count": 6,
     "metadata": {},
     "output_type": "execute_result"
    }
   ],
   "source": [
    "adata"
   ]
  },
  {
   "cell_type": "code",
   "execution_count": 7,
   "id": "c67bb790-7856-4a60-8b97-6ea3d32bb43a",
   "metadata": {
    "execution": {
     "iopub.execute_input": "2024-08-06T22:54:31.759695Z",
     "iopub.status.busy": "2024-08-06T22:54:31.759391Z",
     "iopub.status.idle": "2024-08-06T22:54:31.844081Z",
     "shell.execute_reply": "2024-08-06T22:54:31.843615Z"
    },
    "papermill": {
     "duration": 0.093525,
     "end_time": "2024-08-06T22:54:31.845212",
     "exception": false,
     "start_time": "2024-08-06T22:54:31.751687",
     "status": "completed"
    },
    "tags": []
   },
   "outputs": [],
   "source": [
    "#adata.obs_names_make_unique()"
   ]
  },
  {
   "cell_type": "markdown",
   "id": "4427038c-fecc-4ab5-a09f-4a61f659721a",
   "metadata": {
    "papermill": {
     "duration": 0.007098,
     "end_time": "2024-08-06T22:54:31.859668",
     "exception": false,
     "start_time": "2024-08-06T22:54:31.852570",
     "status": "completed"
    },
    "tags": []
   },
   "source": [
    "## Filter adata"
   ]
  },
  {
   "cell_type": "code",
   "execution_count": 8,
   "id": "e14087aa-e751-4823-a0f6-e799da210f1b",
   "metadata": {
    "execution": {
     "iopub.execute_input": "2024-08-06T22:54:31.874746Z",
     "iopub.status.busy": "2024-08-06T22:54:31.874524Z",
     "iopub.status.idle": "2024-08-06T22:54:31.955166Z",
     "shell.execute_reply": "2024-08-06T22:54:31.954727Z"
    },
    "papermill": {
     "duration": 0.089569,
     "end_time": "2024-08-06T22:54:31.956341",
     "exception": false,
     "start_time": "2024-08-06T22:54:31.866772",
     "status": "completed"
    },
    "tags": []
   },
   "outputs": [],
   "source": [
    "#adata = adata[adata.obs[\"DemuxAssignment_hashing\"]!=\"POSITIVE_CONTROL\"].copy()"
   ]
  },
  {
   "cell_type": "code",
   "execution_count": 9,
   "id": "6ecaf0d6-5860-40a6-a1c7-b795c3d9c18f",
   "metadata": {
    "execution": {
     "iopub.execute_input": "2024-08-06T22:54:31.971870Z",
     "iopub.status.busy": "2024-08-06T22:54:31.971455Z",
     "iopub.status.idle": "2024-08-06T22:54:32.050819Z",
     "shell.execute_reply": "2024-08-06T22:54:32.050388Z"
    },
    "papermill": {
     "duration": 0.088256,
     "end_time": "2024-08-06T22:54:32.051956",
     "exception": false,
     "start_time": "2024-08-06T22:54:31.963700",
     "status": "completed"
    },
    "tags": []
   },
   "outputs": [],
   "source": [
    "#adata= adata[~adata.obs.index.duplicated(keep='first')].copy()"
   ]
  },
  {
   "cell_type": "markdown",
   "id": "344df700-9fe1-4f58-ad3c-76836012def9",
   "metadata": {
    "papermill": {
     "duration": 0.00725,
     "end_time": "2024-08-06T22:54:32.066509",
     "exception": false,
     "start_time": "2024-08-06T22:54:32.059259",
     "status": "completed"
    },
    "tags": []
   },
   "source": [
    "## correct gene_symbol for ENSGIDs"
   ]
  },
  {
   "cell_type": "code",
   "execution_count": 10,
   "id": "a21588c8-85d8-4f30-a214-c3537bdf6558",
   "metadata": {
    "execution": {
     "iopub.execute_input": "2024-08-06T22:54:32.082044Z",
     "iopub.status.busy": "2024-08-06T22:54:32.081634Z",
     "iopub.status.idle": "2024-08-06T22:54:32.163236Z",
     "shell.execute_reply": "2024-08-06T22:54:32.162641Z"
    },
    "papermill": {
     "duration": 0.090593,
     "end_time": "2024-08-06T22:54:32.164459",
     "exception": false,
     "start_time": "2024-08-06T22:54:32.073866",
     "status": "completed"
    },
    "tags": []
   },
   "outputs": [],
   "source": [
    "adata.obs['gene_symbol'] = adata.obs['gene_symbol'].apply(lambda x:x.split('_')[0])"
   ]
  },
  {
   "cell_type": "markdown",
   "id": "823dd9da-f1fb-4794-80fd-007220b51666",
   "metadata": {
    "papermill": {
     "duration": 0.007299,
     "end_time": "2024-08-06T22:54:32.179168",
     "exception": false,
     "start_time": "2024-08-06T22:54:32.171869",
     "status": "completed"
    },
    "tags": []
   },
   "source": [
    "## Subsampling NTCs"
   ]
  },
  {
   "cell_type": "code",
   "execution_count": 11,
   "id": "d5b3bbf6-912f-404d-8e7b-7f72fac2743d",
   "metadata": {
    "execution": {
     "iopub.execute_input": "2024-08-06T22:54:32.194684Z",
     "iopub.status.busy": "2024-08-06T22:54:32.194271Z",
     "iopub.status.idle": "2024-08-06T22:54:34.383267Z",
     "shell.execute_reply": "2024-08-06T22:54:34.382700Z"
    },
    "papermill": {
     "duration": 2.198489,
     "end_time": "2024-08-06T22:54:34.384953",
     "exception": false,
     "start_time": "2024-08-06T22:54:32.186464",
     "status": "completed"
    },
    "tags": []
   },
   "outputs": [],
   "source": [
    "NTC = adata[adata.obs[\"gene_symbol\"]==\"NTC\"].copy()"
   ]
  },
  {
   "cell_type": "code",
   "execution_count": 12,
   "id": "ef732a35-c6b1-40d4-a481-957f13c0df20",
   "metadata": {
    "execution": {
     "iopub.execute_input": "2024-08-06T22:54:34.401937Z",
     "iopub.status.busy": "2024-08-06T22:54:34.401526Z",
     "iopub.status.idle": "2024-08-06T22:54:34.666878Z",
     "shell.execute_reply": "2024-08-06T22:54:34.666324Z"
    },
    "papermill": {
     "duration": 0.275406,
     "end_time": "2024-08-06T22:54:34.668526",
     "exception": false,
     "start_time": "2024-08-06T22:54:34.393120",
     "status": "completed"
    },
    "tags": []
   },
   "outputs": [],
   "source": [
    "if n is not None:\n",
    "    NTC = NTC[NTC.obs.sample(n = n).index.copy()].copy()"
   ]
  },
  {
   "cell_type": "code",
   "execution_count": 13,
   "id": "ddfbd238-d92c-4dd3-a784-75a47ddb0b39",
   "metadata": {
    "execution": {
     "iopub.execute_input": "2024-08-06T22:54:34.685256Z",
     "iopub.status.busy": "2024-08-06T22:54:34.684896Z",
     "iopub.status.idle": "2024-08-06T22:54:34.768847Z",
     "shell.execute_reply": "2024-08-06T22:54:34.768339Z"
    },
    "papermill": {
     "duration": 0.093217,
     "end_time": "2024-08-06T22:54:34.769917",
     "exception": false,
     "start_time": "2024-08-06T22:54:34.676700",
     "status": "completed"
    },
    "tags": []
   },
   "outputs": [
    {
     "data": {
      "text/plain": [
       "AnnData object with n_obs × n_vars = 500 × 36603\n",
       "    obs: 'Sample', 'Barcode', 'DemuxType_crispr', 'DemuxAssignment_crispr', 'DemuxType_hashing', 'DemuxAssignment_hashing', 'cellline', 'timepoint', 'HTO', 'NGS_ID', 'Biological_replicate', '10Xrun', 'sublibrary', 'gRNA_library_MOI', 'gene_symbol', 'class', 'n_genes_by_counts', 'total_counts', 'total_counts_mt', 'pct_counts_mt', 'total_counts_ribo', 'pct_counts_ribo', 'qc_pass', 'S_score', 'G2M_score', 'phase', 'SCN_class', 'gem'\n",
       "    var: 'Symbol'\n",
       "    uns: 'DemuxAssignment_hashing_colors', 'Sample_colors', '_scvi_manager_uuid', '_scvi_uuid', 'energy_distance', 'leiden_colors', 'neighbors', 'umap'\n",
       "    obsm: 'X_pca', 'X_pca_centered', 'X_pca_sphered', 'X_pca_sphered_Norm', 'X_scVI', 'X_scVI_centered', 'X_umap'\n",
       "    layers: 'counts'\n",
       "    obsp: 'connectivities', 'distances'"
      ]
     },
     "execution_count": 13,
     "metadata": {},
     "output_type": "execute_result"
    }
   ],
   "source": [
    "NTC"
   ]
  },
  {
   "cell_type": "markdown",
   "id": "e852bb55-4b55-4a7f-9606-dca138c9eacd",
   "metadata": {
    "papermill": {
     "duration": 0.007405,
     "end_time": "2024-08-06T22:54:34.784845",
     "exception": false,
     "start_time": "2024-08-06T22:54:34.777440",
     "status": "completed"
    },
    "tags": []
   },
   "source": [
    "## Create only genes dataframe"
   ]
  },
  {
   "cell_type": "code",
   "execution_count": 14,
   "id": "e4e81638-99fe-42ff-b3fc-e3ffaced7a8d",
   "metadata": {
    "execution": {
     "iopub.execute_input": "2024-08-06T22:54:34.800777Z",
     "iopub.status.busy": "2024-08-06T22:54:34.800416Z",
     "iopub.status.idle": "2024-08-06T22:54:34.883422Z",
     "shell.execute_reply": "2024-08-06T22:54:34.882975Z"
    },
    "papermill": {
     "duration": 0.092138,
     "end_time": "2024-08-06T22:54:34.884518",
     "exception": false,
     "start_time": "2024-08-06T22:54:34.792380",
     "status": "completed"
    },
    "tags": []
   },
   "outputs": [],
   "source": [
    "genes = [el for el in adata.obs['gene_symbol'].unique()]"
   ]
  },
  {
   "cell_type": "code",
   "execution_count": 15,
   "id": "9ea9319e-fa7e-4127-b095-6a687b35a6fd",
   "metadata": {
    "execution": {
     "iopub.execute_input": "2024-08-06T22:54:34.900195Z",
     "iopub.status.busy": "2024-08-06T22:54:34.899791Z",
     "iopub.status.idle": "2024-08-06T22:54:34.983403Z",
     "shell.execute_reply": "2024-08-06T22:54:34.982955Z"
    },
    "papermill": {
     "duration": 0.092756,
     "end_time": "2024-08-06T22:54:34.984572",
     "exception": false,
     "start_time": "2024-08-06T22:54:34.891816",
     "status": "completed"
    },
    "tags": []
   },
   "outputs": [],
   "source": [
    "genes.remove(\"NTC\")"
   ]
  },
  {
   "cell_type": "code",
   "execution_count": 16,
   "id": "f66f0905-2d92-42b8-9cea-8f4098b74630",
   "metadata": {
    "execution": {
     "iopub.execute_input": "2024-08-06T22:54:35.000638Z",
     "iopub.status.busy": "2024-08-06T22:54:35.000272Z",
     "iopub.status.idle": "2024-08-06T22:56:22.544091Z",
     "shell.execute_reply": "2024-08-06T22:56:22.543529Z"
    },
    "papermill": {
     "duration": 107.553585,
     "end_time": "2024-08-06T22:56:22.545761",
     "exception": false,
     "start_time": "2024-08-06T22:54:34.992176",
     "status": "completed"
    },
    "tags": []
   },
   "outputs": [],
   "source": [
    "GENE = adata[adata.obs[\"gene_symbol\"].isin(genes)].copy()"
   ]
  },
  {
   "cell_type": "code",
   "execution_count": 17,
   "id": "14f660d5-34d2-42ff-92b8-fb62a38f4f52",
   "metadata": {
    "execution": {
     "iopub.execute_input": "2024-08-06T22:56:22.563696Z",
     "iopub.status.busy": "2024-08-06T22:56:22.563440Z",
     "iopub.status.idle": "2024-08-06T22:56:23.208733Z",
     "shell.execute_reply": "2024-08-06T22:56:23.208282Z"
    },
    "papermill": {
     "duration": 0.654662,
     "end_time": "2024-08-06T22:56:23.209792",
     "exception": false,
     "start_time": "2024-08-06T22:56:22.555130",
     "status": "completed"
    },
    "tags": []
   },
   "outputs": [
    {
     "data": {
      "text/plain": [
       "AnnData object with n_obs × n_vars = 580627 × 36603\n",
       "    obs: 'Sample', 'Barcode', 'DemuxType_crispr', 'DemuxAssignment_crispr', 'DemuxType_hashing', 'DemuxAssignment_hashing', 'cellline', 'timepoint', 'HTO', 'NGS_ID', 'Biological_replicate', '10Xrun', 'sublibrary', 'gRNA_library_MOI', 'gene_symbol', 'class', 'n_genes_by_counts', 'total_counts', 'total_counts_mt', 'pct_counts_mt', 'total_counts_ribo', 'pct_counts_ribo', 'qc_pass', 'S_score', 'G2M_score', 'phase', 'SCN_class', 'gem'\n",
       "    var: 'Symbol'\n",
       "    uns: 'DemuxAssignment_hashing_colors', 'Sample_colors', '_scvi_manager_uuid', '_scvi_uuid', 'energy_distance', 'leiden_colors', 'neighbors', 'umap'\n",
       "    obsm: 'X_pca', 'X_pca_centered', 'X_pca_sphered', 'X_pca_sphered_Norm', 'X_scVI', 'X_scVI_centered', 'X_umap'\n",
       "    layers: 'counts'\n",
       "    obsp: 'connectivities', 'distances'"
      ]
     },
     "execution_count": 17,
     "metadata": {},
     "output_type": "execute_result"
    }
   ],
   "source": [
    "GENE"
   ]
  },
  {
   "cell_type": "markdown",
   "id": "1620e1f8-a3cb-405d-bffa-a0393fce64d0",
   "metadata": {
    "papermill": {
     "duration": 0.007615,
     "end_time": "2024-08-06T22:56:23.225394",
     "exception": false,
     "start_time": "2024-08-06T22:56:23.217779",
     "status": "completed"
    },
    "tags": []
   },
   "source": [
    "## Concatenate dataframes"
   ]
  },
  {
   "cell_type": "code",
   "execution_count": 18,
   "id": "8c9f52b8-f524-4795-b8c7-0d642608d0b3",
   "metadata": {
    "execution": {
     "iopub.execute_input": "2024-08-06T22:56:23.241583Z",
     "iopub.status.busy": "2024-08-06T22:56:23.241178Z",
     "iopub.status.idle": "2024-08-06T22:57:27.078026Z",
     "shell.execute_reply": "2024-08-06T22:57:27.077453Z"
    },
    "papermill": {
     "duration": 63.846718,
     "end_time": "2024-08-06T22:57:27.079735",
     "exception": false,
     "start_time": "2024-08-06T22:56:23.233017",
     "status": "completed"
    },
    "tags": []
   },
   "outputs": [
    {
     "name": "stderr",
     "output_type": "stream",
     "text": [
      "/apps/user/gpy/envs/dev/GPUy310pascal/lib/python3.10/site-packages/anndata/_core/anndata.py:1805: FutureWarning: The AnnData.concatenate method is deprecated in favour of the anndata.concat function. Please use anndata.concat instead.\n",
      "\n",
      "See the tutorial for concat at: https://anndata.readthedocs.io/en/latest/concatenation.html\n",
      "  warnings.warn(\n"
     ]
    }
   ],
   "source": [
    "c = NTC.concatenate(GENE)"
   ]
  },
  {
   "cell_type": "code",
   "execution_count": 19,
   "id": "8cdbf30e-97ad-459d-99b6-14863644eaaf",
   "metadata": {
    "execution": {
     "iopub.execute_input": "2024-08-06T22:57:27.099290Z",
     "iopub.status.busy": "2024-08-06T22:57:27.099038Z",
     "iopub.status.idle": "2024-08-06T22:57:27.746954Z",
     "shell.execute_reply": "2024-08-06T22:57:27.746451Z"
    },
    "papermill": {
     "duration": 0.657853,
     "end_time": "2024-08-06T22:57:27.748104",
     "exception": false,
     "start_time": "2024-08-06T22:57:27.090251",
     "status": "completed"
    },
    "tags": []
   },
   "outputs": [
    {
     "data": {
      "text/plain": [
       "AnnData object with n_obs × n_vars = 581127 × 36603\n",
       "    obs: 'Sample', 'Barcode', 'DemuxType_crispr', 'DemuxAssignment_crispr', 'DemuxType_hashing', 'DemuxAssignment_hashing', 'cellline', 'timepoint', 'HTO', 'NGS_ID', 'Biological_replicate', '10Xrun', 'sublibrary', 'gRNA_library_MOI', 'gene_symbol', 'class', 'n_genes_by_counts', 'total_counts', 'total_counts_mt', 'pct_counts_mt', 'total_counts_ribo', 'pct_counts_ribo', 'qc_pass', 'S_score', 'G2M_score', 'phase', 'SCN_class', 'gem', 'batch'\n",
       "    var: 'Symbol'\n",
       "    obsm: 'X_pca', 'X_pca_centered', 'X_pca_sphered', 'X_pca_sphered_Norm', 'X_scVI', 'X_scVI_centered', 'X_umap'\n",
       "    layers: 'counts'"
      ]
     },
     "execution_count": 19,
     "metadata": {},
     "output_type": "execute_result"
    }
   ],
   "source": [
    "c"
   ]
  },
  {
   "cell_type": "markdown",
   "id": "3db08d9b-28f8-430a-ad74-56547d569cc6",
   "metadata": {
    "papermill": {
     "duration": 0.007957,
     "end_time": "2024-08-06T22:57:27.764754",
     "exception": false,
     "start_time": "2024-08-06T22:57:27.756797",
     "status": "completed"
    },
    "tags": []
   },
   "source": [
    "## Create dictionary with NTCs. Pool them first"
   ]
  },
  {
   "cell_type": "markdown",
   "id": "3d007d11-9219-4c2b-8e0e-2ba51654666c",
   "metadata": {
    "papermill": {
     "duration": 0.007915,
     "end_time": "2024-08-06T22:57:27.780540",
     "exception": false,
     "start_time": "2024-08-06T22:57:27.772625",
     "status": "completed"
    },
    "tags": []
   },
   "source": [
    "### This is to calculate consistency among NTCs"
   ]
  },
  {
   "cell_type": "code",
   "execution_count": 20,
   "id": "759879c3-9623-418f-a374-184854b075f7",
   "metadata": {
    "execution": {
     "iopub.execute_input": "2024-08-06T22:57:27.797669Z",
     "iopub.status.busy": "2024-08-06T22:57:27.797193Z",
     "iopub.status.idle": "2024-08-06T22:57:27.885645Z",
     "shell.execute_reply": "2024-08-06T22:57:27.885116Z"
    },
    "papermill": {
     "duration": 0.098654,
     "end_time": "2024-08-06T22:57:27.887074",
     "exception": false,
     "start_time": "2024-08-06T22:57:27.788420",
     "status": "completed"
    },
    "tags": []
   },
   "outputs": [],
   "source": [
    "ntcs_perturbations = [el for el in NTC.obs['DemuxAssignment_crispr'].unique()]"
   ]
  },
  {
   "cell_type": "markdown",
   "id": "4f2fe9be-a67e-4bd0-8833-013a6ae94b65",
   "metadata": {
    "papermill": {
     "duration": 0.008006,
     "end_time": "2024-08-06T22:57:27.903514",
     "exception": false,
     "start_time": "2024-08-06T22:57:27.895508",
     "status": "completed"
    },
    "tags": []
   },
   "source": [
    "### Separate NTCs"
   ]
  },
  {
   "cell_type": "code",
   "execution_count": 21,
   "id": "1b9d701c-728b-4049-bbdf-67e86c9ce513",
   "metadata": {
    "execution": {
     "iopub.execute_input": "2024-08-06T22:57:27.921354Z",
     "iopub.status.busy": "2024-08-06T22:57:27.920871Z",
     "iopub.status.idle": "2024-08-06T22:57:29.183246Z",
     "shell.execute_reply": "2024-08-06T22:57:29.182698Z"
    },
    "papermill": {
     "duration": 1.273528,
     "end_time": "2024-08-06T22:57:29.184892",
     "exception": false,
     "start_time": "2024-08-06T22:57:27.911364",
     "status": "completed"
    },
    "tags": []
   },
   "outputs": [],
   "source": [
    "ntcs = {}\n",
    "\n",
    "for el in ntcs_perturbations:\n",
    "    v = eng.get_values_umap(c, 'DemuxAssignment_crispr', el)\n",
    "    ntcs[el] = c[v].obsm[embeddings_key]"
   ]
  },
  {
   "cell_type": "code",
   "execution_count": 22,
   "id": "08e0b604-fb1b-44a7-925b-ad08fbd328c3",
   "metadata": {
    "execution": {
     "iopub.execute_input": "2024-08-06T22:57:29.202907Z",
     "iopub.status.busy": "2024-08-06T22:57:29.202640Z",
     "iopub.status.idle": "2024-08-06T22:57:51.167707Z",
     "shell.execute_reply": "2024-08-06T22:57:51.167006Z"
    },
    "papermill": {
     "duration": 21.975648,
     "end_time": "2024-08-06T22:57:51.169334",
     "exception": false,
     "start_time": "2024-08-06T22:57:29.193686",
     "status": "completed"
    },
    "tags": []
   },
   "outputs": [],
   "source": [
    "pert = {}\n",
    "\n",
    "for el in genes:\n",
    "    v = eng.get_values_umap(c, 'gene_symbol', el)\n",
    "    pert[el] = c[v].obsm[embeddings_key]"
   ]
  },
  {
   "cell_type": "code",
   "execution_count": 23,
   "id": "a639287c-e287-4cff-949c-990293ea24ab",
   "metadata": {
    "execution": {
     "iopub.execute_input": "2024-08-06T22:57:51.187983Z",
     "iopub.status.busy": "2024-08-06T22:57:51.187723Z",
     "iopub.status.idle": "2024-08-06T22:57:51.276352Z",
     "shell.execute_reply": "2024-08-06T22:57:51.275868Z"
    },
    "papermill": {
     "duration": 0.098793,
     "end_time": "2024-08-06T22:57:51.277642",
     "exception": false,
     "start_time": "2024-08-06T22:57:51.178849",
     "status": "completed"
    },
    "tags": []
   },
   "outputs": [],
   "source": [
    "ntcs_pool = {}\n",
    "W = eng.get_values_umap(c, 'gene_symbol', \"NTC\")\n",
    "ntcs_pool['pool'] = c[W].obsm[embeddings_key]"
   ]
  },
  {
   "cell_type": "markdown",
   "id": "e8298243-b82b-4b30-b9a3-1f619c0e9eb9",
   "metadata": {
    "papermill": {
     "duration": 0.007888,
     "end_time": "2024-08-06T22:57:51.293771",
     "exception": false,
     "start_time": "2024-08-06T22:57:51.285883",
     "status": "completed"
    },
    "tags": []
   },
   "source": [
    "## Run energy distance on individual NTCs to find inconsitent NTCs"
   ]
  },
  {
   "cell_type": "code",
   "execution_count": 24,
   "id": "f313f006-4df3-49fe-8058-8234ceb17586",
   "metadata": {
    "execution": {
     "iopub.execute_input": "2024-08-06T22:57:51.310654Z",
     "iopub.status.busy": "2024-08-06T22:57:51.310396Z",
     "iopub.status.idle": "2024-08-06T22:59:42.212651Z",
     "shell.execute_reply": "2024-08-06T22:59:42.212008Z"
    },
    "papermill": {
     "duration": 110.912544,
     "end_time": "2024-08-06T22:59:42.214234",
     "exception": false,
     "start_time": "2024-08-06T22:57:51.301690",
     "status": "completed"
    },
    "tags": []
   },
   "outputs": [],
   "source": [
    "ntc_consistency = eng.run(\n",
    "    client = Client(processes=True, n_workers=32),\n",
    "    perturbations = ntcs, \n",
    "    controls = ntcs_pool,\n",
    "    pool = 'No'\n",
    ")"
   ]
  },
  {
   "cell_type": "code",
   "execution_count": 25,
   "id": "75c65362-7a85-415f-b419-577dd8f1ea9c",
   "metadata": {
    "execution": {
     "iopub.execute_input": "2024-08-06T22:59:42.233708Z",
     "iopub.status.busy": "2024-08-06T22:59:42.233442Z",
     "iopub.status.idle": "2024-08-06T22:59:42.924035Z",
     "shell.execute_reply": "2024-08-06T22:59:42.923482Z"
    },
    "papermill": {
     "duration": 0.701494,
     "end_time": "2024-08-06T22:59:42.925705",
     "exception": false,
     "start_time": "2024-08-06T22:59:42.224211",
     "status": "completed"
    },
    "tags": []
   },
   "outputs": [],
   "source": [
    "ntc_consistency = pd.DataFrame(ntc_consistency).T"
   ]
  },
  {
   "cell_type": "code",
   "execution_count": 26,
   "id": "a741ab8d-effb-4f24-8b79-11495bf6bda8",
   "metadata": {
    "execution": {
     "iopub.execute_input": "2024-08-06T22:59:42.944317Z",
     "iopub.status.busy": "2024-08-06T22:59:42.944051Z",
     "iopub.status.idle": "2024-08-06T22:59:43.047733Z",
     "shell.execute_reply": "2024-08-06T22:59:43.047194Z"
    },
    "papermill": {
     "duration": 0.114201,
     "end_time": "2024-08-06T22:59:43.048929",
     "exception": false,
     "start_time": "2024-08-06T22:59:42.934728",
     "status": "completed"
    },
    "tags": []
   },
   "outputs": [
    {
     "data": {
      "text/html": [
       "<div>\n",
       "<style scoped>\n",
       "    .dataframe tbody tr th:only-of-type {\n",
       "        vertical-align: middle;\n",
       "    }\n",
       "\n",
       "    .dataframe tbody tr th {\n",
       "        vertical-align: top;\n",
       "    }\n",
       "\n",
       "    .dataframe thead th {\n",
       "        text-align: right;\n",
       "    }\n",
       "</style>\n",
       "<table border=\"1\" class=\"dataframe\">\n",
       "  <thead>\n",
       "    <tr style=\"text-align: right;\">\n",
       "      <th></th>\n",
       "      <th>pvalue</th>\n",
       "      <th>statistic</th>\n",
       "      <th>control_key</th>\n",
       "    </tr>\n",
       "  </thead>\n",
       "  <tbody>\n",
       "    <tr>\n",
       "      <th>NTC_425</th>\n",
       "      <td>0.854</td>\n",
       "      <td>4.568404</td>\n",
       "      <td>pool</td>\n",
       "    </tr>\n",
       "    <tr>\n",
       "      <th>NTC_391</th>\n",
       "      <td>0.286</td>\n",
       "      <td>12.414624</td>\n",
       "      <td>pool</td>\n",
       "    </tr>\n",
       "    <tr>\n",
       "      <th>NTC_264</th>\n",
       "      <td>0.609</td>\n",
       "      <td>10.269738</td>\n",
       "      <td>pool</td>\n",
       "    </tr>\n",
       "    <tr>\n",
       "      <th>NTC_67</th>\n",
       "      <td>0.847</td>\n",
       "      <td>3.125065</td>\n",
       "      <td>pool</td>\n",
       "    </tr>\n",
       "    <tr>\n",
       "      <th>NTC_256</th>\n",
       "      <td>0.973</td>\n",
       "      <td>2.776809</td>\n",
       "      <td>pool</td>\n",
       "    </tr>\n",
       "    <tr>\n",
       "      <th>...</th>\n",
       "      <td>...</td>\n",
       "      <td>...</td>\n",
       "      <td>...</td>\n",
       "    </tr>\n",
       "    <tr>\n",
       "      <th>NTC_380</th>\n",
       "      <td>0.942</td>\n",
       "      <td>8.393447</td>\n",
       "      <td>pool</td>\n",
       "    </tr>\n",
       "    <tr>\n",
       "      <th>NTC_188</th>\n",
       "      <td>0.512</td>\n",
       "      <td>10.654038</td>\n",
       "      <td>pool</td>\n",
       "    </tr>\n",
       "    <tr>\n",
       "      <th>NTC_231</th>\n",
       "      <td>0.702</td>\n",
       "      <td>9.725308</td>\n",
       "      <td>pool</td>\n",
       "    </tr>\n",
       "    <tr>\n",
       "      <th>NTC_392</th>\n",
       "      <td>0.984</td>\n",
       "      <td>7.930339</td>\n",
       "      <td>pool</td>\n",
       "    </tr>\n",
       "    <tr>\n",
       "      <th>NTC_487</th>\n",
       "      <td>0.397</td>\n",
       "      <td>11.413726</td>\n",
       "      <td>pool</td>\n",
       "    </tr>\n",
       "  </tbody>\n",
       "</table>\n",
       "<p>300 rows × 3 columns</p>\n",
       "</div>"
      ],
      "text/plain": [
       "        pvalue  statistic control_key\n",
       "NTC_425  0.854   4.568404        pool\n",
       "NTC_391  0.286  12.414624        pool\n",
       "NTC_264  0.609  10.269738        pool\n",
       "NTC_67   0.847   3.125065        pool\n",
       "NTC_256  0.973   2.776809        pool\n",
       "...        ...        ...         ...\n",
       "NTC_380  0.942   8.393447        pool\n",
       "NTC_188  0.512  10.654038        pool\n",
       "NTC_231  0.702   9.725308        pool\n",
       "NTC_392  0.984   7.930339        pool\n",
       "NTC_487  0.397  11.413726        pool\n",
       "\n",
       "[300 rows x 3 columns]"
      ]
     },
     "execution_count": 26,
     "metadata": {},
     "output_type": "execute_result"
    }
   ],
   "source": [
    "ntc_consistency"
   ]
  },
  {
   "cell_type": "markdown",
   "id": "4b985905-981d-41e2-b609-440fe5f4aa1d",
   "metadata": {
    "papermill": {
     "duration": 0.008336,
     "end_time": "2024-08-06T22:59:43.066145",
     "exception": false,
     "start_time": "2024-08-06T22:59:43.057809",
     "status": "completed"
    },
    "tags": []
   },
   "source": [
    "### Show only inconsistent NTCs with pVAL lower than the defined cut-off"
   ]
  },
  {
   "cell_type": "code",
   "execution_count": 27,
   "id": "a2d36f5b-094c-4297-ad11-d1d17efc4317",
   "metadata": {
    "execution": {
     "iopub.execute_input": "2024-08-06T22:59:43.083698Z",
     "iopub.status.busy": "2024-08-06T22:59:43.083452Z",
     "iopub.status.idle": "2024-08-06T22:59:43.197019Z",
     "shell.execute_reply": "2024-08-06T22:59:43.196477Z"
    },
    "papermill": {
     "duration": 0.123776,
     "end_time": "2024-08-06T22:59:43.198190",
     "exception": false,
     "start_time": "2024-08-06T22:59:43.074414",
     "status": "completed"
    },
    "tags": []
   },
   "outputs": [
    {
     "data": {
      "text/html": [
       "<div>\n",
       "<style scoped>\n",
       "    .dataframe tbody tr th:only-of-type {\n",
       "        vertical-align: middle;\n",
       "    }\n",
       "\n",
       "    .dataframe tbody tr th {\n",
       "        vertical-align: top;\n",
       "    }\n",
       "\n",
       "    .dataframe thead th {\n",
       "        text-align: right;\n",
       "    }\n",
       "</style>\n",
       "<table border=\"1\" class=\"dataframe\">\n",
       "  <thead>\n",
       "    <tr style=\"text-align: right;\">\n",
       "      <th></th>\n",
       "      <th>pvalue</th>\n",
       "      <th>statistic</th>\n",
       "      <th>control_key</th>\n",
       "    </tr>\n",
       "  </thead>\n",
       "  <tbody>\n",
       "    <tr>\n",
       "      <th>NTC_427</th>\n",
       "      <td>0.008</td>\n",
       "      <td>10.985016</td>\n",
       "      <td>pool</td>\n",
       "    </tr>\n",
       "    <tr>\n",
       "      <th>NTC_294</th>\n",
       "      <td>0.03</td>\n",
       "      <td>20.508817</td>\n",
       "      <td>pool</td>\n",
       "    </tr>\n",
       "    <tr>\n",
       "      <th>NTC_298</th>\n",
       "      <td>0.044</td>\n",
       "      <td>9.168924</td>\n",
       "      <td>pool</td>\n",
       "    </tr>\n",
       "    <tr>\n",
       "      <th>NTC_470</th>\n",
       "      <td>0.041</td>\n",
       "      <td>5.700583</td>\n",
       "      <td>pool</td>\n",
       "    </tr>\n",
       "    <tr>\n",
       "      <th>NTC_461</th>\n",
       "      <td>0.04</td>\n",
       "      <td>6.027958</td>\n",
       "      <td>pool</td>\n",
       "    </tr>\n",
       "    <tr>\n",
       "      <th>NTC_479</th>\n",
       "      <td>0.001</td>\n",
       "      <td>12.882296</td>\n",
       "      <td>pool</td>\n",
       "    </tr>\n",
       "    <tr>\n",
       "      <th>NTC_189</th>\n",
       "      <td>0.033</td>\n",
       "      <td>20.240167</td>\n",
       "      <td>pool</td>\n",
       "    </tr>\n",
       "    <tr>\n",
       "      <th>NTC_500</th>\n",
       "      <td>0.021</td>\n",
       "      <td>23.070485</td>\n",
       "      <td>pool</td>\n",
       "    </tr>\n",
       "    <tr>\n",
       "      <th>NTC_429</th>\n",
       "      <td>0.008</td>\n",
       "      <td>11.198773</td>\n",
       "      <td>pool</td>\n",
       "    </tr>\n",
       "    <tr>\n",
       "      <th>NTC_248</th>\n",
       "      <td>0.013</td>\n",
       "      <td>24.213059</td>\n",
       "      <td>pool</td>\n",
       "    </tr>\n",
       "    <tr>\n",
       "      <th>NTC_217</th>\n",
       "      <td>0.035</td>\n",
       "      <td>9.245998</td>\n",
       "      <td>pool</td>\n",
       "    </tr>\n",
       "    <tr>\n",
       "      <th>NTC_354</th>\n",
       "      <td>0.038</td>\n",
       "      <td>9.327213</td>\n",
       "      <td>pool</td>\n",
       "    </tr>\n",
       "    <tr>\n",
       "      <th>NTC_279</th>\n",
       "      <td>0.041</td>\n",
       "      <td>19.811843</td>\n",
       "      <td>pool</td>\n",
       "    </tr>\n",
       "    <tr>\n",
       "      <th>NTC_80</th>\n",
       "      <td>0.045</td>\n",
       "      <td>8.791066</td>\n",
       "      <td>pool</td>\n",
       "    </tr>\n",
       "    <tr>\n",
       "      <th>NTC_124</th>\n",
       "      <td>0.046</td>\n",
       "      <td>9.402024</td>\n",
       "      <td>pool</td>\n",
       "    </tr>\n",
       "    <tr>\n",
       "      <th>NTC_53</th>\n",
       "      <td>0.007</td>\n",
       "      <td>27.097039</td>\n",
       "      <td>pool</td>\n",
       "    </tr>\n",
       "  </tbody>\n",
       "</table>\n",
       "</div>"
      ],
      "text/plain": [
       "        pvalue  statistic control_key\n",
       "NTC_427  0.008  10.985016        pool\n",
       "NTC_294   0.03  20.508817        pool\n",
       "NTC_298  0.044   9.168924        pool\n",
       "NTC_470  0.041   5.700583        pool\n",
       "NTC_461   0.04   6.027958        pool\n",
       "NTC_479  0.001  12.882296        pool\n",
       "NTC_189  0.033  20.240167        pool\n",
       "NTC_500  0.021  23.070485        pool\n",
       "NTC_429  0.008  11.198773        pool\n",
       "NTC_248  0.013  24.213059        pool\n",
       "NTC_217  0.035   9.245998        pool\n",
       "NTC_354  0.038   9.327213        pool\n",
       "NTC_279  0.041  19.811843        pool\n",
       "NTC_80   0.045   8.791066        pool\n",
       "NTC_124  0.046   9.402024        pool\n",
       "NTC_53   0.007  27.097039        pool"
      ]
     },
     "execution_count": 27,
     "metadata": {},
     "output_type": "execute_result"
    }
   ],
   "source": [
    "ntc_consistency[ntc_consistency['pvalue']<=pVAL]"
   ]
  },
  {
   "cell_type": "code",
   "execution_count": 28,
   "id": "89370a8b-d948-42f8-854a-c7943ded3292",
   "metadata": {
    "execution": {
     "iopub.execute_input": "2024-08-06T22:59:43.216383Z",
     "iopub.status.busy": "2024-08-06T22:59:43.216143Z",
     "iopub.status.idle": "2024-08-06T22:59:43.310474Z",
     "shell.execute_reply": "2024-08-06T22:59:43.309572Z"
    },
    "papermill": {
     "duration": 0.104475,
     "end_time": "2024-08-06T22:59:43.311560",
     "exception": false,
     "start_time": "2024-08-06T22:59:43.207085",
     "status": "completed"
    },
    "tags": []
   },
   "outputs": [
    {
     "data": {
      "text/plain": [
       "['NTC_427', 'NTC_479', 'NTC_429', 'NTC_53']"
      ]
     },
     "execution_count": 28,
     "metadata": {},
     "output_type": "execute_result"
    }
   ],
   "source": [
    "rm_ntcs = ntc_consistency[ntc_consistency['pvalue']<=0.01].index.tolist()\n",
    "rm_ntcs"
   ]
  },
  {
   "cell_type": "code",
   "execution_count": 29,
   "id": "c32216d2-0ecb-459b-8faf-62811c707201",
   "metadata": {
    "execution": {
     "iopub.execute_input": "2024-08-06T22:59:43.330603Z",
     "iopub.status.busy": "2024-08-06T22:59:43.330231Z",
     "iopub.status.idle": "2024-08-06T22:59:43.444474Z",
     "shell.execute_reply": "2024-08-06T22:59:43.443901Z"
    },
    "papermill": {
     "duration": 0.125402,
     "end_time": "2024-08-06T22:59:43.446049",
     "exception": false,
     "start_time": "2024-08-06T22:59:43.320647",
     "status": "completed"
    },
    "tags": []
   },
   "outputs": [],
   "source": [
    "c.obs['rm_ntc'] = 'No'\n",
    "c.obs.loc[c.obs['DemuxAssignment_crispr'].isin(rm_ntcs), 'rm_ntc'] = 'Yes'"
   ]
  },
  {
   "cell_type": "code",
   "execution_count": 30,
   "id": "f4e9a6c3-986b-4f23-9501-eb7fe38fe33b",
   "metadata": {
    "execution": {
     "iopub.execute_input": "2024-08-06T22:59:43.470384Z",
     "iopub.status.busy": "2024-08-06T22:59:43.470117Z",
     "iopub.status.idle": "2024-08-06T22:59:44.119067Z",
     "shell.execute_reply": "2024-08-06T22:59:44.118280Z"
    },
    "papermill": {
     "duration": 0.660788,
     "end_time": "2024-08-06T22:59:44.120371",
     "exception": false,
     "start_time": "2024-08-06T22:59:43.459583",
     "status": "completed"
    },
    "tags": []
   },
   "outputs": [
    {
     "data": {
      "text/plain": [
       "View of AnnData object with n_obs × n_vars = 581120 × 36603\n",
       "    obs: 'Sample', 'Barcode', 'DemuxType_crispr', 'DemuxAssignment_crispr', 'DemuxType_hashing', 'DemuxAssignment_hashing', 'cellline', 'timepoint', 'HTO', 'NGS_ID', 'Biological_replicate', '10Xrun', 'sublibrary', 'gRNA_library_MOI', 'gene_symbol', 'class', 'n_genes_by_counts', 'total_counts', 'total_counts_mt', 'pct_counts_mt', 'total_counts_ribo', 'pct_counts_ribo', 'qc_pass', 'S_score', 'G2M_score', 'phase', 'SCN_class', 'gem', 'batch', 'rm_ntc'\n",
       "    var: 'Symbol'\n",
       "    obsm: 'X_pca', 'X_pca_centered', 'X_pca_sphered', 'X_pca_sphered_Norm', 'X_scVI', 'X_scVI_centered', 'X_umap'\n",
       "    layers: 'counts'"
      ]
     },
     "execution_count": 30,
     "metadata": {},
     "output_type": "execute_result"
    }
   ],
   "source": [
    "c = c[c.obs['rm_ntc']=='No']\n",
    "c"
   ]
  },
  {
   "cell_type": "markdown",
   "id": "d898b8e3-daf4-4ef0-8603-d7ad905dd295",
   "metadata": {
    "papermill": {
     "duration": 0.008925,
     "end_time": "2024-08-06T22:59:44.139058",
     "exception": false,
     "start_time": "2024-08-06T22:59:44.130133",
     "status": "completed"
    },
    "tags": []
   },
   "source": [
    "### Update NTCs"
   ]
  },
  {
   "cell_type": "code",
   "execution_count": 31,
   "id": "0406f3af-84bb-4ec8-9dd3-405ad1576d16",
   "metadata": {
    "execution": {
     "iopub.execute_input": "2024-08-06T22:59:44.157482Z",
     "iopub.status.busy": "2024-08-06T22:59:44.157218Z",
     "iopub.status.idle": "2024-08-06T22:59:44.258377Z",
     "shell.execute_reply": "2024-08-06T22:59:44.257864Z"
    },
    "papermill": {
     "duration": 0.111746,
     "end_time": "2024-08-06T22:59:44.259559",
     "exception": false,
     "start_time": "2024-08-06T22:59:44.147813",
     "status": "completed"
    },
    "tags": []
   },
   "outputs": [],
   "source": [
    "ntcs_pool = {}\n",
    "W = eng.get_values_umap(c, 'gene_symbol', \"NTC\")\n",
    "ntcs_pool['pool'] = c[W].obsm[embeddings_key]"
   ]
  },
  {
   "cell_type": "markdown",
   "id": "6803e411-891f-43f9-a4a7-a3d260e2f7ba",
   "metadata": {
    "papermill": {
     "duration": 0.008654,
     "end_time": "2024-08-06T22:59:44.277260",
     "exception": false,
     "start_time": "2024-08-06T22:59:44.268606",
     "status": "completed"
    },
    "tags": []
   },
   "source": [
    "## Calculate actual EnergyDistance as ed"
   ]
  },
  {
   "cell_type": "code",
   "execution_count": 32,
   "id": "b96d7aa1-6b2a-4a9c-8121-4687091ea46c",
   "metadata": {
    "execution": {
     "iopub.execute_input": "2024-08-06T22:59:44.295678Z",
     "iopub.status.busy": "2024-08-06T22:59:44.295293Z",
     "iopub.status.idle": "2024-08-06T23:27:03.760560Z",
     "shell.execute_reply": "2024-08-06T23:27:03.759169Z"
    },
    "papermill": {
     "duration": 1639.476657,
     "end_time": "2024-08-06T23:27:03.762569",
     "exception": false,
     "start_time": "2024-08-06T22:59:44.285912",
     "status": "completed"
    },
    "tags": []
   },
   "outputs": [
    {
     "name": "stderr",
     "output_type": "stream",
     "text": [
      "/apps/user/gpy/envs/dev/GPUy310pascal/lib/python3.10/site-packages/distributed/node.py:182: UserWarning: Port 8787 is already in use.\n",
      "Perhaps you already have a cluster running?\n",
      "Hosting the HTTP server on port 33473 instead\n",
      "  warnings.warn(\n"
     ]
    }
   ],
   "source": [
    "ed = eng.run(\n",
    "    client = Client(processes=True, n_workers=32),\n",
    "    perturbations = pert, \n",
    "    controls = ntcs_pool,\n",
    "    pool = 'Yes'\n",
    ")"
   ]
  },
  {
   "cell_type": "markdown",
   "id": "e4ddeef4-8e83-4c14-b77c-6363890d3271",
   "metadata": {
    "papermill": {
     "duration": 0.009096,
     "end_time": "2024-08-06T23:27:03.802878",
     "exception": false,
     "start_time": "2024-08-06T23:27:03.793782",
     "status": "completed"
    },
    "tags": []
   },
   "source": [
    "### Restart the client before new Computations with the refreshed client"
   ]
  },
  {
   "cell_type": "code",
   "execution_count": 33,
   "id": "b21629f5-2e79-4b56-a581-177a7e4d26b6",
   "metadata": {
    "execution": {
     "iopub.execute_input": "2024-08-06T23:27:03.842836Z",
     "iopub.status.busy": "2024-08-06T23:27:03.832152Z",
     "iopub.status.idle": "2024-08-06T23:27:05.071068Z",
     "shell.execute_reply": "2024-08-06T23:27:05.069925Z"
    },
    "papermill": {
     "duration": 1.261005,
     "end_time": "2024-08-06T23:27:05.072726",
     "exception": false,
     "start_time": "2024-08-06T23:27:03.811721",
     "status": "completed"
    },
    "tags": []
   },
   "outputs": [],
   "source": [
    "#client = Client()\n",
    "#client.restart()"
   ]
  },
  {
   "cell_type": "code",
   "execution_count": 34,
   "id": "5c73b148-ed58-4dcd-8355-2b8a1cbdf9f2",
   "metadata": {
    "execution": {
     "iopub.execute_input": "2024-08-06T23:27:05.093228Z",
     "iopub.status.busy": "2024-08-06T23:27:05.092874Z",
     "iopub.status.idle": "2024-08-06T23:27:05.361544Z",
     "shell.execute_reply": "2024-08-06T23:27:05.360039Z"
    },
    "papermill": {
     "duration": 0.280472,
     "end_time": "2024-08-06T23:27:05.363143",
     "exception": false,
     "start_time": "2024-08-06T23:27:05.082671",
     "status": "completed"
    },
    "tags": []
   },
   "outputs": [
    {
     "data": {
      "text/html": [
       "<div>\n",
       "<style scoped>\n",
       "    .dataframe tbody tr th:only-of-type {\n",
       "        vertical-align: middle;\n",
       "    }\n",
       "\n",
       "    .dataframe tbody tr th {\n",
       "        vertical-align: top;\n",
       "    }\n",
       "\n",
       "    .dataframe thead th {\n",
       "        text-align: right;\n",
       "    }\n",
       "</style>\n",
       "<table border=\"1\" class=\"dataframe\">\n",
       "  <thead>\n",
       "    <tr style=\"text-align: right;\">\n",
       "      <th></th>\n",
       "      <th>pvalue</th>\n",
       "      <th>statistic</th>\n",
       "      <th>control_key</th>\n",
       "    </tr>\n",
       "  </thead>\n",
       "  <tbody>\n",
       "    <tr>\n",
       "      <th>POLR1A</th>\n",
       "      <td>0.0</td>\n",
       "      <td>2.532549</td>\n",
       "      <td>pool</td>\n",
       "    </tr>\n",
       "    <tr>\n",
       "      <th>MED22</th>\n",
       "      <td>0.0</td>\n",
       "      <td>2.085382</td>\n",
       "      <td>pool</td>\n",
       "    </tr>\n",
       "    <tr>\n",
       "      <th>PAK1IP1</th>\n",
       "      <td>0.0</td>\n",
       "      <td>0.796605</td>\n",
       "      <td>pool</td>\n",
       "    </tr>\n",
       "    <tr>\n",
       "      <th>XRN1</th>\n",
       "      <td>0.0</td>\n",
       "      <td>0.78801</td>\n",
       "      <td>pool</td>\n",
       "    </tr>\n",
       "    <tr>\n",
       "      <th>EXOSC7</th>\n",
       "      <td>0.0</td>\n",
       "      <td>1.674282</td>\n",
       "      <td>pool</td>\n",
       "    </tr>\n",
       "    <tr>\n",
       "      <th>...</th>\n",
       "      <td>...</td>\n",
       "      <td>...</td>\n",
       "      <td>...</td>\n",
       "    </tr>\n",
       "    <tr>\n",
       "      <th>OR2M5</th>\n",
       "      <td>0.99</td>\n",
       "      <td>0.086486</td>\n",
       "      <td>pool</td>\n",
       "    </tr>\n",
       "    <tr>\n",
       "      <th>DVL2</th>\n",
       "      <td>0.991</td>\n",
       "      <td>0.076455</td>\n",
       "      <td>pool</td>\n",
       "    </tr>\n",
       "    <tr>\n",
       "      <th>HSFX3</th>\n",
       "      <td>0.994</td>\n",
       "      <td>0.143567</td>\n",
       "      <td>pool</td>\n",
       "    </tr>\n",
       "    <tr>\n",
       "      <th>LRRFIP1</th>\n",
       "      <td>0.994</td>\n",
       "      <td>0.088667</td>\n",
       "      <td>pool</td>\n",
       "    </tr>\n",
       "    <tr>\n",
       "      <th>LEP</th>\n",
       "      <td>0.997</td>\n",
       "      <td>0.080206</td>\n",
       "      <td>pool</td>\n",
       "    </tr>\n",
       "  </tbody>\n",
       "</table>\n",
       "<p>4974 rows × 3 columns</p>\n",
       "</div>"
      ],
      "text/plain": [
       "        pvalue statistic control_key\n",
       "POLR1A     0.0  2.532549        pool\n",
       "MED22      0.0  2.085382        pool\n",
       "PAK1IP1    0.0  0.796605        pool\n",
       "XRN1       0.0   0.78801        pool\n",
       "EXOSC7     0.0  1.674282        pool\n",
       "...        ...       ...         ...\n",
       "OR2M5     0.99  0.086486        pool\n",
       "DVL2     0.991  0.076455        pool\n",
       "HSFX3    0.994  0.143567        pool\n",
       "LRRFIP1  0.994  0.088667        pool\n",
       "LEP      0.997  0.080206        pool\n",
       "\n",
       "[4974 rows x 3 columns]"
      ]
     },
     "execution_count": 34,
     "metadata": {},
     "output_type": "execute_result"
    }
   ],
   "source": [
    "PVAL = pd.DataFrame(ed).T.sort_values(by='pvalue')\n",
    "PVAL"
   ]
  },
  {
   "cell_type": "markdown",
   "id": "32a897ae-b020-4f4c-9fb6-b98b19ab43f6",
   "metadata": {
    "papermill": {
     "duration": 0.009359,
     "end_time": "2024-08-06T23:27:05.399535",
     "exception": false,
     "start_time": "2024-08-06T23:27:05.390176",
     "status": "completed"
    },
    "tags": []
   },
   "source": [
    "#### p-value should be 1/1000 at minimum (for 1000 permutations)"
   ]
  },
  {
   "cell_type": "code",
   "execution_count": 35,
   "id": "34898054-e1cf-4bb8-9105-c7e6c86d8520",
   "metadata": {
    "execution": {
     "iopub.execute_input": "2024-08-06T23:27:05.419382Z",
     "iopub.status.busy": "2024-08-06T23:27:05.418670Z",
     "iopub.status.idle": "2024-08-06T23:27:05.593384Z",
     "shell.execute_reply": "2024-08-06T23:27:05.591859Z"
    },
    "papermill": {
     "duration": 0.186478,
     "end_time": "2024-08-06T23:27:05.595084",
     "exception": false,
     "start_time": "2024-08-06T23:27:05.408606",
     "status": "completed"
    },
    "tags": []
   },
   "outputs": [],
   "source": [
    "PVAL['pvalue'] = PVAL['pvalue'].replace(0,0.001)"
   ]
  },
  {
   "cell_type": "code",
   "execution_count": 36,
   "id": "7288550e-99de-47eb-8025-256728eb7136",
   "metadata": {
    "execution": {
     "iopub.execute_input": "2024-08-06T23:27:05.615485Z",
     "iopub.status.busy": "2024-08-06T23:27:05.615240Z",
     "iopub.status.idle": "2024-08-06T23:27:05.813406Z",
     "shell.execute_reply": "2024-08-06T23:27:05.812469Z"
    },
    "papermill": {
     "duration": 0.210029,
     "end_time": "2024-08-06T23:27:05.814892",
     "exception": false,
     "start_time": "2024-08-06T23:27:05.604863",
     "status": "completed"
    },
    "tags": []
   },
   "outputs": [],
   "source": [
    "PVAL['gene_symbol'] = PVAL.index\n",
    "PVAL.to_csv(out_csv)"
   ]
  },
  {
   "cell_type": "markdown",
   "id": "f66e387d-decd-4193-b455-b69f64132c96",
   "metadata": {
    "papermill": {
     "duration": 0.009036,
     "end_time": "2024-08-06T23:27:05.834142",
     "exception": false,
     "start_time": "2024-08-06T23:27:05.825106",
     "status": "completed"
    },
    "tags": []
   },
   "source": [
    "### Add the energy distance info to adata"
   ]
  },
  {
   "cell_type": "code",
   "execution_count": 37,
   "id": "d44dfcd6-3f10-4689-a3db-d1b628be65fb",
   "metadata": {
    "execution": {
     "iopub.execute_input": "2024-08-06T23:27:05.853377Z",
     "iopub.status.busy": "2024-08-06T23:27:05.853033Z",
     "iopub.status.idle": "2024-08-06T23:27:06.091808Z",
     "shell.execute_reply": "2024-08-06T23:27:06.090339Z"
    },
    "papermill": {
     "duration": 0.250579,
     "end_time": "2024-08-06T23:27:06.093759",
     "exception": false,
     "start_time": "2024-08-06T23:27:05.843180",
     "status": "completed"
    },
    "tags": []
   },
   "outputs": [],
   "source": [
    "ed_df = pd.DataFrame(ed).T.copy()"
   ]
  },
  {
   "cell_type": "code",
   "execution_count": 38,
   "id": "2b688711-ccd5-487e-9ce3-8fb98837375d",
   "metadata": {
    "execution": {
     "iopub.execute_input": "2024-08-06T23:27:06.115746Z",
     "iopub.status.busy": "2024-08-06T23:27:06.114660Z",
     "iopub.status.idle": "2024-08-06T23:27:06.310185Z",
     "shell.execute_reply": "2024-08-06T23:27:06.309369Z"
    },
    "papermill": {
     "duration": 0.207835,
     "end_time": "2024-08-06T23:27:06.311856",
     "exception": false,
     "start_time": "2024-08-06T23:27:06.104021",
     "status": "completed"
    },
    "tags": []
   },
   "outputs": [],
   "source": [
    "ed_df['gene_symbol'] = ed_df.index\n",
    "ed_df=ed_df.reset_index(drop=True)"
   ]
  },
  {
   "cell_type": "code",
   "execution_count": 39,
   "id": "7de3cfb1-65e5-4db0-bccc-d1ea78f480ad",
   "metadata": {
    "execution": {
     "iopub.execute_input": "2024-08-06T23:27:06.332064Z",
     "iopub.status.busy": "2024-08-06T23:27:06.331740Z",
     "iopub.status.idle": "2024-08-06T23:27:06.475743Z",
     "shell.execute_reply": "2024-08-06T23:27:06.475039Z"
    },
    "papermill": {
     "duration": 0.155685,
     "end_time": "2024-08-06T23:27:06.477214",
     "exception": false,
     "start_time": "2024-08-06T23:27:06.321529",
     "status": "completed"
    },
    "tags": []
   },
   "outputs": [],
   "source": [
    "ed_df['pvalue'] = ed_df['pvalue'].replace(0,0.001)"
   ]
  },
  {
   "cell_type": "code",
   "execution_count": 40,
   "id": "7524de3d-fd55-4380-9353-8cb96e1ff450",
   "metadata": {
    "execution": {
     "iopub.execute_input": "2024-08-06T23:27:06.501324Z",
     "iopub.status.busy": "2024-08-06T23:27:06.500781Z",
     "iopub.status.idle": "2024-08-06T23:27:06.675722Z",
     "shell.execute_reply": "2024-08-06T23:27:06.675018Z"
    },
    "papermill": {
     "duration": 0.18699,
     "end_time": "2024-08-06T23:27:06.677249",
     "exception": false,
     "start_time": "2024-08-06T23:27:06.490259",
     "status": "completed"
    },
    "tags": []
   },
   "outputs": [],
   "source": [
    "ed_df = ed_df.rename(columns={\"pvalue\":\"energy_distance_pvalue\",\"statistic\":\"energy_distance_statistic\",\"control_key\":\"energy_distance_control_key\"})"
   ]
  },
  {
   "cell_type": "code",
   "execution_count": 41,
   "id": "dbea9031-c414-4d91-be7d-9db02adcb594",
   "metadata": {
    "execution": {
     "iopub.execute_input": "2024-08-06T23:27:06.697624Z",
     "iopub.status.busy": "2024-08-06T23:27:06.697219Z",
     "iopub.status.idle": "2024-08-06T23:27:07.458435Z",
     "shell.execute_reply": "2024-08-06T23:27:07.457388Z"
    },
    "papermill": {
     "duration": 0.773105,
     "end_time": "2024-08-06T23:27:07.460221",
     "exception": false,
     "start_time": "2024-08-06T23:27:06.687116",
     "status": "completed"
    },
    "tags": []
   },
   "outputs": [],
   "source": [
    "df_uns = adata.obs.reset_index().merge(ed_df, on=\"gene_symbol\", how=\"left\").set_index('index')\n",
    "df_uns.index.name = None"
   ]
  },
  {
   "cell_type": "code",
   "execution_count": 42,
   "id": "87b169e3-c899-4559-a3d8-9b451c8e5e12",
   "metadata": {
    "execution": {
     "iopub.execute_input": "2024-08-06T23:27:07.482852Z",
     "iopub.status.busy": "2024-08-06T23:27:07.482288Z",
     "iopub.status.idle": "2024-08-06T23:27:07.703552Z",
     "shell.execute_reply": "2024-08-06T23:27:07.702253Z"
    },
    "papermill": {
     "duration": 0.234297,
     "end_time": "2024-08-06T23:27:07.705495",
     "exception": false,
     "start_time": "2024-08-06T23:27:07.471198",
     "status": "completed"
    },
    "tags": []
   },
   "outputs": [],
   "source": [
    "b=['energy_distance_pvalue','energy_distance_statistic']#,'energy_distance_control_key','phenotype']\n",
    "\n",
    "for el in b:\n",
    "    df_uns[el] = df_uns[el].astype(float)"
   ]
  },
  {
   "cell_type": "code",
   "execution_count": 43,
   "id": "160be9c6-f069-4877-b59d-c8c4ec942553",
   "metadata": {
    "execution": {
     "iopub.execute_input": "2024-08-06T23:27:07.726695Z",
     "iopub.status.busy": "2024-08-06T23:27:07.726040Z",
     "iopub.status.idle": "2024-08-06T23:27:07.858405Z",
     "shell.execute_reply": "2024-08-06T23:27:07.856966Z"
    },
    "papermill": {
     "duration": 0.143912,
     "end_time": "2024-08-06T23:27:07.859577",
     "exception": false,
     "start_time": "2024-08-06T23:27:07.715665",
     "status": "completed"
    },
    "tags": []
   },
   "outputs": [
    {
     "data": {
      "text/html": [
       "<div>\n",
       "<style scoped>\n",
       "    .dataframe tbody tr th:only-of-type {\n",
       "        vertical-align: middle;\n",
       "    }\n",
       "\n",
       "    .dataframe tbody tr th {\n",
       "        vertical-align: top;\n",
       "    }\n",
       "\n",
       "    .dataframe thead th {\n",
       "        text-align: right;\n",
       "    }\n",
       "</style>\n",
       "<table border=\"1\" class=\"dataframe\">\n",
       "  <thead>\n",
       "    <tr style=\"text-align: right;\">\n",
       "      <th></th>\n",
       "      <th>Sample</th>\n",
       "      <th>Barcode</th>\n",
       "      <th>DemuxType_crispr</th>\n",
       "      <th>DemuxAssignment_crispr</th>\n",
       "      <th>DemuxType_hashing</th>\n",
       "      <th>DemuxAssignment_hashing</th>\n",
       "      <th>cellline</th>\n",
       "      <th>timepoint</th>\n",
       "      <th>HTO</th>\n",
       "      <th>NGS_ID</th>\n",
       "      <th>...</th>\n",
       "      <th>pct_counts_ribo</th>\n",
       "      <th>qc_pass</th>\n",
       "      <th>S_score</th>\n",
       "      <th>G2M_score</th>\n",
       "      <th>phase</th>\n",
       "      <th>SCN_class</th>\n",
       "      <th>gem</th>\n",
       "      <th>energy_distance_pvalue</th>\n",
       "      <th>energy_distance_statistic</th>\n",
       "      <th>energy_distance_control_key</th>\n",
       "    </tr>\n",
       "  </thead>\n",
       "  <tbody>\n",
       "    <tr>\n",
       "      <th>SAM24451293_rep1-AAACCCAAGAAATCCA</th>\n",
       "      <td>SAM24451293</td>\n",
       "      <td>AAACCCAAGAAATCCA</td>\n",
       "      <td>singlet</td>\n",
       "      <td>ENSG00000154124_2</td>\n",
       "      <td>singlet</td>\n",
       "      <td>SAM24439044</td>\n",
       "      <td>DLD1</td>\n",
       "      <td>day5</td>\n",
       "      <td>HTO-14</td>\n",
       "      <td>NGS5774</td>\n",
       "      <td>...</td>\n",
       "      <td>19.529837</td>\n",
       "      <td>True</td>\n",
       "      <td>-0.734884</td>\n",
       "      <td>-0.491440</td>\n",
       "      <td>G1</td>\n",
       "      <td>Untreatedclus_DLD1</td>\n",
       "      <td>NGS5774-1</td>\n",
       "      <td>0.312</td>\n",
       "      <td>0.122883</td>\n",
       "      <td>pool</td>\n",
       "    </tr>\n",
       "    <tr>\n",
       "      <th>SAM24451293_rep1-AAACCCAAGACAGTCG</th>\n",
       "      <td>SAM24451293</td>\n",
       "      <td>AAACCCAAGACAGTCG</td>\n",
       "      <td>singlet</td>\n",
       "      <td>ENSG00000171017_3</td>\n",
       "      <td>singlet</td>\n",
       "      <td>SAM24439045</td>\n",
       "      <td>DLD1</td>\n",
       "      <td>day5</td>\n",
       "      <td>HTO-18</td>\n",
       "      <td>NGS5774</td>\n",
       "      <td>...</td>\n",
       "      <td>22.065006</td>\n",
       "      <td>True</td>\n",
       "      <td>-0.493023</td>\n",
       "      <td>0.231481</td>\n",
       "      <td>G2M</td>\n",
       "      <td>Untreatedclus_DLD1</td>\n",
       "      <td>NGS5774-1</td>\n",
       "      <td>0.025</td>\n",
       "      <td>0.202001</td>\n",
       "      <td>pool</td>\n",
       "    </tr>\n",
       "    <tr>\n",
       "      <th>SAM24451293_rep1-AAACCCACAGACCCGT</th>\n",
       "      <td>SAM24451293</td>\n",
       "      <td>AAACCCACAGACCCGT</td>\n",
       "      <td>singlet</td>\n",
       "      <td>ENSG00000140057_1</td>\n",
       "      <td>singlet</td>\n",
       "      <td>SAM24439043</td>\n",
       "      <td>DLD1</td>\n",
       "      <td>day5</td>\n",
       "      <td>HTO-10</td>\n",
       "      <td>NGS5774</td>\n",
       "      <td>...</td>\n",
       "      <td>14.875622</td>\n",
       "      <td>True</td>\n",
       "      <td>-0.158140</td>\n",
       "      <td>-0.564640</td>\n",
       "      <td>G1</td>\n",
       "      <td>Untreatedclus_DLD1</td>\n",
       "      <td>NGS5774-1</td>\n",
       "      <td>0.551</td>\n",
       "      <td>0.106587</td>\n",
       "      <td>pool</td>\n",
       "    </tr>\n",
       "    <tr>\n",
       "      <th>SAM24451293_rep1-AAACCCAGTAACGATA</th>\n",
       "      <td>SAM24451293</td>\n",
       "      <td>AAACCCAGTAACGATA</td>\n",
       "      <td>singlet</td>\n",
       "      <td>ENSG00000188611_3</td>\n",
       "      <td>singlet</td>\n",
       "      <td>POSITIVE_CONTROL</td>\n",
       "      <td>DLD1</td>\n",
       "      <td>day5</td>\n",
       "      <td>HTO-19</td>\n",
       "      <td>NGS5774</td>\n",
       "      <td>...</td>\n",
       "      <td>25.018056</td>\n",
       "      <td>True</td>\n",
       "      <td>-0.520930</td>\n",
       "      <td>-0.385045</td>\n",
       "      <td>G1</td>\n",
       "      <td>Untreatedclus_DLD1</td>\n",
       "      <td>NGS5774-1</td>\n",
       "      <td>0.670</td>\n",
       "      <td>0.088444</td>\n",
       "      <td>pool</td>\n",
       "    </tr>\n",
       "    <tr>\n",
       "      <th>SAM24451293_rep1-AAACCCAGTACGACAG</th>\n",
       "      <td>SAM24451293</td>\n",
       "      <td>AAACCCAGTACGACAG</td>\n",
       "      <td>singlet</td>\n",
       "      <td>ENSG00000166664_2</td>\n",
       "      <td>singlet</td>\n",
       "      <td>SAM24439043</td>\n",
       "      <td>DLD1</td>\n",
       "      <td>day5</td>\n",
       "      <td>HTO-1</td>\n",
       "      <td>NGS5774</td>\n",
       "      <td>...</td>\n",
       "      <td>17.613996</td>\n",
       "      <td>True</td>\n",
       "      <td>0.334884</td>\n",
       "      <td>-0.072851</td>\n",
       "      <td>S</td>\n",
       "      <td>Untreatedclus_DLD1</td>\n",
       "      <td>NGS5774-1</td>\n",
       "      <td>0.221</td>\n",
       "      <td>0.111543</td>\n",
       "      <td>pool</td>\n",
       "    </tr>\n",
       "  </tbody>\n",
       "</table>\n",
       "<p>5 rows × 31 columns</p>\n",
       "</div>"
      ],
      "text/plain": [
       "                                        Sample           Barcode  \\\n",
       "SAM24451293_rep1-AAACCCAAGAAATCCA  SAM24451293  AAACCCAAGAAATCCA   \n",
       "SAM24451293_rep1-AAACCCAAGACAGTCG  SAM24451293  AAACCCAAGACAGTCG   \n",
       "SAM24451293_rep1-AAACCCACAGACCCGT  SAM24451293  AAACCCACAGACCCGT   \n",
       "SAM24451293_rep1-AAACCCAGTAACGATA  SAM24451293  AAACCCAGTAACGATA   \n",
       "SAM24451293_rep1-AAACCCAGTACGACAG  SAM24451293  AAACCCAGTACGACAG   \n",
       "\n",
       "                                  DemuxType_crispr DemuxAssignment_crispr  \\\n",
       "SAM24451293_rep1-AAACCCAAGAAATCCA          singlet      ENSG00000154124_2   \n",
       "SAM24451293_rep1-AAACCCAAGACAGTCG          singlet      ENSG00000171017_3   \n",
       "SAM24451293_rep1-AAACCCACAGACCCGT          singlet      ENSG00000140057_1   \n",
       "SAM24451293_rep1-AAACCCAGTAACGATA          singlet      ENSG00000188611_3   \n",
       "SAM24451293_rep1-AAACCCAGTACGACAG          singlet      ENSG00000166664_2   \n",
       "\n",
       "                                  DemuxType_hashing DemuxAssignment_hashing  \\\n",
       "SAM24451293_rep1-AAACCCAAGAAATCCA           singlet             SAM24439044   \n",
       "SAM24451293_rep1-AAACCCAAGACAGTCG           singlet             SAM24439045   \n",
       "SAM24451293_rep1-AAACCCACAGACCCGT           singlet             SAM24439043   \n",
       "SAM24451293_rep1-AAACCCAGTAACGATA           singlet        POSITIVE_CONTROL   \n",
       "SAM24451293_rep1-AAACCCAGTACGACAG           singlet             SAM24439043   \n",
       "\n",
       "                                  cellline timepoint     HTO   NGS_ID  ...  \\\n",
       "SAM24451293_rep1-AAACCCAAGAAATCCA     DLD1      day5  HTO-14  NGS5774  ...   \n",
       "SAM24451293_rep1-AAACCCAAGACAGTCG     DLD1      day5  HTO-18  NGS5774  ...   \n",
       "SAM24451293_rep1-AAACCCACAGACCCGT     DLD1      day5  HTO-10  NGS5774  ...   \n",
       "SAM24451293_rep1-AAACCCAGTAACGATA     DLD1      day5  HTO-19  NGS5774  ...   \n",
       "SAM24451293_rep1-AAACCCAGTACGACAG     DLD1      day5   HTO-1  NGS5774  ...   \n",
       "\n",
       "                                  pct_counts_ribo qc_pass   S_score G2M_score  \\\n",
       "SAM24451293_rep1-AAACCCAAGAAATCCA       19.529837    True -0.734884 -0.491440   \n",
       "SAM24451293_rep1-AAACCCAAGACAGTCG       22.065006    True -0.493023  0.231481   \n",
       "SAM24451293_rep1-AAACCCACAGACCCGT       14.875622    True -0.158140 -0.564640   \n",
       "SAM24451293_rep1-AAACCCAGTAACGATA       25.018056    True -0.520930 -0.385045   \n",
       "SAM24451293_rep1-AAACCCAGTACGACAG       17.613996    True  0.334884 -0.072851   \n",
       "\n",
       "                                  phase           SCN_class        gem  \\\n",
       "SAM24451293_rep1-AAACCCAAGAAATCCA    G1  Untreatedclus_DLD1  NGS5774-1   \n",
       "SAM24451293_rep1-AAACCCAAGACAGTCG   G2M  Untreatedclus_DLD1  NGS5774-1   \n",
       "SAM24451293_rep1-AAACCCACAGACCCGT    G1  Untreatedclus_DLD1  NGS5774-1   \n",
       "SAM24451293_rep1-AAACCCAGTAACGATA    G1  Untreatedclus_DLD1  NGS5774-1   \n",
       "SAM24451293_rep1-AAACCCAGTACGACAG     S  Untreatedclus_DLD1  NGS5774-1   \n",
       "\n",
       "                                   energy_distance_pvalue  \\\n",
       "SAM24451293_rep1-AAACCCAAGAAATCCA                   0.312   \n",
       "SAM24451293_rep1-AAACCCAAGACAGTCG                   0.025   \n",
       "SAM24451293_rep1-AAACCCACAGACCCGT                   0.551   \n",
       "SAM24451293_rep1-AAACCCAGTAACGATA                   0.670   \n",
       "SAM24451293_rep1-AAACCCAGTACGACAG                   0.221   \n",
       "\n",
       "                                   energy_distance_statistic  \\\n",
       "SAM24451293_rep1-AAACCCAAGAAATCCA                   0.122883   \n",
       "SAM24451293_rep1-AAACCCAAGACAGTCG                   0.202001   \n",
       "SAM24451293_rep1-AAACCCACAGACCCGT                   0.106587   \n",
       "SAM24451293_rep1-AAACCCAGTAACGATA                   0.088444   \n",
       "SAM24451293_rep1-AAACCCAGTACGACAG                   0.111543   \n",
       "\n",
       "                                   energy_distance_control_key  \n",
       "SAM24451293_rep1-AAACCCAAGAAATCCA                         pool  \n",
       "SAM24451293_rep1-AAACCCAAGACAGTCG                         pool  \n",
       "SAM24451293_rep1-AAACCCACAGACCCGT                         pool  \n",
       "SAM24451293_rep1-AAACCCAGTAACGATA                         pool  \n",
       "SAM24451293_rep1-AAACCCAGTACGACAG                         pool  \n",
       "\n",
       "[5 rows x 31 columns]"
      ]
     },
     "execution_count": 43,
     "metadata": {},
     "output_type": "execute_result"
    }
   ],
   "source": [
    "df_uns.head()"
   ]
  },
  {
   "cell_type": "code",
   "execution_count": 44,
   "id": "8a128914-749a-45e3-9d07-f4056b0449e2",
   "metadata": {
    "execution": {
     "iopub.execute_input": "2024-08-06T23:27:07.880392Z",
     "iopub.status.busy": "2024-08-06T23:27:07.880047Z",
     "iopub.status.idle": "2024-08-06T23:27:08.036565Z",
     "shell.execute_reply": "2024-08-06T23:27:08.035737Z"
    },
    "papermill": {
     "duration": 0.168532,
     "end_time": "2024-08-06T23:27:08.038097",
     "exception": false,
     "start_time": "2024-08-06T23:27:07.869565",
     "status": "completed"
    },
    "tags": []
   },
   "outputs": [],
   "source": [
    "#df_uns.index = df_uns.index.astype(str)"
   ]
  },
  {
   "cell_type": "code",
   "execution_count": 45,
   "id": "af7b1be8-d644-4330-9583-f1c6ed76a553",
   "metadata": {
    "execution": {
     "iopub.execute_input": "2024-08-06T23:27:08.060287Z",
     "iopub.status.busy": "2024-08-06T23:27:08.059081Z",
     "iopub.status.idle": "2024-08-06T23:27:08.268146Z",
     "shell.execute_reply": "2024-08-06T23:27:08.267009Z"
    },
    "papermill": {
     "duration": 0.221639,
     "end_time": "2024-08-06T23:27:08.270050",
     "exception": false,
     "start_time": "2024-08-06T23:27:08.048411",
     "status": "completed"
    },
    "tags": []
   },
   "outputs": [],
   "source": [
    "df_uns = df_uns.drop(columns='energy_distance_control_key')"
   ]
  },
  {
   "cell_type": "code",
   "execution_count": 46,
   "id": "3069e8b2-8e6c-49d3-8da8-21978d35197c",
   "metadata": {
    "execution": {
     "iopub.execute_input": "2024-08-06T23:27:08.291793Z",
     "iopub.status.busy": "2024-08-06T23:27:08.291501Z",
     "iopub.status.idle": "2024-08-06T23:27:08.432893Z",
     "shell.execute_reply": "2024-08-06T23:27:08.431407Z"
    },
    "papermill": {
     "duration": 0.153892,
     "end_time": "2024-08-06T23:27:08.434673",
     "exception": false,
     "start_time": "2024-08-06T23:27:08.280781",
     "status": "completed"
    },
    "tags": []
   },
   "outputs": [],
   "source": [
    "df_uns['phenotype'] = 'No'\n",
    "df_uns.loc[df_uns['energy_distance_pvalue']<=pVAL, 'phenotype'] = 'Yes'"
   ]
  },
  {
   "cell_type": "code",
   "execution_count": 47,
   "id": "36ab0df3-09a7-44e5-a271-6c435008735c",
   "metadata": {
    "execution": {
     "iopub.execute_input": "2024-08-06T23:27:08.456334Z",
     "iopub.status.busy": "2024-08-06T23:27:08.455962Z",
     "iopub.status.idle": "2024-08-06T23:27:08.751522Z",
     "shell.execute_reply": "2024-08-06T23:27:08.750431Z"
    },
    "papermill": {
     "duration": 0.307824,
     "end_time": "2024-08-06T23:27:08.753066",
     "exception": false,
     "start_time": "2024-08-06T23:27:08.445242",
     "status": "completed"
    },
    "tags": []
   },
   "outputs": [
    {
     "data": {
      "text/plain": [
       "1285"
      ]
     },
     "execution_count": 47,
     "metadata": {},
     "output_type": "execute_result"
    }
   ],
   "source": [
    "PHENO = df_uns[df_uns['phenotype']=='Yes'].copy()\n",
    "PHENO['gene_symbol'].nunique()"
   ]
  },
  {
   "cell_type": "markdown",
   "id": "79d8b13c-41a8-4557-a592-842f0cfb9a6d",
   "metadata": {
    "papermill": {
     "duration": 0.009705,
     "end_time": "2024-08-06T23:27:08.773468",
     "exception": false,
     "start_time": "2024-08-06T23:27:08.763763",
     "status": "completed"
    },
    "tags": []
   },
   "source": [
    "## Update the annadata object and write out the output"
   ]
  },
  {
   "cell_type": "code",
   "execution_count": 48,
   "id": "45121276-0370-43d6-bcb9-26fcb8d3c474",
   "metadata": {
    "execution": {
     "iopub.execute_input": "2024-08-06T23:27:08.794130Z",
     "iopub.status.busy": "2024-08-06T23:27:08.793530Z",
     "iopub.status.idle": "2024-08-06T23:27:08.930693Z",
     "shell.execute_reply": "2024-08-06T23:27:08.929682Z"
    },
    "papermill": {
     "duration": 0.149451,
     "end_time": "2024-08-06T23:27:08.932453",
     "exception": false,
     "start_time": "2024-08-06T23:27:08.783002",
     "status": "completed"
    },
    "tags": []
   },
   "outputs": [],
   "source": [
    "df_uns_ED = df_uns[['energy_distance_pvalue','energy_distance_statistic','phenotype']].copy()\n",
    "df_uns_ED = df_uns_ED.rename(columns={'phenotype': 'phenotype_@0.05'})"
   ]
  },
  {
   "cell_type": "code",
   "execution_count": 49,
   "id": "c7b5e19f-3075-4451-8e3f-37ac6fbb7667",
   "metadata": {
    "execution": {
     "iopub.execute_input": "2024-08-06T23:27:08.954320Z",
     "iopub.status.busy": "2024-08-06T23:27:08.954006Z",
     "iopub.status.idle": "2024-08-06T23:27:09.132642Z",
     "shell.execute_reply": "2024-08-06T23:27:09.131736Z"
    },
    "papermill": {
     "duration": 0.191235,
     "end_time": "2024-08-06T23:27:09.134268",
     "exception": false,
     "start_time": "2024-08-06T23:27:08.943033",
     "status": "completed"
    },
    "tags": []
   },
   "outputs": [],
   "source": [
    "if 'energy_distance' not in adata.uns:\n",
    "    adata.uns[\"energy_distance\"]={}"
   ]
  },
  {
   "cell_type": "code",
   "execution_count": 50,
   "id": "232ff50d-93c3-43de-bc61-58a777f63978",
   "metadata": {
    "execution": {
     "iopub.execute_input": "2024-08-06T23:27:09.155972Z",
     "iopub.status.busy": "2024-08-06T23:27:09.155655Z",
     "iopub.status.idle": "2024-08-06T23:27:09.261721Z",
     "shell.execute_reply": "2024-08-06T23:27:09.261023Z"
    },
    "papermill": {
     "duration": 0.118319,
     "end_time": "2024-08-06T23:27:09.263235",
     "exception": false,
     "start_time": "2024-08-06T23:27:09.144916",
     "status": "completed"
    },
    "tags": []
   },
   "outputs": [],
   "source": [
    "adata.uns[\"energy_distance\"][key_uns]=df_uns_ED"
   ]
  },
  {
   "cell_type": "code",
   "execution_count": 51,
   "id": "7ea8e887-a312-4e0b-a095-7331c08a6c27",
   "metadata": {
    "execution": {
     "iopub.execute_input": "2024-08-06T23:27:09.284097Z",
     "iopub.status.busy": "2024-08-06T23:27:09.283771Z",
     "iopub.status.idle": "2024-08-06T23:28:00.545555Z",
     "shell.execute_reply": "2024-08-06T23:28:00.544351Z"
    },
    "papermill": {
     "duration": 51.275754,
     "end_time": "2024-08-06T23:28:00.549035",
     "exception": false,
     "start_time": "2024-08-06T23:27:09.273281",
     "status": "completed"
    },
    "tags": []
   },
   "outputs": [],
   "source": [
    "adata.write(ED_file)"
   ]
  },
  {
   "cell_type": "markdown",
   "id": "cf54ed93-8ed8-49df-ac4e-0036135f09d2",
   "metadata": {
    "papermill": {
     "duration": 0.009998,
     "end_time": "2024-08-06T23:28:00.572144",
     "exception": false,
     "start_time": "2024-08-06T23:28:00.562146",
     "status": "completed"
    },
    "tags": []
   },
   "source": [
    "## Data Tabulation"
   ]
  },
  {
   "cell_type": "code",
   "execution_count": 52,
   "id": "ec3eb58c-cb70-4c93-bfbf-7d11abcbaddd",
   "metadata": {
    "execution": {
     "iopub.execute_input": "2024-08-06T23:28:00.593112Z",
     "iopub.status.busy": "2024-08-06T23:28:00.592833Z",
     "iopub.status.idle": "2024-08-06T23:28:00.816954Z",
     "shell.execute_reply": "2024-08-06T23:28:00.816248Z"
    },
    "papermill": {
     "duration": 0.236572,
     "end_time": "2024-08-06T23:28:00.818504",
     "exception": false,
     "start_time": "2024-08-06T23:28:00.581932",
     "status": "completed"
    },
    "tags": []
   },
   "outputs": [
    {
     "data": {
      "text/plain": [
       "SCN_class             phenotype\n",
       "DOXclus_CL34          No              131\n",
       "                      Yes              58\n",
       "DOXclus_DLD1          No            46261\n",
       "                      Yes           17555\n",
       "DOXclus_HCA7          No               12\n",
       "                      Yes               7\n",
       "DOXclus_HT55          No                1\n",
       "                      Yes               0\n",
       "DOXclus_MDST8         No               57\n",
       "                      Yes              29\n",
       "DOXclus_SW480         No                2\n",
       "                      Yes               1\n",
       "DOXclus_SW620         No                1\n",
       "                      Yes               0\n",
       "DOXclus_SW1463        No              671\n",
       "                      Yes             326\n",
       "Untreatedclus_CL34    No                7\n",
       "                      Yes               1\n",
       "Untreatedclus_DLD1    No           409334\n",
       "                      Yes          117967\n",
       "Untreatedclus_HT55    No                1\n",
       "                      Yes               0\n",
       "Untreatedclus_RCM1    No             1059\n",
       "                      Yes             551\n",
       "Untreatedclus_SKCO1   No               40\n",
       "                      Yes              22\n",
       "Untreatedclus_SW403   No                2\n",
       "                      Yes               1\n",
       "Untreatedclus_SW620   No              168\n",
       "                      Yes              95\n",
       "Untreatedclus_SW837   No               31\n",
       "                      Yes              14\n",
       "Untreatedclus_SW948   No                2\n",
       "                      Yes               0\n",
       "Untreatedclus_SW1417  No               49\n",
       "                      Yes              22\n",
       "Untreatedclus_SW1463  No              123\n",
       "                      Yes              67\n",
       "Untreatedclus_T84     No              215\n",
       "                      Yes             101\n",
       "rand                  No              421\n",
       "                      Yes             198\n",
       "Name: gene_symbol, dtype: int64"
      ]
     },
     "execution_count": 52,
     "metadata": {},
     "output_type": "execute_result"
    }
   ],
   "source": [
    "df_uns.groupby(['SCN_class', 'phenotype'])['gene_symbol'].size()"
   ]
  },
  {
   "cell_type": "code",
   "execution_count": 53,
   "id": "9fd44015-b144-450d-964a-1d196a326fe7",
   "metadata": {
    "execution": {
     "iopub.execute_input": "2024-08-06T23:28:00.840778Z",
     "iopub.status.busy": "2024-08-06T23:28:00.840355Z",
     "iopub.status.idle": "2024-08-06T23:28:01.042611Z",
     "shell.execute_reply": "2024-08-06T23:28:01.041385Z"
    },
    "papermill": {
     "duration": 0.214692,
     "end_time": "2024-08-06T23:28:01.044112",
     "exception": false,
     "start_time": "2024-08-06T23:28:00.829420",
     "status": "completed"
    },
    "tags": []
   },
   "outputs": [
    {
     "data": {
      "text/html": [
       "<div>\n",
       "<style scoped>\n",
       "    .dataframe tbody tr th:only-of-type {\n",
       "        vertical-align: middle;\n",
       "    }\n",
       "\n",
       "    .dataframe tbody tr th {\n",
       "        vertical-align: top;\n",
       "    }\n",
       "\n",
       "    .dataframe thead th {\n",
       "        text-align: right;\n",
       "    }\n",
       "</style>\n",
       "<table border=\"1\" class=\"dataframe\">\n",
       "  <thead>\n",
       "    <tr style=\"text-align: right;\">\n",
       "      <th></th>\n",
       "      <th>gene_symbol</th>\n",
       "      <th>cnt</th>\n",
       "    </tr>\n",
       "  </thead>\n",
       "  <tbody>\n",
       "    <tr>\n",
       "      <th>1099</th>\n",
       "      <td>TCF7L2</td>\n",
       "      <td>118</td>\n",
       "    </tr>\n",
       "    <tr>\n",
       "      <th>214</th>\n",
       "      <td>CTNNB1</td>\n",
       "      <td>78</td>\n",
       "    </tr>\n",
       "    <tr>\n",
       "      <th>651</th>\n",
       "      <td>MYC</td>\n",
       "      <td>65</td>\n",
       "    </tr>\n",
       "    <tr>\n",
       "      <th>670</th>\n",
       "      <td>NELFB</td>\n",
       "      <td>47</td>\n",
       "    </tr>\n",
       "    <tr>\n",
       "      <th>1207</th>\n",
       "      <td>UBTF</td>\n",
       "      <td>43</td>\n",
       "    </tr>\n",
       "    <tr>\n",
       "      <th>...</th>\n",
       "      <td>...</td>\n",
       "      <td>...</td>\n",
       "    </tr>\n",
       "    <tr>\n",
       "      <th>912</th>\n",
       "      <td>RGPD5</td>\n",
       "      <td>1</td>\n",
       "    </tr>\n",
       "    <tr>\n",
       "      <th>1027</th>\n",
       "      <td>SNIP1</td>\n",
       "      <td>1</td>\n",
       "    </tr>\n",
       "    <tr>\n",
       "      <th>209</th>\n",
       "      <td>CSNK1A1</td>\n",
       "      <td>1</td>\n",
       "    </tr>\n",
       "    <tr>\n",
       "      <th>268</th>\n",
       "      <td>ECD</td>\n",
       "      <td>1</td>\n",
       "    </tr>\n",
       "    <tr>\n",
       "      <th>802</th>\n",
       "      <td>PLK1</td>\n",
       "      <td>1</td>\n",
       "    </tr>\n",
       "  </tbody>\n",
       "</table>\n",
       "<p>1281 rows × 2 columns</p>\n",
       "</div>"
      ],
      "text/plain": [
       "     gene_symbol  cnt\n",
       "1099      TCF7L2  118\n",
       "214       CTNNB1   78\n",
       "651          MYC   65\n",
       "670        NELFB   47\n",
       "1207        UBTF   43\n",
       "...          ...  ...\n",
       "912        RGPD5    1\n",
       "1027       SNIP1    1\n",
       "209      CSNK1A1    1\n",
       "268          ECD    1\n",
       "802         PLK1    1\n",
       "\n",
       "[1281 rows x 2 columns]"
      ]
     },
     "execution_count": 53,
     "metadata": {},
     "output_type": "execute_result"
    }
   ],
   "source": [
    "df_uns[(df_uns['phenotype']=='Yes')&(df_uns['SCN_class']=='DOXclus_DLD1')].groupby(\n",
    "    ['gene_symbol'])['DemuxAssignment_crispr'].count().reset_index(name='cnt').sort_values(by='cnt', ascending=False)"
   ]
  },
  {
   "cell_type": "code",
   "execution_count": 54,
   "id": "e3c37d1c-f067-48f7-a2a2-a8875b71bdbf",
   "metadata": {
    "execution": {
     "iopub.execute_input": "2024-08-06T23:28:01.067863Z",
     "iopub.status.busy": "2024-08-06T23:28:01.067341Z",
     "iopub.status.idle": "2024-08-06T23:28:01.335854Z",
     "shell.execute_reply": "2024-08-06T23:28:01.335193Z"
    },
    "papermill": {
     "duration": 0.28125,
     "end_time": "2024-08-06T23:28:01.337044",
     "exception": false,
     "start_time": "2024-08-06T23:28:01.055794",
     "status": "completed"
    },
    "tags": []
   },
   "outputs": [
    {
     "data": {
      "text/html": [
       "<div>\n",
       "<style scoped>\n",
       "    .dataframe tbody tr th:only-of-type {\n",
       "        vertical-align: middle;\n",
       "    }\n",
       "\n",
       "    .dataframe tbody tr th {\n",
       "        vertical-align: top;\n",
       "    }\n",
       "\n",
       "    .dataframe thead th {\n",
       "        text-align: right;\n",
       "    }\n",
       "</style>\n",
       "<table border=\"1\" class=\"dataframe\">\n",
       "  <thead>\n",
       "    <tr style=\"text-align: right;\">\n",
       "      <th></th>\n",
       "      <th>gene_symbol</th>\n",
       "      <th>cnt</th>\n",
       "    </tr>\n",
       "  </thead>\n",
       "  <tbody>\n",
       "    <tr>\n",
       "      <th>1103</th>\n",
       "      <td>TCF7L2</td>\n",
       "      <td>362</td>\n",
       "    </tr>\n",
       "    <tr>\n",
       "      <th>38</th>\n",
       "      <td>AOC3</td>\n",
       "      <td>188</td>\n",
       "    </tr>\n",
       "    <tr>\n",
       "      <th>495</th>\n",
       "      <td>IL15</td>\n",
       "      <td>162</td>\n",
       "    </tr>\n",
       "    <tr>\n",
       "      <th>348</th>\n",
       "      <td>F11R</td>\n",
       "      <td>161</td>\n",
       "    </tr>\n",
       "    <tr>\n",
       "      <th>436</th>\n",
       "      <td>GSTK1</td>\n",
       "      <td>154</td>\n",
       "    </tr>\n",
       "    <tr>\n",
       "      <th>...</th>\n",
       "      <td>...</td>\n",
       "      <td>...</td>\n",
       "    </tr>\n",
       "    <tr>\n",
       "      <th>814</th>\n",
       "      <td>POLR2B</td>\n",
       "      <td>7</td>\n",
       "    </tr>\n",
       "    <tr>\n",
       "      <th>856</th>\n",
       "      <td>PSMA6</td>\n",
       "      <td>7</td>\n",
       "    </tr>\n",
       "    <tr>\n",
       "      <th>803</th>\n",
       "      <td>PLK1</td>\n",
       "      <td>6</td>\n",
       "    </tr>\n",
       "    <tr>\n",
       "      <th>914</th>\n",
       "      <td>RGPD5</td>\n",
       "      <td>4</td>\n",
       "    </tr>\n",
       "    <tr>\n",
       "      <th>266</th>\n",
       "      <td>DUX4</td>\n",
       "      <td>2</td>\n",
       "    </tr>\n",
       "  </tbody>\n",
       "</table>\n",
       "<p>1285 rows × 2 columns</p>\n",
       "</div>"
      ],
      "text/plain": [
       "     gene_symbol  cnt\n",
       "1103      TCF7L2  362\n",
       "38          AOC3  188\n",
       "495         IL15  162\n",
       "348         F11R  161\n",
       "436        GSTK1  154\n",
       "...          ...  ...\n",
       "814       POLR2B    7\n",
       "856        PSMA6    7\n",
       "803         PLK1    6\n",
       "914        RGPD5    4\n",
       "266         DUX4    2\n",
       "\n",
       "[1285 rows x 2 columns]"
      ]
     },
     "execution_count": 54,
     "metadata": {},
     "output_type": "execute_result"
    }
   ],
   "source": [
    "df_uns[(df_uns['phenotype']=='Yes')&(df_uns['SCN_class']=='Untreatedclus_DLD1')].groupby(\n",
    "    ['gene_symbol'])['DemuxAssignment_crispr'].count().reset_index(name='cnt').sort_values(by='cnt', ascending=False)"
   ]
  },
  {
   "cell_type": "code",
   "execution_count": 55,
   "id": "a365181e-bf76-4c91-9bc1-44fc8510f75e",
   "metadata": {
    "execution": {
     "iopub.execute_input": "2024-08-06T23:28:01.360512Z",
     "iopub.status.busy": "2024-08-06T23:28:01.359666Z",
     "iopub.status.idle": "2024-08-06T23:28:01.589288Z",
     "shell.execute_reply": "2024-08-06T23:28:01.587739Z"
    },
    "papermill": {
     "duration": 0.242581,
     "end_time": "2024-08-06T23:28:01.590889",
     "exception": false,
     "start_time": "2024-08-06T23:28:01.348308",
     "status": "completed"
    },
    "tags": []
   },
   "outputs": [
    {
     "data": {
      "text/html": [
       "<div>\n",
       "<style scoped>\n",
       "    .dataframe tbody tr th:only-of-type {\n",
       "        vertical-align: middle;\n",
       "    }\n",
       "\n",
       "    .dataframe tbody tr th {\n",
       "        vertical-align: top;\n",
       "    }\n",
       "\n",
       "    .dataframe thead th {\n",
       "        text-align: right;\n",
       "    }\n",
       "</style>\n",
       "<table border=\"1\" class=\"dataframe\">\n",
       "  <thead>\n",
       "    <tr style=\"text-align: right;\">\n",
       "      <th></th>\n",
       "      <th>gene_symbol</th>\n",
       "      <th>cnt</th>\n",
       "    </tr>\n",
       "  </thead>\n",
       "  <tbody>\n",
       "    <tr>\n",
       "      <th>1103</th>\n",
       "      <td>TCF7L2</td>\n",
       "      <td>484</td>\n",
       "    </tr>\n",
       "    <tr>\n",
       "      <th>38</th>\n",
       "      <td>AOC3</td>\n",
       "      <td>217</td>\n",
       "    </tr>\n",
       "    <tr>\n",
       "      <th>495</th>\n",
       "      <td>IL15</td>\n",
       "      <td>177</td>\n",
       "    </tr>\n",
       "    <tr>\n",
       "      <th>962</th>\n",
       "      <td>RUNX2</td>\n",
       "      <td>173</td>\n",
       "    </tr>\n",
       "    <tr>\n",
       "      <th>466</th>\n",
       "      <td>HP1BP3</td>\n",
       "      <td>172</td>\n",
       "    </tr>\n",
       "    <tr>\n",
       "      <th>436</th>\n",
       "      <td>GSTK1</td>\n",
       "      <td>172</td>\n",
       "    </tr>\n",
       "    <tr>\n",
       "      <th>439</th>\n",
       "      <td>GTF2H5</td>\n",
       "      <td>172</td>\n",
       "    </tr>\n",
       "    <tr>\n",
       "      <th>812</th>\n",
       "      <td>POLK</td>\n",
       "      <td>170</td>\n",
       "    </tr>\n",
       "    <tr>\n",
       "      <th>348</th>\n",
       "      <td>F11R</td>\n",
       "      <td>170</td>\n",
       "    </tr>\n",
       "    <tr>\n",
       "      <th>809</th>\n",
       "      <td>PNPO</td>\n",
       "      <td>168</td>\n",
       "    </tr>\n",
       "    <tr>\n",
       "      <th>591</th>\n",
       "      <td>MCMDC2</td>\n",
       "      <td>167</td>\n",
       "    </tr>\n",
       "    <tr>\n",
       "      <th>406</th>\n",
       "      <td>GIGYF2</td>\n",
       "      <td>167</td>\n",
       "    </tr>\n",
       "    <tr>\n",
       "      <th>1284</th>\n",
       "      <td>ZUP1</td>\n",
       "      <td>166</td>\n",
       "    </tr>\n",
       "    <tr>\n",
       "      <th>628</th>\n",
       "      <td>MOCOS</td>\n",
       "      <td>165</td>\n",
       "    </tr>\n",
       "    <tr>\n",
       "      <th>604</th>\n",
       "      <td>MEI1</td>\n",
       "      <td>164</td>\n",
       "    </tr>\n",
       "    <tr>\n",
       "      <th>619</th>\n",
       "      <td>MINAR2</td>\n",
       "      <td>164</td>\n",
       "    </tr>\n",
       "    <tr>\n",
       "      <th>1072</th>\n",
       "      <td>SUMO4</td>\n",
       "      <td>164</td>\n",
       "    </tr>\n",
       "    <tr>\n",
       "      <th>223</th>\n",
       "      <td>DAG1</td>\n",
       "      <td>163</td>\n",
       "    </tr>\n",
       "    <tr>\n",
       "      <th>33</th>\n",
       "      <td>ANKRD22</td>\n",
       "      <td>162</td>\n",
       "    </tr>\n",
       "    <tr>\n",
       "      <th>274</th>\n",
       "      <td>EFL1</td>\n",
       "      <td>162</td>\n",
       "    </tr>\n",
       "    <tr>\n",
       "      <th>333</th>\n",
       "      <td>EPB41L5</td>\n",
       "      <td>162</td>\n",
       "    </tr>\n",
       "    <tr>\n",
       "      <th>1058</th>\n",
       "      <td>SPTB</td>\n",
       "      <td>162</td>\n",
       "    </tr>\n",
       "    <tr>\n",
       "      <th>736</th>\n",
       "      <td>OR4M2</td>\n",
       "      <td>161</td>\n",
       "    </tr>\n",
       "    <tr>\n",
       "      <th>259</th>\n",
       "      <td>DOHH</td>\n",
       "      <td>161</td>\n",
       "    </tr>\n",
       "    <tr>\n",
       "      <th>290</th>\n",
       "      <td>ELF2</td>\n",
       "      <td>161</td>\n",
       "    </tr>\n",
       "    <tr>\n",
       "      <th>779</th>\n",
       "      <td>PDILT</td>\n",
       "      <td>161</td>\n",
       "    </tr>\n",
       "    <tr>\n",
       "      <th>22</th>\n",
       "      <td>ALB</td>\n",
       "      <td>161</td>\n",
       "    </tr>\n",
       "    <tr>\n",
       "      <th>7</th>\n",
       "      <td>ACCS</td>\n",
       "      <td>161</td>\n",
       "    </tr>\n",
       "    <tr>\n",
       "      <th>615</th>\n",
       "      <td>MFSD6L</td>\n",
       "      <td>160</td>\n",
       "    </tr>\n",
       "    <tr>\n",
       "      <th>804</th>\n",
       "      <td>PLPP3</td>\n",
       "      <td>160</td>\n",
       "    </tr>\n",
       "  </tbody>\n",
       "</table>\n",
       "</div>"
      ],
      "text/plain": [
       "     gene_symbol  cnt\n",
       "1103      TCF7L2  484\n",
       "38          AOC3  217\n",
       "495         IL15  177\n",
       "962        RUNX2  173\n",
       "466       HP1BP3  172\n",
       "436        GSTK1  172\n",
       "439       GTF2H5  172\n",
       "812         POLK  170\n",
       "348         F11R  170\n",
       "809         PNPO  168\n",
       "591       MCMDC2  167\n",
       "406       GIGYF2  167\n",
       "1284        ZUP1  166\n",
       "628        MOCOS  165\n",
       "604         MEI1  164\n",
       "619       MINAR2  164\n",
       "1072       SUMO4  164\n",
       "223         DAG1  163\n",
       "33       ANKRD22  162\n",
       "274         EFL1  162\n",
       "333      EPB41L5  162\n",
       "1058        SPTB  162\n",
       "736        OR4M2  161\n",
       "259         DOHH  161\n",
       "290         ELF2  161\n",
       "779        PDILT  161\n",
       "22           ALB  161\n",
       "7           ACCS  161\n",
       "615       MFSD6L  160\n",
       "804        PLPP3  160"
      ]
     },
     "execution_count": 55,
     "metadata": {},
     "output_type": "execute_result"
    }
   ],
   "source": [
    "df_uns[(df_uns['phenotype']=='Yes')].groupby(\n",
    "    ['gene_symbol'])['DemuxAssignment_crispr'].count().reset_index(name='cnt').sort_values(by='cnt', ascending=False)[:30]"
   ]
  },
  {
   "cell_type": "markdown",
   "id": "a2cd6558-ef8d-4396-ad9d-847834d10d6b",
   "metadata": {
    "papermill": {
     "duration": 0.010819,
     "end_time": "2024-08-06T23:28:01.613392",
     "exception": false,
     "start_time": "2024-08-06T23:28:01.602573",
     "status": "completed"
    },
    "tags": []
   },
   "source": [
    "## Data Visulaization"
   ]
  },
  {
   "cell_type": "code",
   "execution_count": 56,
   "id": "8b14c8f2-f789-474b-b7d1-d152098846ab",
   "metadata": {
    "execution": {
     "iopub.execute_input": "2024-08-06T23:28:01.635388Z",
     "iopub.status.busy": "2024-08-06T23:28:01.635141Z",
     "iopub.status.idle": "2024-08-06T23:28:02.755308Z",
     "shell.execute_reply": "2024-08-06T23:28:02.754157Z"
    },
    "papermill": {
     "duration": 1.132757,
     "end_time": "2024-08-06T23:28:02.756544",
     "exception": false,
     "start_time": "2024-08-06T23:28:01.623787",
     "status": "completed"
    },
    "tags": []
   },
   "outputs": [
    {
     "data": {
      "text/plain": [
       "<AxesSubplot: xlabel='energy_distance_pvalue', ylabel='Count'>"
      ]
     },
     "execution_count": 56,
     "metadata": {},
     "output_type": "execute_result"
    },
    {
     "data": {
      "image/png": "[encoded data removed]",
      "text/plain": [
       "<Figure size 640x480 with 1 Axes>"
      ]
     },
     "metadata": {},
     "output_type": "display_data"
    }
   ],
   "source": [
    "sns.histplot(-np.log10(df_uns['energy_distance_pvalue']))"
   ]
  }
 ],
 "metadata": {
  "kernelspec": {
   "display_name": "gpuy310",
   "language": "python",
   "name": "gpuy310"
  },
  "language_info": {
   "codemirror_mode": {
    "name": "ipython",
    "version": 3
   },
   "file_extension": ".py",
   "mimetype": "text/x-python",
   "name": "python",
   "nbconvert_exporter": "python",
   "pygments_lexer": "ipython3",
   "version": "3.10.8"
  },
  "papermill": {
   "default_parameters": {},
   "duration": 2073.575598,
   "end_time": "2024-08-06T23:28:13.143951",
   "environment_variables": {},
   "exception": null,
   "input_path": "./Templates/EnergyDistance.ipynb",
   "output_path": "/gstore/home/ghaffars/Cumulus/crc_dld1_sublib1_bdev/crop-seq-pipeline/Reports/DS000017114_EnergyDistance_500NTCs_pca.ipynb",
   "parameters": {
    "DEV": false,
    "DS_test": false,
    "DatasetID": "DS000017114",
    "ED_file": "/gstore/project/crc_recursion_gw/DLD1_Sublib1_bdev//DS000017114/Energy_Distance/e_dist_all.h5ad",
    "author": "SG",
    "description": "Production scale screen in DLD-1 cells with 1/4 of the genome-wide CRISPR library (sub-lib-1, ~22K guides). 1 time point: Day-5. We performed 24 rxns of 10x 3' HT kit with an estimated loading of 52K cells. We performed a pilot study to test the library quality before the production-level sequencing. We will submit 72 libraries (24 GEX, 24 HTO and 24 sgRNA) We estimate need 600M for GEX, 30M for HTO and 50M for sgRNA. This is a repeat run to correct chip loading.",
    "embeddings_key": "X_pca",
    "i": 10,
    "key_uns": "perGene_pca_10",
    "n": 500,
    "name_space": [
     {
      "id": "GRCh38",
      "type": "genome"
     }
    ],
    "organism": "human",
    "out_csv": "/gstore/project/crc_recursion_gw/DLD1_Sublib1_bdev//DS000017114/Energy_Distance/e_dist_500NTCs_pca_10.csv",
    "pVAL": 0.05,
    "sources": [
     {
      "id": "Siavash-1234",
      "name": "Geo-ID"
     }
    ],
    "tech_name": "scRNA-seq",
    "test_DatasetID": "",
    "title": "Recursion DLD1 Library1 Screen Day 5- combination of NGS 5774 and NGS 5702"
   },
   "start_time": "2024-08-06T22:53:39.568353",
   "version": "2.6.0"
  },
  "widgets": {
   "application/vnd.jupyter.widget-state+json": {
    "state": {},
    "version_major": 2,
    "version_minor": 0
   }
  }
 },
 "nbformat": 4,
 "nbformat_minor": 5
}