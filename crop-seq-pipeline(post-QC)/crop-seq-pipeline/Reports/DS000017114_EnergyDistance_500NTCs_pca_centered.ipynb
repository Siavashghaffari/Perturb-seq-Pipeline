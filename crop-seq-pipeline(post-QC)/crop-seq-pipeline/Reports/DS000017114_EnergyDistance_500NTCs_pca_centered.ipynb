{
 "cells": [
  {
   "cell_type": "code",
   "execution_count": 1,
   "id": "879eee0b",
   "metadata": {
    "execution": {
     "iopub.execute_input": "2024-08-07T04:41:09.616287Z",
     "iopub.status.busy": "2024-08-07T04:41:09.615975Z",
     "iopub.status.idle": "2024-08-07T04:41:09.622171Z",
     "shell.execute_reply": "2024-08-07T04:41:09.621753Z"
    },
    "papermill": {
     "duration": 0.015658,
     "end_time": "2024-08-07T04:41:09.623405",
     "exception": false,
     "start_time": "2024-08-07T04:41:09.607747",
     "status": "completed"
    },
    "tags": [
     "injected-parameters"
    ]
   },
   "outputs": [],
   "source": [
    "# Parameters\n",
    "DatasetID = \"DS000017114\"\n",
    "DEV = False\n",
    "test_DatasetID = \"\"\n",
    "DS_test = False\n",
    "title = \"Recursion DLD1 Library1 Screen Day 5- combination of NGS 5774 and NGS 5702\"\n",
    "description = \"Production scale screen in DLD-1 cells with 1/4 of the genome-wide CRISPR library (sub-lib-1, ~22K guides). 1 time point: Day-5. We performed 24 rxns of 10x 3' HT kit with an estimated loading of 52K cells. We performed a pilot study to test the library quality before the production-level sequencing. We will submit 72 libraries (24 GEX, 24 HTO and 24 sgRNA) We estimate need 600M for GEX, 30M for HTO and 50M for sgRNA. This is a repeat run to correct chip loading.\"\n",
    "name_space = [{\"id\": \"GRCh38\", \"type\": \"genome\"}]\n",
    "sources = [{\"id\": \"Siavash-1234\", \"name\": \"Geo-ID\"}]\n",
    "tech_name = \"scRNA-seq\"\n",
    "author = \"SG\"\n",
    "organism = \"human\"\n",
    "pVAL = 0.05\n",
    "n = 500\n",
    "embeddings_key = \"X_pca_centered\"\n",
    "i = 10\n",
    "ED_file = \"/gstore/project/crc_recursion_gw/DLD1_Sublib1_bdev//DS000017114/Energy_Distance/e_dist_all.h5ad\"\n",
    "key_uns = \"perGene_pca_centered_10\"\n",
    "out_csv = \"/gstore/project/crc_recursion_gw/DLD1_Sublib1_bdev//DS000017114/Energy_Distance/e_dist_500NTCs_pca_centered_10.csv\"\n"
   ]
  },
  {
   "cell_type": "markdown",
   "id": "bb530fe7-c5ba-4ec4-b436-7f717b909ce0",
   "metadata": {
    "papermill": {
     "duration": 0.006682,
     "end_time": "2024-08-07T04:41:09.637455",
     "exception": false,
     "start_time": "2024-08-07T04:41:09.630773",
     "status": "completed"
    },
    "tags": []
   },
   "source": [
    "# EnergyDistance: "
   ]
  },
  {
   "cell_type": "code",
   "execution_count": 2,
   "id": "cdd59412-0a04-4bea-8c11-fd04e79b2a25",
   "metadata": {
    "execution": {
     "iopub.execute_input": "2024-08-07T04:41:09.653652Z",
     "iopub.status.busy": "2024-08-07T04:41:09.653292Z",
     "iopub.status.idle": "2024-08-07T04:41:16.733102Z",
     "shell.execute_reply": "2024-08-07T04:41:16.732211Z"
    },
    "papermill": {
     "duration": 7.08884,
     "end_time": "2024-08-07T04:41:16.734707",
     "exception": false,
     "start_time": "2024-08-07T04:41:09.645867",
     "status": "completed"
    },
    "tags": []
   },
   "outputs": [],
   "source": [
    "import scanpy as sc\n",
    "import numpy as np\n",
    "import pandas as pd\n",
    "from tqdm import tqdm\n",
    "import os\n",
    "#plotting\n",
    "import matplotlib\n",
    "from matplotlib import pyplot as plt\n",
    "import seaborn as sns\n",
    "from dask.distributed import Client\n",
    "import sklearn"
   ]
  },
  {
   "cell_type": "code",
   "execution_count": 3,
   "id": "73f8c9aa-f309-468a-ae92-379a64133079",
   "metadata": {
    "execution": {
     "iopub.execute_input": "2024-08-07T04:41:16.751514Z",
     "iopub.status.busy": "2024-08-07T04:41:16.751069Z",
     "iopub.status.idle": "2024-08-07T04:41:16.819272Z",
     "shell.execute_reply": "2024-08-07T04:41:16.818633Z"
    },
    "papermill": {
     "duration": 0.077409,
     "end_time": "2024-08-07T04:41:16.820572",
     "exception": false,
     "start_time": "2024-08-07T04:41:16.743163",
     "status": "completed"
    },
    "tags": []
   },
   "outputs": [],
   "source": [
    "# Please note that if we import the whole folder using __init__.py we would be running into ba Dask CanceledError due to different \n",
    "# imported Dask conflict, so we have to import only scEnergy script\n",
    "import sys\n",
    "sys.path.append(\"..\")\n",
    "import Templates.tools.scEnergy as eng "
   ]
  },
  {
   "cell_type": "code",
   "execution_count": 4,
   "id": "98e328a0-104a-414c-8c17-dbcf574bb808",
   "metadata": {
    "execution": {
     "iopub.execute_input": "2024-08-07T04:41:16.835329Z",
     "iopub.status.busy": "2024-08-07T04:41:16.835048Z",
     "iopub.status.idle": "2024-08-07T04:41:16.924724Z",
     "shell.execute_reply": "2024-08-07T04:41:16.924187Z"
    },
    "papermill": {
     "duration": 0.098495,
     "end_time": "2024-08-07T04:41:16.926064",
     "exception": false,
     "start_time": "2024-08-07T04:41:16.827569",
     "status": "completed"
    },
    "tags": []
   },
   "outputs": [],
   "source": [
    "%load_ext autoreload\n",
    "%autoreload 2"
   ]
  },
  {
   "cell_type": "code",
   "execution_count": 5,
   "id": "f83219c0-b2aa-462b-90f0-6127a96c6446",
   "metadata": {
    "execution": {
     "iopub.execute_input": "2024-08-07T04:41:16.941208Z",
     "iopub.status.busy": "2024-08-07T04:41:16.940905Z",
     "iopub.status.idle": "2024-08-07T04:42:06.146315Z",
     "shell.execute_reply": "2024-08-07T04:42:06.145169Z"
    },
    "papermill": {
     "duration": 49.214921,
     "end_time": "2024-08-07T04:42:06.148168",
     "exception": false,
     "start_time": "2024-08-07T04:41:16.933247",
     "status": "completed"
    },
    "tags": []
   },
   "outputs": [],
   "source": [
    "adata = sc.read_h5ad(ED_file)"
   ]
  },
  {
   "cell_type": "code",
   "execution_count": 6,
   "id": "87a513ff-f091-4057-8356-3cbbe0180222",
   "metadata": {
    "execution": {
     "iopub.execute_input": "2024-08-07T04:42:06.165513Z",
     "iopub.status.busy": "2024-08-07T04:42:06.165237Z",
     "iopub.status.idle": "2024-08-07T04:42:06.260817Z",
     "shell.execute_reply": "2024-08-07T04:42:06.260327Z"
    },
    "papermill": {
     "duration": 0.104448,
     "end_time": "2024-08-07T04:42:06.261927",
     "exception": false,
     "start_time": "2024-08-07T04:42:06.157479",
     "status": "completed"
    },
    "tags": []
   },
   "outputs": [
    {
     "data": {
      "text/plain": [
       "AnnData object with n_obs × n_vars = 595603 × 36603\n",
       "    obs: 'Sample', 'Barcode', 'DemuxType_crispr', 'DemuxAssignment_crispr', 'DemuxType_hashing', 'DemuxAssignment_hashing', 'cellline', 'timepoint', 'HTO', 'NGS_ID', 'Biological_replicate', '10Xrun', 'sublibrary', 'gRNA_library_MOI', 'gene_symbol', 'class', 'n_genes_by_counts', 'total_counts', 'total_counts_mt', 'pct_counts_mt', 'total_counts_ribo', 'pct_counts_ribo', 'qc_pass', 'S_score', 'G2M_score', 'phase', 'SCN_class', 'gem'\n",
       "    var: 'Symbol'\n",
       "    uns: 'DemuxAssignment_hashing_colors', 'Sample_colors', '_scvi_manager_uuid', '_scvi_uuid', 'energy_distance', 'leiden_colors', 'neighbors', 'umap'\n",
       "    obsm: 'X_pca', 'X_pca_centered', 'X_pca_sphered', 'X_pca_sphered_Norm', 'X_scVI', 'X_scVI_centered', 'X_umap'\n",
       "    layers: 'counts'\n",
       "    obsp: 'connectivities', 'distances'"
      ]
     },
     "execution_count": 6,
     "metadata": {},
     "output_type": "execute_result"
    }
   ],
   "source": [
    "adata"
   ]
  },
  {
   "cell_type": "code",
   "execution_count": 7,
   "id": "c67bb790-7856-4a60-8b97-6ea3d32bb43a",
   "metadata": {
    "execution": {
     "iopub.execute_input": "2024-08-07T04:42:06.277562Z",
     "iopub.status.busy": "2024-08-07T04:42:06.277306Z",
     "iopub.status.idle": "2024-08-07T04:42:06.361936Z",
     "shell.execute_reply": "2024-08-07T04:42:06.361487Z"
    },
    "papermill": {
     "duration": 0.093727,
     "end_time": "2024-08-07T04:42:06.363116",
     "exception": false,
     "start_time": "2024-08-07T04:42:06.269389",
     "status": "completed"
    },
    "tags": []
   },
   "outputs": [],
   "source": [
    "#adata.obs_names_make_unique()"
   ]
  },
  {
   "cell_type": "markdown",
   "id": "4427038c-fecc-4ab5-a09f-4a61f659721a",
   "metadata": {
    "papermill": {
     "duration": 0.006871,
     "end_time": "2024-08-07T04:42:06.377145",
     "exception": false,
     "start_time": "2024-08-07T04:42:06.370274",
     "status": "completed"
    },
    "tags": []
   },
   "source": [
    "## Filter adata"
   ]
  },
  {
   "cell_type": "code",
   "execution_count": 8,
   "id": "e14087aa-e751-4823-a0f6-e799da210f1b",
   "metadata": {
    "execution": {
     "iopub.execute_input": "2024-08-07T04:42:06.392367Z",
     "iopub.status.busy": "2024-08-07T04:42:06.391916Z",
     "iopub.status.idle": "2024-08-07T04:42:06.470710Z",
     "shell.execute_reply": "2024-08-07T04:42:06.470292Z"
    },
    "papermill": {
     "duration": 0.087919,
     "end_time": "2024-08-07T04:42:06.472141",
     "exception": false,
     "start_time": "2024-08-07T04:42:06.384222",
     "status": "completed"
    },
    "tags": []
   },
   "outputs": [],
   "source": [
    "#adata = adata[adata.obs[\"DemuxAssignment_hashing\"]!=\"POSITIVE_CONTROL\"].copy()"
   ]
  },
  {
   "cell_type": "code",
   "execution_count": 9,
   "id": "6ecaf0d6-5860-40a6-a1c7-b795c3d9c18f",
   "metadata": {
    "execution": {
     "iopub.execute_input": "2024-08-07T04:42:06.488448Z",
     "iopub.status.busy": "2024-08-07T04:42:06.488086Z",
     "iopub.status.idle": "2024-08-07T04:42:06.562195Z",
     "shell.execute_reply": "2024-08-07T04:42:06.561724Z"
    },
    "papermill": {
     "duration": 0.083347,
     "end_time": "2024-08-07T04:42:06.563454",
     "exception": false,
     "start_time": "2024-08-07T04:42:06.480107",
     "status": "completed"
    },
    "tags": []
   },
   "outputs": [],
   "source": [
    "#adata= adata[~adata.obs.index.duplicated(keep='first')].copy()"
   ]
  },
  {
   "cell_type": "markdown",
   "id": "344df700-9fe1-4f58-ad3c-76836012def9",
   "metadata": {
    "papermill": {
     "duration": 0.007613,
     "end_time": "2024-08-07T04:42:06.578524",
     "exception": false,
     "start_time": "2024-08-07T04:42:06.570911",
     "status": "completed"
    },
    "tags": []
   },
   "source": [
    "## correct gene_symbol for ENSGIDs"
   ]
  },
  {
   "cell_type": "code",
   "execution_count": 10,
   "id": "a21588c8-85d8-4f30-a214-c3537bdf6558",
   "metadata": {
    "execution": {
     "iopub.execute_input": "2024-08-07T04:42:06.594370Z",
     "iopub.status.busy": "2024-08-07T04:42:06.593950Z",
     "iopub.status.idle": "2024-08-07T04:42:06.671850Z",
     "shell.execute_reply": "2024-08-07T04:42:06.671357Z"
    },
    "papermill": {
     "duration": 0.087324,
     "end_time": "2024-08-07T04:42:06.673363",
     "exception": false,
     "start_time": "2024-08-07T04:42:06.586039",
     "status": "completed"
    },
    "tags": []
   },
   "outputs": [],
   "source": [
    "adata.obs['gene_symbol'] = adata.obs['gene_symbol'].apply(lambda x:x.split('_')[0])"
   ]
  },
  {
   "cell_type": "markdown",
   "id": "823dd9da-f1fb-4794-80fd-007220b51666",
   "metadata": {
    "papermill": {
     "duration": 0.007387,
     "end_time": "2024-08-07T04:42:06.688439",
     "exception": false,
     "start_time": "2024-08-07T04:42:06.681052",
     "status": "completed"
    },
    "tags": []
   },
   "source": [
    "## Subsampling NTCs"
   ]
  },
  {
   "cell_type": "code",
   "execution_count": 11,
   "id": "d5b3bbf6-912f-404d-8e7b-7f72fac2743d",
   "metadata": {
    "execution": {
     "iopub.execute_input": "2024-08-07T04:42:06.704195Z",
     "iopub.status.busy": "2024-08-07T04:42:06.703837Z",
     "iopub.status.idle": "2024-08-07T04:42:09.061470Z",
     "shell.execute_reply": "2024-08-07T04:42:09.060744Z"
    },
    "papermill": {
     "duration": 2.367514,
     "end_time": "2024-08-07T04:42:09.063444",
     "exception": false,
     "start_time": "2024-08-07T04:42:06.695930",
     "status": "completed"
    },
    "tags": []
   },
   "outputs": [],
   "source": [
    "NTC = adata[adata.obs[\"gene_symbol\"]==\"NTC\"].copy()"
   ]
  },
  {
   "cell_type": "code",
   "execution_count": 12,
   "id": "ef732a35-c6b1-40d4-a481-957f13c0df20",
   "metadata": {
    "execution": {
     "iopub.execute_input": "2024-08-07T04:42:09.080465Z",
     "iopub.status.busy": "2024-08-07T04:42:09.080207Z",
     "iopub.status.idle": "2024-08-07T04:42:09.698775Z",
     "shell.execute_reply": "2024-08-07T04:42:09.698214Z"
    },
    "papermill": {
     "duration": 0.628998,
     "end_time": "2024-08-07T04:42:09.700786",
     "exception": false,
     "start_time": "2024-08-07T04:42:09.071788",
     "status": "completed"
    },
    "tags": []
   },
   "outputs": [],
   "source": [
    "if n is not None:\n",
    "    NTC = NTC[NTC.obs.sample(n = n).index.copy()].copy()"
   ]
  },
  {
   "cell_type": "code",
   "execution_count": 13,
   "id": "ddfbd238-d92c-4dd3-a784-75a47ddb0b39",
   "metadata": {
    "execution": {
     "iopub.execute_input": "2024-08-07T04:42:09.718164Z",
     "iopub.status.busy": "2024-08-07T04:42:09.717895Z",
     "iopub.status.idle": "2024-08-07T04:42:09.806219Z",
     "shell.execute_reply": "2024-08-07T04:42:09.805771Z"
    },
    "papermill": {
     "duration": 0.097944,
     "end_time": "2024-08-07T04:42:09.807389",
     "exception": false,
     "start_time": "2024-08-07T04:42:09.709445",
     "status": "completed"
    },
    "tags": []
   },
   "outputs": [
    {
     "data": {
      "text/plain": [
       "AnnData object with n_obs × n_vars = 500 × 36603\n",
       "    obs: 'Sample', 'Barcode', 'DemuxType_crispr', 'DemuxAssignment_crispr', 'DemuxType_hashing', 'DemuxAssignment_hashing', 'cellline', 'timepoint', 'HTO', 'NGS_ID', 'Biological_replicate', '10Xrun', 'sublibrary', 'gRNA_library_MOI', 'gene_symbol', 'class', 'n_genes_by_counts', 'total_counts', 'total_counts_mt', 'pct_counts_mt', 'total_counts_ribo', 'pct_counts_ribo', 'qc_pass', 'S_score', 'G2M_score', 'phase', 'SCN_class', 'gem'\n",
       "    var: 'Symbol'\n",
       "    uns: 'DemuxAssignment_hashing_colors', 'Sample_colors', '_scvi_manager_uuid', '_scvi_uuid', 'energy_distance', 'leiden_colors', 'neighbors', 'umap'\n",
       "    obsm: 'X_pca', 'X_pca_centered', 'X_pca_sphered', 'X_pca_sphered_Norm', 'X_scVI', 'X_scVI_centered', 'X_umap'\n",
       "    layers: 'counts'\n",
       "    obsp: 'connectivities', 'distances'"
      ]
     },
     "execution_count": 13,
     "metadata": {},
     "output_type": "execute_result"
    }
   ],
   "source": [
    "NTC"
   ]
  },
  {
   "cell_type": "markdown",
   "id": "e852bb55-4b55-4a7f-9606-dca138c9eacd",
   "metadata": {
    "papermill": {
     "duration": 0.007609,
     "end_time": "2024-08-07T04:42:09.822877",
     "exception": false,
     "start_time": "2024-08-07T04:42:09.815268",
     "status": "completed"
    },
    "tags": []
   },
   "source": [
    "## Create only genes dataframe"
   ]
  },
  {
   "cell_type": "code",
   "execution_count": 14,
   "id": "e4e81638-99fe-42ff-b3fc-e3ffaced7a8d",
   "metadata": {
    "execution": {
     "iopub.execute_input": "2024-08-07T04:42:09.838885Z",
     "iopub.status.busy": "2024-08-07T04:42:09.838529Z",
     "iopub.status.idle": "2024-08-07T04:42:09.930027Z",
     "shell.execute_reply": "2024-08-07T04:42:09.929590Z"
    },
    "papermill": {
     "duration": 0.101036,
     "end_time": "2024-08-07T04:42:09.931555",
     "exception": false,
     "start_time": "2024-08-07T04:42:09.830519",
     "status": "completed"
    },
    "tags": []
   },
   "outputs": [],
   "source": [
    "genes = [el for el in adata.obs['gene_symbol'].unique()]"
   ]
  },
  {
   "cell_type": "code",
   "execution_count": 15,
   "id": "9ea9319e-fa7e-4127-b095-6a687b35a6fd",
   "metadata": {
    "execution": {
     "iopub.execute_input": "2024-08-07T04:42:09.947379Z",
     "iopub.status.busy": "2024-08-07T04:42:09.947039Z",
     "iopub.status.idle": "2024-08-07T04:42:10.036267Z",
     "shell.execute_reply": "2024-08-07T04:42:10.035820Z"
    },
    "papermill": {
     "duration": 0.09855,
     "end_time": "2024-08-07T04:42:10.037652",
     "exception": false,
     "start_time": "2024-08-07T04:42:09.939102",
     "status": "completed"
    },
    "tags": []
   },
   "outputs": [],
   "source": [
    "genes.remove(\"NTC\")"
   ]
  },
  {
   "cell_type": "code",
   "execution_count": 16,
   "id": "f66f0905-2d92-42b8-9cea-8f4098b74630",
   "metadata": {
    "execution": {
     "iopub.execute_input": "2024-08-07T04:42:10.053922Z",
     "iopub.status.busy": "2024-08-07T04:42:10.053588Z",
     "iopub.status.idle": "2024-08-07T04:43:55.191839Z",
     "shell.execute_reply": "2024-08-07T04:43:55.191279Z"
    },
    "papermill": {
     "duration": 105.148311,
     "end_time": "2024-08-07T04:43:55.193811",
     "exception": false,
     "start_time": "2024-08-07T04:42:10.045500",
     "status": "completed"
    },
    "tags": []
   },
   "outputs": [],
   "source": [
    "GENE = adata[adata.obs[\"gene_symbol\"].isin(genes)].copy()"
   ]
  },
  {
   "cell_type": "code",
   "execution_count": 17,
   "id": "14f660d5-34d2-42ff-92b8-fb62a38f4f52",
   "metadata": {
    "execution": {
     "iopub.execute_input": "2024-08-07T04:43:55.213091Z",
     "iopub.status.busy": "2024-08-07T04:43:55.212835Z",
     "iopub.status.idle": "2024-08-07T04:43:55.941054Z",
     "shell.execute_reply": "2024-08-07T04:43:55.940579Z"
    },
    "papermill": {
     "duration": 0.738031,
     "end_time": "2024-08-07T04:43:55.942268",
     "exception": false,
     "start_time": "2024-08-07T04:43:55.204237",
     "status": "completed"
    },
    "tags": []
   },
   "outputs": [
    {
     "data": {
      "text/plain": [
       "AnnData object with n_obs × n_vars = 580627 × 36603\n",
       "    obs: 'Sample', 'Barcode', 'DemuxType_crispr', 'DemuxAssignment_crispr', 'DemuxType_hashing', 'DemuxAssignment_hashing', 'cellline', 'timepoint', 'HTO', 'NGS_ID', 'Biological_replicate', '10Xrun', 'sublibrary', 'gRNA_library_MOI', 'gene_symbol', 'class', 'n_genes_by_counts', 'total_counts', 'total_counts_mt', 'pct_counts_mt', 'total_counts_ribo', 'pct_counts_ribo', 'qc_pass', 'S_score', 'G2M_score', 'phase', 'SCN_class', 'gem'\n",
       "    var: 'Symbol'\n",
       "    uns: 'DemuxAssignment_hashing_colors', 'Sample_colors', '_scvi_manager_uuid', '_scvi_uuid', 'energy_distance', 'leiden_colors', 'neighbors', 'umap'\n",
       "    obsm: 'X_pca', 'X_pca_centered', 'X_pca_sphered', 'X_pca_sphered_Norm', 'X_scVI', 'X_scVI_centered', 'X_umap'\n",
       "    layers: 'counts'\n",
       "    obsp: 'connectivities', 'distances'"
      ]
     },
     "execution_count": 17,
     "metadata": {},
     "output_type": "execute_result"
    }
   ],
   "source": [
    "GENE"
   ]
  },
  {
   "cell_type": "markdown",
   "id": "1620e1f8-a3cb-405d-bffa-a0393fce64d0",
   "metadata": {
    "papermill": {
     "duration": 0.008042,
     "end_time": "2024-08-07T04:43:55.959142",
     "exception": false,
     "start_time": "2024-08-07T04:43:55.951100",
     "status": "completed"
    },
    "tags": []
   },
   "source": [
    "## Concatenate dataframes"
   ]
  },
  {
   "cell_type": "code",
   "execution_count": 18,
   "id": "8c9f52b8-f524-4795-b8c7-0d642608d0b3",
   "metadata": {
    "execution": {
     "iopub.execute_input": "2024-08-07T04:43:55.975511Z",
     "iopub.status.busy": "2024-08-07T04:43:55.975267Z",
     "iopub.status.idle": "2024-08-07T04:45:03.464111Z",
     "shell.execute_reply": "2024-08-07T04:45:03.463578Z"
    },
    "papermill": {
     "duration": 67.49911,
     "end_time": "2024-08-07T04:45:03.465965",
     "exception": false,
     "start_time": "2024-08-07T04:43:55.966855",
     "status": "completed"
    },
    "tags": []
   },
   "outputs": [
    {
     "name": "stderr",
     "output_type": "stream",
     "text": [
      "/apps/user/gpy/envs/dev/GPUy310pascal/lib/python3.10/site-packages/anndata/_core/anndata.py:1805: FutureWarning: The AnnData.concatenate method is deprecated in favour of the anndata.concat function. Please use anndata.concat instead.\n",
      "\n",
      "See the tutorial for concat at: https://anndata.readthedocs.io/en/latest/concatenation.html\n",
      "  warnings.warn(\n"
     ]
    }
   ],
   "source": [
    "c = NTC.concatenate(GENE)"
   ]
  },
  {
   "cell_type": "code",
   "execution_count": 19,
   "id": "8cdbf30e-97ad-459d-99b6-14863644eaaf",
   "metadata": {
    "execution": {
     "iopub.execute_input": "2024-08-07T04:45:03.484510Z",
     "iopub.status.busy": "2024-08-07T04:45:03.484251Z",
     "iopub.status.idle": "2024-08-07T04:45:04.200875Z",
     "shell.execute_reply": "2024-08-07T04:45:04.200448Z"
    },
    "papermill": {
     "duration": 0.726697,
     "end_time": "2024-08-07T04:45:04.202169",
     "exception": false,
     "start_time": "2024-08-07T04:45:03.475472",
     "status": "completed"
    },
    "tags": []
   },
   "outputs": [
    {
     "data": {
      "text/plain": [
       "AnnData object with n_obs × n_vars = 581127 × 36603\n",
       "    obs: 'Sample', 'Barcode', 'DemuxType_crispr', 'DemuxAssignment_crispr', 'DemuxType_hashing', 'DemuxAssignment_hashing', 'cellline', 'timepoint', 'HTO', 'NGS_ID', 'Biological_replicate', '10Xrun', 'sublibrary', 'gRNA_library_MOI', 'gene_symbol', 'class', 'n_genes_by_counts', 'total_counts', 'total_counts_mt', 'pct_counts_mt', 'total_counts_ribo', 'pct_counts_ribo', 'qc_pass', 'S_score', 'G2M_score', 'phase', 'SCN_class', 'gem', 'batch'\n",
       "    var: 'Symbol'\n",
       "    obsm: 'X_pca', 'X_pca_centered', 'X_pca_sphered', 'X_pca_sphered_Norm', 'X_scVI', 'X_scVI_centered', 'X_umap'\n",
       "    layers: 'counts'"
      ]
     },
     "execution_count": 19,
     "metadata": {},
     "output_type": "execute_result"
    }
   ],
   "source": [
    "c"
   ]
  },
  {
   "cell_type": "markdown",
   "id": "3db08d9b-28f8-430a-ad74-56547d569cc6",
   "metadata": {
    "papermill": {
     "duration": 0.008148,
     "end_time": "2024-08-07T04:45:04.219444",
     "exception": false,
     "start_time": "2024-08-07T04:45:04.211296",
     "status": "completed"
    },
    "tags": []
   },
   "source": [
    "## Create dictionary with NTCs. Pool them first"
   ]
  },
  {
   "cell_type": "markdown",
   "id": "3d007d11-9219-4c2b-8e0e-2ba51654666c",
   "metadata": {
    "papermill": {
     "duration": 0.007739,
     "end_time": "2024-08-07T04:45:04.235059",
     "exception": false,
     "start_time": "2024-08-07T04:45:04.227320",
     "status": "completed"
    },
    "tags": []
   },
   "source": [
    "### This is to calculate consistency among NTCs"
   ]
  },
  {
   "cell_type": "code",
   "execution_count": 20,
   "id": "759879c3-9623-418f-a374-184854b075f7",
   "metadata": {
    "execution": {
     "iopub.execute_input": "2024-08-07T04:45:04.251530Z",
     "iopub.status.busy": "2024-08-07T04:45:04.251313Z",
     "iopub.status.idle": "2024-08-07T04:45:04.330250Z",
     "shell.execute_reply": "2024-08-07T04:45:04.329829Z"
    },
    "papermill": {
     "duration": 0.088788,
     "end_time": "2024-08-07T04:45:04.331551",
     "exception": false,
     "start_time": "2024-08-07T04:45:04.242763",
     "status": "completed"
    },
    "tags": []
   },
   "outputs": [],
   "source": [
    "ntcs_perturbations = [el for el in NTC.obs['DemuxAssignment_crispr'].unique()]"
   ]
  },
  {
   "cell_type": "markdown",
   "id": "4f2fe9be-a67e-4bd0-8833-013a6ae94b65",
   "metadata": {
    "papermill": {
     "duration": 0.007783,
     "end_time": "2024-08-07T04:45:04.347369",
     "exception": false,
     "start_time": "2024-08-07T04:45:04.339586",
     "status": "completed"
    },
    "tags": []
   },
   "source": [
    "### Separate NTCs"
   ]
  },
  {
   "cell_type": "code",
   "execution_count": 21,
   "id": "1b9d701c-728b-4049-bbdf-67e86c9ce513",
   "metadata": {
    "execution": {
     "iopub.execute_input": "2024-08-07T04:45:04.367943Z",
     "iopub.status.busy": "2024-08-07T04:45:04.367583Z",
     "iopub.status.idle": "2024-08-07T04:45:05.651891Z",
     "shell.execute_reply": "2024-08-07T04:45:05.651316Z"
    },
    "papermill": {
     "duration": 1.298281,
     "end_time": "2024-08-07T04:45:05.653439",
     "exception": false,
     "start_time": "2024-08-07T04:45:04.355158",
     "status": "completed"
    },
    "tags": []
   },
   "outputs": [],
   "source": [
    "ntcs = {}\n",
    "\n",
    "for el in ntcs_perturbations:\n",
    "    v = eng.get_values_umap(c, 'DemuxAssignment_crispr', el)\n",
    "    ntcs[el] = c[v].obsm[embeddings_key]"
   ]
  },
  {
   "cell_type": "code",
   "execution_count": 22,
   "id": "08e0b604-fb1b-44a7-925b-ad08fbd328c3",
   "metadata": {
    "execution": {
     "iopub.execute_input": "2024-08-07T04:45:05.671281Z",
     "iopub.status.busy": "2024-08-07T04:45:05.671051Z",
     "iopub.status.idle": "2024-08-07T04:45:26.835012Z",
     "shell.execute_reply": "2024-08-07T04:45:26.834460Z"
    },
    "papermill": {
     "duration": 21.174148,
     "end_time": "2024-08-07T04:45:26.836601",
     "exception": false,
     "start_time": "2024-08-07T04:45:05.662453",
     "status": "completed"
    },
    "tags": []
   },
   "outputs": [],
   "source": [
    "pert = {}\n",
    "\n",
    "for el in genes:\n",
    "    v = eng.get_values_umap(c, 'gene_symbol', el)\n",
    "    pert[el] = c[v].obsm[embeddings_key]"
   ]
  },
  {
   "cell_type": "code",
   "execution_count": 23,
   "id": "a639287c-e287-4cff-949c-990293ea24ab",
   "metadata": {
    "execution": {
     "iopub.execute_input": "2024-08-07T04:45:26.855306Z",
     "iopub.status.busy": "2024-08-07T04:45:26.855056Z",
     "iopub.status.idle": "2024-08-07T04:45:26.942027Z",
     "shell.execute_reply": "2024-08-07T04:45:26.941571Z"
    },
    "papermill": {
     "duration": 0.096922,
     "end_time": "2024-08-07T04:45:26.943160",
     "exception": false,
     "start_time": "2024-08-07T04:45:26.846238",
     "status": "completed"
    },
    "tags": []
   },
   "outputs": [],
   "source": [
    "ntcs_pool = {}\n",
    "W = eng.get_values_umap(c, 'gene_symbol', \"NTC\")\n",
    "ntcs_pool['pool'] = c[W].obsm[embeddings_key]"
   ]
  },
  {
   "cell_type": "markdown",
   "id": "e8298243-b82b-4b30-b9a3-1f619c0e9eb9",
   "metadata": {
    "papermill": {
     "duration": 0.007821,
     "end_time": "2024-08-07T04:45:26.959080",
     "exception": false,
     "start_time": "2024-08-07T04:45:26.951259",
     "status": "completed"
    },
    "tags": []
   },
   "source": [
    "## Run energy distance on individual NTCs to find inconsitent NTCs"
   ]
  },
  {
   "cell_type": "code",
   "execution_count": 24,
   "id": "f313f006-4df3-49fe-8058-8234ceb17586",
   "metadata": {
    "execution": {
     "iopub.execute_input": "2024-08-07T04:45:26.975405Z",
     "iopub.status.busy": "2024-08-07T04:45:26.975178Z",
     "iopub.status.idle": "2024-08-07T04:47:19.835473Z",
     "shell.execute_reply": "2024-08-07T04:47:19.834770Z"
    },
    "papermill": {
     "duration": 112.870251,
     "end_time": "2024-08-07T04:47:19.837070",
     "exception": false,
     "start_time": "2024-08-07T04:45:26.966819",
     "status": "completed"
    },
    "tags": []
   },
   "outputs": [],
   "source": [
    "ntc_consistency = eng.run(\n",
    "    client = Client(processes=True, n_workers=32),\n",
    "    perturbations = ntcs, \n",
    "    controls = ntcs_pool,\n",
    "    pool = 'No'\n",
    ")"
   ]
  },
  {
   "cell_type": "code",
   "execution_count": 25,
   "id": "75c65362-7a85-415f-b419-577dd8f1ea9c",
   "metadata": {
    "execution": {
     "iopub.execute_input": "2024-08-07T04:47:19.857187Z",
     "iopub.status.busy": "2024-08-07T04:47:19.856699Z",
     "iopub.status.idle": "2024-08-07T04:47:20.645494Z",
     "shell.execute_reply": "2024-08-07T04:47:20.644747Z"
    },
    "papermill": {
     "duration": 0.799218,
     "end_time": "2024-08-07T04:47:20.647119",
     "exception": false,
     "start_time": "2024-08-07T04:47:19.847901",
     "status": "completed"
    },
    "tags": []
   },
   "outputs": [],
   "source": [
    "ntc_consistency = pd.DataFrame(ntc_consistency).T"
   ]
  },
  {
   "cell_type": "code",
   "execution_count": 26,
   "id": "a741ab8d-effb-4f24-8b79-11495bf6bda8",
   "metadata": {
    "execution": {
     "iopub.execute_input": "2024-08-07T04:47:20.665507Z",
     "iopub.status.busy": "2024-08-07T04:47:20.665095Z",
     "iopub.status.idle": "2024-08-07T04:47:20.768228Z",
     "shell.execute_reply": "2024-08-07T04:47:20.767679Z"
    },
    "papermill": {
     "duration": 0.113262,
     "end_time": "2024-08-07T04:47:20.769369",
     "exception": false,
     "start_time": "2024-08-07T04:47:20.656107",
     "status": "completed"
    },
    "tags": []
   },
   "outputs": [
    {
     "data": {
      "text/html": [
       "<div>\n",
       "<style scoped>\n",
       "    .dataframe tbody tr th:only-of-type {\n",
       "        vertical-align: middle;\n",
       "    }\n",
       "\n",
       "    .dataframe tbody tr th {\n",
       "        vertical-align: top;\n",
       "    }\n",
       "\n",
       "    .dataframe thead th {\n",
       "        text-align: right;\n",
       "    }\n",
       "</style>\n",
       "<table border=\"1\" class=\"dataframe\">\n",
       "  <thead>\n",
       "    <tr style=\"text-align: right;\">\n",
       "      <th></th>\n",
       "      <th>pvalue</th>\n",
       "      <th>statistic</th>\n",
       "      <th>control_key</th>\n",
       "    </tr>\n",
       "  </thead>\n",
       "  <tbody>\n",
       "    <tr>\n",
       "      <th>NTC_90</th>\n",
       "      <td>0.091</td>\n",
       "      <td>16.892744</td>\n",
       "      <td>pool</td>\n",
       "    </tr>\n",
       "    <tr>\n",
       "      <th>NTC_177</th>\n",
       "      <td>0.058</td>\n",
       "      <td>9.277442</td>\n",
       "      <td>pool</td>\n",
       "    </tr>\n",
       "    <tr>\n",
       "      <th>NTC_193</th>\n",
       "      <td>0.511</td>\n",
       "      <td>10.722275</td>\n",
       "      <td>pool</td>\n",
       "    </tr>\n",
       "    <tr>\n",
       "      <th>NTC_286</th>\n",
       "      <td>0.88</td>\n",
       "      <td>3.065995</td>\n",
       "      <td>pool</td>\n",
       "    </tr>\n",
       "    <tr>\n",
       "      <th>NTC_127</th>\n",
       "      <td>0.319</td>\n",
       "      <td>2.522906</td>\n",
       "      <td>pool</td>\n",
       "    </tr>\n",
       "    <tr>\n",
       "      <th>...</th>\n",
       "      <td>...</td>\n",
       "      <td>...</td>\n",
       "      <td>...</td>\n",
       "    </tr>\n",
       "    <tr>\n",
       "      <th>NTC_197</th>\n",
       "      <td>0.99</td>\n",
       "      <td>7.736654</td>\n",
       "      <td>pool</td>\n",
       "    </tr>\n",
       "    <tr>\n",
       "      <th>NTC_459</th>\n",
       "      <td>0.303</td>\n",
       "      <td>12.297878</td>\n",
       "      <td>pool</td>\n",
       "    </tr>\n",
       "    <tr>\n",
       "      <th>NTC_498</th>\n",
       "      <td>0.831</td>\n",
       "      <td>9.059269</td>\n",
       "      <td>pool</td>\n",
       "    </tr>\n",
       "    <tr>\n",
       "      <th>NTC_69</th>\n",
       "      <td>0.568</td>\n",
       "      <td>10.296799</td>\n",
       "      <td>pool</td>\n",
       "    </tr>\n",
       "    <tr>\n",
       "      <th>NTC_146</th>\n",
       "      <td>0.308</td>\n",
       "      <td>12.070341</td>\n",
       "      <td>pool</td>\n",
       "    </tr>\n",
       "  </tbody>\n",
       "</table>\n",
       "<p>309 rows × 3 columns</p>\n",
       "</div>"
      ],
      "text/plain": [
       "        pvalue  statistic control_key\n",
       "NTC_90   0.091  16.892744        pool\n",
       "NTC_177  0.058   9.277442        pool\n",
       "NTC_193  0.511  10.722275        pool\n",
       "NTC_286   0.88   3.065995        pool\n",
       "NTC_127  0.319   2.522906        pool\n",
       "...        ...        ...         ...\n",
       "NTC_197   0.99   7.736654        pool\n",
       "NTC_459  0.303  12.297878        pool\n",
       "NTC_498  0.831   9.059269        pool\n",
       "NTC_69   0.568  10.296799        pool\n",
       "NTC_146  0.308  12.070341        pool\n",
       "\n",
       "[309 rows x 3 columns]"
      ]
     },
     "execution_count": 26,
     "metadata": {},
     "output_type": "execute_result"
    }
   ],
   "source": [
    "ntc_consistency"
   ]
  },
  {
   "cell_type": "markdown",
   "id": "4b985905-981d-41e2-b609-440fe5f4aa1d",
   "metadata": {
    "papermill": {
     "duration": 0.008241,
     "end_time": "2024-08-07T04:47:20.786050",
     "exception": false,
     "start_time": "2024-08-07T04:47:20.777809",
     "status": "completed"
    },
    "tags": []
   },
   "source": [
    "### Show only inconsistent NTCs with pVAL lower than the defined cut-off"
   ]
  },
  {
   "cell_type": "code",
   "execution_count": 27,
   "id": "a2d36f5b-094c-4297-ad11-d1d17efc4317",
   "metadata": {
    "execution": {
     "iopub.execute_input": "2024-08-07T04:47:20.803259Z",
     "iopub.status.busy": "2024-08-07T04:47:20.803012Z",
     "iopub.status.idle": "2024-08-07T04:47:20.904161Z",
     "shell.execute_reply": "2024-08-07T04:47:20.903635Z"
    },
    "papermill": {
     "duration": 0.111161,
     "end_time": "2024-08-07T04:47:20.905332",
     "exception": false,
     "start_time": "2024-08-07T04:47:20.794171",
     "status": "completed"
    },
    "tags": []
   },
   "outputs": [
    {
     "data": {
      "text/html": [
       "<div>\n",
       "<style scoped>\n",
       "    .dataframe tbody tr th:only-of-type {\n",
       "        vertical-align: middle;\n",
       "    }\n",
       "\n",
       "    .dataframe tbody tr th {\n",
       "        vertical-align: top;\n",
       "    }\n",
       "\n",
       "    .dataframe thead th {\n",
       "        text-align: right;\n",
       "    }\n",
       "</style>\n",
       "<table border=\"1\" class=\"dataframe\">\n",
       "  <thead>\n",
       "    <tr style=\"text-align: right;\">\n",
       "      <th></th>\n",
       "      <th>pvalue</th>\n",
       "      <th>statistic</th>\n",
       "      <th>control_key</th>\n",
       "    </tr>\n",
       "  </thead>\n",
       "  <tbody>\n",
       "    <tr>\n",
       "      <th>NTC_428</th>\n",
       "      <td>0.017</td>\n",
       "      <td>12.339289</td>\n",
       "      <td>pool</td>\n",
       "    </tr>\n",
       "    <tr>\n",
       "      <th>NTC_342</th>\n",
       "      <td>0.03</td>\n",
       "      <td>21.959076</td>\n",
       "      <td>pool</td>\n",
       "    </tr>\n",
       "    <tr>\n",
       "      <th>NTC_492</th>\n",
       "      <td>0.02</td>\n",
       "      <td>26.787987</td>\n",
       "      <td>pool</td>\n",
       "    </tr>\n",
       "    <tr>\n",
       "      <th>NTC_56</th>\n",
       "      <td>0.006</td>\n",
       "      <td>20.877773</td>\n",
       "      <td>pool</td>\n",
       "    </tr>\n",
       "    <tr>\n",
       "      <th>NTC_217</th>\n",
       "      <td>0.036</td>\n",
       "      <td>10.438447</td>\n",
       "      <td>pool</td>\n",
       "    </tr>\n",
       "    <tr>\n",
       "      <th>NTC_60</th>\n",
       "      <td>0.035</td>\n",
       "      <td>21.001701</td>\n",
       "      <td>pool</td>\n",
       "    </tr>\n",
       "    <tr>\n",
       "      <th>NTC_293</th>\n",
       "      <td>0.045</td>\n",
       "      <td>9.258943</td>\n",
       "      <td>pool</td>\n",
       "    </tr>\n",
       "    <tr>\n",
       "      <th>NTC_336</th>\n",
       "      <td>0.043</td>\n",
       "      <td>18.901432</td>\n",
       "      <td>pool</td>\n",
       "    </tr>\n",
       "    <tr>\n",
       "      <th>NTC_76</th>\n",
       "      <td>0.009</td>\n",
       "      <td>28.208073</td>\n",
       "      <td>pool</td>\n",
       "    </tr>\n",
       "    <tr>\n",
       "      <th>NTC_298</th>\n",
       "      <td>0.004</td>\n",
       "      <td>32.703773</td>\n",
       "      <td>pool</td>\n",
       "    </tr>\n",
       "    <tr>\n",
       "      <th>NTC_411</th>\n",
       "      <td>0.033</td>\n",
       "      <td>19.709602</td>\n",
       "      <td>pool</td>\n",
       "    </tr>\n",
       "    <tr>\n",
       "      <th>NTC_448</th>\n",
       "      <td>0.003</td>\n",
       "      <td>38.727375</td>\n",
       "      <td>pool</td>\n",
       "    </tr>\n",
       "    <tr>\n",
       "      <th>NTC_44</th>\n",
       "      <td>0.005</td>\n",
       "      <td>35.031597</td>\n",
       "      <td>pool</td>\n",
       "    </tr>\n",
       "    <tr>\n",
       "      <th>NTC_334</th>\n",
       "      <td>0.0</td>\n",
       "      <td>76.227859</td>\n",
       "      <td>pool</td>\n",
       "    </tr>\n",
       "  </tbody>\n",
       "</table>\n",
       "</div>"
      ],
      "text/plain": [
       "        pvalue  statistic control_key\n",
       "NTC_428  0.017  12.339289        pool\n",
       "NTC_342   0.03  21.959076        pool\n",
       "NTC_492   0.02  26.787987        pool\n",
       "NTC_56   0.006  20.877773        pool\n",
       "NTC_217  0.036  10.438447        pool\n",
       "NTC_60   0.035  21.001701        pool\n",
       "NTC_293  0.045   9.258943        pool\n",
       "NTC_336  0.043  18.901432        pool\n",
       "NTC_76   0.009  28.208073        pool\n",
       "NTC_298  0.004  32.703773        pool\n",
       "NTC_411  0.033  19.709602        pool\n",
       "NTC_448  0.003  38.727375        pool\n",
       "NTC_44   0.005  35.031597        pool\n",
       "NTC_334    0.0  76.227859        pool"
      ]
     },
     "execution_count": 27,
     "metadata": {},
     "output_type": "execute_result"
    }
   ],
   "source": [
    "ntc_consistency[ntc_consistency['pvalue']<=pVAL]"
   ]
  },
  {
   "cell_type": "code",
   "execution_count": 28,
   "id": "89370a8b-d948-42f8-854a-c7943ded3292",
   "metadata": {
    "execution": {
     "iopub.execute_input": "2024-08-07T04:47:20.923549Z",
     "iopub.status.busy": "2024-08-07T04:47:20.922990Z",
     "iopub.status.idle": "2024-08-07T04:47:21.025713Z",
     "shell.execute_reply": "2024-08-07T04:47:21.024936Z"
    },
    "papermill": {
     "duration": 0.112837,
     "end_time": "2024-08-07T04:47:21.026791",
     "exception": false,
     "start_time": "2024-08-07T04:47:20.913954",
     "status": "completed"
    },
    "tags": []
   },
   "outputs": [
    {
     "data": {
      "text/plain": [
       "['NTC_56', 'NTC_76', 'NTC_298', 'NTC_448', 'NTC_44', 'NTC_334']"
      ]
     },
     "execution_count": 28,
     "metadata": {},
     "output_type": "execute_result"
    }
   ],
   "source": [
    "rm_ntcs = ntc_consistency[ntc_consistency['pvalue']<=0.01].index.tolist()\n",
    "rm_ntcs"
   ]
  },
  {
   "cell_type": "code",
   "execution_count": 29,
   "id": "c32216d2-0ecb-459b-8faf-62811c707201",
   "metadata": {
    "execution": {
     "iopub.execute_input": "2024-08-07T04:47:21.045176Z",
     "iopub.status.busy": "2024-08-07T04:47:21.044770Z",
     "iopub.status.idle": "2024-08-07T04:47:21.167620Z",
     "shell.execute_reply": "2024-08-07T04:47:21.167115Z"
    },
    "papermill": {
     "duration": 0.133352,
     "end_time": "2024-08-07T04:47:21.168985",
     "exception": false,
     "start_time": "2024-08-07T04:47:21.035633",
     "status": "completed"
    },
    "tags": []
   },
   "outputs": [],
   "source": [
    "c.obs['rm_ntc'] = 'No'\n",
    "c.obs.loc[c.obs['DemuxAssignment_crispr'].isin(rm_ntcs), 'rm_ntc'] = 'Yes'"
   ]
  },
  {
   "cell_type": "code",
   "execution_count": 30,
   "id": "f4e9a6c3-986b-4f23-9501-eb7fe38fe33b",
   "metadata": {
    "execution": {
     "iopub.execute_input": "2024-08-07T04:47:21.187540Z",
     "iopub.status.busy": "2024-08-07T04:47:21.187207Z",
     "iopub.status.idle": "2024-08-07T04:47:21.795819Z",
     "shell.execute_reply": "2024-08-07T04:47:21.795280Z"
    },
    "papermill": {
     "duration": 0.619238,
     "end_time": "2024-08-07T04:47:21.797170",
     "exception": false,
     "start_time": "2024-08-07T04:47:21.177932",
     "status": "completed"
    },
    "tags": []
   },
   "outputs": [
    {
     "data": {
      "text/plain": [
       "View of AnnData object with n_obs × n_vars = 581120 × 36603\n",
       "    obs: 'Sample', 'Barcode', 'DemuxType_crispr', 'DemuxAssignment_crispr', 'DemuxType_hashing', 'DemuxAssignment_hashing', 'cellline', 'timepoint', 'HTO', 'NGS_ID', 'Biological_replicate', '10Xrun', 'sublibrary', 'gRNA_library_MOI', 'gene_symbol', 'class', 'n_genes_by_counts', 'total_counts', 'total_counts_mt', 'pct_counts_mt', 'total_counts_ribo', 'pct_counts_ribo', 'qc_pass', 'S_score', 'G2M_score', 'phase', 'SCN_class', 'gem', 'batch', 'rm_ntc'\n",
       "    var: 'Symbol'\n",
       "    obsm: 'X_pca', 'X_pca_centered', 'X_pca_sphered', 'X_pca_sphered_Norm', 'X_scVI', 'X_scVI_centered', 'X_umap'\n",
       "    layers: 'counts'"
      ]
     },
     "execution_count": 30,
     "metadata": {},
     "output_type": "execute_result"
    }
   ],
   "source": [
    "c = c[c.obs['rm_ntc']=='No']\n",
    "c"
   ]
  },
  {
   "cell_type": "markdown",
   "id": "d898b8e3-daf4-4ef0-8603-d7ad905dd295",
   "metadata": {
    "papermill": {
     "duration": 0.008771,
     "end_time": "2024-08-07T04:47:21.815591",
     "exception": false,
     "start_time": "2024-08-07T04:47:21.806820",
     "status": "completed"
    },
    "tags": []
   },
   "source": [
    "### Update NTCs"
   ]
  },
  {
   "cell_type": "code",
   "execution_count": 31,
   "id": "0406f3af-84bb-4ec8-9dd3-405ad1576d16",
   "metadata": {
    "execution": {
     "iopub.execute_input": "2024-08-07T04:47:21.833860Z",
     "iopub.status.busy": "2024-08-07T04:47:21.833409Z",
     "iopub.status.idle": "2024-08-07T04:47:21.941784Z",
     "shell.execute_reply": "2024-08-07T04:47:21.941299Z"
    },
    "papermill": {
     "duration": 0.118984,
     "end_time": "2024-08-07T04:47:21.943064",
     "exception": false,
     "start_time": "2024-08-07T04:47:21.824080",
     "status": "completed"
    },
    "tags": []
   },
   "outputs": [],
   "source": [
    "ntcs_pool = {}\n",
    "W = eng.get_values_umap(c, 'gene_symbol', \"NTC\")\n",
    "ntcs_pool['pool'] = c[W].obsm[embeddings_key]"
   ]
  },
  {
   "cell_type": "markdown",
   "id": "6803e411-891f-43f9-a4a7-a3d260e2f7ba",
   "metadata": {
    "papermill": {
     "duration": 0.00848,
     "end_time": "2024-08-07T04:47:21.960373",
     "exception": false,
     "start_time": "2024-08-07T04:47:21.951893",
     "status": "completed"
    },
    "tags": []
   },
   "source": [
    "## Calculate actual EnergyDistance as ed"
   ]
  },
  {
   "cell_type": "code",
   "execution_count": 32,
   "id": "b96d7aa1-6b2a-4a9c-8121-4687091ea46c",
   "metadata": {
    "execution": {
     "iopub.execute_input": "2024-08-07T04:47:21.979141Z",
     "iopub.status.busy": "2024-08-07T04:47:21.978880Z",
     "iopub.status.idle": "2024-08-07T05:12:12.716426Z",
     "shell.execute_reply": "2024-08-07T05:12:12.715538Z"
    },
    "papermill": {
     "duration": 1490.749985,
     "end_time": "2024-08-07T05:12:12.719317",
     "exception": false,
     "start_time": "2024-08-07T04:47:21.969332",
     "status": "completed"
    },
    "tags": []
   },
   "outputs": [
    {
     "name": "stderr",
     "output_type": "stream",
     "text": [
      "/apps/user/gpy/envs/dev/GPUy310pascal/lib/python3.10/site-packages/distributed/node.py:182: UserWarning: Port 8787 is already in use.\n",
      "Perhaps you already have a cluster running?\n",
      "Hosting the HTTP server on port 45515 instead\n",
      "  warnings.warn(\n"
     ]
    }
   ],
   "source": [
    "ed = eng.run(\n",
    "    client = Client(processes=True, n_workers=32),\n",
    "    perturbations = pert, \n",
    "    controls = ntcs_pool,\n",
    "    pool = 'Yes'\n",
    ")"
   ]
  },
  {
   "cell_type": "markdown",
   "id": "e4ddeef4-8e83-4c14-b77c-6363890d3271",
   "metadata": {
    "papermill": {
     "duration": 0.008704,
     "end_time": "2024-08-07T05:12:12.741101",
     "exception": false,
     "start_time": "2024-08-07T05:12:12.732397",
     "status": "completed"
    },
    "tags": []
   },
   "source": [
    "### Restart the client before new Computations with the refreshed client"
   ]
  },
  {
   "cell_type": "code",
   "execution_count": 33,
   "id": "b21629f5-2e79-4b56-a581-177a7e4d26b6",
   "metadata": {
    "execution": {
     "iopub.execute_input": "2024-08-07T05:12:12.759860Z",
     "iopub.status.busy": "2024-08-07T05:12:12.759525Z",
     "iopub.status.idle": "2024-08-07T05:12:14.089786Z",
     "shell.execute_reply": "2024-08-07T05:12:14.088934Z"
    },
    "papermill": {
     "duration": 1.342131,
     "end_time": "2024-08-07T05:12:14.091898",
     "exception": false,
     "start_time": "2024-08-07T05:12:12.749767",
     "status": "completed"
    },
    "tags": []
   },
   "outputs": [],
   "source": [
    "#client = Client()\n",
    "#client.restart()"
   ]
  },
  {
   "cell_type": "code",
   "execution_count": 34,
   "id": "5c73b148-ed58-4dcd-8355-2b8a1cbdf9f2",
   "metadata": {
    "execution": {
     "iopub.execute_input": "2024-08-07T05:12:14.112429Z",
     "iopub.status.busy": "2024-08-07T05:12:14.111890Z",
     "iopub.status.idle": "2024-08-07T05:12:14.369810Z",
     "shell.execute_reply": "2024-08-07T05:12:14.369037Z"
    },
    "papermill": {
     "duration": 0.272328,
     "end_time": "2024-08-07T05:12:14.374332",
     "exception": false,
     "start_time": "2024-08-07T05:12:14.102004",
     "status": "completed"
    },
    "tags": []
   },
   "outputs": [
    {
     "data": {
      "text/html": [
       "<div>\n",
       "<style scoped>\n",
       "    .dataframe tbody tr th:only-of-type {\n",
       "        vertical-align: middle;\n",
       "    }\n",
       "\n",
       "    .dataframe tbody tr th {\n",
       "        vertical-align: top;\n",
       "    }\n",
       "\n",
       "    .dataframe thead th {\n",
       "        text-align: right;\n",
       "    }\n",
       "</style>\n",
       "<table border=\"1\" class=\"dataframe\">\n",
       "  <thead>\n",
       "    <tr style=\"text-align: right;\">\n",
       "      <th></th>\n",
       "      <th>pvalue</th>\n",
       "      <th>statistic</th>\n",
       "      <th>control_key</th>\n",
       "    </tr>\n",
       "  </thead>\n",
       "  <tbody>\n",
       "    <tr>\n",
       "      <th>SNRPD1</th>\n",
       "      <td>0.0</td>\n",
       "      <td>5.744932</td>\n",
       "      <td>pool</td>\n",
       "    </tr>\n",
       "    <tr>\n",
       "      <th>NSRP1</th>\n",
       "      <td>0.0</td>\n",
       "      <td>0.298586</td>\n",
       "      <td>pool</td>\n",
       "    </tr>\n",
       "    <tr>\n",
       "      <th>BUB1B</th>\n",
       "      <td>0.0</td>\n",
       "      <td>0.801281</td>\n",
       "      <td>pool</td>\n",
       "    </tr>\n",
       "    <tr>\n",
       "      <th>CDC73</th>\n",
       "      <td>0.0</td>\n",
       "      <td>3.97226</td>\n",
       "      <td>pool</td>\n",
       "    </tr>\n",
       "    <tr>\n",
       "      <th>SLC35B1</th>\n",
       "      <td>0.0</td>\n",
       "      <td>0.62513</td>\n",
       "      <td>pool</td>\n",
       "    </tr>\n",
       "    <tr>\n",
       "      <th>...</th>\n",
       "      <td>...</td>\n",
       "      <td>...</td>\n",
       "      <td>...</td>\n",
       "    </tr>\n",
       "    <tr>\n",
       "      <th>LEP</th>\n",
       "      <td>0.994</td>\n",
       "      <td>0.081535</td>\n",
       "      <td>pool</td>\n",
       "    </tr>\n",
       "    <tr>\n",
       "      <th>STK19</th>\n",
       "      <td>0.996</td>\n",
       "      <td>0.130432</td>\n",
       "      <td>pool</td>\n",
       "    </tr>\n",
       "    <tr>\n",
       "      <th>CYP1A2</th>\n",
       "      <td>0.996</td>\n",
       "      <td>0.078937</td>\n",
       "      <td>pool</td>\n",
       "    </tr>\n",
       "    <tr>\n",
       "      <th>TRIP4</th>\n",
       "      <td>0.996</td>\n",
       "      <td>0.080627</td>\n",
       "      <td>pool</td>\n",
       "    </tr>\n",
       "    <tr>\n",
       "      <th>LYST</th>\n",
       "      <td>0.997</td>\n",
       "      <td>0.08786</td>\n",
       "      <td>pool</td>\n",
       "    </tr>\n",
       "  </tbody>\n",
       "</table>\n",
       "<p>4974 rows × 3 columns</p>\n",
       "</div>"
      ],
      "text/plain": [
       "        pvalue statistic control_key\n",
       "SNRPD1     0.0  5.744932        pool\n",
       "NSRP1      0.0  0.298586        pool\n",
       "BUB1B      0.0  0.801281        pool\n",
       "CDC73      0.0   3.97226        pool\n",
       "SLC35B1    0.0   0.62513        pool\n",
       "...        ...       ...         ...\n",
       "LEP      0.994  0.081535        pool\n",
       "STK19    0.996  0.130432        pool\n",
       "CYP1A2   0.996  0.078937        pool\n",
       "TRIP4    0.996  0.080627        pool\n",
       "LYST     0.997   0.08786        pool\n",
       "\n",
       "[4974 rows x 3 columns]"
      ]
     },
     "execution_count": 34,
     "metadata": {},
     "output_type": "execute_result"
    }
   ],
   "source": [
    "PVAL = pd.DataFrame(ed).T.sort_values(by='pvalue')\n",
    "PVAL"
   ]
  },
  {
   "cell_type": "markdown",
   "id": "32a897ae-b020-4f4c-9fb6-b98b19ab43f6",
   "metadata": {
    "papermill": {
     "duration": 0.009139,
     "end_time": "2024-08-07T05:12:14.394141",
     "exception": false,
     "start_time": "2024-08-07T05:12:14.385002",
     "status": "completed"
    },
    "tags": []
   },
   "source": [
    "#### p-value should be 1/1000 at minimum (for 1000 permutations)"
   ]
  },
  {
   "cell_type": "code",
   "execution_count": 35,
   "id": "34898054-e1cf-4bb8-9105-c7e6c86d8520",
   "metadata": {
    "execution": {
     "iopub.execute_input": "2024-08-07T05:12:14.413724Z",
     "iopub.status.busy": "2024-08-07T05:12:14.413457Z",
     "iopub.status.idle": "2024-08-07T05:12:14.537115Z",
     "shell.execute_reply": "2024-08-07T05:12:14.536362Z"
    },
    "papermill": {
     "duration": 0.135077,
     "end_time": "2024-08-07T05:12:14.538325",
     "exception": false,
     "start_time": "2024-08-07T05:12:14.403248",
     "status": "completed"
    },
    "tags": []
   },
   "outputs": [],
   "source": [
    "PVAL['pvalue'] = PVAL['pvalue'].replace(0,0.001)"
   ]
  },
  {
   "cell_type": "code",
   "execution_count": 36,
   "id": "7288550e-99de-47eb-8025-256728eb7136",
   "metadata": {
    "execution": {
     "iopub.execute_input": "2024-08-07T05:12:14.558199Z",
     "iopub.status.busy": "2024-08-07T05:12:14.557680Z",
     "iopub.status.idle": "2024-08-07T05:12:14.719846Z",
     "shell.execute_reply": "2024-08-07T05:12:14.719006Z"
    },
    "papermill": {
     "duration": 0.173952,
     "end_time": "2024-08-07T05:12:14.721611",
     "exception": false,
     "start_time": "2024-08-07T05:12:14.547659",
     "status": "completed"
    },
    "tags": []
   },
   "outputs": [],
   "source": [
    "PVAL['gene_symbol'] = PVAL.index\n",
    "PVAL.to_csv(out_csv)"
   ]
  },
  {
   "cell_type": "markdown",
   "id": "f66e387d-decd-4193-b455-b69f64132c96",
   "metadata": {
    "papermill": {
     "duration": 0.009236,
     "end_time": "2024-08-07T05:12:14.740550",
     "exception": false,
     "start_time": "2024-08-07T05:12:14.731314",
     "status": "completed"
    },
    "tags": []
   },
   "source": [
    "### Add the energy distance info to adata"
   ]
  },
  {
   "cell_type": "code",
   "execution_count": 37,
   "id": "d44dfcd6-3f10-4689-a3db-d1b628be65fb",
   "metadata": {
    "execution": {
     "iopub.execute_input": "2024-08-07T05:12:14.760566Z",
     "iopub.status.busy": "2024-08-07T05:12:14.760284Z",
     "iopub.status.idle": "2024-08-07T05:12:14.998691Z",
     "shell.execute_reply": "2024-08-07T05:12:14.997848Z"
    },
    "papermill": {
     "duration": 0.250406,
     "end_time": "2024-08-07T05:12:15.000964",
     "exception": false,
     "start_time": "2024-08-07T05:12:14.750558",
     "status": "completed"
    },
    "tags": []
   },
   "outputs": [],
   "source": [
    "ed_df = pd.DataFrame(ed).T.copy()"
   ]
  },
  {
   "cell_type": "code",
   "execution_count": 38,
   "id": "2b688711-ccd5-487e-9ce3-8fb98837375d",
   "metadata": {
    "execution": {
     "iopub.execute_input": "2024-08-07T05:12:15.037656Z",
     "iopub.status.busy": "2024-08-07T05:12:15.037269Z",
     "iopub.status.idle": "2024-08-07T05:12:15.195658Z",
     "shell.execute_reply": "2024-08-07T05:12:15.194505Z"
    },
    "papermill": {
     "duration": 0.170766,
     "end_time": "2024-08-07T05:12:15.197582",
     "exception": false,
     "start_time": "2024-08-07T05:12:15.026816",
     "status": "completed"
    },
    "tags": []
   },
   "outputs": [],
   "source": [
    "ed_df['gene_symbol'] = ed_df.index\n",
    "ed_df=ed_df.reset_index(drop=True)"
   ]
  },
  {
   "cell_type": "code",
   "execution_count": 39,
   "id": "7de3cfb1-65e5-4db0-bccc-d1ea78f480ad",
   "metadata": {
    "execution": {
     "iopub.execute_input": "2024-08-07T05:12:15.218311Z",
     "iopub.status.busy": "2024-08-07T05:12:15.217843Z",
     "iopub.status.idle": "2024-08-07T05:12:15.363822Z",
     "shell.execute_reply": "2024-08-07T05:12:15.362640Z"
    },
    "papermill": {
     "duration": 0.157973,
     "end_time": "2024-08-07T05:12:15.365489",
     "exception": false,
     "start_time": "2024-08-07T05:12:15.207516",
     "status": "completed"
    },
    "tags": []
   },
   "outputs": [],
   "source": [
    "ed_df['pvalue'] = ed_df['pvalue'].replace(0,0.001)"
   ]
  },
  {
   "cell_type": "code",
   "execution_count": 40,
   "id": "7524de3d-fd55-4380-9353-8cb96e1ff450",
   "metadata": {
    "execution": {
     "iopub.execute_input": "2024-08-07T05:12:15.385544Z",
     "iopub.status.busy": "2024-08-07T05:12:15.385282Z",
     "iopub.status.idle": "2024-08-07T05:12:15.510895Z",
     "shell.execute_reply": "2024-08-07T05:12:15.510102Z"
    },
    "papermill": {
     "duration": 0.137253,
     "end_time": "2024-08-07T05:12:15.512183",
     "exception": false,
     "start_time": "2024-08-07T05:12:15.374930",
     "status": "completed"
    },
    "tags": []
   },
   "outputs": [],
   "source": [
    "ed_df = ed_df.rename(columns={\"pvalue\":\"energy_distance_pvalue\",\"statistic\":\"energy_distance_statistic\",\"control_key\":\"energy_distance_control_key\"})"
   ]
  },
  {
   "cell_type": "code",
   "execution_count": 41,
   "id": "dbea9031-c414-4d91-be7d-9db02adcb594",
   "metadata": {
    "execution": {
     "iopub.execute_input": "2024-08-07T05:12:15.531841Z",
     "iopub.status.busy": "2024-08-07T05:12:15.531451Z",
     "iopub.status.idle": "2024-08-07T05:12:16.256817Z",
     "shell.execute_reply": "2024-08-07T05:12:16.256022Z"
    },
    "papermill": {
     "duration": 0.737029,
     "end_time": "2024-08-07T05:12:16.258645",
     "exception": false,
     "start_time": "2024-08-07T05:12:15.521616",
     "status": "completed"
    },
    "tags": []
   },
   "outputs": [],
   "source": [
    "df_uns = adata.obs.reset_index().merge(ed_df, on=\"gene_symbol\", how=\"left\").set_index('index')\n",
    "df_uns.index.name = None"
   ]
  },
  {
   "cell_type": "code",
   "execution_count": 42,
   "id": "87b169e3-c899-4559-a3d8-9b451c8e5e12",
   "metadata": {
    "execution": {
     "iopub.execute_input": "2024-08-07T05:12:16.279277Z",
     "iopub.status.busy": "2024-08-07T05:12:16.279022Z",
     "iopub.status.idle": "2024-08-07T05:12:16.431958Z",
     "shell.execute_reply": "2024-08-07T05:12:16.431140Z"
    },
    "papermill": {
     "duration": 0.165096,
     "end_time": "2024-08-07T05:12:16.433977",
     "exception": false,
     "start_time": "2024-08-07T05:12:16.268881",
     "status": "completed"
    },
    "tags": []
   },
   "outputs": [],
   "source": [
    "b=['energy_distance_pvalue','energy_distance_statistic']#,'energy_distance_control_key','phenotype']\n",
    "\n",
    "for el in b:\n",
    "    df_uns[el] = df_uns[el].astype(float)"
   ]
  },
  {
   "cell_type": "code",
   "execution_count": 43,
   "id": "160be9c6-f069-4877-b59d-c8c4ec942553",
   "metadata": {
    "execution": {
     "iopub.execute_input": "2024-08-07T05:12:16.454458Z",
     "iopub.status.busy": "2024-08-07T05:12:16.454217Z",
     "iopub.status.idle": "2024-08-07T05:12:16.602645Z",
     "shell.execute_reply": "2024-08-07T05:12:16.602053Z"
    },
    "papermill": {
     "duration": 0.160089,
     "end_time": "2024-08-07T05:12:16.603837",
     "exception": false,
     "start_time": "2024-08-07T05:12:16.443748",
     "status": "completed"
    },
    "tags": []
   },
   "outputs": [
    {
     "data": {
      "text/html": [
       "<div>\n",
       "<style scoped>\n",
       "    .dataframe tbody tr th:only-of-type {\n",
       "        vertical-align: middle;\n",
       "    }\n",
       "\n",
       "    .dataframe tbody tr th {\n",
       "        vertical-align: top;\n",
       "    }\n",
       "\n",
       "    .dataframe thead th {\n",
       "        text-align: right;\n",
       "    }\n",
       "</style>\n",
       "<table border=\"1\" class=\"dataframe\">\n",
       "  <thead>\n",
       "    <tr style=\"text-align: right;\">\n",
       "      <th></th>\n",
       "      <th>Sample</th>\n",
       "      <th>Barcode</th>\n",
       "      <th>DemuxType_crispr</th>\n",
       "      <th>DemuxAssignment_crispr</th>\n",
       "      <th>DemuxType_hashing</th>\n",
       "      <th>DemuxAssignment_hashing</th>\n",
       "      <th>cellline</th>\n",
       "      <th>timepoint</th>\n",
       "      <th>HTO</th>\n",
       "      <th>NGS_ID</th>\n",
       "      <th>...</th>\n",
       "      <th>pct_counts_ribo</th>\n",
       "      <th>qc_pass</th>\n",
       "      <th>S_score</th>\n",
       "      <th>G2M_score</th>\n",
       "      <th>phase</th>\n",
       "      <th>SCN_class</th>\n",
       "      <th>gem</th>\n",
       "      <th>energy_distance_pvalue</th>\n",
       "      <th>energy_distance_statistic</th>\n",
       "      <th>energy_distance_control_key</th>\n",
       "    </tr>\n",
       "  </thead>\n",
       "  <tbody>\n",
       "    <tr>\n",
       "      <th>SAM24451293_rep1-AAACCCAAGAAATCCA</th>\n",
       "      <td>SAM24451293</td>\n",
       "      <td>AAACCCAAGAAATCCA</td>\n",
       "      <td>singlet</td>\n",
       "      <td>ENSG00000154124_2</td>\n",
       "      <td>singlet</td>\n",
       "      <td>SAM24439044</td>\n",
       "      <td>DLD1</td>\n",
       "      <td>day5</td>\n",
       "      <td>HTO-14</td>\n",
       "      <td>NGS5774</td>\n",
       "      <td>...</td>\n",
       "      <td>19.529837</td>\n",
       "      <td>True</td>\n",
       "      <td>-0.734884</td>\n",
       "      <td>-0.491440</td>\n",
       "      <td>G1</td>\n",
       "      <td>Untreatedclus_DLD1</td>\n",
       "      <td>NGS5774-1</td>\n",
       "      <td>0.239</td>\n",
       "      <td>0.128099</td>\n",
       "      <td>pool</td>\n",
       "    </tr>\n",
       "    <tr>\n",
       "      <th>SAM24451293_rep1-AAACCCAAGACAGTCG</th>\n",
       "      <td>SAM24451293</td>\n",
       "      <td>AAACCCAAGACAGTCG</td>\n",
       "      <td>singlet</td>\n",
       "      <td>ENSG00000171017_3</td>\n",
       "      <td>singlet</td>\n",
       "      <td>SAM24439045</td>\n",
       "      <td>DLD1</td>\n",
       "      <td>day5</td>\n",
       "      <td>HTO-18</td>\n",
       "      <td>NGS5774</td>\n",
       "      <td>...</td>\n",
       "      <td>22.065006</td>\n",
       "      <td>True</td>\n",
       "      <td>-0.493023</td>\n",
       "      <td>0.231481</td>\n",
       "      <td>G2M</td>\n",
       "      <td>Untreatedclus_DLD1</td>\n",
       "      <td>NGS5774-1</td>\n",
       "      <td>0.043</td>\n",
       "      <td>0.176627</td>\n",
       "      <td>pool</td>\n",
       "    </tr>\n",
       "    <tr>\n",
       "      <th>SAM24451293_rep1-AAACCCACAGACCCGT</th>\n",
       "      <td>SAM24451293</td>\n",
       "      <td>AAACCCACAGACCCGT</td>\n",
       "      <td>singlet</td>\n",
       "      <td>ENSG00000140057_1</td>\n",
       "      <td>singlet</td>\n",
       "      <td>SAM24439043</td>\n",
       "      <td>DLD1</td>\n",
       "      <td>day5</td>\n",
       "      <td>HTO-10</td>\n",
       "      <td>NGS5774</td>\n",
       "      <td>...</td>\n",
       "      <td>14.875622</td>\n",
       "      <td>True</td>\n",
       "      <td>-0.158140</td>\n",
       "      <td>-0.564640</td>\n",
       "      <td>G1</td>\n",
       "      <td>Untreatedclus_DLD1</td>\n",
       "      <td>NGS5774-1</td>\n",
       "      <td>0.773</td>\n",
       "      <td>0.097270</td>\n",
       "      <td>pool</td>\n",
       "    </tr>\n",
       "    <tr>\n",
       "      <th>SAM24451293_rep1-AAACCCAGTAACGATA</th>\n",
       "      <td>SAM24451293</td>\n",
       "      <td>AAACCCAGTAACGATA</td>\n",
       "      <td>singlet</td>\n",
       "      <td>ENSG00000188611_3</td>\n",
       "      <td>singlet</td>\n",
       "      <td>POSITIVE_CONTROL</td>\n",
       "      <td>DLD1</td>\n",
       "      <td>day5</td>\n",
       "      <td>HTO-19</td>\n",
       "      <td>NGS5774</td>\n",
       "      <td>...</td>\n",
       "      <td>25.018056</td>\n",
       "      <td>True</td>\n",
       "      <td>-0.520930</td>\n",
       "      <td>-0.385045</td>\n",
       "      <td>G1</td>\n",
       "      <td>Untreatedclus_DLD1</td>\n",
       "      <td>NGS5774-1</td>\n",
       "      <td>0.512</td>\n",
       "      <td>0.095749</td>\n",
       "      <td>pool</td>\n",
       "    </tr>\n",
       "    <tr>\n",
       "      <th>SAM24451293_rep1-AAACCCAGTACGACAG</th>\n",
       "      <td>SAM24451293</td>\n",
       "      <td>AAACCCAGTACGACAG</td>\n",
       "      <td>singlet</td>\n",
       "      <td>ENSG00000166664_2</td>\n",
       "      <td>singlet</td>\n",
       "      <td>SAM24439043</td>\n",
       "      <td>DLD1</td>\n",
       "      <td>day5</td>\n",
       "      <td>HTO-1</td>\n",
       "      <td>NGS5774</td>\n",
       "      <td>...</td>\n",
       "      <td>17.613996</td>\n",
       "      <td>True</td>\n",
       "      <td>0.334884</td>\n",
       "      <td>-0.072851</td>\n",
       "      <td>S</td>\n",
       "      <td>Untreatedclus_DLD1</td>\n",
       "      <td>NGS5774-1</td>\n",
       "      <td>0.125</td>\n",
       "      <td>0.121179</td>\n",
       "      <td>pool</td>\n",
       "    </tr>\n",
       "  </tbody>\n",
       "</table>\n",
       "<p>5 rows × 31 columns</p>\n",
       "</div>"
      ],
      "text/plain": [
       "                                        Sample           Barcode  \\\n",
       "SAM24451293_rep1-AAACCCAAGAAATCCA  SAM24451293  AAACCCAAGAAATCCA   \n",
       "SAM24451293_rep1-AAACCCAAGACAGTCG  SAM24451293  AAACCCAAGACAGTCG   \n",
       "SAM24451293_rep1-AAACCCACAGACCCGT  SAM24451293  AAACCCACAGACCCGT   \n",
       "SAM24451293_rep1-AAACCCAGTAACGATA  SAM24451293  AAACCCAGTAACGATA   \n",
       "SAM24451293_rep1-AAACCCAGTACGACAG  SAM24451293  AAACCCAGTACGACAG   \n",
       "\n",
       "                                  DemuxType_crispr DemuxAssignment_crispr  \\\n",
       "SAM24451293_rep1-AAACCCAAGAAATCCA          singlet      ENSG00000154124_2   \n",
       "SAM24451293_rep1-AAACCCAAGACAGTCG          singlet      ENSG00000171017_3   \n",
       "SAM24451293_rep1-AAACCCACAGACCCGT          singlet      ENSG00000140057_1   \n",
       "SAM24451293_rep1-AAACCCAGTAACGATA          singlet      ENSG00000188611_3   \n",
       "SAM24451293_rep1-AAACCCAGTACGACAG          singlet      ENSG00000166664_2   \n",
       "\n",
       "                                  DemuxType_hashing DemuxAssignment_hashing  \\\n",
       "SAM24451293_rep1-AAACCCAAGAAATCCA           singlet             SAM24439044   \n",
       "SAM24451293_rep1-AAACCCAAGACAGTCG           singlet             SAM24439045   \n",
       "SAM24451293_rep1-AAACCCACAGACCCGT           singlet             SAM24439043   \n",
       "SAM24451293_rep1-AAACCCAGTAACGATA           singlet        POSITIVE_CONTROL   \n",
       "SAM24451293_rep1-AAACCCAGTACGACAG           singlet             SAM24439043   \n",
       "\n",
       "                                  cellline timepoint     HTO   NGS_ID  ...  \\\n",
       "SAM24451293_rep1-AAACCCAAGAAATCCA     DLD1      day5  HTO-14  NGS5774  ...   \n",
       "SAM24451293_rep1-AAACCCAAGACAGTCG     DLD1      day5  HTO-18  NGS5774  ...   \n",
       "SAM24451293_rep1-AAACCCACAGACCCGT     DLD1      day5  HTO-10  NGS5774  ...   \n",
       "SAM24451293_rep1-AAACCCAGTAACGATA     DLD1      day5  HTO-19  NGS5774  ...   \n",
       "SAM24451293_rep1-AAACCCAGTACGACAG     DLD1      day5   HTO-1  NGS5774  ...   \n",
       "\n",
       "                                  pct_counts_ribo qc_pass   S_score G2M_score  \\\n",
       "SAM24451293_rep1-AAACCCAAGAAATCCA       19.529837    True -0.734884 -0.491440   \n",
       "SAM24451293_rep1-AAACCCAAGACAGTCG       22.065006    True -0.493023  0.231481   \n",
       "SAM24451293_rep1-AAACCCACAGACCCGT       14.875622    True -0.158140 -0.564640   \n",
       "SAM24451293_rep1-AAACCCAGTAACGATA       25.018056    True -0.520930 -0.385045   \n",
       "SAM24451293_rep1-AAACCCAGTACGACAG       17.613996    True  0.334884 -0.072851   \n",
       "\n",
       "                                  phase           SCN_class        gem  \\\n",
       "SAM24451293_rep1-AAACCCAAGAAATCCA    G1  Untreatedclus_DLD1  NGS5774-1   \n",
       "SAM24451293_rep1-AAACCCAAGACAGTCG   G2M  Untreatedclus_DLD1  NGS5774-1   \n",
       "SAM24451293_rep1-AAACCCACAGACCCGT    G1  Untreatedclus_DLD1  NGS5774-1   \n",
       "SAM24451293_rep1-AAACCCAGTAACGATA    G1  Untreatedclus_DLD1  NGS5774-1   \n",
       "SAM24451293_rep1-AAACCCAGTACGACAG     S  Untreatedclus_DLD1  NGS5774-1   \n",
       "\n",
       "                                   energy_distance_pvalue  \\\n",
       "SAM24451293_rep1-AAACCCAAGAAATCCA                   0.239   \n",
       "SAM24451293_rep1-AAACCCAAGACAGTCG                   0.043   \n",
       "SAM24451293_rep1-AAACCCACAGACCCGT                   0.773   \n",
       "SAM24451293_rep1-AAACCCAGTAACGATA                   0.512   \n",
       "SAM24451293_rep1-AAACCCAGTACGACAG                   0.125   \n",
       "\n",
       "                                   energy_distance_statistic  \\\n",
       "SAM24451293_rep1-AAACCCAAGAAATCCA                   0.128099   \n",
       "SAM24451293_rep1-AAACCCAAGACAGTCG                   0.176627   \n",
       "SAM24451293_rep1-AAACCCACAGACCCGT                   0.097270   \n",
       "SAM24451293_rep1-AAACCCAGTAACGATA                   0.095749   \n",
       "SAM24451293_rep1-AAACCCAGTACGACAG                   0.121179   \n",
       "\n",
       "                                   energy_distance_control_key  \n",
       "SAM24451293_rep1-AAACCCAAGAAATCCA                         pool  \n",
       "SAM24451293_rep1-AAACCCAAGACAGTCG                         pool  \n",
       "SAM24451293_rep1-AAACCCACAGACCCGT                         pool  \n",
       "SAM24451293_rep1-AAACCCAGTAACGATA                         pool  \n",
       "SAM24451293_rep1-AAACCCAGTACGACAG                         pool  \n",
       "\n",
       "[5 rows x 31 columns]"
      ]
     },
     "execution_count": 43,
     "metadata": {},
     "output_type": "execute_result"
    }
   ],
   "source": [
    "df_uns.head()"
   ]
  },
  {
   "cell_type": "code",
   "execution_count": 44,
   "id": "8a128914-749a-45e3-9d07-f4056b0449e2",
   "metadata": {
    "execution": {
     "iopub.execute_input": "2024-08-07T05:12:16.624609Z",
     "iopub.status.busy": "2024-08-07T05:12:16.624398Z",
     "iopub.status.idle": "2024-08-07T05:12:16.751028Z",
     "shell.execute_reply": "2024-08-07T05:12:16.749452Z"
    },
    "papermill": {
     "duration": 0.138425,
     "end_time": "2024-08-07T05:12:16.752401",
     "exception": false,
     "start_time": "2024-08-07T05:12:16.613976",
     "status": "completed"
    },
    "tags": []
   },
   "outputs": [],
   "source": [
    "#df_uns.index = df_uns.index.astype(str)"
   ]
  },
  {
   "cell_type": "code",
   "execution_count": 45,
   "id": "af7b1be8-d644-4330-9583-f1c6ed76a553",
   "metadata": {
    "execution": {
     "iopub.execute_input": "2024-08-07T05:12:16.775045Z",
     "iopub.status.busy": "2024-08-07T05:12:16.774461Z",
     "iopub.status.idle": "2024-08-07T05:12:16.919812Z",
     "shell.execute_reply": "2024-08-07T05:12:16.917969Z"
    },
    "papermill": {
     "duration": 0.159293,
     "end_time": "2024-08-07T05:12:16.921485",
     "exception": false,
     "start_time": "2024-08-07T05:12:16.762192",
     "status": "completed"
    },
    "tags": []
   },
   "outputs": [],
   "source": [
    "df_uns = df_uns.drop(columns='energy_distance_control_key')"
   ]
  },
  {
   "cell_type": "code",
   "execution_count": 46,
   "id": "3069e8b2-8e6c-49d3-8da8-21978d35197c",
   "metadata": {
    "execution": {
     "iopub.execute_input": "2024-08-07T05:12:16.943918Z",
     "iopub.status.busy": "2024-08-07T05:12:16.942844Z",
     "iopub.status.idle": "2024-08-07T05:12:17.120110Z",
     "shell.execute_reply": "2024-08-07T05:12:17.119314Z"
    },
    "papermill": {
     "duration": 0.189225,
     "end_time": "2024-08-07T05:12:17.121715",
     "exception": false,
     "start_time": "2024-08-07T05:12:16.932490",
     "status": "completed"
    },
    "tags": []
   },
   "outputs": [],
   "source": [
    "df_uns['phenotype'] = 'No'\n",
    "df_uns.loc[df_uns['energy_distance_pvalue']<=pVAL, 'phenotype'] = 'Yes'"
   ]
  },
  {
   "cell_type": "code",
   "execution_count": 47,
   "id": "36ab0df3-09a7-44e5-a271-6c435008735c",
   "metadata": {
    "execution": {
     "iopub.execute_input": "2024-08-07T05:12:17.144420Z",
     "iopub.status.busy": "2024-08-07T05:12:17.143456Z",
     "iopub.status.idle": "2024-08-07T05:12:17.410948Z",
     "shell.execute_reply": "2024-08-07T05:12:17.410309Z"
    },
    "papermill": {
     "duration": 0.279886,
     "end_time": "2024-08-07T05:12:17.412131",
     "exception": false,
     "start_time": "2024-08-07T05:12:17.132245",
     "status": "completed"
    },
    "tags": []
   },
   "outputs": [
    {
     "data": {
      "text/plain": [
       "1350"
      ]
     },
     "execution_count": 47,
     "metadata": {},
     "output_type": "execute_result"
    }
   ],
   "source": [
    "PHENO = df_uns[df_uns['phenotype']=='Yes'].copy()\n",
    "PHENO['gene_symbol'].nunique()"
   ]
  },
  {
   "cell_type": "markdown",
   "id": "79d8b13c-41a8-4557-a592-842f0cfb9a6d",
   "metadata": {
    "papermill": {
     "duration": 0.009776,
     "end_time": "2024-08-07T05:12:17.432938",
     "exception": false,
     "start_time": "2024-08-07T05:12:17.423162",
     "status": "completed"
    },
    "tags": []
   },
   "source": [
    "## Update the annadata object and write out the output"
   ]
  },
  {
   "cell_type": "code",
   "execution_count": 48,
   "id": "45121276-0370-43d6-bcb9-26fcb8d3c474",
   "metadata": {
    "execution": {
     "iopub.execute_input": "2024-08-07T05:12:17.455603Z",
     "iopub.status.busy": "2024-08-07T05:12:17.455247Z",
     "iopub.status.idle": "2024-08-07T05:12:17.604571Z",
     "shell.execute_reply": "2024-08-07T05:12:17.603250Z"
    },
    "papermill": {
     "duration": 0.161538,
     "end_time": "2024-08-07T05:12:17.605940",
     "exception": false,
     "start_time": "2024-08-07T05:12:17.444402",
     "status": "completed"
    },
    "tags": []
   },
   "outputs": [],
   "source": [
    "df_uns_ED = df_uns[['energy_distance_pvalue','energy_distance_statistic','phenotype']].copy()\n",
    "df_uns_ED = df_uns_ED.rename(columns={'phenotype': 'phenotype_@0.05'})"
   ]
  },
  {
   "cell_type": "code",
   "execution_count": 49,
   "id": "c7b5e19f-3075-4451-8e3f-37ac6fbb7667",
   "metadata": {
    "execution": {
     "iopub.execute_input": "2024-08-07T05:12:17.626860Z",
     "iopub.status.busy": "2024-08-07T05:12:17.626559Z",
     "iopub.status.idle": "2024-08-07T05:12:17.764432Z",
     "shell.execute_reply": "2024-08-07T05:12:17.763822Z"
    },
    "papermill": {
     "duration": 0.149708,
     "end_time": "2024-08-07T05:12:17.765739",
     "exception": false,
     "start_time": "2024-08-07T05:12:17.616031",
     "status": "completed"
    },
    "tags": []
   },
   "outputs": [],
   "source": [
    "if 'energy_distance' not in adata.uns:\n",
    "    adata.uns[\"energy_distance\"]={}"
   ]
  },
  {
   "cell_type": "code",
   "execution_count": 50,
   "id": "232ff50d-93c3-43de-bc61-58a777f63978",
   "metadata": {
    "execution": {
     "iopub.execute_input": "2024-08-07T05:12:17.787671Z",
     "iopub.status.busy": "2024-08-07T05:12:17.786740Z",
     "iopub.status.idle": "2024-08-07T05:12:17.894976Z",
     "shell.execute_reply": "2024-08-07T05:12:17.894304Z"
    },
    "papermill": {
     "duration": 0.120245,
     "end_time": "2024-08-07T05:12:17.896332",
     "exception": false,
     "start_time": "2024-08-07T05:12:17.776087",
     "status": "completed"
    },
    "tags": []
   },
   "outputs": [],
   "source": [
    "adata.uns[\"energy_distance\"][key_uns]=df_uns_ED"
   ]
  },
  {
   "cell_type": "code",
   "execution_count": 51,
   "id": "7ea8e887-a312-4e0b-a095-7331c08a6c27",
   "metadata": {
    "execution": {
     "iopub.execute_input": "2024-08-07T05:12:17.917443Z",
     "iopub.status.busy": "2024-08-07T05:12:17.916934Z",
     "iopub.status.idle": "2024-08-07T05:13:15.810659Z",
     "shell.execute_reply": "2024-08-07T05:13:15.809718Z"
    },
    "papermill": {
     "duration": 57.905874,
     "end_time": "2024-08-07T05:13:15.812373",
     "exception": false,
     "start_time": "2024-08-07T05:12:17.906499",
     "status": "completed"
    },
    "tags": []
   },
   "outputs": [],
   "source": [
    "adata.write(ED_file)"
   ]
  },
  {
   "cell_type": "markdown",
   "id": "cf54ed93-8ed8-49df-ac4e-0036135f09d2",
   "metadata": {
    "papermill": {
     "duration": 0.009937,
     "end_time": "2024-08-07T05:13:15.835714",
     "exception": false,
     "start_time": "2024-08-07T05:13:15.825777",
     "status": "completed"
    },
    "tags": []
   },
   "source": [
    "## Data Tabulation"
   ]
  },
  {
   "cell_type": "code",
   "execution_count": 52,
   "id": "ec3eb58c-cb70-4c93-bfbf-7d11abcbaddd",
   "metadata": {
    "execution": {
     "iopub.execute_input": "2024-08-07T05:13:15.856989Z",
     "iopub.status.busy": "2024-08-07T05:13:15.856556Z",
     "iopub.status.idle": "2024-08-07T05:13:16.878755Z",
     "shell.execute_reply": "2024-08-07T05:13:16.877943Z"
    },
    "papermill": {
     "duration": 1.03459,
     "end_time": "2024-08-07T05:13:16.880135",
     "exception": false,
     "start_time": "2024-08-07T05:13:15.845545",
     "status": "completed"
    },
    "tags": []
   },
   "outputs": [
    {
     "data": {
      "text/plain": [
       "SCN_class             phenotype\n",
       "DOXclus_CL34          No              131\n",
       "                      Yes              58\n",
       "DOXclus_DLD1          No            45547\n",
       "                      Yes           18269\n",
       "DOXclus_HCA7          No               12\n",
       "                      Yes               7\n",
       "DOXclus_HT55          No                1\n",
       "                      Yes               0\n",
       "DOXclus_MDST8         No               57\n",
       "                      Yes              29\n",
       "DOXclus_SW480         No                2\n",
       "                      Yes               1\n",
       "DOXclus_SW620         No                1\n",
       "                      Yes               0\n",
       "DOXclus_SW1463        No              651\n",
       "                      Yes             346\n",
       "Untreatedclus_CL34    No                6\n",
       "                      Yes               2\n",
       "Untreatedclus_DLD1    No           401923\n",
       "                      Yes          125378\n",
       "Untreatedclus_HT55    No                1\n",
       "                      Yes               0\n",
       "Untreatedclus_RCM1    No             1045\n",
       "                      Yes             565\n",
       "Untreatedclus_SKCO1   No               39\n",
       "                      Yes              23\n",
       "Untreatedclus_SW403   No                2\n",
       "                      Yes               1\n",
       "Untreatedclus_SW620   No              167\n",
       "                      Yes              96\n",
       "Untreatedclus_SW837   No               28\n",
       "                      Yes              17\n",
       "Untreatedclus_SW948   No                1\n",
       "                      Yes               1\n",
       "Untreatedclus_SW1417  No               49\n",
       "                      Yes              22\n",
       "Untreatedclus_SW1463  No              117\n",
       "                      Yes              73\n",
       "Untreatedclus_T84     No              199\n",
       "                      Yes             117\n",
       "rand                  No              410\n",
       "                      Yes             209\n",
       "Name: gene_symbol, dtype: int64"
      ]
     },
     "execution_count": 52,
     "metadata": {},
     "output_type": "execute_result"
    }
   ],
   "source": [
    "df_uns.groupby(['SCN_class', 'phenotype'])['gene_symbol'].size()"
   ]
  },
  {
   "cell_type": "code",
   "execution_count": 53,
   "id": "9fd44015-b144-450d-964a-1d196a326fe7",
   "metadata": {
    "execution": {
     "iopub.execute_input": "2024-08-07T05:13:16.902508Z",
     "iopub.status.busy": "2024-08-07T05:13:16.902238Z",
     "iopub.status.idle": "2024-08-07T05:13:17.091708Z",
     "shell.execute_reply": "2024-08-07T05:13:17.090580Z"
    },
    "papermill": {
     "duration": 0.201777,
     "end_time": "2024-08-07T05:13:17.093093",
     "exception": false,
     "start_time": "2024-08-07T05:13:16.891316",
     "status": "completed"
    },
    "tags": []
   },
   "outputs": [
    {
     "data": {
      "text/html": [
       "<div>\n",
       "<style scoped>\n",
       "    .dataframe tbody tr th:only-of-type {\n",
       "        vertical-align: middle;\n",
       "    }\n",
       "\n",
       "    .dataframe tbody tr th {\n",
       "        vertical-align: top;\n",
       "    }\n",
       "\n",
       "    .dataframe thead th {\n",
       "        text-align: right;\n",
       "    }\n",
       "</style>\n",
       "<table border=\"1\" class=\"dataframe\">\n",
       "  <thead>\n",
       "    <tr style=\"text-align: right;\">\n",
       "      <th></th>\n",
       "      <th>gene_symbol</th>\n",
       "      <th>cnt</th>\n",
       "    </tr>\n",
       "  </thead>\n",
       "  <tbody>\n",
       "    <tr>\n",
       "      <th>1154</th>\n",
       "      <td>TCF7L2</td>\n",
       "      <td>118</td>\n",
       "    </tr>\n",
       "    <tr>\n",
       "      <th>223</th>\n",
       "      <td>CTNNB1</td>\n",
       "      <td>78</td>\n",
       "    </tr>\n",
       "    <tr>\n",
       "      <th>693</th>\n",
       "      <td>MYC</td>\n",
       "      <td>65</td>\n",
       "    </tr>\n",
       "    <tr>\n",
       "      <th>711</th>\n",
       "      <td>NELFB</td>\n",
       "      <td>47</td>\n",
       "    </tr>\n",
       "    <tr>\n",
       "      <th>712</th>\n",
       "      <td>NELFCD</td>\n",
       "      <td>43</td>\n",
       "    </tr>\n",
       "    <tr>\n",
       "      <th>...</th>\n",
       "      <td>...</td>\n",
       "      <td>...</td>\n",
       "    </tr>\n",
       "    <tr>\n",
       "      <th>616</th>\n",
       "      <td>MAGOH</td>\n",
       "      <td>1</td>\n",
       "    </tr>\n",
       "    <tr>\n",
       "      <th>962</th>\n",
       "      <td>RGPD6</td>\n",
       "      <td>1</td>\n",
       "    </tr>\n",
       "    <tr>\n",
       "      <th>904</th>\n",
       "      <td>PSMB6</td>\n",
       "      <td>1</td>\n",
       "    </tr>\n",
       "    <tr>\n",
       "      <th>1079</th>\n",
       "      <td>SNIP1</td>\n",
       "      <td>1</td>\n",
       "    </tr>\n",
       "    <tr>\n",
       "      <th>100</th>\n",
       "      <td>BUB3</td>\n",
       "      <td>1</td>\n",
       "    </tr>\n",
       "  </tbody>\n",
       "</table>\n",
       "<p>1346 rows × 2 columns</p>\n",
       "</div>"
      ],
      "text/plain": [
       "     gene_symbol  cnt\n",
       "1154      TCF7L2  118\n",
       "223       CTNNB1   78\n",
       "693          MYC   65\n",
       "711        NELFB   47\n",
       "712       NELFCD   43\n",
       "...          ...  ...\n",
       "616        MAGOH    1\n",
       "962        RGPD6    1\n",
       "904        PSMB6    1\n",
       "1079       SNIP1    1\n",
       "100         BUB3    1\n",
       "\n",
       "[1346 rows x 2 columns]"
      ]
     },
     "execution_count": 53,
     "metadata": {},
     "output_type": "execute_result"
    }
   ],
   "source": [
    "df_uns[(df_uns['phenotype']=='Yes')&(df_uns['SCN_class']=='DOXclus_DLD1')].groupby(\n",
    "    ['gene_symbol'])['DemuxAssignment_crispr'].count().reset_index(name='cnt').sort_values(by='cnt', ascending=False)"
   ]
  },
  {
   "cell_type": "code",
   "execution_count": 54,
   "id": "e3c37d1c-f067-48f7-a2a2-a8875b71bdbf",
   "metadata": {
    "execution": {
     "iopub.execute_input": "2024-08-07T05:13:17.115504Z",
     "iopub.status.busy": "2024-08-07T05:13:17.115233Z",
     "iopub.status.idle": "2024-08-07T05:13:17.351681Z",
     "shell.execute_reply": "2024-08-07T05:13:17.351072Z"
    },
    "papermill": {
     "duration": 0.249288,
     "end_time": "2024-08-07T05:13:17.353583",
     "exception": false,
     "start_time": "2024-08-07T05:13:17.104295",
     "status": "completed"
    },
    "tags": []
   },
   "outputs": [
    {
     "data": {
      "text/html": [
       "<div>\n",
       "<style scoped>\n",
       "    .dataframe tbody tr th:only-of-type {\n",
       "        vertical-align: middle;\n",
       "    }\n",
       "\n",
       "    .dataframe tbody tr th {\n",
       "        vertical-align: top;\n",
       "    }\n",
       "\n",
       "    .dataframe thead th {\n",
       "        text-align: right;\n",
       "    }\n",
       "</style>\n",
       "<table border=\"1\" class=\"dataframe\">\n",
       "  <thead>\n",
       "    <tr style=\"text-align: right;\">\n",
       "      <th></th>\n",
       "      <th>gene_symbol</th>\n",
       "      <th>cnt</th>\n",
       "    </tr>\n",
       "  </thead>\n",
       "  <tbody>\n",
       "    <tr>\n",
       "      <th>1158</th>\n",
       "      <td>TCF7L2</td>\n",
       "      <td>362</td>\n",
       "    </tr>\n",
       "    <tr>\n",
       "      <th>38</th>\n",
       "      <td>AOC3</td>\n",
       "      <td>188</td>\n",
       "    </tr>\n",
       "    <tr>\n",
       "      <th>223</th>\n",
       "      <td>CTNNA1</td>\n",
       "      <td>178</td>\n",
       "    </tr>\n",
       "    <tr>\n",
       "      <th>463</th>\n",
       "      <td>GPR107</td>\n",
       "      <td>168</td>\n",
       "    </tr>\n",
       "    <tr>\n",
       "      <th>538</th>\n",
       "      <td>IL15</td>\n",
       "      <td>162</td>\n",
       "    </tr>\n",
       "    <tr>\n",
       "      <th>...</th>\n",
       "      <td>...</td>\n",
       "      <td>...</td>\n",
       "    </tr>\n",
       "    <tr>\n",
       "      <th>903</th>\n",
       "      <td>PSMA6</td>\n",
       "      <td>7</td>\n",
       "    </tr>\n",
       "    <tr>\n",
       "      <th>857</th>\n",
       "      <td>POLR2B</td>\n",
       "      <td>7</td>\n",
       "    </tr>\n",
       "    <tr>\n",
       "      <th>848</th>\n",
       "      <td>PLK1</td>\n",
       "      <td>6</td>\n",
       "    </tr>\n",
       "    <tr>\n",
       "      <th>963</th>\n",
       "      <td>RGPD5</td>\n",
       "      <td>4</td>\n",
       "    </tr>\n",
       "    <tr>\n",
       "      <th>280</th>\n",
       "      <td>DUX4</td>\n",
       "      <td>2</td>\n",
       "    </tr>\n",
       "  </tbody>\n",
       "</table>\n",
       "<p>1350 rows × 2 columns</p>\n",
       "</div>"
      ],
      "text/plain": [
       "     gene_symbol  cnt\n",
       "1158      TCF7L2  362\n",
       "38          AOC3  188\n",
       "223       CTNNA1  178\n",
       "463       GPR107  168\n",
       "538         IL15  162\n",
       "...          ...  ...\n",
       "903        PSMA6    7\n",
       "857       POLR2B    7\n",
       "848         PLK1    6\n",
       "963        RGPD5    4\n",
       "280         DUX4    2\n",
       "\n",
       "[1350 rows x 2 columns]"
      ]
     },
     "execution_count": 54,
     "metadata": {},
     "output_type": "execute_result"
    }
   ],
   "source": [
    "df_uns[(df_uns['phenotype']=='Yes')&(df_uns['SCN_class']=='Untreatedclus_DLD1')].groupby(\n",
    "    ['gene_symbol'])['DemuxAssignment_crispr'].count().reset_index(name='cnt').sort_values(by='cnt', ascending=False)"
   ]
  },
  {
   "cell_type": "code",
   "execution_count": 55,
   "id": "a365181e-bf76-4c91-9bc1-44fc8510f75e",
   "metadata": {
    "execution": {
     "iopub.execute_input": "2024-08-07T05:13:17.377240Z",
     "iopub.status.busy": "2024-08-07T05:13:17.376916Z",
     "iopub.status.idle": "2024-08-07T05:13:17.577655Z",
     "shell.execute_reply": "2024-08-07T05:13:17.576883Z"
    },
    "papermill": {
     "duration": 0.213303,
     "end_time": "2024-08-07T05:13:17.578934",
     "exception": false,
     "start_time": "2024-08-07T05:13:17.365631",
     "status": "completed"
    },
    "tags": []
   },
   "outputs": [
    {
     "data": {
      "text/html": [
       "<div>\n",
       "<style scoped>\n",
       "    .dataframe tbody tr th:only-of-type {\n",
       "        vertical-align: middle;\n",
       "    }\n",
       "\n",
       "    .dataframe tbody tr th {\n",
       "        vertical-align: top;\n",
       "    }\n",
       "\n",
       "    .dataframe thead th {\n",
       "        text-align: right;\n",
       "    }\n",
       "</style>\n",
       "<table border=\"1\" class=\"dataframe\">\n",
       "  <thead>\n",
       "    <tr style=\"text-align: right;\">\n",
       "      <th></th>\n",
       "      <th>gene_symbol</th>\n",
       "      <th>cnt</th>\n",
       "    </tr>\n",
       "  </thead>\n",
       "  <tbody>\n",
       "    <tr>\n",
       "      <th>1158</th>\n",
       "      <td>TCF7L2</td>\n",
       "      <td>484</td>\n",
       "    </tr>\n",
       "    <tr>\n",
       "      <th>38</th>\n",
       "      <td>AOC3</td>\n",
       "      <td>217</td>\n",
       "    </tr>\n",
       "    <tr>\n",
       "      <th>223</th>\n",
       "      <td>CTNNA1</td>\n",
       "      <td>199</td>\n",
       "    </tr>\n",
       "    <tr>\n",
       "      <th>463</th>\n",
       "      <td>GPR107</td>\n",
       "      <td>183</td>\n",
       "    </tr>\n",
       "    <tr>\n",
       "      <th>538</th>\n",
       "      <td>IL15</td>\n",
       "      <td>177</td>\n",
       "    </tr>\n",
       "    <tr>\n",
       "      <th>290</th>\n",
       "      <td>EFCAB13</td>\n",
       "      <td>174</td>\n",
       "    </tr>\n",
       "    <tr>\n",
       "      <th>1009</th>\n",
       "      <td>RUNX2</td>\n",
       "      <td>173</td>\n",
       "    </tr>\n",
       "    <tr>\n",
       "      <th>506</th>\n",
       "      <td>HP1BP3</td>\n",
       "      <td>172</td>\n",
       "    </tr>\n",
       "    <tr>\n",
       "      <th>479</th>\n",
       "      <td>GTF2H5</td>\n",
       "      <td>172</td>\n",
       "    </tr>\n",
       "    <tr>\n",
       "      <th>476</th>\n",
       "      <td>GSTK1</td>\n",
       "      <td>172</td>\n",
       "    </tr>\n",
       "    <tr>\n",
       "      <th>855</th>\n",
       "      <td>POLK</td>\n",
       "      <td>170</td>\n",
       "    </tr>\n",
       "    <tr>\n",
       "      <th>372</th>\n",
       "      <td>F11R</td>\n",
       "      <td>170</td>\n",
       "    </tr>\n",
       "    <tr>\n",
       "      <th>21</th>\n",
       "      <td>ALG13</td>\n",
       "      <td>167</td>\n",
       "    </tr>\n",
       "    <tr>\n",
       "      <th>633</th>\n",
       "      <td>MCMDC2</td>\n",
       "      <td>167</td>\n",
       "    </tr>\n",
       "    <tr>\n",
       "      <th>438</th>\n",
       "      <td>GIGYF2</td>\n",
       "      <td>167</td>\n",
       "    </tr>\n",
       "    <tr>\n",
       "      <th>467</th>\n",
       "      <td>GPRC6A</td>\n",
       "      <td>166</td>\n",
       "    </tr>\n",
       "    <tr>\n",
       "      <th>1349</th>\n",
       "      <td>ZUP1</td>\n",
       "      <td>166</td>\n",
       "    </tr>\n",
       "    <tr>\n",
       "      <th>671</th>\n",
       "      <td>MOCOS</td>\n",
       "      <td>165</td>\n",
       "    </tr>\n",
       "    <tr>\n",
       "      <th>318</th>\n",
       "      <td>ENPP6</td>\n",
       "      <td>164</td>\n",
       "    </tr>\n",
       "    <tr>\n",
       "      <th>648</th>\n",
       "      <td>MEI1</td>\n",
       "      <td>164</td>\n",
       "    </tr>\n",
       "    <tr>\n",
       "      <th>661</th>\n",
       "      <td>MINAR2</td>\n",
       "      <td>164</td>\n",
       "    </tr>\n",
       "    <tr>\n",
       "      <th>599</th>\n",
       "      <td>LRP2</td>\n",
       "      <td>164</td>\n",
       "    </tr>\n",
       "    <tr>\n",
       "      <th>230</th>\n",
       "      <td>DAG1</td>\n",
       "      <td>163</td>\n",
       "    </tr>\n",
       "    <tr>\n",
       "      <th>62</th>\n",
       "      <td>ATF4</td>\n",
       "      <td>163</td>\n",
       "    </tr>\n",
       "    <tr>\n",
       "      <th>32</th>\n",
       "      <td>ANKRD22</td>\n",
       "      <td>162</td>\n",
       "    </tr>\n",
       "    <tr>\n",
       "      <th>291</th>\n",
       "      <td>EFL1</td>\n",
       "      <td>162</td>\n",
       "    </tr>\n",
       "    <tr>\n",
       "      <th>354</th>\n",
       "      <td>EPB41L5</td>\n",
       "      <td>162</td>\n",
       "    </tr>\n",
       "    <tr>\n",
       "      <th>825</th>\n",
       "      <td>PDILT</td>\n",
       "      <td>161</td>\n",
       "    </tr>\n",
       "    <tr>\n",
       "      <th>18</th>\n",
       "      <td>ALB</td>\n",
       "      <td>161</td>\n",
       "    </tr>\n",
       "    <tr>\n",
       "      <th>310</th>\n",
       "      <td>ELF2</td>\n",
       "      <td>161</td>\n",
       "    </tr>\n",
       "  </tbody>\n",
       "</table>\n",
       "</div>"
      ],
      "text/plain": [
       "     gene_symbol  cnt\n",
       "1158      TCF7L2  484\n",
       "38          AOC3  217\n",
       "223       CTNNA1  199\n",
       "463       GPR107  183\n",
       "538         IL15  177\n",
       "290      EFCAB13  174\n",
       "1009       RUNX2  173\n",
       "506       HP1BP3  172\n",
       "479       GTF2H5  172\n",
       "476        GSTK1  172\n",
       "855         POLK  170\n",
       "372         F11R  170\n",
       "21         ALG13  167\n",
       "633       MCMDC2  167\n",
       "438       GIGYF2  167\n",
       "467       GPRC6A  166\n",
       "1349        ZUP1  166\n",
       "671        MOCOS  165\n",
       "318        ENPP6  164\n",
       "648         MEI1  164\n",
       "661       MINAR2  164\n",
       "599         LRP2  164\n",
       "230         DAG1  163\n",
       "62          ATF4  163\n",
       "32       ANKRD22  162\n",
       "291         EFL1  162\n",
       "354      EPB41L5  162\n",
       "825        PDILT  161\n",
       "18           ALB  161\n",
       "310         ELF2  161"
      ]
     },
     "execution_count": 55,
     "metadata": {},
     "output_type": "execute_result"
    }
   ],
   "source": [
    "df_uns[(df_uns['phenotype']=='Yes')].groupby(\n",
    "    ['gene_symbol'])['DemuxAssignment_crispr'].count().reset_index(name='cnt').sort_values(by='cnt', ascending=False)[:30]"
   ]
  },
  {
   "cell_type": "markdown",
   "id": "a2cd6558-ef8d-4396-ad9d-847834d10d6b",
   "metadata": {
    "papermill": {
     "duration": 0.010337,
     "end_time": "2024-08-07T05:13:17.600832",
     "exception": false,
     "start_time": "2024-08-07T05:13:17.590495",
     "status": "completed"
    },
    "tags": []
   },
   "source": [
    "## Data Visulaization"
   ]
  },
  {
   "cell_type": "code",
   "execution_count": 56,
   "id": "8b14c8f2-f789-474b-b7d1-d152098846ab",
   "metadata": {
    "execution": {
     "iopub.execute_input": "2024-08-07T05:13:17.622527Z",
     "iopub.status.busy": "2024-08-07T05:13:17.622125Z",
     "iopub.status.idle": "2024-08-07T05:13:18.656369Z",
     "shell.execute_reply": "2024-08-07T05:13:18.655635Z"
    },
    "papermill": {
     "duration": 1.046967,
     "end_time": "2024-08-07T05:13:18.657983",
     "exception": false,
     "start_time": "2024-08-07T05:13:17.611016",
     "status": "completed"
    },
    "tags": []
   },
   "outputs": [
    {
     "data": {
      "text/plain": [
       "<AxesSubplot: xlabel='energy_distance_pvalue', ylabel='Count'>"
      ]
     },
     "execution_count": 56,
     "metadata": {},
     "output_type": "execute_result"
    },
    {
     "data": {
      "image/png": "[encoded data removed]",
      "text/plain": [
       "<Figure size 640x480 with 1 Axes>"
      ]
     },
     "metadata": {},
     "output_type": "display_data"
    }
   ],
   "source": [
    "sns.histplot(-np.log10(df_uns['energy_distance_pvalue']))"
   ]
  }
 ],
 "metadata": {
  "kernelspec": {
   "display_name": "gpuy310",
   "language": "python",
   "name": "gpuy310"
  },
  "language_info": {
   "codemirror_mode": {
    "name": "ipython",
    "version": 3
   },
   "file_extension": ".py",
   "mimetype": "text/x-python",
   "name": "python",
   "nbconvert_exporter": "python",
   "pygments_lexer": "ipython3",
   "version": "3.10.8"
  },
  "papermill": {
   "default_parameters": {},
   "duration": 1942.25311,
   "end_time": "2024-08-07T05:13:29.356088",
   "environment_variables": {},
   "exception": null,
   "input_path": "./Templates/EnergyDistance.ipynb",
   "output_path": "/gstore/home/ghaffars/Cumulus/crc_dld1_sublib1_bdev/crop-seq-pipeline/Reports/DS000017114_EnergyDistance_500NTCs_pca_centered.ipynb",
   "parameters": {
    "DEV": false,
    "DS_test": false,
    "DatasetID": "DS000017114",
    "ED_file": "/gstore/project/crc_recursion_gw/DLD1_Sublib1_bdev//DS000017114/Energy_Distance/e_dist_all.h5ad",
    "author": "SG",
    "description": "Production scale screen in DLD-1 cells with 1/4 of the genome-wide CRISPR library (sub-lib-1, ~22K guides). 1 time point: Day-5. We performed 24 rxns of 10x 3' HT kit with an estimated loading of 52K cells. We performed a pilot study to test the library quality before the production-level sequencing. We will submit 72 libraries (24 GEX, 24 HTO and 24 sgRNA) We estimate need 600M for GEX, 30M for HTO and 50M for sgRNA. This is a repeat run to correct chip loading.",
    "embeddings_key": "X_pca_centered",
    "i": 10,
    "key_uns": "perGene_pca_centered_10",
    "n": 500,
    "name_space": [
     {
      "id": "GRCh38",
      "type": "genome"
     }
    ],
    "organism": "human",
    "out_csv": "/gstore/project/crc_recursion_gw/DLD1_Sublib1_bdev//DS000017114/Energy_Distance/e_dist_500NTCs_pca_centered_10.csv",
    "pVAL": 0.05,
    "sources": [
     {
      "id": "Siavash-1234",
      "name": "Geo-ID"
     }
    ],
    "tech_name": "scRNA-seq",
    "test_DatasetID": "",
    "title": "Recursion DLD1 Library1 Screen Day 5- combination of NGS 5774 and NGS 5702"
   },
   "start_time": "2024-08-07T04:41:07.102978",
   "version": "2.6.0"
  },
  "widgets": {
   "application/vnd.jupyter.widget-state+json": {
    "state": {},
    "version_major": 2,
    "version_minor": 0
   }
  }
 },
 "nbformat": 4,
 "nbformat_minor": 5
}