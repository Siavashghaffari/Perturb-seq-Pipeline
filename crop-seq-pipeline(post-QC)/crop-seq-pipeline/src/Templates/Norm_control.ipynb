{
 "cells": [
  {
   "cell_type": "markdown",
   "id": "cabe2d9f-f480-4e0f-b318-d3e8cdda2da9",
   "metadata": {},
   "source": [
    "# Normalization to Control: This notebook provides a new normaliaztion to control method based on gem (made from experiment_ID and 10xrun) column"
   ]
  },
  {
   "cell_type": "code",
   "execution_count": 1,
   "id": "9b9daf32-cb5d-4ec3-bf46-cf408354b948",
   "metadata": {},
   "outputs": [],
   "source": [
    "import sys\n",
    "sys.path.append(\"..\")\n",
    "import Templates.tools.DatasetDB as DB\n",
    "import Templates.tools.normalization_replogle as norm\n",
    "import scanpy as sc\n",
    "from tqdm import tqdm\n",
    "import os\n",
    "import time"
   ]
  },
  {
   "cell_type": "code",
   "execution_count": 2,
   "id": "6afbc758-2a24-4472-ac99-90c789edfc4b",
   "metadata": {},
   "outputs": [],
   "source": [
    "#DSID = DatasetID\n",
    "your_experiment = \"raw_qc\" # A string that is a key known for our desired experimnet that you wish to work on\n",
    "Version = '1'"
   ]
  },
  {
   "cell_type": "markdown",
   "id": "6c784854-d931-404c-9e26-05c1aa0ec061",
   "metadata": {},
   "source": [
    "## Load the dataset"
   ]
  },
  {
   "cell_type": "code",
   "execution_count": null,
   "id": "152f763a-66fe-43ee-b634-08b82674cac9",
   "metadata": {},
   "outputs": [],
   "source": [
    "if use_DSDB:\n",
    "    ## Instantiate a dataset object given our dataset info\n",
    "    DS = DB.DATASET(DSID, DEV)\n",
    "    adata, adatas = DS.load_dataset(Version, your_experiment,Corr=False)\n",
    "else:\n",
    "    adata = sc.read_h5ad(raw_qc)"
   ]
  },
  {
   "cell_type": "code",
   "execution_count": null,
   "id": "72faf7d7-247c-47a7-97e3-61acca367ce2",
   "metadata": {},
   "outputs": [],
   "source": [
    "adata"
   ]
  },
  {
   "cell_type": "code",
   "execution_count": 8,
   "id": "236f9219-2e53-44f9-849b-fa95978bb3ab",
   "metadata": {},
   "outputs": [
    {
     "data": {
      "text/html": [
       "<div>\n",
       "<style scoped>\n",
       "    .dataframe tbody tr th:only-of-type {\n",
       "        vertical-align: middle;\n",
       "    }\n",
       "\n",
       "    .dataframe tbody tr th {\n",
       "        vertical-align: top;\n",
       "    }\n",
       "\n",
       "    .dataframe thead th {\n",
       "        text-align: right;\n",
       "    }\n",
       "</style>\n",
       "<table border=\"1\" class=\"dataframe\">\n",
       "  <thead>\n",
       "    <tr style=\"text-align: right;\">\n",
       "      <th></th>\n",
       "      <th>Sample</th>\n",
       "      <th>Barcode</th>\n",
       "      <th>DemuxType_crispr</th>\n",
       "      <th>DemuxAssignment_crispr</th>\n",
       "      <th>DemuxType_hashing</th>\n",
       "      <th>DemuxAssignment_hashing</th>\n",
       "      <th>cellline</th>\n",
       "      <th>timepoint</th>\n",
       "      <th>HTO</th>\n",
       "      <th>NGS_ID</th>\n",
       "      <th>...</th>\n",
       "      <th>total_counts</th>\n",
       "      <th>total_counts_mt</th>\n",
       "      <th>pct_counts_mt</th>\n",
       "      <th>total_counts_ribo</th>\n",
       "      <th>pct_counts_ribo</th>\n",
       "      <th>qc_pass</th>\n",
       "      <th>S_score</th>\n",
       "      <th>G2M_score</th>\n",
       "      <th>phase</th>\n",
       "      <th>SCN_class</th>\n",
       "    </tr>\n",
       "  </thead>\n",
       "  <tbody>\n",
       "    <tr>\n",
       "      <th>SAM24443678_rep1-AAACCCAAGGAATCGC</th>\n",
       "      <td>SAM24443678</td>\n",
       "      <td>AAACCCAAGGAATCGC</td>\n",
       "      <td>singlet</td>\n",
       "      <td>ENSG00000135093_3</td>\n",
       "      <td>singlet</td>\n",
       "      <td>SAM24439045</td>\n",
       "      <td>DLD1</td>\n",
       "      <td>day5</td>\n",
       "      <td>HTO-7</td>\n",
       "      <td>NGS5570</td>\n",
       "      <td>...</td>\n",
       "      <td>4502</td>\n",
       "      <td>113</td>\n",
       "      <td>2.509996</td>\n",
       "      <td>1005</td>\n",
       "      <td>22.323412</td>\n",
       "      <td>True</td>\n",
       "      <td>-0.125123</td>\n",
       "      <td>0.574766</td>\n",
       "      <td>G2M</td>\n",
       "      <td>Untreatedclus_DLD1</td>\n",
       "    </tr>\n",
       "    <tr>\n",
       "      <th>SAM24443678_rep1-AAACCCAAGTCTTCCC</th>\n",
       "      <td>SAM24443678</td>\n",
       "      <td>AAACCCAAGTCTTCCC</td>\n",
       "      <td>singlet</td>\n",
       "      <td>ENSG00000181915_1</td>\n",
       "      <td>singlet</td>\n",
       "      <td>SAM24439044</td>\n",
       "      <td>DLD1</td>\n",
       "      <td>day5</td>\n",
       "      <td>HTO-5</td>\n",
       "      <td>NGS5570</td>\n",
       "      <td>...</td>\n",
       "      <td>17960</td>\n",
       "      <td>457</td>\n",
       "      <td>2.544543</td>\n",
       "      <td>3493</td>\n",
       "      <td>19.448775</td>\n",
       "      <td>True</td>\n",
       "      <td>-0.132656</td>\n",
       "      <td>0.891312</td>\n",
       "      <td>G2M</td>\n",
       "      <td>Untreatedclus_DLD1</td>\n",
       "    </tr>\n",
       "    <tr>\n",
       "      <th>SAM24443678_rep1-AAACCCACACAGCTGC</th>\n",
       "      <td>SAM24443678</td>\n",
       "      <td>AAACCCACACAGCTGC</td>\n",
       "      <td>singlet</td>\n",
       "      <td>ENSG00000288711_4</td>\n",
       "      <td>singlet</td>\n",
       "      <td>SAM24439044</td>\n",
       "      <td>DLD1</td>\n",
       "      <td>day5</td>\n",
       "      <td>HTO-4</td>\n",
       "      <td>NGS5570</td>\n",
       "      <td>...</td>\n",
       "      <td>10160</td>\n",
       "      <td>286</td>\n",
       "      <td>2.814961</td>\n",
       "      <td>2186</td>\n",
       "      <td>21.515748</td>\n",
       "      <td>True</td>\n",
       "      <td>0.000873</td>\n",
       "      <td>-0.068536</td>\n",
       "      <td>S</td>\n",
       "      <td>Untreatedclus_DLD1</td>\n",
       "    </tr>\n",
       "    <tr>\n",
       "      <th>SAM24443678_rep1-AAACCCACATGAATAG</th>\n",
       "      <td>SAM24443678</td>\n",
       "      <td>AAACCCACATGAATAG</td>\n",
       "      <td>singlet</td>\n",
       "      <td>ENSG00000103365_2</td>\n",
       "      <td>singlet</td>\n",
       "      <td>SAM24439045</td>\n",
       "      <td>DLD1</td>\n",
       "      <td>day5</td>\n",
       "      <td>HTO-18</td>\n",
       "      <td>NGS5570</td>\n",
       "      <td>...</td>\n",
       "      <td>10772</td>\n",
       "      <td>392</td>\n",
       "      <td>3.639064</td>\n",
       "      <td>2119</td>\n",
       "      <td>19.671370</td>\n",
       "      <td>True</td>\n",
       "      <td>0.134622</td>\n",
       "      <td>-0.171513</td>\n",
       "      <td>S</td>\n",
       "      <td>Untreatedclus_DLD1</td>\n",
       "    </tr>\n",
       "    <tr>\n",
       "      <th>SAM24443678_rep1-AAACCCATCGACCATA</th>\n",
       "      <td>SAM24443678</td>\n",
       "      <td>AAACCCATCGACCATA</td>\n",
       "      <td>singlet</td>\n",
       "      <td>ENSG00000139190_2</td>\n",
       "      <td>singlet</td>\n",
       "      <td>SAM24439045</td>\n",
       "      <td>DLD1</td>\n",
       "      <td>day5</td>\n",
       "      <td>HTO-7</td>\n",
       "      <td>NGS5570</td>\n",
       "      <td>...</td>\n",
       "      <td>9160</td>\n",
       "      <td>383</td>\n",
       "      <td>4.181223</td>\n",
       "      <td>1452</td>\n",
       "      <td>15.851528</td>\n",
       "      <td>True</td>\n",
       "      <td>0.075554</td>\n",
       "      <td>0.427137</td>\n",
       "      <td>G2M</td>\n",
       "      <td>Untreatedclus_DLD1</td>\n",
       "    </tr>\n",
       "    <tr>\n",
       "      <th>...</th>\n",
       "      <td>...</td>\n",
       "      <td>...</td>\n",
       "      <td>...</td>\n",
       "      <td>...</td>\n",
       "      <td>...</td>\n",
       "      <td>...</td>\n",
       "      <td>...</td>\n",
       "      <td>...</td>\n",
       "      <td>...</td>\n",
       "      <td>...</td>\n",
       "      <td>...</td>\n",
       "      <td>...</td>\n",
       "      <td>...</td>\n",
       "      <td>...</td>\n",
       "      <td>...</td>\n",
       "      <td>...</td>\n",
       "      <td>...</td>\n",
       "      <td>...</td>\n",
       "      <td>...</td>\n",
       "      <td>...</td>\n",
       "      <td>...</td>\n",
       "    </tr>\n",
       "    <tr>\n",
       "      <th>SAM24443678_rep24-TTTGTTGGTATGAGGC</th>\n",
       "      <td>SAM24443678</td>\n",
       "      <td>TTTGTTGGTATGAGGC</td>\n",
       "      <td>singlet</td>\n",
       "      <td>ENSG00000185024_4</td>\n",
       "      <td>singlet</td>\n",
       "      <td>SAM24439045</td>\n",
       "      <td>DLD1</td>\n",
       "      <td>day5</td>\n",
       "      <td>HTO-8</td>\n",
       "      <td>NGS5570</td>\n",
       "      <td>...</td>\n",
       "      <td>5415</td>\n",
       "      <td>305</td>\n",
       "      <td>5.632502</td>\n",
       "      <td>993</td>\n",
       "      <td>18.337950</td>\n",
       "      <td>True</td>\n",
       "      <td>-0.594545</td>\n",
       "      <td>-0.008441</td>\n",
       "      <td>G1</td>\n",
       "      <td>Untreatedclus_DLD1</td>\n",
       "    </tr>\n",
       "    <tr>\n",
       "      <th>SAM24443678_rep24-TTTGTTGGTTTACGTG</th>\n",
       "      <td>SAM24443678</td>\n",
       "      <td>TTTGTTGGTTTACGTG</td>\n",
       "      <td>singlet</td>\n",
       "      <td>ENSG00000073282_4</td>\n",
       "      <td>singlet</td>\n",
       "      <td>SAM24439044</td>\n",
       "      <td>DLD1</td>\n",
       "      <td>day5</td>\n",
       "      <td>HTO-15</td>\n",
       "      <td>NGS5570</td>\n",
       "      <td>...</td>\n",
       "      <td>8771</td>\n",
       "      <td>126</td>\n",
       "      <td>1.436552</td>\n",
       "      <td>1507</td>\n",
       "      <td>17.181621</td>\n",
       "      <td>True</td>\n",
       "      <td>-0.381656</td>\n",
       "      <td>1.300689</td>\n",
       "      <td>G2M</td>\n",
       "      <td>Untreatedclus_DLD1</td>\n",
       "    </tr>\n",
       "    <tr>\n",
       "      <th>SAM24443678_rep24-TTTGTTGTCAGACCCG</th>\n",
       "      <td>SAM24443678</td>\n",
       "      <td>TTTGTTGTCAGACCCG</td>\n",
       "      <td>singlet</td>\n",
       "      <td>ENSG00000169946_1</td>\n",
       "      <td>singlet</td>\n",
       "      <td>SAM24439044</td>\n",
       "      <td>DLD1</td>\n",
       "      <td>day5</td>\n",
       "      <td>HTO-15</td>\n",
       "      <td>NGS5570</td>\n",
       "      <td>...</td>\n",
       "      <td>8692</td>\n",
       "      <td>333</td>\n",
       "      <td>3.831109</td>\n",
       "      <td>1544</td>\n",
       "      <td>17.763461</td>\n",
       "      <td>True</td>\n",
       "      <td>0.138666</td>\n",
       "      <td>-0.371232</td>\n",
       "      <td>S</td>\n",
       "      <td>Untreatedclus_DLD1</td>\n",
       "    </tr>\n",
       "    <tr>\n",
       "      <th>SAM24443678_rep24-TTTGTTGTCCTTATAC</th>\n",
       "      <td>SAM24443678</td>\n",
       "      <td>TTTGTTGTCCTTATAC</td>\n",
       "      <td>singlet</td>\n",
       "      <td>ENSG00000089775_3</td>\n",
       "      <td>singlet</td>\n",
       "      <td>SAM24439043</td>\n",
       "      <td>DLD1</td>\n",
       "      <td>day5</td>\n",
       "      <td>HTO-10</td>\n",
       "      <td>NGS5570</td>\n",
       "      <td>...</td>\n",
       "      <td>8220</td>\n",
       "      <td>468</td>\n",
       "      <td>5.693431</td>\n",
       "      <td>1311</td>\n",
       "      <td>15.948905</td>\n",
       "      <td>True</td>\n",
       "      <td>-0.163334</td>\n",
       "      <td>-0.185702</td>\n",
       "      <td>G1</td>\n",
       "      <td>Untreatedclus_DLD1</td>\n",
       "    </tr>\n",
       "    <tr>\n",
       "      <th>SAM24443678_rep24-TTTGTTGTCGTTCGCT</th>\n",
       "      <td>SAM24443678</td>\n",
       "      <td>TTTGTTGTCGTTCGCT</td>\n",
       "      <td>singlet</td>\n",
       "      <td>ENSG00000101017_2</td>\n",
       "      <td>singlet</td>\n",
       "      <td>SAM24439043</td>\n",
       "      <td>DLD1</td>\n",
       "      <td>day5</td>\n",
       "      <td>HTO-12</td>\n",
       "      <td>NGS5570</td>\n",
       "      <td>...</td>\n",
       "      <td>5643</td>\n",
       "      <td>411</td>\n",
       "      <td>7.283360</td>\n",
       "      <td>921</td>\n",
       "      <td>16.321106</td>\n",
       "      <td>True</td>\n",
       "      <td>-0.105303</td>\n",
       "      <td>0.186822</td>\n",
       "      <td>G2M</td>\n",
       "      <td>Untreatedclus_DLD1</td>\n",
       "    </tr>\n",
       "  </tbody>\n",
       "</table>\n",
       "<p>298497 rows × 27 columns</p>\n",
       "</div>"
      ],
      "text/plain": [
       "                                         Sample           Barcode  \\\n",
       "SAM24443678_rep1-AAACCCAAGGAATCGC   SAM24443678  AAACCCAAGGAATCGC   \n",
       "SAM24443678_rep1-AAACCCAAGTCTTCCC   SAM24443678  AAACCCAAGTCTTCCC   \n",
       "SAM24443678_rep1-AAACCCACACAGCTGC   SAM24443678  AAACCCACACAGCTGC   \n",
       "SAM24443678_rep1-AAACCCACATGAATAG   SAM24443678  AAACCCACATGAATAG   \n",
       "SAM24443678_rep1-AAACCCATCGACCATA   SAM24443678  AAACCCATCGACCATA   \n",
       "...                                         ...               ...   \n",
       "SAM24443678_rep24-TTTGTTGGTATGAGGC  SAM24443678  TTTGTTGGTATGAGGC   \n",
       "SAM24443678_rep24-TTTGTTGGTTTACGTG  SAM24443678  TTTGTTGGTTTACGTG   \n",
       "SAM24443678_rep24-TTTGTTGTCAGACCCG  SAM24443678  TTTGTTGTCAGACCCG   \n",
       "SAM24443678_rep24-TTTGTTGTCCTTATAC  SAM24443678  TTTGTTGTCCTTATAC   \n",
       "SAM24443678_rep24-TTTGTTGTCGTTCGCT  SAM24443678  TTTGTTGTCGTTCGCT   \n",
       "\n",
       "                                   DemuxType_crispr DemuxAssignment_crispr  \\\n",
       "SAM24443678_rep1-AAACCCAAGGAATCGC           singlet      ENSG00000135093_3   \n",
       "SAM24443678_rep1-AAACCCAAGTCTTCCC           singlet      ENSG00000181915_1   \n",
       "SAM24443678_rep1-AAACCCACACAGCTGC           singlet      ENSG00000288711_4   \n",
       "SAM24443678_rep1-AAACCCACATGAATAG           singlet      ENSG00000103365_2   \n",
       "SAM24443678_rep1-AAACCCATCGACCATA           singlet      ENSG00000139190_2   \n",
       "...                                             ...                    ...   \n",
       "SAM24443678_rep24-TTTGTTGGTATGAGGC          singlet      ENSG00000185024_4   \n",
       "SAM24443678_rep24-TTTGTTGGTTTACGTG          singlet      ENSG00000073282_4   \n",
       "SAM24443678_rep24-TTTGTTGTCAGACCCG          singlet      ENSG00000169946_1   \n",
       "SAM24443678_rep24-TTTGTTGTCCTTATAC          singlet      ENSG00000089775_3   \n",
       "SAM24443678_rep24-TTTGTTGTCGTTCGCT          singlet      ENSG00000101017_2   \n",
       "\n",
       "                                   DemuxType_hashing DemuxAssignment_hashing  \\\n",
       "SAM24443678_rep1-AAACCCAAGGAATCGC            singlet             SAM24439045   \n",
       "SAM24443678_rep1-AAACCCAAGTCTTCCC            singlet             SAM24439044   \n",
       "SAM24443678_rep1-AAACCCACACAGCTGC            singlet             SAM24439044   \n",
       "SAM24443678_rep1-AAACCCACATGAATAG            singlet             SAM24439045   \n",
       "SAM24443678_rep1-AAACCCATCGACCATA            singlet             SAM24439045   \n",
       "...                                              ...                     ...   \n",
       "SAM24443678_rep24-TTTGTTGGTATGAGGC           singlet             SAM24439045   \n",
       "SAM24443678_rep24-TTTGTTGGTTTACGTG           singlet             SAM24439044   \n",
       "SAM24443678_rep24-TTTGTTGTCAGACCCG           singlet             SAM24439044   \n",
       "SAM24443678_rep24-TTTGTTGTCCTTATAC           singlet             SAM24439043   \n",
       "SAM24443678_rep24-TTTGTTGTCGTTCGCT           singlet             SAM24439043   \n",
       "\n",
       "                                   cellline timepoint     HTO   NGS_ID  ...  \\\n",
       "SAM24443678_rep1-AAACCCAAGGAATCGC      DLD1      day5   HTO-7  NGS5570  ...   \n",
       "SAM24443678_rep1-AAACCCAAGTCTTCCC      DLD1      day5   HTO-5  NGS5570  ...   \n",
       "SAM24443678_rep1-AAACCCACACAGCTGC      DLD1      day5   HTO-4  NGS5570  ...   \n",
       "SAM24443678_rep1-AAACCCACATGAATAG      DLD1      day5  HTO-18  NGS5570  ...   \n",
       "SAM24443678_rep1-AAACCCATCGACCATA      DLD1      day5   HTO-7  NGS5570  ...   \n",
       "...                                     ...       ...     ...      ...  ...   \n",
       "SAM24443678_rep24-TTTGTTGGTATGAGGC     DLD1      day5   HTO-8  NGS5570  ...   \n",
       "SAM24443678_rep24-TTTGTTGGTTTACGTG     DLD1      day5  HTO-15  NGS5570  ...   \n",
       "SAM24443678_rep24-TTTGTTGTCAGACCCG     DLD1      day5  HTO-15  NGS5570  ...   \n",
       "SAM24443678_rep24-TTTGTTGTCCTTATAC     DLD1      day5  HTO-10  NGS5570  ...   \n",
       "SAM24443678_rep24-TTTGTTGTCGTTCGCT     DLD1      day5  HTO-12  NGS5570  ...   \n",
       "\n",
       "                                   total_counts total_counts_mt pct_counts_mt  \\\n",
       "SAM24443678_rep1-AAACCCAAGGAATCGC          4502             113      2.509996   \n",
       "SAM24443678_rep1-AAACCCAAGTCTTCCC         17960             457      2.544543   \n",
       "SAM24443678_rep1-AAACCCACACAGCTGC         10160             286      2.814961   \n",
       "SAM24443678_rep1-AAACCCACATGAATAG         10772             392      3.639064   \n",
       "SAM24443678_rep1-AAACCCATCGACCATA          9160             383      4.181223   \n",
       "...                                         ...             ...           ...   \n",
       "SAM24443678_rep24-TTTGTTGGTATGAGGC         5415             305      5.632502   \n",
       "SAM24443678_rep24-TTTGTTGGTTTACGTG         8771             126      1.436552   \n",
       "SAM24443678_rep24-TTTGTTGTCAGACCCG         8692             333      3.831109   \n",
       "SAM24443678_rep24-TTTGTTGTCCTTATAC         8220             468      5.693431   \n",
       "SAM24443678_rep24-TTTGTTGTCGTTCGCT         5643             411      7.283360   \n",
       "\n",
       "                                   total_counts_ribo pct_counts_ribo qc_pass  \\\n",
       "SAM24443678_rep1-AAACCCAAGGAATCGC               1005       22.323412    True   \n",
       "SAM24443678_rep1-AAACCCAAGTCTTCCC               3493       19.448775    True   \n",
       "SAM24443678_rep1-AAACCCACACAGCTGC               2186       21.515748    True   \n",
       "SAM24443678_rep1-AAACCCACATGAATAG               2119       19.671370    True   \n",
       "SAM24443678_rep1-AAACCCATCGACCATA               1452       15.851528    True   \n",
       "...                                              ...             ...     ...   \n",
       "SAM24443678_rep24-TTTGTTGGTATGAGGC               993       18.337950    True   \n",
       "SAM24443678_rep24-TTTGTTGGTTTACGTG              1507       17.181621    True   \n",
       "SAM24443678_rep24-TTTGTTGTCAGACCCG              1544       17.763461    True   \n",
       "SAM24443678_rep24-TTTGTTGTCCTTATAC              1311       15.948905    True   \n",
       "SAM24443678_rep24-TTTGTTGTCGTTCGCT               921       16.321106    True   \n",
       "\n",
       "                                     S_score  G2M_score  phase  \\\n",
       "SAM24443678_rep1-AAACCCAAGGAATCGC  -0.125123   0.574766    G2M   \n",
       "SAM24443678_rep1-AAACCCAAGTCTTCCC  -0.132656   0.891312    G2M   \n",
       "SAM24443678_rep1-AAACCCACACAGCTGC   0.000873  -0.068536      S   \n",
       "SAM24443678_rep1-AAACCCACATGAATAG   0.134622  -0.171513      S   \n",
       "SAM24443678_rep1-AAACCCATCGACCATA   0.075554   0.427137    G2M   \n",
       "...                                      ...        ...    ...   \n",
       "SAM24443678_rep24-TTTGTTGGTATGAGGC -0.594545  -0.008441     G1   \n",
       "SAM24443678_rep24-TTTGTTGGTTTACGTG -0.381656   1.300689    G2M   \n",
       "SAM24443678_rep24-TTTGTTGTCAGACCCG  0.138666  -0.371232      S   \n",
       "SAM24443678_rep24-TTTGTTGTCCTTATAC -0.163334  -0.185702     G1   \n",
       "SAM24443678_rep24-TTTGTTGTCGTTCGCT -0.105303   0.186822    G2M   \n",
       "\n",
       "                                             SCN_class  \n",
       "SAM24443678_rep1-AAACCCAAGGAATCGC   Untreatedclus_DLD1  \n",
       "SAM24443678_rep1-AAACCCAAGTCTTCCC   Untreatedclus_DLD1  \n",
       "SAM24443678_rep1-AAACCCACACAGCTGC   Untreatedclus_DLD1  \n",
       "SAM24443678_rep1-AAACCCACATGAATAG   Untreatedclus_DLD1  \n",
       "SAM24443678_rep1-AAACCCATCGACCATA   Untreatedclus_DLD1  \n",
       "...                                                ...  \n",
       "SAM24443678_rep24-TTTGTTGGTATGAGGC  Untreatedclus_DLD1  \n",
       "SAM24443678_rep24-TTTGTTGGTTTACGTG  Untreatedclus_DLD1  \n",
       "SAM24443678_rep24-TTTGTTGTCAGACCCG  Untreatedclus_DLD1  \n",
       "SAM24443678_rep24-TTTGTTGTCCTTATAC  Untreatedclus_DLD1  \n",
       "SAM24443678_rep24-TTTGTTGTCGTTCGCT  Untreatedclus_DLD1  \n",
       "\n",
       "[298497 rows x 27 columns]"
      ]
     },
     "execution_count": 8,
     "metadata": {},
     "output_type": "execute_result"
    }
   ],
   "source": [
    "adata.obs"
   ]
  },
  {
   "cell_type": "markdown",
   "id": "47e71d39-cc04-447c-84e0-ac1678eb9d56",
   "metadata": {},
   "source": [
    "### correct gene_symbol for ENSGIDs"
   ]
  },
  {
   "cell_type": "code",
   "execution_count": 9,
   "id": "954d195e-6fdf-4068-821b-830955d6a2da",
   "metadata": {},
   "outputs": [],
   "source": [
    "adata.obs['gene_symbol'] = adata.obs['gene_symbol'].apply(lambda x:x.split('_')[0])"
   ]
  },
  {
   "cell_type": "markdown",
   "id": "ae585477-1074-49dc-ab7d-96b9b0c5dfde",
   "metadata": {},
   "source": [
    "### Create gem column from NGS_ID and 10xrun"
   ]
  },
  {
   "cell_type": "code",
   "execution_count": 10,
   "id": "dda9c154-e111-4b6b-9415-57a45b1a42ae",
   "metadata": {},
   "outputs": [],
   "source": [
    "adata.obs['gem'] = adata.obs['NGS_ID'].astype(str) + '-' + adata.obs['10Xrun'].astype(str)"
   ]
  },
  {
   "cell_type": "markdown",
   "id": "41cef737-b1b3-4b5f-b782-1df8668c7443",
   "metadata": {},
   "source": [
    "### get control guides"
   ]
  },
  {
   "cell_type": "code",
   "execution_count": 11,
   "id": "fab7a226-5890-4909-aa59-1a5b1099ffbf",
   "metadata": {},
   "outputs": [],
   "source": [
    "idx = adata.obs.query(\"gene_symbol == 'NTC'\").index"
   ]
  },
  {
   "cell_type": "markdown",
   "id": "b8868276-af9d-4b19-af38-00be4f8e387f",
   "metadata": {},
   "source": [
    "### Calculate median_umi_count"
   ]
  },
  {
   "cell_type": "code",
   "execution_count": 12,
   "id": "1d4c569d-351e-445e-b007-e643adb80f72",
   "metadata": {},
   "outputs": [],
   "source": [
    "median_umi_count=None"
   ]
  },
  {
   "cell_type": "code",
   "execution_count": 13,
   "id": "03dbde18-20f8-4711-b885-f4b2100299fb",
   "metadata": {},
   "outputs": [
    {
     "name": "stdout",
     "output_type": "stream",
     "text": [
      "     Densifying matrix...\n",
      "Normalizing all cells to 9151.0 UMI...\n"
     ]
    }
   ],
   "source": [
    "if median_umi_count is None:\n",
    "    median_umi_count = norm.check_matrix_and_densify(adata[idx,:].layers['counts']).sum(axis=1).median()\n",
    "print('Normalizing all cells to {0} UMI...'.format(median_umi_count))"
   ]
  },
  {
   "cell_type": "markdown",
   "id": "e318b53a-79d7-4cb5-8d35-c048c0e10f2d",
   "metadata": {},
   "source": [
    "## Extract all the gems available in this anndata"
   ]
  },
  {
   "cell_type": "code",
   "execution_count": 14,
   "id": "bb6a309f-f838-4103-8f45-3610e2be5ece",
   "metadata": {},
   "outputs": [],
   "source": [
    "gems = adata.obs['gem'].unique()"
   ]
  },
  {
   "cell_type": "markdown",
   "id": "1d5aa630-06a6-46ab-af68-f05d1019bf41",
   "metadata": {},
   "source": [
    "## make smaller adatas for each gems and store them"
   ]
  },
  {
   "cell_type": "code",
   "execution_count": 15,
   "id": "4453fb20-8761-4c35-a124-386eca5fd017",
   "metadata": {},
   "outputs": [
    {
     "name": "stderr",
     "output_type": "stream",
     "text": [
      "  0%|          | 0/24 [00:00<?, ?it/s]"
     ]
    },
    {
     "name": "stdout",
     "output_type": "stream",
     "text": [
      "     Densifying matrix...\n",
      "     Densifying matrix...\n",
      "     Determining scale factors...\n",
      "     Normalizing matrix to median\n",
      "     Normalizing control matrix to median\n",
      "     Scaling matrix to control\n",
      "     Done.\n"
     ]
    },
    {
     "name": "stderr",
     "output_type": "stream",
     "text": [
      "  4%|▍         | 1/24 [00:42<16:13, 42.33s/it]"
     ]
    },
    {
     "name": "stdout",
     "output_type": "stream",
     "text": [
      "42.3271222114563\n",
      "     Densifying matrix...\n",
      "     Densifying matrix...\n",
      "     Determining scale factors...\n",
      "     Normalizing matrix to median\n",
      "     Normalizing control matrix to median\n",
      "     Scaling matrix to control\n",
      "     Done.\n"
     ]
    },
    {
     "name": "stderr",
     "output_type": "stream",
     "text": [
      "  8%|▊         | 2/24 [01:34<17:43, 48.34s/it]"
     ]
    },
    {
     "name": "stdout",
     "output_type": "stream",
     "text": [
      "52.54118800163269\n",
      "     Densifying matrix...\n",
      "     Densifying matrix...\n",
      "     Determining scale factors...\n",
      "     Normalizing matrix to median\n",
      "     Normalizing control matrix to median\n",
      "     Scaling matrix to control\n",
      "     Done.\n"
     ]
    },
    {
     "name": "stderr",
     "output_type": "stream",
     "text": [
      " 12%|█▎        | 3/24 [02:27<17:34, 50.20s/it]"
     ]
    },
    {
     "name": "stdout",
     "output_type": "stream",
     "text": [
      "52.42709827423096\n",
      "     Densifying matrix...\n",
      "     Densifying matrix...\n",
      "     Determining scale factors...\n",
      "     Normalizing matrix to median\n",
      "     Normalizing control matrix to median\n",
      "     Scaling matrix to control\n",
      "     Done.\n"
     ]
    },
    {
     "name": "stderr",
     "output_type": "stream",
     "text": [
      " 17%|█▋        | 4/24 [03:20<17:06, 51.31s/it]"
     ]
    },
    {
     "name": "stdout",
     "output_type": "stream",
     "text": [
      "53.01337766647339\n",
      "     Densifying matrix...\n",
      "     Densifying matrix...\n",
      "     Determining scale factors...\n",
      "     Normalizing matrix to median\n",
      "     Normalizing control matrix to median\n",
      "     Scaling matrix to control\n",
      "     Done.\n"
     ]
    },
    {
     "name": "stderr",
     "output_type": "stream",
     "text": [
      " 21%|██        | 5/24 [04:09<16:00, 50.55s/it]"
     ]
    },
    {
     "name": "stdout",
     "output_type": "stream",
     "text": [
      "49.186450242996216\n",
      "     Densifying matrix...\n",
      "     Densifying matrix...\n",
      "     Determining scale factors...\n",
      "     Normalizing matrix to median\n",
      "     Normalizing control matrix to median\n",
      "     Scaling matrix to control\n",
      "     Done.\n"
     ]
    },
    {
     "name": "stderr",
     "output_type": "stream",
     "text": [
      " 25%|██▌       | 6/24 [04:44<13:33, 45.21s/it]"
     ]
    },
    {
     "name": "stdout",
     "output_type": "stream",
     "text": [
      "34.84729623794556\n",
      "     Densifying matrix...\n",
      "     Densifying matrix...\n",
      "     Determining scale factors...\n",
      "     Normalizing matrix to median\n",
      "     Normalizing control matrix to median\n",
      "     Scaling matrix to control\n",
      "     Done.\n"
     ]
    },
    {
     "name": "stderr",
     "output_type": "stream",
     "text": [
      " 29%|██▉       | 7/24 [05:31<13:00, 45.93s/it]"
     ]
    },
    {
     "name": "stdout",
     "output_type": "stream",
     "text": [
      "47.42296028137207\n",
      "     Densifying matrix...\n",
      "     Densifying matrix...\n",
      "     Determining scale factors...\n",
      "     Normalizing matrix to median\n",
      "     Normalizing control matrix to median\n",
      "     Scaling matrix to control\n",
      "     Done.\n"
     ]
    },
    {
     "name": "stderr",
     "output_type": "stream",
     "text": [
      " 33%|███▎      | 8/24 [06:29<13:16, 49.79s/it]"
     ]
    },
    {
     "name": "stdout",
     "output_type": "stream",
     "text": [
      "58.03938126564026\n",
      "     Densifying matrix...\n",
      "     Densifying matrix...\n",
      "     Determining scale factors...\n",
      "     Normalizing matrix to median\n",
      "     Normalizing control matrix to median\n",
      "     Scaling matrix to control\n",
      "     Done.\n"
     ]
    },
    {
     "name": "stderr",
     "output_type": "stream",
     "text": [
      " 38%|███▊      | 9/24 [07:34<13:37, 54.51s/it]"
     ]
    },
    {
     "name": "stdout",
     "output_type": "stream",
     "text": [
      "64.8866355419159\n",
      "     Densifying matrix...\n",
      "     Densifying matrix...\n",
      "     Determining scale factors...\n",
      "     Normalizing matrix to median\n",
      "     Normalizing control matrix to median\n",
      "     Scaling matrix to control\n",
      "     Done.\n"
     ]
    },
    {
     "name": "stderr",
     "output_type": "stream",
     "text": [
      " 42%|████▏     | 10/24 [08:14<11:38, 49.91s/it]"
     ]
    },
    {
     "name": "stdout",
     "output_type": "stream",
     "text": [
      "39.60313558578491\n",
      "     Densifying matrix...\n",
      "     Densifying matrix...\n",
      "     Determining scale factors...\n",
      "     Normalizing matrix to median\n",
      "     Normalizing control matrix to median\n",
      "     Scaling matrix to control\n",
      "     Done.\n"
     ]
    },
    {
     "name": "stderr",
     "output_type": "stream",
     "text": [
      " 46%|████▌     | 11/24 [08:56<10:18, 47.58s/it]"
     ]
    },
    {
     "name": "stdout",
     "output_type": "stream",
     "text": [
      "42.29515838623047\n",
      "     Densifying matrix...\n",
      "     Densifying matrix...\n",
      "     Determining scale factors...\n",
      "     Normalizing matrix to median\n",
      "     Normalizing control matrix to median\n",
      "     Scaling matrix to control\n",
      "     Done.\n"
     ]
    },
    {
     "name": "stderr",
     "output_type": "stream",
     "text": [
      " 50%|█████     | 12/24 [09:55<10:12, 51.03s/it]"
     ]
    },
    {
     "name": "stdout",
     "output_type": "stream",
     "text": [
      "58.908363580703735\n",
      "     Densifying matrix...\n",
      "     Densifying matrix...\n",
      "     Determining scale factors...\n",
      "     Normalizing matrix to median\n",
      "     Normalizing control matrix to median\n",
      "     Scaling matrix to control\n",
      "     Done.\n"
     ]
    },
    {
     "name": "stderr",
     "output_type": "stream",
     "text": [
      " 54%|█████▍    | 13/24 [10:13<07:32, 41.11s/it]"
     ]
    },
    {
     "name": "stdout",
     "output_type": "stream",
     "text": [
      "18.28768038749695\n",
      "     Densifying matrix...\n",
      "     Densifying matrix...\n",
      "     Determining scale factors...\n",
      "     Normalizing matrix to median\n",
      "     Normalizing control matrix to median\n",
      "     Scaling matrix to control\n",
      "     Done.\n"
     ]
    },
    {
     "name": "stderr",
     "output_type": "stream",
     "text": [
      " 58%|█████▊    | 14/24 [11:05<07:22, 44.20s/it]"
     ]
    },
    {
     "name": "stdout",
     "output_type": "stream",
     "text": [
      "51.35757613182068\n",
      "     Densifying matrix...\n",
      "     Densifying matrix...\n",
      "     Determining scale factors...\n",
      "     Normalizing matrix to median\n",
      "     Normalizing control matrix to median\n",
      "     Scaling matrix to control\n",
      "     Done.\n"
     ]
    },
    {
     "name": "stderr",
     "output_type": "stream",
     "text": [
      " 62%|██████▎   | 15/24 [12:07<07:26, 49.60s/it]"
     ]
    },
    {
     "name": "stdout",
     "output_type": "stream",
     "text": [
      "62.09211015701294\n",
      "     Densifying matrix...\n",
      "     Densifying matrix...\n",
      "     Determining scale factors...\n",
      "     Normalizing matrix to median\n",
      "     Normalizing control matrix to median\n",
      "     Scaling matrix to control\n",
      "     Done.\n"
     ]
    },
    {
     "name": "stderr",
     "output_type": "stream",
     "text": [
      " 67%|██████▋   | 16/24 [12:56<06:36, 49.50s/it]"
     ]
    },
    {
     "name": "stdout",
     "output_type": "stream",
     "text": [
      "49.28690767288208\n",
      "     Densifying matrix...\n",
      "     Densifying matrix...\n",
      "     Determining scale factors...\n",
      "     Normalizing matrix to median\n",
      "     Normalizing control matrix to median\n",
      "     Scaling matrix to control\n",
      "     Done.\n"
     ]
    },
    {
     "name": "stderr",
     "output_type": "stream",
     "text": [
      " 71%|███████   | 17/24 [13:22<04:56, 42.30s/it]"
     ]
    },
    {
     "name": "stdout",
     "output_type": "stream",
     "text": [
      "25.53667140007019\n",
      "     Densifying matrix...\n",
      "     Densifying matrix...\n",
      "     Determining scale factors...\n",
      "     Normalizing matrix to median\n",
      "     Normalizing control matrix to median\n",
      "     Scaling matrix to control\n",
      "     Done.\n"
     ]
    },
    {
     "name": "stderr",
     "output_type": "stream",
     "text": [
      " 75%|███████▌  | 18/24 [14:02<04:09, 41.60s/it]"
     ]
    },
    {
     "name": "stdout",
     "output_type": "stream",
     "text": [
      "39.983142137527466\n",
      "     Densifying matrix...\n",
      "     Densifying matrix...\n",
      "     Determining scale factors...\n",
      "     Normalizing matrix to median\n",
      "     Normalizing control matrix to median\n",
      "     Scaling matrix to control\n",
      "     Done.\n"
     ]
    },
    {
     "name": "stderr",
     "output_type": "stream",
     "text": [
      " 79%|███████▉  | 19/24 [14:55<03:46, 45.25s/it]"
     ]
    },
    {
     "name": "stdout",
     "output_type": "stream",
     "text": [
      "53.74745154380798\n",
      "     Densifying matrix...\n",
      "     Densifying matrix...\n",
      "     Determining scale factors...\n",
      "     Normalizing matrix to median\n",
      "     Normalizing control matrix to median\n",
      "     Scaling matrix to control\n",
      "     Done.\n"
     ]
    },
    {
     "name": "stderr",
     "output_type": "stream",
     "text": [
      " 83%|████████▎ | 20/24 [15:45<03:06, 46.73s/it]"
     ]
    },
    {
     "name": "stdout",
     "output_type": "stream",
     "text": [
      "50.16526412963867\n",
      "     Densifying matrix...\n",
      "     Densifying matrix...\n",
      "     Determining scale factors...\n",
      "     Normalizing matrix to median\n",
      "     Normalizing control matrix to median\n",
      "     Scaling matrix to control\n",
      "     Done.\n"
     ]
    },
    {
     "name": "stderr",
     "output_type": "stream",
     "text": [
      " 88%|████████▊ | 21/24 [16:46<02:32, 50.91s/it]"
     ]
    },
    {
     "name": "stdout",
     "output_type": "stream",
     "text": [
      "60.67093467712402\n",
      "     Densifying matrix...\n",
      "     Densifying matrix...\n",
      "     Determining scale factors...\n",
      "     Normalizing matrix to median\n",
      "     Normalizing control matrix to median\n",
      "     Scaling matrix to control\n",
      "     Done.\n"
     ]
    },
    {
     "name": "stderr",
     "output_type": "stream",
     "text": [
      " 92%|█████████▏| 22/24 [17:36<01:41, 50.62s/it]"
     ]
    },
    {
     "name": "stdout",
     "output_type": "stream",
     "text": [
      "49.94718527793884\n",
      "     Densifying matrix...\n",
      "     Densifying matrix...\n",
      "     Determining scale factors...\n",
      "     Normalizing matrix to median\n",
      "     Normalizing control matrix to median\n",
      "     Scaling matrix to control\n",
      "     Done.\n"
     ]
    },
    {
     "name": "stderr",
     "output_type": "stream",
     "text": [
      " 96%|█████████▌| 23/24 [18:23<00:49, 49.44s/it]"
     ]
    },
    {
     "name": "stdout",
     "output_type": "stream",
     "text": [
      "46.68066453933716\n",
      "     Densifying matrix...\n",
      "     Densifying matrix...\n",
      "     Determining scale factors...\n",
      "     Normalizing matrix to median\n",
      "     Normalizing control matrix to median\n",
      "     Scaling matrix to control\n",
      "     Done.\n"
     ]
    },
    {
     "name": "stderr",
     "output_type": "stream",
     "text": [
      "100%|██████████| 24/24 [19:19<00:00, 48.32s/it]"
     ]
    },
    {
     "name": "stdout",
     "output_type": "stream",
     "text": [
      "56.50728940963745\n"
     ]
    },
    {
     "name": "stderr",
     "output_type": "stream",
     "text": [
      "\n"
     ]
    }
   ],
   "source": [
    "for gm in tqdm(gems):\n",
    "    outfile = os.path.join(out_dir, f\"{gm}.h5ad\")\n",
    "    if os.path.exists(outfile):\n",
    "        continue\n",
    "    else:\n",
    "        t = time.time()\n",
    "        small_adata = adata[adata.obs['gem']==gm].to_memory()\n",
    "        gem_group_matrices = norm.proc_gem(small_adata,median_umi_count)\n",
    "        gem_group_matrices.write(outfile)\n",
    "        print(time.time() - t)"
   ]
  }
 ],
 "metadata": {
  "kernelspec": {
   "display_name": "Dev/GPuy310",
   "language": "python",
   "name": "gpuy310-dev"
  },
  "language_info": {
   "codemirror_mode": {
    "name": "ipython",
    "version": 3
   },
   "file_extension": ".py",
   "mimetype": "text/x-python",
   "name": "python",
   "nbconvert_exporter": "python",
   "pygments_lexer": "ipython3",
   "version": "3.10.8"
  },
  "widgets": {
   "application/vnd.jupyter.widget-state+json": {
    "state": {},
    "version_major": 2,
    "version_minor": 0
   }
  }
 },
 "nbformat": 4,
 "nbformat_minor": 5
}
