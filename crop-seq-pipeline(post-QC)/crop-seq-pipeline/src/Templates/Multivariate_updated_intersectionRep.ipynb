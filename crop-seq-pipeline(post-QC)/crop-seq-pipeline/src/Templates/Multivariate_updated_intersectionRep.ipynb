{
 "cells": [
  {
   "cell_type": "code",
   "execution_count": 1,
   "id": "8cbb3b17",
   "metadata": {},
   "outputs": [
    {
     "name": "stderr",
     "output_type": "stream",
     "text": [
      "[rank: 0] Global seed set to 0\n"
     ]
    }
   ],
   "source": [
    "import sys\n",
    "sys.path.append(\"..\")\n",
    "import Templates.tools.multivariate as mv\n",
    "import seaborn as sns\n",
    "import scanpy as sc\n",
    "import numpy as np\n",
    "import pandas as pd\n",
    "import matplotlib.pyplot as plt"
   ]
  },
  {
   "cell_type": "code",
   "execution_count": 2,
   "id": "88b47f52",
   "metadata": {},
   "outputs": [],
   "source": [
    "adata = sc.read(\"/gstore/data/project/crc_recursion_gw/crc-NGS5186//DS000015340/qc_embedding.h5ad\")"
   ]
  },
  {
   "cell_type": "code",
   "execution_count": 3,
   "id": "b28dc757",
   "metadata": {},
   "outputs": [
    {
     "data": {
      "text/plain": [
       "AnnData object with n_obs × n_vars = 321358 × 33908\n",
       "    obs: 'Sample', 'Barcode', 'DemuxType_crispr', 'DemuxAssignment_crispr', 'DemuxType_hashing', 'DemuxAssignment_hashing', 'cellline', 'timepoint', 'gene_symbol', 'class', 'n_genes_by_counts', 'total_counts', 'total_counts_mt', 'pct_counts_mt', 'total_counts_ribo', 'pct_counts_ribo', 'S_score', 'G2M_score', 'phase', 'SCN_class'\n",
       "    var: 'Symbol'\n",
       "    obsm: 'X_pca', 'X_scVI', 'X_umap'\n",
       "    layers: 'counts'\n",
       "    obsp: 'connectivities', 'distances'"
      ]
     },
     "execution_count": 3,
     "metadata": {},
     "output_type": "execute_result"
    }
   ],
   "source": [
    "adata"
   ]
  },
  {
   "cell_type": "code",
   "execution_count": 4,
   "id": "3bad59a0-ba07-49c8-928e-8764a8674c43",
   "metadata": {},
   "outputs": [
    {
     "data": {
      "text/html": [
       "<div>\n",
       "<style scoped>\n",
       "    .dataframe tbody tr th:only-of-type {\n",
       "        vertical-align: middle;\n",
       "    }\n",
       "\n",
       "    .dataframe tbody tr th {\n",
       "        vertical-align: top;\n",
       "    }\n",
       "\n",
       "    .dataframe thead th {\n",
       "        text-align: right;\n",
       "    }\n",
       "</style>\n",
       "<table border=\"1\" class=\"dataframe\">\n",
       "  <thead>\n",
       "    <tr style=\"text-align: right;\">\n",
       "      <th></th>\n",
       "      <th>Sample</th>\n",
       "      <th>Barcode</th>\n",
       "      <th>DemuxType_crispr</th>\n",
       "      <th>DemuxAssignment_crispr</th>\n",
       "      <th>DemuxType_hashing</th>\n",
       "      <th>DemuxAssignment_hashing</th>\n",
       "      <th>cellline</th>\n",
       "      <th>timepoint</th>\n",
       "      <th>gene_symbol</th>\n",
       "      <th>class</th>\n",
       "      <th>n_genes_by_counts</th>\n",
       "      <th>total_counts</th>\n",
       "      <th>total_counts_mt</th>\n",
       "      <th>pct_counts_mt</th>\n",
       "      <th>total_counts_ribo</th>\n",
       "      <th>pct_counts_ribo</th>\n",
       "      <th>S_score</th>\n",
       "      <th>G2M_score</th>\n",
       "      <th>phase</th>\n",
       "      <th>SCN_class</th>\n",
       "    </tr>\n",
       "  </thead>\n",
       "  <tbody>\n",
       "    <tr>\n",
       "      <th>SAM24434749_rep1-AAACCCAAGATTAGCA</th>\n",
       "      <td>SAM24434749_rep1</td>\n",
       "      <td>AAACCCAAGATTAGCA</td>\n",
       "      <td>singlet</td>\n",
       "      <td>ENSG00000074771_1</td>\n",
       "      <td>singlet</td>\n",
       "      <td>SAM24434722</td>\n",
       "      <td>DLD1</td>\n",
       "      <td>day5</td>\n",
       "      <td>NOX3</td>\n",
       "      <td>target</td>\n",
       "      <td>4965</td>\n",
       "      <td>16707</td>\n",
       "      <td>464</td>\n",
       "      <td>2.777279</td>\n",
       "      <td>3603</td>\n",
       "      <td>21.565811</td>\n",
       "      <td>0.013953</td>\n",
       "      <td>-0.417101</td>\n",
       "      <td>S</td>\n",
       "      <td>Untreatedclus_DLD1</td>\n",
       "    </tr>\n",
       "    <tr>\n",
       "      <th>SAM24434749_rep1-AAACCCAAGATTGACA</th>\n",
       "      <td>SAM24434749_rep1</td>\n",
       "      <td>AAACCCAAGATTGACA</td>\n",
       "      <td>singlet</td>\n",
       "      <td>ENSG00000157703_1</td>\n",
       "      <td>singlet</td>\n",
       "      <td>SAM24434748</td>\n",
       "      <td>DLD1</td>\n",
       "      <td>day5</td>\n",
       "      <td>SVOPL</td>\n",
       "      <td>target</td>\n",
       "      <td>2608</td>\n",
       "      <td>9568</td>\n",
       "      <td>263</td>\n",
       "      <td>2.748746</td>\n",
       "      <td>3126</td>\n",
       "      <td>32.671405</td>\n",
       "      <td>-0.023256</td>\n",
       "      <td>-0.065538</td>\n",
       "      <td>G1</td>\n",
       "      <td>Untreatedclus_DLD1</td>\n",
       "    </tr>\n",
       "    <tr>\n",
       "      <th>SAM24434749_rep1-AAACCCAAGCATTTCG</th>\n",
       "      <td>SAM24434749_rep1</td>\n",
       "      <td>AAACCCAAGCATTTCG</td>\n",
       "      <td>singlet</td>\n",
       "      <td>ENSG00000178015_2</td>\n",
       "      <td>singlet</td>\n",
       "      <td>SAM24434723</td>\n",
       "      <td>DLD1</td>\n",
       "      <td>day5</td>\n",
       "      <td>GPR150</td>\n",
       "      <td>target</td>\n",
       "      <td>2910</td>\n",
       "      <td>9185</td>\n",
       "      <td>76</td>\n",
       "      <td>0.827436</td>\n",
       "      <td>2198</td>\n",
       "      <td>23.930321</td>\n",
       "      <td>-0.516279</td>\n",
       "      <td>0.478009</td>\n",
       "      <td>G2M</td>\n",
       "      <td>DOXclus_DLD1</td>\n",
       "    </tr>\n",
       "    <tr>\n",
       "      <th>SAM24434749_rep1-AAACCCAAGCTGAGCA</th>\n",
       "      <td>SAM24434749_rep1</td>\n",
       "      <td>AAACCCAAGCTGAGCA</td>\n",
       "      <td>singlet</td>\n",
       "      <td>ENSG00000186469_2</td>\n",
       "      <td>singlet</td>\n",
       "      <td>SAM24434722</td>\n",
       "      <td>DLD1</td>\n",
       "      <td>day5</td>\n",
       "      <td>GNG2</td>\n",
       "      <td>target</td>\n",
       "      <td>4980</td>\n",
       "      <td>18377</td>\n",
       "      <td>654</td>\n",
       "      <td>3.558796</td>\n",
       "      <td>4596</td>\n",
       "      <td>25.009523</td>\n",
       "      <td>-0.306977</td>\n",
       "      <td>0.322917</td>\n",
       "      <td>G2M</td>\n",
       "      <td>Untreatedclus_DLD1</td>\n",
       "    </tr>\n",
       "    <tr>\n",
       "      <th>SAM24434749_rep1-AAACCCAAGCTTACGT</th>\n",
       "      <td>SAM24434749_rep1</td>\n",
       "      <td>AAACCCAAGCTTACGT</td>\n",
       "      <td>singlet</td>\n",
       "      <td>ENSG00000133789_4</td>\n",
       "      <td>singlet</td>\n",
       "      <td>SAM24434748</td>\n",
       "      <td>DLD1</td>\n",
       "      <td>day5</td>\n",
       "      <td>SWAP70</td>\n",
       "      <td>target</td>\n",
       "      <td>3641</td>\n",
       "      <td>15314</td>\n",
       "      <td>233</td>\n",
       "      <td>1.521484</td>\n",
       "      <td>4062</td>\n",
       "      <td>26.524749</td>\n",
       "      <td>-0.079070</td>\n",
       "      <td>0.150174</td>\n",
       "      <td>G2M</td>\n",
       "      <td>Untreatedclus_DLD1</td>\n",
       "    </tr>\n",
       "    <tr>\n",
       "      <th>...</th>\n",
       "      <td>...</td>\n",
       "      <td>...</td>\n",
       "      <td>...</td>\n",
       "      <td>...</td>\n",
       "      <td>...</td>\n",
       "      <td>...</td>\n",
       "      <td>...</td>\n",
       "      <td>...</td>\n",
       "      <td>...</td>\n",
       "      <td>...</td>\n",
       "      <td>...</td>\n",
       "      <td>...</td>\n",
       "      <td>...</td>\n",
       "      <td>...</td>\n",
       "      <td>...</td>\n",
       "      <td>...</td>\n",
       "      <td>...</td>\n",
       "      <td>...</td>\n",
       "      <td>...</td>\n",
       "      <td>...</td>\n",
       "    </tr>\n",
       "    <tr>\n",
       "      <th>SAM24434749_rep20-TTTGTTGTCACTAGCA</th>\n",
       "      <td>SAM24434749_rep20</td>\n",
       "      <td>TTTGTTGTCACTAGCA</td>\n",
       "      <td>singlet</td>\n",
       "      <td>ENSG00000130165_1</td>\n",
       "      <td>singlet</td>\n",
       "      <td>SAM24434722</td>\n",
       "      <td>DLD1</td>\n",
       "      <td>day5</td>\n",
       "      <td>ELOF1</td>\n",
       "      <td>target</td>\n",
       "      <td>2041</td>\n",
       "      <td>5961</td>\n",
       "      <td>84</td>\n",
       "      <td>1.409160</td>\n",
       "      <td>1822</td>\n",
       "      <td>30.565341</td>\n",
       "      <td>-0.200636</td>\n",
       "      <td>-0.072502</td>\n",
       "      <td>G1</td>\n",
       "      <td>Untreatedclus_DLD1</td>\n",
       "    </tr>\n",
       "    <tr>\n",
       "      <th>SAM24434749_rep20-TTTGTTGTCATGCCAA</th>\n",
       "      <td>SAM24434749_rep20</td>\n",
       "      <td>TTTGTTGTCATGCCAA</td>\n",
       "      <td>singlet</td>\n",
       "      <td>ENSG00000181218_2</td>\n",
       "      <td>singlet</td>\n",
       "      <td>SAM24434722</td>\n",
       "      <td>DLD1</td>\n",
       "      <td>day5</td>\n",
       "      <td>H2AW</td>\n",
       "      <td>target</td>\n",
       "      <td>3116</td>\n",
       "      <td>8677</td>\n",
       "      <td>362</td>\n",
       "      <td>4.171949</td>\n",
       "      <td>2054</td>\n",
       "      <td>23.671776</td>\n",
       "      <td>-0.172225</td>\n",
       "      <td>-0.064291</td>\n",
       "      <td>G1</td>\n",
       "      <td>Untreatedclus_DLD1</td>\n",
       "    </tr>\n",
       "    <tr>\n",
       "      <th>SAM24434749_rep20-TTTGTTGTCCAGTGCG</th>\n",
       "      <td>SAM24434749_rep20</td>\n",
       "      <td>TTTGTTGTCCAGTGCG</td>\n",
       "      <td>singlet</td>\n",
       "      <td>ENSG00000079459_4</td>\n",
       "      <td>singlet</td>\n",
       "      <td>SAM24434723</td>\n",
       "      <td>DLD1</td>\n",
       "      <td>day5</td>\n",
       "      <td>FDFT1</td>\n",
       "      <td>target</td>\n",
       "      <td>3492</td>\n",
       "      <td>11482</td>\n",
       "      <td>69</td>\n",
       "      <td>0.600941</td>\n",
       "      <td>3138</td>\n",
       "      <td>27.329733</td>\n",
       "      <td>-0.825581</td>\n",
       "      <td>1.164046</td>\n",
       "      <td>G2M</td>\n",
       "      <td>Untreatedclus_DLD1</td>\n",
       "    </tr>\n",
       "    <tr>\n",
       "      <th>SAM24434749_rep20-TTTGTTGTCGCTGATA</th>\n",
       "      <td>SAM24434749_rep20</td>\n",
       "      <td>TTTGTTGTCGCTGATA</td>\n",
       "      <td>singlet</td>\n",
       "      <td>ENSG00000224383_2</td>\n",
       "      <td>singlet</td>\n",
       "      <td>SAM24434748</td>\n",
       "      <td>DLD1</td>\n",
       "      <td>day5</td>\n",
       "      <td>PRR29</td>\n",
       "      <td>target</td>\n",
       "      <td>1438</td>\n",
       "      <td>4141</td>\n",
       "      <td>11</td>\n",
       "      <td>0.265636</td>\n",
       "      <td>1266</td>\n",
       "      <td>30.572326</td>\n",
       "      <td>-0.156209</td>\n",
       "      <td>-0.352201</td>\n",
       "      <td>G1</td>\n",
       "      <td>Untreatedclus_DLD1</td>\n",
       "    </tr>\n",
       "    <tr>\n",
       "      <th>SAM24434749_rep20-TTTGTTGTCTACCCAC</th>\n",
       "      <td>SAM24434749_rep20</td>\n",
       "      <td>TTTGTTGTCTACCCAC</td>\n",
       "      <td>singlet</td>\n",
       "      <td>ENSG00000185345_1</td>\n",
       "      <td>singlet</td>\n",
       "      <td>SAM24434723</td>\n",
       "      <td>DLD1</td>\n",
       "      <td>day5</td>\n",
       "      <td>PRKN</td>\n",
       "      <td>target</td>\n",
       "      <td>3862</td>\n",
       "      <td>13451</td>\n",
       "      <td>199</td>\n",
       "      <td>1.479444</td>\n",
       "      <td>3446</td>\n",
       "      <td>25.618913</td>\n",
       "      <td>-0.792124</td>\n",
       "      <td>1.301887</td>\n",
       "      <td>G2M</td>\n",
       "      <td>Untreatedclus_DLD1</td>\n",
       "    </tr>\n",
       "  </tbody>\n",
       "</table>\n",
       "<p>321358 rows × 20 columns</p>\n",
       "</div>"
      ],
      "text/plain": [
       "                                               Sample           Barcode  \\\n",
       "SAM24434749_rep1-AAACCCAAGATTAGCA    SAM24434749_rep1  AAACCCAAGATTAGCA   \n",
       "SAM24434749_rep1-AAACCCAAGATTGACA    SAM24434749_rep1  AAACCCAAGATTGACA   \n",
       "SAM24434749_rep1-AAACCCAAGCATTTCG    SAM24434749_rep1  AAACCCAAGCATTTCG   \n",
       "SAM24434749_rep1-AAACCCAAGCTGAGCA    SAM24434749_rep1  AAACCCAAGCTGAGCA   \n",
       "SAM24434749_rep1-AAACCCAAGCTTACGT    SAM24434749_rep1  AAACCCAAGCTTACGT   \n",
       "...                                               ...               ...   \n",
       "SAM24434749_rep20-TTTGTTGTCACTAGCA  SAM24434749_rep20  TTTGTTGTCACTAGCA   \n",
       "SAM24434749_rep20-TTTGTTGTCATGCCAA  SAM24434749_rep20  TTTGTTGTCATGCCAA   \n",
       "SAM24434749_rep20-TTTGTTGTCCAGTGCG  SAM24434749_rep20  TTTGTTGTCCAGTGCG   \n",
       "SAM24434749_rep20-TTTGTTGTCGCTGATA  SAM24434749_rep20  TTTGTTGTCGCTGATA   \n",
       "SAM24434749_rep20-TTTGTTGTCTACCCAC  SAM24434749_rep20  TTTGTTGTCTACCCAC   \n",
       "\n",
       "                                   DemuxType_crispr DemuxAssignment_crispr  \\\n",
       "SAM24434749_rep1-AAACCCAAGATTAGCA           singlet      ENSG00000074771_1   \n",
       "SAM24434749_rep1-AAACCCAAGATTGACA           singlet      ENSG00000157703_1   \n",
       "SAM24434749_rep1-AAACCCAAGCATTTCG           singlet      ENSG00000178015_2   \n",
       "SAM24434749_rep1-AAACCCAAGCTGAGCA           singlet      ENSG00000186469_2   \n",
       "SAM24434749_rep1-AAACCCAAGCTTACGT           singlet      ENSG00000133789_4   \n",
       "...                                             ...                    ...   \n",
       "SAM24434749_rep20-TTTGTTGTCACTAGCA          singlet      ENSG00000130165_1   \n",
       "SAM24434749_rep20-TTTGTTGTCATGCCAA          singlet      ENSG00000181218_2   \n",
       "SAM24434749_rep20-TTTGTTGTCCAGTGCG          singlet      ENSG00000079459_4   \n",
       "SAM24434749_rep20-TTTGTTGTCGCTGATA          singlet      ENSG00000224383_2   \n",
       "SAM24434749_rep20-TTTGTTGTCTACCCAC          singlet      ENSG00000185345_1   \n",
       "\n",
       "                                   DemuxType_hashing DemuxAssignment_hashing  \\\n",
       "SAM24434749_rep1-AAACCCAAGATTAGCA            singlet             SAM24434722   \n",
       "SAM24434749_rep1-AAACCCAAGATTGACA            singlet             SAM24434748   \n",
       "SAM24434749_rep1-AAACCCAAGCATTTCG            singlet             SAM24434723   \n",
       "SAM24434749_rep1-AAACCCAAGCTGAGCA            singlet             SAM24434722   \n",
       "SAM24434749_rep1-AAACCCAAGCTTACGT            singlet             SAM24434748   \n",
       "...                                              ...                     ...   \n",
       "SAM24434749_rep20-TTTGTTGTCACTAGCA           singlet             SAM24434722   \n",
       "SAM24434749_rep20-TTTGTTGTCATGCCAA           singlet             SAM24434722   \n",
       "SAM24434749_rep20-TTTGTTGTCCAGTGCG           singlet             SAM24434723   \n",
       "SAM24434749_rep20-TTTGTTGTCGCTGATA           singlet             SAM24434748   \n",
       "SAM24434749_rep20-TTTGTTGTCTACCCAC           singlet             SAM24434723   \n",
       "\n",
       "                                   cellline timepoint gene_symbol   class  \\\n",
       "SAM24434749_rep1-AAACCCAAGATTAGCA      DLD1      day5        NOX3  target   \n",
       "SAM24434749_rep1-AAACCCAAGATTGACA      DLD1      day5       SVOPL  target   \n",
       "SAM24434749_rep1-AAACCCAAGCATTTCG      DLD1      day5      GPR150  target   \n",
       "SAM24434749_rep1-AAACCCAAGCTGAGCA      DLD1      day5        GNG2  target   \n",
       "SAM24434749_rep1-AAACCCAAGCTTACGT      DLD1      day5      SWAP70  target   \n",
       "...                                     ...       ...         ...     ...   \n",
       "SAM24434749_rep20-TTTGTTGTCACTAGCA     DLD1      day5       ELOF1  target   \n",
       "SAM24434749_rep20-TTTGTTGTCATGCCAA     DLD1      day5        H2AW  target   \n",
       "SAM24434749_rep20-TTTGTTGTCCAGTGCG     DLD1      day5       FDFT1  target   \n",
       "SAM24434749_rep20-TTTGTTGTCGCTGATA     DLD1      day5       PRR29  target   \n",
       "SAM24434749_rep20-TTTGTTGTCTACCCAC     DLD1      day5        PRKN  target   \n",
       "\n",
       "                                    n_genes_by_counts  total_counts  \\\n",
       "SAM24434749_rep1-AAACCCAAGATTAGCA                4965         16707   \n",
       "SAM24434749_rep1-AAACCCAAGATTGACA                2608          9568   \n",
       "SAM24434749_rep1-AAACCCAAGCATTTCG                2910          9185   \n",
       "SAM24434749_rep1-AAACCCAAGCTGAGCA                4980         18377   \n",
       "SAM24434749_rep1-AAACCCAAGCTTACGT                3641         15314   \n",
       "...                                               ...           ...   \n",
       "SAM24434749_rep20-TTTGTTGTCACTAGCA               2041          5961   \n",
       "SAM24434749_rep20-TTTGTTGTCATGCCAA               3116          8677   \n",
       "SAM24434749_rep20-TTTGTTGTCCAGTGCG               3492         11482   \n",
       "SAM24434749_rep20-TTTGTTGTCGCTGATA               1438          4141   \n",
       "SAM24434749_rep20-TTTGTTGTCTACCCAC               3862         13451   \n",
       "\n",
       "                                    total_counts_mt  pct_counts_mt  \\\n",
       "SAM24434749_rep1-AAACCCAAGATTAGCA               464       2.777279   \n",
       "SAM24434749_rep1-AAACCCAAGATTGACA               263       2.748746   \n",
       "SAM24434749_rep1-AAACCCAAGCATTTCG                76       0.827436   \n",
       "SAM24434749_rep1-AAACCCAAGCTGAGCA               654       3.558796   \n",
       "SAM24434749_rep1-AAACCCAAGCTTACGT               233       1.521484   \n",
       "...                                             ...            ...   \n",
       "SAM24434749_rep20-TTTGTTGTCACTAGCA               84       1.409160   \n",
       "SAM24434749_rep20-TTTGTTGTCATGCCAA              362       4.171949   \n",
       "SAM24434749_rep20-TTTGTTGTCCAGTGCG               69       0.600941   \n",
       "SAM24434749_rep20-TTTGTTGTCGCTGATA               11       0.265636   \n",
       "SAM24434749_rep20-TTTGTTGTCTACCCAC              199       1.479444   \n",
       "\n",
       "                                    total_counts_ribo  pct_counts_ribo  \\\n",
       "SAM24434749_rep1-AAACCCAAGATTAGCA                3603        21.565811   \n",
       "SAM24434749_rep1-AAACCCAAGATTGACA                3126        32.671405   \n",
       "SAM24434749_rep1-AAACCCAAGCATTTCG                2198        23.930321   \n",
       "SAM24434749_rep1-AAACCCAAGCTGAGCA                4596        25.009523   \n",
       "SAM24434749_rep1-AAACCCAAGCTTACGT                4062        26.524749   \n",
       "...                                               ...              ...   \n",
       "SAM24434749_rep20-TTTGTTGTCACTAGCA               1822        30.565341   \n",
       "SAM24434749_rep20-TTTGTTGTCATGCCAA               2054        23.671776   \n",
       "SAM24434749_rep20-TTTGTTGTCCAGTGCG               3138        27.329733   \n",
       "SAM24434749_rep20-TTTGTTGTCGCTGATA               1266        30.572326   \n",
       "SAM24434749_rep20-TTTGTTGTCTACCCAC               3446        25.618913   \n",
       "\n",
       "                                     S_score  G2M_score phase  \\\n",
       "SAM24434749_rep1-AAACCCAAGATTAGCA   0.013953  -0.417101     S   \n",
       "SAM24434749_rep1-AAACCCAAGATTGACA  -0.023256  -0.065538    G1   \n",
       "SAM24434749_rep1-AAACCCAAGCATTTCG  -0.516279   0.478009   G2M   \n",
       "SAM24434749_rep1-AAACCCAAGCTGAGCA  -0.306977   0.322917   G2M   \n",
       "SAM24434749_rep1-AAACCCAAGCTTACGT  -0.079070   0.150174   G2M   \n",
       "...                                      ...        ...   ...   \n",
       "SAM24434749_rep20-TTTGTTGTCACTAGCA -0.200636  -0.072502    G1   \n",
       "SAM24434749_rep20-TTTGTTGTCATGCCAA -0.172225  -0.064291    G1   \n",
       "SAM24434749_rep20-TTTGTTGTCCAGTGCG -0.825581   1.164046   G2M   \n",
       "SAM24434749_rep20-TTTGTTGTCGCTGATA -0.156209  -0.352201    G1   \n",
       "SAM24434749_rep20-TTTGTTGTCTACCCAC -0.792124   1.301887   G2M   \n",
       "\n",
       "                                             SCN_class  \n",
       "SAM24434749_rep1-AAACCCAAGATTAGCA   Untreatedclus_DLD1  \n",
       "SAM24434749_rep1-AAACCCAAGATTGACA   Untreatedclus_DLD1  \n",
       "SAM24434749_rep1-AAACCCAAGCATTTCG         DOXclus_DLD1  \n",
       "SAM24434749_rep1-AAACCCAAGCTGAGCA   Untreatedclus_DLD1  \n",
       "SAM24434749_rep1-AAACCCAAGCTTACGT   Untreatedclus_DLD1  \n",
       "...                                                ...  \n",
       "SAM24434749_rep20-TTTGTTGTCACTAGCA  Untreatedclus_DLD1  \n",
       "SAM24434749_rep20-TTTGTTGTCATGCCAA  Untreatedclus_DLD1  \n",
       "SAM24434749_rep20-TTTGTTGTCCAGTGCG  Untreatedclus_DLD1  \n",
       "SAM24434749_rep20-TTTGTTGTCGCTGATA  Untreatedclus_DLD1  \n",
       "SAM24434749_rep20-TTTGTTGTCTACCCAC  Untreatedclus_DLD1  \n",
       "\n",
       "[321358 rows x 20 columns]"
      ]
     },
     "execution_count": 4,
     "metadata": {},
     "output_type": "execute_result"
    }
   ],
   "source": [
    "adata.obs"
   ]
  },
  {
   "cell_type": "code",
   "execution_count": 5,
   "id": "505622a3-0f25-46bb-8bd1-b397493fb4a9",
   "metadata": {},
   "outputs": [],
   "source": [
    "adata2 = sc.read(\"/gstore/scratch/u/ghaffars/Dataset/Replogle/K562_gwps_raw_singlecell_MV.h5ad\")"
   ]
  },
  {
   "cell_type": "code",
   "execution_count": 6,
   "id": "88095b03-7015-4eab-8470-a01945e0a27a",
   "metadata": {},
   "outputs": [
    {
     "data": {
      "text/plain": [
       "['SNAPC4', 'INO80B', 'REST', 'NTC', 'MRPL18', ..., 'CPSF2', 'GTF2F2', 'RUVBL2', 'RPS8', 'LIN52']\n",
       "Length: 451\n",
       "Categories (451, object): ['ACIN1', 'ACTG1', 'ACTR5', 'ACTR6', ..., 'YY1', 'ZNF516', 'ZRANB2', 'NTC']"
      ]
     },
     "execution_count": 6,
     "metadata": {},
     "output_type": "execute_result"
    }
   ],
   "source": [
    "adata2.obs[\"gene\"].unique()"
   ]
  },
  {
   "cell_type": "code",
   "execution_count": 9,
   "id": "56a7252d-6605-48cc-ae88-7087587368ee",
   "metadata": {},
   "outputs": [],
   "source": [
    "A = adata2.obs[\"gene\"].tolist()"
   ]
  },
  {
   "cell_type": "code",
   "execution_count": 11,
   "id": "9f169467-fee1-499a-a8fe-f38ffbd67f98",
   "metadata": {},
   "outputs": [],
   "source": [
    "adata = adata[adata.obs[\"gene_symbol\"].isin(A)].copy()"
   ]
  },
  {
   "cell_type": "code",
   "execution_count": 12,
   "id": "6e056e75-1487-4a44-b5f3-eb978f195731",
   "metadata": {},
   "outputs": [
    {
     "data": {
      "text/plain": [
       "AnnData object with n_obs × n_vars = 31719 × 33908\n",
       "    obs: 'Sample', 'Barcode', 'DemuxType_crispr', 'DemuxAssignment_crispr', 'DemuxType_hashing', 'DemuxAssignment_hashing', 'cellline', 'timepoint', 'gene_symbol', 'class', 'n_genes_by_counts', 'total_counts', 'total_counts_mt', 'pct_counts_mt', 'total_counts_ribo', 'pct_counts_ribo', 'S_score', 'G2M_score', 'phase', 'SCN_class'\n",
       "    var: 'Symbol'\n",
       "    obsm: 'X_pca', 'X_scVI', 'X_umap'\n",
       "    layers: 'counts'\n",
       "    obsp: 'connectivities', 'distances'"
      ]
     },
     "execution_count": 12,
     "metadata": {},
     "output_type": "execute_result"
    }
   ],
   "source": [
    "adata"
   ]
  },
  {
   "cell_type": "code",
   "execution_count": 13,
   "id": "bc062303-6020-4ada-b42b-d51d9fbc9f36",
   "metadata": {},
   "outputs": [
    {
     "data": {
      "text/plain": [
       "['NTC', 'HYOU1', 'TJP1', 'SRF', 'DNMT3B', ..., 'PSMA6', 'BCAS2', 'PSMC6', 'RAD21', 'RAN']\n",
       "Length: 451\n",
       "Categories (451, object): ['ACIN1', 'ACTG1', 'ACTR5', 'ACTR6', ..., 'YWHAQ', 'YY1', 'ZNF516', 'ZRANB2']"
      ]
     },
     "execution_count": 13,
     "metadata": {},
     "output_type": "execute_result"
    }
   ],
   "source": [
    "adata.obs[\"gene_symbol\"].unique()"
   ]
  },
  {
   "cell_type": "code",
   "execution_count": 14,
   "id": "b1e488a4",
   "metadata": {},
   "outputs": [],
   "source": [
    "perturbations_key = \"gene_symbol\"\n",
    "gene_graph, gene_sets = mv.enrichr_to_gene_graph(\"./data/CORUM.txt\", np.array(adata.obs[perturbations_key].values))"
   ]
  },
  {
   "cell_type": "code",
   "execution_count": 15,
   "id": "85154759",
   "metadata": {},
   "outputs": [],
   "source": [
    "embeddings_obj = mv.AnnDataEmbeddings(adata, \"X_scVI\", perturbations_key, \"Sample\", \"NTC\")\n",
    "perturbation_embeddings = embeddings_obj.get_embeddings_from_list(list(gene_graph), agg=True)"
   ]
  },
  {
   "cell_type": "code",
   "execution_count": 16,
   "id": "38d38100",
   "metadata": {},
   "outputs": [
    {
     "data": {
      "text/plain": [
       "(429, 40)"
      ]
     },
     "execution_count": 16,
     "metadata": {},
     "output_type": "execute_result"
    }
   ],
   "source": [
    "perturbation_embeddings.shape"
   ]
  },
  {
   "cell_type": "code",
   "execution_count": 17,
   "id": "7ea5271f",
   "metadata": {
    "tags": []
   },
   "outputs": [
    {
     "name": "stdout",
     "output_type": "stream",
     "text": [
      "Performing Kolmogorov-Smirnov test on gene set cosine similarity..\n",
      "KS statistic: 0.0703012912482066, p-value: 0.06379920805049014\n"
     ]
    },
    {
     "data": {
      "image/png": "[encoded data removed]",
      "text/plain": [
       "<Figure size 640x480 with 1 Axes>"
      ]
     },
     "metadata": {},
     "output_type": "display_data"
    },
    {
     "name": "stdout",
     "output_type": "stream",
     "text": [
      "Computing distance matrix for embeddings..\n",
      "Computing link prediction metrics for cutoff percentile=0%\n",
      "Computing link prediction metrics for cutoff percentile=1%\n",
      "Computing link prediction metrics for cutoff percentile=2%\n",
      "Computing link prediction metrics for cutoff percentile=3%\n",
      "Computing link prediction metrics for cutoff percentile=4%\n",
      "Computing link prediction metrics for cutoff percentile=5%\n",
      "Computing link prediction metrics for cutoff percentile=6%\n",
      "Computing link prediction metrics for cutoff percentile=7%\n",
      "Computing link prediction metrics for cutoff percentile=8%\n",
      "Computing link prediction metrics for cutoff percentile=9%\n",
      "Computing link prediction metrics for cutoff percentile=10%\n",
      "Computing link prediction metrics for cutoff percentile=11%\n",
      "Computing link prediction metrics for cutoff percentile=12%\n",
      "Computing link prediction metrics for cutoff percentile=13%\n",
      "Computing link prediction metrics for cutoff percentile=14%\n",
      "Computing link prediction metrics for cutoff percentile=15%\n",
      "Computing link prediction metrics for cutoff percentile=16%\n",
      "Computing link prediction metrics for cutoff percentile=17%\n",
      "Computing link prediction metrics for cutoff percentile=18%\n",
      "Computing link prediction metrics for cutoff percentile=19%\n",
      "Computing link prediction metrics for cutoff percentile=20%\n",
      "Computing link prediction metrics for cutoff percentile=21%\n",
      "Computing link prediction metrics for cutoff percentile=22%\n",
      "Computing link prediction metrics for cutoff percentile=23%\n",
      "Computing link prediction metrics for cutoff percentile=24%\n",
      "Computing link prediction metrics for cutoff percentile=25%\n",
      "Computing link prediction metrics for cutoff percentile=26%\n",
      "Computing link prediction metrics for cutoff percentile=27%\n",
      "Computing link prediction metrics for cutoff percentile=28%\n",
      "Computing link prediction metrics for cutoff percentile=29%\n",
      "Computing link prediction metrics for cutoff percentile=30%\n",
      "Computing link prediction metrics for cutoff percentile=31%\n",
      "Computing link prediction metrics for cutoff percentile=32%\n",
      "Computing link prediction metrics for cutoff percentile=33%\n",
      "Computing link prediction metrics for cutoff percentile=34%\n",
      "Computing link prediction metrics for cutoff percentile=35%\n",
      "Computing link prediction metrics for cutoff percentile=36%\n",
      "Computing link prediction metrics for cutoff percentile=37%\n",
      "Computing link prediction metrics for cutoff percentile=38%\n",
      "Computing link prediction metrics for cutoff percentile=39%\n",
      "Computing link prediction metrics for cutoff percentile=40%\n",
      "Computing link prediction metrics for cutoff percentile=41%\n",
      "Computing link prediction metrics for cutoff percentile=42%\n",
      "Computing link prediction metrics for cutoff percentile=43%\n",
      "Computing link prediction metrics for cutoff percentile=44%\n",
      "Computing link prediction metrics for cutoff percentile=45%\n",
      "Computing link prediction metrics for cutoff percentile=46%\n",
      "Computing link prediction metrics for cutoff percentile=47%\n",
      "Computing link prediction metrics for cutoff percentile=48%\n",
      "Computing link prediction metrics for cutoff percentile=49%\n",
      "Computing link prediction metrics for cutoff percentile=50%\n",
      "Computing link prediction metrics for cutoff percentile=51%\n",
      "Computing link prediction metrics for cutoff percentile=52%\n",
      "Computing link prediction metrics for cutoff percentile=53%\n",
      "Computing link prediction metrics for cutoff percentile=54%\n",
      "Computing link prediction metrics for cutoff percentile=55%\n",
      "Computing link prediction metrics for cutoff percentile=56%\n",
      "Computing link prediction metrics for cutoff percentile=57%\n",
      "Computing link prediction metrics for cutoff percentile=58%\n",
      "Computing link prediction metrics for cutoff percentile=59%\n",
      "Computing link prediction metrics for cutoff percentile=60%\n",
      "Computing link prediction metrics for cutoff percentile=61%\n",
      "Computing link prediction metrics for cutoff percentile=62%\n",
      "Computing link prediction metrics for cutoff percentile=63%\n",
      "Computing link prediction metrics for cutoff percentile=64%\n",
      "Computing link prediction metrics for cutoff percentile=65%\n",
      "Computing link prediction metrics for cutoff percentile=66%\n",
      "Computing link prediction metrics for cutoff percentile=67%\n",
      "Computing link prediction metrics for cutoff percentile=68%\n",
      "Computing link prediction metrics for cutoff percentile=69%\n",
      "Computing link prediction metrics for cutoff percentile=70%\n",
      "Computing link prediction metrics for cutoff percentile=71%\n",
      "Computing link prediction metrics for cutoff percentile=72%\n",
      "Computing link prediction metrics for cutoff percentile=73%\n",
      "Computing link prediction metrics for cutoff percentile=74%\n",
      "Computing link prediction metrics for cutoff percentile=75%\n",
      "Computing link prediction metrics for cutoff percentile=76%\n",
      "Computing link prediction metrics for cutoff percentile=77%\n",
      "Computing link prediction metrics for cutoff percentile=78%\n",
      "Computing link prediction metrics for cutoff percentile=79%\n",
      "Computing link prediction metrics for cutoff percentile=80%\n",
      "Computing link prediction metrics for cutoff percentile=81%\n",
      "Computing link prediction metrics for cutoff percentile=82%\n",
      "Computing link prediction metrics for cutoff percentile=83%\n",
      "Computing link prediction metrics for cutoff percentile=84%\n",
      "Computing link prediction metrics for cutoff percentile=85%\n",
      "Computing link prediction metrics for cutoff percentile=86%\n",
      "Computing link prediction metrics for cutoff percentile=87%\n",
      "Computing link prediction metrics for cutoff percentile=88%\n",
      "Computing link prediction metrics for cutoff percentile=89%\n",
      "Computing link prediction metrics for cutoff percentile=90%\n",
      "Computing link prediction metrics for cutoff percentile=91%\n",
      "Computing link prediction metrics for cutoff percentile=92%\n",
      "Computing link prediction metrics for cutoff percentile=93%\n",
      "Computing link prediction metrics for cutoff percentile=94%\n",
      "Computing link prediction metrics for cutoff percentile=95%\n",
      "Computing link prediction metrics for cutoff percentile=96%\n",
      "Computing link prediction metrics for cutoff percentile=97%\n",
      "Computing link prediction metrics for cutoff percentile=98%\n",
      "Computing link prediction metrics for cutoff percentile=99%\n",
      "Finished prediction sweep over percentiles.\n"
     ]
    }
   ],
   "source": [
    "# needs to be cached in embeddings_obj\n",
    "report = mv.evaluate(perturbation_embeddings, gene_graph, gene_sets, percentile_range=[0, 100])"
   ]
  },
  {
   "cell_type": "code",
   "execution_count": 18,
   "id": "27b4b03d",
   "metadata": {},
   "outputs": [],
   "source": [
    "recalls = [report[\"metrics_by_percentile\"][i][\"recall\"] for i in report[\"metrics_by_percentile\"]]\n",
    "precisions = [report[\"metrics_by_percentile\"][i][\"precision\"] for i in report[\"metrics_by_percentile\"]]\n",
    "tprs = [report[\"metrics_by_percentile\"][i][\"TPR\"] for i in report[\"metrics_by_percentile\"]]\n",
    "fprs = [report[\"metrics_by_percentile\"][i][\"FPR\"] for i in report[\"metrics_by_percentile\"]]"
   ]
  },
  {
   "cell_type": "code",
   "execution_count": 19,
   "id": "304d2617-8de2-4250-b689-3815bd375f4f",
   "metadata": {},
   "outputs": [
    {
     "data": {
      "text/plain": [
       "{'recall': 0.23622047244094488,\n",
       " 'precision': 0.040048948715096226,\n",
       " 'f1_score': 0.06848663559402644,\n",
       " 'TPR': 0.23622047244094488,\n",
       " 'FPR': 0.0955782991072418}"
      ]
     },
     "execution_count": 19,
     "metadata": {},
     "output_type": "execute_result"
    }
   ],
   "source": [
    "report[\"metrics_by_percentile\"][95]"
   ]
  },
  {
   "cell_type": "code",
   "execution_count": 20,
   "id": "9741cf68-8040-4fbe-b0e8-151b87fd5a08",
   "metadata": {},
   "outputs": [
    {
     "data": {
      "text/plain": [
       "{'recall': 0.35039370078740156,\n",
       " 'precision': 0.029355175636303667,\n",
       " 'f1_score': 0.0541719502916561,\n",
       " 'TPR': 0.35039370078740156,\n",
       " 'FPR': 0.19557608382623337}"
      ]
     },
     "execution_count": 20,
     "metadata": {},
     "output_type": "execute_result"
    }
   ],
   "source": [
    "report[\"metrics_by_percentile\"][90]"
   ]
  },
  {
   "cell_type": "code",
   "execution_count": 21,
   "id": "da7b6945",
   "metadata": {},
   "outputs": [
    {
     "data": {
      "image/png": "[encoded data removed]",
      "text/plain": [
       "<Figure size 640x480 with 1 Axes>"
      ]
     },
     "metadata": {},
     "output_type": "display_data"
    }
   ],
   "source": [
    "# put plots in a plotting module file\n",
    "# plots should be generated from embeddings_obj or report\n",
    "plt.plot(recalls, precisions)\n",
    "sns.set_color_codes(\"pastel\")\n",
    "sns.set_theme()\n",
    "plt.xlabel(\"Recall\")\n",
    "plt.ylabel(\"Precision\")\n",
    "plt.title(\"Precision-Recall Curve on CORUM using scVI - DLDL1\")\n",
    "plt.show()"
   ]
  },
  {
   "cell_type": "code",
   "execution_count": 22,
   "id": "8eaba8e9",
   "metadata": {},
   "outputs": [
    {
     "data": {
      "image/png": "[encoded data removed]",
      "text/plain": [
       "<Figure size 640x480 with 1 Axes>"
      ]
     },
     "metadata": {},
     "output_type": "display_data"
    }
   ],
   "source": [
    "plt.plot(fprs, tprs)\n",
    "plt.xlabel(\"False Positive Rate\")\n",
    "plt.ylabel(\"True Positive Rate\")\n",
    "plt.title(\"auROC Curve on CORUM using scVI - DLDL1\")\n",
    "plt.show()"
   ]
  },
  {
   "cell_type": "code",
   "execution_count": 23,
   "id": "5d4c8913",
   "metadata": {},
   "outputs": [],
   "source": [
    "adata.uns[\"multivariate_report\"] = {\"roc_auc\": report[\"roc_auc\"], \"auprc\": report[\"auprc\"]}"
   ]
  },
  {
   "cell_type": "code",
   "execution_count": 16,
   "id": "a97a34df",
   "metadata": {},
   "outputs": [],
   "source": [
    "#adata.write_h5ad(\"/gstore/data/project/crc_recursion_gw/crc-NGS5186/DS000015340/Multivariate_complete.h5ad\")"
   ]
  },
  {
   "cell_type": "code",
   "execution_count": 24,
   "id": "c6b86b37-2eb1-48d1-a101-2611ea68786d",
   "metadata": {},
   "outputs": [
    {
     "data": {
      "text/plain": [
       "AnnData object with n_obs × n_vars = 31719 × 33908\n",
       "    obs: 'Sample', 'Barcode', 'DemuxType_crispr', 'DemuxAssignment_crispr', 'DemuxType_hashing', 'DemuxAssignment_hashing', 'cellline', 'timepoint', 'gene_symbol', 'class', 'n_genes_by_counts', 'total_counts', 'total_counts_mt', 'pct_counts_mt', 'total_counts_ribo', 'pct_counts_ribo', 'S_score', 'G2M_score', 'phase', 'SCN_class'\n",
       "    var: 'Symbol'\n",
       "    uns: 'perturbation_embeddings', 'perturbations', 'multivariate_report'\n",
       "    obsm: 'X_pca', 'X_scVI', 'X_umap'\n",
       "    layers: 'counts'\n",
       "    obsp: 'connectivities', 'distances'"
      ]
     },
     "execution_count": 24,
     "metadata": {},
     "output_type": "execute_result"
    }
   ],
   "source": [
    "adata"
   ]
  },
  {
   "cell_type": "code",
   "execution_count": 25,
   "id": "cf8141f7-9b59-482b-b413-f10deadf501f",
   "metadata": {},
   "outputs": [
    {
     "data": {
      "text/plain": [
       "{'roc_auc': 0.602053606195484, 'auprc': 0.024996790983664342}"
      ]
     },
     "execution_count": 25,
     "metadata": {},
     "output_type": "execute_result"
    }
   ],
   "source": [
    "adata.uns['multivariate_report']"
   ]
  },
  {
   "cell_type": "code",
   "execution_count": 26,
   "id": "7f089048-6324-423e-a4e4-5916c66d98e1",
   "metadata": {},
   "outputs": [],
   "source": [
    "metrics = pd.DataFrame.from_dict(report[\"metrics_by_percentile\"],orient='index')"
   ]
  },
  {
   "cell_type": "code",
   "execution_count": 27,
   "id": "e5791ed4-9f6d-46e1-a381-dfa800d25881",
   "metadata": {},
   "outputs": [],
   "source": [
    "metrics[\"percentile\"] = metrics.index"
   ]
  },
  {
   "cell_type": "code",
   "execution_count": 28,
   "id": "49c6b6bb-a163-42cb-806b-ec51ddd8f5d5",
   "metadata": {},
   "outputs": [
    {
     "data": {
      "text/html": [
       "<div>\n",
       "<style scoped>\n",
       "    .dataframe tbody tr th:only-of-type {\n",
       "        vertical-align: middle;\n",
       "    }\n",
       "\n",
       "    .dataframe tbody tr th {\n",
       "        vertical-align: top;\n",
       "    }\n",
       "\n",
       "    .dataframe thead th {\n",
       "        text-align: right;\n",
       "    }\n",
       "</style>\n",
       "<table border=\"1\" class=\"dataframe\">\n",
       "  <thead>\n",
       "    <tr style=\"text-align: right;\">\n",
       "      <th></th>\n",
       "      <th>recall</th>\n",
       "      <th>precision</th>\n",
       "      <th>f1_score</th>\n",
       "      <th>TPR</th>\n",
       "      <th>FPR</th>\n",
       "      <th>percentile</th>\n",
       "    </tr>\n",
       "  </thead>\n",
       "  <tbody>\n",
       "    <tr>\n",
       "      <th>90</th>\n",
       "      <td>0.350394</td>\n",
       "      <td>0.029355</td>\n",
       "      <td>0.054172</td>\n",
       "      <td>0.350394</td>\n",
       "      <td>0.195576</td>\n",
       "      <td>90</td>\n",
       "    </tr>\n",
       "    <tr>\n",
       "      <th>91</th>\n",
       "      <td>0.329396</td>\n",
       "      <td>0.030703</td>\n",
       "      <td>0.056171</td>\n",
       "      <td>0.329396</td>\n",
       "      <td>0.175539</td>\n",
       "      <td>91</td>\n",
       "    </tr>\n",
       "    <tr>\n",
       "      <th>92</th>\n",
       "      <td>0.310367</td>\n",
       "      <td>0.032598</td>\n",
       "      <td>0.059000</td>\n",
       "      <td>0.310367</td>\n",
       "      <td>0.155479</td>\n",
       "      <td>92</td>\n",
       "    </tr>\n",
       "    <tr>\n",
       "      <th>93</th>\n",
       "      <td>0.288058</td>\n",
       "      <td>0.034652</td>\n",
       "      <td>0.061861</td>\n",
       "      <td>0.288058</td>\n",
       "      <td>0.135464</td>\n",
       "      <td>93</td>\n",
       "    </tr>\n",
       "    <tr>\n",
       "      <th>94</th>\n",
       "      <td>0.264436</td>\n",
       "      <td>0.037215</td>\n",
       "      <td>0.065247</td>\n",
       "      <td>0.264436</td>\n",
       "      <td>0.115483</td>\n",
       "      <td>94</td>\n",
       "    </tr>\n",
       "    <tr>\n",
       "      <th>95</th>\n",
       "      <td>0.236220</td>\n",
       "      <td>0.040049</td>\n",
       "      <td>0.068487</td>\n",
       "      <td>0.236220</td>\n",
       "      <td>0.095578</td>\n",
       "      <td>95</td>\n",
       "    </tr>\n",
       "    <tr>\n",
       "      <th>96</th>\n",
       "      <td>0.207349</td>\n",
       "      <td>0.044208</td>\n",
       "      <td>0.072878</td>\n",
       "      <td>0.207349</td>\n",
       "      <td>0.075674</td>\n",
       "      <td>96</td>\n",
       "    </tr>\n",
       "    <tr>\n",
       "      <th>97</th>\n",
       "      <td>0.175853</td>\n",
       "      <td>0.050490</td>\n",
       "      <td>0.078454</td>\n",
       "      <td>0.175853</td>\n",
       "      <td>0.055825</td>\n",
       "      <td>97</td>\n",
       "    </tr>\n",
       "    <tr>\n",
       "      <th>98</th>\n",
       "      <td>0.146982</td>\n",
       "      <td>0.064609</td>\n",
       "      <td>0.089762</td>\n",
       "      <td>0.146982</td>\n",
       "      <td>0.035921</td>\n",
       "      <td>98</td>\n",
       "    </tr>\n",
       "    <tr>\n",
       "      <th>99</th>\n",
       "      <td>0.108924</td>\n",
       "      <td>0.102028</td>\n",
       "      <td>0.105363</td>\n",
       "      <td>0.108924</td>\n",
       "      <td>0.016183</td>\n",
       "      <td>99</td>\n",
       "    </tr>\n",
       "  </tbody>\n",
       "</table>\n",
       "</div>"
      ],
      "text/plain": [
       "      recall  precision  f1_score       TPR       FPR  percentile\n",
       "90  0.350394   0.029355  0.054172  0.350394  0.195576          90\n",
       "91  0.329396   0.030703  0.056171  0.329396  0.175539          91\n",
       "92  0.310367   0.032598  0.059000  0.310367  0.155479          92\n",
       "93  0.288058   0.034652  0.061861  0.288058  0.135464          93\n",
       "94  0.264436   0.037215  0.065247  0.264436  0.115483          94\n",
       "95  0.236220   0.040049  0.068487  0.236220  0.095578          95\n",
       "96  0.207349   0.044208  0.072878  0.207349  0.075674          96\n",
       "97  0.175853   0.050490  0.078454  0.175853  0.055825          97\n",
       "98  0.146982   0.064609  0.089762  0.146982  0.035921          98\n",
       "99  0.108924   0.102028  0.105363  0.108924  0.016183          99"
      ]
     },
     "execution_count": 28,
     "metadata": {},
     "output_type": "execute_result"
    }
   ],
   "source": [
    "metrics[metrics.percentile>89]"
   ]
  },
  {
   "cell_type": "code",
   "execution_count": 29,
   "id": "14e5d669-7529-4dbd-b69a-83237abf540f",
   "metadata": {},
   "outputs": [
    {
     "data": {
      "image/png": "[encoded data removed]",
      "text/plain": [
       "<Figure size 900x300 with 3 Axes>"
      ]
     },
     "metadata": {},
     "output_type": "display_data"
    }
   ],
   "source": [
    "_, axs = plt.subplots(1, 3, figsize=np.array([3, 1]) * 3)\n",
    "xy = [(\"percentile\", \"recall\"), (\"percentile\", \"precision\"), (\"recall\", \"precision\")]\n",
    "for (x, y), ax in zip(xy, axs.flat):\n",
    "    ax.plot(metrics[x], metrics[y])\n",
    "    ax.grid()\n",
    "    ax.set_xlabel(x)\n",
    "    ax.set_ylabel(y)\n",
    "plt.tight_layout()"
   ]
  },
  {
   "cell_type": "code",
   "execution_count": null,
   "id": "24f75dc9-5df0-421b-9f00-6f5074792702",
   "metadata": {},
   "outputs": [],
   "source": []
  }
 ],
 "metadata": {
  "kernelspec": {
   "display_name": "Dev/GPuy310",
   "language": "python",
   "name": "gpuy310-dev"
  },
  "language_info": {
   "codemirror_mode": {
    "name": "ipython",
    "version": 3
   },
   "file_extension": ".py",
   "mimetype": "text/x-python",
   "name": "python",
   "nbconvert_exporter": "python",
   "pygments_lexer": "ipython3",
   "version": "3.10.8"
  },
  "widgets": {
   "application/vnd.jupyter.widget-state+json": {
    "state": {},
    "version_major": 2,
    "version_minor": 0
   }
  }
 },
 "nbformat": 4,
 "nbformat_minor": 5
}
