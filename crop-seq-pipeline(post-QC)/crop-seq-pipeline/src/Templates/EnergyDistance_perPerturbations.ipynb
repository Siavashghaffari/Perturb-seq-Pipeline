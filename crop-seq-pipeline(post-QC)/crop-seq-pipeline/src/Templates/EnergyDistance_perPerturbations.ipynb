{
 "cells": [
  {
   "cell_type": "markdown",
   "id": "bb530fe7-c5ba-4ec4-b436-7f717b909ce0",
   "metadata": {},
   "source": [
    "# EnergyDistance: "
   ]
  },
  {
   "cell_type": "code",
   "execution_count": 2,
   "id": "cdd59412-0a04-4bea-8c11-fd04e79b2a25",
   "metadata": {},
   "outputs": [],
   "source": [
    "import scanpy as sc\n",
    "import numpy as np\n",
    "import pandas as pd\n",
    "from tqdm import tqdm\n",
    "import os\n",
    "#plotting\n",
    "import matplotlib\n",
    "from matplotlib import pyplot as plt\n",
    "import seaborn as sns\n",
    "from dask.distributed import Client\n",
    "import sklearn"
   ]
  },
  {
   "cell_type": "code",
   "execution_count": 3,
   "id": "73f8c9aa-f309-468a-ae92-379a64133079",
   "metadata": {},
   "outputs": [],
   "source": [
    "# Please note that if we import the whole folder using __init__.py we would be running into ba Dask CanceledError due to different \n",
    "# imported Dask conflict, so we have to import only scEnergy script\n",
    "import sys\n",
    "sys.path.append(\"..\")\n",
    "import Templates.tools.scEnergy as eng "
   ]
  },
  {
   "cell_type": "code",
   "execution_count": 4,
   "id": "98e328a0-104a-414c-8c17-dbcf574bb808",
   "metadata": {},
   "outputs": [],
   "source": [
    "%load_ext autoreload\n",
    "%autoreload 2"
   ]
  },
  {
   "cell_type": "code",
   "execution_count": 5,
   "id": "f83219c0-b2aa-462b-90f0-6127a96c6446",
   "metadata": {},
   "outputs": [],
   "source": [
    "adata = sc.read_h5ad(ED_file)"
   ]
  },
  {
   "cell_type": "code",
   "execution_count": 6,
   "id": "87a513ff-f091-4057-8356-3cbbe0180222",
   "metadata": {},
   "outputs": [
    {
     "data": {
      "text/plain": [
       "AnnData object with n_obs × n_vars = 321358 × 33908\n",
       "    obs: 'Sample', 'Barcode', 'DemuxType_crispr', 'DemuxAssignment_crispr', 'DemuxType_hashing', 'DemuxAssignment_hashing', 'cellline', 'timepoint', 'gene_symbol', 'class', 'n_genes_by_counts', 'total_counts', 'total_counts_mt', 'pct_counts_mt', 'total_counts_ribo', 'pct_counts_ribo', 'S_score', 'G2M_score', 'phase', 'SCN_class'\n",
       "    var: 'Symbol'\n",
       "    obsm: 'X_pca', 'X_scVI', 'X_umap'\n",
       "    layers: 'counts'\n",
       "    obsp: 'connectivities', 'distances'"
      ]
     },
     "execution_count": 6,
     "metadata": {},
     "output_type": "execute_result"
    }
   ],
   "source": [
    "adata"
   ]
  },
  {
   "cell_type": "code",
   "execution_count": null,
   "id": "fe6604d1-a7ea-487d-9668-4daf366029f7",
   "metadata": {},
   "outputs": [],
   "source": [
    "#adata.obs_names_make_unique()"
   ]
  },
  {
   "cell_type": "markdown",
   "id": "4427038c-fecc-4ab5-a09f-4a61f659721a",
   "metadata": {},
   "source": [
    "## Filter adata"
   ]
  },
  {
   "cell_type": "code",
   "execution_count": 7,
   "id": "e14087aa-e751-4823-a0f6-e799da210f1b",
   "metadata": {},
   "outputs": [],
   "source": [
    "#adata = adata[adata.obs[\"DemuxAssignment_hashing\"]!=\"POSITIVE_CONTROL\"].copy()"
   ]
  },
  {
   "cell_type": "code",
   "execution_count": null,
   "id": "1c6ebd1a-4974-400c-9fe7-50e42474990f",
   "metadata": {},
   "outputs": [],
   "source": [
    "#adata= adata[~adata.obs.index.duplicated(keep='first')].copy()"
   ]
  },
  {
   "cell_type": "markdown",
   "id": "823dd9da-f1fb-4794-80fd-007220b51666",
   "metadata": {},
   "source": [
    "## Subsampling NTCs"
   ]
  },
  {
   "cell_type": "code",
   "execution_count": 8,
   "id": "d5b3bbf6-912f-404d-8e7b-7f72fac2743d",
   "metadata": {},
   "outputs": [],
   "source": [
    "NTC = adata[adata.obs[\"gene_symbol\"]==\"NTC\"].copy()"
   ]
  },
  {
   "cell_type": "code",
   "execution_count": null,
   "id": "bdc7529d-e811-4c10-ba5f-d1a86df280b9",
   "metadata": {},
   "outputs": [],
   "source": [
    "#NTC= NTC[~NTC.obs.index.duplicated(keep='first')].copy()"
   ]
  },
  {
   "cell_type": "code",
   "execution_count": 9,
   "id": "ef732a35-c6b1-40d4-a481-957f13c0df20",
   "metadata": {},
   "outputs": [],
   "source": [
    "if n is not None:\n",
    "    NTC = NTC[NTC.obs.sample(n = n).index.copy()].copy()"
   ]
  },
  {
   "cell_type": "code",
   "execution_count": 10,
   "id": "ddfbd238-d92c-4dd3-a784-75a47ddb0b39",
   "metadata": {},
   "outputs": [
    {
     "data": {
      "text/plain": [
       "AnnData object with n_obs × n_vars = 500 × 33908\n",
       "    obs: 'Sample', 'Barcode', 'DemuxType_crispr', 'DemuxAssignment_crispr', 'DemuxType_hashing', 'DemuxAssignment_hashing', 'cellline', 'timepoint', 'gene_symbol', 'class', 'n_genes_by_counts', 'total_counts', 'total_counts_mt', 'pct_counts_mt', 'total_counts_ribo', 'pct_counts_ribo', 'S_score', 'G2M_score', 'phase', 'SCN_class'\n",
       "    var: 'Symbol'\n",
       "    obsm: 'X_pca', 'X_scVI', 'X_umap'\n",
       "    layers: 'counts'\n",
       "    obsp: 'connectivities', 'distances'"
      ]
     },
     "execution_count": 10,
     "metadata": {},
     "output_type": "execute_result"
    }
   ],
   "source": [
    "NTC"
   ]
  },
  {
   "cell_type": "markdown",
   "id": "e852bb55-4b55-4a7f-9606-dca138c9eacd",
   "metadata": {},
   "source": [
    "## Create only genes dataframe"
   ]
  },
  {
   "cell_type": "code",
   "execution_count": 11,
   "id": "e4e81638-99fe-42ff-b3fc-e3ffaced7a8d",
   "metadata": {},
   "outputs": [],
   "source": [
    "genes = [el for el in adata.obs['gene_symbol'].unique()]"
   ]
  },
  {
   "cell_type": "code",
   "execution_count": 12,
   "id": "9ea9319e-fa7e-4127-b095-6a687b35a6fd",
   "metadata": {},
   "outputs": [],
   "source": [
    "genes.remove(\"NTC\")"
   ]
  },
  {
   "cell_type": "code",
   "execution_count": 13,
   "id": "f66f0905-2d92-42b8-9cea-8f4098b74630",
   "metadata": {},
   "outputs": [],
   "source": [
    "GENE = adata[adata.obs[\"gene_symbol\"].isin(genes)].copy()"
   ]
  },
  {
   "cell_type": "code",
   "execution_count": 14,
   "id": "14f660d5-34d2-42ff-92b8-fb62a38f4f52",
   "metadata": {},
   "outputs": [
    {
     "data": {
      "text/plain": [
       "AnnData object with n_obs × n_vars = 313065 × 33908\n",
       "    obs: 'Sample', 'Barcode', 'DemuxType_crispr', 'DemuxAssignment_crispr', 'DemuxType_hashing', 'DemuxAssignment_hashing', 'cellline', 'timepoint', 'gene_symbol', 'class', 'n_genes_by_counts', 'total_counts', 'total_counts_mt', 'pct_counts_mt', 'total_counts_ribo', 'pct_counts_ribo', 'S_score', 'G2M_score', 'phase', 'SCN_class'\n",
       "    var: 'Symbol'\n",
       "    obsm: 'X_pca', 'X_scVI', 'X_umap'\n",
       "    layers: 'counts'\n",
       "    obsp: 'connectivities', 'distances'"
      ]
     },
     "execution_count": 14,
     "metadata": {},
     "output_type": "execute_result"
    }
   ],
   "source": [
    "GENE"
   ]
  },
  {
   "cell_type": "markdown",
   "id": "1620e1f8-a3cb-405d-bffa-a0393fce64d0",
   "metadata": {},
   "source": [
    "## Concatenate dataframes"
   ]
  },
  {
   "cell_type": "code",
   "execution_count": 15,
   "id": "8c9f52b8-f524-4795-b8c7-0d642608d0b3",
   "metadata": {},
   "outputs": [
    {
     "name": "stderr",
     "output_type": "stream",
     "text": [
      "/apps/user/gpy/envs/dev/GPUy310pascal/lib/python3.10/site-packages/anndata/_core/anndata.py:1755: FutureWarning: The AnnData.concatenate method is deprecated in favour of the anndata.concat function. Please use anndata.concat instead.\n",
      "\n",
      "See the tutorial for concat at: https://anndata.readthedocs.io/en/latest/concatenation.html\n",
      "  warnings.warn(\n"
     ]
    }
   ],
   "source": [
    "c = NTC.concatenate(GENE)"
   ]
  },
  {
   "cell_type": "code",
   "execution_count": 16,
   "id": "8cdbf30e-97ad-459d-99b6-14863644eaaf",
   "metadata": {},
   "outputs": [
    {
     "data": {
      "text/plain": [
       "AnnData object with n_obs × n_vars = 313565 × 33908\n",
       "    obs: 'Sample', 'Barcode', 'DemuxType_crispr', 'DemuxAssignment_crispr', 'DemuxType_hashing', 'DemuxAssignment_hashing', 'cellline', 'timepoint', 'gene_symbol', 'class', 'n_genes_by_counts', 'total_counts', 'total_counts_mt', 'pct_counts_mt', 'total_counts_ribo', 'pct_counts_ribo', 'S_score', 'G2M_score', 'phase', 'SCN_class', 'batch'\n",
       "    var: 'Symbol'\n",
       "    obsm: 'X_pca', 'X_scVI', 'X_umap'\n",
       "    layers: 'counts'"
      ]
     },
     "execution_count": 16,
     "metadata": {},
     "output_type": "execute_result"
    }
   ],
   "source": [
    "c"
   ]
  },
  {
   "cell_type": "markdown",
   "id": "3db08d9b-28f8-430a-ad74-56547d569cc6",
   "metadata": {},
   "source": [
    "## Create dictionary with NTCs. Pool them first"
   ]
  },
  {
   "cell_type": "markdown",
   "id": "3d007d11-9219-4c2b-8e0e-2ba51654666c",
   "metadata": {},
   "source": [
    "### This is to calculate consistency among NTCs"
   ]
  },
  {
   "cell_type": "code",
   "execution_count": 17,
   "id": "759879c3-9623-418f-a374-184854b075f7",
   "metadata": {},
   "outputs": [],
   "source": [
    "ntcs_perturbations = [el for el in NTC.obs['DemuxAssignment_crispr'].unique()]"
   ]
  },
  {
   "cell_type": "code",
   "execution_count": 18,
   "id": "076f38e1-5ce1-4c69-9b29-39bce0fbf392",
   "metadata": {},
   "outputs": [],
   "source": [
    "perturbations = [el for el in GENE.obs['DemuxAssignment_crispr'].unique()]"
   ]
  },
  {
   "cell_type": "markdown",
   "id": "4f2fe9be-a67e-4bd0-8833-013a6ae94b65",
   "metadata": {},
   "source": [
    "### Separate NTCs"
   ]
  },
  {
   "cell_type": "code",
   "execution_count": 19,
   "id": "08e0b604-fb1b-44a7-925b-ad08fbd328c3",
   "metadata": {},
   "outputs": [],
   "source": [
    "pert = {}\n",
    "\n",
    "for el in perturbations:\n",
    "    v = eng.get_values_umap(c, 'DemuxAssignment_crispr', el)\n",
    "    pert[el] = c[v].obsm[embeddings_key]"
   ]
  },
  {
   "cell_type": "code",
   "execution_count": 20,
   "id": "a639287c-e287-4cff-949c-990293ea24ab",
   "metadata": {},
   "outputs": [],
   "source": [
    "ntcs_pool = {}\n",
    "W = eng.get_values_umap(c, 'gene_symbol', \"NTC\")\n",
    "ntcs_pool['pool'] = c[W].obsm[embeddings_key]"
   ]
  },
  {
   "cell_type": "markdown",
   "id": "6803e411-891f-43f9-a4a7-a3d260e2f7ba",
   "metadata": {},
   "source": [
    "## Calculate actual EnergyDistance as ed"
   ]
  },
  {
   "cell_type": "code",
   "execution_count": 21,
   "id": "b96d7aa1-6b2a-4a9c-8121-4687091ea46c",
   "metadata": {},
   "outputs": [],
   "source": [
    "ed = eng.run(\n",
    "    client = Client(processes=True, n_workers=32),\n",
    "    perturbations = pert, \n",
    "    controls = ntcs_pool,\n",
    "    pool = 'Yes'\n",
    ")"
   ]
  },
  {
   "cell_type": "markdown",
   "id": "e4ddeef4-8e83-4c14-b77c-6363890d3271",
   "metadata": {},
   "source": [
    "### Restart the client before new Computations with the refreshed client"
   ]
  },
  {
   "cell_type": "code",
   "execution_count": 22,
   "id": "b21629f5-2e79-4b56-a581-177a7e4d26b6",
   "metadata": {},
   "outputs": [],
   "source": [
    "#client = Client()\n",
    "#client.restart()"
   ]
  },
  {
   "cell_type": "code",
   "execution_count": 23,
   "id": "5c73b148-ed58-4dcd-8355-2b8a1cbdf9f2",
   "metadata": {},
   "outputs": [
    {
     "data": {
      "text/html": [
       "<div>\n",
       "<style scoped>\n",
       "    .dataframe tbody tr th:only-of-type {\n",
       "        vertical-align: middle;\n",
       "    }\n",
       "\n",
       "    .dataframe tbody tr th {\n",
       "        vertical-align: top;\n",
       "    }\n",
       "\n",
       "    .dataframe thead th {\n",
       "        text-align: right;\n",
       "    }\n",
       "</style>\n",
       "<table border=\"1\" class=\"dataframe\">\n",
       "  <thead>\n",
       "    <tr style=\"text-align: right;\">\n",
       "      <th></th>\n",
       "      <th>pvalue</th>\n",
       "      <th>statistic</th>\n",
       "      <th>control_key</th>\n",
       "    </tr>\n",
       "  </thead>\n",
       "  <tbody>\n",
       "    <tr>\n",
       "      <th>ENSG00000130165_2</th>\n",
       "      <td>0.0</td>\n",
       "      <td>0.754642</td>\n",
       "      <td>pool</td>\n",
       "    </tr>\n",
       "    <tr>\n",
       "      <th>ENSG00000189091_4</th>\n",
       "      <td>0.0</td>\n",
       "      <td>7.29074</td>\n",
       "      <td>pool</td>\n",
       "    </tr>\n",
       "    <tr>\n",
       "      <th>ENSG00000262633_3</th>\n",
       "      <td>0.0</td>\n",
       "      <td>5.582166</td>\n",
       "      <td>pool</td>\n",
       "    </tr>\n",
       "    <tr>\n",
       "      <th>ENSG00000006555_1</th>\n",
       "      <td>0.0</td>\n",
       "      <td>2.87281</td>\n",
       "      <td>pool</td>\n",
       "    </tr>\n",
       "    <tr>\n",
       "      <th>ENSG00000249104_3</th>\n",
       "      <td>0.0</td>\n",
       "      <td>3.171891</td>\n",
       "      <td>pool</td>\n",
       "    </tr>\n",
       "    <tr>\n",
       "      <th>...</th>\n",
       "      <td>...</td>\n",
       "      <td>...</td>\n",
       "      <td>...</td>\n",
       "    </tr>\n",
       "    <tr>\n",
       "      <th>ENSG00000181038_2</th>\n",
       "      <td>1.0</td>\n",
       "      <td>0.193917</td>\n",
       "      <td>pool</td>\n",
       "    </tr>\n",
       "    <tr>\n",
       "      <th>ENSG00000073464_3</th>\n",
       "      <td>1.0</td>\n",
       "      <td>0.171965</td>\n",
       "      <td>pool</td>\n",
       "    </tr>\n",
       "    <tr>\n",
       "      <th>ENSG00000165462_1</th>\n",
       "      <td>1.0</td>\n",
       "      <td>0.244916</td>\n",
       "      <td>pool</td>\n",
       "    </tr>\n",
       "    <tr>\n",
       "      <th>ENSG00000206069_2</th>\n",
       "      <td>1.0</td>\n",
       "      <td>0.571594</td>\n",
       "      <td>pool</td>\n",
       "    </tr>\n",
       "    <tr>\n",
       "      <th>ENSG00000120937_4</th>\n",
       "      <td>1.0</td>\n",
       "      <td>0.201696</td>\n",
       "      <td>pool</td>\n",
       "    </tr>\n",
       "  </tbody>\n",
       "</table>\n",
       "<p>20488 rows × 3 columns</p>\n",
       "</div>"
      ],
      "text/plain": [
       "                  pvalue statistic control_key\n",
       "ENSG00000130165_2    0.0  0.754642        pool\n",
       "ENSG00000189091_4    0.0   7.29074        pool\n",
       "ENSG00000262633_3    0.0  5.582166        pool\n",
       "ENSG00000006555_1    0.0   2.87281        pool\n",
       "ENSG00000249104_3    0.0  3.171891        pool\n",
       "...                  ...       ...         ...\n",
       "ENSG00000181038_2    1.0  0.193917        pool\n",
       "ENSG00000073464_3    1.0  0.171965        pool\n",
       "ENSG00000165462_1    1.0  0.244916        pool\n",
       "ENSG00000206069_2    1.0  0.571594        pool\n",
       "ENSG00000120937_4    1.0  0.201696        pool\n",
       "\n",
       "[20488 rows x 3 columns]"
      ]
     },
     "execution_count": 23,
     "metadata": {},
     "output_type": "execute_result"
    }
   ],
   "source": [
    "PVAL = pd.DataFrame(ed).T.sort_values(by='pvalue')\n",
    "PVAL"
   ]
  },
  {
   "cell_type": "markdown",
   "id": "fe1fdd8e-2fca-4bcd-bbbc-72229e42f24c",
   "metadata": {},
   "source": [
    "#### p-value should be 1/1000 at minimum (for 1000 permutations)"
   ]
  },
  {
   "cell_type": "code",
   "execution_count": null,
   "id": "58882fb4-f76b-4740-9767-0260cf56a803",
   "metadata": {},
   "outputs": [],
   "source": [
    "PVAL['pvalue'] = PVAL['pvalue'].replace(0,0.001)"
   ]
  },
  {
   "cell_type": "code",
   "execution_count": 24,
   "id": "d2c0692c-9185-4c95-82cb-9d6f13d3f271",
   "metadata": {},
   "outputs": [],
   "source": [
    "PVAL['DemuxAssignment_crispr'] = PVAL.index"
   ]
  },
  {
   "cell_type": "code",
   "execution_count": 25,
   "id": "8770fff7-4be4-40a5-8c93-4649f2b35b7d",
   "metadata": {},
   "outputs": [],
   "source": [
    "Pertubation_to_gene = adata.obs[[\"DemuxAssignment_crispr\", \"gene_symbol\"]].drop_duplicates()"
   ]
  },
  {
   "cell_type": "code",
   "execution_count": 26,
   "id": "6e056370-cfc1-4c39-9944-2ebea4affc22",
   "metadata": {},
   "outputs": [
    {
     "data": {
      "text/html": [
       "<div>\n",
       "<style scoped>\n",
       "    .dataframe tbody tr th:only-of-type {\n",
       "        vertical-align: middle;\n",
       "    }\n",
       "\n",
       "    .dataframe tbody tr th {\n",
       "        vertical-align: top;\n",
       "    }\n",
       "\n",
       "    .dataframe thead th {\n",
       "        text-align: right;\n",
       "    }\n",
       "</style>\n",
       "<table border=\"1\" class=\"dataframe\">\n",
       "  <thead>\n",
       "    <tr style=\"text-align: right;\">\n",
       "      <th></th>\n",
       "      <th>DemuxAssignment_crispr</th>\n",
       "      <th>gene_symbol</th>\n",
       "    </tr>\n",
       "  </thead>\n",
       "  <tbody>\n",
       "    <tr>\n",
       "      <th>SAM24434749_rep1-AAACCCAAGATTAGCA</th>\n",
       "      <td>ENSG00000074771_1</td>\n",
       "      <td>NOX3</td>\n",
       "    </tr>\n",
       "    <tr>\n",
       "      <th>SAM24434749_rep1-AAACCCAAGATTGACA</th>\n",
       "      <td>ENSG00000157703_1</td>\n",
       "      <td>SVOPL</td>\n",
       "    </tr>\n",
       "    <tr>\n",
       "      <th>SAM24434749_rep1-AAACCCAAGCATTTCG</th>\n",
       "      <td>ENSG00000178015_2</td>\n",
       "      <td>GPR150</td>\n",
       "    </tr>\n",
       "    <tr>\n",
       "      <th>SAM24434749_rep1-AAACCCAAGCTGAGCA</th>\n",
       "      <td>ENSG00000186469_2</td>\n",
       "      <td>GNG2</td>\n",
       "    </tr>\n",
       "    <tr>\n",
       "      <th>SAM24434749_rep1-AAACCCAAGCTTACGT</th>\n",
       "      <td>ENSG00000133789_4</td>\n",
       "      <td>SWAP70</td>\n",
       "    </tr>\n",
       "    <tr>\n",
       "      <th>...</th>\n",
       "      <td>...</td>\n",
       "      <td>...</td>\n",
       "    </tr>\n",
       "    <tr>\n",
       "      <th>SAM24434749_rep20-CCGGTGAGTTGGGATG</th>\n",
       "      <td>ENSG00000167088_2</td>\n",
       "      <td>SNRPD1</td>\n",
       "    </tr>\n",
       "    <tr>\n",
       "      <th>SAM24434749_rep20-CTGTACCTCTTCGGTC</th>\n",
       "      <td>ENSG00000006059_3</td>\n",
       "      <td>KRT33A</td>\n",
       "    </tr>\n",
       "    <tr>\n",
       "      <th>SAM24434749_rep20-GAGGGATGTACAGTAA</th>\n",
       "      <td>ENSG00000113810_2</td>\n",
       "      <td>SMC4</td>\n",
       "    </tr>\n",
       "    <tr>\n",
       "      <th>SAM24434749_rep20-GTGAGCCTCTCCCTAG</th>\n",
       "      <td>ENSG00000030066_3</td>\n",
       "      <td>NUP160</td>\n",
       "    </tr>\n",
       "    <tr>\n",
       "      <th>SAM24434749_rep20-TGTGCGGCAGATTCGT</th>\n",
       "      <td>ENSG00000100565_1</td>\n",
       "      <td>LRRC74A</td>\n",
       "    </tr>\n",
       "  </tbody>\n",
       "</table>\n",
       "<p>20988 rows × 2 columns</p>\n",
       "</div>"
      ],
      "text/plain": [
       "                                   DemuxAssignment_crispr gene_symbol\n",
       "SAM24434749_rep1-AAACCCAAGATTAGCA       ENSG00000074771_1        NOX3\n",
       "SAM24434749_rep1-AAACCCAAGATTGACA       ENSG00000157703_1       SVOPL\n",
       "SAM24434749_rep1-AAACCCAAGCATTTCG       ENSG00000178015_2      GPR150\n",
       "SAM24434749_rep1-AAACCCAAGCTGAGCA       ENSG00000186469_2        GNG2\n",
       "SAM24434749_rep1-AAACCCAAGCTTACGT       ENSG00000133789_4      SWAP70\n",
       "...                                                   ...         ...\n",
       "SAM24434749_rep20-CCGGTGAGTTGGGATG      ENSG00000167088_2      SNRPD1\n",
       "SAM24434749_rep20-CTGTACCTCTTCGGTC      ENSG00000006059_3      KRT33A\n",
       "SAM24434749_rep20-GAGGGATGTACAGTAA      ENSG00000113810_2        SMC4\n",
       "SAM24434749_rep20-GTGAGCCTCTCCCTAG      ENSG00000030066_3      NUP160\n",
       "SAM24434749_rep20-TGTGCGGCAGATTCGT      ENSG00000100565_1     LRRC74A\n",
       "\n",
       "[20988 rows x 2 columns]"
      ]
     },
     "execution_count": 26,
     "metadata": {},
     "output_type": "execute_result"
    }
   ],
   "source": [
    "Pertubation_to_gene"
   ]
  },
  {
   "cell_type": "code",
   "execution_count": 27,
   "id": "1a51f96c-2e89-4fa1-b22d-345f6a48786b",
   "metadata": {},
   "outputs": [],
   "source": [
    "df = PVAL.merge(Pertubation_to_gene, on=\"DemuxAssignment_crispr\", how=\"left\").reset_index(drop=True)"
   ]
  },
  {
   "cell_type": "code",
   "execution_count": 28,
   "id": "f4fac626-739f-41f2-888a-d819acd40214",
   "metadata": {},
   "outputs": [
    {
     "data": {
      "text/html": [
       "<div>\n",
       "<style scoped>\n",
       "    .dataframe tbody tr th:only-of-type {\n",
       "        vertical-align: middle;\n",
       "    }\n",
       "\n",
       "    .dataframe tbody tr th {\n",
       "        vertical-align: top;\n",
       "    }\n",
       "\n",
       "    .dataframe thead th {\n",
       "        text-align: right;\n",
       "    }\n",
       "</style>\n",
       "<table border=\"1\" class=\"dataframe\">\n",
       "  <thead>\n",
       "    <tr style=\"text-align: right;\">\n",
       "      <th></th>\n",
       "      <th>pvalue</th>\n",
       "      <th>statistic</th>\n",
       "      <th>control_key</th>\n",
       "      <th>DemuxAssignment_crispr</th>\n",
       "      <th>gene_symbol</th>\n",
       "    </tr>\n",
       "  </thead>\n",
       "  <tbody>\n",
       "    <tr>\n",
       "      <th>0</th>\n",
       "      <td>0.0</td>\n",
       "      <td>0.754642</td>\n",
       "      <td>pool</td>\n",
       "      <td>ENSG00000130165_2</td>\n",
       "      <td>ELOF1</td>\n",
       "    </tr>\n",
       "    <tr>\n",
       "      <th>1</th>\n",
       "      <td>0.0</td>\n",
       "      <td>7.29074</td>\n",
       "      <td>pool</td>\n",
       "      <td>ENSG00000189091_4</td>\n",
       "      <td>SF3B3</td>\n",
       "    </tr>\n",
       "    <tr>\n",
       "      <th>2</th>\n",
       "      <td>0.0</td>\n",
       "      <td>5.582166</td>\n",
       "      <td>pool</td>\n",
       "      <td>ENSG00000262633_3</td>\n",
       "      <td>ENSG00000262633_3</td>\n",
       "    </tr>\n",
       "    <tr>\n",
       "      <th>3</th>\n",
       "      <td>0.0</td>\n",
       "      <td>2.87281</td>\n",
       "      <td>pool</td>\n",
       "      <td>ENSG00000006555_1</td>\n",
       "      <td>TTC22</td>\n",
       "    </tr>\n",
       "    <tr>\n",
       "      <th>4</th>\n",
       "      <td>0.0</td>\n",
       "      <td>3.171891</td>\n",
       "      <td>pool</td>\n",
       "      <td>ENSG00000249104_3</td>\n",
       "      <td>USP17L17</td>\n",
       "    </tr>\n",
       "    <tr>\n",
       "      <th>...</th>\n",
       "      <td>...</td>\n",
       "      <td>...</td>\n",
       "      <td>...</td>\n",
       "      <td>...</td>\n",
       "      <td>...</td>\n",
       "    </tr>\n",
       "    <tr>\n",
       "      <th>20483</th>\n",
       "      <td>1.0</td>\n",
       "      <td>0.193917</td>\n",
       "      <td>pool</td>\n",
       "      <td>ENSG00000181038_2</td>\n",
       "      <td>METTL23</td>\n",
       "    </tr>\n",
       "    <tr>\n",
       "      <th>20484</th>\n",
       "      <td>1.0</td>\n",
       "      <td>0.171965</td>\n",
       "      <td>pool</td>\n",
       "      <td>ENSG00000073464_3</td>\n",
       "      <td>CLCN4</td>\n",
       "    </tr>\n",
       "    <tr>\n",
       "      <th>20485</th>\n",
       "      <td>1.0</td>\n",
       "      <td>0.244916</td>\n",
       "      <td>pool</td>\n",
       "      <td>ENSG00000165462_1</td>\n",
       "      <td>PHOX2A</td>\n",
       "    </tr>\n",
       "    <tr>\n",
       "      <th>20486</th>\n",
       "      <td>1.0</td>\n",
       "      <td>0.571594</td>\n",
       "      <td>pool</td>\n",
       "      <td>ENSG00000206069_2</td>\n",
       "      <td>TMEM211</td>\n",
       "    </tr>\n",
       "    <tr>\n",
       "      <th>20487</th>\n",
       "      <td>1.0</td>\n",
       "      <td>0.201696</td>\n",
       "      <td>pool</td>\n",
       "      <td>ENSG00000120937_4</td>\n",
       "      <td>NPPB</td>\n",
       "    </tr>\n",
       "  </tbody>\n",
       "</table>\n",
       "<p>20488 rows × 5 columns</p>\n",
       "</div>"
      ],
      "text/plain": [
       "      pvalue statistic control_key DemuxAssignment_crispr        gene_symbol\n",
       "0        0.0  0.754642        pool      ENSG00000130165_2              ELOF1\n",
       "1        0.0   7.29074        pool      ENSG00000189091_4              SF3B3\n",
       "2        0.0  5.582166        pool      ENSG00000262633_3  ENSG00000262633_3\n",
       "3        0.0   2.87281        pool      ENSG00000006555_1              TTC22\n",
       "4        0.0  3.171891        pool      ENSG00000249104_3           USP17L17\n",
       "...      ...       ...         ...                    ...                ...\n",
       "20483    1.0  0.193917        pool      ENSG00000181038_2            METTL23\n",
       "20484    1.0  0.171965        pool      ENSG00000073464_3              CLCN4\n",
       "20485    1.0  0.244916        pool      ENSG00000165462_1             PHOX2A\n",
       "20486    1.0  0.571594        pool      ENSG00000206069_2            TMEM211\n",
       "20487    1.0  0.201696        pool      ENSG00000120937_4               NPPB\n",
       "\n",
       "[20488 rows x 5 columns]"
      ]
     },
     "execution_count": 28,
     "metadata": {},
     "output_type": "execute_result"
    }
   ],
   "source": [
    "df"
   ]
  },
  {
   "cell_type": "code",
   "execution_count": 48,
   "id": "7288550e-99de-47eb-8025-256728eb7136",
   "metadata": {},
   "outputs": [],
   "source": [
    "df.to_csv(out_csv, index=False)"
   ]
  },
  {
   "cell_type": "markdown",
   "id": "f66e387d-decd-4193-b455-b69f64132c96",
   "metadata": {},
   "source": [
    "### Add the energy distance info to adata"
   ]
  },
  {
   "cell_type": "code",
   "execution_count": 31,
   "id": "d44dfcd6-3f10-4689-a3db-d1b628be65fb",
   "metadata": {},
   "outputs": [],
   "source": [
    "ed_df = pd.DataFrame(ed).T.copy()"
   ]
  },
  {
   "cell_type": "code",
   "execution_count": 32,
   "id": "2b688711-ccd5-487e-9ce3-8fb98837375d",
   "metadata": {},
   "outputs": [],
   "source": [
    "ed_df['DemuxAssignment_crispr'] = ed_df.index\n",
    "ed_df=ed_df.reset_index(drop=True)"
   ]
  },
  {
   "cell_type": "code",
   "execution_count": 33,
   "id": "32c4078f-9055-45c2-89a7-4df64ebbe437",
   "metadata": {},
   "outputs": [
    {
     "data": {
      "text/html": [
       "<div>\n",
       "<style scoped>\n",
       "    .dataframe tbody tr th:only-of-type {\n",
       "        vertical-align: middle;\n",
       "    }\n",
       "\n",
       "    .dataframe tbody tr th {\n",
       "        vertical-align: top;\n",
       "    }\n",
       "\n",
       "    .dataframe thead th {\n",
       "        text-align: right;\n",
       "    }\n",
       "</style>\n",
       "<table border=\"1\" class=\"dataframe\">\n",
       "  <thead>\n",
       "    <tr style=\"text-align: right;\">\n",
       "      <th></th>\n",
       "      <th>pvalue</th>\n",
       "      <th>statistic</th>\n",
       "      <th>control_key</th>\n",
       "      <th>DemuxAssignment_crispr</th>\n",
       "    </tr>\n",
       "  </thead>\n",
       "  <tbody>\n",
       "    <tr>\n",
       "      <th>0</th>\n",
       "      <td>0.14</td>\n",
       "      <td>0.305698</td>\n",
       "      <td>pool</td>\n",
       "      <td>ENSG00000074771_1</td>\n",
       "    </tr>\n",
       "    <tr>\n",
       "      <th>1</th>\n",
       "      <td>0.135</td>\n",
       "      <td>0.27609</td>\n",
       "      <td>pool</td>\n",
       "      <td>ENSG00000157703_1</td>\n",
       "    </tr>\n",
       "    <tr>\n",
       "      <th>2</th>\n",
       "      <td>0.407</td>\n",
       "      <td>0.360027</td>\n",
       "      <td>pool</td>\n",
       "      <td>ENSG00000178015_2</td>\n",
       "    </tr>\n",
       "    <tr>\n",
       "      <th>3</th>\n",
       "      <td>0.863</td>\n",
       "      <td>0.301262</td>\n",
       "      <td>pool</td>\n",
       "      <td>ENSG00000186469_2</td>\n",
       "    </tr>\n",
       "    <tr>\n",
       "      <th>4</th>\n",
       "      <td>0.749</td>\n",
       "      <td>0.34788</td>\n",
       "      <td>pool</td>\n",
       "      <td>ENSG00000133789_4</td>\n",
       "    </tr>\n",
       "    <tr>\n",
       "      <th>...</th>\n",
       "      <td>...</td>\n",
       "      <td>...</td>\n",
       "      <td>...</td>\n",
       "      <td>...</td>\n",
       "    </tr>\n",
       "    <tr>\n",
       "      <th>20483</th>\n",
       "      <td>0.154</td>\n",
       "      <td>12.045974</td>\n",
       "      <td>pool</td>\n",
       "      <td>ENSG00000167088_2</td>\n",
       "    </tr>\n",
       "    <tr>\n",
       "      <th>20484</th>\n",
       "      <td>0.814</td>\n",
       "      <td>5.694522</td>\n",
       "      <td>pool</td>\n",
       "      <td>ENSG00000006059_3</td>\n",
       "    </tr>\n",
       "    <tr>\n",
       "      <th>20485</th>\n",
       "      <td>0.909</td>\n",
       "      <td>5.404447</td>\n",
       "      <td>pool</td>\n",
       "      <td>ENSG00000113810_2</td>\n",
       "    </tr>\n",
       "    <tr>\n",
       "      <th>20486</th>\n",
       "      <td>0.991</td>\n",
       "      <td>4.995029</td>\n",
       "      <td>pool</td>\n",
       "      <td>ENSG00000030066_3</td>\n",
       "    </tr>\n",
       "    <tr>\n",
       "      <th>20487</th>\n",
       "      <td>0.258</td>\n",
       "      <td>9.099626</td>\n",
       "      <td>pool</td>\n",
       "      <td>ENSG00000100565_1</td>\n",
       "    </tr>\n",
       "  </tbody>\n",
       "</table>\n",
       "<p>20488 rows × 4 columns</p>\n",
       "</div>"
      ],
      "text/plain": [
       "      pvalue  statistic control_key DemuxAssignment_crispr\n",
       "0       0.14   0.305698        pool      ENSG00000074771_1\n",
       "1      0.135    0.27609        pool      ENSG00000157703_1\n",
       "2      0.407   0.360027        pool      ENSG00000178015_2\n",
       "3      0.863   0.301262        pool      ENSG00000186469_2\n",
       "4      0.749    0.34788        pool      ENSG00000133789_4\n",
       "...      ...        ...         ...                    ...\n",
       "20483  0.154  12.045974        pool      ENSG00000167088_2\n",
       "20484  0.814   5.694522        pool      ENSG00000006059_3\n",
       "20485  0.909   5.404447        pool      ENSG00000113810_2\n",
       "20486  0.991   4.995029        pool      ENSG00000030066_3\n",
       "20487  0.258   9.099626        pool      ENSG00000100565_1\n",
       "\n",
       "[20488 rows x 4 columns]"
      ]
     },
     "execution_count": 33,
     "metadata": {},
     "output_type": "execute_result"
    }
   ],
   "source": [
    "ed_df"
   ]
  },
  {
   "cell_type": "code",
   "execution_count": null,
   "id": "27368d2d-3db5-461a-94d1-231d070f18fd",
   "metadata": {},
   "outputs": [],
   "source": [
    "ed_df['pvalue'] = ed_df['pvalue'].replace(0,0.001)"
   ]
  },
  {
   "cell_type": "code",
   "execution_count": 34,
   "id": "7524de3d-fd55-4380-9353-8cb96e1ff450",
   "metadata": {},
   "outputs": [],
   "source": [
    "ed_df = ed_df.rename(columns={\"pvalue\":\"energy_distance_pvalue\",\"statistic\":\"energy_distance_statistic\",\"control_key\":\"energy_distance_control_key\"})"
   ]
  },
  {
   "cell_type": "code",
   "execution_count": 35,
   "id": "dbea9031-c414-4d91-be7d-9db02adcb594",
   "metadata": {},
   "outputs": [
    {
     "name": "stderr",
     "output_type": "stream",
     "text": [
      "/apps/user/gpy/envs/dev/GPUy310pascal/lib/python3.10/site-packages/anndata/_core/anndata.py:782: UserWarning: \n",
      "AnnData expects .obs.index to contain strings, but got values like:\n",
      "    [0, 1, 2, 3, 4]\n",
      "\n",
      "    Inferred to be: integer\n",
      "\n",
      "  value_idx = self._prep_dim_index(value.index, attr)\n"
     ]
    }
   ],
   "source": [
    "df_uns = adata.obs.reset_index().merge(ed_df, on=\"DemuxAssignment_crispr\", how=\"left\").set_index('index')\n",
    "df_uns.index.name = None"
   ]
  },
  {
   "cell_type": "code",
   "execution_count": 36,
   "id": "87b169e3-c899-4559-a3d8-9b451c8e5e12",
   "metadata": {},
   "outputs": [],
   "source": [
    "b=['energy_distance_pvalue','energy_distance_statistic']#,'energy_distance_control_key','phenotype']\n",
    "\n",
    "for el in b:\n",
    "    df_uns[el] = df_uns[el].astype(float)"
   ]
  },
  {
   "cell_type": "code",
   "execution_count": 37,
   "id": "160be9c6-f069-4877-b59d-c8c4ec942553",
   "metadata": {},
   "outputs": [
    {
     "data": {
      "text/html": [
       "<div>\n",
       "<style scoped>\n",
       "    .dataframe tbody tr th:only-of-type {\n",
       "        vertical-align: middle;\n",
       "    }\n",
       "\n",
       "    .dataframe tbody tr th {\n",
       "        vertical-align: top;\n",
       "    }\n",
       "\n",
       "    .dataframe thead th {\n",
       "        text-align: right;\n",
       "    }\n",
       "</style>\n",
       "<table border=\"1\" class=\"dataframe\">\n",
       "  <thead>\n",
       "    <tr style=\"text-align: right;\">\n",
       "      <th></th>\n",
       "      <th>Sample</th>\n",
       "      <th>Barcode</th>\n",
       "      <th>DemuxType_crispr</th>\n",
       "      <th>DemuxAssignment_crispr</th>\n",
       "      <th>DemuxType_hashing</th>\n",
       "      <th>DemuxAssignment_hashing</th>\n",
       "      <th>cellline</th>\n",
       "      <th>timepoint</th>\n",
       "      <th>gene_symbol</th>\n",
       "      <th>class</th>\n",
       "      <th>...</th>\n",
       "      <th>pct_counts_mt</th>\n",
       "      <th>total_counts_ribo</th>\n",
       "      <th>pct_counts_ribo</th>\n",
       "      <th>S_score</th>\n",
       "      <th>G2M_score</th>\n",
       "      <th>phase</th>\n",
       "      <th>SCN_class</th>\n",
       "      <th>energy_distance_pvalue</th>\n",
       "      <th>energy_distance_statistic</th>\n",
       "      <th>energy_distance_control_key</th>\n",
       "    </tr>\n",
       "  </thead>\n",
       "  <tbody>\n",
       "    <tr>\n",
       "      <th>0</th>\n",
       "      <td>SAM24434749_rep1</td>\n",
       "      <td>AAACCCAAGATTAGCA</td>\n",
       "      <td>singlet</td>\n",
       "      <td>ENSG00000074771_1</td>\n",
       "      <td>singlet</td>\n",
       "      <td>SAM24434722</td>\n",
       "      <td>DLD1</td>\n",
       "      <td>day5</td>\n",
       "      <td>NOX3</td>\n",
       "      <td>target</td>\n",
       "      <td>...</td>\n",
       "      <td>2.777279</td>\n",
       "      <td>3603</td>\n",
       "      <td>21.565811</td>\n",
       "      <td>0.013953</td>\n",
       "      <td>-0.417101</td>\n",
       "      <td>S</td>\n",
       "      <td>Untreatedclus_DLD1</td>\n",
       "      <td>0.140</td>\n",
       "      <td>0.305698</td>\n",
       "      <td>pool</td>\n",
       "    </tr>\n",
       "    <tr>\n",
       "      <th>1</th>\n",
       "      <td>SAM24434749_rep1</td>\n",
       "      <td>AAACCCAAGATTGACA</td>\n",
       "      <td>singlet</td>\n",
       "      <td>ENSG00000157703_1</td>\n",
       "      <td>singlet</td>\n",
       "      <td>SAM24434748</td>\n",
       "      <td>DLD1</td>\n",
       "      <td>day5</td>\n",
       "      <td>SVOPL</td>\n",
       "      <td>target</td>\n",
       "      <td>...</td>\n",
       "      <td>2.748746</td>\n",
       "      <td>3126</td>\n",
       "      <td>32.671405</td>\n",
       "      <td>-0.023256</td>\n",
       "      <td>-0.065538</td>\n",
       "      <td>G1</td>\n",
       "      <td>Untreatedclus_DLD1</td>\n",
       "      <td>0.135</td>\n",
       "      <td>0.276090</td>\n",
       "      <td>pool</td>\n",
       "    </tr>\n",
       "    <tr>\n",
       "      <th>2</th>\n",
       "      <td>SAM24434749_rep1</td>\n",
       "      <td>AAACCCAAGCATTTCG</td>\n",
       "      <td>singlet</td>\n",
       "      <td>ENSG00000178015_2</td>\n",
       "      <td>singlet</td>\n",
       "      <td>SAM24434723</td>\n",
       "      <td>DLD1</td>\n",
       "      <td>day5</td>\n",
       "      <td>GPR150</td>\n",
       "      <td>target</td>\n",
       "      <td>...</td>\n",
       "      <td>0.827436</td>\n",
       "      <td>2198</td>\n",
       "      <td>23.930321</td>\n",
       "      <td>-0.516279</td>\n",
       "      <td>0.478009</td>\n",
       "      <td>G2M</td>\n",
       "      <td>DOXclus_DLD1</td>\n",
       "      <td>0.407</td>\n",
       "      <td>0.360027</td>\n",
       "      <td>pool</td>\n",
       "    </tr>\n",
       "    <tr>\n",
       "      <th>3</th>\n",
       "      <td>SAM24434749_rep1</td>\n",
       "      <td>AAACCCAAGCTGAGCA</td>\n",
       "      <td>singlet</td>\n",
       "      <td>ENSG00000186469_2</td>\n",
       "      <td>singlet</td>\n",
       "      <td>SAM24434722</td>\n",
       "      <td>DLD1</td>\n",
       "      <td>day5</td>\n",
       "      <td>GNG2</td>\n",
       "      <td>target</td>\n",
       "      <td>...</td>\n",
       "      <td>3.558796</td>\n",
       "      <td>4596</td>\n",
       "      <td>25.009523</td>\n",
       "      <td>-0.306977</td>\n",
       "      <td>0.322917</td>\n",
       "      <td>G2M</td>\n",
       "      <td>Untreatedclus_DLD1</td>\n",
       "      <td>0.863</td>\n",
       "      <td>0.301262</td>\n",
       "      <td>pool</td>\n",
       "    </tr>\n",
       "    <tr>\n",
       "      <th>4</th>\n",
       "      <td>SAM24434749_rep1</td>\n",
       "      <td>AAACCCAAGCTTACGT</td>\n",
       "      <td>singlet</td>\n",
       "      <td>ENSG00000133789_4</td>\n",
       "      <td>singlet</td>\n",
       "      <td>SAM24434748</td>\n",
       "      <td>DLD1</td>\n",
       "      <td>day5</td>\n",
       "      <td>SWAP70</td>\n",
       "      <td>target</td>\n",
       "      <td>...</td>\n",
       "      <td>1.521484</td>\n",
       "      <td>4062</td>\n",
       "      <td>26.524749</td>\n",
       "      <td>-0.079070</td>\n",
       "      <td>0.150174</td>\n",
       "      <td>G2M</td>\n",
       "      <td>Untreatedclus_DLD1</td>\n",
       "      <td>0.749</td>\n",
       "      <td>0.347880</td>\n",
       "      <td>pool</td>\n",
       "    </tr>\n",
       "  </tbody>\n",
       "</table>\n",
       "<p>5 rows × 23 columns</p>\n",
       "</div>"
      ],
      "text/plain": [
       "             Sample           Barcode DemuxType_crispr DemuxAssignment_crispr  \\\n",
       "0  SAM24434749_rep1  AAACCCAAGATTAGCA          singlet      ENSG00000074771_1   \n",
       "1  SAM24434749_rep1  AAACCCAAGATTGACA          singlet      ENSG00000157703_1   \n",
       "2  SAM24434749_rep1  AAACCCAAGCATTTCG          singlet      ENSG00000178015_2   \n",
       "3  SAM24434749_rep1  AAACCCAAGCTGAGCA          singlet      ENSG00000186469_2   \n",
       "4  SAM24434749_rep1  AAACCCAAGCTTACGT          singlet      ENSG00000133789_4   \n",
       "\n",
       "  DemuxType_hashing DemuxAssignment_hashing cellline timepoint gene_symbol  \\\n",
       "0           singlet             SAM24434722     DLD1      day5        NOX3   \n",
       "1           singlet             SAM24434748     DLD1      day5       SVOPL   \n",
       "2           singlet             SAM24434723     DLD1      day5      GPR150   \n",
       "3           singlet             SAM24434722     DLD1      day5        GNG2   \n",
       "4           singlet             SAM24434748     DLD1      day5      SWAP70   \n",
       "\n",
       "    class  ...  pct_counts_mt  total_counts_ribo  pct_counts_ribo   S_score  \\\n",
       "0  target  ...       2.777279               3603        21.565811  0.013953   \n",
       "1  target  ...       2.748746               3126        32.671405 -0.023256   \n",
       "2  target  ...       0.827436               2198        23.930321 -0.516279   \n",
       "3  target  ...       3.558796               4596        25.009523 -0.306977   \n",
       "4  target  ...       1.521484               4062        26.524749 -0.079070   \n",
       "\n",
       "   G2M_score  phase           SCN_class  energy_distance_pvalue  \\\n",
       "0  -0.417101      S  Untreatedclus_DLD1                   0.140   \n",
       "1  -0.065538     G1  Untreatedclus_DLD1                   0.135   \n",
       "2   0.478009    G2M        DOXclus_DLD1                   0.407   \n",
       "3   0.322917    G2M  Untreatedclus_DLD1                   0.863   \n",
       "4   0.150174    G2M  Untreatedclus_DLD1                   0.749   \n",
       "\n",
       "  energy_distance_statistic energy_distance_control_key  \n",
       "0                  0.305698                        pool  \n",
       "1                  0.276090                        pool  \n",
       "2                  0.360027                        pool  \n",
       "3                  0.301262                        pool  \n",
       "4                  0.347880                        pool  \n",
       "\n",
       "[5 rows x 23 columns]"
      ]
     },
     "execution_count": 37,
     "metadata": {},
     "output_type": "execute_result"
    }
   ],
   "source": [
    "df_uns.head()"
   ]
  },
  {
   "cell_type": "code",
   "execution_count": 38,
   "id": "8a128914-749a-45e3-9d07-f4056b0449e2",
   "metadata": {},
   "outputs": [],
   "source": [
    "#df_uns.index = df_uns.index.astype(str)"
   ]
  },
  {
   "cell_type": "code",
   "execution_count": null,
   "id": "6e4b4137-ed79-459d-89ba-156e68c9fdab",
   "metadata": {},
   "outputs": [],
   "source": [
    "df_uns = df_uns.drop(columns='energy_distance_control_key')"
   ]
  },
  {
   "cell_type": "code",
   "execution_count": 39,
   "id": "3069e8b2-8e6c-49d3-8da8-21978d35197c",
   "metadata": {},
   "outputs": [],
   "source": [
    "df_uns['phenotype'] = 'No'\n",
    "df_uns.loc[df_uns['energy_distance_pvalue']<=pVAL, 'phenotype'] = 'Yes'"
   ]
  },
  {
   "cell_type": "code",
   "execution_count": 40,
   "id": "36ab0df3-09a7-44e5-a271-6c435008735c",
   "metadata": {},
   "outputs": [
    {
     "data": {
      "text/plain": [
       "505"
      ]
     },
     "execution_count": 40,
     "metadata": {},
     "output_type": "execute_result"
    }
   ],
   "source": [
    "PHENO = df_uns[df_uns['phenotype']=='Yes'].copy()\n",
    "PHENO['DemuxAssignment_crispr'].nunique()"
   ]
  },
  {
   "cell_type": "markdown",
   "id": "79d8b13c-41a8-4557-a592-842f0cfb9a6d",
   "metadata": {},
   "source": [
    "## Update the annadata object and write out the output"
   ]
  },
  {
   "cell_type": "code",
   "execution_count": null,
   "id": "f90c782e-5e5b-4715-91ec-cb182c85c63c",
   "metadata": {},
   "outputs": [],
   "source": [
    "df_uns_ED = df_uns[['energy_distance_pvalue','energy_distance_statistic','phenotype']].copy()\n",
    "df_uns_ED = df_uns_ED.rename(columns={'phenotype': 'phenotype_@0.05'})"
   ]
  },
  {
   "cell_type": "code",
   "execution_count": null,
   "id": "ac25c8a8-8db1-4076-9a69-0d913c7a2d46",
   "metadata": {},
   "outputs": [],
   "source": [
    "if 'energy_distance' not in adata.uns:\n",
    "    adata.uns[\"energy_distance\"]={}"
   ]
  },
  {
   "cell_type": "code",
   "execution_count": 42,
   "id": "7ea8e887-a312-4e0b-a095-7331c08a6c27",
   "metadata": {},
   "outputs": [],
   "source": [
    "adata.uns[\"energy_distance\"][key_uns]=df_uns_ED"
   ]
  },
  {
   "cell_type": "code",
   "execution_count": null,
   "id": "bd521cf2-4d90-45eb-97be-630420db32af",
   "metadata": {},
   "outputs": [],
   "source": [
    "adata.write(ED_file)"
   ]
  },
  {
   "cell_type": "markdown",
   "id": "cf54ed93-8ed8-49df-ac4e-0036135f09d2",
   "metadata": {},
   "source": [
    "## Data Tabulation"
   ]
  },
  {
   "cell_type": "code",
   "execution_count": 43,
   "id": "ec3eb58c-cb70-4c93-bfbf-7d11abcbaddd",
   "metadata": {},
   "outputs": [
    {
     "data": {
      "text/plain": [
       "SCN_class             phenotype\n",
       "DOXclus_CL34          No               13\n",
       "                      Yes               2\n",
       "DOXclus_COLO206F      No                1\n",
       "                      Yes               0\n",
       "DOXclus_DLD1          No            19923\n",
       "                      Yes             816\n",
       "DOXclus_HCA7          No               23\n",
       "                      Yes               1\n",
       "DOXclus_HT55          No                1\n",
       "                      Yes               0\n",
       "DOXclus_MDST8         No               64\n",
       "                      Yes               2\n",
       "DOXclus_SW480         No                4\n",
       "                      Yes               0\n",
       "DOXclus_SW1463        No               89\n",
       "                      Yes               5\n",
       "Untreatedclus_CL34    No                5\n",
       "                      Yes               0\n",
       "Untreatedclus_DLD1    No           292971\n",
       "                      Yes            7084\n",
       "Untreatedclus_RCM1    No               99\n",
       "                      Yes               8\n",
       "Untreatedclus_SKCO1   No               45\n",
       "                      Yes               5\n",
       "Untreatedclus_SW403   No                2\n",
       "                      Yes               0\n",
       "Untreatedclus_SW620   No               13\n",
       "                      Yes               1\n",
       "Untreatedclus_SW837   No                3\n",
       "                      Yes               0\n",
       "Untreatedclus_SW948   No                9\n",
       "                      Yes               0\n",
       "Untreatedclus_SW1417  No               79\n",
       "                      Yes               6\n",
       "Untreatedclus_SW1463  No                4\n",
       "                      Yes               0\n",
       "Untreatedclus_T84     No               59\n",
       "                      Yes               2\n",
       "rand                  No               17\n",
       "                      Yes               2\n",
       "Name: DemuxAssignment_crispr, dtype: int64"
      ]
     },
     "execution_count": 43,
     "metadata": {},
     "output_type": "execute_result"
    }
   ],
   "source": [
    "df_uns.groupby(['SCN_class', 'phenotype'])['DemuxAssignment_crispr'].size()"
   ]
  },
  {
   "cell_type": "code",
   "execution_count": 44,
   "id": "9fd44015-b144-450d-964a-1d196a326fe7",
   "metadata": {},
   "outputs": [
    {
     "data": {
      "text/html": [
       "<div>\n",
       "<style scoped>\n",
       "    .dataframe tbody tr th:only-of-type {\n",
       "        vertical-align: middle;\n",
       "    }\n",
       "\n",
       "    .dataframe tbody tr th {\n",
       "        vertical-align: top;\n",
       "    }\n",
       "\n",
       "    .dataframe thead th {\n",
       "        text-align: right;\n",
       "    }\n",
       "</style>\n",
       "<table border=\"1\" class=\"dataframe\">\n",
       "  <thead>\n",
       "    <tr style=\"text-align: right;\">\n",
       "      <th></th>\n",
       "      <th>gene_symbol</th>\n",
       "      <th>cnt</th>\n",
       "    </tr>\n",
       "  </thead>\n",
       "  <tbody>\n",
       "    <tr>\n",
       "      <th>244</th>\n",
       "      <td>TCF7L2</td>\n",
       "      <td>103</td>\n",
       "    </tr>\n",
       "    <tr>\n",
       "      <th>51</th>\n",
       "      <td>CTNNB1</td>\n",
       "      <td>45</td>\n",
       "    </tr>\n",
       "    <tr>\n",
       "      <th>148</th>\n",
       "      <td>MYC</td>\n",
       "      <td>44</td>\n",
       "    </tr>\n",
       "    <tr>\n",
       "      <th>31</th>\n",
       "      <td>CD81</td>\n",
       "      <td>18</td>\n",
       "    </tr>\n",
       "    <tr>\n",
       "      <th>73</th>\n",
       "      <td>EXOSC2</td>\n",
       "      <td>11</td>\n",
       "    </tr>\n",
       "    <tr>\n",
       "      <th>...</th>\n",
       "      <td>...</td>\n",
       "      <td>...</td>\n",
       "    </tr>\n",
       "    <tr>\n",
       "      <th>185</th>\n",
       "      <td>POLR2L</td>\n",
       "      <td>1</td>\n",
       "    </tr>\n",
       "    <tr>\n",
       "      <th>184</th>\n",
       "      <td>PLP1</td>\n",
       "      <td>1</td>\n",
       "    </tr>\n",
       "    <tr>\n",
       "      <th>94</th>\n",
       "      <td>HNMT</td>\n",
       "      <td>1</td>\n",
       "    </tr>\n",
       "    <tr>\n",
       "      <th>182</th>\n",
       "      <td>PILRA</td>\n",
       "      <td>1</td>\n",
       "    </tr>\n",
       "    <tr>\n",
       "      <th>0</th>\n",
       "      <td>AADACL4</td>\n",
       "      <td>1</td>\n",
       "    </tr>\n",
       "  </tbody>\n",
       "</table>\n",
       "<p>298 rows × 2 columns</p>\n",
       "</div>"
      ],
      "text/plain": [
       "    gene_symbol  cnt\n",
       "244      TCF7L2  103\n",
       "51       CTNNB1   45\n",
       "148         MYC   44\n",
       "31         CD81   18\n",
       "73       EXOSC2   11\n",
       "..          ...  ...\n",
       "185      POLR2L    1\n",
       "184        PLP1    1\n",
       "94         HNMT    1\n",
       "182       PILRA    1\n",
       "0       AADACL4    1\n",
       "\n",
       "[298 rows x 2 columns]"
      ]
     },
     "execution_count": 44,
     "metadata": {},
     "output_type": "execute_result"
    }
   ],
   "source": [
    "df_uns[(df_uns['phenotype']=='Yes')&(df_uns['SCN_class']=='DOXclus_DLD1')].groupby(\n",
    "    ['gene_symbol'])['DemuxAssignment_crispr'].count().reset_index(name='cnt').sort_values(by='cnt', ascending=False)"
   ]
  },
  {
   "cell_type": "code",
   "execution_count": 45,
   "id": "e3c37d1c-f067-48f7-a2a2-a8875b71bdbf",
   "metadata": {},
   "outputs": [
    {
     "data": {
      "text/html": [
       "<div>\n",
       "<style scoped>\n",
       "    .dataframe tbody tr th:only-of-type {\n",
       "        vertical-align: middle;\n",
       "    }\n",
       "\n",
       "    .dataframe tbody tr th {\n",
       "        vertical-align: top;\n",
       "    }\n",
       "\n",
       "    .dataframe thead th {\n",
       "        text-align: right;\n",
       "    }\n",
       "</style>\n",
       "<table border=\"1\" class=\"dataframe\">\n",
       "  <thead>\n",
       "    <tr style=\"text-align: right;\">\n",
       "      <th></th>\n",
       "      <th>gene_symbol</th>\n",
       "      <th>cnt</th>\n",
       "    </tr>\n",
       "  </thead>\n",
       "  <tbody>\n",
       "    <tr>\n",
       "      <th>46</th>\n",
       "      <td>CD81</td>\n",
       "      <td>157</td>\n",
       "    </tr>\n",
       "    <tr>\n",
       "      <th>353</th>\n",
       "      <td>TCF7L2</td>\n",
       "      <td>141</td>\n",
       "    </tr>\n",
       "    <tr>\n",
       "      <th>403</th>\n",
       "      <td>WDR48</td>\n",
       "      <td>83</td>\n",
       "    </tr>\n",
       "    <tr>\n",
       "      <th>199</th>\n",
       "      <td>MSMO1</td>\n",
       "      <td>73</td>\n",
       "    </tr>\n",
       "    <tr>\n",
       "      <th>130</th>\n",
       "      <td>HMGCS1</td>\n",
       "      <td>62</td>\n",
       "    </tr>\n",
       "    <tr>\n",
       "      <th>...</th>\n",
       "      <td>...</td>\n",
       "      <td>...</td>\n",
       "    </tr>\n",
       "    <tr>\n",
       "      <th>269</th>\n",
       "      <td>PSMA2</td>\n",
       "      <td>1</td>\n",
       "    </tr>\n",
       "    <tr>\n",
       "      <th>42</th>\n",
       "      <td>CCDC57</td>\n",
       "      <td>1</td>\n",
       "    </tr>\n",
       "    <tr>\n",
       "      <th>240</th>\n",
       "      <td>PCNA</td>\n",
       "      <td>1</td>\n",
       "    </tr>\n",
       "    <tr>\n",
       "      <th>92</th>\n",
       "      <td>ENSG00000256500_4</td>\n",
       "      <td>1</td>\n",
       "    </tr>\n",
       "    <tr>\n",
       "      <th>296</th>\n",
       "      <td>RPL13</td>\n",
       "      <td>1</td>\n",
       "    </tr>\n",
       "  </tbody>\n",
       "</table>\n",
       "<p>432 rows × 2 columns</p>\n",
       "</div>"
      ],
      "text/plain": [
       "           gene_symbol  cnt\n",
       "46                CD81  157\n",
       "353             TCF7L2  141\n",
       "403              WDR48   83\n",
       "199              MSMO1   73\n",
       "130             HMGCS1   62\n",
       "..                 ...  ...\n",
       "269              PSMA2    1\n",
       "42              CCDC57    1\n",
       "240               PCNA    1\n",
       "92   ENSG00000256500_4    1\n",
       "296              RPL13    1\n",
       "\n",
       "[432 rows x 2 columns]"
      ]
     },
     "execution_count": 45,
     "metadata": {},
     "output_type": "execute_result"
    }
   ],
   "source": [
    "df_uns[(df_uns['phenotype']=='Yes')&(df_uns['SCN_class']=='Untreatedclus_DLD1')].groupby(\n",
    "    ['gene_symbol'])['DemuxAssignment_crispr'].count().reset_index(name='cnt').sort_values(by='cnt', ascending=False)"
   ]
  },
  {
   "cell_type": "code",
   "execution_count": 46,
   "id": "a365181e-bf76-4c91-9bc1-44fc8510f75e",
   "metadata": {},
   "outputs": [
    {
     "data": {
      "text/html": [
       "<div>\n",
       "<style scoped>\n",
       "    .dataframe tbody tr th:only-of-type {\n",
       "        vertical-align: middle;\n",
       "    }\n",
       "\n",
       "    .dataframe tbody tr th {\n",
       "        vertical-align: top;\n",
       "    }\n",
       "\n",
       "    .dataframe thead th {\n",
       "        text-align: right;\n",
       "    }\n",
       "</style>\n",
       "<table border=\"1\" class=\"dataframe\">\n",
       "  <thead>\n",
       "    <tr style=\"text-align: right;\">\n",
       "      <th></th>\n",
       "      <th>gene_symbol</th>\n",
       "      <th>cnt</th>\n",
       "    </tr>\n",
       "  </thead>\n",
       "  <tbody>\n",
       "    <tr>\n",
       "      <th>355</th>\n",
       "      <td>TCF7L2</td>\n",
       "      <td>244</td>\n",
       "    </tr>\n",
       "    <tr>\n",
       "      <th>46</th>\n",
       "      <td>CD81</td>\n",
       "      <td>177</td>\n",
       "    </tr>\n",
       "    <tr>\n",
       "      <th>405</th>\n",
       "      <td>WDR48</td>\n",
       "      <td>92</td>\n",
       "    </tr>\n",
       "    <tr>\n",
       "      <th>208</th>\n",
       "      <td>MYC</td>\n",
       "      <td>88</td>\n",
       "    </tr>\n",
       "    <tr>\n",
       "      <th>201</th>\n",
       "      <td>MSMO1</td>\n",
       "      <td>81</td>\n",
       "    </tr>\n",
       "    <tr>\n",
       "      <th>75</th>\n",
       "      <td>CTNNB1</td>\n",
       "      <td>77</td>\n",
       "    </tr>\n",
       "    <tr>\n",
       "      <th>132</th>\n",
       "      <td>HMGCS1</td>\n",
       "      <td>70</td>\n",
       "    </tr>\n",
       "    <tr>\n",
       "      <th>111</th>\n",
       "      <td>FARSB</td>\n",
       "      <td>58</td>\n",
       "    </tr>\n",
       "    <tr>\n",
       "      <th>183</th>\n",
       "      <td>LRRC75A</td>\n",
       "      <td>54</td>\n",
       "    </tr>\n",
       "    <tr>\n",
       "      <th>426</th>\n",
       "      <td>ZNF593OS</td>\n",
       "      <td>49</td>\n",
       "    </tr>\n",
       "    <tr>\n",
       "      <th>48</th>\n",
       "      <td>CDC123</td>\n",
       "      <td>47</td>\n",
       "    </tr>\n",
       "    <tr>\n",
       "      <th>304</th>\n",
       "      <td>SCFD1</td>\n",
       "      <td>47</td>\n",
       "    </tr>\n",
       "    <tr>\n",
       "      <th>81</th>\n",
       "      <td>DIS3</td>\n",
       "      <td>45</td>\n",
       "    </tr>\n",
       "    <tr>\n",
       "      <th>382</th>\n",
       "      <td>TRAPPC11</td>\n",
       "      <td>42</td>\n",
       "    </tr>\n",
       "    <tr>\n",
       "      <th>287</th>\n",
       "      <td>RBM27</td>\n",
       "      <td>42</td>\n",
       "    </tr>\n",
       "    <tr>\n",
       "      <th>244</th>\n",
       "      <td>PCYT1A</td>\n",
       "      <td>42</td>\n",
       "    </tr>\n",
       "    <tr>\n",
       "      <th>386</th>\n",
       "      <td>TRIM34</td>\n",
       "      <td>40</td>\n",
       "    </tr>\n",
       "    <tr>\n",
       "      <th>14</th>\n",
       "      <td>ATF4</td>\n",
       "      <td>39</td>\n",
       "    </tr>\n",
       "    <tr>\n",
       "      <th>420</th>\n",
       "      <td>ZNF28</td>\n",
       "      <td>39</td>\n",
       "    </tr>\n",
       "    <tr>\n",
       "      <th>302</th>\n",
       "      <td>SARS1</td>\n",
       "      <td>37</td>\n",
       "    </tr>\n",
       "    <tr>\n",
       "      <th>417</th>\n",
       "      <td>ZFC3H1</td>\n",
       "      <td>37</td>\n",
       "    </tr>\n",
       "    <tr>\n",
       "      <th>78</th>\n",
       "      <td>DARS1</td>\n",
       "      <td>37</td>\n",
       "    </tr>\n",
       "    <tr>\n",
       "      <th>421</th>\n",
       "      <td>ZNF81</td>\n",
       "      <td>37</td>\n",
       "    </tr>\n",
       "    <tr>\n",
       "      <th>70</th>\n",
       "      <td>COX5B</td>\n",
       "      <td>37</td>\n",
       "    </tr>\n",
       "    <tr>\n",
       "      <th>57</th>\n",
       "      <td>CHAF1A</td>\n",
       "      <td>36</td>\n",
       "    </tr>\n",
       "    <tr>\n",
       "      <th>63</th>\n",
       "      <td>CLTA</td>\n",
       "      <td>36</td>\n",
       "    </tr>\n",
       "    <tr>\n",
       "      <th>109</th>\n",
       "      <td>EXOSC2</td>\n",
       "      <td>36</td>\n",
       "    </tr>\n",
       "    <tr>\n",
       "      <th>110</th>\n",
       "      <td>EXOSC9</td>\n",
       "      <td>36</td>\n",
       "    </tr>\n",
       "    <tr>\n",
       "      <th>71</th>\n",
       "      <td>CPSF2</td>\n",
       "      <td>35</td>\n",
       "    </tr>\n",
       "    <tr>\n",
       "      <th>362</th>\n",
       "      <td>TLE3</td>\n",
       "      <td>35</td>\n",
       "    </tr>\n",
       "  </tbody>\n",
       "</table>\n",
       "</div>"
      ],
      "text/plain": [
       "    gene_symbol  cnt\n",
       "355      TCF7L2  244\n",
       "46         CD81  177\n",
       "405       WDR48   92\n",
       "208         MYC   88\n",
       "201       MSMO1   81\n",
       "75       CTNNB1   77\n",
       "132      HMGCS1   70\n",
       "111       FARSB   58\n",
       "183     LRRC75A   54\n",
       "426    ZNF593OS   49\n",
       "48       CDC123   47\n",
       "304       SCFD1   47\n",
       "81         DIS3   45\n",
       "382    TRAPPC11   42\n",
       "287       RBM27   42\n",
       "244      PCYT1A   42\n",
       "386      TRIM34   40\n",
       "14         ATF4   39\n",
       "420       ZNF28   39\n",
       "302       SARS1   37\n",
       "417      ZFC3H1   37\n",
       "78        DARS1   37\n",
       "421       ZNF81   37\n",
       "70        COX5B   37\n",
       "57       CHAF1A   36\n",
       "63         CLTA   36\n",
       "109      EXOSC2   36\n",
       "110      EXOSC9   36\n",
       "71        CPSF2   35\n",
       "362        TLE3   35"
      ]
     },
     "execution_count": 46,
     "metadata": {},
     "output_type": "execute_result"
    }
   ],
   "source": [
    "df_uns[(df_uns['phenotype']=='Yes')].groupby(\n",
    "    ['gene_symbol'])['DemuxAssignment_crispr'].count().reset_index(name='cnt').sort_values(by='cnt', ascending=False)[:30]"
   ]
  },
  {
   "cell_type": "markdown",
   "id": "a2cd6558-ef8d-4396-ad9d-847834d10d6b",
   "metadata": {},
   "source": [
    "## Data Visulaization"
   ]
  },
  {
   "cell_type": "code",
   "execution_count": 47,
   "id": "8b14c8f2-f789-474b-b7d1-d152098846ab",
   "metadata": {},
   "outputs": [
    {
     "name": "stderr",
     "output_type": "stream",
     "text": [
      "/apps/user/gpy/envs/dev/GPUy310pascal/lib/python3.10/site-packages/pandas/core/arraylike.py:397: RuntimeWarning: divide by zero encountered in log10\n",
      "  result = getattr(ufunc, method)(*inputs, **kwargs)\n"
     ]
    },
    {
     "data": {
      "text/plain": [
       "<Axes: xlabel='energy_distance_pvalue', ylabel='Count'>"
      ]
     },
     "execution_count": 47,
     "metadata": {},
     "output_type": "execute_result"
    },
    {
     "data": {
      "image/png": "[encoded data removed]",
      "text/plain": [
       "<Figure size 640x480 with 1 Axes>"
      ]
     },
     "metadata": {},
     "output_type": "display_data"
    }
   ],
   "source": [
    "sns.histplot(-np.log10(df_uns['energy_distance_pvalue']))"
   ]
  }
 ],
 "metadata": {
  "kernelspec": {
   "display_name": "gpuy310",
   "language": "python",
   "name": "gpuy310"
  },
  "language_info": {
   "codemirror_mode": {
    "name": "ipython",
    "version": 3
   },
   "file_extension": ".py",
   "mimetype": "text/x-python",
   "name": "python",
   "nbconvert_exporter": "python",
   "pygments_lexer": "ipython3",
   "version": "3.10.8"
  },
  "widgets": {
   "application/vnd.jupyter.widget-state+json": {
    "state": {},
    "version_major": 2,
    "version_minor": 0
   }
  }
 },
 "nbformat": 4,
 "nbformat_minor": 5
}
