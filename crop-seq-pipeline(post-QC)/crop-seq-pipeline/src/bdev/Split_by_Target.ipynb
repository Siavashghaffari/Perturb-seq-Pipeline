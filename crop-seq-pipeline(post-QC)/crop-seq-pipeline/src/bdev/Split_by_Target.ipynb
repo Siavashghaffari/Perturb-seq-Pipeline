{
 "cells": [
  {
   "cell_type": "markdown",
   "id": "9d8a1a21-ca43-4f2c-b151-326fbe9609ef",
   "metadata": {},
   "source": [
    "## Step 1: Load Libraries"
   ]
  },
  {
   "cell_type": "code",
   "execution_count": 2,
   "id": "1cbf54f5-db83-4560-9566-d7c7bdf22002",
   "metadata": {
    "tags": []
   },
   "outputs": [],
   "source": [
    "import scanpy as sc\n",
    "import numpy as np\n",
    "import scipy\n",
    "import pandas as pd\n",
    "from scipy.io import mmwrite\n",
    "import argparse\n",
    "import os"
   ]
  },
  {
   "cell_type": "markdown",
   "id": "f2c7f74b-b015-4d39-a11b-808ffded1278",
   "metadata": {},
   "source": [
    "## Step 2: Load Library 1 Data"
   ]
  },
  {
   "cell_type": "code",
   "execution_count": 3,
   "id": "9300b584-2b3e-468e-97ee-b9893700ada7",
   "metadata": {
    "tags": []
   },
   "outputs": [],
   "source": [
    "file_load =  \"/gstore/scratch/u/ghaffars/glmGamPoi/sublib1_bdev/data/remove_pos_cont_counts_obs_var.h5ad\"\n",
    "data = sc.read_h5ad(file_load)"
   ]
  },
  {
   "cell_type": "markdown",
   "id": "ac6ae10e-be62-4e9b-8980-3e453a3a5a6c",
   "metadata": {},
   "source": [
    "## Step 3: Obtain Column Meta Data"
   ]
  },
  {
   "cell_type": "code",
   "execution_count": 4,
   "id": "7710c59a-ebe7-4fa0-a107-687146dddc3a",
   "metadata": {
    "tags": []
   },
   "outputs": [],
   "source": [
    "## Create NTC vs not label\n",
    "data.obs[\"label\"] = ['aNTC' if gene_symbol == \"NTC\" else 'zAll' for gene_symbol in data.obs['gene_symbol']]"
   ]
  },
  {
   "cell_type": "code",
   "execution_count": 5,
   "id": "acc9ca36-d9f4-4c54-8dfc-ca6f80a2daa2",
   "metadata": {
    "tags": []
   },
   "outputs": [],
   "source": [
    "data.obs['gem'] = data.obs['NGS_ID'].astype(str) + '-' + data.obs['10Xrun'].astype(str)"
   ]
  },
  {
   "cell_type": "code",
   "execution_count": 6,
   "id": "37371fbb-24f3-4723-9232-ebcd0b056478",
   "metadata": {
    "tags": []
   },
   "outputs": [],
   "source": [
    "## Meta Data for pyGamPoi Model\n",
    "meta = pd.DataFrame({'label':data.obs[\"label\"],\n",
    "                   'cell':data.obs.index,\n",
    "                   'total_counts':data.obs[\"total_counts\"],\n",
    "                   'fct_counts_mt':data.obs[\"pct_counts_mt\"]/100,\n",
    "                   'batchid':data.obs[\"gem\"],\n",
    "                   'guidename':data.obs[\"DemuxAssignment_crispr\"],\n",
    "                   'targetname':data.obs[\"gene_symbol\"]})"
   ]
  },
  {
   "cell_type": "code",
   "execution_count": 7,
   "id": "6be51f24-be62-49e7-aad7-0eeca903f5e0",
   "metadata": {
    "tags": []
   },
   "outputs": [],
   "source": [
    "## Change guidename to not have commas to not confuse bash later\n",
    "meta[\"guidename\"] = meta[\"guidename\"].str.replace(\",\", \":\")\n"
   ]
  },
  {
   "cell_type": "code",
   "execution_count": null,
   "id": "ce212d6f-d7d7-41b8-8698-ddf11d318f97",
   "metadata": {
    "tags": []
   },
   "outputs": [],
   "source": [
    "## File to save      \n",
    "meta_file  = \"/gstore/scratch/u/ghaffars/glmGamPoi/sublib1_bdev/data/coldata_for_glmgampois.csv\"\n",
    "## Save\n",
    "meta.to_csv(meta_file, index = False)"
   ]
  },
  {
   "cell_type": "code",
   "execution_count": null,
   "id": "31073c81-afc5-4812-88db-9564b66c4347",
   "metadata": {
    "tags": []
   },
   "outputs": [],
   "source": [
    "## Save row data\n",
    "full_gene_file  = \"/gstore/scratch/u/ghaffars/glmGamPoi/sublib1_bdev/data/full_gene_data.csv\"\n",
    "data.var.to_csv(full_gene_file, index = False)"
   ]
  },
  {
   "cell_type": "code",
   "execution_count": 8,
   "id": "8a737166-259b-4586-86e0-ac1174500c6e",
   "metadata": {
    "tags": []
   },
   "outputs": [
    {
     "data": {
      "text/plain": [
       "AnnData object with n_obs × n_vars = 595042 × 36603\n",
       "    obs: 'Sample', 'Barcode', 'DemuxType_crispr', 'DemuxAssignment_crispr', 'DemuxType_hashing', 'DemuxAssignment_hashing', 'cellline', 'timepoint', 'HTO', 'NGS_ID', 'Biological_replicate', '10Xrun', 'sublibrary', 'gRNA_library_MOI', 'gene_symbol', 'class', 'n_genes_by_counts', 'total_counts', 'total_counts_mt', 'pct_counts_mt', 'total_counts_ribo', 'pct_counts_ribo', 'qc_pass', 'S_score', 'G2M_score', 'phase', 'label', 'gem'\n",
       "    var: 'Symbol'\n",
       "    layers: 'counts'"
      ]
     },
     "execution_count": 8,
     "metadata": {},
     "output_type": "execute_result"
    }
   ],
   "source": [
    "data"
   ]
  },
  {
   "cell_type": "markdown",
   "id": "ffeaae61-6af8-4f4a-a7f5-68105462859f",
   "metadata": {},
   "source": [
    "## Step 4: Split and Save by Target"
   ]
  },
  {
   "cell_type": "code",
   "execution_count": null,
   "id": "f7ddc8ec-3c44-4695-9de9-bb2eed1fa29d",
   "metadata": {
    "tags": []
   },
   "outputs": [
    {
     "name": "stdout",
     "output_type": "stream",
     "text": [
      "length target is 4975\n",
      "0\n",
      "100\n",
      "200\n",
      "300\n",
      "400\n",
      "500\n",
      "600\n",
      "700\n"
     ]
    }
   ],
   "source": [
    "## List of targets\n",
    "targets = data.obs[\"gene_symbol\"].unique()\n",
    "\n",
    "## Create Folder To Save by Target\n",
    "by_target_folder =  \"/gstore/scratch/u/ghaffars/glmGamPoi/sublib1_bdev/data/by_target/\"\n",
    "\n",
    "## Ensure folder exists\n",
    "if not os.path.exists(by_target_folder):\n",
    "    os.makedirs(by_target_folder)\n",
    "\n",
    "## Save info about column names of top 3000 genes\n",
    "print(\"length target is \" + str(len(targets)))\n",
    "\n",
    "## Iterate over target and save    \n",
    "for i in range(len(targets)): \n",
    "    if i % 100 == 0:\n",
    "            print(i)\n",
    "    target = targets[i]\n",
    "    data_target = data[data.obs[\"gene_symbol\"].isin([target,\"NTC\"])].copy()\n",
    "    data_target.X = data_target.X.astype(\"float32\")\n",
    "    data_target.layers['counts'] = data_target.layers['counts'].astype(\"float32\")\n",
    "    ## Save as .h5ad\n",
    "    data_target.write(by_target_folder+target+\".h5ad\")\n",
    "    \n",
    "\n",
    "print(\"filtered and saved by target\")\n",
    "print(\"all done\")\n",
    "\n",
    "\n",
    "      "
   ]
  },
  {
   "cell_type": "code",
   "execution_count": null,
   "id": "17b637b1-9ad8-4c28-be10-a988d8726bb0",
   "metadata": {},
   "outputs": [],
   "source": []
  }
 ],
 "metadata": {
  "kernelspec": {
   "display_name": "GPy310 CPU",
   "language": "python",
   "name": "gpy_cpu"
  },
  "language_info": {
   "codemirror_mode": {
    "name": "ipython",
    "version": 3
   },
   "file_extension": ".py",
   "mimetype": "text/x-python",
   "name": "python",
   "nbconvert_exporter": "python",
   "pygments_lexer": "ipython3",
   "version": "3.10.14"
  },
  "widgets": {
   "application/vnd.jupyter.widget-state+json": {
    "state": {},
    "version_major": 2,
    "version_minor": 0
   }
  }
 },
 "nbformat": 4,
 "nbformat_minor": 5
}
