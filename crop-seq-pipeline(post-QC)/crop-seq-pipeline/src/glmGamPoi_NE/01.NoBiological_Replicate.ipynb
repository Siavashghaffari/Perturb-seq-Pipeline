{
 "cells": [
  {
   "cell_type": "markdown",
   "id": "e507e0ba-1493-4517-beba-fd20596a61de",
   "metadata": {},
   "source": [
    "## Step 1: Load Data and Libraries"
   ]
  },
  {
   "cell_type": "code",
   "execution_count": 1,
   "id": "7ee898c2-6c38-41cb-b81d-3d2242193f4e",
   "metadata": {
    "tags": []
   },
   "outputs": [],
   "source": [
    "## Load Libraries\n",
    "import scanpy as sc\n",
    "import pandas as pd\n",
    "import numpy as np\n",
    "import anndata as ad"
   ]
  },
  {
   "cell_type": "code",
   "execution_count": 2,
   "id": "02e85755-6302-43ba-9d43-e5b2a1c278fe",
   "metadata": {
    "tags": []
   },
   "outputs": [
    {
     "data": {
      "text/plain": [
       "AnnData object with n_obs × n_vars = 595603 × 36603\n",
       "    obs: 'Sample', 'Barcode', 'DemuxType_crispr', 'DemuxAssignment_crispr', 'DemuxType_hashing', 'DemuxAssignment_hashing', 'cellline', 'timepoint', 'HTO', 'NGS_ID', 'Biological_replicate', '10Xrun', 'sublibrary', 'gRNA_library_MOI', 'gene_symbol', 'class', 'n_genes_by_counts', 'total_counts', 'total_counts_mt', 'pct_counts_mt', 'total_counts_ribo', 'pct_counts_ribo', 'qc_pass', 'S_score', 'G2M_score', 'phase'\n",
       "    var: 'Symbol'\n",
       "    layers: 'counts'"
      ]
     },
     "execution_count": 2,
     "metadata": {},
     "output_type": "execute_result"
    }
   ],
   "source": [
    "## Load sublibrary 1\n",
    "adata = sc.read_h5ad(\"/gstore/scratch/u/ghaffars/Dataset/sublib1/raw_qc.h5ad\")\n",
    "adata"
   ]
  },
  {
   "cell_type": "code",
   "execution_count": 3,
   "id": "d3e4e330-1de3-4d3c-9621-93bc89c65062",
   "metadata": {
    "tags": []
   },
   "outputs": [
    {
     "data": {
      "text/plain": [
       "4975"
      ]
     },
     "execution_count": 3,
     "metadata": {},
     "output_type": "execute_result"
    }
   ],
   "source": [
    "adata.obs[\"gene_symbol\"].nunique()"
   ]
  },
  {
   "cell_type": "markdown",
   "id": "9447860f-68ee-4559-9f26-c8faac72d51a",
   "metadata": {},
   "source": [
    "## Step 2: Obtain Guides Labeled as Positive Controls in Sublibrary 1"
   ]
  },
  {
   "cell_type": "code",
   "execution_count": 4,
   "id": "f41ab4b3-5419-47cb-b168-fb0d69295b4d",
   "metadata": {
    "tags": []
   },
   "outputs": [],
   "source": [
    "## Obtain list of positive controls\n",
    "positive_controls = adata[adata.obs[\"Biological_replicate\"] == \"POSITIVE_CONTROL\",]"
   ]
  },
  {
   "cell_type": "code",
   "execution_count": 5,
   "id": "2d1729ab-1342-451b-82d9-5d8886923804",
   "metadata": {
    "tags": []
   },
   "outputs": [
    {
     "data": {
      "text/plain": [
       "View of AnnData object with n_obs × n_vars = 1319 × 36603\n",
       "    obs: 'Sample', 'Barcode', 'DemuxType_crispr', 'DemuxAssignment_crispr', 'DemuxType_hashing', 'DemuxAssignment_hashing', 'cellline', 'timepoint', 'HTO', 'NGS_ID', 'Biological_replicate', '10Xrun', 'sublibrary', 'gRNA_library_MOI', 'gene_symbol', 'class', 'n_genes_by_counts', 'total_counts', 'total_counts_mt', 'pct_counts_mt', 'total_counts_ribo', 'pct_counts_ribo', 'qc_pass', 'S_score', 'G2M_score', 'phase'\n",
       "    var: 'Symbol'\n",
       "    layers: 'counts'"
      ]
     },
     "execution_count": 5,
     "metadata": {},
     "output_type": "execute_result"
    }
   ],
   "source": [
    "positive_controls"
   ]
  },
  {
   "cell_type": "code",
   "execution_count": 6,
   "id": "04344899-3613-4464-9a90-3d9f87a900d7",
   "metadata": {
    "tags": []
   },
   "outputs": [
    {
     "data": {
      "text/html": [
       "<div>\n",
       "<style scoped>\n",
       "    .dataframe tbody tr th:only-of-type {\n",
       "        vertical-align: middle;\n",
       "    }\n",
       "\n",
       "    .dataframe tbody tr th {\n",
       "        vertical-align: top;\n",
       "    }\n",
       "\n",
       "    .dataframe thead th {\n",
       "        text-align: right;\n",
       "    }\n",
       "</style>\n",
       "<table border=\"1\" class=\"dataframe\">\n",
       "  <thead>\n",
       "    <tr style=\"text-align: right;\">\n",
       "      <th>col_0</th>\n",
       "      <th>count</th>\n",
       "    </tr>\n",
       "    <tr>\n",
       "      <th>gene_symbol</th>\n",
       "      <th></th>\n",
       "    </tr>\n",
       "  </thead>\n",
       "  <tbody>\n",
       "    <tr>\n",
       "      <th>ABCB6</th>\n",
       "      <td>1</td>\n",
       "    </tr>\n",
       "    <tr>\n",
       "      <th>ABCC8</th>\n",
       "      <td>1</td>\n",
       "    </tr>\n",
       "    <tr>\n",
       "      <th>ABCD1</th>\n",
       "      <td>1</td>\n",
       "    </tr>\n",
       "    <tr>\n",
       "      <th>ABCG2</th>\n",
       "      <td>1</td>\n",
       "    </tr>\n",
       "    <tr>\n",
       "      <th>ABHD6</th>\n",
       "      <td>1</td>\n",
       "    </tr>\n",
       "    <tr>\n",
       "      <th>...</th>\n",
       "      <td>...</td>\n",
       "    </tr>\n",
       "    <tr>\n",
       "      <th>ZNF804B</th>\n",
       "      <td>1</td>\n",
       "    </tr>\n",
       "    <tr>\n",
       "      <th>ZNF805</th>\n",
       "      <td>1</td>\n",
       "    </tr>\n",
       "    <tr>\n",
       "      <th>ZNF814</th>\n",
       "      <td>1</td>\n",
       "    </tr>\n",
       "    <tr>\n",
       "      <th>ZNRF4</th>\n",
       "      <td>1</td>\n",
       "    </tr>\n",
       "    <tr>\n",
       "      <th>ZSWIM5</th>\n",
       "      <td>1</td>\n",
       "    </tr>\n",
       "  </tbody>\n",
       "</table>\n",
       "<p>692 rows × 1 columns</p>\n",
       "</div>"
      ],
      "text/plain": [
       "col_0        count\n",
       "gene_symbol       \n",
       "ABCB6            1\n",
       "ABCC8            1\n",
       "ABCD1            1\n",
       "ABCG2            1\n",
       "ABHD6            1\n",
       "...            ...\n",
       "ZNF804B          1\n",
       "ZNF805           1\n",
       "ZNF814           1\n",
       "ZNRF4            1\n",
       "ZSWIM5           1\n",
       "\n",
       "[692 rows x 1 columns]"
      ]
     },
     "execution_count": 6,
     "metadata": {},
     "output_type": "execute_result"
    }
   ],
   "source": [
    "## Examine the Positive Control Targets\n",
    "table_pos_cont = pd.crosstab(index = positive_controls.obs[\"gene_symbol\"], columns = \"count\")\n",
    "table_pos_cont "
   ]
  },
  {
   "cell_type": "markdown",
   "id": "514daf67-324c-4551-b513-fef9a11e8f40",
   "metadata": {},
   "source": [
    "It was discussed that those targets with only a few counts in the POSITIVE CONTROL data are likely mislabeled. The true electroporation positive control guides are those with a high frequency. So we will separate only those out. "
   ]
  },
  {
   "cell_type": "markdown",
   "id": "5422c675-579c-4a21-ab4d-e9c6b40b2361",
   "metadata": {},
   "source": [
    "## Step 3: Cleaning the Positive Control to remove the samples that are likely mislabled"
   ]
  },
  {
   "cell_type": "code",
   "execution_count": 7,
   "id": "a558cc28-0a2d-45cf-9fc3-c2060ae3b1b7",
   "metadata": {
    "tags": []
   },
   "outputs": [
    {
     "name": "stdout",
     "output_type": "stream",
     "text": [
      "gene_symbol\n",
      "CTNNB1     71\n",
      "MYC       106\n",
      "NTC        22\n",
      "TCF7L2    384\n",
      "Name: count, dtype: int64\n"
     ]
    }
   ],
   "source": [
    "## Targets with counts greater than 3\n",
    "print(table_pos_cont['count'][table_pos_cont['count'] > 3])\n",
    "\n",
    "## Save names of target\n",
    "pos_control_targets = table_pos_cont['count'][table_pos_cont['count'] > 3].index.tolist()\n",
    "\n"
   ]
  },
  {
   "cell_type": "code",
   "execution_count": 8,
   "id": "34c87047-5be8-4662-b89c-734c7e7f9c4a",
   "metadata": {
    "tags": []
   },
   "outputs": [
    {
     "data": {
      "text/plain": [
       "['CTNNB1', 'MYC', 'NTC', 'TCF7L2']"
      ]
     },
     "execution_count": 8,
     "metadata": {},
     "output_type": "execute_result"
    }
   ],
   "source": [
    "pos_control_targets"
   ]
  },
  {
   "cell_type": "markdown",
   "id": "699f26e3-ada2-48c6-901f-d5c480568731",
   "metadata": {},
   "source": [
    "NTC's are likely not a positive control, so we will keep them as well "
   ]
  },
  {
   "cell_type": "code",
   "execution_count": 9,
   "id": "1aed8a80-3413-4999-84ab-508356d6bfdb",
   "metadata": {
    "tags": []
   },
   "outputs": [],
   "source": [
    "## Remove NTC's\n",
    "try:\n",
    "    pos_control_targets.remove(\"NTC\")\n",
    "except ValueError:\n",
    "    pass\n",
    "\n",
    "## Keep only positive controls with those targets\n",
    "positive_controls_clean = positive_controls[positive_controls.obs[\"gene_symbol\"].isin(pos_control_targets),]\n"
   ]
  },
  {
   "cell_type": "code",
   "execution_count": 10,
   "id": "98f72aa1-388b-49d8-af3a-1eba07623bd3",
   "metadata": {
    "tags": []
   },
   "outputs": [
    {
     "data": {
      "text/plain": [
       "View of AnnData object with n_obs × n_vars = 561 × 36603\n",
       "    obs: 'Sample', 'Barcode', 'DemuxType_crispr', 'DemuxAssignment_crispr', 'DemuxType_hashing', 'DemuxAssignment_hashing', 'cellline', 'timepoint', 'HTO', 'NGS_ID', 'Biological_replicate', '10Xrun', 'sublibrary', 'gRNA_library_MOI', 'gene_symbol', 'class', 'n_genes_by_counts', 'total_counts', 'total_counts_mt', 'pct_counts_mt', 'total_counts_ribo', 'pct_counts_ribo', 'qc_pass', 'S_score', 'G2M_score', 'phase'\n",
       "    var: 'Symbol'\n",
       "    layers: 'counts'"
      ]
     },
     "execution_count": 10,
     "metadata": {},
     "output_type": "execute_result"
    }
   ],
   "source": [
    "positive_controls_clean"
   ]
  },
  {
   "cell_type": "markdown",
   "id": "b11b2fc8-5c68-48e9-8b68-b07019caa4f9",
   "metadata": {},
   "source": [
    "## Step 4: Remove positive control samples and save data"
   ]
  },
  {
   "cell_type": "code",
   "execution_count": 11,
   "id": "d48ae9a1-66f5-43c5-b91a-7350b34b2bba",
   "metadata": {
    "tags": []
   },
   "outputs": [],
   "source": [
    "## List of all samples\n",
    "all_samples = adata.obs.index\n",
    "\n",
    "## List of positive control samples\n",
    "pos_control_samples = positive_controls_clean.obs.index"
   ]
  },
  {
   "cell_type": "code",
   "execution_count": 12,
   "id": "e6d07ac5-d4be-4cb4-837d-7b083c81f073",
   "metadata": {
    "tags": []
   },
   "outputs": [
    {
     "data": {
      "text/plain": [
       "Index(['SAM24451293_rep7-GTTACGAGTTCAGCGC',\n",
       "       'SAM24451293_rep7-GTTCGCTCAAACTCTG',\n",
       "       'SAM24449110_rep13-AAACCCATCCATTGTT',\n",
       "       'SAM24449110_rep13-AAAGAACGTGTACATC',\n",
       "       'SAM24449110_rep13-AACAAGAAGTCATCGT',\n",
       "       'SAM24449110_rep13-AACAGGGTCTTCGATT',\n",
       "       'SAM24449110_rep13-AACCACAGTGCGTGCT',\n",
       "       'SAM24449110_rep13-AACCATGAGAGCCGTA',\n",
       "       'SAM24449110_rep13-AACCTGATCAGCGCGT',\n",
       "       'SAM24449110_rep13-AACGAAAAGGTCATCT',\n",
       "       ...\n",
       "       'SAM24449110_rep19-TTGGATGAGTACCCTA',\n",
       "       'SAM24449110_rep19-TTGGATGGTATCGGTT',\n",
       "       'SAM24449110_rep19-TTGGATGTCACACCCT',\n",
       "       'SAM24449110_rep19-TTGGTTTAGCTATCCA',\n",
       "       'SAM24449110_rep19-TTGTGTTAGAACGCGT',\n",
       "       'SAM24449110_rep19-TTTAGTCCACACCGCA',\n",
       "       'SAM24449110_rep19-TTTAGTCGTACTAGCT',\n",
       "       'SAM24449110_rep19-TTTGACTTCCATTCGC',\n",
       "       'SAM24449110_rep19-TTTGTTGTCAATGTCG',\n",
       "       'SAM24449110_rep19-TTTGTTGTCCCGTTCA'],\n",
       "      dtype='object', length=561)"
      ]
     },
     "execution_count": 12,
     "metadata": {},
     "output_type": "execute_result"
    }
   ],
   "source": [
    "pos_control_samples"
   ]
  },
  {
   "cell_type": "code",
   "execution_count": 13,
   "id": "95996ca0-2940-4925-b07d-b9ea50d8bffd",
   "metadata": {
    "tags": []
   },
   "outputs": [],
   "source": [
    "## Remove positive controls from data\n",
    "adata_no_pos_controls = adata[~all_samples.isin(pos_control_samples),]\n"
   ]
  },
  {
   "cell_type": "code",
   "execution_count": 14,
   "id": "45603369-4437-4b04-a2fd-b773c7c26938",
   "metadata": {
    "tags": []
   },
   "outputs": [
    {
     "data": {
      "text/plain": [
       "View of AnnData object with n_obs × n_vars = 595042 × 36603\n",
       "    obs: 'Sample', 'Barcode', 'DemuxType_crispr', 'DemuxAssignment_crispr', 'DemuxType_hashing', 'DemuxAssignment_hashing', 'cellline', 'timepoint', 'HTO', 'NGS_ID', 'Biological_replicate', '10Xrun', 'sublibrary', 'gRNA_library_MOI', 'gene_symbol', 'class', 'n_genes_by_counts', 'total_counts', 'total_counts_mt', 'pct_counts_mt', 'total_counts_ribo', 'pct_counts_ribo', 'qc_pass', 'S_score', 'G2M_score', 'phase'\n",
       "    var: 'Symbol'\n",
       "    layers: 'counts'"
      ]
     },
     "execution_count": 14,
     "metadata": {},
     "output_type": "execute_result"
    }
   ],
   "source": [
    "adata_no_pos_controls"
   ]
  },
  {
   "cell_type": "code",
   "execution_count": 15,
   "id": "2213306e-af25-4345-b042-9f192a297087",
   "metadata": {
    "tags": []
   },
   "outputs": [],
   "source": [
    "## Currently missing .X object, so must make new ann data object\n",
    "adata_no_pos_controls_out = ad.AnnData(adata_no_pos_controls.layers[\"counts\"])"
   ]
  },
  {
   "cell_type": "code",
   "execution_count": 16,
   "id": "07b607bc-ec3e-4296-8d5d-5c9af33db636",
   "metadata": {
    "tags": []
   },
   "outputs": [],
   "source": [
    "## Add row and column names\n",
    "adata_no_pos_controls_out.obs_names = adata_no_pos_controls.obs_names\n",
    "adata_no_pos_controls_out.var_names = adata_no_pos_controls.var_names\n",
    "\n",
    "## Add sample info and gene info\n",
    "adata_no_pos_controls_out.obs = adata_no_pos_controls.obs\n",
    "adata_no_pos_controls_out.var = adata_no_pos_controls.var"
   ]
  },
  {
   "cell_type": "code",
   "execution_count": 17,
   "id": "d69de4cf-c241-4cb9-a3cf-ae6057434a8e",
   "metadata": {
    "tags": []
   },
   "outputs": [],
   "source": [
    "## Store as a copy just in case to make future calculations easier\n",
    "adata_no_pos_controls_out_final = adata_no_pos_controls_out.copy()"
   ]
  },
  {
   "cell_type": "code",
   "execution_count": 18,
   "id": "b93fe76d-b057-46fc-802b-e205837668f6",
   "metadata": {
    "tags": []
   },
   "outputs": [],
   "source": [
    "adata_no_pos_controls_out_final.layers[\"counts\"] = adata_no_pos_controls_out_final.X"
   ]
  },
  {
   "cell_type": "code",
   "execution_count": 20,
   "id": "b4ec1733-3d84-494f-928c-5963f53499bc",
   "metadata": {
    "tags": []
   },
   "outputs": [],
   "source": [
    "## Save h5ad object \n",
    "adata_no_pos_controls_out_final.write_h5ad(\"/gstore/scratch/u/ghaffars/glmGamPoi/sublib1_bdev/data/remove_pos_cont_counts_obs_var.h5ad\")\n",
    "\n",
    "## Save sample data\n",
    "adata_no_pos_controls_out_final.obs.to_csv(\"/gstore/scratch/u/ghaffars/glmGamPoi/sublib1_bdev/data/remove_pos_cont_sample_data.csv\")\n",
    "\n",
    "## Save gene data\n",
    "adata_no_pos_controls_out_final.var.to_csv(\"/gstore/scratch/u/ghaffars/glmGamPoi/sublib1_bdev/data/remove_pos_cont_gene_data.csv\")"
   ]
  },
  {
   "cell_type": "code",
   "execution_count": null,
   "id": "9f380b95-a587-4954-9bd4-dc896df639c7",
   "metadata": {},
   "outputs": [],
   "source": []
  }
 ],
 "metadata": {
  "kernelspec": {
   "display_name": "gpuy310",
   "language": "python",
   "name": "gpuy310"
  },
  "language_info": {
   "codemirror_mode": {
    "name": "ipython",
    "version": 3
   },
   "file_extension": ".py",
   "mimetype": "text/x-python",
   "name": "python",
   "nbconvert_exporter": "python",
   "pygments_lexer": "ipython3",
   "version": "3.10.8"
  },
  "widgets": {
   "application/vnd.jupyter.widget-state+json": {
    "state": {},
    "version_major": 2,
    "version_minor": 0
   }
  }
 },
 "nbformat": 4,
 "nbformat_minor": 5
}
