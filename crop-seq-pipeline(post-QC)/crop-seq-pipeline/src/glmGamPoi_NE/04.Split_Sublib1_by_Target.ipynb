{
 "cells": [
  {
   "cell_type": "markdown",
   "id": "9d8a1a21-ca43-4f2c-b151-326fbe9609ef",
   "metadata": {},
   "source": [
    "## Step 1: Load Libraries"
   ]
  },
  {
   "cell_type": "code",
   "execution_count": 1,
   "id": "1cbf54f5-db83-4560-9566-d7c7bdf22002",
   "metadata": {
    "tags": []
   },
   "outputs": [],
   "source": [
    "import scanpy as sc\n",
    "import numpy as np\n",
    "import scipy\n",
    "import pandas as pd\n",
    "from scipy.io import mmwrite\n",
    "import argparse\n",
    "import os"
   ]
  },
  {
   "cell_type": "markdown",
   "id": "f2c7f74b-b015-4d39-a11b-808ffded1278",
   "metadata": {},
   "source": [
    "## Step 2: Load Library 1 Data"
   ]
  },
  {
   "cell_type": "code",
   "execution_count": 2,
   "id": "9300b584-2b3e-468e-97ee-b9893700ada7",
   "metadata": {
    "tags": []
   },
   "outputs": [],
   "source": [
    "file_load =  \"/gstore/scratch/u/ghaffars/glmGamPoi/sublib1_bdev_NE/data/remove_pos_cont_counts_obs_var.h5ad\"\n",
    "data = sc.read_h5ad(file_load)"
   ]
  },
  {
   "cell_type": "markdown",
   "id": "ac6ae10e-be62-4e9b-8980-3e453a3a5a6c",
   "metadata": {},
   "source": [
    "## Step 3: Obtain Column Meta Data"
   ]
  },
  {
   "cell_type": "code",
   "execution_count": 3,
   "id": "7710c59a-ebe7-4fa0-a107-687146dddc3a",
   "metadata": {
    "tags": []
   },
   "outputs": [],
   "source": [
    "## Create NTC vs not label\n",
    "data.obs[\"label\"] = ['aNTC' if c == \"nonessential\" else 'zAll' for c in data.obs['class']]"
   ]
  },
  {
   "cell_type": "code",
   "execution_count": 4,
   "id": "acc9ca36-d9f4-4c54-8dfc-ca6f80a2daa2",
   "metadata": {
    "tags": []
   },
   "outputs": [],
   "source": [
    "data.obs['gem'] = data.obs['NGS_ID'].astype(str) + '-' + data.obs['10Xrun'].astype(str)"
   ]
  },
  {
   "cell_type": "code",
   "execution_count": 5,
   "id": "deb56602-9387-467f-8af8-416319d2eafe",
   "metadata": {
    "tags": []
   },
   "outputs": [],
   "source": [
    "NE = data[data.obs[\"class\"]==\"nonessential\"].copy()"
   ]
  },
  {
   "cell_type": "code",
   "execution_count": 6,
   "id": "70dd872d-3c32-4cbb-9982-db0a97d701d8",
   "metadata": {
    "tags": []
   },
   "outputs": [
    {
     "data": {
      "text/plain": [
       "AnnData object with n_obs × n_vars = 2651 × 36603\n",
       "    obs: 'Sample', 'Barcode', 'DemuxType_crispr', 'DemuxAssignment_crispr', 'DemuxType_hashing', 'DemuxAssignment_hashing', 'cellline', 'timepoint', 'HTO', 'NGS_ID', 'Biological_replicate', '10Xrun', 'sublibrary', 'gRNA_library_MOI', 'gene_symbol', 'class', 'n_genes_by_counts', 'total_counts', 'total_counts_mt', 'pct_counts_mt', 'total_counts_ribo', 'pct_counts_ribo', 'qc_pass', 'S_score', 'G2M_score', 'phase', 'label', 'gem'\n",
       "    var: 'Symbol'\n",
       "    layers: 'counts'"
      ]
     },
     "execution_count": 6,
     "metadata": {},
     "output_type": "execute_result"
    }
   ],
   "source": [
    "NE"
   ]
  },
  {
   "cell_type": "code",
   "execution_count": 7,
   "id": "fa09bca9-a834-4fde-ac4e-d484a64e8090",
   "metadata": {
    "tags": []
   },
   "outputs": [],
   "source": [
    "ne_genes = [el for el in NE.obs['gene_symbol'].unique()]"
   ]
  },
  {
   "cell_type": "code",
   "execution_count": 8,
   "id": "1b658699-064e-427b-bd35-48742ee2a119",
   "metadata": {
    "tags": []
   },
   "outputs": [
    {
     "data": {
      "text/plain": [
       "20"
      ]
     },
     "execution_count": 8,
     "metadata": {},
     "output_type": "execute_result"
    }
   ],
   "source": [
    "len(ne_genes)"
   ]
  },
  {
   "cell_type": "code",
   "execution_count": 9,
   "id": "37371fbb-24f3-4723-9232-ebcd0b056478",
   "metadata": {
    "tags": []
   },
   "outputs": [],
   "source": [
    "## Meta Data for pyGamPoi Model\n",
    "meta = pd.DataFrame({'label':data.obs[\"label\"],\n",
    "                   'cell':data.obs.index,\n",
    "                   'total_counts':data.obs[\"total_counts\"],\n",
    "                   'fct_counts_mt':data.obs[\"pct_counts_mt\"]/100,\n",
    "                   'batchid':data.obs[\"gem\"],\n",
    "                   'guidename':data.obs[\"DemuxAssignment_crispr\"],\n",
    "                   'targetname':data.obs[\"gene_symbol\"]})"
   ]
  },
  {
   "cell_type": "code",
   "execution_count": 10,
   "id": "6be51f24-be62-49e7-aad7-0eeca903f5e0",
   "metadata": {
    "tags": []
   },
   "outputs": [],
   "source": [
    "## Change guidename to not have commas to not confuse bash later\n",
    "meta[\"guidename\"] = meta[\"guidename\"].str.replace(\",\", \":\")\n"
   ]
  },
  {
   "cell_type": "code",
   "execution_count": 18,
   "id": "ce212d6f-d7d7-41b8-8698-ddf11d318f97",
   "metadata": {
    "tags": []
   },
   "outputs": [],
   "source": [
    "## File to save      \n",
    "meta_file  = \"/gstore/scratch/u/ghaffars/glmGamPoi/sublib1_bdev_NE/data/coldata_for_glmgampois.csv\"\n",
    "## Save\n",
    "meta.to_csv(meta_file, index = False)"
   ]
  },
  {
   "cell_type": "code",
   "execution_count": 19,
   "id": "31073c81-afc5-4812-88db-9564b66c4347",
   "metadata": {
    "tags": []
   },
   "outputs": [],
   "source": [
    "## Save row data\n",
    "full_gene_file  = \"/gstore/scratch/u/ghaffars/glmGamPoi/sublib1_bdev_NE/data/full_gene_data.csv\"\n",
    "data.var.to_csv(full_gene_file, index = False)"
   ]
  },
  {
   "cell_type": "markdown",
   "id": "ffeaae61-6af8-4f4a-a7f5-68105462859f",
   "metadata": {},
   "source": [
    "## Step 4: Split and Save by Target"
   ]
  },
  {
   "cell_type": "code",
   "execution_count": 13,
   "id": "8330e0b0-119d-4532-90f1-e1b5371eddb4",
   "metadata": {
    "tags": []
   },
   "outputs": [],
   "source": [
    "## Create NTC vs not label\n",
    "data.obs['tar']=np.where(data.obs[\"class\"]==\"nonessential\", \"NE\",data.obs['gene_symbol'])"
   ]
  },
  {
   "cell_type": "code",
   "execution_count": 14,
   "id": "b076a7cc-f639-48a0-bc7b-87b3874296d0",
   "metadata": {
    "tags": []
   },
   "outputs": [
    {
     "data": {
      "text/plain": [
       "4956"
      ]
     },
     "execution_count": 14,
     "metadata": {},
     "output_type": "execute_result"
    }
   ],
   "source": [
    "data.obs[\"tar\"].nunique()"
   ]
  },
  {
   "cell_type": "code",
   "execution_count": 15,
   "id": "f3c0d639-41e7-4226-9cd9-61daf2e1e08f",
   "metadata": {
    "tags": []
   },
   "outputs": [],
   "source": [
    "A=data.obs[data.obs[\"tar\"]==\"NE\"]"
   ]
  },
  {
   "cell_type": "code",
   "execution_count": 16,
   "id": "42f40dcb-d199-4dc0-b7e9-d237f8a04211",
   "metadata": {
    "tags": []
   },
   "outputs": [
    {
     "data": {
      "text/html": [
       "<div>\n",
       "<style scoped>\n",
       "    .dataframe tbody tr th:only-of-type {\n",
       "        vertical-align: middle;\n",
       "    }\n",
       "\n",
       "    .dataframe tbody tr th {\n",
       "        vertical-align: top;\n",
       "    }\n",
       "\n",
       "    .dataframe thead th {\n",
       "        text-align: right;\n",
       "    }\n",
       "</style>\n",
       "<table border=\"1\" class=\"dataframe\">\n",
       "  <thead>\n",
       "    <tr style=\"text-align: right;\">\n",
       "      <th></th>\n",
       "      <th>Sample</th>\n",
       "      <th>Barcode</th>\n",
       "      <th>DemuxType_crispr</th>\n",
       "      <th>DemuxAssignment_crispr</th>\n",
       "      <th>DemuxType_hashing</th>\n",
       "      <th>DemuxAssignment_hashing</th>\n",
       "      <th>cellline</th>\n",
       "      <th>timepoint</th>\n",
       "      <th>HTO</th>\n",
       "      <th>NGS_ID</th>\n",
       "      <th>...</th>\n",
       "      <th>pct_counts_mt</th>\n",
       "      <th>total_counts_ribo</th>\n",
       "      <th>pct_counts_ribo</th>\n",
       "      <th>qc_pass</th>\n",
       "      <th>S_score</th>\n",
       "      <th>G2M_score</th>\n",
       "      <th>phase</th>\n",
       "      <th>label</th>\n",
       "      <th>gem</th>\n",
       "      <th>tar</th>\n",
       "    </tr>\n",
       "  </thead>\n",
       "  <tbody>\n",
       "  </tbody>\n",
       "</table>\n",
       "<p>0 rows × 29 columns</p>\n",
       "</div>"
      ],
      "text/plain": [
       "Empty DataFrame\n",
       "Columns: [Sample, Barcode, DemuxType_crispr, DemuxAssignment_crispr, DemuxType_hashing, DemuxAssignment_hashing, cellline, timepoint, HTO, NGS_ID, Biological_replicate, 10Xrun, sublibrary, gRNA_library_MOI, gene_symbol, class, n_genes_by_counts, total_counts, total_counts_mt, pct_counts_mt, total_counts_ribo, pct_counts_ribo, qc_pass, S_score, G2M_score, phase, label, gem, tar]\n",
       "Index: []\n",
       "\n",
       "[0 rows x 29 columns]"
      ]
     },
     "execution_count": 16,
     "metadata": {},
     "output_type": "execute_result"
    }
   ],
   "source": [
    "A[A[\"class\"]!=\"nonessential\"]"
   ]
  },
  {
   "cell_type": "code",
   "execution_count": 17,
   "id": "f7ddc8ec-3c44-4695-9de9-bb2eed1fa29d",
   "metadata": {
    "tags": []
   },
   "outputs": [
    {
     "name": "stdout",
     "output_type": "stream",
     "text": [
      "length target is 4956\n",
      "0\n",
      "100\n",
      "200\n",
      "300\n",
      "400\n",
      "500\n",
      "600\n",
      "700\n",
      "800\n",
      "900\n",
      "1000\n",
      "1100\n",
      "1200\n",
      "1300\n",
      "1400\n",
      "1500\n",
      "1600\n",
      "1700\n",
      "1800\n",
      "1900\n",
      "2000\n",
      "2100\n",
      "2200\n",
      "2300\n",
      "2400\n",
      "2500\n",
      "2600\n",
      "2700\n",
      "2800\n",
      "2900\n",
      "3000\n",
      "3100\n",
      "3200\n",
      "3300\n",
      "3400\n",
      "3500\n",
      "3600\n",
      "3700\n",
      "3800\n",
      "3900\n",
      "4000\n",
      "4100\n",
      "4200\n",
      "4300\n",
      "4400\n",
      "4500\n",
      "4600\n",
      "4700\n",
      "4800\n",
      "4900\n",
      "filtered and saved by target\n",
      "all done\n"
     ]
    }
   ],
   "source": [
    "## List of targets\n",
    "targets = data.obs[\"tar\"].unique()\n",
    "\n",
    "## Create Folder To Save by Target\n",
    "by_target_folder =  \"/gstore/scratch/u/ghaffars/glmGamPoi/sublib1_bdev_NE/data/by_target/\"\n",
    "\n",
    "## Ensure folder exists\n",
    "if not os.path.exists(by_target_folder):\n",
    "    os.makedirs(by_target_folder)\n",
    "\n",
    "## Save info about column names of top 3000 genes\n",
    "print(\"length target is \" + str(len(targets)))\n",
    "\n",
    "## Iterate over target and save    \n",
    "for i in range(len(targets)): \n",
    "    if i % 100 == 0:\n",
    "            print(i)\n",
    "    target = targets[i]\n",
    "    data_target = data[data.obs[\"tar\"] == target,]\n",
    "    ## Save as .mm\n",
    "    mmwrite(by_target_folder+ \"count_mat\"+target+\".mm\", data_target.X)\n",
    "    sample_info = {'samples': data_target.obs.index}\n",
    "    pd.DataFrame(sample_info).to_csv(by_target_folder+ \"count_mat\"+target+\"_rownames.csv\", index = False)\n",
    "\n",
    "print(\"filtered and saved by target\")\n",
    "print(\"all done\")\n",
    "\n",
    "\n",
    "      "
   ]
  },
  {
   "cell_type": "code",
   "execution_count": null,
   "id": "17b637b1-9ad8-4c28-be10-a988d8726bb0",
   "metadata": {},
   "outputs": [],
   "source": []
  }
 ],
 "metadata": {
  "kernelspec": {
   "display_name": "GPy310 CPU",
   "language": "python",
   "name": "gpy_cpu"
  },
  "language_info": {
   "codemirror_mode": {
    "name": "ipython",
    "version": 3
   },
   "file_extension": ".py",
   "mimetype": "text/x-python",
   "name": "python",
   "nbconvert_exporter": "python",
   "pygments_lexer": "ipython3",
   "version": "3.10.14"
  },
  "widgets": {
   "application/vnd.jupyter.widget-state+json": {
    "state": {},
    "version_major": 2,
    "version_minor": 0
   }
  }
 },
 "nbformat": 4,
 "nbformat_minor": 5
}
