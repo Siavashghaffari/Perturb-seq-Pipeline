{
 "cells": [
  {
   "cell_type": "markdown",
   "metadata": {},
   "source": [
    "# CROP-Seq pipeline"
   ]
  },
  {
   "cell_type": "markdown",
   "metadata": {},
   "source": [
    "A bit of set-up"
   ]
  },
  {
   "cell_type": "code",
   "execution_count": 1,
   "metadata": {},
   "outputs": [],
   "source": [
    "from Templates.tools.features import *\n",
    "from Templates.tools import datasetMaker\n",
    "import Templates.tools.DatasetDB as DB\n",
    "from gpauth import GPAuth\n",
    "import os\n",
    "import anndata as ad \n",
    "import pandas as pd\n",
    "import numpy as np\n",
    "import scanpy as sc"
   ]
  },
  {
   "cell_type": "markdown",
   "metadata": {},
   "source": [
    "### Please enter your password to authenticate"
   ]
  },
  {
   "cell_type": "code",
   "execution_count": 2,
   "metadata": {},
   "outputs": [
    {
     "name": "stdout",
     "output_type": "stream",
     "text": [
      "Authenticating User: 'ghaffars'\n"
     ]
    },
    {
     "name": "stdin",
     "output_type": "stream",
     "text": [
      " ········\n"
     ]
    },
    {
     "name": "stdout",
     "output_type": "stream",
     "text": [
      "Successfully authenticated.\n"
     ]
    }
   ],
   "source": [
    "auth = GPAuth()"
   ]
  },
  {
   "cell_type": "markdown",
   "metadata": {},
   "source": [
    "### Export Settings"
   ]
  },
  {
   "cell_type": "code",
   "execution_count": 2,
   "metadata": {},
   "outputs": [],
   "source": [
    "Notebooks_HOME = \"./Templates/\"   # the directory that contains input notebooks\n",
    "A = os.getcwd()\n",
    "Notebooks_Savepath = os.path.abspath(os.path.join(A ,\"../Reports\"))  # the directory that contains exported reports\n",
    "Reports_format = \"notebook\" # the output report format can be one of \"notebook\", \"html\" and \"pdf\" \n",
    "Dataset_HOME = \"/gstore/scratch/u/ghaffars/Dataset/crc_NGS5704/\" # the directory that contains all AnnData files stored on the disk"
   ]
  },
  {
   "cell_type": "markdown",
   "metadata": {},
   "source": [
    "### Dataset Info"
   ]
  },
  {
   "cell_type": "code",
   "execution_count": 3,
   "metadata": {},
   "outputs": [],
   "source": [
    "dsdbs = ['DS000016632', 'DS000016634', 'DS000016633', 'DS000016631']"
   ]
  },
  {
   "cell_type": "markdown",
   "metadata": {},
   "source": [
    "### Test dataset creation"
   ]
  },
  {
   "cell_type": "code",
   "execution_count": 6,
   "metadata": {},
   "outputs": [],
   "source": [
    "DS_test = False  #A boolean based on whether your want to create a test dataset to run the pipeline on "
   ]
  },
  {
   "cell_type": "markdown",
   "metadata": {},
   "source": [
    "### Run this section only if you want to create a test dataset from your original dataset and run a test instead on working on the original adatset "
   ]
  },
  {
   "cell_type": "code",
   "execution_count": 7,
   "metadata": {},
   "outputs": [],
   "source": [
    "#if DS_test:\n",
    "#    test_DatasetID, version = datasetMaker.Dataset_maker(DatasetID, DEV)"
   ]
  },
  {
   "cell_type": "code",
   "execution_count": 8,
   "metadata": {},
   "outputs": [],
   "source": [
    "#test_DatasetID = 'test-DS000006669'"
   ]
  },
  {
   "cell_type": "markdown",
   "metadata": {},
   "source": [
    "### Define metadata parameters"
   ]
  },
  {
   "cell_type": "code",
   "execution_count": 9,
   "metadata": {},
   "outputs": [],
   "source": [
    "# any identifiers you want to attach to the experiment, usually GEO ids, publication etc.\n",
    "sources = [{\"id\": \"Siavash-1234\", \"name\": \"Geo-ID\"}]\n",
    "#Authors names\n",
    "author = \"SG\""
   ]
  },
  {
   "cell_type": "markdown",
   "metadata": {},
   "source": [
    "### Define QC transcriptome parameters"
   ]
  },
  {
   "cell_type": "code",
   "execution_count": 10,
   "metadata": {},
   "outputs": [],
   "source": [
    "organism = 'human' # human or mouse\n",
    "groupby = 'Sample' # For tabulation\n",
    "min_cells = 3\n",
    "min_genes = 500\n",
    "max_genes = None\n",
    "pct_mt = None\n",
    "total_counts = None\n",
    "n_top_genes = 2000\n",
    "ribo = True\n",
    "doublets = True # This refers to hashing. Only for hashing when you have demux_type in obs\n",
    "# create a dictionary to keep the parameters organized\n",
    "gene_param = dict({'organism':organism, 'groupby':groupby, 'min_cells':min_cells, 'min_genes':min_genes,\n",
    "                  'max_genes':max_genes, 'pct_mt':pct_mt, 'total_counts':total_counts, 'n_top_genes':n_top_genes,\n",
    "                  'ribo':ribo, 'doublets':doublets})"
   ]
  },
  {
   "cell_type": "markdown",
   "metadata": {},
   "source": [
    "### Define QC Hashing Parameters"
   ]
  },
  {
   "cell_type": "code",
   "execution_count": 12,
   "metadata": {},
   "outputs": [],
   "source": [
    "#experiment = 'hashing'\n",
    "topBarcodesToPlot = 5\n",
    "bottomBarcodesToPlot = 5\n",
    "fix_barcodes=False\n",
    "valid_assignments=None\n",
    "# create a dictionary to keep the parameters organized\n",
    "hashing_param = dict({'topBarcodesToPlot':topBarcodesToPlot, 'bottomBarcodesToPlot':bottomBarcodesToPlot, \n",
    "                                       'fix_barcodes':fix_barcodes, 'valid_assignments':valid_assignments})"
   ]
  },
  {
   "cell_type": "markdown",
   "metadata": {},
   "source": [
    "### Define QC Crispr Parameters"
   ]
  },
  {
   "cell_type": "code",
   "execution_count": 13,
   "metadata": {},
   "outputs": [],
   "source": [
    "#experiment = 'crispr'\n",
    "topBarcodesToPlot = 5\n",
    "bottomBarcodesToPlot = 5\n",
    "fix_barcodes=False\n",
    "valid_assignments=None\n",
    "# create a dictionary to keep the parameters organized\n",
    "crispr_param = dict({'topBarcodesToPlot':topBarcodesToPlot, 'bottomBarcodesToPlot':bottomBarcodesToPlot, \n",
    "                                       'fix_barcodes':fix_barcodes, 'valid_assignments':valid_assignments})"
   ]
  },
  {
   "cell_type": "markdown",
   "metadata": {},
   "source": [
    "### Dataset Harmonization for all the split runs"
   ]
  },
  {
   "cell_type": "code",
   "execution_count": 20,
   "metadata": {},
   "outputs": [],
   "source": [
    "%%capture\n",
    "for i in dsdbs:\n",
    "    DatasetID = i\n",
    "    DEV = False\n",
    "    DF = Features(DatasetID, auth, DEV = DEV,\n",
    "              DS_test = DS_test,\n",
    "                sources = sources, \n",
    "                 author = author,\n",
    "              Notebooks_HOME = Notebooks_HOME,\n",
    "             Notebooks_Savepath = Notebooks_Savepath,\n",
    "             Reports_format = Reports_format,\n",
    "             Dataset_HOME = Dataset_HOME,\n",
    "                 gene_param = gene_param,\n",
    "              hashing_param = hashing_param,\n",
    "              crispr_param = crispr_param,)\n",
    "    #DF.Dataset_Harmonization()\n",
    "    DF.QC_Transcriptome()\n",
    "    #DF.QC_Hashing()\n",
    "    #DF.QC_Crispr()\n",
    "    "
   ]
  },
  {
   "cell_type": "code",
   "execution_count": 4,
   "metadata": {},
   "outputs": [],
   "source": [
    "adatas = []\n",
    "\n",
    "for i in dsdbs:\n",
    "    DSID = i\n",
    "    path = f'{Dataset_HOME}/{DSID}'\n",
    "    file = os.path.abspath(os.path.join(path ,\"raw_qc.h5ad\"))\n",
    "    adata = sc.read_h5ad(file)\n",
    "    adata = adata[adata.obs[\"qc_pass\"]==True].copy()\n",
    "    \n",
    "    adatas.append(adata)\n",
    "    \n",
    "    "
   ]
  },
  {
   "cell_type": "code",
   "execution_count": 5,
   "metadata": {},
   "outputs": [
    {
     "data": {
      "text/plain": [
       "[AnnData object with n_obs × n_vars = 39583 × 36603\n",
       "     obs: 'Sample', 'Barcode', 'DemuxType_crispr', 'DemuxAssignment_crispr', 'DemuxType_hashing', 'DemuxAssignment_hashing', 'cellline', 'timepoint', 'HTO', 'NGS_ID', 'Biological_replicate', '10Xrun', 'sublibrary', 'gRNA_library_MOI', 'gene_symbol', 'class', 'n_genes_by_counts', 'total_counts', 'total_counts_mt', 'pct_counts_mt', 'total_counts_ribo', 'pct_counts_ribo', 'qc_pass', 'S_score', 'G2M_score', 'phase'\n",
       "     var: 'ID', 'Symbol', 'Type', 'mt', 'ribo', 'n_cells_by_counts', 'mean_counts', 'pct_dropout_by_counts', 'total_counts'\n",
       "     uns: '.internal'\n",
       "     layers: 'counts',\n",
       " AnnData object with n_obs × n_vars = 35847 × 36603\n",
       "     obs: 'Sample', 'Barcode', 'DemuxType_crispr', 'DemuxAssignment_crispr', 'DemuxType_hashing', 'DemuxAssignment_hashing', 'cellline', 'timepoint', 'HTO', 'NGS_ID', 'Biological_replicate', '10Xrun', 'sublibrary', 'gRNA_library_MOI', 'gene_symbol', 'class', 'n_genes_by_counts', 'total_counts', 'total_counts_mt', 'pct_counts_mt', 'total_counts_ribo', 'pct_counts_ribo', 'qc_pass', 'S_score', 'G2M_score', 'phase'\n",
       "     var: 'ID', 'Symbol', 'Type', 'mt', 'ribo', 'n_cells_by_counts', 'mean_counts', 'pct_dropout_by_counts', 'total_counts'\n",
       "     uns: '.internal'\n",
       "     layers: 'counts',\n",
       " AnnData object with n_obs × n_vars = 39026 × 36603\n",
       "     obs: 'Sample', 'Barcode', 'DemuxType_crispr', 'DemuxAssignment_crispr', 'DemuxType_hashing', 'DemuxAssignment_hashing', 'cellline', 'timepoint', 'HTO', 'NGS_ID', 'Biological_replicate', '10Xrun', 'sublibrary', 'gRNA_library_MOI', 'gene_symbol', 'class', 'n_genes_by_counts', 'total_counts', 'total_counts_mt', 'pct_counts_mt', 'total_counts_ribo', 'pct_counts_ribo', 'qc_pass', 'S_score', 'G2M_score', 'phase'\n",
       "     var: 'ID', 'Symbol', 'Type', 'mt', 'ribo', 'n_cells_by_counts', 'mean_counts', 'pct_dropout_by_counts', 'total_counts'\n",
       "     uns: '.internal'\n",
       "     layers: 'counts',\n",
       " AnnData object with n_obs × n_vars = 33460 × 36603\n",
       "     obs: 'Sample', 'Barcode', 'DemuxType_crispr', 'DemuxAssignment_crispr', 'DemuxType_hashing', 'DemuxAssignment_hashing', 'cellline', 'timepoint', 'HTO', 'NGS_ID', 'Biological_replicate', '10Xrun', 'sublibrary', 'gRNA_library_MOI', 'gene_symbol', 'class', 'n_genes_by_counts', 'total_counts', 'total_counts_mt', 'pct_counts_mt', 'total_counts_ribo', 'pct_counts_ribo', 'qc_pass', 'S_score', 'G2M_score', 'phase'\n",
       "     var: 'ID', 'Symbol', 'Type', 'mt', 'ribo', 'n_cells_by_counts', 'mean_counts', 'pct_dropout_by_counts', 'total_counts'\n",
       "     uns: '.internal'\n",
       "     layers: 'counts']"
      ]
     },
     "execution_count": 5,
     "metadata": {},
     "output_type": "execute_result"
    }
   ],
   "source": [
    "adatas"
   ]
  },
  {
   "cell_type": "code",
   "execution_count": 6,
   "metadata": {},
   "outputs": [],
   "source": [
    "concat = ad.concat(adatas,join='outer')"
   ]
  },
  {
   "cell_type": "code",
   "execution_count": 7,
   "metadata": {},
   "outputs": [
    {
     "data": {
      "text/plain": [
       "AnnData object with n_obs × n_vars = 147916 × 36603\n",
       "    obs: 'Sample', 'Barcode', 'DemuxType_crispr', 'DemuxAssignment_crispr', 'DemuxType_hashing', 'DemuxAssignment_hashing', 'cellline', 'timepoint', 'HTO', 'NGS_ID', 'Biological_replicate', '10Xrun', 'sublibrary', 'gRNA_library_MOI', 'gene_symbol', 'class', 'n_genes_by_counts', 'total_counts', 'total_counts_mt', 'pct_counts_mt', 'total_counts_ribo', 'pct_counts_ribo', 'qc_pass', 'S_score', 'G2M_score', 'phase'\n",
       "    layers: 'counts'"
      ]
     },
     "execution_count": 7,
     "metadata": {},
     "output_type": "execute_result"
    }
   ],
   "source": [
    "concat"
   ]
  },
  {
   "cell_type": "code",
   "execution_count": 8,
   "metadata": {},
   "outputs": [],
   "source": [
    "concat.var[\"Symbol\"] = concat.var.index.copy()"
   ]
  },
  {
   "cell_type": "code",
   "execution_count": 9,
   "metadata": {},
   "outputs": [
    {
     "data": {
      "text/html": [
       "<div>\n",
       "<style scoped>\n",
       "    .dataframe tbody tr th:only-of-type {\n",
       "        vertical-align: middle;\n",
       "    }\n",
       "\n",
       "    .dataframe tbody tr th {\n",
       "        vertical-align: top;\n",
       "    }\n",
       "\n",
       "    .dataframe thead th {\n",
       "        text-align: right;\n",
       "    }\n",
       "</style>\n",
       "<table border=\"1\" class=\"dataframe\">\n",
       "  <thead>\n",
       "    <tr style=\"text-align: right;\">\n",
       "      <th></th>\n",
       "      <th>Symbol</th>\n",
       "    </tr>\n",
       "  </thead>\n",
       "  <tbody>\n",
       "    <tr>\n",
       "      <th>3xLinker</th>\n",
       "      <td>3xLinker</td>\n",
       "    </tr>\n",
       "    <tr>\n",
       "      <th>MIR1302-2HG</th>\n",
       "      <td>MIR1302-2HG</td>\n",
       "    </tr>\n",
       "    <tr>\n",
       "      <th>FAM138A</th>\n",
       "      <td>FAM138A</td>\n",
       "    </tr>\n",
       "    <tr>\n",
       "      <th>OR4F5</th>\n",
       "      <td>OR4F5</td>\n",
       "    </tr>\n",
       "    <tr>\n",
       "      <th>AL627309.1</th>\n",
       "      <td>AL627309.1</td>\n",
       "    </tr>\n",
       "    <tr>\n",
       "      <th>...</th>\n",
       "      <td>...</td>\n",
       "    </tr>\n",
       "    <tr>\n",
       "      <th>AC023491.2</th>\n",
       "      <td>AC023491.2</td>\n",
       "    </tr>\n",
       "    <tr>\n",
       "      <th>AC007325.1</th>\n",
       "      <td>AC007325.1</td>\n",
       "    </tr>\n",
       "    <tr>\n",
       "      <th>AC007325.4</th>\n",
       "      <td>AC007325.4</td>\n",
       "    </tr>\n",
       "    <tr>\n",
       "      <th>AC007325.2</th>\n",
       "      <td>AC007325.2</td>\n",
       "    </tr>\n",
       "    <tr>\n",
       "      <th>TurboGFP</th>\n",
       "      <td>TurboGFP</td>\n",
       "    </tr>\n",
       "  </tbody>\n",
       "</table>\n",
       "<p>36603 rows × 1 columns</p>\n",
       "</div>"
      ],
      "text/plain": [
       "                  Symbol\n",
       "3xLinker        3xLinker\n",
       "MIR1302-2HG  MIR1302-2HG\n",
       "FAM138A          FAM138A\n",
       "OR4F5              OR4F5\n",
       "AL627309.1    AL627309.1\n",
       "...                  ...\n",
       "AC023491.2    AC023491.2\n",
       "AC007325.1    AC007325.1\n",
       "AC007325.4    AC007325.4\n",
       "AC007325.2    AC007325.2\n",
       "TurboGFP        TurboGFP\n",
       "\n",
       "[36603 rows x 1 columns]"
      ]
     },
     "execution_count": 9,
     "metadata": {},
     "output_type": "execute_result"
    }
   ],
   "source": [
    "concat.var"
   ]
  },
  {
   "cell_type": "code",
   "execution_count": 10,
   "metadata": {},
   "outputs": [
    {
     "data": {
      "text/plain": [
       "AnnData object with n_obs × n_vars = 147916 × 36603\n",
       "    obs: 'Sample', 'Barcode', 'DemuxType_crispr', 'DemuxAssignment_crispr', 'DemuxType_hashing', 'DemuxAssignment_hashing', 'cellline', 'timepoint', 'HTO', 'NGS_ID', 'Biological_replicate', '10Xrun', 'sublibrary', 'gRNA_library_MOI', 'gene_symbol', 'class', 'n_genes_by_counts', 'total_counts', 'total_counts_mt', 'pct_counts_mt', 'total_counts_ribo', 'pct_counts_ribo', 'qc_pass', 'S_score', 'G2M_score', 'phase'\n",
       "    var: 'Symbol'\n",
       "    layers: 'counts'"
      ]
     },
     "execution_count": 10,
     "metadata": {},
     "output_type": "execute_result"
    }
   ],
   "source": [
    "concat"
   ]
  },
  {
   "cell_type": "code",
   "execution_count": 11,
   "metadata": {},
   "outputs": [],
   "source": [
    "concat.obs['gene_symbol'] = np.where(concat.obs['gene_symbol']=='unknown', \n",
    "                                    concat.obs['DemuxAssignment_crispr'].apply(lambda x:x.split('_')[0]),concat.obs['gene_symbol']) "
   ]
  },
  {
   "cell_type": "code",
   "execution_count": 21,
   "metadata": {},
   "outputs": [],
   "source": [
    "#sc.pp.filter_genes(concat, min_cells=3)"
   ]
  },
  {
   "cell_type": "code",
   "execution_count": 39,
   "metadata": {},
   "outputs": [],
   "source": [
    "concat.write_h5ad(\"/gstore/scratch/u/ghaffars/Dataset/crc_NGS5704/concat_filtered.h5ad\")"
   ]
  },
  {
   "cell_type": "markdown",
   "metadata": {},
   "source": [
    "## Combine with the rest of sublib4 i.e. NGS5570"
   ]
  },
  {
   "cell_type": "code",
   "execution_count": 12,
   "metadata": {},
   "outputs": [],
   "source": [
    "concat_2 = sc.read_h5ad(\"/gstore/scratch/u/ghaffars/Dataset/crc_NGS5570/concat_filtered.h5ad\")"
   ]
  },
  {
   "cell_type": "code",
   "execution_count": null,
   "metadata": {},
   "outputs": [],
   "source": [
    "concat_2"
   ]
  },
  {
   "cell_type": "code",
   "execution_count": null,
   "metadata": {},
   "outputs": [],
   "source": [
    "concat_2.obs['NGS_ID'] = 'NGS5570'"
   ]
  },
  {
   "cell_type": "code",
   "execution_count": null,
   "metadata": {},
   "outputs": [],
   "source": [
    "concat_2.obs['gene_symbol'] = np.where(concat_2.obs['gene_symbol']=='unknown', \n",
    "                                    concat_2.obs['DemuxAssignment_crispr'].apply(lambda x:x.split('_')[0]),concat_2.obs['gene_symbol']) "
   ]
  },
  {
   "cell_type": "code",
   "execution_count": 16,
   "metadata": {},
   "outputs": [
    {
     "data": {
      "text/html": [
       "<div>\n",
       "<style scoped>\n",
       "    .dataframe tbody tr th:only-of-type {\n",
       "        vertical-align: middle;\n",
       "    }\n",
       "\n",
       "    .dataframe tbody tr th {\n",
       "        vertical-align: top;\n",
       "    }\n",
       "\n",
       "    .dataframe thead th {\n",
       "        text-align: right;\n",
       "    }\n",
       "</style>\n",
       "<table border=\"1\" class=\"dataframe\">\n",
       "  <thead>\n",
       "    <tr style=\"text-align: right;\">\n",
       "      <th></th>\n",
       "      <th>Sample</th>\n",
       "      <th>Barcode</th>\n",
       "      <th>DemuxType_crispr</th>\n",
       "      <th>DemuxAssignment_crispr</th>\n",
       "      <th>DemuxType_hashing</th>\n",
       "      <th>DemuxAssignment_hashing</th>\n",
       "      <th>cellline</th>\n",
       "      <th>timepoint</th>\n",
       "      <th>HTO</th>\n",
       "      <th>NGS_ID</th>\n",
       "      <th>...</th>\n",
       "      <th>n_genes_by_counts</th>\n",
       "      <th>total_counts</th>\n",
       "      <th>total_counts_mt</th>\n",
       "      <th>pct_counts_mt</th>\n",
       "      <th>total_counts_ribo</th>\n",
       "      <th>pct_counts_ribo</th>\n",
       "      <th>qc_pass</th>\n",
       "      <th>S_score</th>\n",
       "      <th>G2M_score</th>\n",
       "      <th>phase</th>\n",
       "    </tr>\n",
       "  </thead>\n",
       "  <tbody>\n",
       "  </tbody>\n",
       "</table>\n",
       "<p>0 rows × 26 columns</p>\n",
       "</div>"
      ],
      "text/plain": [
       "Empty DataFrame\n",
       "Columns: [Sample, Barcode, DemuxType_crispr, DemuxAssignment_crispr, DemuxType_hashing, DemuxAssignment_hashing, cellline, timepoint, HTO, NGS_ID, Biological_replicate, 10Xrun, sublibrary, gRNA_library_MOI, gene_symbol, class, n_genes_by_counts, total_counts, total_counts_mt, pct_counts_mt, total_counts_ribo, pct_counts_ribo, qc_pass, S_score, G2M_score, phase]\n",
       "Index: []\n",
       "\n",
       "[0 rows x 26 columns]"
      ]
     },
     "execution_count": 16,
     "metadata": {},
     "output_type": "execute_result"
    }
   ],
   "source": [
    "concat_2.obs[concat_2.obs['gene_symbol']=='unknown']"
   ]
  },
  {
   "cell_type": "code",
   "execution_count": 17,
   "metadata": {},
   "outputs": [],
   "source": [
    "concat_2.write(\"/gstore/scratch/u/ghaffars/Dataset/crc_NGS5570/concat_filtered.h5ad\")"
   ]
  },
  {
   "cell_type": "code",
   "execution_count": 13,
   "metadata": {},
   "outputs": [],
   "source": [
    "concat_sublib4 = ad.concat([concat,concat_2],join='outer')"
   ]
  },
  {
   "cell_type": "code",
   "execution_count": 14,
   "metadata": {},
   "outputs": [
    {
     "data": {
      "text/plain": [
       "AnnData object with n_obs × n_vars = 446413 × 36603\n",
       "    obs: 'Sample', 'Barcode', 'DemuxType_crispr', 'DemuxAssignment_crispr', 'DemuxType_hashing', 'DemuxAssignment_hashing', 'cellline', 'timepoint', 'HTO', 'NGS_ID', 'Biological_replicate', '10Xrun', 'sublibrary', 'gRNA_library_MOI', 'gene_symbol', 'class', 'n_genes_by_counts', 'total_counts', 'total_counts_mt', 'pct_counts_mt', 'total_counts_ribo', 'pct_counts_ribo', 'qc_pass', 'S_score', 'G2M_score', 'phase'\n",
       "    layers: 'counts'"
      ]
     },
     "execution_count": 14,
     "metadata": {},
     "output_type": "execute_result"
    }
   ],
   "source": [
    "concat_sublib4"
   ]
  },
  {
   "cell_type": "code",
   "execution_count": 15,
   "metadata": {},
   "outputs": [],
   "source": [
    "concat_sublib4.var[\"Symbol\"] = concat_sublib4.var.index.copy()"
   ]
  },
  {
   "cell_type": "code",
   "execution_count": 18,
   "metadata": {},
   "outputs": [],
   "source": [
    "concat_sublib4.write(\"/gstore/scratch/u/ghaffars/Dataset/sublib4/raw_qc.h5ad\")"
   ]
  },
  {
   "cell_type": "markdown",
   "metadata": {},
   "source": [
    "## Upload to DSDB"
   ]
  },
  {
   "cell_type": "code",
   "execution_count": null,
   "metadata": {},
   "outputs": [],
   "source": [
    "concat_sublib4= sc.read(\"/gstore/scratch/u/ghaffars/Dataset/sublib4/raw_qc.h5ad\")"
   ]
  },
  {
   "cell_type": "code",
   "execution_count": 3,
   "metadata": {},
   "outputs": [],
   "source": [
    "#concat_sublib4= ad.read_h5ad(\"/gstore/scratch/u/ghaffars/Dataset/sublib4/raw_qc.h5ad\")"
   ]
  },
  {
   "cell_type": "code",
   "execution_count": 4,
   "metadata": {},
   "outputs": [
    {
     "data": {
      "text/plain": [
       "AnnData object with n_obs × n_vars = 446413 × 36603\n",
       "    obs: 'Sample', 'Barcode', 'DemuxType_crispr', 'DemuxAssignment_crispr', 'DemuxType_hashing', 'DemuxAssignment_hashing', 'cellline', 'timepoint', 'HTO', 'NGS_ID', 'Biological_replicate', '10Xrun', 'sublibrary', 'gRNA_library_MOI', 'gene_symbol', 'class', 'n_genes_by_counts', 'total_counts', 'total_counts_mt', 'pct_counts_mt', 'total_counts_ribo', 'pct_counts_ribo', 'qc_pass', 'S_score', 'G2M_score', 'phase'\n",
       "    var: 'Symbol'\n",
       "    layers: 'counts'"
      ]
     },
     "execution_count": 4,
     "metadata": {},
     "output_type": "execute_result"
    }
   ],
   "source": [
    "concat_sublib4"
   ]
  },
  {
   "cell_type": "code",
   "execution_count": 5,
   "metadata": {},
   "outputs": [],
   "source": [
    "adatas_updated={}"
   ]
  },
  {
   "cell_type": "code",
   "execution_count": 6,
   "metadata": {},
   "outputs": [],
   "source": [
    "new_experiment = \"raw_qc\"\n",
    "DEV = False\n",
    "title = \"Recursion DLD1 Library4 Screen Day 5- combination of NGS 5570 and NGS 5704\"\n",
    "description = \"Production scale screen in DLD-1 cells with 1/4 of the genome-wide CRISPR library (sub-lib-4, ~22K guides). 1 time point: Day-5. We performed 12 rxns of 10x 3' HT kit with an estimated loading of 52K cells.We performed a pilot study to test the library quality before the production-level sequencing(NGS5703). We will submit 36 libraries (12 GEX, 12 HTO and 12 sgRNA) We estimate needing - 600M per GEX, - 20M per HTO and - 50M per sgRNA libraries now that we have analyzed the QC run. This run is to add additional cells needed for analysis.\"\n",
    "name_space = [{\"id\": \"GRCh38\", \"type\": \"genome\"}]\n",
    "organism = f\"human\"\n",
    "sources = [{\"id\": \"sublib4\", \"name\": \"Recursion DLD1\"}]\n",
    "tech_name = \"scRNA-seq\"\n",
    "author = \"SG\""
   ]
  },
  {
   "cell_type": "code",
   "execution_count": 7,
   "metadata": {},
   "outputs": [],
   "source": [
    "import pydsdb\n",
    "import multiassayexperiment as mae\n",
    "import singlecellexperiment as sce\n",
    "import pandas as pd\n",
    "from gpauth import GPAuth"
   ]
  },
  {
   "cell_type": "code",
   "execution_count": 8,
   "metadata": {},
   "outputs": [],
   "source": [
    "from multiassayexperiment import makeMAE"
   ]
  },
  {
   "cell_type": "code",
   "execution_count": 9,
   "metadata": {},
   "outputs": [],
   "source": [
    "sExpt = sce.fromAnnData(concat_sublib4)"
   ]
  },
  {
   "cell_type": "code",
   "execution_count": 10,
   "metadata": {},
   "outputs": [
    {
     "name": "stdout",
     "output_type": "stream",
     "text": [
      "Class SingleCellExperiment with 36603 features and 446413 cells \n",
      "  mainExperimentName: None \n",
      "  assays: ['counts', 'X'] \n",
      "  features: Index(['Symbol'], dtype='object') \n",
      "  cell annotations: Index(['Sample', 'Barcode', 'DemuxType_crispr', 'DemuxAssignment_crispr',\n",
      "       'DemuxType_hashing', 'DemuxAssignment_hashing', 'cellline', 'timepoint',\n",
      "       'HTO', 'NGS_ID', 'Biological_replicate', '10Xrun', 'sublibrary',\n",
      "       'gRNA_library_MOI', 'gene_symbol', 'class', 'n_genes_by_counts',\n",
      "       'total_counts', 'total_counts_mt', 'pct_counts_mt', 'total_counts_ribo',\n",
      "       'pct_counts_ribo', 'qc_pass', 'S_score', 'G2M_score', 'phase'],\n",
      "      dtype='object') \n",
      "  reduced dimensions: None \n",
      "  alternative experiments: None\n"
     ]
    }
   ],
   "source": [
    "print(sExpt)"
   ]
  },
  {
   "cell_type": "code",
   "execution_count": 11,
   "metadata": {},
   "outputs": [],
   "source": [
    "scr_metadata = pydsdb.create_scr_metadata(\n",
    "    description=description,\n",
    "    name_space=name_space,\n",
    "    organism=organism,\n",
    "    sources=sources,\n",
    "    technology_name=tech_name,\n",
    "    title=title,\n",
    "    # other optional metadata\n",
    ")"
   ]
  },
  {
   "cell_type": "code",
   "execution_count": 12,
   "metadata": {},
   "outputs": [],
   "source": [
    "pydsdb.add_metadata(sExpt, scr_metadata)"
   ]
  },
  {
   "cell_type": "code",
   "execution_count": 13,
   "metadata": {},
   "outputs": [],
   "source": [
    "# prepare dataset level metadata\n",
    "dataset_metadata = pydsdb.create_dataset_metadata(\n",
    "    description=(\"Recursion DLD1 Library4 Screen Day 5- combination of NGS 5570 and NGS 5704\"),\n",
    "    title=\"Production scale screen in DLD-1 cells with 1/4 of the genome-wide CRISPR library (sub-lib-4, ~22K guides). 1 time point: Day-5. We performed 12 rxns of 10x 3' HT kit with an estimated loading of 52K cells.We performed a pilot study to test the library quality before the production-level sequencing(NGS5703). We will submit 36 libraries (12 GEX, 12 HTO and 12 sgRNA) We estimate needing - 600M per GEX, - 20M per HTO and - 50M per sgRNA libraries now that we have analyzed the QC run. This run is to add additional cells needed for analysis.\",\n",
    "    authors=\"ghaffars\",\n",
    ")"
   ]
  },
  {
   "cell_type": "code",
   "execution_count": 14,
   "metadata": {},
   "outputs": [
    {
     "name": "stderr",
     "output_type": "stream",
     "text": [
      "/apps/user/gpy/envs/dev/GPy39/lib/python3.9/site-packages/multiassayexperiment/MultiAssayExperiment.py:127: FutureWarning: In a future version of pandas, a length 1 tuple will be returned when iterating over a groupby with a grouper equal to a list of length 1. Don't supply a list with a single grouper to avoid this warning.\n",
      "  for group, rows in agroups:\n"
     ]
    }
   ],
   "source": [
    "obj = makeMAE({\"raw_qc\": sExpt})"
   ]
  },
  {
   "cell_type": "code",
   "execution_count": 15,
   "metadata": {},
   "outputs": [],
   "source": [
    "# attach dataset level metadata\n",
    "pydsdb.add_metadata(obj, dataset_metadata)"
   ]
  },
  {
   "cell_type": "code",
   "execution_count": 16,
   "metadata": {},
   "outputs": [],
   "source": [
    "upload = pydsdb.Upload(obj,file_size_limit = \"64 GiB\")"
   ]
  },
  {
   "cell_type": "code",
   "execution_count": 17,
   "metadata": {},
   "outputs": [],
   "source": [
    "permissions = pydsdb.create_permissions_info()"
   ]
  },
  {
   "cell_type": "code",
   "execution_count": 18,
   "metadata": {},
   "outputs": [
    {
     "name": "stdout",
     "output_type": "stream",
     "text": [
      "11:47:44 -> Collating and validating project resources.\n",
      "11:47:44 -> Attempting upload.\n"
     ]
    },
    {
     "name": "stderr",
     "output_type": "stream",
     "text": [
      "100%|████████████████████████████████████████| 50/50 [06:15<00:00,  7.52s/file] \n"
     ]
    },
    {
     "name": "stdout",
     "output_type": "stream",
     "text": [
      "Clearing upload info.\n",
      "11:54:05 -> Upload completed.\n",
      "Processing...\n",
      "Processing...\n",
      "Processing...\n",
      "Upload successful, your DSID is 'DS000016647' and version is: '1'. Also written to 'upload_info.json' in staging dir.\n"
     ]
    }
   ],
   "source": [
    "dsid, version = upload.submit(auth,permissions, dev=DEV, test=False, mode=\"sts:boto3\")"
   ]
  },
  {
   "cell_type": "code",
   "execution_count": null,
   "metadata": {},
   "outputs": [],
   "source": []
  }
 ],
 "metadata": {
  "kernelspec": {
   "display_name": "Dev/GPy39",
   "language": "python",
   "name": "gpy39-dev"
  },
  "language_info": {
   "codemirror_mode": {
    "name": "ipython",
    "version": 3
   },
   "file_extension": ".py",
   "mimetype": "text/x-python",
   "name": "python",
   "nbconvert_exporter": "python",
   "pygments_lexer": "ipython3",
   "version": "3.9.15"
  },
  "widgets": {
   "application/vnd.jupyter.widget-state+json": {
    "state": {},
    "version_major": 2,
    "version_minor": 0
   }
  }
 },
 "nbformat": 4,
 "nbformat_minor": 4
}
